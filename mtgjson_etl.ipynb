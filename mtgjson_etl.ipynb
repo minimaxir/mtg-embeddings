{
 "cells": [
  {
   "cell_type": "code",
   "execution_count": 1,
   "metadata": {},
   "outputs": [],
   "source": [
    "import polars as pl"
   ]
  },
  {
   "cell_type": "markdown",
   "metadata": {},
   "source": [
    "https://github.com/minimaxir/ai-generated-magic-cards/blob/master/mtgjson_encoder.py\n"
   ]
  },
  {
   "cell_type": "code",
   "execution_count": 16,
   "metadata": {},
   "outputs": [
    {
     "data": {
      "text/html": [
       "<div><style>\n",
       ".dataframe > thead > tr,\n",
       ".dataframe > tbody > tr {\n",
       "  text-align: right;\n",
       "  white-space: pre-wrap;\n",
       "}\n",
       "</style>\n",
       "<small>shape: (82_357, 9)</small><table border=\"1\" class=\"dataframe\"><thead><tr><th>name</th><th>manaCost</th><th>type</th><th>text</th><th>power</th><th>toughness</th><th>loyalty</th><th>rarity</th><th>setCode</th></tr><tr><td>str</td><td>str</td><td>str</td><td>str</td><td>str</td><td>str</td><td>str</td><td>str</td><td>str</td></tr></thead><tbody><tr><td>&quot;&quot;Ach! Hans, Run!&quot;&quot;</td><td>&quot;{2}{R}{R}{G}{G}&quot;</td><td>&quot;Enchantment&quot;</td><td>&quot;At the beginning of your upkee…</td><td>null</td><td>null</td><td>null</td><td>&quot;rare&quot;</td><td>&quot;UNH&quot;</td></tr><tr><td>&quot;&quot;Brims&quot; Barone, Midway Mobster&quot;</td><td>&quot;{3}{W}{B}&quot;</td><td>&quot;Legendary Creature — Human Rog…</td><td>&quot;When &quot;Brims&quot; Barone, Midway Mo…</td><td>&quot;5&quot;</td><td>&quot;4&quot;</td><td>null</td><td>&quot;uncommon&quot;</td><td>&quot;UNF&quot;</td></tr><tr><td>&quot;&quot;Intimidation Tactics&quot;&quot;</td><td>&quot;{B}&quot;</td><td>&quot;Sorcery&quot;</td><td>&quot;Target opponent reveals their …</td><td>null</td><td>null</td><td>null</td><td>&quot;uncommon&quot;</td><td>&quot;DFT&quot;</td></tr><tr><td>&quot;&quot;Lifetime&quot; Pass Holder&quot;</td><td>&quot;{B}&quot;</td><td>&quot;Creature — Zombie Guest&quot;</td><td>&quot;&quot;Lifetime&quot; Pass Holder enters …</td><td>&quot;2&quot;</td><td>&quot;1&quot;</td><td>null</td><td>&quot;rare&quot;</td><td>&quot;UNF&quot;</td></tr><tr><td>&quot;&quot;Name Sticker&quot; Goblin&quot;</td><td>&quot;{2}{R}&quot;</td><td>&quot;Creature — Goblin Guest&quot;</td><td>&quot;When this creature enters from…</td><td>&quot;2&quot;</td><td>&quot;2&quot;</td><td>null</td><td>&quot;common&quot;</td><td>&quot;UNF&quot;</td></tr><tr><td>&hellip;</td><td>&hellip;</td><td>&hellip;</td><td>&hellip;</td><td>&hellip;</td><td>&hellip;</td><td>&hellip;</td><td>&hellip;</td><td>&hellip;</td></tr><tr><td>&quot;Éomer, Marshal of Rohan&quot;</td><td>&quot;{2}{R}{R}&quot;</td><td>&quot;Legendary Creature — Human Kni…</td><td>&quot;Haste\\nWhenever one or more ot…</td><td>&quot;4&quot;</td><td>&quot;4&quot;</td><td>null</td><td>&quot;rare&quot;</td><td>&quot;PLTR&quot;</td></tr><tr><td>&quot;Éowyn, Fearless Knight&quot;</td><td>&quot;{2}{R}{W}&quot;</td><td>&quot;Legendary Creature — Human Kni…</td><td>&quot;Haste\\nWhen Éowyn, Fearless Kn…</td><td>&quot;3&quot;</td><td>&quot;4&quot;</td><td>null</td><td>&quot;rare&quot;</td><td>&quot;PLTR&quot;</td></tr><tr><td>&quot;Éowyn, Fearless Knight&quot;</td><td>&quot;{2}{R}{W}&quot;</td><td>&quot;Legendary Creature — Human Kni…</td><td>&quot;Haste\\nWhen Éowyn, Fearless Kn…</td><td>&quot;3&quot;</td><td>&quot;4&quot;</td><td>null</td><td>&quot;rare&quot;</td><td>&quot;LTR&quot;</td></tr><tr><td>&quot;Éowyn, Lady of Rohan&quot;</td><td>&quot;{2}{W}&quot;</td><td>&quot;Legendary Creature — Human Nob…</td><td>&quot;At the beginning of combat on …</td><td>&quot;2&quot;</td><td>&quot;4&quot;</td><td>null</td><td>&quot;uncommon&quot;</td><td>&quot;LTR&quot;</td></tr><tr><td>&quot;Éowyn, Shieldmaiden&quot;</td><td>&quot;{2}{U}{R}{W}&quot;</td><td>&quot;Legendary Creature — Human Kni…</td><td>&quot;First strike\\nAt the beginning…</td><td>&quot;5&quot;</td><td>&quot;4&quot;</td><td>null</td><td>&quot;mythic&quot;</td><td>&quot;LTC&quot;</td></tr></tbody></table></div>"
      ],
      "text/plain": [
       "shape: (82_357, 9)\n",
       "┌────────────┬────────────┬────────────┬────────────┬───┬───────────┬─────────┬──────────┬─────────┐\n",
       "│ name       ┆ manaCost   ┆ type       ┆ text       ┆ … ┆ toughness ┆ loyalty ┆ rarity   ┆ setCode │\n",
       "│ ---        ┆ ---        ┆ ---        ┆ ---        ┆   ┆ ---       ┆ ---     ┆ ---      ┆ ---     │\n",
       "│ str        ┆ str        ┆ str        ┆ str        ┆   ┆ str       ┆ str     ┆ str      ┆ str     │\n",
       "╞════════════╪════════════╪════════════╪════════════╪═══╪═══════════╪═════════╪══════════╪═════════╡\n",
       "│ \"Ach!      ┆ {2}{R}{R}{ ┆ Enchantmen ┆ At the     ┆ … ┆ null      ┆ null    ┆ rare     ┆ UNH     │\n",
       "│ Hans,      ┆ G}{G}      ┆ t          ┆ beginning  ┆   ┆           ┆         ┆          ┆         │\n",
       "│ Run!\"      ┆            ┆            ┆ of your    ┆   ┆           ┆         ┆          ┆         │\n",
       "│            ┆            ┆            ┆ upkee…     ┆   ┆           ┆         ┆          ┆         │\n",
       "│ \"Brims\"    ┆ {3}{W}{B}  ┆ Legendary  ┆ When       ┆ … ┆ 4         ┆ null    ┆ uncommon ┆ UNF     │\n",
       "│ Barone,    ┆            ┆ Creature — ┆ \"Brims\"    ┆   ┆           ┆         ┆          ┆         │\n",
       "│ Midway     ┆            ┆ Human Rog… ┆ Barone,    ┆   ┆           ┆         ┆          ┆         │\n",
       "│ Mobster    ┆            ┆            ┆ Midway Mo… ┆   ┆           ┆         ┆          ┆         │\n",
       "│ \"Intimidat ┆ {B}        ┆ Sorcery    ┆ Target     ┆ … ┆ null      ┆ null    ┆ uncommon ┆ DFT     │\n",
       "│ ion        ┆            ┆            ┆ opponent   ┆   ┆           ┆         ┆          ┆         │\n",
       "│ Tactics\"   ┆            ┆            ┆ reveals    ┆   ┆           ┆         ┆          ┆         │\n",
       "│            ┆            ┆            ┆ their …    ┆   ┆           ┆         ┆          ┆         │\n",
       "│ \"Lifetime\" ┆ {B}        ┆ Creature — ┆ \"Lifetime\" ┆ … ┆ 1         ┆ null    ┆ rare     ┆ UNF     │\n",
       "│ Pass       ┆            ┆ Zombie     ┆ Pass       ┆   ┆           ┆         ┆          ┆         │\n",
       "│ Holder     ┆            ┆ Guest      ┆ Holder     ┆   ┆           ┆         ┆          ┆         │\n",
       "│            ┆            ┆            ┆ enters …   ┆   ┆           ┆         ┆          ┆         │\n",
       "│ \"Name      ┆ {2}{R}     ┆ Creature — ┆ When this  ┆ … ┆ 2         ┆ null    ┆ common   ┆ UNF     │\n",
       "│ Sticker\"   ┆            ┆ Goblin     ┆ creature   ┆   ┆           ┆         ┆          ┆         │\n",
       "│ Goblin     ┆            ┆ Guest      ┆ enters     ┆   ┆           ┆         ┆          ┆         │\n",
       "│            ┆            ┆            ┆ from…      ┆   ┆           ┆         ┆          ┆         │\n",
       "│ …          ┆ …          ┆ …          ┆ …          ┆ … ┆ …         ┆ …       ┆ …        ┆ …       │\n",
       "│ Éomer,     ┆ {2}{R}{R}  ┆ Legendary  ┆ Haste\\nWhe ┆ … ┆ 4         ┆ null    ┆ rare     ┆ PLTR    │\n",
       "│ Marshal of ┆            ┆ Creature — ┆ never one  ┆   ┆           ┆         ┆          ┆         │\n",
       "│ Rohan      ┆            ┆ Human Kni… ┆ or more    ┆   ┆           ┆         ┆          ┆         │\n",
       "│            ┆            ┆            ┆ ot…        ┆   ┆           ┆         ┆          ┆         │\n",
       "│ Éowyn,     ┆ {2}{R}{W}  ┆ Legendary  ┆ Haste\\nWhe ┆ … ┆ 4         ┆ null    ┆ rare     ┆ PLTR    │\n",
       "│ Fearless   ┆            ┆ Creature — ┆ n Éowyn,   ┆   ┆           ┆         ┆          ┆         │\n",
       "│ Knight     ┆            ┆ Human Kni… ┆ Fearless   ┆   ┆           ┆         ┆          ┆         │\n",
       "│            ┆            ┆            ┆ Kn…        ┆   ┆           ┆         ┆          ┆         │\n",
       "│ Éowyn,     ┆ {2}{R}{W}  ┆ Legendary  ┆ Haste\\nWhe ┆ … ┆ 4         ┆ null    ┆ rare     ┆ LTR     │\n",
       "│ Fearless   ┆            ┆ Creature — ┆ n Éowyn,   ┆   ┆           ┆         ┆          ┆         │\n",
       "│ Knight     ┆            ┆ Human Kni… ┆ Fearless   ┆   ┆           ┆         ┆          ┆         │\n",
       "│            ┆            ┆            ┆ Kn…        ┆   ┆           ┆         ┆          ┆         │\n",
       "│ Éowyn,     ┆ {2}{W}     ┆ Legendary  ┆ At the     ┆ … ┆ 4         ┆ null    ┆ uncommon ┆ LTR     │\n",
       "│ Lady of    ┆            ┆ Creature — ┆ beginning  ┆   ┆           ┆         ┆          ┆         │\n",
       "│ Rohan      ┆            ┆ Human Nob… ┆ of combat  ┆   ┆           ┆         ┆          ┆         │\n",
       "│            ┆            ┆            ┆ on …       ┆   ┆           ┆         ┆          ┆         │\n",
       "│ Éowyn, Shi ┆ {2}{U}{R}{ ┆ Legendary  ┆ First      ┆ … ┆ 4         ┆ null    ┆ mythic   ┆ LTC     │\n",
       "│ eldmaiden  ┆ W}         ┆ Creature — ┆ strike\\nAt ┆   ┆           ┆         ┆          ┆         │\n",
       "│            ┆            ┆ Human Kni… ┆ the        ┆   ┆           ┆         ┆          ┆         │\n",
       "│            ┆            ┆            ┆ beginning… ┆   ┆           ┆         ┆          ┆         │\n",
       "└────────────┴────────────┴────────────┴────────────┴───┴───────────┴─────────┴──────────┴─────────┘"
      ]
     },
     "execution_count": 16,
     "metadata": {},
     "output_type": "execute_result"
    }
   ],
   "source": [
    "FIELDS = [\n",
    "    \"name\",\n",
    "    \"manaCost\",\n",
    "    \"type\",\n",
    "    \"text\",\n",
    "    \"power\",\n",
    "    \"toughness\",\n",
    "    \"loyalty\",\n",
    "    \"rarity\",\n",
    "    \"setCode\",\n",
    "]\n",
    "\n",
    "\n",
    "df_cards = (\n",
    "    pl.read_parquet(\"/Users/maxwoolf/Downloads/AllPrintingsParquetFiles/cards.parquet\")\n",
    "    .filter(pl.col(\"type\") != \"Vanguard\")\n",
    "    .select(FIELDS)\n",
    "    .unique()\n",
    "    .sort(\"name\")\n",
    ")\n",
    "\n",
    "df_cards"
   ]
  },
  {
   "cell_type": "code",
   "execution_count": 20,
   "metadata": {},
   "outputs": [
    {
     "data": {
      "text/plain": [
       "['common', 'bonus', 'special', 'rare', 'mythic', 'uncommon']"
      ]
     },
     "execution_count": 20,
     "metadata": {},
     "output_type": "execute_result"
    }
   ],
   "source": [
    "df_cards[\"rarity\"].unique().to_list()"
   ]
  },
  {
   "cell_type": "markdown",
   "metadata": {},
   "source": [
    "Get Sets data (will need to build a `Enum` for ordering)\n"
   ]
  },
  {
   "cell_type": "code",
   "execution_count": 17,
   "metadata": {},
   "outputs": [
    {
     "data": {
      "text/html": [
       "<div><style>\n",
       ".dataframe > thead > tr,\n",
       ".dataframe > tbody > tr {\n",
       "  text-align: right;\n",
       "  white-space: pre-wrap;\n",
       "}\n",
       "</style>\n",
       "<small>shape: (784, 4)</small><table border=\"1\" class=\"dataframe\"><thead><tr><th>tcgplayerGroupId</th><th>name</th><th>code</th><th>releaseDate</th></tr><tr><td>f64</td><td>str</td><td>str</td><td>str</td></tr></thead><tbody><tr><td>7.0</td><td>&quot;Limited Edition Alpha&quot;</td><td>&quot;LEA&quot;</td><td>&quot;1993-08-05&quot;</td></tr><tr><td>17.0</td><td>&quot;Limited Edition Beta&quot;</td><td>&quot;LEB&quot;</td><td>&quot;1993-10-04&quot;</td></tr><tr><td>115.0</td><td>&quot;Unlimited Edition&quot;</td><td>&quot;2ED&quot;</td><td>&quot;1993-12-01&quot;</td></tr><tr><td>1526.0</td><td>&quot;Collectors&#x27; Edition&quot;</td><td>&quot;CED&quot;</td><td>&quot;1993-12-10&quot;</td></tr><tr><td>1527.0</td><td>&quot;Intl. Collectors&#x27; Edition&quot;</td><td>&quot;CEI&quot;</td><td>&quot;1993-12-10&quot;</td></tr><tr><td>&hellip;</td><td>&hellip;</td><td>&hellip;</td><td>&hellip;</td></tr><tr><td>23848.0</td><td>&quot;Innistrad Remastered&quot;</td><td>&quot;INR&quot;</td><td>&quot;2025-01-24&quot;</td></tr><tr><td>null</td><td>&quot;Japan Standard Cup&quot;</td><td>&quot;PJSC&quot;</td><td>&quot;2025-02-09&quot;</td></tr><tr><td>null</td><td>&quot;Aetherdrift Promos&quot;</td><td>&quot;PDFT&quot;</td><td>&quot;2025-02-14&quot;</td></tr><tr><td>23874.0</td><td>&quot;Aetherdrift&quot;</td><td>&quot;DFT&quot;</td><td>&quot;2025-02-14&quot;</td></tr><tr><td>23929.0</td><td>&quot;Aetherdrift Commander&quot;</td><td>&quot;DRC&quot;</td><td>&quot;2025-02-14&quot;</td></tr></tbody></table></div>"
      ],
      "text/plain": [
       "shape: (784, 4)\n",
       "┌──────────────────┬───────────────────────────┬──────┬─────────────┐\n",
       "│ tcgplayerGroupId ┆ name                      ┆ code ┆ releaseDate │\n",
       "│ ---              ┆ ---                       ┆ ---  ┆ ---         │\n",
       "│ f64              ┆ str                       ┆ str  ┆ str         │\n",
       "╞══════════════════╪═══════════════════════════╪══════╪═════════════╡\n",
       "│ 7.0              ┆ Limited Edition Alpha     ┆ LEA  ┆ 1993-08-05  │\n",
       "│ 17.0             ┆ Limited Edition Beta      ┆ LEB  ┆ 1993-10-04  │\n",
       "│ 115.0            ┆ Unlimited Edition         ┆ 2ED  ┆ 1993-12-01  │\n",
       "│ 1526.0           ┆ Collectors' Edition       ┆ CED  ┆ 1993-12-10  │\n",
       "│ 1527.0           ┆ Intl. Collectors' Edition ┆ CEI  ┆ 1993-12-10  │\n",
       "│ …                ┆ …                         ┆ …    ┆ …           │\n",
       "│ 23848.0          ┆ Innistrad Remastered      ┆ INR  ┆ 2025-01-24  │\n",
       "│ null             ┆ Japan Standard Cup        ┆ PJSC ┆ 2025-02-09  │\n",
       "│ null             ┆ Aetherdrift Promos        ┆ PDFT ┆ 2025-02-14  │\n",
       "│ 23874.0          ┆ Aetherdrift               ┆ DFT  ┆ 2025-02-14  │\n",
       "│ 23929.0          ┆ Aetherdrift Commander     ┆ DRC  ┆ 2025-02-14  │\n",
       "└──────────────────┴───────────────────────────┴──────┴─────────────┘"
      ]
     },
     "execution_count": 17,
     "metadata": {},
     "output_type": "execute_result"
    }
   ],
   "source": [
    "df_sets = (\n",
    "    pl.read_parquet(\"/Users/maxwoolf/Downloads/AllPrintingsParquetFiles/sets.parquet\")\n",
    "    .select([\"tcgplayerGroupId\", \"name\", \"code\", \"releaseDate\"])\n",
    "    .unique()\n",
    "    .sort([\"releaseDate\", \"tcgplayerGroupId\"])\n",
    ")\n",
    "df_sets"
   ]
  },
  {
   "cell_type": "code",
   "execution_count": null,
   "metadata": {},
   "outputs": [],
   "source": [
    "rarity_enum = pl.Enum([\"common\", \"uncommon\", \"rare\", \"mythic\", \"bonus\", \"special\"])\n",
    "sets_enum = pl.Enum(df_sets[\"code\"])"
   ]
  },
  {
   "cell_type": "markdown",
   "metadata": {},
   "source": [
    "https://stackoverflow.com/a/73427426\n"
   ]
  },
  {
   "cell_type": "code",
   "execution_count": 30,
   "metadata": {},
   "outputs": [
    {
     "data": {
      "text/html": [
       "<div><style>\n",
       ".dataframe > thead > tr,\n",
       ".dataframe > tbody > tr {\n",
       "  text-align: right;\n",
       "  white-space: pre-wrap;\n",
       "}\n",
       "</style>\n",
       "<small>shape: (31_650, 8)</small><table border=\"1\" class=\"dataframe\"><thead><tr><th>name</th><th>manaCost</th><th>type</th><th>text</th><th>power</th><th>toughness</th><th>rarities</th><th>sets</th></tr><tr><td>str</td><td>str</td><td>str</td><td>str</td><td>str</td><td>str</td><td>list[enum]</td><td>list[enum]</td></tr></thead><tbody><tr><td>&quot;&quot;Ach! Hans, Run!&quot;&quot;</td><td>&quot;{2}{R}{R}{G}{G}&quot;</td><td>&quot;Enchantment&quot;</td><td>&quot;At the beginning of your upkee…</td><td>null</td><td>null</td><td>[&quot;rare&quot;]</td><td>[&quot;UNH&quot;]</td></tr><tr><td>&quot;&quot;Brims&quot; Barone, Midway Mobster&quot;</td><td>&quot;{3}{W}{B}&quot;</td><td>&quot;Legendary Creature — Human Rog…</td><td>&quot;When &quot;Brims&quot; Barone, Midway Mo…</td><td>&quot;5&quot;</td><td>&quot;4&quot;</td><td>[&quot;uncommon&quot;]</td><td>[&quot;UNF&quot;]</td></tr><tr><td>&quot;&quot;Intimidation Tactics&quot;&quot;</td><td>&quot;{B}&quot;</td><td>&quot;Sorcery&quot;</td><td>&quot;Target opponent reveals their …</td><td>null</td><td>null</td><td>[&quot;uncommon&quot;]</td><td>[&quot;DFT&quot;]</td></tr><tr><td>&quot;&quot;Lifetime&quot; Pass Holder&quot;</td><td>&quot;{B}&quot;</td><td>&quot;Creature — Zombie Guest&quot;</td><td>&quot;&quot;Lifetime&quot; Pass Holder enters …</td><td>&quot;2&quot;</td><td>&quot;1&quot;</td><td>[&quot;rare&quot;]</td><td>[&quot;UNF&quot;]</td></tr><tr><td>&quot;&quot;Name Sticker&quot; Goblin&quot;</td><td>&quot;{2}{R}&quot;</td><td>&quot;Creature — Goblin Guest&quot;</td><td>&quot;When this creature enters from…</td><td>&quot;2&quot;</td><td>&quot;2&quot;</td><td>[&quot;common&quot;]</td><td>[&quot;UNF&quot;]</td></tr><tr><td>&hellip;</td><td>&hellip;</td><td>&hellip;</td><td>&hellip;</td><td>&hellip;</td><td>&hellip;</td><td>&hellip;</td><td>&hellip;</td></tr><tr><td>&quot;Éomer, King of Rohan&quot;</td><td>&quot;{3}{R}{W}&quot;</td><td>&quot;Legendary Creature — Human Nob…</td><td>&quot;Double strike\\nÉomer, King of …</td><td>&quot;2&quot;</td><td>&quot;2&quot;</td><td>[&quot;rare&quot;]</td><td>[&quot;LTC&quot;]</td></tr><tr><td>&quot;Éomer, Marshal of Rohan&quot;</td><td>&quot;{2}{R}{R}&quot;</td><td>&quot;Legendary Creature — Human Kni…</td><td>&quot;Haste\\nWhenever one or more ot…</td><td>&quot;4&quot;</td><td>&quot;4&quot;</td><td>[&quot;rare&quot;]</td><td>[&quot;PLTR&quot;, &quot;LTR&quot;]</td></tr><tr><td>&quot;Éowyn, Fearless Knight&quot;</td><td>&quot;{2}{R}{W}&quot;</td><td>&quot;Legendary Creature — Human Kni…</td><td>&quot;Haste\\nWhen Éowyn, Fearless Kn…</td><td>&quot;3&quot;</td><td>&quot;4&quot;</td><td>[&quot;rare&quot;]</td><td>[&quot;PLTR&quot;, &quot;LTR&quot;]</td></tr><tr><td>&quot;Éowyn, Lady of Rohan&quot;</td><td>&quot;{2}{W}&quot;</td><td>&quot;Legendary Creature — Human Nob…</td><td>&quot;At the beginning of combat on …</td><td>&quot;2&quot;</td><td>&quot;4&quot;</td><td>[&quot;uncommon&quot;]</td><td>[&quot;LTR&quot;]</td></tr><tr><td>&quot;Éowyn, Shieldmaiden&quot;</td><td>&quot;{2}{U}{R}{W}&quot;</td><td>&quot;Legendary Creature — Human Kni…</td><td>&quot;First strike\\nAt the beginning…</td><td>&quot;5&quot;</td><td>&quot;4&quot;</td><td>[&quot;mythic&quot;]</td><td>[&quot;LTC&quot;]</td></tr></tbody></table></div>"
      ],
      "text/plain": [
       "shape: (31_650, 8)\n",
       "┌─────────────┬────────────┬────────────┬────────────┬───────┬───────────┬────────────┬────────────┐\n",
       "│ name        ┆ manaCost   ┆ type       ┆ text       ┆ power ┆ toughness ┆ rarities   ┆ sets       │\n",
       "│ ---         ┆ ---        ┆ ---        ┆ ---        ┆ ---   ┆ ---       ┆ ---        ┆ ---        │\n",
       "│ str         ┆ str        ┆ str        ┆ str        ┆ str   ┆ str       ┆ list[enum] ┆ list[enum] │\n",
       "╞═════════════╪════════════╪════════════╪════════════╪═══════╪═══════════╪════════════╪════════════╡\n",
       "│ \"Ach! Hans, ┆ {2}{R}{R}{ ┆ Enchantmen ┆ At the     ┆ null  ┆ null      ┆ [\"rare\"]   ┆ [\"UNH\"]    │\n",
       "│ Run!\"       ┆ G}{G}      ┆ t          ┆ beginning  ┆       ┆           ┆            ┆            │\n",
       "│             ┆            ┆            ┆ of your    ┆       ┆           ┆            ┆            │\n",
       "│             ┆            ┆            ┆ upkee…     ┆       ┆           ┆            ┆            │\n",
       "│ \"Brims\"     ┆ {3}{W}{B}  ┆ Legendary  ┆ When       ┆ 5     ┆ 4         ┆ [\"uncommon ┆ [\"UNF\"]    │\n",
       "│ Barone,     ┆            ┆ Creature — ┆ \"Brims\"    ┆       ┆           ┆ \"]         ┆            │\n",
       "│ Midway      ┆            ┆ Human Rog… ┆ Barone,    ┆       ┆           ┆            ┆            │\n",
       "│ Mobster     ┆            ┆            ┆ Midway Mo… ┆       ┆           ┆            ┆            │\n",
       "│ \"Intimidati ┆ {B}        ┆ Sorcery    ┆ Target     ┆ null  ┆ null      ┆ [\"uncommon ┆ [\"DFT\"]    │\n",
       "│ on Tactics\" ┆            ┆            ┆ opponent   ┆       ┆           ┆ \"]         ┆            │\n",
       "│             ┆            ┆            ┆ reveals    ┆       ┆           ┆            ┆            │\n",
       "│             ┆            ┆            ┆ their …    ┆       ┆           ┆            ┆            │\n",
       "│ \"Lifetime\"  ┆ {B}        ┆ Creature — ┆ \"Lifetime\" ┆ 2     ┆ 1         ┆ [\"rare\"]   ┆ [\"UNF\"]    │\n",
       "│ Pass Holder ┆            ┆ Zombie     ┆ Pass       ┆       ┆           ┆            ┆            │\n",
       "│             ┆            ┆ Guest      ┆ Holder     ┆       ┆           ┆            ┆            │\n",
       "│             ┆            ┆            ┆ enters …   ┆       ┆           ┆            ┆            │\n",
       "│ \"Name       ┆ {2}{R}     ┆ Creature — ┆ When this  ┆ 2     ┆ 2         ┆ [\"common\"] ┆ [\"UNF\"]    │\n",
       "│ Sticker\"    ┆            ┆ Goblin     ┆ creature   ┆       ┆           ┆            ┆            │\n",
       "│ Goblin      ┆            ┆ Guest      ┆ enters     ┆       ┆           ┆            ┆            │\n",
       "│             ┆            ┆            ┆ from…      ┆       ┆           ┆            ┆            │\n",
       "│ …           ┆ …          ┆ …          ┆ …          ┆ …     ┆ …         ┆ …          ┆ …          │\n",
       "│ Éomer, King ┆ {3}{R}{W}  ┆ Legendary  ┆ Double str ┆ 2     ┆ 2         ┆ [\"rare\"]   ┆ [\"LTC\"]    │\n",
       "│ of Rohan    ┆            ┆ Creature — ┆ ike\\nÉomer ┆       ┆           ┆            ┆            │\n",
       "│             ┆            ┆ Human Nob… ┆ , King of  ┆       ┆           ┆            ┆            │\n",
       "│             ┆            ┆            ┆ …          ┆       ┆           ┆            ┆            │\n",
       "│ Éomer,      ┆ {2}{R}{R}  ┆ Legendary  ┆ Haste\\nWhe ┆ 4     ┆ 4         ┆ [\"rare\"]   ┆ [\"PLTR\",   │\n",
       "│ Marshal of  ┆            ┆ Creature — ┆ never one  ┆       ┆           ┆            ┆ \"LTR\"]     │\n",
       "│ Rohan       ┆            ┆ Human Kni… ┆ or more    ┆       ┆           ┆            ┆            │\n",
       "│             ┆            ┆            ┆ ot…        ┆       ┆           ┆            ┆            │\n",
       "│ Éowyn,      ┆ {2}{R}{W}  ┆ Legendary  ┆ Haste\\nWhe ┆ 3     ┆ 4         ┆ [\"rare\"]   ┆ [\"PLTR\",   │\n",
       "│ Fearless    ┆            ┆ Creature — ┆ n Éowyn,   ┆       ┆           ┆            ┆ \"LTR\"]     │\n",
       "│ Knight      ┆            ┆ Human Kni… ┆ Fearless   ┆       ┆           ┆            ┆            │\n",
       "│             ┆            ┆            ┆ Kn…        ┆       ┆           ┆            ┆            │\n",
       "│ Éowyn, Lady ┆ {2}{W}     ┆ Legendary  ┆ At the     ┆ 2     ┆ 4         ┆ [\"uncommon ┆ [\"LTR\"]    │\n",
       "│ of Rohan    ┆            ┆ Creature — ┆ beginning  ┆       ┆           ┆ \"]         ┆            │\n",
       "│             ┆            ┆ Human Nob… ┆ of combat  ┆       ┆           ┆            ┆            │\n",
       "│             ┆            ┆            ┆ on …       ┆       ┆           ┆            ┆            │\n",
       "│ Éowyn, Shie ┆ {2}{U}{R}{ ┆ Legendary  ┆ First      ┆ 5     ┆ 4         ┆ [\"mythic\"] ┆ [\"LTC\"]    │\n",
       "│ ldmaiden    ┆ W}         ┆ Creature — ┆ strike\\nAt ┆       ┆           ┆            ┆            │\n",
       "│             ┆            ┆ Human Kni… ┆ the        ┆       ┆           ┆            ┆            │\n",
       "│             ┆            ┆            ┆ beginning… ┆       ┆           ┆            ┆            │\n",
       "└─────────────┴────────────┴────────────┴────────────┴───────┴───────────┴────────────┴────────────┘"
      ]
     },
     "execution_count": 30,
     "metadata": {},
     "output_type": "execute_result"
    }
   ],
   "source": [
    "df_cards_agg = (\n",
    "    df_cards.with_columns(\n",
    "        # text=pl.col(\"text\").str.replace_all(pl.col(\"name\"), \"~\"),\n",
    "        rarity=pl.col(\"rarity\").cast(rarity_enum),\n",
    "        setCode=pl.col(\"setCode\").cast(sets_enum),\n",
    "    )\n",
    "    .group_by(FIELDS[0:6])\n",
    "    .agg(rarities=pl.col(\"rarity\").unique(), sets=pl.col(\"setCode\").unique())\n",
    "    .sort(\"name\")\n",
    ")\n",
    "\n",
    "df_cards_agg"
   ]
  },
  {
   "cell_type": "markdown",
   "metadata": {},
   "source": [
    "Postprocess:\n",
    "\n",
    "- Remove card name in text and replace with `~`: cannot be vectorized in polars.\n",
    "- Set Basic Lands `sets` to `[*]`.\n"
   ]
  },
  {
   "cell_type": "code",
   "execution_count": 38,
   "metadata": {},
   "outputs": [
    {
     "ename": "ComputeError",
     "evalue": "regex error: regex parse error:\n    [\\\\^$.*+?()[\\]{}|]\n    ^\nerror: unclosed character class",
     "output_type": "error",
     "traceback": [
      "\u001b[0;31m---------------------------------------------------------------------------\u001b[0m",
      "\u001b[0;31mComputeError\u001b[0m                              Traceback (most recent call last)",
      "Cell \u001b[0;32mIn[38], line 1\u001b[0m\n\u001b[0;32m----> 1\u001b[0m df_cards_agg \u001b[38;5;241m=\u001b[39m \u001b[43mdf_cards_agg\u001b[49m\u001b[38;5;241;43m.\u001b[39;49m\u001b[43mwith_columns\u001b[49m\u001b[43m(\u001b[49m\n\u001b[1;32m      2\u001b[0m \u001b[43m    \u001b[49m\u001b[43mtext\u001b[49m\u001b[38;5;241;43m=\u001b[39;49m\u001b[43mpl\u001b[49m\u001b[38;5;241;43m.\u001b[39;49m\u001b[43mwhen\u001b[49m\u001b[43m(\u001b[49m\n\u001b[1;32m      3\u001b[0m \u001b[43m        \u001b[49m\u001b[43mpl\u001b[49m\u001b[38;5;241;43m.\u001b[39;49m\u001b[43mcol\u001b[49m\u001b[43m(\u001b[49m\u001b[38;5;124;43m\"\u001b[39;49m\u001b[38;5;124;43mtext\u001b[39;49m\u001b[38;5;124;43m\"\u001b[39;49m\u001b[43m)\u001b[49m\u001b[38;5;241;43m.\u001b[39;49m\u001b[43mstr\u001b[49m\u001b[38;5;241;43m.\u001b[39;49m\u001b[43mcontains\u001b[49m\u001b[43m(\u001b[49m\n\u001b[1;32m      4\u001b[0m \u001b[43m            \u001b[49m\u001b[43mpl\u001b[49m\u001b[38;5;241;43m.\u001b[39;49m\u001b[43mcol\u001b[49m\u001b[43m(\u001b[49m\u001b[38;5;124;43m\"\u001b[39;49m\u001b[38;5;124;43mname\u001b[39;49m\u001b[38;5;124;43m\"\u001b[39;49m\u001b[43m)\u001b[49m\u001b[38;5;241;43m.\u001b[39;49m\u001b[43mstr\u001b[49m\u001b[38;5;241;43m.\u001b[39;49m\u001b[43mreplace_all\u001b[49m\u001b[43m(\u001b[49m\u001b[38;5;124;43mr\u001b[39;49m\u001b[38;5;124;43m\"\u001b[39;49m\u001b[38;5;124;43m[\u001b[39;49m\u001b[38;5;130;43;01m\\\\\u001b[39;49;00m\u001b[38;5;124;43m^$.*+?()[\u001b[39;49m\u001b[38;5;124;43m\\\u001b[39;49m\u001b[38;5;124;43m]\u001b[39;49m\u001b[38;5;132;43;01m{}\u001b[39;49;00m\u001b[38;5;124;43m|]\u001b[39;49m\u001b[38;5;124;43m\"\u001b[39;49m\u001b[43m,\u001b[49m\u001b[43m \u001b[49m\u001b[38;5;124;43mr\u001b[39;49m\u001b[38;5;124;43m\"\u001b[39;49m\u001b[38;5;124;43m\\\u001b[39;49m\u001b[38;5;124;43m$0\u001b[39;49m\u001b[38;5;124;43m\"\u001b[39;49m\u001b[43m)\u001b[49m\u001b[43m,\u001b[49m\u001b[43m \u001b[49m\u001b[43mliteral\u001b[49m\u001b[38;5;241;43m=\u001b[39;49m\u001b[38;5;28;43;01mTrue\u001b[39;49;00m\n\u001b[1;32m      5\u001b[0m \u001b[43m        \u001b[49m\u001b[43m)\u001b[49m\n\u001b[1;32m      6\u001b[0m \u001b[43m    \u001b[49m\u001b[43m)\u001b[49m\n\u001b[1;32m      7\u001b[0m \u001b[43m    \u001b[49m\u001b[38;5;241;43m.\u001b[39;49m\u001b[43mthen\u001b[49m\u001b[43m(\u001b[49m\n\u001b[1;32m      8\u001b[0m \u001b[43m        \u001b[49m\u001b[43mpl\u001b[49m\u001b[38;5;241;43m.\u001b[39;49m\u001b[43mcol\u001b[49m\u001b[43m(\u001b[49m\u001b[38;5;124;43m\"\u001b[39;49m\u001b[38;5;124;43mtext\u001b[39;49m\u001b[38;5;124;43m\"\u001b[39;49m\u001b[43m)\u001b[49m\u001b[38;5;241;43m.\u001b[39;49m\u001b[43mstr\u001b[49m\u001b[38;5;241;43m.\u001b[39;49m\u001b[43mreplace\u001b[49m\u001b[43m(\u001b[49m\n\u001b[1;32m      9\u001b[0m \u001b[43m            \u001b[49m\u001b[43mpl\u001b[49m\u001b[38;5;241;43m.\u001b[39;49m\u001b[43mcol\u001b[49m\u001b[43m(\u001b[49m\u001b[38;5;124;43m\"\u001b[39;49m\u001b[38;5;124;43mname\u001b[39;49m\u001b[38;5;124;43m\"\u001b[39;49m\u001b[43m)\u001b[49m\u001b[38;5;241;43m.\u001b[39;49m\u001b[43mstr\u001b[49m\u001b[38;5;241;43m.\u001b[39;49m\u001b[43mreplace_all\u001b[49m\u001b[43m(\u001b[49m\u001b[38;5;124;43mr\u001b[39;49m\u001b[38;5;124;43m\"\u001b[39;49m\u001b[38;5;124;43m[\u001b[39;49m\u001b[38;5;130;43;01m\\\\\u001b[39;49;00m\u001b[38;5;124;43m^$.*+?()[\u001b[39;49m\u001b[38;5;124;43m\\\u001b[39;49m\u001b[38;5;124;43m]\u001b[39;49m\u001b[38;5;132;43;01m{}\u001b[39;49;00m\u001b[38;5;124;43m|]\u001b[39;49m\u001b[38;5;124;43m\"\u001b[39;49m\u001b[43m,\u001b[49m\u001b[43m \u001b[49m\u001b[38;5;124;43mr\u001b[39;49m\u001b[38;5;124;43m\"\u001b[39;49m\u001b[38;5;124;43m\\\u001b[39;49m\u001b[38;5;124;43m$0\u001b[39;49m\u001b[38;5;124;43m\"\u001b[39;49m\u001b[43m)\u001b[49m\u001b[43m,\u001b[49m\n\u001b[1;32m     10\u001b[0m \u001b[43m            \u001b[49m\u001b[38;5;124;43m\"\u001b[39;49m\u001b[38;5;124;43m~\u001b[39;49m\u001b[38;5;124;43m\"\u001b[39;49m\u001b[43m,\u001b[49m\n\u001b[1;32m     11\u001b[0m \u001b[43m            \u001b[49m\u001b[43mliteral\u001b[49m\u001b[38;5;241;43m=\u001b[39;49m\u001b[38;5;28;43;01mTrue\u001b[39;49;00m\u001b[43m,\u001b[49m\n\u001b[1;32m     12\u001b[0m \u001b[43m        \u001b[49m\u001b[43m)\u001b[49m\n\u001b[1;32m     13\u001b[0m \u001b[43m    \u001b[49m\u001b[43m)\u001b[49m\n\u001b[1;32m     14\u001b[0m \u001b[43m    \u001b[49m\u001b[38;5;241;43m.\u001b[39;49m\u001b[43motherwise\u001b[49m\u001b[43m(\u001b[49m\u001b[43mpl\u001b[49m\u001b[38;5;241;43m.\u001b[39;49m\u001b[43mcol\u001b[49m\u001b[43m(\u001b[49m\u001b[38;5;124;43m\"\u001b[39;49m\u001b[38;5;124;43mtext\u001b[39;49m\u001b[38;5;124;43m\"\u001b[39;49m\u001b[43m)\u001b[49m\u001b[43m)\u001b[49m\n\u001b[1;32m     15\u001b[0m \u001b[43m)\u001b[49m\n\u001b[1;32m     17\u001b[0m df_cards_agg\n",
      "File \u001b[0;32m~/Library/Mobile Documents/com~apple~CloudDocs/PythonProjects/mtg-embeddings/.venv/lib/python3.13/site-packages/polars/dataframe/frame.py:9586\u001b[0m, in \u001b[0;36mDataFrame.with_columns\u001b[0;34m(self, *exprs, **named_exprs)\u001b[0m\n\u001b[1;32m   9440\u001b[0m \u001b[38;5;28;01mdef\u001b[39;00m\u001b[38;5;250m \u001b[39m\u001b[38;5;21mwith_columns\u001b[39m(\n\u001b[1;32m   9441\u001b[0m     \u001b[38;5;28mself\u001b[39m,\n\u001b[1;32m   9442\u001b[0m     \u001b[38;5;241m*\u001b[39mexprs: IntoExpr \u001b[38;5;241m|\u001b[39m Iterable[IntoExpr],\n\u001b[1;32m   9443\u001b[0m     \u001b[38;5;241m*\u001b[39m\u001b[38;5;241m*\u001b[39mnamed_exprs: IntoExpr,\n\u001b[1;32m   9444\u001b[0m ) \u001b[38;5;241m-\u001b[39m\u001b[38;5;241m>\u001b[39m DataFrame:\n\u001b[1;32m   9445\u001b[0m \u001b[38;5;250m    \u001b[39m\u001b[38;5;124;03m\"\"\"\u001b[39;00m\n\u001b[1;32m   9446\u001b[0m \u001b[38;5;124;03m    Add columns to this DataFrame.\u001b[39;00m\n\u001b[1;32m   9447\u001b[0m \n\u001b[0;32m   (...)\u001b[0m\n\u001b[1;32m   9584\u001b[0m \u001b[38;5;124;03m    └─────┴──────┴─────────────┘\u001b[39;00m\n\u001b[1;32m   9585\u001b[0m \u001b[38;5;124;03m    \"\"\"\u001b[39;00m\n\u001b[0;32m-> 9586\u001b[0m     \u001b[38;5;28;01mreturn\u001b[39;00m \u001b[38;5;28;43mself\u001b[39;49m\u001b[38;5;241;43m.\u001b[39;49m\u001b[43mlazy\u001b[49m\u001b[43m(\u001b[49m\u001b[43m)\u001b[49m\u001b[38;5;241;43m.\u001b[39;49m\u001b[43mwith_columns\u001b[49m\u001b[43m(\u001b[49m\u001b[38;5;241;43m*\u001b[39;49m\u001b[43mexprs\u001b[49m\u001b[43m,\u001b[49m\u001b[43m \u001b[49m\u001b[38;5;241;43m*\u001b[39;49m\u001b[38;5;241;43m*\u001b[39;49m\u001b[43mnamed_exprs\u001b[49m\u001b[43m)\u001b[49m\u001b[38;5;241;43m.\u001b[39;49m\u001b[43mcollect\u001b[49m\u001b[43m(\u001b[49m\u001b[43m_eager\u001b[49m\u001b[38;5;241;43m=\u001b[39;49m\u001b[38;5;28;43;01mTrue\u001b[39;49;00m\u001b[43m)\u001b[49m\n",
      "File \u001b[0;32m~/Library/Mobile Documents/com~apple~CloudDocs/PythonProjects/mtg-embeddings/.venv/lib/python3.13/site-packages/polars/lazyframe/frame.py:2056\u001b[0m, in \u001b[0;36mLazyFrame.collect\u001b[0;34m(self, type_coercion, _type_check, predicate_pushdown, projection_pushdown, simplify_expression, slice_pushdown, comm_subplan_elim, comm_subexpr_elim, cluster_with_columns, collapse_joins, no_optimization, streaming, engine, background, _check_order, _eager, **_kwargs)\u001b[0m\n\u001b[1;32m   2054\u001b[0m \u001b[38;5;66;03m# Only for testing purposes\u001b[39;00m\n\u001b[1;32m   2055\u001b[0m callback \u001b[38;5;241m=\u001b[39m _kwargs\u001b[38;5;241m.\u001b[39mget(\u001b[38;5;124m\"\u001b[39m\u001b[38;5;124mpost_opt_callback\u001b[39m\u001b[38;5;124m\"\u001b[39m, callback)\n\u001b[0;32m-> 2056\u001b[0m \u001b[38;5;28;01mreturn\u001b[39;00m wrap_df(\u001b[43mldf\u001b[49m\u001b[38;5;241;43m.\u001b[39;49m\u001b[43mcollect\u001b[49m\u001b[43m(\u001b[49m\u001b[43mcallback\u001b[49m\u001b[43m)\u001b[49m)\n",
      "\u001b[0;31mComputeError\u001b[0m: regex error: regex parse error:\n    [\\\\^$.*+?()[\\]{}|]\n    ^\nerror: unclosed character class"
     ]
    }
   ],
   "source": [
    "df_cards_agg = df_cards_agg.with_columns(\n",
    "    text=pl.when(\n",
    "        pl.col(\"text\").str.contains(\n",
    "            pl.col(\"name\").str.replace_all(r\"[\\\\^$.*+?()[\\]{}|]\", r\"\\$0\"), literal=True\n",
    "        )\n",
    "    )\n",
    "    .then(\n",
    "        pl.col(\"text\").str.replace(\n",
    "            pl.col(\"name\").str.replace_all(r\"[\\\\^$.*+?()[\\]{}|]\", r\"\\$0\"),\n",
    "            \"~\",\n",
    "            literal=True,\n",
    "        )\n",
    "    )\n",
    "    .otherwise(pl.col(\"text\"))\n",
    ")\n",
    "\n",
    "df_cards_agg"
   ]
  },
  {
   "cell_type": "markdown",
   "metadata": {},
   "source": [
    "Get Sets data (will need to build a `Enum` for ordering)\n"
   ]
  }
 ],
 "metadata": {
  "kernelspec": {
   "display_name": ".venv",
   "language": "python",
   "name": "python3"
  },
  "language_info": {
   "codemirror_mode": {
    "name": "ipython",
    "version": 3
   },
   "file_extension": ".py",
   "mimetype": "text/x-python",
   "name": "python",
   "nbconvert_exporter": "python",
   "pygments_lexer": "ipython3",
   "version": "3.13.1"
  }
 },
 "nbformat": 4,
 "nbformat_minor": 2
}
