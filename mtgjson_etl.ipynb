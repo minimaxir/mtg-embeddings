{
 "cells": [
  {
   "cell_type": "code",
   "execution_count": 1,
   "metadata": {},
   "outputs": [],
   "source": [
    "import polars as pl"
   ]
  },
  {
   "cell_type": "markdown",
   "metadata": {},
   "source": [
    "https://github.com/minimaxir/ai-generated-magic-cards/blob/master/mtgjson_encoder.py\n"
   ]
  },
  {
   "cell_type": "code",
   "execution_count": 2,
   "metadata": {},
   "outputs": [
    {
     "data": {
      "text/html": [
       "<div><style>\n",
       ".dataframe > thead > tr,\n",
       ".dataframe > tbody > tr {\n",
       "  text-align: right;\n",
       "  white-space: pre-wrap;\n",
       "}\n",
       "</style>\n",
       "<small>shape: (2, 22)</small><table border=\"1\" class=\"dataframe\"><thead><tr><th>cardKingdomEtchedId</th><th>cardKingdomFoilId</th><th>cardKingdomId</th><th>cardsphereFoilId</th><th>cardsphereId</th><th>deckboxId</th><th>mcmId</th><th>mcmMetaId</th><th>mtgArenaId</th><th>mtgjsonFoilVersionId</th><th>mtgjsonNonFoilVersionId</th><th>mtgjsonV4Id</th><th>mtgoFoilId</th><th>mtgoId</th><th>multiverseId</th><th>scryfallCardBackId</th><th>scryfallId</th><th>scryfallIllustrationId</th><th>scryfallOracleId</th><th>tcgplayerEtchedProductId</th><th>tcgplayerProductId</th><th>uuid</th></tr><tr><td>str</td><td>str</td><td>str</td><td>str</td><td>str</td><td>str</td><td>str</td><td>str</td><td>str</td><td>str</td><td>str</td><td>str</td><td>str</td><td>str</td><td>str</td><td>str</td><td>str</td><td>str</td><td>str</td><td>str</td><td>str</td><td>str</td></tr></thead><tbody><tr><td>null</td><td>null</td><td>&quot;122719&quot;</td><td>&quot;19&quot;</td><td>&quot;20&quot;</td><td>&quot;2676&quot;</td><td>&quot;16165&quot;</td><td>&quot;156&quot;</td><td>null</td><td>&quot;b7c19924-b4bf-56fc-aa73-f586e9…</td><td>null</td><td>&quot;ad41be73-582f-58ed-abd4-a88c1f…</td><td>&quot;27501&quot;</td><td>&quot;27500&quot;</td><td>&quot;130550&quot;</td><td>&quot;0aeebaf5-8c7d-4636-9e82-8c2744…</td><td>&quot;7a5cd03c-4227-4551-aa4b-7d119f…</td><td>&quot;be2f7173-c8b7-4172-a388-9b2c6b…</td><td>&quot;fc2ccab7-cab1-4463-b73d-898070…</td><td>null</td><td>&quot;15032&quot;</td><td>&quot;5f8287b1-5bb6-5f4c-ad17-316a40…</td></tr><tr><td>null</td><td>&quot;123087&quot;</td><td>null</td><td>null</td><td>null</td><td>null</td><td>&quot;16165&quot;</td><td>&quot;156&quot;</td><td>null</td><td>null</td><td>&quot;5f8287b1-5bb6-5f4c-ad17-316a40…</td><td>&quot;fcd5d3ab-d58e-5cea-861a-cb377f…</td><td>null</td><td>null</td><td>null</td><td>&quot;0aeebaf5-8c7d-4636-9e82-8c2744…</td><td>&quot;82072a1d-c1ab-4b4f-875f-d05914…</td><td>&quot;be2f7173-c8b7-4172-a388-9b2c6b…</td><td>&quot;fc2ccab7-cab1-4463-b73d-898070…</td><td>null</td><td>&quot;15032&quot;</td><td>&quot;b7c19924-b4bf-56fc-aa73-f586e9…</td></tr></tbody></table></div>"
      ],
      "text/plain": [
       "shape: (2, 22)\n",
       "┌───────────┬───────────┬───────────┬───────────┬───┬───────────┬───────────┬───────────┬──────────┐\n",
       "│ cardKingd ┆ cardKingd ┆ cardKingd ┆ cardspher ┆ … ┆ scryfallO ┆ tcgplayer ┆ tcgplayer ┆ uuid     │\n",
       "│ omEtchedI ┆ omFoilId  ┆ omId      ┆ eFoilId   ┆   ┆ racleId   ┆ EtchedPro ┆ ProductId ┆ ---      │\n",
       "│ d         ┆ ---       ┆ ---       ┆ ---       ┆   ┆ ---       ┆ ductId    ┆ ---       ┆ str      │\n",
       "│ ---       ┆ str       ┆ str       ┆ str       ┆   ┆ str       ┆ ---       ┆ str       ┆          │\n",
       "│ str       ┆           ┆           ┆           ┆   ┆           ┆ str       ┆           ┆          │\n",
       "╞═══════════╪═══════════╪═══════════╪═══════════╪═══╪═══════════╪═══════════╪═══════════╪══════════╡\n",
       "│ null      ┆ null      ┆ 122719    ┆ 19        ┆ … ┆ fc2ccab7- ┆ null      ┆ 15032     ┆ 5f8287b1 │\n",
       "│           ┆           ┆           ┆           ┆   ┆ cab1-4463 ┆           ┆           ┆ -5bb6-5f │\n",
       "│           ┆           ┆           ┆           ┆   ┆ -b73d-898 ┆           ┆           ┆ 4c-ad17- │\n",
       "│           ┆           ┆           ┆           ┆   ┆ 070…      ┆           ┆           ┆ 316a40…  │\n",
       "│ null      ┆ 123087    ┆ null      ┆ null      ┆ … ┆ fc2ccab7- ┆ null      ┆ 15032     ┆ b7c19924 │\n",
       "│           ┆           ┆           ┆           ┆   ┆ cab1-4463 ┆           ┆           ┆ -b4bf-56 │\n",
       "│           ┆           ┆           ┆           ┆   ┆ -b73d-898 ┆           ┆           ┆ fc-aa73- │\n",
       "│           ┆           ┆           ┆           ┆   ┆ 070…      ┆           ┆           ┆ f586e9…  │\n",
       "└───────────┴───────────┴───────────┴───────────┴───┴───────────┴───────────┴───────────┴──────────┘"
      ]
     },
     "execution_count": 2,
     "metadata": {},
     "output_type": "execute_result"
    }
   ],
   "source": [
    "df_identifiers = pl.read_parquet(\n",
    "    \"/Users/maxwoolf/Downloads/AllPrintingsParquetFiles/cardIdentifiers.parquet\"\n",
    ").lazy()\n",
    "\n",
    "df_identifiers.head(2).collect()"
   ]
  },
  {
   "cell_type": "markdown",
   "metadata": {},
   "source": [
    "Get Sets data (will need to build a `Enum` for ordering)\n"
   ]
  },
  {
   "cell_type": "code",
   "execution_count": 3,
   "metadata": {},
   "outputs": [
    {
     "data": {
      "text/html": [
       "<div><style>\n",
       ".dataframe > thead > tr,\n",
       ".dataframe > tbody > tr {\n",
       "  text-align: right;\n",
       "  white-space: pre-wrap;\n",
       "}\n",
       "</style>\n",
       "<small>shape: (787, 4)</small><table border=\"1\" class=\"dataframe\"><thead><tr><th>tcgplayerGroupId</th><th>name</th><th>code</th><th>releaseDate</th></tr><tr><td>f64</td><td>str</td><td>str</td><td>str</td></tr></thead><tbody><tr><td>7.0</td><td>&quot;Limited Edition Alpha&quot;</td><td>&quot;LEA&quot;</td><td>&quot;1993-08-05&quot;</td></tr><tr><td>17.0</td><td>&quot;Limited Edition Beta&quot;</td><td>&quot;LEB&quot;</td><td>&quot;1993-10-04&quot;</td></tr><tr><td>115.0</td><td>&quot;Unlimited Edition&quot;</td><td>&quot;2ED&quot;</td><td>&quot;1993-12-01&quot;</td></tr><tr><td>1526.0</td><td>&quot;Collectors&#x27; Edition&quot;</td><td>&quot;CED&quot;</td><td>&quot;1993-12-10&quot;</td></tr><tr><td>1527.0</td><td>&quot;Intl. Collectors&#x27; Edition&quot;</td><td>&quot;CEI&quot;</td><td>&quot;1993-12-10&quot;</td></tr><tr><td>&hellip;</td><td>&hellip;</td><td>&hellip;</td><td>&hellip;</td></tr><tr><td>null</td><td>&quot;Aetherdrift Promos&quot;</td><td>&quot;PDFT&quot;</td><td>&quot;2025-02-14&quot;</td></tr><tr><td>null</td><td>&quot;Year of the Snake 2025&quot;</td><td>&quot;PL25&quot;</td><td>&quot;2025-02-14&quot;</td></tr><tr><td>null</td><td>&quot;Aetherdrift Art Series&quot;</td><td>&quot;ADFT&quot;</td><td>&quot;2025-02-14&quot;</td></tr><tr><td>23874.0</td><td>&quot;Aetherdrift&quot;</td><td>&quot;DFT&quot;</td><td>&quot;2025-02-14&quot;</td></tr><tr><td>23929.0</td><td>&quot;Aetherdrift Commander&quot;</td><td>&quot;DRC&quot;</td><td>&quot;2025-02-14&quot;</td></tr></tbody></table></div>"
      ],
      "text/plain": [
       "shape: (787, 4)\n",
       "┌──────────────────┬───────────────────────────┬──────┬─────────────┐\n",
       "│ tcgplayerGroupId ┆ name                      ┆ code ┆ releaseDate │\n",
       "│ ---              ┆ ---                       ┆ ---  ┆ ---         │\n",
       "│ f64              ┆ str                       ┆ str  ┆ str         │\n",
       "╞══════════════════╪═══════════════════════════╪══════╪═════════════╡\n",
       "│ 7.0              ┆ Limited Edition Alpha     ┆ LEA  ┆ 1993-08-05  │\n",
       "│ 17.0             ┆ Limited Edition Beta      ┆ LEB  ┆ 1993-10-04  │\n",
       "│ 115.0            ┆ Unlimited Edition         ┆ 2ED  ┆ 1993-12-01  │\n",
       "│ 1526.0           ┆ Collectors' Edition       ┆ CED  ┆ 1993-12-10  │\n",
       "│ 1527.0           ┆ Intl. Collectors' Edition ┆ CEI  ┆ 1993-12-10  │\n",
       "│ …                ┆ …                         ┆ …    ┆ …           │\n",
       "│ null             ┆ Aetherdrift Promos        ┆ PDFT ┆ 2025-02-14  │\n",
       "│ null             ┆ Year of the Snake 2025    ┆ PL25 ┆ 2025-02-14  │\n",
       "│ null             ┆ Aetherdrift Art Series    ┆ ADFT ┆ 2025-02-14  │\n",
       "│ 23874.0          ┆ Aetherdrift               ┆ DFT  ┆ 2025-02-14  │\n",
       "│ 23929.0          ┆ Aetherdrift Commander     ┆ DRC  ┆ 2025-02-14  │\n",
       "└──────────────────┴───────────────────────────┴──────┴─────────────┘"
      ]
     },
     "execution_count": 3,
     "metadata": {},
     "output_type": "execute_result"
    }
   ],
   "source": [
    "df_sets = (\n",
    "    pl.read_parquet(\"/Users/maxwoolf/Downloads/AllPrintingsParquetFiles/sets.parquet\")\n",
    "    .lazy()\n",
    "    .select([\"tcgplayerGroupId\", \"name\", \"code\", \"releaseDate\"])\n",
    "    .unique()\n",
    "    .sort([\"releaseDate\", \"tcgplayerGroupId\"])\n",
    "    .collect()\n",
    ")\n",
    "df_sets"
   ]
  },
  {
   "cell_type": "code",
   "execution_count": 4,
   "metadata": {},
   "outputs": [],
   "source": [
    "rarity_enum = pl.Enum([\"common\", \"uncommon\", \"rare\", \"mythic\", \"bonus\", \"special\"])\n",
    "sets_enum = pl.Enum(df_sets[\"code\"].to_list() + [\"*\"])"
   ]
  },
  {
   "cell_type": "code",
   "execution_count": 5,
   "metadata": {},
   "outputs": [
    {
     "data": {
      "text/html": [
       "<div><style>\n",
       ".dataframe > thead > tr,\n",
       ".dataframe > tbody > tr {\n",
       "  text-align: right;\n",
       "  white-space: pre-wrap;\n",
       "}\n",
       "</style>\n",
       "<small>shape: (101_227, 10)</small><table border=\"1\" class=\"dataframe\"><thead><tr><th>scryfallId</th><th>name</th><th>manaCost</th><th>type</th><th>text</th><th>power</th><th>toughness</th><th>loyalty</th><th>rarity</th><th>setCode</th></tr><tr><td>str</td><td>str</td><td>str</td><td>str</td><td>str</td><td>str</td><td>str</td><td>str</td><td>enum</td><td>enum</td></tr></thead><tbody><tr><td>&quot;69c3b2a3-0daa-4d42-832d-fcdfda…</td><td>&quot;Air Elemental&quot;</td><td>&quot;{3}{U}{U}&quot;</td><td>&quot;Creature — Elemental&quot;</td><td>&quot;Flying&quot;</td><td>&quot;4&quot;</td><td>&quot;4&quot;</td><td>null</td><td>&quot;uncommon&quot;</td><td>&quot;LEA&quot;</td></tr><tr><td>&quot;70e7ddf2-5604-41e7-bb9d-ddd03d…</td><td>&quot;Ancestral Recall&quot;</td><td>&quot;{U}&quot;</td><td>&quot;Instant&quot;</td><td>&quot;Target player draws three card…</td><td>null</td><td>null</td><td>null</td><td>&quot;rare&quot;</td><td>&quot;LEA&quot;</td></tr><tr><td>&quot;664b46f5-0424-4f4e-9f26-6bd2cf…</td><td>&quot;Animate Artifact&quot;</td><td>&quot;{3}{U}&quot;</td><td>&quot;Enchantment — Aura&quot;</td><td>&quot;Enchant artifact\\nAs long as e…</td><td>null</td><td>null</td><td>null</td><td>&quot;uncommon&quot;</td><td>&quot;LEA&quot;</td></tr><tr><td>&quot;8fd7861d-925f-4b4c-a4ab-60be6f…</td><td>&quot;Animate Dead&quot;</td><td>&quot;{1}{B}&quot;</td><td>&quot;Enchantment — Aura&quot;</td><td>&quot;Enchant creature card in a gra…</td><td>null</td><td>null</td><td>null</td><td>&quot;uncommon&quot;</td><td>&quot;LEA&quot;</td></tr><tr><td>&quot;d5c83259-9b90-47c2-b48e-c7d785…</td><td>&quot;Animate Wall&quot;</td><td>&quot;{W}&quot;</td><td>&quot;Enchantment — Aura&quot;</td><td>&quot;Enchant Wall\\nEnchanted Wall c…</td><td>null</td><td>null</td><td>null</td><td>&quot;rare&quot;</td><td>&quot;LEA&quot;</td></tr><tr><td>&hellip;</td><td>&hellip;</td><td>&hellip;</td><td>&hellip;</td><td>&hellip;</td><td>&hellip;</td><td>&hellip;</td><td>&hellip;</td><td>&hellip;</td><td>&hellip;</td></tr><tr><td>&quot;e6f210bf-30c9-4904-9ceb-4ab180…</td><td>&quot;Whirler Virtuoso&quot;</td><td>&quot;{1}{U}{R}&quot;</td><td>&quot;Creature — Vedalken Artificer&quot;</td><td>&quot;When this creature enters, you…</td><td>&quot;2&quot;</td><td>&quot;3&quot;</td><td>null</td><td>&quot;uncommon&quot;</td><td>&quot;DRC&quot;</td></tr><tr><td>&quot;f903afd3-01b5-4892-bd78-8da1d2…</td><td>&quot;Wizened Mentor&quot;</td><td>&quot;{1}{W}&quot;</td><td>&quot;Creature — Zombie Cleric&quot;</td><td>&quot;Whenever an opponent activates…</td><td>&quot;2&quot;</td><td>&quot;2&quot;</td><td>null</td><td>&quot;rare&quot;</td><td>&quot;DRC&quot;</td></tr><tr><td>&quot;4afc130b-09fb-44c7-a2b3-bce428…</td><td>&quot;Wizened Mentor&quot;</td><td>&quot;{1}{W}&quot;</td><td>&quot;Creature — Zombie Cleric&quot;</td><td>&quot;Whenever an opponent activates…</td><td>&quot;2&quot;</td><td>&quot;2&quot;</td><td>null</td><td>&quot;rare&quot;</td><td>&quot;DRC&quot;</td></tr><tr><td>&quot;9fbdd138-142d-4712-954e-8673d0…</td><td>&quot;Yavimaya Coast&quot;</td><td>null</td><td>&quot;Land&quot;</td><td>&quot;{T}: Add {C}.\\n{T}: Add {G} or…</td><td>null</td><td>null</td><td>null</td><td>&quot;rare&quot;</td><td>&quot;DRC&quot;</td></tr><tr><td>&quot;8ba84f22-a78a-4a05-905d-a1e6f9…</td><td>&quot;Zombie Master&quot;</td><td>&quot;{1}{B}{B}&quot;</td><td>&quot;Creature — Zombie&quot;</td><td>&quot;Other Zombie creatures have sw…</td><td>&quot;2&quot;</td><td>&quot;3&quot;</td><td>null</td><td>&quot;rare&quot;</td><td>&quot;DRC&quot;</td></tr></tbody></table></div>"
      ],
      "text/plain": [
       "shape: (101_227, 10)\n",
       "┌─────────────┬────────────┬───────────┬────────────┬───┬───────────┬─────────┬──────────┬─────────┐\n",
       "│ scryfallId  ┆ name       ┆ manaCost  ┆ type       ┆ … ┆ toughness ┆ loyalty ┆ rarity   ┆ setCode │\n",
       "│ ---         ┆ ---        ┆ ---       ┆ ---        ┆   ┆ ---       ┆ ---     ┆ ---      ┆ ---     │\n",
       "│ str         ┆ str        ┆ str       ┆ str        ┆   ┆ str       ┆ str     ┆ enum     ┆ enum    │\n",
       "╞═════════════╪════════════╪═══════════╪════════════╪═══╪═══════════╪═════════╪══════════╪═════════╡\n",
       "│ 69c3b2a3-0d ┆ Air        ┆ {3}{U}{U} ┆ Creature — ┆ … ┆ 4         ┆ null    ┆ uncommon ┆ LEA     │\n",
       "│ aa-4d42-832 ┆ Elemental  ┆           ┆ Elemental  ┆   ┆           ┆         ┆          ┆         │\n",
       "│ d-fcdfda…   ┆            ┆           ┆            ┆   ┆           ┆         ┆          ┆         │\n",
       "│ 70e7ddf2-56 ┆ Ancestral  ┆ {U}       ┆ Instant    ┆ … ┆ null      ┆ null    ┆ rare     ┆ LEA     │\n",
       "│ 04-41e7-bb9 ┆ Recall     ┆           ┆            ┆   ┆           ┆         ┆          ┆         │\n",
       "│ d-ddd03d…   ┆            ┆           ┆            ┆   ┆           ┆         ┆          ┆         │\n",
       "│ 664b46f5-04 ┆ Animate    ┆ {3}{U}    ┆ Enchantmen ┆ … ┆ null      ┆ null    ┆ uncommon ┆ LEA     │\n",
       "│ 24-4f4e-9f2 ┆ Artifact   ┆           ┆ t — Aura   ┆   ┆           ┆         ┆          ┆         │\n",
       "│ 6-6bd2cf…   ┆            ┆           ┆            ┆   ┆           ┆         ┆          ┆         │\n",
       "│ 8fd7861d-92 ┆ Animate    ┆ {1}{B}    ┆ Enchantmen ┆ … ┆ null      ┆ null    ┆ uncommon ┆ LEA     │\n",
       "│ 5f-4b4c-a4a ┆ Dead       ┆           ┆ t — Aura   ┆   ┆           ┆         ┆          ┆         │\n",
       "│ b-60be6f…   ┆            ┆           ┆            ┆   ┆           ┆         ┆          ┆         │\n",
       "│ d5c83259-9b ┆ Animate    ┆ {W}       ┆ Enchantmen ┆ … ┆ null      ┆ null    ┆ rare     ┆ LEA     │\n",
       "│ 90-47c2-b48 ┆ Wall       ┆           ┆ t — Aura   ┆   ┆           ┆         ┆          ┆         │\n",
       "│ e-c7d785…   ┆            ┆           ┆            ┆   ┆           ┆         ┆          ┆         │\n",
       "│ …           ┆ …          ┆ …         ┆ …          ┆ … ┆ …         ┆ …       ┆ …        ┆ …       │\n",
       "│ e6f210bf-30 ┆ Whirler    ┆ {1}{U}{R} ┆ Creature — ┆ … ┆ 3         ┆ null    ┆ uncommon ┆ DRC     │\n",
       "│ c9-4904-9ce ┆ Virtuoso   ┆           ┆ Vedalken   ┆   ┆           ┆         ┆          ┆         │\n",
       "│ b-4ab180…   ┆            ┆           ┆ Artificer  ┆   ┆           ┆         ┆          ┆         │\n",
       "│ f903afd3-01 ┆ Wizened    ┆ {1}{W}    ┆ Creature — ┆ … ┆ 2         ┆ null    ┆ rare     ┆ DRC     │\n",
       "│ b5-4892-bd7 ┆ Mentor     ┆           ┆ Zombie     ┆   ┆           ┆         ┆          ┆         │\n",
       "│ 8-8da1d2…   ┆            ┆           ┆ Cleric     ┆   ┆           ┆         ┆          ┆         │\n",
       "│ 4afc130b-09 ┆ Wizened    ┆ {1}{W}    ┆ Creature — ┆ … ┆ 2         ┆ null    ┆ rare     ┆ DRC     │\n",
       "│ fb-44c7-a2b ┆ Mentor     ┆           ┆ Zombie     ┆   ┆           ┆         ┆          ┆         │\n",
       "│ 3-bce428…   ┆            ┆           ┆ Cleric     ┆   ┆           ┆         ┆          ┆         │\n",
       "│ 9fbdd138-14 ┆ Yavimaya   ┆ null      ┆ Land       ┆ … ┆ null      ┆ null    ┆ rare     ┆ DRC     │\n",
       "│ 2d-4712-954 ┆ Coast      ┆           ┆            ┆   ┆           ┆         ┆          ┆         │\n",
       "│ e-8673d0…   ┆            ┆           ┆            ┆   ┆           ┆         ┆          ┆         │\n",
       "│ 8ba84f22-a7 ┆ Zombie     ┆ {1}{B}{B} ┆ Creature — ┆ … ┆ 3         ┆ null    ┆ rare     ┆ DRC     │\n",
       "│ 8a-4a05-905 ┆ Master     ┆           ┆ Zombie     ┆   ┆           ┆         ┆          ┆         │\n",
       "│ d-a1e6f9…   ┆            ┆           ┆            ┆   ┆           ┆         ┆          ┆         │\n",
       "└─────────────┴────────────┴───────────┴────────────┴───┴───────────┴─────────┴──────────┴─────────┘"
      ]
     },
     "execution_count": 5,
     "metadata": {},
     "output_type": "execute_result"
    }
   ],
   "source": [
    "FIELDS = [\n",
    "    \"name\",\n",
    "    \"manaCost\",\n",
    "    \"type\",\n",
    "    \"text\",\n",
    "    \"power\",\n",
    "    \"toughness\",\n",
    "    \"loyalty\",\n",
    "    \"rarity\",\n",
    "    \"setCode\",\n",
    "]\n",
    "\n",
    "\n",
    "df_cards = (\n",
    "    pl.read_parquet(\"/Users/maxwoolf/Downloads/AllPrintingsParquetFiles/cards.parquet\")\n",
    "    .lazy()\n",
    "    .filter(pl.col(\"type\") != \"Vanguard\")\n",
    "    .with_columns(\n",
    "        rarity=pl.col(\"rarity\").cast(rarity_enum),\n",
    "        setCode=pl.col(\"setCode\").cast(sets_enum),\n",
    "    )\n",
    "    .select([\"uuid\"] + FIELDS)\n",
    "    .unique()\n",
    "    .join(df_identifiers, how=\"left\", on=\"uuid\")\n",
    "    .select([\"scryfallId\"] + FIELDS)\n",
    "    .sort([\"setCode\", \"name\"])\n",
    "    .collect()\n",
    ")\n",
    "\n",
    "df_cards"
   ]
  },
  {
   "cell_type": "markdown",
   "metadata": {},
   "source": [
    "https://stackoverflow.com/a/73427426\n"
   ]
  },
  {
   "cell_type": "code",
   "execution_count": 6,
   "metadata": {},
   "outputs": [
    {
     "data": {
      "text/html": [
       "<div><style>\n",
       ".dataframe > thead > tr,\n",
       ".dataframe > tbody > tr {\n",
       "  text-align: right;\n",
       "  white-space: pre-wrap;\n",
       "}\n",
       "</style>\n",
       "<small>shape: (32_254, 9)</small><table border=\"1\" class=\"dataframe\"><thead><tr><th>name</th><th>manaCost</th><th>type</th><th>text</th><th>power</th><th>toughness</th><th>loyalty</th><th>rarities</th><th>sets</th></tr><tr><td>str</td><td>str</td><td>str</td><td>str</td><td>str</td><td>str</td><td>str</td><td>list[enum]</td><td>list[enum]</td></tr></thead><tbody><tr><td>&quot;&quot;Ach! Hans, Run!&quot;&quot;</td><td>&quot;{2}{R}{R}{G}{G}&quot;</td><td>&quot;Enchantment&quot;</td><td>&quot;At the beginning of your upkee…</td><td>null</td><td>null</td><td>null</td><td>[&quot;rare&quot;]</td><td>[&quot;UNH&quot;]</td></tr><tr><td>&quot;&quot;Brims&quot; Barone, Midway Mobster&quot;</td><td>&quot;{3}{W}{B}&quot;</td><td>&quot;Legendary Creature — Human Rog…</td><td>&quot;When &quot;Brims&quot; Barone, Midway Mo…</td><td>&quot;5&quot;</td><td>&quot;4&quot;</td><td>null</td><td>[&quot;uncommon&quot;]</td><td>[&quot;UNF&quot;]</td></tr><tr><td>&quot;&quot;Lifetime&quot; Pass Holder&quot;</td><td>&quot;{B}&quot;</td><td>&quot;Creature — Zombie Guest&quot;</td><td>&quot;This creature enters tapped.\\n…</td><td>&quot;2&quot;</td><td>&quot;1&quot;</td><td>null</td><td>[&quot;rare&quot;]</td><td>[&quot;UNF&quot;]</td></tr><tr><td>&quot;&quot;Name Sticker&quot; Goblin&quot;</td><td>&quot;{2}{R}&quot;</td><td>&quot;Creature — Goblin Guest&quot;</td><td>&quot;When this creature enters from…</td><td>&quot;2&quot;</td><td>&quot;2&quot;</td><td>null</td><td>[&quot;common&quot;]</td><td>[&quot;UNF&quot;]</td></tr><tr><td>&quot;&quot;Rumors of My Death . . .&quot;&quot;</td><td>&quot;{2}{B}&quot;</td><td>&quot;Enchantment&quot;</td><td>&quot;{3}{B}, Exile a permanent you …</td><td>null</td><td>null</td><td>null</td><td>[&quot;uncommon&quot;]</td><td>[&quot;UST&quot;]</td></tr><tr><td>&hellip;</td><td>&hellip;</td><td>&hellip;</td><td>&hellip;</td><td>&hellip;</td><td>&hellip;</td><td>&hellip;</td><td>&hellip;</td><td>&hellip;</td></tr><tr><td>&quot;Éomer, King of Rohan&quot;</td><td>&quot;{3}{R}{W}&quot;</td><td>&quot;Legendary Creature — Human Nob…</td><td>&quot;Double strike\\nÉomer, King of …</td><td>&quot;2&quot;</td><td>&quot;2&quot;</td><td>null</td><td>[&quot;rare&quot;]</td><td>[&quot;LTC&quot;]</td></tr><tr><td>&quot;Éomer, Marshal of Rohan&quot;</td><td>&quot;{2}{R}{R}&quot;</td><td>&quot;Legendary Creature — Human Kni…</td><td>&quot;Haste\\nWhenever one or more ot…</td><td>&quot;4&quot;</td><td>&quot;4&quot;</td><td>null</td><td>[&quot;rare&quot;]</td><td>[&quot;PLTR&quot;, &quot;LTR&quot;]</td></tr><tr><td>&quot;Éowyn, Fearless Knight&quot;</td><td>&quot;{2}{R}{W}&quot;</td><td>&quot;Legendary Creature — Human Kni…</td><td>&quot;Haste\\nWhen Éowyn, Fearless Kn…</td><td>&quot;3&quot;</td><td>&quot;4&quot;</td><td>null</td><td>[&quot;rare&quot;]</td><td>[&quot;PLTR&quot;, &quot;LTR&quot;]</td></tr><tr><td>&quot;Éowyn, Lady of Rohan&quot;</td><td>&quot;{2}{W}&quot;</td><td>&quot;Legendary Creature — Human Nob…</td><td>&quot;At the beginning of combat on …</td><td>&quot;2&quot;</td><td>&quot;4&quot;</td><td>null</td><td>[&quot;uncommon&quot;]</td><td>[&quot;LTR&quot;]</td></tr><tr><td>&quot;Éowyn, Shieldmaiden&quot;</td><td>&quot;{2}{U}{R}{W}&quot;</td><td>&quot;Legendary Creature — Human Kni…</td><td>&quot;First strike\\nAt the beginning…</td><td>&quot;5&quot;</td><td>&quot;4&quot;</td><td>null</td><td>[&quot;mythic&quot;]</td><td>[&quot;LTC&quot;]</td></tr></tbody></table></div>"
      ],
      "text/plain": [
       "shape: (32_254, 9)\n",
       "┌────────────┬───────────┬───────────┬───────────┬───┬───────────┬─────────┬───────────┬───────────┐\n",
       "│ name       ┆ manaCost  ┆ type      ┆ text      ┆ … ┆ toughness ┆ loyalty ┆ rarities  ┆ sets      │\n",
       "│ ---        ┆ ---       ┆ ---       ┆ ---       ┆   ┆ ---       ┆ ---     ┆ ---       ┆ ---       │\n",
       "│ str        ┆ str       ┆ str       ┆ str       ┆   ┆ str       ┆ str     ┆ list[enum ┆ list[enum │\n",
       "│            ┆           ┆           ┆           ┆   ┆           ┆         ┆ ]         ┆ ]         │\n",
       "╞════════════╪═══════════╪═══════════╪═══════════╪═══╪═══════════╪═════════╪═══════════╪═══════════╡\n",
       "│ \"Ach!      ┆ {2}{R}{R} ┆ Enchantme ┆ At the    ┆ … ┆ null      ┆ null    ┆ [\"rare\"]  ┆ [\"UNH\"]   │\n",
       "│ Hans,      ┆ {G}{G}    ┆ nt        ┆ beginning ┆   ┆           ┆         ┆           ┆           │\n",
       "│ Run!\"      ┆           ┆           ┆ of your   ┆   ┆           ┆         ┆           ┆           │\n",
       "│            ┆           ┆           ┆ upkee…    ┆   ┆           ┆         ┆           ┆           │\n",
       "│ \"Brims\"    ┆ {3}{W}{B} ┆ Legendary ┆ When      ┆ … ┆ 4         ┆ null    ┆ [\"uncommo ┆ [\"UNF\"]   │\n",
       "│ Barone,    ┆           ┆ Creature  ┆ \"Brims\"   ┆   ┆           ┆         ┆ n\"]       ┆           │\n",
       "│ Midway     ┆           ┆ — Human   ┆ Barone,   ┆   ┆           ┆         ┆           ┆           │\n",
       "│ Mobster    ┆           ┆ Rog…      ┆ Midway    ┆   ┆           ┆         ┆           ┆           │\n",
       "│            ┆           ┆           ┆ Mo…       ┆   ┆           ┆         ┆           ┆           │\n",
       "│ \"Lifetime\" ┆ {B}       ┆ Creature  ┆ This      ┆ … ┆ 1         ┆ null    ┆ [\"rare\"]  ┆ [\"UNF\"]   │\n",
       "│ Pass       ┆           ┆ — Zombie  ┆ creature  ┆   ┆           ┆         ┆           ┆           │\n",
       "│ Holder     ┆           ┆ Guest     ┆ enters    ┆   ┆           ┆         ┆           ┆           │\n",
       "│            ┆           ┆           ┆ tapped.\\n ┆   ┆           ┆         ┆           ┆           │\n",
       "│            ┆           ┆           ┆ …         ┆   ┆           ┆         ┆           ┆           │\n",
       "│ \"Name      ┆ {2}{R}    ┆ Creature  ┆ When this ┆ … ┆ 2         ┆ null    ┆ [\"common\" ┆ [\"UNF\"]   │\n",
       "│ Sticker\"   ┆           ┆ — Goblin  ┆ creature  ┆   ┆           ┆         ┆ ]         ┆           │\n",
       "│ Goblin     ┆           ┆ Guest     ┆ enters    ┆   ┆           ┆         ┆           ┆           │\n",
       "│            ┆           ┆           ┆ from…     ┆   ┆           ┆         ┆           ┆           │\n",
       "│ \"Rumors of ┆ {2}{B}    ┆ Enchantme ┆ {3}{B},   ┆ … ┆ null      ┆ null    ┆ [\"uncommo ┆ [\"UST\"]   │\n",
       "│ My Death . ┆           ┆ nt        ┆ Exile a   ┆   ┆           ┆         ┆ n\"]       ┆           │\n",
       "│ . .\"       ┆           ┆           ┆ permanent ┆   ┆           ┆         ┆           ┆           │\n",
       "│            ┆           ┆           ┆ you …     ┆   ┆           ┆         ┆           ┆           │\n",
       "│ …          ┆ …         ┆ …         ┆ …         ┆ … ┆ …         ┆ …       ┆ …         ┆ …         │\n",
       "│ Éomer,     ┆ {3}{R}{W} ┆ Legendary ┆ Double    ┆ … ┆ 2         ┆ null    ┆ [\"rare\"]  ┆ [\"LTC\"]   │\n",
       "│ King of    ┆           ┆ Creature  ┆ strike\\nÉ ┆   ┆           ┆         ┆           ┆           │\n",
       "│ Rohan      ┆           ┆ — Human   ┆ omer,     ┆   ┆           ┆         ┆           ┆           │\n",
       "│            ┆           ┆ Nob…      ┆ King of … ┆   ┆           ┆         ┆           ┆           │\n",
       "│ Éomer,     ┆ {2}{R}{R} ┆ Legendary ┆ Haste\\nWh ┆ … ┆ 4         ┆ null    ┆ [\"rare\"]  ┆ [\"PLTR\",  │\n",
       "│ Marshal of ┆           ┆ Creature  ┆ enever    ┆   ┆           ┆         ┆           ┆ \"LTR\"]    │\n",
       "│ Rohan      ┆           ┆ — Human   ┆ one or    ┆   ┆           ┆         ┆           ┆           │\n",
       "│            ┆           ┆ Kni…      ┆ more ot…  ┆   ┆           ┆         ┆           ┆           │\n",
       "│ Éowyn,     ┆ {2}{R}{W} ┆ Legendary ┆ Haste\\nWh ┆ … ┆ 4         ┆ null    ┆ [\"rare\"]  ┆ [\"PLTR\",  │\n",
       "│ Fearless   ┆           ┆ Creature  ┆ en Éowyn, ┆   ┆           ┆         ┆           ┆ \"LTR\"]    │\n",
       "│ Knight     ┆           ┆ — Human   ┆ Fearless  ┆   ┆           ┆         ┆           ┆           │\n",
       "│            ┆           ┆ Kni…      ┆ Kn…       ┆   ┆           ┆         ┆           ┆           │\n",
       "│ Éowyn,     ┆ {2}{W}    ┆ Legendary ┆ At the    ┆ … ┆ 4         ┆ null    ┆ [\"uncommo ┆ [\"LTR\"]   │\n",
       "│ Lady of    ┆           ┆ Creature  ┆ beginning ┆   ┆           ┆         ┆ n\"]       ┆           │\n",
       "│ Rohan      ┆           ┆ — Human   ┆ of combat ┆   ┆           ┆         ┆           ┆           │\n",
       "│            ┆           ┆ Nob…      ┆ on …      ┆   ┆           ┆         ┆           ┆           │\n",
       "│ Éowyn, Shi ┆ {2}{U}{R} ┆ Legendary ┆ First str ┆ … ┆ 4         ┆ null    ┆ [\"mythic\" ┆ [\"LTC\"]   │\n",
       "│ eldmaiden  ┆ {W}       ┆ Creature  ┆ ike\\nAt   ┆   ┆           ┆         ┆ ]         ┆           │\n",
       "│            ┆           ┆ — Human   ┆ the begin ┆   ┆           ┆         ┆           ┆           │\n",
       "│            ┆           ┆ Kni…      ┆ ning…     ┆   ┆           ┆         ┆           ┆           │\n",
       "└────────────┴───────────┴───────────┴───────────┴───┴───────────┴─────────┴───────────┴───────────┘"
      ]
     },
     "execution_count": 6,
     "metadata": {},
     "output_type": "execute_result"
    }
   ],
   "source": [
    "df_cards_agg = (\n",
    "    df_cards.group_by(FIELDS[0:7])\n",
    "    .agg(rarities=pl.col(\"rarity\").unique(), sets=pl.col(\"setCode\").unique())\n",
    "    .sort(\"name\")\n",
    ")\n",
    "\n",
    "df_cards_agg"
   ]
  },
  {
   "cell_type": "markdown",
   "metadata": {},
   "source": [
    "Join back to the original dataframe which only has the latest printings of each cards.\n"
   ]
  },
  {
   "cell_type": "code",
   "execution_count": 7,
   "metadata": {},
   "outputs": [
    {
     "data": {
      "text/html": [
       "<div><style>\n",
       ".dataframe > thead > tr,\n",
       ".dataframe > tbody > tr {\n",
       "  text-align: right;\n",
       "  white-space: pre-wrap;\n",
       "}\n",
       "</style>\n",
       "<small>shape: (32_254, 10)</small><table border=\"1\" class=\"dataframe\"><thead><tr><th>name</th><th>scryfallId</th><th>manaCost</th><th>type</th><th>text</th><th>power</th><th>toughness</th><th>loyalty</th><th>rarities</th><th>sets</th></tr><tr><td>str</td><td>str</td><td>str</td><td>str</td><td>str</td><td>str</td><td>str</td><td>str</td><td>list[enum]</td><td>list[enum]</td></tr></thead><tbody><tr><td>&quot;&quot;Ach! Hans, Run!&quot;&quot;</td><td>&quot;84f2c8f5-8e11-4639-b7de-00e4a2…</td><td>&quot;{2}{R}{R}{G}{G}&quot;</td><td>&quot;Enchantment&quot;</td><td>&quot;At the beginning of your upkee…</td><td>null</td><td>null</td><td>null</td><td>[&quot;rare&quot;]</td><td>[&quot;UNH&quot;]</td></tr><tr><td>&quot;&quot;Brims&quot; Barone, Midway Mobster&quot;</td><td>&quot;68832214-2943-4253-8884-ffa490…</td><td>&quot;{3}{W}{B}&quot;</td><td>&quot;Legendary Creature — Human Rog…</td><td>&quot;When &quot;Brims&quot; Barone, Midway Mo…</td><td>&quot;5&quot;</td><td>&quot;4&quot;</td><td>null</td><td>[&quot;uncommon&quot;]</td><td>[&quot;UNF&quot;]</td></tr><tr><td>&quot;&quot;Lifetime&quot; Pass Holder&quot;</td><td>&quot;42293306-aaea-4542-8df4-813823…</td><td>&quot;{B}&quot;</td><td>&quot;Creature — Zombie Guest&quot;</td><td>&quot;This creature enters tapped.\\n…</td><td>&quot;2&quot;</td><td>&quot;1&quot;</td><td>null</td><td>[&quot;rare&quot;]</td><td>[&quot;UNF&quot;]</td></tr><tr><td>&quot;&quot;Name Sticker&quot; Goblin&quot;</td><td>&quot;fd1442b4-da59-4042-835f-143c8d…</td><td>&quot;{2}{R}&quot;</td><td>&quot;Creature — Goblin Guest&quot;</td><td>&quot;When this creature enters from…</td><td>&quot;2&quot;</td><td>&quot;2&quot;</td><td>null</td><td>[&quot;common&quot;]</td><td>[&quot;UNF&quot;]</td></tr><tr><td>&quot;&quot;Rumors of My Death . . .&quot;&quot;</td><td>&quot;cb3587b9-e727-4f37-b4d6-1baa73…</td><td>&quot;{2}{B}&quot;</td><td>&quot;Enchantment&quot;</td><td>&quot;{3}{B}, Exile a permanent you …</td><td>null</td><td>null</td><td>null</td><td>[&quot;uncommon&quot;]</td><td>[&quot;UST&quot;]</td></tr><tr><td>&hellip;</td><td>&hellip;</td><td>&hellip;</td><td>&hellip;</td><td>&hellip;</td><td>&hellip;</td><td>&hellip;</td><td>&hellip;</td><td>&hellip;</td><td>&hellip;</td></tr><tr><td>&quot;Éomer, King of Rohan&quot;</td><td>&quot;f2c11695-f22b-44d5-937c-2578f2…</td><td>&quot;{3}{R}{W}&quot;</td><td>&quot;Legendary Creature — Human Nob…</td><td>&quot;Double strike\\nÉomer, King of …</td><td>&quot;2&quot;</td><td>&quot;2&quot;</td><td>null</td><td>[&quot;rare&quot;]</td><td>[&quot;LTC&quot;]</td></tr><tr><td>&quot;Éomer, Marshal of Rohan&quot;</td><td>&quot;fba68512-f536-4961-9e24-563270…</td><td>&quot;{2}{R}{R}&quot;</td><td>&quot;Legendary Creature — Human Kni…</td><td>&quot;Haste\\nWhenever one or more ot…</td><td>&quot;4&quot;</td><td>&quot;4&quot;</td><td>null</td><td>[&quot;rare&quot;]</td><td>[&quot;PLTR&quot;, &quot;LTR&quot;]</td></tr><tr><td>&quot;Éowyn, Fearless Knight&quot;</td><td>&quot;c1b37891-5ed9-47e4-8d2f-c2bfd8…</td><td>&quot;{2}{R}{W}&quot;</td><td>&quot;Legendary Creature — Human Kni…</td><td>&quot;Haste\\nWhen Éowyn, Fearless Kn…</td><td>&quot;3&quot;</td><td>&quot;4&quot;</td><td>null</td><td>[&quot;rare&quot;]</td><td>[&quot;PLTR&quot;, &quot;LTR&quot;]</td></tr><tr><td>&quot;Éowyn, Lady of Rohan&quot;</td><td>&quot;e59710c4-24de-419e-a8a0-e8392d…</td><td>&quot;{2}{W}&quot;</td><td>&quot;Legendary Creature — Human Nob…</td><td>&quot;At the beginning of combat on …</td><td>&quot;2&quot;</td><td>&quot;4&quot;</td><td>null</td><td>[&quot;uncommon&quot;]</td><td>[&quot;LTR&quot;]</td></tr><tr><td>&quot;Éowyn, Shieldmaiden&quot;</td><td>&quot;dd4a00ff-2206-4e12-a0ab-61ed82…</td><td>&quot;{2}{U}{R}{W}&quot;</td><td>&quot;Legendary Creature — Human Kni…</td><td>&quot;First strike\\nAt the beginning…</td><td>&quot;5&quot;</td><td>&quot;4&quot;</td><td>null</td><td>[&quot;mythic&quot;]</td><td>[&quot;LTC&quot;]</td></tr></tbody></table></div>"
      ],
      "text/plain": [
       "shape: (32_254, 10)\n",
       "┌────────────┬───────────┬───────────┬───────────┬───┬───────────┬─────────┬───────────┬───────────┐\n",
       "│ name       ┆ scryfallI ┆ manaCost  ┆ type      ┆ … ┆ toughness ┆ loyalty ┆ rarities  ┆ sets      │\n",
       "│ ---        ┆ d         ┆ ---       ┆ ---       ┆   ┆ ---       ┆ ---     ┆ ---       ┆ ---       │\n",
       "│ str        ┆ ---       ┆ str       ┆ str       ┆   ┆ str       ┆ str     ┆ list[enum ┆ list[enum │\n",
       "│            ┆ str       ┆           ┆           ┆   ┆           ┆         ┆ ]         ┆ ]         │\n",
       "╞════════════╪═══════════╪═══════════╪═══════════╪═══╪═══════════╪═════════╪═══════════╪═══════════╡\n",
       "│ \"Ach!      ┆ 84f2c8f5- ┆ {2}{R}{R} ┆ Enchantme ┆ … ┆ null      ┆ null    ┆ [\"rare\"]  ┆ [\"UNH\"]   │\n",
       "│ Hans,      ┆ 8e11-4639 ┆ {G}{G}    ┆ nt        ┆   ┆           ┆         ┆           ┆           │\n",
       "│ Run!\"      ┆ -b7de-00e ┆           ┆           ┆   ┆           ┆         ┆           ┆           │\n",
       "│            ┆ 4a2…      ┆           ┆           ┆   ┆           ┆         ┆           ┆           │\n",
       "│ \"Brims\"    ┆ 68832214- ┆ {3}{W}{B} ┆ Legendary ┆ … ┆ 4         ┆ null    ┆ [\"uncommo ┆ [\"UNF\"]   │\n",
       "│ Barone,    ┆ 2943-4253 ┆           ┆ Creature  ┆   ┆           ┆         ┆ n\"]       ┆           │\n",
       "│ Midway     ┆ -8884-ffa ┆           ┆ — Human   ┆   ┆           ┆         ┆           ┆           │\n",
       "│ Mobster    ┆ 490…      ┆           ┆ Rog…      ┆   ┆           ┆         ┆           ┆           │\n",
       "│ \"Lifetime\" ┆ 42293306- ┆ {B}       ┆ Creature  ┆ … ┆ 1         ┆ null    ┆ [\"rare\"]  ┆ [\"UNF\"]   │\n",
       "│ Pass       ┆ aaea-4542 ┆           ┆ — Zombie  ┆   ┆           ┆         ┆           ┆           │\n",
       "│ Holder     ┆ -8df4-813 ┆           ┆ Guest     ┆   ┆           ┆         ┆           ┆           │\n",
       "│            ┆ 823…      ┆           ┆           ┆   ┆           ┆         ┆           ┆           │\n",
       "│ \"Name      ┆ fd1442b4- ┆ {2}{R}    ┆ Creature  ┆ … ┆ 2         ┆ null    ┆ [\"common\" ┆ [\"UNF\"]   │\n",
       "│ Sticker\"   ┆ da59-4042 ┆           ┆ — Goblin  ┆   ┆           ┆         ┆ ]         ┆           │\n",
       "│ Goblin     ┆ -835f-143 ┆           ┆ Guest     ┆   ┆           ┆         ┆           ┆           │\n",
       "│            ┆ c8d…      ┆           ┆           ┆   ┆           ┆         ┆           ┆           │\n",
       "│ \"Rumors of ┆ cb3587b9- ┆ {2}{B}    ┆ Enchantme ┆ … ┆ null      ┆ null    ┆ [\"uncommo ┆ [\"UST\"]   │\n",
       "│ My Death . ┆ e727-4f37 ┆           ┆ nt        ┆   ┆           ┆         ┆ n\"]       ┆           │\n",
       "│ . .\"       ┆ -b4d6-1ba ┆           ┆           ┆   ┆           ┆         ┆           ┆           │\n",
       "│            ┆ a73…      ┆           ┆           ┆   ┆           ┆         ┆           ┆           │\n",
       "│ …          ┆ …         ┆ …         ┆ …         ┆ … ┆ …         ┆ …       ┆ …         ┆ …         │\n",
       "│ Éomer,     ┆ f2c11695- ┆ {3}{R}{W} ┆ Legendary ┆ … ┆ 2         ┆ null    ┆ [\"rare\"]  ┆ [\"LTC\"]   │\n",
       "│ King of    ┆ f22b-44d5 ┆           ┆ Creature  ┆   ┆           ┆         ┆           ┆           │\n",
       "│ Rohan      ┆ -937c-257 ┆           ┆ — Human   ┆   ┆           ┆         ┆           ┆           │\n",
       "│            ┆ 8f2…      ┆           ┆ Nob…      ┆   ┆           ┆         ┆           ┆           │\n",
       "│ Éomer,     ┆ fba68512- ┆ {2}{R}{R} ┆ Legendary ┆ … ┆ 4         ┆ null    ┆ [\"rare\"]  ┆ [\"PLTR\",  │\n",
       "│ Marshal of ┆ f536-4961 ┆           ┆ Creature  ┆   ┆           ┆         ┆           ┆ \"LTR\"]    │\n",
       "│ Rohan      ┆ -9e24-563 ┆           ┆ — Human   ┆   ┆           ┆         ┆           ┆           │\n",
       "│            ┆ 270…      ┆           ┆ Kni…      ┆   ┆           ┆         ┆           ┆           │\n",
       "│ Éowyn,     ┆ c1b37891- ┆ {2}{R}{W} ┆ Legendary ┆ … ┆ 4         ┆ null    ┆ [\"rare\"]  ┆ [\"PLTR\",  │\n",
       "│ Fearless   ┆ 5ed9-47e4 ┆           ┆ Creature  ┆   ┆           ┆         ┆           ┆ \"LTR\"]    │\n",
       "│ Knight     ┆ -8d2f-c2b ┆           ┆ — Human   ┆   ┆           ┆         ┆           ┆           │\n",
       "│            ┆ fd8…      ┆           ┆ Kni…      ┆   ┆           ┆         ┆           ┆           │\n",
       "│ Éowyn,     ┆ e59710c4- ┆ {2}{W}    ┆ Legendary ┆ … ┆ 4         ┆ null    ┆ [\"uncommo ┆ [\"LTR\"]   │\n",
       "│ Lady of    ┆ 24de-419e ┆           ┆ Creature  ┆   ┆           ┆         ┆ n\"]       ┆           │\n",
       "│ Rohan      ┆ -a8a0-e83 ┆           ┆ — Human   ┆   ┆           ┆         ┆           ┆           │\n",
       "│            ┆ 92d…      ┆           ┆ Nob…      ┆   ┆           ┆         ┆           ┆           │\n",
       "│ Éowyn, Shi ┆ dd4a00ff- ┆ {2}{U}{R} ┆ Legendary ┆ … ┆ 4         ┆ null    ┆ [\"mythic\" ┆ [\"LTC\"]   │\n",
       "│ eldmaiden  ┆ 2206-4e12 ┆ {W}       ┆ Creature  ┆   ┆           ┆         ┆ ]         ┆           │\n",
       "│            ┆ -a0ab-61e ┆           ┆ — Human   ┆   ┆           ┆         ┆           ┆           │\n",
       "│            ┆ d82…      ┆           ┆ Kni…      ┆   ┆           ┆         ┆           ┆           │\n",
       "└────────────┴───────────┴───────────┴───────────┴───┴───────────┴─────────┴───────────┴───────────┘"
      ]
     },
     "execution_count": 7,
     "metadata": {},
     "output_type": "execute_result"
    }
   ],
   "source": [
    "df_cards = (\n",
    "    df_cards.select([\"scryfallId\", \"name\"])\n",
    "    .group_by(\"name\", maintain_order=True)\n",
    "    .last()\n",
    "    .join(df_cards_agg, how=\"left\", on=\"name\")\n",
    "    .sort(\"name\")\n",
    ")\n",
    "\n",
    "df_cards"
   ]
  },
  {
   "cell_type": "markdown",
   "metadata": {},
   "source": [
    "Postprocess:\n",
    "\n",
    "- Remove card name in text and replace with `~`.\n",
    "- Set Basic Lands `sets` to `[*]`.\n",
    "\n",
    "https://stackoverflow.com/a/78685935\n"
   ]
  },
  {
   "cell_type": "code",
   "execution_count": 8,
   "metadata": {},
   "outputs": [
    {
     "data": {
      "text/html": [
       "<div><style>\n",
       ".dataframe > thead > tr,\n",
       ".dataframe > tbody > tr {\n",
       "  text-align: right;\n",
       "  white-space: pre-wrap;\n",
       "}\n",
       "</style>\n",
       "<small>shape: (32_254, 10)</small><table border=\"1\" class=\"dataframe\"><thead><tr><th>name</th><th>scryfallId</th><th>manaCost</th><th>type</th><th>text</th><th>power</th><th>toughness</th><th>loyalty</th><th>rarities</th><th>sets</th></tr><tr><td>str</td><td>str</td><td>str</td><td>str</td><td>str</td><td>str</td><td>str</td><td>str</td><td>list[enum]</td><td>list[enum]</td></tr></thead><tbody><tr><td>&quot;&quot;Ach! Hans, Run!&quot;&quot;</td><td>&quot;84f2c8f5-8e11-4639-b7de-00e4a2…</td><td>&quot;{2}{R}{R}{G}{G}&quot;</td><td>&quot;Enchantment&quot;</td><td>&quot;At the beginning of your upkee…</td><td>null</td><td>null</td><td>null</td><td>[&quot;rare&quot;]</td><td>[&quot;UNH&quot;]</td></tr><tr><td>&quot;&quot;Brims&quot; Barone, Midway Mobster&quot;</td><td>&quot;68832214-2943-4253-8884-ffa490…</td><td>&quot;{3}{W}{B}&quot;</td><td>&quot;Legendary Creature — Human Rog…</td><td>&quot;When ~ enters, put a +1/+1 cou…</td><td>&quot;5&quot;</td><td>&quot;4&quot;</td><td>null</td><td>[&quot;uncommon&quot;]</td><td>[&quot;UNF&quot;]</td></tr><tr><td>&quot;&quot;Lifetime&quot; Pass Holder&quot;</td><td>&quot;42293306-aaea-4542-8df4-813823…</td><td>&quot;{B}&quot;</td><td>&quot;Creature — Zombie Guest&quot;</td><td>&quot;This creature enters tapped.\\n…</td><td>&quot;2&quot;</td><td>&quot;1&quot;</td><td>null</td><td>[&quot;rare&quot;]</td><td>[&quot;UNF&quot;]</td></tr><tr><td>&quot;&quot;Name Sticker&quot; Goblin&quot;</td><td>&quot;fd1442b4-da59-4042-835f-143c8d…</td><td>&quot;{2}{R}&quot;</td><td>&quot;Creature — Goblin Guest&quot;</td><td>&quot;When this creature enters from…</td><td>&quot;2&quot;</td><td>&quot;2&quot;</td><td>null</td><td>[&quot;common&quot;]</td><td>[&quot;UNF&quot;]</td></tr><tr><td>&quot;&quot;Rumors of My Death . . .&quot;&quot;</td><td>&quot;cb3587b9-e727-4f37-b4d6-1baa73…</td><td>&quot;{2}{B}&quot;</td><td>&quot;Enchantment&quot;</td><td>&quot;{3}{B}, Exile a permanent you …</td><td>null</td><td>null</td><td>null</td><td>[&quot;uncommon&quot;]</td><td>[&quot;UST&quot;]</td></tr><tr><td>&hellip;</td><td>&hellip;</td><td>&hellip;</td><td>&hellip;</td><td>&hellip;</td><td>&hellip;</td><td>&hellip;</td><td>&hellip;</td><td>&hellip;</td><td>&hellip;</td></tr><tr><td>&quot;Éomer, King of Rohan&quot;</td><td>&quot;f2c11695-f22b-44d5-937c-2578f2…</td><td>&quot;{3}{R}{W}&quot;</td><td>&quot;Legendary Creature — Human Nob…</td><td>&quot;Double strike\\n~ enters with a…</td><td>&quot;2&quot;</td><td>&quot;2&quot;</td><td>null</td><td>[&quot;rare&quot;]</td><td>[&quot;LTC&quot;]</td></tr><tr><td>&quot;Éomer, Marshal of Rohan&quot;</td><td>&quot;fba68512-f536-4961-9e24-563270…</td><td>&quot;{2}{R}{R}&quot;</td><td>&quot;Legendary Creature — Human Kni…</td><td>&quot;Haste\\nWhenever one or more ot…</td><td>&quot;4&quot;</td><td>&quot;4&quot;</td><td>null</td><td>[&quot;rare&quot;]</td><td>[&quot;PLTR&quot;, &quot;LTR&quot;]</td></tr><tr><td>&quot;Éowyn, Fearless Knight&quot;</td><td>&quot;c1b37891-5ed9-47e4-8d2f-c2bfd8…</td><td>&quot;{2}{R}{W}&quot;</td><td>&quot;Legendary Creature — Human Kni…</td><td>&quot;Haste\\nWhen ~ enters, exile ta…</td><td>&quot;3&quot;</td><td>&quot;4&quot;</td><td>null</td><td>[&quot;rare&quot;]</td><td>[&quot;PLTR&quot;, &quot;LTR&quot;]</td></tr><tr><td>&quot;Éowyn, Lady of Rohan&quot;</td><td>&quot;e59710c4-24de-419e-a8a0-e8392d…</td><td>&quot;{2}{W}&quot;</td><td>&quot;Legendary Creature — Human Nob…</td><td>&quot;At the beginning of combat on …</td><td>&quot;2&quot;</td><td>&quot;4&quot;</td><td>null</td><td>[&quot;uncommon&quot;]</td><td>[&quot;LTR&quot;]</td></tr><tr><td>&quot;Éowyn, Shieldmaiden&quot;</td><td>&quot;dd4a00ff-2206-4e12-a0ab-61ed82…</td><td>&quot;{2}{U}{R}{W}&quot;</td><td>&quot;Legendary Creature — Human Kni…</td><td>&quot;First strike\\nAt the beginning…</td><td>&quot;5&quot;</td><td>&quot;4&quot;</td><td>null</td><td>[&quot;mythic&quot;]</td><td>[&quot;LTC&quot;]</td></tr></tbody></table></div>"
      ],
      "text/plain": [
       "shape: (32_254, 10)\n",
       "┌────────────┬───────────┬───────────┬───────────┬───┬───────────┬─────────┬───────────┬───────────┐\n",
       "│ name       ┆ scryfallI ┆ manaCost  ┆ type      ┆ … ┆ toughness ┆ loyalty ┆ rarities  ┆ sets      │\n",
       "│ ---        ┆ d         ┆ ---       ┆ ---       ┆   ┆ ---       ┆ ---     ┆ ---       ┆ ---       │\n",
       "│ str        ┆ ---       ┆ str       ┆ str       ┆   ┆ str       ┆ str     ┆ list[enum ┆ list[enum │\n",
       "│            ┆ str       ┆           ┆           ┆   ┆           ┆         ┆ ]         ┆ ]         │\n",
       "╞════════════╪═══════════╪═══════════╪═══════════╪═══╪═══════════╪═════════╪═══════════╪═══════════╡\n",
       "│ \"Ach!      ┆ 84f2c8f5- ┆ {2}{R}{R} ┆ Enchantme ┆ … ┆ null      ┆ null    ┆ [\"rare\"]  ┆ [\"UNH\"]   │\n",
       "│ Hans,      ┆ 8e11-4639 ┆ {G}{G}    ┆ nt        ┆   ┆           ┆         ┆           ┆           │\n",
       "│ Run!\"      ┆ -b7de-00e ┆           ┆           ┆   ┆           ┆         ┆           ┆           │\n",
       "│            ┆ 4a2…      ┆           ┆           ┆   ┆           ┆         ┆           ┆           │\n",
       "│ \"Brims\"    ┆ 68832214- ┆ {3}{W}{B} ┆ Legendary ┆ … ┆ 4         ┆ null    ┆ [\"uncommo ┆ [\"UNF\"]   │\n",
       "│ Barone,    ┆ 2943-4253 ┆           ┆ Creature  ┆   ┆           ┆         ┆ n\"]       ┆           │\n",
       "│ Midway     ┆ -8884-ffa ┆           ┆ — Human   ┆   ┆           ┆         ┆           ┆           │\n",
       "│ Mobster    ┆ 490…      ┆           ┆ Rog…      ┆   ┆           ┆         ┆           ┆           │\n",
       "│ \"Lifetime\" ┆ 42293306- ┆ {B}       ┆ Creature  ┆ … ┆ 1         ┆ null    ┆ [\"rare\"]  ┆ [\"UNF\"]   │\n",
       "│ Pass       ┆ aaea-4542 ┆           ┆ — Zombie  ┆   ┆           ┆         ┆           ┆           │\n",
       "│ Holder     ┆ -8df4-813 ┆           ┆ Guest     ┆   ┆           ┆         ┆           ┆           │\n",
       "│            ┆ 823…      ┆           ┆           ┆   ┆           ┆         ┆           ┆           │\n",
       "│ \"Name      ┆ fd1442b4- ┆ {2}{R}    ┆ Creature  ┆ … ┆ 2         ┆ null    ┆ [\"common\" ┆ [\"UNF\"]   │\n",
       "│ Sticker\"   ┆ da59-4042 ┆           ┆ — Goblin  ┆   ┆           ┆         ┆ ]         ┆           │\n",
       "│ Goblin     ┆ -835f-143 ┆           ┆ Guest     ┆   ┆           ┆         ┆           ┆           │\n",
       "│            ┆ c8d…      ┆           ┆           ┆   ┆           ┆         ┆           ┆           │\n",
       "│ \"Rumors of ┆ cb3587b9- ┆ {2}{B}    ┆ Enchantme ┆ … ┆ null      ┆ null    ┆ [\"uncommo ┆ [\"UST\"]   │\n",
       "│ My Death . ┆ e727-4f37 ┆           ┆ nt        ┆   ┆           ┆         ┆ n\"]       ┆           │\n",
       "│ . .\"       ┆ -b4d6-1ba ┆           ┆           ┆   ┆           ┆         ┆           ┆           │\n",
       "│            ┆ a73…      ┆           ┆           ┆   ┆           ┆         ┆           ┆           │\n",
       "│ …          ┆ …         ┆ …         ┆ …         ┆ … ┆ …         ┆ …       ┆ …         ┆ …         │\n",
       "│ Éomer,     ┆ f2c11695- ┆ {3}{R}{W} ┆ Legendary ┆ … ┆ 2         ┆ null    ┆ [\"rare\"]  ┆ [\"LTC\"]   │\n",
       "│ King of    ┆ f22b-44d5 ┆           ┆ Creature  ┆   ┆           ┆         ┆           ┆           │\n",
       "│ Rohan      ┆ -937c-257 ┆           ┆ — Human   ┆   ┆           ┆         ┆           ┆           │\n",
       "│            ┆ 8f2…      ┆           ┆ Nob…      ┆   ┆           ┆         ┆           ┆           │\n",
       "│ Éomer,     ┆ fba68512- ┆ {2}{R}{R} ┆ Legendary ┆ … ┆ 4         ┆ null    ┆ [\"rare\"]  ┆ [\"PLTR\",  │\n",
       "│ Marshal of ┆ f536-4961 ┆           ┆ Creature  ┆   ┆           ┆         ┆           ┆ \"LTR\"]    │\n",
       "│ Rohan      ┆ -9e24-563 ┆           ┆ — Human   ┆   ┆           ┆         ┆           ┆           │\n",
       "│            ┆ 270…      ┆           ┆ Kni…      ┆   ┆           ┆         ┆           ┆           │\n",
       "│ Éowyn,     ┆ c1b37891- ┆ {2}{R}{W} ┆ Legendary ┆ … ┆ 4         ┆ null    ┆ [\"rare\"]  ┆ [\"PLTR\",  │\n",
       "│ Fearless   ┆ 5ed9-47e4 ┆           ┆ Creature  ┆   ┆           ┆         ┆           ┆ \"LTR\"]    │\n",
       "│ Knight     ┆ -8d2f-c2b ┆           ┆ — Human   ┆   ┆           ┆         ┆           ┆           │\n",
       "│            ┆ fd8…      ┆           ┆ Kni…      ┆   ┆           ┆         ┆           ┆           │\n",
       "│ Éowyn,     ┆ e59710c4- ┆ {2}{W}    ┆ Legendary ┆ … ┆ 4         ┆ null    ┆ [\"uncommo ┆ [\"LTR\"]   │\n",
       "│ Lady of    ┆ 24de-419e ┆           ┆ Creature  ┆   ┆           ┆         ┆ n\"]       ┆           │\n",
       "│ Rohan      ┆ -a8a0-e83 ┆           ┆ — Human   ┆   ┆           ┆         ┆           ┆           │\n",
       "│            ┆ 92d…      ┆           ┆ Nob…      ┆   ┆           ┆         ┆           ┆           │\n",
       "│ Éowyn, Shi ┆ dd4a00ff- ┆ {2}{U}{R} ┆ Legendary ┆ … ┆ 4         ┆ null    ┆ [\"mythic\" ┆ [\"LTC\"]   │\n",
       "│ eldmaiden  ┆ 2206-4e12 ┆ {W}       ┆ Creature  ┆   ┆           ┆         ┆ ]         ┆           │\n",
       "│            ┆ -a0ab-61e ┆           ┆ — Human   ┆   ┆           ┆         ┆           ┆           │\n",
       "│            ┆ d82…      ┆           ┆ Kni…      ┆   ┆           ┆         ┆           ┆           │\n",
       "└────────────┴───────────┴───────────┴───────────┴───┴───────────┴─────────┴───────────┴───────────┘"
      ]
     },
     "execution_count": 8,
     "metadata": {},
     "output_type": "execute_result"
    }
   ],
   "source": [
    "BASIC_LANDS = [\"Island\", \"Swamp\", \"Mountain\", \"Plains\", \"Forest\"]\n",
    "\n",
    "df_cards = df_cards.with_columns(\n",
    "    text=pl.when(pl.col(\"text\").str.contains(pl.col(\"name\"), literal=True))\n",
    "    .then(\n",
    "        pl.col(\"text\")\n",
    "        .str.replace_all(pl.col(\"name\").first(), \"~\", literal=True)\n",
    "        .over(\"name\")\n",
    "    )\n",
    "    .otherwise(pl.col(\"text\")),\n",
    "    sets=pl.when(pl.col(\"name\").is_in(BASIC_LANDS))\n",
    "    .then([\"*\"])\n",
    "    .otherwise(pl.col(\"sets\")),\n",
    ")\n",
    "\n",
    "df_cards"
   ]
  },
  {
   "cell_type": "code",
   "execution_count": 9,
   "metadata": {},
   "outputs": [
    {
     "data": {
      "text/html": [
       "<div><style>\n",
       ".dataframe > thead > tr,\n",
       ".dataframe > tbody > tr {\n",
       "  text-align: right;\n",
       "  white-space: pre-wrap;\n",
       "}\n",
       "</style>\n",
       "<small>shape: (5, 10)</small><table border=\"1\" class=\"dataframe\"><thead><tr><th>name</th><th>scryfallId</th><th>manaCost</th><th>type</th><th>text</th><th>power</th><th>toughness</th><th>loyalty</th><th>rarities</th><th>sets</th></tr><tr><td>str</td><td>str</td><td>str</td><td>str</td><td>str</td><td>str</td><td>str</td><td>str</td><td>list[enum]</td><td>list[enum]</td></tr></thead><tbody><tr><td>&quot;Forest&quot;</td><td>&quot;fd1b6c5c-4585-47c1-82eb-a32418…</td><td>null</td><td>&quot;Basic Land — Forest&quot;</td><td>&quot;({T}: Add {G}.)&quot;</td><td>null</td><td>null</td><td>null</td><td>[&quot;common&quot;, &quot;rare&quot;]</td><td>[&quot;*&quot;]</td></tr><tr><td>&quot;Island&quot;</td><td>&quot;5a8e9b9e-4947-4b6a-b21b-6fe009…</td><td>null</td><td>&quot;Basic Land — Island&quot;</td><td>&quot;({T}: Add {U}.)&quot;</td><td>null</td><td>null</td><td>null</td><td>[&quot;common&quot;, &quot;rare&quot;]</td><td>[&quot;*&quot;]</td></tr><tr><td>&quot;Mountain&quot;</td><td>&quot;5e4952a8-4e1f-4a74-8a06-c9d633…</td><td>null</td><td>&quot;Basic Land — Mountain&quot;</td><td>&quot;({T}: Add {R}.)&quot;</td><td>null</td><td>null</td><td>null</td><td>[&quot;common&quot;, &quot;rare&quot;]</td><td>[&quot;*&quot;]</td></tr><tr><td>&quot;Plains&quot;</td><td>&quot;a1cf2f81-3041-4349-9b37-f215c4…</td><td>null</td><td>&quot;Basic Land — Plains&quot;</td><td>&quot;({T}: Add {W}.)&quot;</td><td>null</td><td>null</td><td>null</td><td>[&quot;common&quot;, &quot;rare&quot;]</td><td>[&quot;*&quot;]</td></tr><tr><td>&quot;Swamp&quot;</td><td>&quot;040d064e-b023-4750-afeb-1f58e3…</td><td>null</td><td>&quot;Basic Land — Swamp&quot;</td><td>&quot;({T}: Add {B}.)&quot;</td><td>null</td><td>null</td><td>null</td><td>[&quot;common&quot;, &quot;rare&quot;]</td><td>[&quot;*&quot;]</td></tr></tbody></table></div>"
      ],
      "text/plain": [
       "shape: (5, 10)\n",
       "┌──────────┬────────────┬──────────┬────────────┬───┬───────────┬─────────┬────────────┬───────────┐\n",
       "│ name     ┆ scryfallId ┆ manaCost ┆ type       ┆ … ┆ toughness ┆ loyalty ┆ rarities   ┆ sets      │\n",
       "│ ---      ┆ ---        ┆ ---      ┆ ---        ┆   ┆ ---       ┆ ---     ┆ ---        ┆ ---       │\n",
       "│ str      ┆ str        ┆ str      ┆ str        ┆   ┆ str       ┆ str     ┆ list[enum] ┆ list[enum │\n",
       "│          ┆            ┆          ┆            ┆   ┆           ┆         ┆            ┆ ]         │\n",
       "╞══════════╪════════════╪══════════╪════════════╪═══╪═══════════╪═════════╪════════════╪═══════════╡\n",
       "│ Forest   ┆ fd1b6c5c-4 ┆ null     ┆ Basic Land ┆ … ┆ null      ┆ null    ┆ [\"common\", ┆ [\"*\"]     │\n",
       "│          ┆ 585-47c1-8 ┆          ┆ — Forest   ┆   ┆           ┆         ┆ \"rare\"]    ┆           │\n",
       "│          ┆ 2eb-a32418 ┆          ┆            ┆   ┆           ┆         ┆            ┆           │\n",
       "│          ┆ …          ┆          ┆            ┆   ┆           ┆         ┆            ┆           │\n",
       "│ Island   ┆ 5a8e9b9e-4 ┆ null     ┆ Basic Land ┆ … ┆ null      ┆ null    ┆ [\"common\", ┆ [\"*\"]     │\n",
       "│          ┆ 947-4b6a-b ┆          ┆ — Island   ┆   ┆           ┆         ┆ \"rare\"]    ┆           │\n",
       "│          ┆ 21b-6fe009 ┆          ┆            ┆   ┆           ┆         ┆            ┆           │\n",
       "│          ┆ …          ┆          ┆            ┆   ┆           ┆         ┆            ┆           │\n",
       "│ Mountain ┆ 5e4952a8-4 ┆ null     ┆ Basic Land ┆ … ┆ null      ┆ null    ┆ [\"common\", ┆ [\"*\"]     │\n",
       "│          ┆ e1f-4a74-8 ┆          ┆ — Mountain ┆   ┆           ┆         ┆ \"rare\"]    ┆           │\n",
       "│          ┆ a06-c9d633 ┆          ┆            ┆   ┆           ┆         ┆            ┆           │\n",
       "│          ┆ …          ┆          ┆            ┆   ┆           ┆         ┆            ┆           │\n",
       "│ Plains   ┆ a1cf2f81-3 ┆ null     ┆ Basic Land ┆ … ┆ null      ┆ null    ┆ [\"common\", ┆ [\"*\"]     │\n",
       "│          ┆ 041-4349-9 ┆          ┆ — Plains   ┆   ┆           ┆         ┆ \"rare\"]    ┆           │\n",
       "│          ┆ b37-f215c4 ┆          ┆            ┆   ┆           ┆         ┆            ┆           │\n",
       "│          ┆ …          ┆          ┆            ┆   ┆           ┆         ┆            ┆           │\n",
       "│ Swamp    ┆ 040d064e-b ┆ null     ┆ Basic Land ┆ … ┆ null      ┆ null    ┆ [\"common\", ┆ [\"*\"]     │\n",
       "│          ┆ 023-4750-a ┆          ┆ — Swamp    ┆   ┆           ┆         ┆ \"rare\"]    ┆           │\n",
       "│          ┆ feb-1f58e3 ┆          ┆            ┆   ┆           ┆         ┆            ┆           │\n",
       "│          ┆ …          ┆          ┆            ┆   ┆           ┆         ┆            ┆           │\n",
       "└──────────┴────────────┴──────────┴────────────┴───┴───────────┴─────────┴────────────┴───────────┘"
      ]
     },
     "execution_count": 9,
     "metadata": {},
     "output_type": "execute_result"
    }
   ],
   "source": [
    "# rare Basic Lands exist: https://gatherer.wizards.com/Pages/Card/Details.aspx?multiverseid=485279\n",
    "df_cards.filter(pl.col(\"name\").is_in(BASIC_LANDS))"
   ]
  },
  {
   "cell_type": "code",
   "execution_count": 10,
   "metadata": {},
   "outputs": [
    {
     "data": {
      "text/plain": [
       "[{'name': 'Evolving Wilds',\n",
       "  'scryfallId': '860fef67-8a14-4c67-a86f-4dcd682d1321',\n",
       "  'manaCost': None,\n",
       "  'type': 'Land',\n",
       "  'text': '{T}, Sacrifice this land: Search your library for a basic land card, put it onto the battlefield tapped, then shuffle.',\n",
       "  'power': None,\n",
       "  'toughness': None,\n",
       "  'loyalty': None,\n",
       "  'rarities': ['common', 'rare'],\n",
       "  'sets': ['PRM',\n",
       "   'ROE',\n",
       "   'CMD',\n",
       "   'DDH',\n",
       "   'F12',\n",
       "   'DKA',\n",
       "   'M13',\n",
       "   'DDK',\n",
       "   'C13',\n",
       "   'M15',\n",
       "   'DDN',\n",
       "   'C14',\n",
       "   'DDO',\n",
       "   'DTK',\n",
       "   'PTKDF',\n",
       "   'MM2',\n",
       "   'ORI',\n",
       "   'DDP',\n",
       "   'BFZ',\n",
       "   'C15',\n",
       "   'CN2',\n",
       "   'C16',\n",
       "   'AKH',\n",
       "   'CMA',\n",
       "   'C17',\n",
       "   'IMA',\n",
       "   'PRIX',\n",
       "   'RIX',\n",
       "   'CM2',\n",
       "   'PANA',\n",
       "   'C18',\n",
       "   'M20',\n",
       "   'C19',\n",
       "   'SLD',\n",
       "   'IKO',\n",
       "   'ANB',\n",
       "   'AKR',\n",
       "   'ZNC',\n",
       "   'PLST',\n",
       "   'CMR',\n",
       "   'AFR',\n",
       "   'MID',\n",
       "   'VOW',\n",
       "   'DBL',\n",
       "   'CLB',\n",
       "   'DMC',\n",
       "   '40K',\n",
       "   'BRO',\n",
       "   'BRC',\n",
       "   'J22',\n",
       "   'SIS',\n",
       "   'MOC',\n",
       "   'LTC',\n",
       "   'WOE',\n",
       "   'WHO',\n",
       "   'LCC',\n",
       "   'PIP',\n",
       "   'OTC',\n",
       "   'M3C',\n",
       "   'BLC',\n",
       "   'DSC',\n",
       "   'FDN',\n",
       "   'J25',\n",
       "   'PIO',\n",
       "   'INR',\n",
       "   'DRC']}]"
      ]
     },
     "execution_count": 10,
     "metadata": {},
     "output_type": "execute_result"
    }
   ],
   "source": [
    "# Card that is in the most sets\n",
    "df_cards.sort(pl.col(\"sets\").list.len(), descending=True).head(1).to_dicts()"
   ]
  },
  {
   "cell_type": "code",
   "execution_count": 11,
   "metadata": {},
   "outputs": [],
   "source": [
    "df_cards.write_parquet(\"mtg_data.parquet\")"
   ]
  }
 ],
 "metadata": {
  "kernelspec": {
   "display_name": ".venv",
   "language": "python",
   "name": "python3"
  },
  "language_info": {
   "codemirror_mode": {
    "name": "ipython",
    "version": 3
   },
   "file_extension": ".py",
   "mimetype": "text/x-python",
   "name": "python",
   "nbconvert_exporter": "python",
   "pygments_lexer": "ipython3",
   "version": "3.13.1"
  }
 },
 "nbformat": 4,
 "nbformat_minor": 2
}
