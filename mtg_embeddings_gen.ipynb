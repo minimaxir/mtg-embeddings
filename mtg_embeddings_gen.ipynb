{
 "cells": [
  {
   "cell_type": "code",
   "execution_count": 1,
   "metadata": {},
   "outputs": [],
   "source": [
    "# pip install flash_attn"
   ]
  },
  {
   "cell_type": "code",
   "execution_count": 2,
   "metadata": {
    "tags": []
   },
   "outputs": [],
   "source": [
    "import polars as pl\n",
    "import orjson\n",
    "import torch\n",
    "# import yaml\n",
    "from tqdm import tqdm\n",
    "\n",
    "import torch.nn.functional as F\n",
    "from transformers import AutoModel, AutoTokenizer"
   ]
  },
  {
   "cell_type": "code",
   "execution_count": 3,
   "metadata": {
    "tags": []
   },
   "outputs": [
    {
     "data": {
      "text/html": [
       "<div><style>\n",
       ".dataframe > thead > tr,\n",
       ".dataframe > tbody > tr {\n",
       "  text-align: right;\n",
       "  white-space: pre-wrap;\n",
       "}\n",
       "</style>\n",
       "<small>shape: (32_254, 10)</small><table border=\"1\" class=\"dataframe\"><thead><tr><th>name</th><th>scryfallId</th><th>manaCost</th><th>type</th><th>text</th><th>power</th><th>toughness</th><th>loyalty</th><th>rarities</th><th>sets</th></tr><tr><td>str</td><td>str</td><td>str</td><td>str</td><td>str</td><td>str</td><td>str</td><td>str</td><td>list[enum]</td><td>list[enum]</td></tr></thead><tbody><tr><td>&quot;Marhault Elsdragon&quot;</td><td>&quot;2e805883-081b-478a-aa58-172b65…</td><td>&quot;{3}{R}{R}{G}&quot;</td><td>&quot;Legendary Creature — Elf Warri…</td><td>&quot;Rampage 1 (Whenever this creat…</td><td>&quot;4&quot;</td><td>&quot;6&quot;</td><td>null</td><td>[&quot;uncommon&quot;]</td><td>[&quot;LEG&quot;, &quot;BCHR&quot;, … &quot;ME3&quot;]</td></tr><tr><td>&quot;Raven&#x27;s Crime&quot;</td><td>&quot;7a67bfc7-da5e-443c-88c9-1c8739…</td><td>&quot;{B}&quot;</td><td>&quot;Sorcery&quot;</td><td>&quot;Target player discards a card.…</td><td>null</td><td>null</td><td>null</td><td>[&quot;common&quot;]</td><td>[&quot;EVE&quot;, &quot;MMA&quot;, &quot;PLST&quot;]</td></tr><tr><td>&quot;Shauku, Endbringer&quot;</td><td>&quot;06d94b21-7568-4e5c-a8ec-ff5bb4…</td><td>&quot;{5}{B}{B}&quot;</td><td>&quot;Legendary Creature — Vampire&quot;</td><td>&quot;Flying\\n~ can&#x27;t attack if ther…</td><td>&quot;5&quot;</td><td>&quot;5&quot;</td><td>null</td><td>[&quot;rare&quot;]</td><td>[&quot;MIR&quot;]</td></tr><tr><td>&quot;Awakened Awareness&quot;</td><td>&quot;51378e10-2f17-445b-97e9-5c3732…</td><td>&quot;{X}{U}{U}&quot;</td><td>&quot;Enchantment — Aura&quot;</td><td>&quot;Enchant artifact or creature\\n…</td><td>null</td><td>null</td><td>null</td><td>[&quot;uncommon&quot;]</td><td>[&quot;NEO&quot;]</td></tr><tr><td>&quot;Body Snatcher&quot;</td><td>&quot;2bd51f0b-3c8a-4b2e-a0b6-7fa98c…</td><td>&quot;{2}{B}{B}&quot;</td><td>&quot;Creature — Phyrexian Minion&quot;</td><td>&quot;When this creature enters, exi…</td><td>&quot;2&quot;</td><td>&quot;2&quot;</td><td>null</td><td>[&quot;rare&quot;]</td><td>[&quot;UDS&quot;, &quot;PLST&quot;, &quot;DMR&quot;]</td></tr><tr><td>&hellip;</td><td>&hellip;</td><td>&hellip;</td><td>&hellip;</td><td>&hellip;</td><td>&hellip;</td><td>&hellip;</td><td>&hellip;</td><td>&hellip;</td><td>&hellip;</td></tr><tr><td>&quot;Minamo Scrollkeeper&quot;</td><td>&quot;821c99d3-389a-4138-99a2-0c4a4b…</td><td>&quot;{1}{U}&quot;</td><td>&quot;Creature — Human Wizard&quot;</td><td>&quot;Defender\\nYour maximum hand si…</td><td>&quot;2&quot;</td><td>&quot;3&quot;</td><td>null</td><td>[&quot;common&quot;]</td><td>[&quot;SOK&quot;, &quot;PSAL&quot;, &quot;CNS&quot;]</td></tr><tr><td>&quot;Scapeshift&quot;</td><td>&quot;5edac3e9-6c18-4801-a035-2803d3…</td><td>&quot;{2}{G}{G}&quot;</td><td>&quot;Sorcery&quot;</td><td>&quot;Sacrifice any number of lands.…</td><td>null</td><td>null</td><td>null</td><td>[&quot;rare&quot;, &quot;mythic&quot;]</td><td>[&quot;PRM&quot;, &quot;MOR&quot;, … &quot;SPG&quot;]</td></tr><tr><td>&quot;Fierce Guardianship&quot;</td><td>&quot;c103c4d8-5a3c-443b-9caf-f41f8b…</td><td>&quot;{2}{U}&quot;</td><td>&quot;Instant&quot;</td><td>&quot;If you control a commander, yo…</td><td>null</td><td>null</td><td>null</td><td>[&quot;rare&quot;]</td><td>[&quot;SLD&quot;, &quot;C20&quot;, &quot;CMM&quot;]</td></tr><tr><td>&quot;Flavor Disaster&quot;</td><td>&quot;ca8606d7-0da5-4fb5-b541-a12900…</td><td>&quot;{4}{G}&quot;</td><td>&quot;Enchantment Creature — Element…</td><td>&quot;Reach\\nWhen ~ enters the battl…</td><td>&quot;4&quot;</td><td>&quot;3&quot;</td><td>null</td><td>[&quot;rare&quot;]</td><td>[&quot;MB2&quot;]</td></tr><tr><td>&quot;Coercive Portal&quot;</td><td>&quot;bf75477f-d42b-4756-a05a-4ec45a…</td><td>&quot;{4}&quot;</td><td>&quot;Artifact&quot;</td><td>&quot;Will of the council — At the b…</td><td>null</td><td>null</td><td>null</td><td>[&quot;mythic&quot;]</td><td>[&quot;CNS&quot;, &quot;VMA&quot;, &quot;LCC&quot;]</td></tr></tbody></table></div>"
      ],
      "text/plain": [
       "shape: (32_254, 10)\n",
       "┌────────────┬───────────┬───────────┬───────────┬───┬───────────┬─────────┬───────────┬───────────┐\n",
       "│ name       ┆ scryfallI ┆ manaCost  ┆ type      ┆ … ┆ toughness ┆ loyalty ┆ rarities  ┆ sets      │\n",
       "│ ---        ┆ d         ┆ ---       ┆ ---       ┆   ┆ ---       ┆ ---     ┆ ---       ┆ ---       │\n",
       "│ str        ┆ ---       ┆ str       ┆ str       ┆   ┆ str       ┆ str     ┆ list[enum ┆ list[enum │\n",
       "│            ┆ str       ┆           ┆           ┆   ┆           ┆         ┆ ]         ┆ ]         │\n",
       "╞════════════╪═══════════╪═══════════╪═══════════╪═══╪═══════════╪═════════╪═══════════╪═══════════╡\n",
       "│ Marhault   ┆ 2e805883- ┆ {3}{R}{R} ┆ Legendary ┆ … ┆ 6         ┆ null    ┆ [\"uncommo ┆ [\"LEG\",   │\n",
       "│ Elsdragon  ┆ 081b-478a ┆ {G}       ┆ Creature  ┆   ┆           ┆         ┆ n\"]       ┆ \"BCHR\", … │\n",
       "│            ┆ -aa58-172 ┆           ┆ — Elf     ┆   ┆           ┆         ┆           ┆ \"ME3\"]    │\n",
       "│            ┆ b65…      ┆           ┆ Warri…    ┆   ┆           ┆         ┆           ┆           │\n",
       "│ Raven's    ┆ 7a67bfc7- ┆ {B}       ┆ Sorcery   ┆ … ┆ null      ┆ null    ┆ [\"common\" ┆ [\"EVE\",   │\n",
       "│ Crime      ┆ da5e-443c ┆           ┆           ┆   ┆           ┆         ┆ ]         ┆ \"MMA\",    │\n",
       "│            ┆ -88c9-1c8 ┆           ┆           ┆   ┆           ┆         ┆           ┆ \"PLST\"]   │\n",
       "│            ┆ 739…      ┆           ┆           ┆   ┆           ┆         ┆           ┆           │\n",
       "│ Shauku,    ┆ 06d94b21- ┆ {5}{B}{B} ┆ Legendary ┆ … ┆ 5         ┆ null    ┆ [\"rare\"]  ┆ [\"MIR\"]   │\n",
       "│ Endbringer ┆ 7568-4e5c ┆           ┆ Creature  ┆   ┆           ┆         ┆           ┆           │\n",
       "│            ┆ -a8ec-ff5 ┆           ┆ — Vampire ┆   ┆           ┆         ┆           ┆           │\n",
       "│            ┆ bb4…      ┆           ┆           ┆   ┆           ┆         ┆           ┆           │\n",
       "│ Awakened   ┆ 51378e10- ┆ {X}{U}{U} ┆ Enchantme ┆ … ┆ null      ┆ null    ┆ [\"uncommo ┆ [\"NEO\"]   │\n",
       "│ Awareness  ┆ 2f17-445b ┆           ┆ nt — Aura ┆   ┆           ┆         ┆ n\"]       ┆           │\n",
       "│            ┆ -97e9-5c3 ┆           ┆           ┆   ┆           ┆         ┆           ┆           │\n",
       "│            ┆ 732…      ┆           ┆           ┆   ┆           ┆         ┆           ┆           │\n",
       "│ Body       ┆ 2bd51f0b- ┆ {2}{B}{B} ┆ Creature  ┆ … ┆ 2         ┆ null    ┆ [\"rare\"]  ┆ [\"UDS\",   │\n",
       "│ Snatcher   ┆ 3c8a-4b2e ┆           ┆ —         ┆   ┆           ┆         ┆           ┆ \"PLST\",   │\n",
       "│            ┆ -a0b6-7fa ┆           ┆ Phyrexian ┆   ┆           ┆         ┆           ┆ \"DMR\"]    │\n",
       "│            ┆ 98c…      ┆           ┆ Minion    ┆   ┆           ┆         ┆           ┆           │\n",
       "│ …          ┆ …         ┆ …         ┆ …         ┆ … ┆ …         ┆ …       ┆ …         ┆ …         │\n",
       "│ Minamo Scr ┆ 821c99d3- ┆ {1}{U}    ┆ Creature  ┆ … ┆ 3         ┆ null    ┆ [\"common\" ┆ [\"SOK\",   │\n",
       "│ ollkeeper  ┆ 389a-4138 ┆           ┆ — Human   ┆   ┆           ┆         ┆ ]         ┆ \"PSAL\",   │\n",
       "│            ┆ -99a2-0c4 ┆           ┆ Wizard    ┆   ┆           ┆         ┆           ┆ \"CNS\"]    │\n",
       "│            ┆ a4b…      ┆           ┆           ┆   ┆           ┆         ┆           ┆           │\n",
       "│ Scapeshift ┆ 5edac3e9- ┆ {2}{G}{G} ┆ Sorcery   ┆ … ┆ null      ┆ null    ┆ [\"rare\",  ┆ [\"PRM\",   │\n",
       "│            ┆ 6c18-4801 ┆           ┆           ┆   ┆           ┆         ┆ \"mythic\"] ┆ \"MOR\", …  │\n",
       "│            ┆ -a035-280 ┆           ┆           ┆   ┆           ┆         ┆           ┆ \"SPG\"]    │\n",
       "│            ┆ 3d3…      ┆           ┆           ┆   ┆           ┆         ┆           ┆           │\n",
       "│ Fierce Gua ┆ c103c4d8- ┆ {2}{U}    ┆ Instant   ┆ … ┆ null      ┆ null    ┆ [\"rare\"]  ┆ [\"SLD\",   │\n",
       "│ rdianship  ┆ 5a3c-443b ┆           ┆           ┆   ┆           ┆         ┆           ┆ \"C20\",    │\n",
       "│            ┆ -9caf-f41 ┆           ┆           ┆   ┆           ┆         ┆           ┆ \"CMM\"]    │\n",
       "│            ┆ f8b…      ┆           ┆           ┆   ┆           ┆         ┆           ┆           │\n",
       "│ Flavor     ┆ ca8606d7- ┆ {4}{G}    ┆ Enchantme ┆ … ┆ 3         ┆ null    ┆ [\"rare\"]  ┆ [\"MB2\"]   │\n",
       "│ Disaster   ┆ 0da5-4fb5 ┆           ┆ nt        ┆   ┆           ┆         ┆           ┆           │\n",
       "│            ┆ -b541-a12 ┆           ┆ Creature  ┆   ┆           ┆         ┆           ┆           │\n",
       "│            ┆ 900…      ┆           ┆ —         ┆   ┆           ┆         ┆           ┆           │\n",
       "│            ┆           ┆           ┆ Element…  ┆   ┆           ┆         ┆           ┆           │\n",
       "│ Coercive   ┆ bf75477f- ┆ {4}       ┆ Artifact  ┆ … ┆ null      ┆ null    ┆ [\"mythic\" ┆ [\"CNS\",   │\n",
       "│ Portal     ┆ d42b-4756 ┆           ┆           ┆   ┆           ┆         ┆ ]         ┆ \"VMA\",    │\n",
       "│            ┆ -a05a-4ec ┆           ┆           ┆   ┆           ┆         ┆           ┆ \"LCC\"]    │\n",
       "│            ┆ 45a…      ┆           ┆           ┆   ┆           ┆         ┆           ┆           │\n",
       "└────────────┴───────────┴───────────┴───────────┴───┴───────────┴─────────┴───────────┴───────────┘"
      ]
     },
     "execution_count": 3,
     "metadata": {},
     "output_type": "execute_result"
    }
   ],
   "source": [
    "df = pl.read_parquet(\"mtg_data.parquet\").sample(fraction=1, shuffle=True, seed=42)\n",
    "\n",
    "df"
   ]
  },
  {
   "cell_type": "code",
   "execution_count": 4,
   "metadata": {
    "tags": []
   },
   "outputs": [
    {
     "name": "stdout",
     "output_type": "stream",
     "text": [
      "{\n",
      "  \"name\": \"Marhault Elsdragon\",\n",
      "  \"manaCost\": \"{3}{R}{R}{G}\",\n",
      "  \"type\": \"Legendary Creature — Elf Warrior\",\n",
      "  \"text\": \"Rampage 1 (Whenever this creature becomes blocked, it gets +1/+1 until end of turn for each creature blocking it beyond the first.)\",\n",
      "  \"power\": \"4\",\n",
      "  \"toughness\": \"6\",\n",
      "  \"rarities\": [\n",
      "    \"uncommon\"\n",
      "  ],\n",
      "  \"sets\": [\n",
      "    \"LEG\",\n",
      "    \"BCHR\",\n",
      "    \"CHR\",\n",
      "    \"ME3\"\n",
      "  ]\n",
      "}\n"
     ]
    }
   ],
   "source": [
    "docs = []\n",
    "for row in df.iter_rows(named=True):\n",
    "    row_dict = {k: v for k, v in row.items() if v is not None and k != \"scryfallId\"}\n",
    "    # row_str = yaml.dump(row_dict, sort_keys=False, allow_unicode=True)\n",
    "    row_str = orjson.dumps(row_dict, option=orjson.OPT_INDENT_2).decode(\"utf-8\")\n",
    "    docs.append(row_str)\n",
    "\n",
    "print(docs[0])"
   ]
  },
  {
   "cell_type": "code",
   "execution_count": 5,
   "metadata": {
    "tags": []
   },
   "outputs": [
    {
     "name": "stderr",
     "output_type": "stream",
     "text": [
      "You are attempting to use Flash Attention 2.0 with a model not initialized on GPU. Make sure to move the model to GPU after initializing it on CPU with `model.to('cuda')`.\n"
     ]
    }
   ],
   "source": [
    "model_path = \"Alibaba-NLP/gte-modernbert-base\"\n",
    "device = \"cuda:0\"\n",
    "\n",
    "tokenizer = AutoTokenizer.from_pretrained(model_path)\n",
    "model = AutoModel.from_pretrained(model_path)\n",
    "_ = model.to(device)\n",
    "\n",
    "torch.set_float32_matmul_precision('high')"
   ]
  },
  {
   "cell_type": "code",
   "execution_count": 6,
   "metadata": {
    "tags": []
   },
   "outputs": [
    {
     "data": {
      "text/plain": [
       "{'input_ids': tensor([[50281,    92,   187, 50276,     3,  1590,  1381,   346,  9709,    73,\n",
       "          1923,  3599,    84,  5267,  5154,   995,   187, 50276,     3,  1342,\n",
       "            66, 25997,  1381, 36028,    20,  1217,    51,  1217,    51,  1217,\n",
       "            40, 32722,   187, 50276,     3,   881,  1381,   346, 18596,   423,\n",
       "           552, 13489,   459,  1905,  3599,    71, 46191,   995,   187, 50276,\n",
       "             3,  1156,  1381,   346,    51,  1301,   486,   337,   313, 43835,\n",
       "           436, 15906,  4916, 13230,    13,   352,  4850,   559,    18, 23615,\n",
       "            18,  1919,   990,   273,  1614,   323,  1016, 15906, 14589,   352,\n",
       "          4457,   253,   806,  2698,   995,   187, 50276,     3,  9177,  1381,\n",
       "           346,    21,   995,   187, 50276,     3,    85,   602,  1255,  1381,\n",
       "           346,    23,   995,   187, 50276,     3, 23537,  1005,  1381,   544,\n",
       "           187, 50274,     3,   328,  9784,     3,   187, 50276,  1092,   187,\n",
       "         50276,     3, 19598,  1381,   544,   187, 50274,     3,  1843,    40,\n",
       "           995,   187, 50274,     3,    35,  2775,    51,   995,   187, 50274,\n",
       "             3,  2775,    51,   995,   187, 50274,     3,  5288,    20,     3,\n",
       "           187, 50276,    62,   187,    94, 50282]], device='cuda:0'), 'attention_mask': tensor([[1, 1, 1, 1, 1, 1, 1, 1, 1, 1, 1, 1, 1, 1, 1, 1, 1, 1, 1, 1, 1, 1, 1, 1,\n",
       "         1, 1, 1, 1, 1, 1, 1, 1, 1, 1, 1, 1, 1, 1, 1, 1, 1, 1, 1, 1, 1, 1, 1, 1,\n",
       "         1, 1, 1, 1, 1, 1, 1, 1, 1, 1, 1, 1, 1, 1, 1, 1, 1, 1, 1, 1, 1, 1, 1, 1,\n",
       "         1, 1, 1, 1, 1, 1, 1, 1, 1, 1, 1, 1, 1, 1, 1, 1, 1, 1, 1, 1, 1, 1, 1, 1,\n",
       "         1, 1, 1, 1, 1, 1, 1, 1, 1, 1, 1, 1, 1, 1, 1, 1, 1, 1, 1, 1, 1, 1, 1, 1,\n",
       "         1, 1, 1, 1, 1, 1, 1, 1, 1, 1, 1, 1, 1, 1, 1, 1, 1, 1, 1, 1, 1, 1, 1, 1,\n",
       "         1, 1, 1, 1, 1, 1, 1, 1, 1, 1, 1, 1]], device='cuda:0')}"
      ]
     },
     "execution_count": 6,
     "metadata": {},
     "output_type": "execute_result"
    }
   ],
   "source": [
    "tokenized_docs = tokenizer(\n",
    "    docs[0], max_length=8192, padding=True, truncation=True, return_tensors=\"pt\"\n",
    ").to(device)\n",
    "\n",
    "tokenized_docs"
   ]
  },
  {
   "cell_type": "code",
   "execution_count": 7,
   "metadata": {
    "tags": []
   },
   "outputs": [
    {
     "name": "stderr",
     "output_type": "stream",
     "text": [
      "100%|██████████| 504/504 [01:17<00:00,  6.48it/s]\n"
     ]
    },
    {
     "data": {
      "text/plain": [
       "torch.Size([32254, 768])"
      ]
     },
     "execution_count": 7,
     "metadata": {},
     "output_type": "execute_result"
    }
   ],
   "source": [
    "dataloader = torch.utils.data.DataLoader(docs, batch_size=64,\n",
    "                                         shuffle=False,\n",
    "                                         pin_memory=True,\n",
    "                                         pin_memory_device=device)\n",
    "\n",
    "dataset_embeddings = []\n",
    "for batch in tqdm(dataloader, smoothing=0):\n",
    "    tokenized_batch = tokenizer(\n",
    "        batch, max_length=8192, padding=True, truncation=True, return_tensors=\"pt\"\n",
    "    ).to(device)\n",
    "\n",
    "    with torch.no_grad():\n",
    "        outputs = model(**tokenized_batch)\n",
    "        embeddings = outputs.last_hidden_state[:, 0].detach().cpu()\n",
    "    dataset_embeddings.append(embeddings)\n",
    "\n",
    "dataset_embeddings = torch.cat(dataset_embeddings)\n",
    "dataset_embeddings = F.normalize(dataset_embeddings, p=2, dim=1)\n",
    "dataset_embeddings.size()"
   ]
  },
  {
   "cell_type": "code",
   "execution_count": 8,
   "metadata": {},
   "outputs": [
    {
     "data": {
      "text/html": [
       "<div><style>\n",
       ".dataframe > thead > tr,\n",
       ".dataframe > tbody > tr {\n",
       "  text-align: right;\n",
       "  white-space: pre-wrap;\n",
       "}\n",
       "</style>\n",
       "<small>shape: (32_254, 11)</small><table border=\"1\" class=\"dataframe\"><thead><tr><th>name</th><th>scryfallId</th><th>manaCost</th><th>type</th><th>text</th><th>power</th><th>toughness</th><th>loyalty</th><th>rarities</th><th>sets</th><th>embedding</th></tr><tr><td>str</td><td>str</td><td>str</td><td>str</td><td>str</td><td>str</td><td>str</td><td>str</td><td>list[enum]</td><td>list[enum]</td><td>array[f32, 768]</td></tr></thead><tbody><tr><td>&quot;&quot;Ach! Hans, Run!&quot;&quot;</td><td>&quot;84f2c8f5-8e11-4639-b7de-00e4a2…</td><td>&quot;{2}{R}{R}{G}{G}&quot;</td><td>&quot;Enchantment&quot;</td><td>&quot;At the beginning of your upkee…</td><td>null</td><td>null</td><td>null</td><td>[&quot;rare&quot;]</td><td>[&quot;UNH&quot;]</td><td>[0.021458, -0.036102, … -0.00607]</td></tr><tr><td>&quot;&quot;Brims&quot; Barone, Midway Mobster&quot;</td><td>&quot;68832214-2943-4253-8884-ffa490…</td><td>&quot;{3}{W}{B}&quot;</td><td>&quot;Legendary Creature — Human Rog…</td><td>&quot;When ~ enters, put a +1/+1 cou…</td><td>&quot;5&quot;</td><td>&quot;4&quot;</td><td>null</td><td>[&quot;uncommon&quot;]</td><td>[&quot;UNF&quot;]</td><td>[0.000261, 0.025207, … 0.005641]</td></tr><tr><td>&quot;&quot;Lifetime&quot; Pass Holder&quot;</td><td>&quot;42293306-aaea-4542-8df4-813823…</td><td>&quot;{B}&quot;</td><td>&quot;Creature — Zombie Guest&quot;</td><td>&quot;This creature enters tapped.\\n…</td><td>&quot;2&quot;</td><td>&quot;1&quot;</td><td>null</td><td>[&quot;rare&quot;]</td><td>[&quot;UNF&quot;]</td><td>[-0.004467, -0.016707, … 0.001401]</td></tr><tr><td>&quot;&quot;Name Sticker&quot; Goblin&quot;</td><td>&quot;fd1442b4-da59-4042-835f-143c8d…</td><td>&quot;{2}{R}&quot;</td><td>&quot;Creature — Goblin Guest&quot;</td><td>&quot;When this creature enters from…</td><td>&quot;2&quot;</td><td>&quot;2&quot;</td><td>null</td><td>[&quot;common&quot;]</td><td>[&quot;UNF&quot;]</td><td>[-0.03243, -0.006905, … -0.026888]</td></tr><tr><td>&quot;&quot;Rumors of My Death . . .&quot;&quot;</td><td>&quot;cb3587b9-e727-4f37-b4d6-1baa73…</td><td>&quot;{2}{B}&quot;</td><td>&quot;Enchantment&quot;</td><td>&quot;{3}{B}, Exile a permanent you …</td><td>null</td><td>null</td><td>null</td><td>[&quot;uncommon&quot;]</td><td>[&quot;UST&quot;]</td><td>[-0.008719, -0.009454, … 0.001481]</td></tr><tr><td>&hellip;</td><td>&hellip;</td><td>&hellip;</td><td>&hellip;</td><td>&hellip;</td><td>&hellip;</td><td>&hellip;</td><td>&hellip;</td><td>&hellip;</td><td>&hellip;</td><td>&hellip;</td></tr><tr><td>&quot;Éomer, King of Rohan&quot;</td><td>&quot;f2c11695-f22b-44d5-937c-2578f2…</td><td>&quot;{3}{R}{W}&quot;</td><td>&quot;Legendary Creature — Human Nob…</td><td>&quot;Double strike\\n~ enters with a…</td><td>&quot;2&quot;</td><td>&quot;2&quot;</td><td>null</td><td>[&quot;rare&quot;]</td><td>[&quot;LTC&quot;]</td><td>[0.014415, 0.012861, … 0.019452]</td></tr><tr><td>&quot;Éomer, Marshal of Rohan&quot;</td><td>&quot;fba68512-f536-4961-9e24-563270…</td><td>&quot;{2}{R}{R}&quot;</td><td>&quot;Legendary Creature — Human Kni…</td><td>&quot;Haste\\nWhenever one or more ot…</td><td>&quot;4&quot;</td><td>&quot;4&quot;</td><td>null</td><td>[&quot;rare&quot;]</td><td>[&quot;PLTR&quot;, &quot;LTR&quot;]</td><td>[-0.022492, 0.017429, … 0.046833]</td></tr><tr><td>&quot;Éowyn, Fearless Knight&quot;</td><td>&quot;c1b37891-5ed9-47e4-8d2f-c2bfd8…</td><td>&quot;{2}{R}{W}&quot;</td><td>&quot;Legendary Creature — Human Kni…</td><td>&quot;Haste\\nWhen ~ enters, exile ta…</td><td>&quot;3&quot;</td><td>&quot;4&quot;</td><td>null</td><td>[&quot;rare&quot;]</td><td>[&quot;PLTR&quot;, &quot;LTR&quot;]</td><td>[-0.033708, 0.007089, … 0.02833]</td></tr><tr><td>&quot;Éowyn, Lady of Rohan&quot;</td><td>&quot;e59710c4-24de-419e-a8a0-e8392d…</td><td>&quot;{2}{W}&quot;</td><td>&quot;Legendary Creature — Human Nob…</td><td>&quot;At the beginning of combat on …</td><td>&quot;2&quot;</td><td>&quot;4&quot;</td><td>null</td><td>[&quot;uncommon&quot;]</td><td>[&quot;LTR&quot;]</td><td>[-0.001433, 0.00514, … 0.048259]</td></tr><tr><td>&quot;Éowyn, Shieldmaiden&quot;</td><td>&quot;dd4a00ff-2206-4e12-a0ab-61ed82…</td><td>&quot;{2}{U}{R}{W}&quot;</td><td>&quot;Legendary Creature — Human Kni…</td><td>&quot;First strike\\nAt the beginning…</td><td>&quot;5&quot;</td><td>&quot;4&quot;</td><td>null</td><td>[&quot;mythic&quot;]</td><td>[&quot;LTC&quot;]</td><td>[-0.004505, 0.002423, … 0.031238]</td></tr></tbody></table></div>"
      ],
      "text/plain": [
       "shape: (32_254, 11)\n",
       "┌────────────┬───────────┬───────────┬───────────┬───┬─────────┬───────────┬───────────┬───────────┐\n",
       "│ name       ┆ scryfallI ┆ manaCost  ┆ type      ┆ … ┆ loyalty ┆ rarities  ┆ sets      ┆ embedding │\n",
       "│ ---        ┆ d         ┆ ---       ┆ ---       ┆   ┆ ---     ┆ ---       ┆ ---       ┆ ---       │\n",
       "│ str        ┆ ---       ┆ str       ┆ str       ┆   ┆ str     ┆ list[enum ┆ list[enum ┆ array[f32 │\n",
       "│            ┆ str       ┆           ┆           ┆   ┆         ┆ ]         ┆ ]         ┆ , 768]    │\n",
       "╞════════════╪═══════════╪═══════════╪═══════════╪═══╪═════════╪═══════════╪═══════════╪═══════════╡\n",
       "│ \"Ach!      ┆ 84f2c8f5- ┆ {2}{R}{R} ┆ Enchantme ┆ … ┆ null    ┆ [\"rare\"]  ┆ [\"UNH\"]   ┆ [0.021458 │\n",
       "│ Hans,      ┆ 8e11-4639 ┆ {G}{G}    ┆ nt        ┆   ┆         ┆           ┆           ┆ , -0.0361 │\n",
       "│ Run!\"      ┆ -b7de-00e ┆           ┆           ┆   ┆         ┆           ┆           ┆ 02, …     │\n",
       "│            ┆ 4a2…      ┆           ┆           ┆   ┆         ┆           ┆           ┆ -0.006…   │\n",
       "│ \"Brims\"    ┆ 68832214- ┆ {3}{W}{B} ┆ Legendary ┆ … ┆ null    ┆ [\"uncommo ┆ [\"UNF\"]   ┆ [0.000261 │\n",
       "│ Barone,    ┆ 2943-4253 ┆           ┆ Creature  ┆   ┆         ┆ n\"]       ┆           ┆ ,         │\n",
       "│ Midway     ┆ -8884-ffa ┆           ┆ — Human   ┆   ┆         ┆           ┆           ┆ 0.025207, │\n",
       "│ Mobster    ┆ 490…      ┆           ┆ Rog…      ┆   ┆         ┆           ┆           ┆ …         │\n",
       "│            ┆           ┆           ┆           ┆   ┆         ┆           ┆           ┆ 0.00564…  │\n",
       "│ \"Lifetime\" ┆ 42293306- ┆ {B}       ┆ Creature  ┆ … ┆ null    ┆ [\"rare\"]  ┆ [\"UNF\"]   ┆ [-0.00446 │\n",
       "│ Pass       ┆ aaea-4542 ┆           ┆ — Zombie  ┆   ┆         ┆           ┆           ┆ 7, -0.016 │\n",
       "│ Holder     ┆ -8df4-813 ┆           ┆ Guest     ┆   ┆         ┆           ┆           ┆ 707, …    │\n",
       "│            ┆ 823…      ┆           ┆           ┆   ┆         ┆           ┆           ┆ 0.001…    │\n",
       "│ \"Name      ┆ fd1442b4- ┆ {2}{R}    ┆ Creature  ┆ … ┆ null    ┆ [\"common\" ┆ [\"UNF\"]   ┆ [-0.03243 │\n",
       "│ Sticker\"   ┆ da59-4042 ┆           ┆ — Goblin  ┆   ┆         ┆ ]         ┆           ┆ , -0.0069 │\n",
       "│ Goblin     ┆ -835f-143 ┆           ┆ Guest     ┆   ┆         ┆           ┆           ┆ 05, …     │\n",
       "│            ┆ c8d…      ┆           ┆           ┆   ┆         ┆           ┆           ┆ -0.026…   │\n",
       "│ \"Rumors of ┆ cb3587b9- ┆ {2}{B}    ┆ Enchantme ┆ … ┆ null    ┆ [\"uncommo ┆ [\"UST\"]   ┆ [-0.00871 │\n",
       "│ My Death . ┆ e727-4f37 ┆           ┆ nt        ┆   ┆         ┆ n\"]       ┆           ┆ 9, -0.009 │\n",
       "│ . .\"       ┆ -b4d6-1ba ┆           ┆           ┆   ┆         ┆           ┆           ┆ 454, …    │\n",
       "│            ┆ a73…      ┆           ┆           ┆   ┆         ┆           ┆           ┆ 0.001…    │\n",
       "│ …          ┆ …         ┆ …         ┆ …         ┆ … ┆ …       ┆ …         ┆ …         ┆ …         │\n",
       "│ Éomer,     ┆ f2c11695- ┆ {3}{R}{W} ┆ Legendary ┆ … ┆ null    ┆ [\"rare\"]  ┆ [\"LTC\"]   ┆ [0.014415 │\n",
       "│ King of    ┆ f22b-44d5 ┆           ┆ Creature  ┆   ┆         ┆           ┆           ┆ ,         │\n",
       "│ Rohan      ┆ -937c-257 ┆           ┆ — Human   ┆   ┆         ┆           ┆           ┆ 0.012861, │\n",
       "│            ┆ 8f2…      ┆           ┆ Nob…      ┆   ┆         ┆           ┆           ┆ …         │\n",
       "│            ┆           ┆           ┆           ┆   ┆         ┆           ┆           ┆ 0.01945…  │\n",
       "│ Éomer,     ┆ fba68512- ┆ {2}{R}{R} ┆ Legendary ┆ … ┆ null    ┆ [\"rare\"]  ┆ [\"PLTR\",  ┆ [-0.02249 │\n",
       "│ Marshal of ┆ f536-4961 ┆           ┆ Creature  ┆   ┆         ┆           ┆ \"LTR\"]    ┆ 2,        │\n",
       "│ Rohan      ┆ -9e24-563 ┆           ┆ — Human   ┆   ┆         ┆           ┆           ┆ 0.017429, │\n",
       "│            ┆ 270…      ┆           ┆ Kni…      ┆   ┆         ┆           ┆           ┆ … 0.0468… │\n",
       "│ Éowyn,     ┆ c1b37891- ┆ {2}{R}{W} ┆ Legendary ┆ … ┆ null    ┆ [\"rare\"]  ┆ [\"PLTR\",  ┆ [-0.03370 │\n",
       "│ Fearless   ┆ 5ed9-47e4 ┆           ┆ Creature  ┆   ┆         ┆           ┆ \"LTR\"]    ┆ 8,        │\n",
       "│ Knight     ┆ -8d2f-c2b ┆           ┆ — Human   ┆   ┆         ┆           ┆           ┆ 0.007089, │\n",
       "│            ┆ fd8…      ┆           ┆ Kni…      ┆   ┆         ┆           ┆           ┆ … 0.0283… │\n",
       "│ Éowyn,     ┆ e59710c4- ┆ {2}{W}    ┆ Legendary ┆ … ┆ null    ┆ [\"uncommo ┆ [\"LTR\"]   ┆ [-0.00143 │\n",
       "│ Lady of    ┆ 24de-419e ┆           ┆ Creature  ┆   ┆         ┆ n\"]       ┆           ┆ 3,        │\n",
       "│ Rohan      ┆ -a8a0-e83 ┆           ┆ — Human   ┆   ┆         ┆           ┆           ┆ 0.00514,  │\n",
       "│            ┆ 92d…      ┆           ┆ Nob…      ┆   ┆         ┆           ┆           ┆ …         │\n",
       "│            ┆           ┆           ┆           ┆   ┆         ┆           ┆           ┆ 0.04825…  │\n",
       "│ Éowyn, Shi ┆ dd4a00ff- ┆ {2}{U}{R} ┆ Legendary ┆ … ┆ null    ┆ [\"mythic\" ┆ [\"LTC\"]   ┆ [-0.00450 │\n",
       "│ eldmaiden  ┆ 2206-4e12 ┆ {W}       ┆ Creature  ┆   ┆         ┆ ]         ┆           ┆ 5,        │\n",
       "│            ┆ -a0ab-61e ┆           ┆ — Human   ┆   ┆         ┆           ┆           ┆ 0.002423, │\n",
       "│            ┆ d82…      ┆           ┆ Kni…      ┆   ┆         ┆           ┆           ┆ … 0.0312… │\n",
       "└────────────┴───────────┴───────────┴───────────┴───┴─────────┴───────────┴───────────┴───────────┘"
      ]
     },
     "execution_count": 8,
     "metadata": {},
     "output_type": "execute_result"
    }
   ],
   "source": [
    "df_2 = df.with_columns(embedding=dataset_embeddings.cpu().numpy()).sort(\"name\")\n",
    "\n",
    "df_2"
   ]
  },
  {
   "cell_type": "code",
   "execution_count": 9,
   "metadata": {},
   "outputs": [],
   "source": [
    "df_2.write_parquet(\"mtg_embeddings.parquet\")"
   ]
  },
  {
   "cell_type": "code",
   "execution_count": 10,
   "metadata": {
    "tags": []
   },
   "outputs": [
    {
     "name": "stderr",
     "output_type": "stream",
     "text": [
      "huggingface/tokenizers: The current process just got forked, after parallelism has already been used. Disabling parallelism to avoid deadlocks...\n",
      "To disable this warning, you can either:\n",
      "\t- Avoid using `tokenizers` before the fork if possible\n",
      "\t- Explicitly set the environment variable TOKENIZERS_PARALLELISM=(true | false)\n"
     ]
    },
    {
     "name": "stdout",
     "output_type": "stream",
     "text": [
      "Copying file://mtg_embeddings.parquet [Content-Type=application/octet-stream]...\n",
      "- [1 files][ 89.8 MiB/ 89.8 MiB]                                                \n",
      "Operation completed over 1 objects/89.8 MiB.                                     \n"
     ]
    }
   ],
   "source": [
    "!gsutil cp mtg_embeddings.parquet gs://maxw-imdb-embeddings/"
   ]
  }
 ],
 "metadata": {
  "environment": {
   "kernel": "python3",
   "name": "common-cu124.m126",
   "type": "gcloud",
   "uri": "us-docker.pkg.dev/deeplearning-platform-release/gcr.io/base-cu124:m126"
  },
  "kernelspec": {
   "display_name": "Python 3",
   "language": "python",
   "name": "python3"
  },
  "language_info": {
   "codemirror_mode": {
    "name": "ipython",
    "version": 3
   },
   "file_extension": ".py",
   "mimetype": "text/x-python",
   "name": "python",
   "nbconvert_exporter": "python",
   "pygments_lexer": "ipython3",
   "version": "3.10.15"
  }
 },
 "nbformat": 4,
 "nbformat_minor": 4
}
