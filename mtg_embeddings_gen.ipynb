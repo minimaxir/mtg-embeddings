{
 "cells": [
  {
   "cell_type": "code",
   "execution_count": 1,
   "metadata": {},
   "outputs": [],
   "source": [
    "# pip install flash_attn"
   ]
  },
  {
   "cell_type": "code",
   "execution_count": 2,
   "metadata": {
    "tags": []
   },
   "outputs": [
    {
     "name": "stderr",
     "output_type": "stream",
     "text": [
      "/var/tmp/ipykernel_4807/3044154255.py:4: TqdmExperimentalWarning: Using `tqdm.autonotebook.tqdm` in notebook mode. Use `tqdm.tqdm` instead to force console mode (e.g. in jupyter console)\n",
      "  from tqdm.autonotebook import tqdm\n"
     ]
    }
   ],
   "source": [
    "import polars as pl\n",
    "import orjson\n",
    "import torch\n",
    "from tqdm.autonotebook import tqdm\n",
    "\n",
    "import torch.nn.functional as F\n",
    "from transformers import AutoModel, AutoTokenizer"
   ]
  },
  {
   "cell_type": "code",
   "execution_count": 3,
   "metadata": {
    "tags": []
   },
   "outputs": [
    {
     "data": {
      "text/html": [
       "<div><style>\n",
       ".dataframe > thead > tr,\n",
       ".dataframe > tbody > tr {\n",
       "  text-align: right;\n",
       "  white-space: pre-wrap;\n",
       "}\n",
       "</style>\n",
       "<small>shape: (31_650, 9)</small><table border=\"1\" class=\"dataframe\"><thead><tr><th>name</th><th>manaCost</th><th>type</th><th>text</th><th>power</th><th>toughness</th><th>loyalty</th><th>rarities</th><th>sets</th></tr><tr><td>str</td><td>str</td><td>str</td><td>str</td><td>str</td><td>str</td><td>str</td><td>list[enum]</td><td>list[enum]</td></tr></thead><tbody><tr><td>&quot;Vilis, Broker of Blood&quot;</td><td>&quot;{5}{B}{B}{B}&quot;</td><td>&quot;Legendary Creature — Demon&quot;</td><td>&quot;Flying\\n{B}, Pay 2 life: Targe…</td><td>&quot;8&quot;</td><td>&quot;8&quot;</td><td>null</td><td>[&quot;rare&quot;]</td><td>[&quot;PM20&quot;, &quot;M20&quot;, … &quot;J25&quot;]</td></tr><tr><td>&quot;Cruel Celebrant&quot;</td><td>&quot;{W}{B}&quot;</td><td>&quot;Creature — Vampire&quot;</td><td>&quot;Whenever ~ or another creature…</td><td>&quot;1&quot;</td><td>&quot;2&quot;</td><td>null</td><td>[&quot;uncommon&quot;]</td><td>[&quot;WAR&quot;, &quot;PLST&quot;, &quot;LCC&quot;]</td></tr><tr><td>&quot;Leyline of Lifeforce&quot;</td><td>&quot;{2}{G}{G}&quot;</td><td>&quot;Enchantment&quot;</td><td>&quot;If ~ is in your opening hand, …</td><td>null</td><td>null</td><td>null</td><td>[&quot;rare&quot;]</td><td>[&quot;GPT&quot;]</td></tr><tr><td>&quot;Lumbering Falls&quot;</td><td>null</td><td>&quot;Land&quot;</td><td>&quot;~ enters tapped.\\n{T}: Add {G}…</td><td>null</td><td>null</td><td>null</td><td>[&quot;rare&quot;]</td><td>[&quot;PBFZ&quot;, &quot;BFZ&quot;, … &quot;PIO&quot;]</td></tr><tr><td>&quot;Grand Warlord Radha&quot;</td><td>&quot;{2}{R}{G}&quot;</td><td>&quot;Legendary Creature — Elf Warri…</td><td>&quot;Haste\\nWhenever one or more cr…</td><td>&quot;3&quot;</td><td>&quot;4&quot;</td><td>null</td><td>[&quot;rare&quot;]</td><td>[&quot;PDOM&quot;, &quot;DOM&quot;]</td></tr><tr><td>&hellip;</td><td>&hellip;</td><td>&hellip;</td><td>&hellip;</td><td>&hellip;</td><td>&hellip;</td><td>&hellip;</td><td>&hellip;</td><td>&hellip;</td></tr><tr><td>&quot;Mimeofacture&quot;</td><td>&quot;{3}{U}&quot;</td><td>&quot;Sorcery&quot;</td><td>&quot;Replicate {3}{U} (When you cas…</td><td>null</td><td>null</td><td>null</td><td>[&quot;rare&quot;]</td><td>[&quot;GPT&quot;]</td></tr><tr><td>&quot;Scar&quot;</td><td>&quot;{B/R}&quot;</td><td>&quot;Instant&quot;</td><td>&quot;Put a -1/-1 counter on target …</td><td>null</td><td>null</td><td>null</td><td>[&quot;common&quot;]</td><td>[&quot;SHM&quot;]</td></tr><tr><td>&quot;Field Marshal&quot;</td><td>&quot;{1}{W}{W}&quot;</td><td>&quot;Creature — Human Soldier&quot;</td><td>&quot;Other Soldier creatures get +1…</td><td>&quot;2&quot;</td><td>&quot;2&quot;</td><td>null</td><td>[&quot;rare&quot;]</td><td>[&quot;CSP&quot;, &quot;10E&quot;, &quot;SLD&quot;]</td></tr><tr><td>&quot;Flanking Licid&quot;</td><td>&quot;{1}{R}&quot;</td><td>&quot;Summon Licid&quot;</td><td>&quot;{R}, {T}: ~ loses this ability…</td><td>null</td><td>null</td><td>null</td><td>[&quot;rare&quot;]</td><td>[&quot;MB2&quot;]</td></tr><tr><td>&quot;Cocoon&quot;</td><td>&quot;{G}&quot;</td><td>&quot;Enchantment — Aura&quot;</td><td>&quot;Enchant creature you control\\n…</td><td>null</td><td>null</td><td>null</td><td>[&quot;uncommon&quot;]</td><td>[&quot;LEG&quot;, &quot;BCHR&quot;, &quot;CHR&quot;]</td></tr></tbody></table></div>"
      ],
      "text/plain": [
       "shape: (31_650, 9)\n",
       "┌────────────┬───────────┬───────────┬───────────┬───┬───────────┬─────────┬───────────┬───────────┐\n",
       "│ name       ┆ manaCost  ┆ type      ┆ text      ┆ … ┆ toughness ┆ loyalty ┆ rarities  ┆ sets      │\n",
       "│ ---        ┆ ---       ┆ ---       ┆ ---       ┆   ┆ ---       ┆ ---     ┆ ---       ┆ ---       │\n",
       "│ str        ┆ str       ┆ str       ┆ str       ┆   ┆ str       ┆ str     ┆ list[enum ┆ list[enum │\n",
       "│            ┆           ┆           ┆           ┆   ┆           ┆         ┆ ]         ┆ ]         │\n",
       "╞════════════╪═══════════╪═══════════╪═══════════╪═══╪═══════════╪═════════╪═══════════╪═══════════╡\n",
       "│ Vilis,     ┆ {5}{B}{B} ┆ Legendary ┆ Flying\\n{ ┆ … ┆ 8         ┆ null    ┆ [\"rare\"]  ┆ [\"PM20\",  │\n",
       "│ Broker of  ┆ {B}       ┆ Creature  ┆ B}, Pay 2 ┆   ┆           ┆         ┆           ┆ \"M20\", …  │\n",
       "│ Blood      ┆           ┆ — Demon   ┆ life:     ┆   ┆           ┆         ┆           ┆ \"J25\"]    │\n",
       "│            ┆           ┆           ┆ Targe…    ┆   ┆           ┆         ┆           ┆           │\n",
       "│ Cruel      ┆ {W}{B}    ┆ Creature  ┆ Whenever  ┆ … ┆ 2         ┆ null    ┆ [\"uncommo ┆ [\"WAR\",   │\n",
       "│ Celebrant  ┆           ┆ — Vampire ┆ ~ or      ┆   ┆           ┆         ┆ n\"]       ┆ \"PLST\",   │\n",
       "│            ┆           ┆           ┆ another   ┆   ┆           ┆         ┆           ┆ \"LCC\"]    │\n",
       "│            ┆           ┆           ┆ creature… ┆   ┆           ┆         ┆           ┆           │\n",
       "│ Leyline of ┆ {2}{G}{G} ┆ Enchantme ┆ If ~ is   ┆ … ┆ null      ┆ null    ┆ [\"rare\"]  ┆ [\"GPT\"]   │\n",
       "│ Lifeforce  ┆           ┆ nt        ┆ in your   ┆   ┆           ┆         ┆           ┆           │\n",
       "│            ┆           ┆           ┆ opening   ┆   ┆           ┆         ┆           ┆           │\n",
       "│            ┆           ┆           ┆ hand, …   ┆   ┆           ┆         ┆           ┆           │\n",
       "│ Lumbering  ┆ null      ┆ Land      ┆ ~ enters  ┆ … ┆ null      ┆ null    ┆ [\"rare\"]  ┆ [\"PBFZ\",  │\n",
       "│ Falls      ┆           ┆           ┆ tapped.\\n ┆   ┆           ┆         ┆           ┆ \"BFZ\", …  │\n",
       "│            ┆           ┆           ┆ {T}: Add  ┆   ┆           ┆         ┆           ┆ \"PIO\"]    │\n",
       "│            ┆           ┆           ┆ {G}…      ┆   ┆           ┆         ┆           ┆           │\n",
       "│ Grand      ┆ {2}{R}{G} ┆ Legendary ┆ Haste\\nWh ┆ … ┆ 4         ┆ null    ┆ [\"rare\"]  ┆ [\"PDOM\",  │\n",
       "│ Warlord    ┆           ┆ Creature  ┆ enever    ┆   ┆           ┆         ┆           ┆ \"DOM\"]    │\n",
       "│ Radha      ┆           ┆ — Elf     ┆ one or    ┆   ┆           ┆         ┆           ┆           │\n",
       "│            ┆           ┆ Warri…    ┆ more cr…  ┆   ┆           ┆         ┆           ┆           │\n",
       "│ …          ┆ …         ┆ …         ┆ …         ┆ … ┆ …         ┆ …       ┆ …         ┆ …         │\n",
       "│ Mimeofactu ┆ {3}{U}    ┆ Sorcery   ┆ Replicate ┆ … ┆ null      ┆ null    ┆ [\"rare\"]  ┆ [\"GPT\"]   │\n",
       "│ re         ┆           ┆           ┆ {3}{U}    ┆   ┆           ┆         ┆           ┆           │\n",
       "│            ┆           ┆           ┆ (When you ┆   ┆           ┆         ┆           ┆           │\n",
       "│            ┆           ┆           ┆ cas…      ┆   ┆           ┆         ┆           ┆           │\n",
       "│ Scar       ┆ {B/R}     ┆ Instant   ┆ Put a     ┆ … ┆ null      ┆ null    ┆ [\"common\" ┆ [\"SHM\"]   │\n",
       "│            ┆           ┆           ┆ -1/-1     ┆   ┆           ┆         ┆ ]         ┆           │\n",
       "│            ┆           ┆           ┆ counter   ┆   ┆           ┆         ┆           ┆           │\n",
       "│            ┆           ┆           ┆ on target ┆   ┆           ┆         ┆           ┆           │\n",
       "│            ┆           ┆           ┆ …         ┆   ┆           ┆         ┆           ┆           │\n",
       "│ Field      ┆ {1}{W}{W} ┆ Creature  ┆ Other     ┆ … ┆ 2         ┆ null    ┆ [\"rare\"]  ┆ [\"CSP\",   │\n",
       "│ Marshal    ┆           ┆ — Human   ┆ Soldier   ┆   ┆           ┆         ┆           ┆ \"10E\",    │\n",
       "│            ┆           ┆ Soldier   ┆ creatures ┆   ┆           ┆         ┆           ┆ \"SLD\"]    │\n",
       "│            ┆           ┆           ┆ get +1…   ┆   ┆           ┆         ┆           ┆           │\n",
       "│ Flanking   ┆ {1}{R}    ┆ Summon    ┆ {R}, {T}: ┆ … ┆ null      ┆ null    ┆ [\"rare\"]  ┆ [\"MB2\"]   │\n",
       "│ Licid      ┆           ┆ Licid     ┆ ~ loses   ┆   ┆           ┆         ┆           ┆           │\n",
       "│            ┆           ┆           ┆ this      ┆   ┆           ┆         ┆           ┆           │\n",
       "│            ┆           ┆           ┆ ability…  ┆   ┆           ┆         ┆           ┆           │\n",
       "│ Cocoon     ┆ {G}       ┆ Enchantme ┆ Enchant   ┆ … ┆ null      ┆ null    ┆ [\"uncommo ┆ [\"LEG\",   │\n",
       "│            ┆           ┆ nt — Aura ┆ creature  ┆   ┆           ┆         ┆ n\"]       ┆ \"BCHR\",   │\n",
       "│            ┆           ┆           ┆ you contr ┆   ┆           ┆         ┆           ┆ \"CHR\"]    │\n",
       "│            ┆           ┆           ┆ ol\\n…     ┆   ┆           ┆         ┆           ┆           │\n",
       "└────────────┴───────────┴───────────┴───────────┴───┴───────────┴─────────┴───────────┴───────────┘"
      ]
     },
     "execution_count": 3,
     "metadata": {},
     "output_type": "execute_result"
    }
   ],
   "source": [
    "df = pl.read_parquet(\"mtg_data.parquet\").sample(fraction=1, shuffle=True, seed=42)\n",
    "\n",
    "df"
   ]
  },
  {
   "cell_type": "code",
   "execution_count": 4,
   "metadata": {
    "tags": []
   },
   "outputs": [
    {
     "name": "stdout",
     "output_type": "stream",
     "text": [
      "{\n",
      "  \"name\": \"Vilis, Broker of Blood\",\n",
      "  \"manaCost\": \"{5}{B}{B}{B}\",\n",
      "  \"type\": \"Legendary Creature — Demon\",\n",
      "  \"text\": \"Flying\\\\n{B}, Pay 2 life: Target creature gets -1/-1 until end of turn.\\\\nWhenever you lose life, draw that many cards. (Damage causes loss of life.)\",\n",
      "  \"power\": \"8\",\n",
      "  \"toughness\": \"8\",\n",
      "  \"rarities\": [\n",
      "    \"rare\"\n",
      "  ],\n",
      "  \"sets\": [\n",
      "    \"PM20\",\n",
      "    \"M20\",\n",
      "    \"SLD\",\n",
      "    \"GN3\",\n",
      "    \"J25\"\n",
      "  ]\n",
      "}\n"
     ]
    }
   ],
   "source": [
    "docs = []\n",
    "for row in df.iter_rows(named=True):\n",
    "    row_dict = {k: v for k, v in row.items() if v is not None}\n",
    "    row_dict = orjson.dumps(row_dict, option=orjson.OPT_INDENT_2).decode(\"utf-8\")\n",
    "    docs.append(row_dict)\n",
    "\n",
    "print(docs[0])"
   ]
  },
  {
   "cell_type": "code",
   "execution_count": 5,
   "metadata": {
    "tags": []
   },
   "outputs": [
    {
     "name": "stderr",
     "output_type": "stream",
     "text": [
      "You are attempting to use Flash Attention 2.0 with a model not initialized on GPU. Make sure to move the model to GPU after initializing it on CPU with `model.to('cuda')`.\n"
     ]
    }
   ],
   "source": [
    "model_path = \"Alibaba-NLP/gte-modernbert-base\"\n",
    "device = \"cuda:0\"\n",
    "\n",
    "tokenizer = AutoTokenizer.from_pretrained(model_path)\n",
    "model = AutoModel.from_pretrained(model_path)\n",
    "_ = model.to(device)"
   ]
  },
  {
   "cell_type": "code",
   "execution_count": 6,
   "metadata": {
    "tags": []
   },
   "outputs": [
    {
     "data": {
      "text/plain": [
       "{'input_ids': tensor([[50281,    92,   187, 50276,     3,  1590,  1381,   346,    55, 27154,\n",
       "            13,  4819,  6426,   273, 14169,   995,   187, 50276,     3,  1342,\n",
       "            66, 25997,  1381, 36028,    22,  1217,    35,  1217,    35,  1217,\n",
       "            35, 32722,   187, 50276,     3,   881,  1381,   346, 18596,   423,\n",
       "           552, 13489,   459,  1905,  4281,   251,   995,   187, 50276,     3,\n",
       "          1156,  1381,   346,    39,  2943,  3353,    79,    92,    35,  2023,\n",
       "         12286,   374,  1495,    27, 17661, 15906,  4850,   428,    18,  7448,\n",
       "            18,  1919,   990,   273,  1614,    15,  3353,    79, 43835,   368,\n",
       "          7168,  1495,    13,  3812,   326,  1142,  8364,    15,   313, 21727,\n",
       "           486,  5997,  2957,   273,  1495,  2698,   995,   187, 50276,     3,\n",
       "          9177,  1381,   346,    25,   995,   187, 50276,     3,    85,   602,\n",
       "          1255,  1381,   346,    25,   995,   187, 50276,     3, 23537,  1005,\n",
       "          1381,   544,   187, 50274,     3,   376,   250,     3,   187, 50276,\n",
       "          1092,   187, 50276,     3, 19598,  1381,   544,   187, 50274,     3,\n",
       "          9122,   938,   995,   187, 50274,     3,    46,   938,   995,   187,\n",
       "         50274,     3,  7084,    37,   995,   187, 50274,     3, 26756,    20,\n",
       "           995,   187, 50274,     3,    43,  1099,     3,   187, 50276,    62,\n",
       "           187,    94, 50282]], device='cuda:0'), 'attention_mask': tensor([[1, 1, 1, 1, 1, 1, 1, 1, 1, 1, 1, 1, 1, 1, 1, 1, 1, 1, 1, 1, 1, 1, 1, 1,\n",
       "         1, 1, 1, 1, 1, 1, 1, 1, 1, 1, 1, 1, 1, 1, 1, 1, 1, 1, 1, 1, 1, 1, 1, 1,\n",
       "         1, 1, 1, 1, 1, 1, 1, 1, 1, 1, 1, 1, 1, 1, 1, 1, 1, 1, 1, 1, 1, 1, 1, 1,\n",
       "         1, 1, 1, 1, 1, 1, 1, 1, 1, 1, 1, 1, 1, 1, 1, 1, 1, 1, 1, 1, 1, 1, 1, 1,\n",
       "         1, 1, 1, 1, 1, 1, 1, 1, 1, 1, 1, 1, 1, 1, 1, 1, 1, 1, 1, 1, 1, 1, 1, 1,\n",
       "         1, 1, 1, 1, 1, 1, 1, 1, 1, 1, 1, 1, 1, 1, 1, 1, 1, 1, 1, 1, 1, 1, 1, 1,\n",
       "         1, 1, 1, 1, 1, 1, 1, 1, 1, 1, 1, 1, 1, 1, 1, 1, 1, 1, 1, 1, 1, 1, 1, 1,\n",
       "         1, 1, 1, 1, 1]], device='cuda:0')}"
      ]
     },
     "execution_count": 6,
     "metadata": {},
     "output_type": "execute_result"
    }
   ],
   "source": [
    "tokenized_docs = tokenizer(\n",
    "    docs[0], max_length=8192, padding=True, truncation=True, return_tensors=\"pt\"\n",
    ").to(device)\n",
    "\n",
    "tokenized_docs"
   ]
  },
  {
   "cell_type": "code",
   "execution_count": 7,
   "metadata": {
    "tags": []
   },
   "outputs": [
    {
     "data": {
      "application/vnd.jupyter.widget-view+json": {
       "model_id": "6a2ea292b3f94bb8820dd7c77bbfe86d",
       "version_major": 2,
       "version_minor": 0
      },
      "text/plain": [
       "  0%|          | 0/990 [00:00<?, ?it/s]"
      ]
     },
     "metadata": {},
     "output_type": "display_data"
    },
    {
     "data": {
      "text/plain": [
       "torch.Size([31650, 768])"
      ]
     },
     "execution_count": 7,
     "metadata": {},
     "output_type": "execute_result"
    }
   ],
   "source": [
    "dataloader = torch.utils.data.DataLoader(docs, batch_size=32, shuffle=False)\n",
    "\n",
    "dataset_embeddings = []\n",
    "for batch in tqdm(dataloader, smoothing=0):\n",
    "    tokenized_batch = tokenizer(\n",
    "        batch, max_length=8192, padding=True, truncation=True, return_tensors=\"pt\"\n",
    "    ).to(device)\n",
    "\n",
    "    with torch.no_grad():\n",
    "        outputs = model(**tokenized_batch)\n",
    "        embeddings = outputs.last_hidden_state[:, 0]\n",
    "    dataset_embeddings.append(embeddings)\n",
    "\n",
    "dataset_embeddings = torch.cat(dataset_embeddings)\n",
    "dataset_embeddings = F.normalize(dataset_embeddings, p=2, dim=1)\n",
    "dataset_embeddings.size()"
   ]
  },
  {
   "cell_type": "code",
   "execution_count": 8,
   "metadata": {},
   "outputs": [
    {
     "data": {
      "text/html": [
       "<div><style>\n",
       ".dataframe > thead > tr,\n",
       ".dataframe > tbody > tr {\n",
       "  text-align: right;\n",
       "  white-space: pre-wrap;\n",
       "}\n",
       "</style>\n",
       "<small>shape: (31_650, 10)</small><table border=\"1\" class=\"dataframe\"><thead><tr><th>name</th><th>manaCost</th><th>type</th><th>text</th><th>power</th><th>toughness</th><th>loyalty</th><th>rarities</th><th>sets</th><th>embeds</th></tr><tr><td>str</td><td>str</td><td>str</td><td>str</td><td>str</td><td>str</td><td>str</td><td>list[enum]</td><td>list[enum]</td><td>array[f32, 768]</td></tr></thead><tbody><tr><td>&quot;&quot;Ach! Hans, Run!&quot;&quot;</td><td>&quot;{2}{R}{R}{G}{G}&quot;</td><td>&quot;Enchantment&quot;</td><td>&quot;At the beginning of your upkee…</td><td>null</td><td>null</td><td>null</td><td>[&quot;rare&quot;]</td><td>[&quot;UNH&quot;]</td><td>[0.021551, -0.036194, … -0.006151]</td></tr><tr><td>&quot;&quot;Brims&quot; Barone, Midway Mobster&quot;</td><td>&quot;{3}{W}{B}&quot;</td><td>&quot;Legendary Creature — Human Rog…</td><td>&quot;When ~ enters, put a +1/+1 cou…</td><td>&quot;5&quot;</td><td>&quot;4&quot;</td><td>null</td><td>[&quot;uncommon&quot;]</td><td>[&quot;UNF&quot;]</td><td>[0.000329, 0.025074, … 0.005499]</td></tr><tr><td>&quot;&quot;Intimidation Tactics&quot;&quot;</td><td>&quot;{B}&quot;</td><td>&quot;Sorcery&quot;</td><td>&quot;Target opponent reveals their …</td><td>null</td><td>null</td><td>null</td><td>[&quot;uncommon&quot;]</td><td>[&quot;DFT&quot;]</td><td>[-0.030729, -0.004603, … 0.007073]</td></tr><tr><td>&quot;&quot;Lifetime&quot; Pass Holder&quot;</td><td>&quot;{B}&quot;</td><td>&quot;Creature — Zombie Guest&quot;</td><td>&quot;~ enters tapped.\\nWhen ~ dies,…</td><td>&quot;2&quot;</td><td>&quot;1&quot;</td><td>null</td><td>[&quot;rare&quot;]</td><td>[&quot;UNF&quot;]</td><td>[0.001363, -0.003904, … 0.013427]</td></tr><tr><td>&quot;&quot;Name Sticker&quot; Goblin&quot;</td><td>&quot;{2}{R}&quot;</td><td>&quot;Creature — Goblin Guest&quot;</td><td>&quot;When this creature enters from…</td><td>&quot;2&quot;</td><td>&quot;2&quot;</td><td>null</td><td>[&quot;common&quot;]</td><td>[&quot;UNF&quot;]</td><td>[-0.032506, -0.006977, … -0.026924]</td></tr><tr><td>&hellip;</td><td>&hellip;</td><td>&hellip;</td><td>&hellip;</td><td>&hellip;</td><td>&hellip;</td><td>&hellip;</td><td>&hellip;</td><td>&hellip;</td><td>&hellip;</td></tr><tr><td>&quot;Éomer, King of Rohan&quot;</td><td>&quot;{3}{R}{W}&quot;</td><td>&quot;Legendary Creature — Human Nob…</td><td>&quot;Double strike\\n~ enters with a…</td><td>&quot;2&quot;</td><td>&quot;2&quot;</td><td>null</td><td>[&quot;rare&quot;]</td><td>[&quot;LTC&quot;]</td><td>[0.014294, 0.012956, … 0.019557]</td></tr><tr><td>&quot;Éomer, Marshal of Rohan&quot;</td><td>&quot;{2}{R}{R}&quot;</td><td>&quot;Legendary Creature — Human Kni…</td><td>&quot;Haste\\nWhenever one or more ot…</td><td>&quot;4&quot;</td><td>&quot;4&quot;</td><td>null</td><td>[&quot;rare&quot;]</td><td>[&quot;PLTR&quot;, &quot;LTR&quot;]</td><td>[-0.022398, 0.017195, … 0.046952]</td></tr><tr><td>&quot;Éowyn, Fearless Knight&quot;</td><td>&quot;{2}{R}{W}&quot;</td><td>&quot;Legendary Creature — Human Kni…</td><td>&quot;Haste\\nWhen ~ enters, exile ta…</td><td>&quot;3&quot;</td><td>&quot;4&quot;</td><td>null</td><td>[&quot;rare&quot;]</td><td>[&quot;PLTR&quot;, &quot;LTR&quot;]</td><td>[-0.033406, 0.007331, … 0.028238]</td></tr><tr><td>&quot;Éowyn, Lady of Rohan&quot;</td><td>&quot;{2}{W}&quot;</td><td>&quot;Legendary Creature — Human Nob…</td><td>&quot;At the beginning of combat on …</td><td>&quot;2&quot;</td><td>&quot;4&quot;</td><td>null</td><td>[&quot;uncommon&quot;]</td><td>[&quot;LTR&quot;]</td><td>[-0.001306, 0.005256, … 0.048215]</td></tr><tr><td>&quot;Éowyn, Shieldmaiden&quot;</td><td>&quot;{2}{U}{R}{W}&quot;</td><td>&quot;Legendary Creature — Human Kni…</td><td>&quot;First strike\\nAt the beginning…</td><td>&quot;5&quot;</td><td>&quot;4&quot;</td><td>null</td><td>[&quot;mythic&quot;]</td><td>[&quot;LTC&quot;]</td><td>[-0.004468, 0.002612, … 0.03123]</td></tr></tbody></table></div>"
      ],
      "text/plain": [
       "shape: (31_650, 10)\n",
       "┌────────────┬───────────┬───────────┬───────────┬───┬─────────┬───────────┬───────────┬───────────┐\n",
       "│ name       ┆ manaCost  ┆ type      ┆ text      ┆ … ┆ loyalty ┆ rarities  ┆ sets      ┆ embeds    │\n",
       "│ ---        ┆ ---       ┆ ---       ┆ ---       ┆   ┆ ---     ┆ ---       ┆ ---       ┆ ---       │\n",
       "│ str        ┆ str       ┆ str       ┆ str       ┆   ┆ str     ┆ list[enum ┆ list[enum ┆ array[f32 │\n",
       "│            ┆           ┆           ┆           ┆   ┆         ┆ ]         ┆ ]         ┆ , 768]    │\n",
       "╞════════════╪═══════════╪═══════════╪═══════════╪═══╪═════════╪═══════════╪═══════════╪═══════════╡\n",
       "│ \"Ach!      ┆ {2}{R}{R} ┆ Enchantme ┆ At the    ┆ … ┆ null    ┆ [\"rare\"]  ┆ [\"UNH\"]   ┆ [0.021551 │\n",
       "│ Hans,      ┆ {G}{G}    ┆ nt        ┆ beginning ┆   ┆         ┆           ┆           ┆ , -0.0361 │\n",
       "│ Run!\"      ┆           ┆           ┆ of your   ┆   ┆         ┆           ┆           ┆ 94, …     │\n",
       "│            ┆           ┆           ┆ upkee…    ┆   ┆         ┆           ┆           ┆ -0.006…   │\n",
       "│ \"Brims\"    ┆ {3}{W}{B} ┆ Legendary ┆ When ~    ┆ … ┆ null    ┆ [\"uncommo ┆ [\"UNF\"]   ┆ [0.000329 │\n",
       "│ Barone,    ┆           ┆ Creature  ┆ enters,   ┆   ┆         ┆ n\"]       ┆           ┆ ,         │\n",
       "│ Midway     ┆           ┆ — Human   ┆ put a     ┆   ┆         ┆           ┆           ┆ 0.025074, │\n",
       "│ Mobster    ┆           ┆ Rog…      ┆ +1/+1     ┆   ┆         ┆           ┆           ┆ …         │\n",
       "│            ┆           ┆           ┆ cou…      ┆   ┆         ┆           ┆           ┆ 0.00549…  │\n",
       "│ \"Intimidat ┆ {B}       ┆ Sorcery   ┆ Target    ┆ … ┆ null    ┆ [\"uncommo ┆ [\"DFT\"]   ┆ [-0.03072 │\n",
       "│ ion        ┆           ┆           ┆ opponent  ┆   ┆         ┆ n\"]       ┆           ┆ 9, -0.004 │\n",
       "│ Tactics\"   ┆           ┆           ┆ reveals   ┆   ┆         ┆           ┆           ┆ 603, …    │\n",
       "│            ┆           ┆           ┆ their …   ┆   ┆         ┆           ┆           ┆ 0.007…    │\n",
       "│ \"Lifetime\" ┆ {B}       ┆ Creature  ┆ ~ enters  ┆ … ┆ null    ┆ [\"rare\"]  ┆ [\"UNF\"]   ┆ [0.001363 │\n",
       "│ Pass       ┆           ┆ — Zombie  ┆ tapped.\\n ┆   ┆         ┆           ┆           ┆ , -0.0039 │\n",
       "│ Holder     ┆           ┆ Guest     ┆ When ~    ┆   ┆         ┆           ┆           ┆ 04, …     │\n",
       "│            ┆           ┆           ┆ dies,…    ┆   ┆         ┆           ┆           ┆ 0.0134…   │\n",
       "│ \"Name      ┆ {2}{R}    ┆ Creature  ┆ When this ┆ … ┆ null    ┆ [\"common\" ┆ [\"UNF\"]   ┆ [-0.03250 │\n",
       "│ Sticker\"   ┆           ┆ — Goblin  ┆ creature  ┆   ┆         ┆ ]         ┆           ┆ 6, -0.006 │\n",
       "│ Goblin     ┆           ┆ Guest     ┆ enters    ┆   ┆         ┆           ┆           ┆ 977, …    │\n",
       "│            ┆           ┆           ┆ from…     ┆   ┆         ┆           ┆           ┆ -0.02…    │\n",
       "│ …          ┆ …         ┆ …         ┆ …         ┆ … ┆ …       ┆ …         ┆ …         ┆ …         │\n",
       "│ Éomer,     ┆ {3}{R}{W} ┆ Legendary ┆ Double    ┆ … ┆ null    ┆ [\"rare\"]  ┆ [\"LTC\"]   ┆ [0.014294 │\n",
       "│ King of    ┆           ┆ Creature  ┆ strike\\n~ ┆   ┆         ┆           ┆           ┆ ,         │\n",
       "│ Rohan      ┆           ┆ — Human   ┆ enters    ┆   ┆         ┆           ┆           ┆ 0.012956, │\n",
       "│            ┆           ┆ Nob…      ┆ with a…   ┆   ┆         ┆           ┆           ┆ …         │\n",
       "│            ┆           ┆           ┆           ┆   ┆         ┆           ┆           ┆ 0.01955…  │\n",
       "│ Éomer,     ┆ {2}{R}{R} ┆ Legendary ┆ Haste\\nWh ┆ … ┆ null    ┆ [\"rare\"]  ┆ [\"PLTR\",  ┆ [-0.02239 │\n",
       "│ Marshal of ┆           ┆ Creature  ┆ enever    ┆   ┆         ┆           ┆ \"LTR\"]    ┆ 8,        │\n",
       "│ Rohan      ┆           ┆ — Human   ┆ one or    ┆   ┆         ┆           ┆           ┆ 0.017195, │\n",
       "│            ┆           ┆ Kni…      ┆ more ot…  ┆   ┆         ┆           ┆           ┆ … 0.0469… │\n",
       "│ Éowyn,     ┆ {2}{R}{W} ┆ Legendary ┆ Haste\\nWh ┆ … ┆ null    ┆ [\"rare\"]  ┆ [\"PLTR\",  ┆ [-0.03340 │\n",
       "│ Fearless   ┆           ┆ Creature  ┆ en ~      ┆   ┆         ┆           ┆ \"LTR\"]    ┆ 6,        │\n",
       "│ Knight     ┆           ┆ — Human   ┆ enters,   ┆   ┆         ┆           ┆           ┆ 0.007331, │\n",
       "│            ┆           ┆ Kni…      ┆ exile ta… ┆   ┆         ┆           ┆           ┆ … 0.0282… │\n",
       "│ Éowyn,     ┆ {2}{W}    ┆ Legendary ┆ At the    ┆ … ┆ null    ┆ [\"uncommo ┆ [\"LTR\"]   ┆ [-0.00130 │\n",
       "│ Lady of    ┆           ┆ Creature  ┆ beginning ┆   ┆         ┆ n\"]       ┆           ┆ 6,        │\n",
       "│ Rohan      ┆           ┆ — Human   ┆ of combat ┆   ┆         ┆           ┆           ┆ 0.005256, │\n",
       "│            ┆           ┆ Nob…      ┆ on …      ┆   ┆         ┆           ┆           ┆ … 0.0482… │\n",
       "│ Éowyn, Shi ┆ {2}{U}{R} ┆ Legendary ┆ First str ┆ … ┆ null    ┆ [\"mythic\" ┆ [\"LTC\"]   ┆ [-0.00446 │\n",
       "│ eldmaiden  ┆ {W}       ┆ Creature  ┆ ike\\nAt   ┆   ┆         ┆ ]         ┆           ┆ 8,        │\n",
       "│            ┆           ┆ — Human   ┆ the begin ┆   ┆         ┆           ┆           ┆ 0.002612, │\n",
       "│            ┆           ┆ Kni…      ┆ ning…     ┆   ┆         ┆           ┆           ┆ … 0.0312… │\n",
       "└────────────┴───────────┴───────────┴───────────┴───┴─────────┴───────────┴───────────┴───────────┘"
      ]
     },
     "execution_count": 8,
     "metadata": {},
     "output_type": "execute_result"
    }
   ],
   "source": [
    "df_2 = df.with_columns(embeds=dataset_embeddings.cpu().numpy()).sort(\"name\")\n",
    "\n",
    "df_2"
   ]
  },
  {
   "cell_type": "code",
   "execution_count": 9,
   "metadata": {},
   "outputs": [],
   "source": [
    "df_2.write_parquet(\"mtg_embeddings.parquet\")"
   ]
  },
  {
   "cell_type": "code",
   "execution_count": 10,
   "metadata": {
    "tags": []
   },
   "outputs": [
    {
     "name": "stderr",
     "output_type": "stream",
     "text": [
      "huggingface/tokenizers: The current process just got forked, after parallelism has already been used. Disabling parallelism to avoid deadlocks...\n",
      "To disable this warning, you can either:\n",
      "\t- Avoid using `tokenizers` before the fork if possible\n",
      "\t- Explicitly set the environment variable TOKENIZERS_PARALLELISM=(true | false)\n"
     ]
    },
    {
     "name": "stdout",
     "output_type": "stream",
     "text": [
      "Copying file://mtg_embeddings.parquet [Content-Type=application/octet-stream]...\n",
      "- [1 files][ 87.5 MiB/ 87.5 MiB]                                                \n",
      "Operation completed over 1 objects/87.5 MiB.                                     \n"
     ]
    }
   ],
   "source": [
    "!gsutil cp mtg_embeddings.parquet gs://maxw-imdb-embeddings/"
   ]
  }
 ],
 "metadata": {
  "environment": {
   "kernel": "python3",
   "name": "common-cu124.m126",
   "type": "gcloud",
   "uri": "us-docker.pkg.dev/deeplearning-platform-release/gcr.io/base-cu124:m126"
  },
  "kernelspec": {
   "display_name": "Python 3",
   "language": "python",
   "name": "python3"
  },
  "language_info": {
   "codemirror_mode": {
    "name": "ipython",
    "version": 3
   },
   "file_extension": ".py",
   "mimetype": "text/x-python",
   "name": "python",
   "nbconvert_exporter": "python",
   "pygments_lexer": "ipython3",
   "version": "3.10.15"
  }
 },
 "nbformat": 4,
 "nbformat_minor": 4
}
