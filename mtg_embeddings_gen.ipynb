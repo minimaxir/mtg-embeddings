{
 "cells": [
  {
   "cell_type": "code",
   "execution_count": 1,
   "metadata": {},
   "outputs": [],
   "source": [
    "# pip install flash_attn"
   ]
  },
  {
   "cell_type": "code",
   "execution_count": 2,
   "metadata": {
    "tags": []
   },
   "outputs": [],
   "source": [
    "import polars as pl\n",
    "import orjson\n",
    "import torch\n",
    "# import yaml\n",
    "from tqdm import tqdm\n",
    "\n",
    "import torch.nn.functional as F\n",
    "from transformers import AutoModel, AutoTokenizer"
   ]
  },
  {
   "cell_type": "code",
   "execution_count": 3,
   "metadata": {
    "tags": []
   },
   "outputs": [
    {
     "data": {
      "text/html": [
       "<div><style>\n",
       ".dataframe > thead > tr,\n",
       ".dataframe > tbody > tr {\n",
       "  text-align: right;\n",
       "  white-space: pre-wrap;\n",
       "}\n",
       "</style>\n",
       "<small>shape: (31_650, 10)</small><table border=\"1\" class=\"dataframe\"><thead><tr><th>name</th><th>scryfallId</th><th>manaCost</th><th>type</th><th>text</th><th>power</th><th>toughness</th><th>loyalty</th><th>rarities</th><th>sets</th></tr><tr><td>str</td><td>str</td><td>str</td><td>str</td><td>str</td><td>str</td><td>str</td><td>str</td><td>list[enum]</td><td>list[enum]</td></tr></thead><tbody><tr><td>&quot;Vilis, Broker of Blood&quot;</td><td>&quot;d68ce39b-0847-4132-b3b5-8bc25f…</td><td>&quot;{5}{B}{B}{B}&quot;</td><td>&quot;Legendary Creature — Demon&quot;</td><td>&quot;Flying\\n{B}, Pay 2 life: Targe…</td><td>&quot;8&quot;</td><td>&quot;8&quot;</td><td>null</td><td>[&quot;rare&quot;]</td><td>[&quot;PM20&quot;, &quot;M20&quot;, … &quot;J25&quot;]</td></tr><tr><td>&quot;Cruel Celebrant&quot;</td><td>&quot;b3f8be99-a398-4664-beb6-3e98d6…</td><td>&quot;{W}{B}&quot;</td><td>&quot;Creature — Vampire&quot;</td><td>&quot;Whenever ~ or another creature…</td><td>&quot;1&quot;</td><td>&quot;2&quot;</td><td>null</td><td>[&quot;uncommon&quot;]</td><td>[&quot;WAR&quot;, &quot;PLST&quot;, &quot;LCC&quot;]</td></tr><tr><td>&quot;Leyline of Lifeforce&quot;</td><td>&quot;f7caffa7-29bd-455c-9770-94a0ad…</td><td>&quot;{2}{G}{G}&quot;</td><td>&quot;Enchantment&quot;</td><td>&quot;If ~ is in your opening hand, …</td><td>null</td><td>null</td><td>null</td><td>[&quot;rare&quot;]</td><td>[&quot;GPT&quot;]</td></tr><tr><td>&quot;Lumbering Falls&quot;</td><td>&quot;e3c4e109-2aa7-4f5f-8b59-7b89c0…</td><td>null</td><td>&quot;Land&quot;</td><td>&quot;~ enters tapped.\\n{T}: Add {G}…</td><td>null</td><td>null</td><td>null</td><td>[&quot;rare&quot;]</td><td>[&quot;PBFZ&quot;, &quot;BFZ&quot;, … &quot;PIO&quot;]</td></tr><tr><td>&quot;Grand Warlord Radha&quot;</td><td>&quot;986981fa-a744-45d8-81c7-68ef33…</td><td>&quot;{2}{R}{G}&quot;</td><td>&quot;Legendary Creature — Elf Warri…</td><td>&quot;Haste\\nWhenever one or more cr…</td><td>&quot;3&quot;</td><td>&quot;4&quot;</td><td>null</td><td>[&quot;rare&quot;]</td><td>[&quot;PDOM&quot;, &quot;DOM&quot;]</td></tr><tr><td>&hellip;</td><td>&hellip;</td><td>&hellip;</td><td>&hellip;</td><td>&hellip;</td><td>&hellip;</td><td>&hellip;</td><td>&hellip;</td><td>&hellip;</td><td>&hellip;</td></tr><tr><td>&quot;Mimeofacture&quot;</td><td>&quot;f4ada33a-5b7c-426a-8416-4ce01b…</td><td>&quot;{3}{U}&quot;</td><td>&quot;Sorcery&quot;</td><td>&quot;Replicate {3}{U} (When you cas…</td><td>null</td><td>null</td><td>null</td><td>[&quot;rare&quot;]</td><td>[&quot;GPT&quot;]</td></tr><tr><td>&quot;Scar&quot;</td><td>&quot;b34e3f7c-468a-456c-8ed0-0cb88f…</td><td>&quot;{B/R}&quot;</td><td>&quot;Instant&quot;</td><td>&quot;Put a -1/-1 counter on target …</td><td>null</td><td>null</td><td>null</td><td>[&quot;common&quot;]</td><td>[&quot;SHM&quot;]</td></tr><tr><td>&quot;Field Marshal&quot;</td><td>&quot;0b81e16f-8e5c-42e2-9d4e-220eb3…</td><td>&quot;{1}{W}{W}&quot;</td><td>&quot;Creature — Human Soldier&quot;</td><td>&quot;Other Soldier creatures get +1…</td><td>&quot;2&quot;</td><td>&quot;2&quot;</td><td>null</td><td>[&quot;rare&quot;]</td><td>[&quot;CSP&quot;, &quot;10E&quot;, &quot;SLD&quot;]</td></tr><tr><td>&quot;Flanking Licid&quot;</td><td>&quot;21bda5a9-4faf-4f7c-a04b-209346…</td><td>&quot;{1}{R}&quot;</td><td>&quot;Summon Licid&quot;</td><td>&quot;{R}, {T}: ~ loses this ability…</td><td>null</td><td>null</td><td>null</td><td>[&quot;rare&quot;]</td><td>[&quot;MB2&quot;]</td></tr><tr><td>&quot;Cocoon&quot;</td><td>&quot;897de61e-440f-4eaf-aef8-0dd1c6…</td><td>&quot;{G}&quot;</td><td>&quot;Enchantment — Aura&quot;</td><td>&quot;Enchant creature you control\\n…</td><td>null</td><td>null</td><td>null</td><td>[&quot;uncommon&quot;]</td><td>[&quot;LEG&quot;, &quot;BCHR&quot;, &quot;CHR&quot;]</td></tr></tbody></table></div>"
      ],
      "text/plain": [
       "shape: (31_650, 10)\n",
       "┌────────────┬───────────┬───────────┬───────────┬───┬───────────┬─────────┬───────────┬───────────┐\n",
       "│ name       ┆ scryfallI ┆ manaCost  ┆ type      ┆ … ┆ toughness ┆ loyalty ┆ rarities  ┆ sets      │\n",
       "│ ---        ┆ d         ┆ ---       ┆ ---       ┆   ┆ ---       ┆ ---     ┆ ---       ┆ ---       │\n",
       "│ str        ┆ ---       ┆ str       ┆ str       ┆   ┆ str       ┆ str     ┆ list[enum ┆ list[enum │\n",
       "│            ┆ str       ┆           ┆           ┆   ┆           ┆         ┆ ]         ┆ ]         │\n",
       "╞════════════╪═══════════╪═══════════╪═══════════╪═══╪═══════════╪═════════╪═══════════╪═══════════╡\n",
       "│ Vilis,     ┆ d68ce39b- ┆ {5}{B}{B} ┆ Legendary ┆ … ┆ 8         ┆ null    ┆ [\"rare\"]  ┆ [\"PM20\",  │\n",
       "│ Broker of  ┆ 0847-4132 ┆ {B}       ┆ Creature  ┆   ┆           ┆         ┆           ┆ \"M20\", …  │\n",
       "│ Blood      ┆ -b3b5-8bc ┆           ┆ — Demon   ┆   ┆           ┆         ┆           ┆ \"J25\"]    │\n",
       "│            ┆ 25f…      ┆           ┆           ┆   ┆           ┆         ┆           ┆           │\n",
       "│ Cruel      ┆ b3f8be99- ┆ {W}{B}    ┆ Creature  ┆ … ┆ 2         ┆ null    ┆ [\"uncommo ┆ [\"WAR\",   │\n",
       "│ Celebrant  ┆ a398-4664 ┆           ┆ — Vampire ┆   ┆           ┆         ┆ n\"]       ┆ \"PLST\",   │\n",
       "│            ┆ -beb6-3e9 ┆           ┆           ┆   ┆           ┆         ┆           ┆ \"LCC\"]    │\n",
       "│            ┆ 8d6…      ┆           ┆           ┆   ┆           ┆         ┆           ┆           │\n",
       "│ Leyline of ┆ f7caffa7- ┆ {2}{G}{G} ┆ Enchantme ┆ … ┆ null      ┆ null    ┆ [\"rare\"]  ┆ [\"GPT\"]   │\n",
       "│ Lifeforce  ┆ 29bd-455c ┆           ┆ nt        ┆   ┆           ┆         ┆           ┆           │\n",
       "│            ┆ -9770-94a ┆           ┆           ┆   ┆           ┆         ┆           ┆           │\n",
       "│            ┆ 0ad…      ┆           ┆           ┆   ┆           ┆         ┆           ┆           │\n",
       "│ Lumbering  ┆ e3c4e109- ┆ null      ┆ Land      ┆ … ┆ null      ┆ null    ┆ [\"rare\"]  ┆ [\"PBFZ\",  │\n",
       "│ Falls      ┆ 2aa7-4f5f ┆           ┆           ┆   ┆           ┆         ┆           ┆ \"BFZ\", …  │\n",
       "│            ┆ -8b59-7b8 ┆           ┆           ┆   ┆           ┆         ┆           ┆ \"PIO\"]    │\n",
       "│            ┆ 9c0…      ┆           ┆           ┆   ┆           ┆         ┆           ┆           │\n",
       "│ Grand      ┆ 986981fa- ┆ {2}{R}{G} ┆ Legendary ┆ … ┆ 4         ┆ null    ┆ [\"rare\"]  ┆ [\"PDOM\",  │\n",
       "│ Warlord    ┆ a744-45d8 ┆           ┆ Creature  ┆   ┆           ┆         ┆           ┆ \"DOM\"]    │\n",
       "│ Radha      ┆ -81c7-68e ┆           ┆ — Elf     ┆   ┆           ┆         ┆           ┆           │\n",
       "│            ┆ f33…      ┆           ┆ Warri…    ┆   ┆           ┆         ┆           ┆           │\n",
       "│ …          ┆ …         ┆ …         ┆ …         ┆ … ┆ …         ┆ …       ┆ …         ┆ …         │\n",
       "│ Mimeofactu ┆ f4ada33a- ┆ {3}{U}    ┆ Sorcery   ┆ … ┆ null      ┆ null    ┆ [\"rare\"]  ┆ [\"GPT\"]   │\n",
       "│ re         ┆ 5b7c-426a ┆           ┆           ┆   ┆           ┆         ┆           ┆           │\n",
       "│            ┆ -8416-4ce ┆           ┆           ┆   ┆           ┆         ┆           ┆           │\n",
       "│            ┆ 01b…      ┆           ┆           ┆   ┆           ┆         ┆           ┆           │\n",
       "│ Scar       ┆ b34e3f7c- ┆ {B/R}     ┆ Instant   ┆ … ┆ null      ┆ null    ┆ [\"common\" ┆ [\"SHM\"]   │\n",
       "│            ┆ 468a-456c ┆           ┆           ┆   ┆           ┆         ┆ ]         ┆           │\n",
       "│            ┆ -8ed0-0cb ┆           ┆           ┆   ┆           ┆         ┆           ┆           │\n",
       "│            ┆ 88f…      ┆           ┆           ┆   ┆           ┆         ┆           ┆           │\n",
       "│ Field      ┆ 0b81e16f- ┆ {1}{W}{W} ┆ Creature  ┆ … ┆ 2         ┆ null    ┆ [\"rare\"]  ┆ [\"CSP\",   │\n",
       "│ Marshal    ┆ 8e5c-42e2 ┆           ┆ — Human   ┆   ┆           ┆         ┆           ┆ \"10E\",    │\n",
       "│            ┆ -9d4e-220 ┆           ┆ Soldier   ┆   ┆           ┆         ┆           ┆ \"SLD\"]    │\n",
       "│            ┆ eb3…      ┆           ┆           ┆   ┆           ┆         ┆           ┆           │\n",
       "│ Flanking   ┆ 21bda5a9- ┆ {1}{R}    ┆ Summon    ┆ … ┆ null      ┆ null    ┆ [\"rare\"]  ┆ [\"MB2\"]   │\n",
       "│ Licid      ┆ 4faf-4f7c ┆           ┆ Licid     ┆   ┆           ┆         ┆           ┆           │\n",
       "│            ┆ -a04b-209 ┆           ┆           ┆   ┆           ┆         ┆           ┆           │\n",
       "│            ┆ 346…      ┆           ┆           ┆   ┆           ┆         ┆           ┆           │\n",
       "│ Cocoon     ┆ 897de61e- ┆ {G}       ┆ Enchantme ┆ … ┆ null      ┆ null    ┆ [\"uncommo ┆ [\"LEG\",   │\n",
       "│            ┆ 440f-4eaf ┆           ┆ nt — Aura ┆   ┆           ┆         ┆ n\"]       ┆ \"BCHR\",   │\n",
       "│            ┆ -aef8-0dd ┆           ┆           ┆   ┆           ┆         ┆           ┆ \"CHR\"]    │\n",
       "│            ┆ 1c6…      ┆           ┆           ┆   ┆           ┆         ┆           ┆           │\n",
       "└────────────┴───────────┴───────────┴───────────┴───┴───────────┴─────────┴───────────┴───────────┘"
      ]
     },
     "execution_count": 3,
     "metadata": {},
     "output_type": "execute_result"
    }
   ],
   "source": [
    "df = pl.read_parquet(\"mtg_data_2.parquet\").sample(fraction=1, shuffle=True, seed=42)\n",
    "\n",
    "df"
   ]
  },
  {
   "cell_type": "code",
   "execution_count": 4,
   "metadata": {
    "tags": []
   },
   "outputs": [
    {
     "name": "stdout",
     "output_type": "stream",
     "text": [
      "{\n",
      "  \"name\": \"Vilis, Broker of Blood\",\n",
      "  \"manaCost\": \"{5}{B}{B}{B}\",\n",
      "  \"type\": \"Legendary Creature — Demon\",\n",
      "  \"text\": \"Flying\\\\n{B}, Pay 2 life: Target creature gets -1/-1 until end of turn.\\\\nWhenever you lose life, draw that many cards. (Damage causes loss of life.)\",\n",
      "  \"power\": \"8\",\n",
      "  \"toughness\": \"8\",\n",
      "  \"rarities\": [\n",
      "    \"rare\"\n",
      "  ],\n",
      "  \"sets\": [\n",
      "    \"PM20\",\n",
      "    \"M20\",\n",
      "    \"SLD\",\n",
      "    \"GN3\",\n",
      "    \"J25\"\n",
      "  ]\n",
      "}\n"
     ]
    }
   ],
   "source": [
    "docs = []\n",
    "for row in df.iter_rows(named=True):\n",
    "    row_dict = {k: v for k, v in row.items() if v is not None and k != \"scryfallId\"}\n",
    "    # row_str = yaml.dump(row_dict, sort_keys=False, allow_unicode=True)\n",
    "    row_str = orjson.dumps(row_dict, option=orjson.OPT_INDENT_2).decode(\"utf-8\")\n",
    "    docs.append(row_str)\n",
    "\n",
    "print(docs[0])"
   ]
  },
  {
   "cell_type": "code",
   "execution_count": 5,
   "metadata": {
    "tags": []
   },
   "outputs": [
    {
     "name": "stderr",
     "output_type": "stream",
     "text": [
      "You are attempting to use Flash Attention 2.0 with a model not initialized on GPU. Make sure to move the model to GPU after initializing it on CPU with `model.to('cuda')`.\n"
     ]
    }
   ],
   "source": [
    "model_path = \"Alibaba-NLP/gte-modernbert-base\"\n",
    "device = \"cuda:0\"\n",
    "\n",
    "tokenizer = AutoTokenizer.from_pretrained(model_path)\n",
    "model = AutoModel.from_pretrained(model_path)\n",
    "_ = model.to(device)\n",
    "\n",
    "torch.set_float32_matmul_precision('high')"
   ]
  },
  {
   "cell_type": "code",
   "execution_count": 6,
   "metadata": {
    "tags": []
   },
   "outputs": [
    {
     "data": {
      "text/plain": [
       "{'input_ids': tensor([[50281,    92,   187, 50276,     3,  1590,  1381,   346,    55, 27154,\n",
       "            13,  4819,  6426,   273, 14169,   995,   187, 50276,     3,  1342,\n",
       "            66, 25997,  1381, 36028,    22,  1217,    35,  1217,    35,  1217,\n",
       "            35, 32722,   187, 50276,     3,   881,  1381,   346, 18596,   423,\n",
       "           552, 13489,   459,  1905,  4281,   251,   995,   187, 50276,     3,\n",
       "          1156,  1381,   346,    39,  2943,  3353,    79,    92,    35,  2023,\n",
       "         12286,   374,  1495,    27, 17661, 15906,  4850,   428,    18,  7448,\n",
       "            18,  1919,   990,   273,  1614,    15,  3353,    79, 43835,   368,\n",
       "          7168,  1495,    13,  3812,   326,  1142,  8364,    15,   313, 21727,\n",
       "           486,  5997,  2957,   273,  1495,  2698,   995,   187, 50276,     3,\n",
       "          9177,  1381,   346,    25,   995,   187, 50276,     3,    85,   602,\n",
       "          1255,  1381,   346,    25,   995,   187, 50276,     3, 23537,  1005,\n",
       "          1381,   544,   187, 50274,     3,   376,   250,     3,   187, 50276,\n",
       "          1092,   187, 50276,     3, 19598,  1381,   544,   187, 50274,     3,\n",
       "          9122,   938,   995,   187, 50274,     3,    46,   938,   995,   187,\n",
       "         50274,     3,  7084,    37,   995,   187, 50274,     3, 26756,    20,\n",
       "           995,   187, 50274,     3,    43,  1099,     3,   187, 50276,    62,\n",
       "           187,    94, 50282]], device='cuda:0'), 'attention_mask': tensor([[1, 1, 1, 1, 1, 1, 1, 1, 1, 1, 1, 1, 1, 1, 1, 1, 1, 1, 1, 1, 1, 1, 1, 1,\n",
       "         1, 1, 1, 1, 1, 1, 1, 1, 1, 1, 1, 1, 1, 1, 1, 1, 1, 1, 1, 1, 1, 1, 1, 1,\n",
       "         1, 1, 1, 1, 1, 1, 1, 1, 1, 1, 1, 1, 1, 1, 1, 1, 1, 1, 1, 1, 1, 1, 1, 1,\n",
       "         1, 1, 1, 1, 1, 1, 1, 1, 1, 1, 1, 1, 1, 1, 1, 1, 1, 1, 1, 1, 1, 1, 1, 1,\n",
       "         1, 1, 1, 1, 1, 1, 1, 1, 1, 1, 1, 1, 1, 1, 1, 1, 1, 1, 1, 1, 1, 1, 1, 1,\n",
       "         1, 1, 1, 1, 1, 1, 1, 1, 1, 1, 1, 1, 1, 1, 1, 1, 1, 1, 1, 1, 1, 1, 1, 1,\n",
       "         1, 1, 1, 1, 1, 1, 1, 1, 1, 1, 1, 1, 1, 1, 1, 1, 1, 1, 1, 1, 1, 1, 1, 1,\n",
       "         1, 1, 1, 1, 1]], device='cuda:0')}"
      ]
     },
     "execution_count": 6,
     "metadata": {},
     "output_type": "execute_result"
    }
   ],
   "source": [
    "tokenized_docs = tokenizer(\n",
    "    docs[0], max_length=8192, padding=True, truncation=True, return_tensors=\"pt\"\n",
    ").to(device)\n",
    "\n",
    "tokenized_docs"
   ]
  },
  {
   "cell_type": "code",
   "execution_count": 7,
   "metadata": {
    "tags": []
   },
   "outputs": [
    {
     "name": "stderr",
     "output_type": "stream",
     "text": [
      "100%|██████████| 495/495 [01:15<00:00,  6.60it/s]\n"
     ]
    },
    {
     "data": {
      "text/plain": [
       "torch.Size([31650, 768])"
      ]
     },
     "execution_count": 7,
     "metadata": {},
     "output_type": "execute_result"
    }
   ],
   "source": [
    "dataloader = torch.utils.data.DataLoader(docs, batch_size=64,\n",
    "                                         shuffle=False,\n",
    "                                         pin_memory=True,\n",
    "                                         pin_memory_device=device)\n",
    "\n",
    "dataset_embeddings = []\n",
    "for batch in tqdm(dataloader, smoothing=0):\n",
    "    tokenized_batch = tokenizer(\n",
    "        batch, max_length=8192, padding=True, truncation=True, return_tensors=\"pt\"\n",
    "    ).to(device)\n",
    "\n",
    "    with torch.no_grad():\n",
    "        outputs = model(**tokenized_batch)\n",
    "        embeddings = outputs.last_hidden_state[:, 0].detach().cpu()\n",
    "    dataset_embeddings.append(embeddings)\n",
    "\n",
    "dataset_embeddings = torch.cat(dataset_embeddings)\n",
    "dataset_embeddings = F.normalize(dataset_embeddings, p=2, dim=1)\n",
    "dataset_embeddings.size()"
   ]
  },
  {
   "cell_type": "code",
   "execution_count": 8,
   "metadata": {},
   "outputs": [
    {
     "data": {
      "text/html": [
       "<div><style>\n",
       ".dataframe > thead > tr,\n",
       ".dataframe > tbody > tr {\n",
       "  text-align: right;\n",
       "  white-space: pre-wrap;\n",
       "}\n",
       "</style>\n",
       "<small>shape: (31_650, 11)</small><table border=\"1\" class=\"dataframe\"><thead><tr><th>name</th><th>scryfallId</th><th>manaCost</th><th>type</th><th>text</th><th>power</th><th>toughness</th><th>loyalty</th><th>rarities</th><th>sets</th><th>embedding</th></tr><tr><td>str</td><td>str</td><td>str</td><td>str</td><td>str</td><td>str</td><td>str</td><td>str</td><td>list[enum]</td><td>list[enum]</td><td>array[f32, 768]</td></tr></thead><tbody><tr><td>&quot;&quot;Ach! Hans, Run!&quot;&quot;</td><td>&quot;84f2c8f5-8e11-4639-b7de-00e4a2…</td><td>&quot;{2}{R}{R}{G}{G}&quot;</td><td>&quot;Enchantment&quot;</td><td>&quot;At the beginning of your upkee…</td><td>null</td><td>null</td><td>null</td><td>[&quot;rare&quot;]</td><td>[&quot;UNH&quot;]</td><td>[0.021458, -0.036102, … -0.00607]</td></tr><tr><td>&quot;&quot;Brims&quot; Barone, Midway Mobster&quot;</td><td>&quot;68832214-2943-4253-8884-ffa490…</td><td>&quot;{3}{W}{B}&quot;</td><td>&quot;Legendary Creature — Human Rog…</td><td>&quot;When ~ enters, put a +1/+1 cou…</td><td>&quot;5&quot;</td><td>&quot;4&quot;</td><td>null</td><td>[&quot;uncommon&quot;]</td><td>[&quot;UNF&quot;]</td><td>[0.000261, 0.025207, … 0.005641]</td></tr><tr><td>&quot;&quot;Intimidation Tactics&quot;&quot;</td><td>&quot;9b4e6022-44d2-4dfe-8f7a-51581e…</td><td>&quot;{B}&quot;</td><td>&quot;Sorcery&quot;</td><td>&quot;Target opponent reveals their …</td><td>null</td><td>null</td><td>null</td><td>[&quot;uncommon&quot;]</td><td>[&quot;DFT&quot;]</td><td>[-0.031034, -0.004097, … 0.007289]</td></tr><tr><td>&quot;&quot;Lifetime&quot; Pass Holder&quot;</td><td>&quot;42293306-aaea-4542-8df4-813823…</td><td>&quot;{B}&quot;</td><td>&quot;Creature — Zombie Guest&quot;</td><td>&quot;~ enters tapped.\\nWhen ~ dies,…</td><td>&quot;2&quot;</td><td>&quot;1&quot;</td><td>null</td><td>[&quot;rare&quot;]</td><td>[&quot;UNF&quot;]</td><td>[0.001258, -0.004219, … 0.013614]</td></tr><tr><td>&quot;&quot;Name Sticker&quot; Goblin&quot;</td><td>&quot;fd1442b4-da59-4042-835f-143c8d…</td><td>&quot;{2}{R}&quot;</td><td>&quot;Creature — Goblin Guest&quot;</td><td>&quot;When this creature enters from…</td><td>&quot;2&quot;</td><td>&quot;2&quot;</td><td>null</td><td>[&quot;common&quot;]</td><td>[&quot;UNF&quot;]</td><td>[-0.03243, -0.006905, … -0.026888]</td></tr><tr><td>&hellip;</td><td>&hellip;</td><td>&hellip;</td><td>&hellip;</td><td>&hellip;</td><td>&hellip;</td><td>&hellip;</td><td>&hellip;</td><td>&hellip;</td><td>&hellip;</td><td>&hellip;</td></tr><tr><td>&quot;Éomer, King of Rohan&quot;</td><td>&quot;f2c11695-f22b-44d5-937c-2578f2…</td><td>&quot;{3}{R}{W}&quot;</td><td>&quot;Legendary Creature — Human Nob…</td><td>&quot;Double strike\\n~ enters with a…</td><td>&quot;2&quot;</td><td>&quot;2&quot;</td><td>null</td><td>[&quot;rare&quot;]</td><td>[&quot;LTC&quot;]</td><td>[0.014415, 0.012861, … 0.019452]</td></tr><tr><td>&quot;Éomer, Marshal of Rohan&quot;</td><td>&quot;0bd31ce9-9551-4efe-8bd2-b97d8e…</td><td>&quot;{2}{R}{R}&quot;</td><td>&quot;Legendary Creature — Human Kni…</td><td>&quot;Haste\\nWhenever one or more ot…</td><td>&quot;4&quot;</td><td>&quot;4&quot;</td><td>null</td><td>[&quot;rare&quot;]</td><td>[&quot;PLTR&quot;, &quot;LTR&quot;]</td><td>[-0.022492, 0.017429, … 0.046833]</td></tr><tr><td>&quot;Éowyn, Fearless Knight&quot;</td><td>&quot;c1b37891-5ed9-47e4-8d2f-c2bfd8…</td><td>&quot;{2}{R}{W}&quot;</td><td>&quot;Legendary Creature — Human Kni…</td><td>&quot;Haste\\nWhen ~ enters, exile ta…</td><td>&quot;3&quot;</td><td>&quot;4&quot;</td><td>null</td><td>[&quot;rare&quot;]</td><td>[&quot;PLTR&quot;, &quot;LTR&quot;]</td><td>[-0.033708, 0.007089, … 0.02833]</td></tr><tr><td>&quot;Éowyn, Lady of Rohan&quot;</td><td>&quot;e59710c4-24de-419e-a8a0-e8392d…</td><td>&quot;{2}{W}&quot;</td><td>&quot;Legendary Creature — Human Nob…</td><td>&quot;At the beginning of combat on …</td><td>&quot;2&quot;</td><td>&quot;4&quot;</td><td>null</td><td>[&quot;uncommon&quot;]</td><td>[&quot;LTR&quot;]</td><td>[-0.001433, 0.00514, … 0.048259]</td></tr><tr><td>&quot;Éowyn, Shieldmaiden&quot;</td><td>&quot;dd4a00ff-2206-4e12-a0ab-61ed82…</td><td>&quot;{2}{U}{R}{W}&quot;</td><td>&quot;Legendary Creature — Human Kni…</td><td>&quot;First strike\\nAt the beginning…</td><td>&quot;5&quot;</td><td>&quot;4&quot;</td><td>null</td><td>[&quot;mythic&quot;]</td><td>[&quot;LTC&quot;]</td><td>[-0.004505, 0.002423, … 0.031238]</td></tr></tbody></table></div>"
      ],
      "text/plain": [
       "shape: (31_650, 11)\n",
       "┌────────────┬───────────┬───────────┬───────────┬───┬─────────┬───────────┬───────────┬───────────┐\n",
       "│ name       ┆ scryfallI ┆ manaCost  ┆ type      ┆ … ┆ loyalty ┆ rarities  ┆ sets      ┆ embedding │\n",
       "│ ---        ┆ d         ┆ ---       ┆ ---       ┆   ┆ ---     ┆ ---       ┆ ---       ┆ ---       │\n",
       "│ str        ┆ ---       ┆ str       ┆ str       ┆   ┆ str     ┆ list[enum ┆ list[enum ┆ array[f32 │\n",
       "│            ┆ str       ┆           ┆           ┆   ┆         ┆ ]         ┆ ]         ┆ , 768]    │\n",
       "╞════════════╪═══════════╪═══════════╪═══════════╪═══╪═════════╪═══════════╪═══════════╪═══════════╡\n",
       "│ \"Ach!      ┆ 84f2c8f5- ┆ {2}{R}{R} ┆ Enchantme ┆ … ┆ null    ┆ [\"rare\"]  ┆ [\"UNH\"]   ┆ [0.021458 │\n",
       "│ Hans,      ┆ 8e11-4639 ┆ {G}{G}    ┆ nt        ┆   ┆         ┆           ┆           ┆ , -0.0361 │\n",
       "│ Run!\"      ┆ -b7de-00e ┆           ┆           ┆   ┆         ┆           ┆           ┆ 02, …     │\n",
       "│            ┆ 4a2…      ┆           ┆           ┆   ┆         ┆           ┆           ┆ -0.006…   │\n",
       "│ \"Brims\"    ┆ 68832214- ┆ {3}{W}{B} ┆ Legendary ┆ … ┆ null    ┆ [\"uncommo ┆ [\"UNF\"]   ┆ [0.000261 │\n",
       "│ Barone,    ┆ 2943-4253 ┆           ┆ Creature  ┆   ┆         ┆ n\"]       ┆           ┆ ,         │\n",
       "│ Midway     ┆ -8884-ffa ┆           ┆ — Human   ┆   ┆         ┆           ┆           ┆ 0.025207, │\n",
       "│ Mobster    ┆ 490…      ┆           ┆ Rog…      ┆   ┆         ┆           ┆           ┆ …         │\n",
       "│            ┆           ┆           ┆           ┆   ┆         ┆           ┆           ┆ 0.00564…  │\n",
       "│ \"Intimidat ┆ 9b4e6022- ┆ {B}       ┆ Sorcery   ┆ … ┆ null    ┆ [\"uncommo ┆ [\"DFT\"]   ┆ [-0.03103 │\n",
       "│ ion        ┆ 44d2-4dfe ┆           ┆           ┆   ┆         ┆ n\"]       ┆           ┆ 4, -0.004 │\n",
       "│ Tactics\"   ┆ -8f7a-515 ┆           ┆           ┆   ┆         ┆           ┆           ┆ 097, …    │\n",
       "│            ┆ 81e…      ┆           ┆           ┆   ┆         ┆           ┆           ┆ 0.007…    │\n",
       "│ \"Lifetime\" ┆ 42293306- ┆ {B}       ┆ Creature  ┆ … ┆ null    ┆ [\"rare\"]  ┆ [\"UNF\"]   ┆ [0.001258 │\n",
       "│ Pass       ┆ aaea-4542 ┆           ┆ — Zombie  ┆   ┆         ┆           ┆           ┆ , -0.0042 │\n",
       "│ Holder     ┆ -8df4-813 ┆           ┆ Guest     ┆   ┆         ┆           ┆           ┆ 19, …     │\n",
       "│            ┆ 823…      ┆           ┆           ┆   ┆         ┆           ┆           ┆ 0.0136…   │\n",
       "│ \"Name      ┆ fd1442b4- ┆ {2}{R}    ┆ Creature  ┆ … ┆ null    ┆ [\"common\" ┆ [\"UNF\"]   ┆ [-0.03243 │\n",
       "│ Sticker\"   ┆ da59-4042 ┆           ┆ — Goblin  ┆   ┆         ┆ ]         ┆           ┆ , -0.0069 │\n",
       "│ Goblin     ┆ -835f-143 ┆           ┆ Guest     ┆   ┆         ┆           ┆           ┆ 05, …     │\n",
       "│            ┆ c8d…      ┆           ┆           ┆   ┆         ┆           ┆           ┆ -0.026…   │\n",
       "│ …          ┆ …         ┆ …         ┆ …         ┆ … ┆ …       ┆ …         ┆ …         ┆ …         │\n",
       "│ Éomer,     ┆ f2c11695- ┆ {3}{R}{W} ┆ Legendary ┆ … ┆ null    ┆ [\"rare\"]  ┆ [\"LTC\"]   ┆ [0.014415 │\n",
       "│ King of    ┆ f22b-44d5 ┆           ┆ Creature  ┆   ┆         ┆           ┆           ┆ ,         │\n",
       "│ Rohan      ┆ -937c-257 ┆           ┆ — Human   ┆   ┆         ┆           ┆           ┆ 0.012861, │\n",
       "│            ┆ 8f2…      ┆           ┆ Nob…      ┆   ┆         ┆           ┆           ┆ …         │\n",
       "│            ┆           ┆           ┆           ┆   ┆         ┆           ┆           ┆ 0.01945…  │\n",
       "│ Éomer,     ┆ 0bd31ce9- ┆ {2}{R}{R} ┆ Legendary ┆ … ┆ null    ┆ [\"rare\"]  ┆ [\"PLTR\",  ┆ [-0.02249 │\n",
       "│ Marshal of ┆ 9551-4efe ┆           ┆ Creature  ┆   ┆         ┆           ┆ \"LTR\"]    ┆ 2,        │\n",
       "│ Rohan      ┆ -8bd2-b97 ┆           ┆ — Human   ┆   ┆         ┆           ┆           ┆ 0.017429, │\n",
       "│            ┆ d8e…      ┆           ┆ Kni…      ┆   ┆         ┆           ┆           ┆ … 0.0468… │\n",
       "│ Éowyn,     ┆ c1b37891- ┆ {2}{R}{W} ┆ Legendary ┆ … ┆ null    ┆ [\"rare\"]  ┆ [\"PLTR\",  ┆ [-0.03370 │\n",
       "│ Fearless   ┆ 5ed9-47e4 ┆           ┆ Creature  ┆   ┆         ┆           ┆ \"LTR\"]    ┆ 8,        │\n",
       "│ Knight     ┆ -8d2f-c2b ┆           ┆ — Human   ┆   ┆         ┆           ┆           ┆ 0.007089, │\n",
       "│            ┆ fd8…      ┆           ┆ Kni…      ┆   ┆         ┆           ┆           ┆ … 0.0283… │\n",
       "│ Éowyn,     ┆ e59710c4- ┆ {2}{W}    ┆ Legendary ┆ … ┆ null    ┆ [\"uncommo ┆ [\"LTR\"]   ┆ [-0.00143 │\n",
       "│ Lady of    ┆ 24de-419e ┆           ┆ Creature  ┆   ┆         ┆ n\"]       ┆           ┆ 3,        │\n",
       "│ Rohan      ┆ -a8a0-e83 ┆           ┆ — Human   ┆   ┆         ┆           ┆           ┆ 0.00514,  │\n",
       "│            ┆ 92d…      ┆           ┆ Nob…      ┆   ┆         ┆           ┆           ┆ …         │\n",
       "│            ┆           ┆           ┆           ┆   ┆         ┆           ┆           ┆ 0.04825…  │\n",
       "│ Éowyn, Shi ┆ dd4a00ff- ┆ {2}{U}{R} ┆ Legendary ┆ … ┆ null    ┆ [\"mythic\" ┆ [\"LTC\"]   ┆ [-0.00450 │\n",
       "│ eldmaiden  ┆ 2206-4e12 ┆ {W}       ┆ Creature  ┆   ┆         ┆ ]         ┆           ┆ 5,        │\n",
       "│            ┆ -a0ab-61e ┆           ┆ — Human   ┆   ┆         ┆           ┆           ┆ 0.002423, │\n",
       "│            ┆ d82…      ┆           ┆ Kni…      ┆   ┆         ┆           ┆           ┆ … 0.0312… │\n",
       "└────────────┴───────────┴───────────┴───────────┴───┴─────────┴───────────┴───────────┴───────────┘"
      ]
     },
     "execution_count": 8,
     "metadata": {},
     "output_type": "execute_result"
    }
   ],
   "source": [
    "df_2 = df.with_columns(embedding=dataset_embeddings.cpu().numpy()).sort(\"name\")\n",
    "\n",
    "df_2"
   ]
  },
  {
   "cell_type": "code",
   "execution_count": 9,
   "metadata": {},
   "outputs": [],
   "source": [
    "df_2.write_parquet(\"mtg_embeddings.parquet\")"
   ]
  },
  {
   "cell_type": "code",
   "execution_count": 10,
   "metadata": {
    "tags": []
   },
   "outputs": [
    {
     "name": "stderr",
     "output_type": "stream",
     "text": [
      "huggingface/tokenizers: The current process just got forked, after parallelism has already been used. Disabling parallelism to avoid deadlocks...\n",
      "To disable this warning, you can either:\n",
      "\t- Avoid using `tokenizers` before the fork if possible\n",
      "\t- Explicitly set the environment variable TOKENIZERS_PARALLELISM=(true | false)\n"
     ]
    },
    {
     "name": "stdout",
     "output_type": "stream",
     "text": [
      "Copying file://mtg_embeddings.parquet [Content-Type=application/octet-stream]...\n",
      "- [1 files][ 88.1 MiB/ 88.1 MiB]                                                \n",
      "Operation completed over 1 objects/88.1 MiB.                                     \n"
     ]
    }
   ],
   "source": [
    "!gsutil cp mtg_embeddings.parquet gs://maxw-imdb-embeddings/"
   ]
  }
 ],
 "metadata": {
  "environment": {
   "kernel": "python3",
   "name": "common-cu124.m126",
   "type": "gcloud",
   "uri": "us-docker.pkg.dev/deeplearning-platform-release/gcr.io/base-cu124:m126"
  },
  "kernelspec": {
   "display_name": ".venv",
   "language": "python",
   "name": "python3"
  },
  "language_info": {
   "codemirror_mode": {
    "name": "ipython",
    "version": 3
   },
   "file_extension": ".py",
   "mimetype": "text/x-python",
   "name": "python",
   "nbconvert_exporter": "python",
   "pygments_lexer": "ipython3",
   "version": "3.13.1"
  }
 },
 "nbformat": 4,
 "nbformat_minor": 4
}
