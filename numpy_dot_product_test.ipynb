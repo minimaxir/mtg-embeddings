{
 "cells": [
  {
   "cell_type": "code",
   "execution_count": 2,
   "metadata": {},
   "outputs": [],
   "source": [
    "import polars as pl\n",
    "import numpy as np"
   ]
  },
  {
   "cell_type": "code",
   "execution_count": 3,
   "metadata": {},
   "outputs": [
    {
     "data": {
      "text/html": [
       "<div><style>\n",
       ".dataframe > thead > tr,\n",
       ".dataframe > tbody > tr {\n",
       "  text-align: right;\n",
       "  white-space: pre-wrap;\n",
       "}\n",
       "</style>\n",
       "<small>shape: (32_254, 13)</small><table border=\"1\" class=\"dataframe\"><thead><tr><th>name</th><th>scryfallId</th><th>manaCost</th><th>type</th><th>text</th><th>power</th><th>toughness</th><th>loyalty</th><th>rarities</th><th>sets</th><th>embedding</th><th>x_2d</th><th>y_2d</th></tr><tr><td>str</td><td>str</td><td>str</td><td>str</td><td>str</td><td>str</td><td>str</td><td>str</td><td>list[enum]</td><td>list[enum]</td><td>array[f32, 768]</td><td>f32</td><td>f32</td></tr></thead><tbody><tr><td>&quot;&quot;Ach! Hans, Run!&quot;&quot;</td><td>&quot;84f2c8f5-8e11-4639-b7de-00e4a2…</td><td>&quot;{2}{R}{R}{G}{G}&quot;</td><td>&quot;Enchantment&quot;</td><td>&quot;At the beginning of your upkee…</td><td>null</td><td>null</td><td>null</td><td>[&quot;rare&quot;]</td><td>[&quot;UNH&quot;]</td><td>[0.021458, -0.036102, … -0.00607]</td><td>-0.261871</td><td>2.217163</td></tr><tr><td>&quot;&quot;Brims&quot; Barone, Midway Mobster&quot;</td><td>&quot;68832214-2943-4253-8884-ffa490…</td><td>&quot;{3}{W}{B}&quot;</td><td>&quot;Legendary Creature — Human Rog…</td><td>&quot;When ~ enters, put a +1/+1 cou…</td><td>&quot;5&quot;</td><td>&quot;4&quot;</td><td>null</td><td>[&quot;uncommon&quot;]</td><td>[&quot;UNF&quot;]</td><td>[0.000261, 0.025207, … 0.005641]</td><td>0.045746</td><td>-0.990356</td></tr><tr><td>&quot;&quot;Lifetime&quot; Pass Holder&quot;</td><td>&quot;42293306-aaea-4542-8df4-813823…</td><td>&quot;{B}&quot;</td><td>&quot;Creature — Zombie Guest&quot;</td><td>&quot;This creature enters tapped.\\n…</td><td>&quot;2&quot;</td><td>&quot;1&quot;</td><td>null</td><td>[&quot;rare&quot;]</td><td>[&quot;UNF&quot;]</td><td>[-0.004467, -0.016707, … 0.001401]</td><td>-1.034943</td><td>0.165527</td></tr><tr><td>&quot;&quot;Name Sticker&quot; Goblin&quot;</td><td>&quot;fd1442b4-da59-4042-835f-143c8d…</td><td>&quot;{2}{R}&quot;</td><td>&quot;Creature — Goblin Guest&quot;</td><td>&quot;When this creature enters from…</td><td>&quot;2&quot;</td><td>&quot;2&quot;</td><td>null</td><td>[&quot;common&quot;]</td><td>[&quot;UNF&quot;]</td><td>[-0.03243, -0.006905, … -0.026888]</td><td>-3.05658</td><td>-2.964111</td></tr><tr><td>&quot;&quot;Rumors of My Death . . .&quot;&quot;</td><td>&quot;cb3587b9-e727-4f37-b4d6-1baa73…</td><td>&quot;{2}{B}&quot;</td><td>&quot;Enchantment&quot;</td><td>&quot;{3}{B}, Exile a permanent you …</td><td>null</td><td>null</td><td>null</td><td>[&quot;uncommon&quot;]</td><td>[&quot;UST&quot;]</td><td>[-0.008719, -0.009454, … 0.001481]</td><td>0.421021</td><td>2.189697</td></tr><tr><td>&hellip;</td><td>&hellip;</td><td>&hellip;</td><td>&hellip;</td><td>&hellip;</td><td>&hellip;</td><td>&hellip;</td><td>&hellip;</td><td>&hellip;</td><td>&hellip;</td><td>&hellip;</td><td>&hellip;</td><td>&hellip;</td></tr><tr><td>&quot;Éomer, King of Rohan&quot;</td><td>&quot;f2c11695-f22b-44d5-937c-2578f2…</td><td>&quot;{3}{R}{W}&quot;</td><td>&quot;Legendary Creature — Human Nob…</td><td>&quot;Double strike\\n~ enters with a…</td><td>&quot;2&quot;</td><td>&quot;2&quot;</td><td>null</td><td>[&quot;rare&quot;]</td><td>[&quot;LTC&quot;]</td><td>[0.014415, 0.012861, … 0.019452]</td><td>-1.087738</td><td>-2.871826</td></tr><tr><td>&quot;Éomer, Marshal of Rohan&quot;</td><td>&quot;fba68512-f536-4961-9e24-563270…</td><td>&quot;{2}{R}{R}&quot;</td><td>&quot;Legendary Creature — Human Kni…</td><td>&quot;Haste\\nWhenever one or more ot…</td><td>&quot;4&quot;</td><td>&quot;4&quot;</td><td>null</td><td>[&quot;rare&quot;]</td><td>[&quot;PLTR&quot;, &quot;LTR&quot;]</td><td>[-0.022492, 0.017429, … 0.046833]</td><td>-1.120117</td><td>-2.854126</td></tr><tr><td>&quot;Éowyn, Fearless Knight&quot;</td><td>&quot;c1b37891-5ed9-47e4-8d2f-c2bfd8…</td><td>&quot;{2}{R}{W}&quot;</td><td>&quot;Legendary Creature — Human Kni…</td><td>&quot;Haste\\nWhen ~ enters, exile ta…</td><td>&quot;3&quot;</td><td>&quot;4&quot;</td><td>null</td><td>[&quot;rare&quot;]</td><td>[&quot;PLTR&quot;, &quot;LTR&quot;]</td><td>[-0.033708, 0.007089, … 0.02833]</td><td>-0.91925</td><td>-3.448242</td></tr><tr><td>&quot;Éowyn, Lady of Rohan&quot;</td><td>&quot;e59710c4-24de-419e-a8a0-e8392d…</td><td>&quot;{2}{W}&quot;</td><td>&quot;Legendary Creature — Human Nob…</td><td>&quot;At the beginning of combat on …</td><td>&quot;2&quot;</td><td>&quot;4&quot;</td><td>null</td><td>[&quot;uncommon&quot;]</td><td>[&quot;LTR&quot;]</td><td>[-0.001433, 0.00514, … 0.048259]</td><td>-1.079437</td><td>-2.838989</td></tr><tr><td>&quot;Éowyn, Shieldmaiden&quot;</td><td>&quot;dd4a00ff-2206-4e12-a0ab-61ed82…</td><td>&quot;{2}{U}{R}{W}&quot;</td><td>&quot;Legendary Creature — Human Kni…</td><td>&quot;First strike\\nAt the beginning…</td><td>&quot;5&quot;</td><td>&quot;4&quot;</td><td>null</td><td>[&quot;mythic&quot;]</td><td>[&quot;LTC&quot;]</td><td>[-0.004505, 0.002423, … 0.031238]</td><td>-1.009552</td><td>-3.384155</td></tr></tbody></table></div>"
      ],
      "text/plain": [
       "shape: (32_254, 13)\n",
       "┌───────────┬───────────┬───────────┬───────────┬───┬───────────┬───────────┬───────────┬──────────┐\n",
       "│ name      ┆ scryfallI ┆ manaCost  ┆ type      ┆ … ┆ sets      ┆ embedding ┆ x_2d      ┆ y_2d     │\n",
       "│ ---       ┆ d         ┆ ---       ┆ ---       ┆   ┆ ---       ┆ ---       ┆ ---       ┆ ---      │\n",
       "│ str       ┆ ---       ┆ str       ┆ str       ┆   ┆ list[enum ┆ array[f32 ┆ f32       ┆ f32      │\n",
       "│           ┆ str       ┆           ┆           ┆   ┆ ]         ┆ , 768]    ┆           ┆          │\n",
       "╞═══════════╪═══════════╪═══════════╪═══════════╪═══╪═══════════╪═══════════╪═══════════╪══════════╡\n",
       "│ \"Ach!     ┆ 84f2c8f5- ┆ {2}{R}{R} ┆ Enchantme ┆ … ┆ [\"UNH\"]   ┆ [0.021458 ┆ -0.261871 ┆ 2.217163 │\n",
       "│ Hans,     ┆ 8e11-4639 ┆ {G}{G}    ┆ nt        ┆   ┆           ┆ , -0.0361 ┆           ┆          │\n",
       "│ Run!\"     ┆ -b7de-00e ┆           ┆           ┆   ┆           ┆ 02, …     ┆           ┆          │\n",
       "│           ┆ 4a2…      ┆           ┆           ┆   ┆           ┆ -0.006…   ┆           ┆          │\n",
       "│ \"Brims\"   ┆ 68832214- ┆ {3}{W}{B} ┆ Legendary ┆ … ┆ [\"UNF\"]   ┆ [0.000261 ┆ 0.045746  ┆ -0.99035 │\n",
       "│ Barone,   ┆ 2943-4253 ┆           ┆ Creature  ┆   ┆           ┆ ,         ┆           ┆ 6        │\n",
       "│ Midway    ┆ -8884-ffa ┆           ┆ — Human   ┆   ┆           ┆ 0.025207, ┆           ┆          │\n",
       "│ Mobster   ┆ 490…      ┆           ┆ Rog…      ┆   ┆           ┆ …         ┆           ┆          │\n",
       "│           ┆           ┆           ┆           ┆   ┆           ┆ 0.00564…  ┆           ┆          │\n",
       "│ \"Lifetime ┆ 42293306- ┆ {B}       ┆ Creature  ┆ … ┆ [\"UNF\"]   ┆ [-0.00446 ┆ -1.034943 ┆ 0.165527 │\n",
       "│ \" Pass    ┆ aaea-4542 ┆           ┆ — Zombie  ┆   ┆           ┆ 7, -0.016 ┆           ┆          │\n",
       "│ Holder    ┆ -8df4-813 ┆           ┆ Guest     ┆   ┆           ┆ 707, …    ┆           ┆          │\n",
       "│           ┆ 823…      ┆           ┆           ┆   ┆           ┆ 0.001…    ┆           ┆          │\n",
       "│ \"Name     ┆ fd1442b4- ┆ {2}{R}    ┆ Creature  ┆ … ┆ [\"UNF\"]   ┆ [-0.03243 ┆ -3.05658  ┆ -2.96411 │\n",
       "│ Sticker\"  ┆ da59-4042 ┆           ┆ — Goblin  ┆   ┆           ┆ , -0.0069 ┆           ┆ 1        │\n",
       "│ Goblin    ┆ -835f-143 ┆           ┆ Guest     ┆   ┆           ┆ 05, …     ┆           ┆          │\n",
       "│           ┆ c8d…      ┆           ┆           ┆   ┆           ┆ -0.026…   ┆           ┆          │\n",
       "│ \"Rumors   ┆ cb3587b9- ┆ {2}{B}    ┆ Enchantme ┆ … ┆ [\"UST\"]   ┆ [-0.00871 ┆ 0.421021  ┆ 2.189697 │\n",
       "│ of My     ┆ e727-4f37 ┆           ┆ nt        ┆   ┆           ┆ 9, -0.009 ┆           ┆          │\n",
       "│ Death . . ┆ -b4d6-1ba ┆           ┆           ┆   ┆           ┆ 454, …    ┆           ┆          │\n",
       "│ .\"        ┆ a73…      ┆           ┆           ┆   ┆           ┆ 0.001…    ┆           ┆          │\n",
       "│ …         ┆ …         ┆ …         ┆ …         ┆ … ┆ …         ┆ …         ┆ …         ┆ …        │\n",
       "│ Éomer,    ┆ f2c11695- ┆ {3}{R}{W} ┆ Legendary ┆ … ┆ [\"LTC\"]   ┆ [0.014415 ┆ -1.087738 ┆ -2.87182 │\n",
       "│ King of   ┆ f22b-44d5 ┆           ┆ Creature  ┆   ┆           ┆ ,         ┆           ┆ 6        │\n",
       "│ Rohan     ┆ -937c-257 ┆           ┆ — Human   ┆   ┆           ┆ 0.012861, ┆           ┆          │\n",
       "│           ┆ 8f2…      ┆           ┆ Nob…      ┆   ┆           ┆ …         ┆           ┆          │\n",
       "│           ┆           ┆           ┆           ┆   ┆           ┆ 0.01945…  ┆           ┆          │\n",
       "│ Éomer,    ┆ fba68512- ┆ {2}{R}{R} ┆ Legendary ┆ … ┆ [\"PLTR\",  ┆ [-0.02249 ┆ -1.120117 ┆ -2.85412 │\n",
       "│ Marshal   ┆ f536-4961 ┆           ┆ Creature  ┆   ┆ \"LTR\"]    ┆ 2,        ┆           ┆ 6        │\n",
       "│ of Rohan  ┆ -9e24-563 ┆           ┆ — Human   ┆   ┆           ┆ 0.017429, ┆           ┆          │\n",
       "│           ┆ 270…      ┆           ┆ Kni…      ┆   ┆           ┆ … 0.0468… ┆           ┆          │\n",
       "│ Éowyn,    ┆ c1b37891- ┆ {2}{R}{W} ┆ Legendary ┆ … ┆ [\"PLTR\",  ┆ [-0.03370 ┆ -0.91925  ┆ -3.44824 │\n",
       "│ Fearless  ┆ 5ed9-47e4 ┆           ┆ Creature  ┆   ┆ \"LTR\"]    ┆ 8,        ┆           ┆ 2        │\n",
       "│ Knight    ┆ -8d2f-c2b ┆           ┆ — Human   ┆   ┆           ┆ 0.007089, ┆           ┆          │\n",
       "│           ┆ fd8…      ┆           ┆ Kni…      ┆   ┆           ┆ … 0.0283… ┆           ┆          │\n",
       "│ Éowyn,    ┆ e59710c4- ┆ {2}{W}    ┆ Legendary ┆ … ┆ [\"LTR\"]   ┆ [-0.00143 ┆ -1.079437 ┆ -2.83898 │\n",
       "│ Lady of   ┆ 24de-419e ┆           ┆ Creature  ┆   ┆           ┆ 3,        ┆           ┆ 9        │\n",
       "│ Rohan     ┆ -a8a0-e83 ┆           ┆ — Human   ┆   ┆           ┆ 0.00514,  ┆           ┆          │\n",
       "│           ┆ 92d…      ┆           ┆ Nob…      ┆   ┆           ┆ …         ┆           ┆          │\n",
       "│           ┆           ┆           ┆           ┆   ┆           ┆ 0.04825…  ┆           ┆          │\n",
       "│ Éowyn,    ┆ dd4a00ff- ┆ {2}{U}{R} ┆ Legendary ┆ … ┆ [\"LTC\"]   ┆ [-0.00450 ┆ -1.009552 ┆ -3.38415 │\n",
       "│ Shieldmai ┆ 2206-4e12 ┆ {W}       ┆ Creature  ┆   ┆           ┆ 5,        ┆           ┆ 5        │\n",
       "│ den       ┆ -a0ab-61e ┆           ┆ — Human   ┆   ┆           ┆ 0.002423, ┆           ┆          │\n",
       "│           ┆ d82…      ┆           ┆ Kni…      ┆   ┆           ┆ … 0.0312… ┆           ┆          │\n",
       "└───────────┴───────────┴───────────┴───────────┴───┴───────────┴───────────┴───────────┴──────────┘"
      ]
     },
     "execution_count": 3,
     "metadata": {},
     "output_type": "execute_result"
    }
   ],
   "source": [
    "df = pl.read_parquet(\"/Users/maxwoolf/Downloads/mtg_embeddings_2d-3.parquet\")\n",
    "\n",
    "df"
   ]
  },
  {
   "cell_type": "code",
   "execution_count": 5,
   "metadata": {},
   "outputs": [
    {
     "data": {
      "text/plain": [
       "(32254, 768)"
      ]
     },
     "execution_count": 5,
     "metadata": {},
     "output_type": "execute_result"
    }
   ],
   "source": [
    "test_matrix = df[\"embedding\"].to_numpy()\n",
    "test_matrix.shape"
   ]
  },
  {
   "cell_type": "code",
   "execution_count": 6,
   "metadata": {},
   "outputs": [
    {
     "name": "stdout",
     "output_type": "stream",
     "text": [
      "94.49 MB\n"
     ]
    }
   ],
   "source": [
    "print(f\"{round(test_matrix.nbytes / 1024 / 1024, 2)} MB\")"
   ]
  },
  {
   "cell_type": "code",
   "execution_count": 7,
   "metadata": {},
   "outputs": [
    {
     "data": {
      "text/plain": [
       "array([0.6111637 , 0.20894407, 0.08792548, 0.05891224, 0.2375212 ,\n",
       "       0.74691695, 0.38194314, 0.13029811, 0.8787933 , 0.23617905],\n",
       "      dtype=float32)"
      ]
     },
     "execution_count": 7,
     "metadata": {},
     "output_type": "execute_result"
    }
   ],
   "source": [
    "query_embed = np.random.random(768).astype(np.float32)\n",
    "query_embed[0:10]"
   ]
  },
  {
   "cell_type": "markdown",
   "metadata": {},
   "source": [
    "## Test Algo (numpy)\n",
    "\n",
    "Algorithm must return both `idx` of highest `top_k=3` dot products and their `scores`.\n"
   ]
  },
  {
   "cell_type": "code",
   "execution_count": 8,
   "metadata": {},
   "outputs": [
    {
     "data": {
      "text/plain": [
       "array([ 0.34377939,  0.28835738,  0.0170083 , ..., -0.02606963,\n",
       "        0.3101765 ,  0.20291507], dtype=float32)"
      ]
     },
     "execution_count": 8,
     "metadata": {},
     "output_type": "execute_result"
    }
   ],
   "source": [
    "result = query_embed @ test_matrix.T\n",
    "result"
   ]
  },
  {
   "cell_type": "code",
   "execution_count": 9,
   "metadata": {},
   "outputs": [
    {
     "data": {
      "text/plain": [
       "array([ 8588, 21213,  4898])"
      ]
     },
     "execution_count": 9,
     "metadata": {},
     "output_type": "execute_result"
    }
   ],
   "source": [
    "k = 3\n",
    "\n",
    "idx = np.argpartition(result, -k)[-k:]\n",
    "idx = idx[np.argsort(result[idx])[::-1]]\n",
    "idx"
   ]
  },
  {
   "cell_type": "code",
   "execution_count": 10,
   "metadata": {},
   "outputs": [
    {
     "data": {
      "text/plain": [
       "array([0.76883644, 0.76664174, 0.7627919 ], dtype=float32)"
      ]
     },
     "execution_count": 10,
     "metadata": {},
     "output_type": "execute_result"
    }
   ],
   "source": [
    "score = result[idx]\n",
    "score"
   ]
  },
  {
   "cell_type": "markdown",
   "metadata": {},
   "source": [
    "## Benchmark\n"
   ]
  },
  {
   "cell_type": "code",
   "execution_count": 11,
   "metadata": {},
   "outputs": [],
   "source": [
    "def fast_dot_product(query, matrix):\n",
    "    dot_products = query @ matrix.T\n",
    "\n",
    "    idx = np.argpartition(dot_products, -k)[-k:]\n",
    "    idx = idx[np.argsort(dot_products[idx])[::-1]]\n",
    "\n",
    "    score = dot_products[idx]\n",
    "\n",
    "    return idx, score"
   ]
  },
  {
   "cell_type": "code",
   "execution_count": 12,
   "metadata": {},
   "outputs": [
    {
     "data": {
      "text/plain": [
       "(array([ 8588, 21213,  4898]),\n",
       " array([0.76883644, 0.76664174, 0.7627919 ], dtype=float32))"
      ]
     },
     "execution_count": 12,
     "metadata": {},
     "output_type": "execute_result"
    }
   ],
   "source": [
    "fast_dot_product(query_embed, test_matrix)"
   ]
  },
  {
   "cell_type": "code",
   "execution_count": null,
   "metadata": {},
   "outputs": [
    {
     "name": "stdout",
     "output_type": "stream",
     "text": [
      "1.08 ms ± 10.7 μs per loop (mean ± std. dev. of 7 runs, 1,000 loops each)\n"
     ]
    }
   ],
   "source": [
    "%%timeit\n",
    "\n",
    "_ = fast_dot_product(query_embed, test_matrix)"
   ]
  }
 ],
 "metadata": {
  "kernelspec": {
   "display_name": ".venv",
   "language": "python",
   "name": "python3"
  },
  "language_info": {
   "codemirror_mode": {
    "name": "ipython",
    "version": 3
   },
   "file_extension": ".py",
   "mimetype": "text/x-python",
   "name": "python",
   "nbconvert_exporter": "python",
   "pygments_lexer": "ipython3",
   "version": "3.13.1"
  }
 },
 "nbformat": 4,
 "nbformat_minor": 2
}
