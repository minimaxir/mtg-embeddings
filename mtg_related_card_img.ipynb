{
 "cells": [
  {
   "cell_type": "code",
   "execution_count": 1,
   "metadata": {},
   "outputs": [],
   "source": [
    "import polars as pl\n",
    "import numpy as np\n",
    "from PIL import Image\n",
    "import requests\n",
    "import time\n",
    "import io\n",
    "import hashlib"
   ]
  },
  {
   "cell_type": "code",
   "execution_count": 2,
   "metadata": {},
   "outputs": [],
   "source": [
    "df = pl.read_parquet(\"/Users/maxwoolf/Downloads/mtg_embeddings_2d-3.parquet\")"
   ]
  },
  {
   "cell_type": "code",
   "execution_count": 3,
   "metadata": {},
   "outputs": [
    {
     "data": {
      "text/html": [
       "<div><style>\n",
       ".dataframe > thead > tr,\n",
       ".dataframe > tbody > tr {\n",
       "  text-align: right;\n",
       "  white-space: pre-wrap;\n",
       "}\n",
       "</style>\n",
       "<small>shape: (1, 13)</small><table border=\"1\" class=\"dataframe\"><thead><tr><th>name</th><th>scryfallId</th><th>manaCost</th><th>type</th><th>text</th><th>power</th><th>toughness</th><th>loyalty</th><th>rarities</th><th>sets</th><th>embedding</th><th>x_2d</th><th>y_2d</th></tr><tr><td>str</td><td>str</td><td>str</td><td>str</td><td>str</td><td>str</td><td>str</td><td>str</td><td>list[enum]</td><td>list[enum]</td><td>array[f32, 768]</td><td>f32</td><td>f32</td></tr></thead><tbody><tr><td>&quot;Lightning Helix&quot;</td><td>&quot;4101e3fe-b0e7-4f0f-b9ac-9b61a4…</td><td>&quot;{R}{W}&quot;</td><td>&quot;Instant&quot;</td><td>&quot;~ deals 3 damage to any target…</td><td>null</td><td>null</td><td>null</td><td>[&quot;uncommon&quot;, &quot;rare&quot;]</td><td>[&quot;PRM&quot;, &quot;RAV&quot;, … &quot;MKM&quot;]</td><td>[0.00352, -0.043314, … 0.013035]</td><td>0.250061</td><td>3.91687</td></tr></tbody></table></div>"
      ],
      "text/plain": [
       "shape: (1, 13)\n",
       "┌─────────────┬────────────┬──────────┬─────────┬───┬────────────┬────────────┬──────────┬─────────┐\n",
       "│ name        ┆ scryfallId ┆ manaCost ┆ type    ┆ … ┆ sets       ┆ embedding  ┆ x_2d     ┆ y_2d    │\n",
       "│ ---         ┆ ---        ┆ ---      ┆ ---     ┆   ┆ ---        ┆ ---        ┆ ---      ┆ ---     │\n",
       "│ str         ┆ str        ┆ str      ┆ str     ┆   ┆ list[enum] ┆ array[f32, ┆ f32      ┆ f32     │\n",
       "│             ┆            ┆          ┆         ┆   ┆            ┆ 768]       ┆          ┆         │\n",
       "╞═════════════╪════════════╪══════════╪═════════╪═══╪════════════╪════════════╪══════════╪═════════╡\n",
       "│ Lightning   ┆ 4101e3fe-b ┆ {R}{W}   ┆ Instant ┆ … ┆ [\"PRM\",    ┆ [0.00352,  ┆ 0.250061 ┆ 3.91687 │\n",
       "│ Helix       ┆ 0e7-4f0f-b ┆          ┆         ┆   ┆ \"RAV\", …   ┆ -0.043314, ┆          ┆         │\n",
       "│             ┆ 9ac-9b61a4 ┆          ┆         ┆   ┆ \"MKM\"]     ┆ … 0.01303… ┆          ┆         │\n",
       "│             ┆ …          ┆          ┆         ┆   ┆            ┆            ┆          ┆         │\n",
       "└─────────────┴────────────┴──────────┴─────────┴───┴────────────┴────────────┴──────────┴─────────┘"
      ]
     },
     "execution_count": 3,
     "metadata": {},
     "output_type": "execute_result"
    }
   ],
   "source": [
    "test_card_name = \"Lightning Helix\"\n",
    "\n",
    "query_row = df.filter(pl.col(\"name\") == test_card_name)\n",
    "query_row"
   ]
  },
  {
   "cell_type": "markdown",
   "metadata": {},
   "source": [
    "## Test Image retrieval from Scryfall API\n",
    "\n",
    "- https://scryfall.com/docs/api\n",
    "- https://scryfall.com/docs/api/images\n"
   ]
  },
  {
   "cell_type": "markdown",
   "metadata": {},
   "source": [
    "## Test basic HTTP request for card info using ID\n"
   ]
  },
  {
   "cell_type": "code",
   "execution_count": 4,
   "metadata": {},
   "outputs": [
    {
     "data": {
      "text/plain": [
       "'4101e3fe-b0e7-4f0f-b9ac-9b61a4d628b3'"
      ]
     },
     "execution_count": 4,
     "metadata": {},
     "output_type": "execute_result"
    }
   ],
   "source": [
    "query_card_id = query_row[\"scryfallId\"].item()\n",
    "query_card_id"
   ]
  },
  {
   "cell_type": "code",
   "execution_count": 5,
   "metadata": {},
   "outputs": [
    {
     "data": {
      "text/plain": [
       "{'small': 'https://cards.scryfall.io/small/front/4/1/4101e3fe-b0e7-4f0f-b9ac-9b61a4d628b3.jpg?1706242208',\n",
       " 'normal': 'https://cards.scryfall.io/normal/front/4/1/4101e3fe-b0e7-4f0f-b9ac-9b61a4d628b3.jpg?1706242208',\n",
       " 'large': 'https://cards.scryfall.io/large/front/4/1/4101e3fe-b0e7-4f0f-b9ac-9b61a4d628b3.jpg?1706242208',\n",
       " 'png': 'https://cards.scryfall.io/png/front/4/1/4101e3fe-b0e7-4f0f-b9ac-9b61a4d628b3.png?1706242208',\n",
       " 'art_crop': 'https://cards.scryfall.io/art_crop/front/4/1/4101e3fe-b0e7-4f0f-b9ac-9b61a4d628b3.jpg?1706242208',\n",
       " 'border_crop': 'https://cards.scryfall.io/border_crop/front/4/1/4101e3fe-b0e7-4f0f-b9ac-9b61a4d628b3.jpg?1706242208'}"
      ]
     },
     "execution_count": 5,
     "metadata": {},
     "output_type": "execute_result"
    }
   ],
   "source": [
    "SCRYFALL_URI = \"https://api.scryfall.com\"\n",
    "\n",
    "headers = {\"User-Agent\": \"Related Card Image/1.0\", \"Accept\": \"*/*\"}\n",
    "card_uri = f\"{SCRYFALL_URI}/cards/{query_card_id}\"\n",
    "\n",
    "r = requests.get(card_uri, headers=headers)\n",
    "\n",
    "r.json()[\"image_uris\"]"
   ]
  },
  {
   "cell_type": "markdown",
   "metadata": {},
   "source": [
    "Test querying image directly.\n"
   ]
  },
  {
   "cell_type": "code",
   "execution_count": 6,
   "metadata": {},
   "outputs": [],
   "source": [
    "IMAGES_URI = \"https://cards.scryfall.io/\"\n",
    "\n",
    "\n",
    "def get_card_image(scryfallId, size=\"normal\"):\n",
    "    image_uri = (\n",
    "        f\"{IMAGES_URI}/{size}/front/{scryfallId[0]}/{scryfallId[1]}/{scryfallId}.jpg\"\n",
    "    )\n",
    "\n",
    "    # https://stackoverflow.com/a/29328036\n",
    "    img_data = requests.get(image_uri, headers=headers, stream=True).raw\n",
    "    image = Image.open(img_data)\n",
    "\n",
    "    time.sleep(0.2)\n",
    "\n",
    "    return image"
   ]
  },
  {
   "cell_type": "markdown",
   "metadata": {},
   "source": [
    "Convert to WEBP and reduce the quality a bit.\n"
   ]
  },
  {
   "cell_type": "code",
   "execution_count": 7,
   "metadata": {},
   "outputs": [],
   "source": [
    "def save_webp(img, quality=75):\n",
    "    if img.mode in (\"RGBA\", \"LA\") or (img.mode == \"P\" and \"transparency\" in img.info):\n",
    "        img = img.convert(\"RGB\")\n",
    "\n",
    "    # https://stackoverflow.com/questions/49689550/simple-hash-of-pil-image\n",
    "    file_name = hashlib.md5(img.tobytes()).hexdigest() + \".webp\"\n",
    "    img.save(f\"docs/{file_name}\", format=\"WEBP\", quality=quality)\n",
    "\n",
    "    print(file_name)"
   ]
  },
  {
   "cell_type": "code",
   "execution_count": 8,
   "metadata": {},
   "outputs": [
    {
     "name": "stdout",
     "output_type": "stream",
     "text": [
      "43f8c92be2f99e0a9f179f914ec583a9.webp\n"
     ]
    }
   ],
   "source": [
    "save_webp(get_card_image(query_card_id))"
   ]
  },
  {
   "cell_type": "markdown",
   "metadata": {},
   "source": [
    "![](docs/43f8c92be2f99e0a9f179f914ec583a9.webp)\n"
   ]
  },
  {
   "cell_type": "markdown",
   "metadata": {},
   "source": [
    "## Composite Images\n"
   ]
  },
  {
   "cell_type": "code",
   "execution_count": 11,
   "metadata": {},
   "outputs": [
    {
     "data": {
      "text/plain": [
       "(768,)"
      ]
     },
     "execution_count": 11,
     "metadata": {},
     "output_type": "execute_result"
    }
   ],
   "source": [
    "query_embed = query_row[\"embedding\"].to_numpy(allow_copy=False)[0]\n",
    "query_embed.shape"
   ]
  },
  {
   "cell_type": "code",
   "execution_count": 12,
   "metadata": {},
   "outputs": [
    {
     "data": {
      "text/plain": [
       "(32254, 768)"
      ]
     },
     "execution_count": 12,
     "metadata": {},
     "output_type": "execute_result"
    }
   ],
   "source": [
    "embeddings = df[\"embedding\"].to_numpy(allow_copy=False)\n",
    "embeddings.shape"
   ]
  },
  {
   "cell_type": "code",
   "execution_count": 13,
   "metadata": {},
   "outputs": [],
   "source": [
    "def fast_dot_product(query, matrix, k=3):\n",
    "    dot_products = query @ matrix.T\n",
    "\n",
    "    idx = np.argpartition(dot_products, -k)[-k:]\n",
    "    idx = idx[np.argsort(dot_products[idx])[::-1]]\n",
    "\n",
    "    score = dot_products[idx]\n",
    "\n",
    "    return idx, score"
   ]
  },
  {
   "cell_type": "code",
   "execution_count": 15,
   "metadata": {},
   "outputs": [
    {
     "data": {
      "text/html": [
       "<div><style>\n",
       ".dataframe > thead > tr,\n",
       ".dataframe > tbody > tr {\n",
       "  text-align: right;\n",
       "  white-space: pre-wrap;\n",
       "}\n",
       "</style>\n",
       "<small>shape: (4, 13)</small><table border=\"1\" class=\"dataframe\"><thead><tr><th>name</th><th>scryfallId</th><th>manaCost</th><th>type</th><th>text</th><th>power</th><th>toughness</th><th>loyalty</th><th>rarities</th><th>sets</th><th>embedding</th><th>x_2d</th><th>y_2d</th></tr><tr><td>str</td><td>str</td><td>str</td><td>str</td><td>str</td><td>str</td><td>str</td><td>str</td><td>list[enum]</td><td>list[enum]</td><td>array[f32, 768]</td><td>f32</td><td>f32</td></tr></thead><tbody><tr><td>&quot;Warleader&#x27;s Helix&quot;</td><td>&quot;989f8049-c4d2-4729-b35f-7bd7d8…</td><td>&quot;{2}{R}{W}&quot;</td><td>&quot;Instant&quot;</td><td>&quot;~ deals 4 damage to any target…</td><td>null</td><td>null</td><td>null</td><td>[&quot;uncommon&quot;, &quot;rare&quot;]</td><td>[&quot;PRM&quot;, &quot;DGM&quot;, … &quot;UMA&quot;]</td><td>[-0.0187, -0.041273, … 0.025631]</td><td>0.269287</td><td>3.854736</td></tr><tr><td>&quot;Lightning Bolt&quot;</td><td>&quot;77c6fa74-5543-42ac-9ead-0e890b…</td><td>&quot;{R}&quot;</td><td>&quot;Instant&quot;</td><td>&quot;~ deals 3 damage to any target…</td><td>null</td><td>null</td><td>null</td><td>[&quot;common&quot;, &quot;uncommon&quot;, … &quot;special&quot;]</td><td>[&quot;LEA&quot;, &quot;LEB&quot;, … &quot;CLU&quot;]</td><td>[0.006573, -0.00919, … 0.027299]</td><td>0.228607</td><td>3.952759</td></tr><tr><td>&quot;Lightning Blast&quot;</td><td>&quot;2ca1ead8-44d8-406f-af36-276f41…</td><td>&quot;{3}{R}&quot;</td><td>&quot;Instant&quot;</td><td>&quot;~ deals 4 damage to any target…</td><td>null</td><td>null</td><td>null</td><td>[&quot;common&quot;, &quot;uncommon&quot;]</td><td>[&quot;TMP&quot;, &quot;6ED&quot;, … &quot;TPR&quot;]</td><td>[0.006088, -0.00564, … 0.021717]</td><td>0.234894</td><td>3.94104</td></tr><tr><td>&quot;Lightning Strike&quot;</td><td>&quot;30077b49-b825-4dbb-a0c7-f3992f…</td><td>&quot;{1}{R}&quot;</td><td>&quot;Instant&quot;</td><td>&quot;~ deals 3 damage to any target…</td><td>null</td><td>null</td><td>null</td><td>[&quot;common&quot;, &quot;uncommon&quot;, &quot;rare&quot;]</td><td>[&quot;THS&quot;, &quot;M15&quot;, … &quot;DFT&quot;]</td><td>[0.029171, -0.009553, … 0.025874]</td><td>0.195282</td><td>3.916504</td></tr></tbody></table></div>"
      ],
      "text/plain": [
       "shape: (4, 13)\n",
       "┌────────────┬────────────┬───────────┬─────────┬───┬────────────┬───────────┬──────────┬──────────┐\n",
       "│ name       ┆ scryfallId ┆ manaCost  ┆ type    ┆ … ┆ sets       ┆ embedding ┆ x_2d     ┆ y_2d     │\n",
       "│ ---        ┆ ---        ┆ ---       ┆ ---     ┆   ┆ ---        ┆ ---       ┆ ---      ┆ ---      │\n",
       "│ str        ┆ str        ┆ str       ┆ str     ┆   ┆ list[enum] ┆ array[f32 ┆ f32      ┆ f32      │\n",
       "│            ┆            ┆           ┆         ┆   ┆            ┆ , 768]    ┆          ┆          │\n",
       "╞════════════╪════════════╪═══════════╪═════════╪═══╪════════════╪═══════════╪══════════╪══════════╡\n",
       "│ Warleader' ┆ 989f8049-c ┆ {2}{R}{W} ┆ Instant ┆ … ┆ [\"PRM\",    ┆ [-0.0187, ┆ 0.269287 ┆ 3.854736 │\n",
       "│ s Helix    ┆ 4d2-4729-b ┆           ┆         ┆   ┆ \"DGM\", …   ┆ -0.041273 ┆          ┆          │\n",
       "│            ┆ 35f-7bd7d8 ┆           ┆         ┆   ┆ \"UMA\"]     ┆ , …       ┆          ┆          │\n",
       "│            ┆ …          ┆           ┆         ┆   ┆            ┆ 0.02563…  ┆          ┆          │\n",
       "│ Lightning  ┆ 77c6fa74-5 ┆ {R}       ┆ Instant ┆ … ┆ [\"LEA\",    ┆ [0.006573 ┆ 0.228607 ┆ 3.952759 │\n",
       "│ Bolt       ┆ 543-42ac-9 ┆           ┆         ┆   ┆ \"LEB\", …   ┆ ,         ┆          ┆          │\n",
       "│            ┆ ead-0e890b ┆           ┆         ┆   ┆ \"CLU\"]     ┆ -0.00919, ┆          ┆          │\n",
       "│            ┆ …          ┆           ┆         ┆   ┆            ┆ …         ┆          ┆          │\n",
       "│            ┆            ┆           ┆         ┆   ┆            ┆ 0.02729…  ┆          ┆          │\n",
       "│ Lightning  ┆ 2ca1ead8-4 ┆ {3}{R}    ┆ Instant ┆ … ┆ [\"TMP\",    ┆ [0.006088 ┆ 0.234894 ┆ 3.94104  │\n",
       "│ Blast      ┆ 4d8-406f-a ┆           ┆         ┆   ┆ \"6ED\", …   ┆ ,         ┆          ┆          │\n",
       "│            ┆ f36-276f41 ┆           ┆         ┆   ┆ \"TPR\"]     ┆ -0.00564, ┆          ┆          │\n",
       "│            ┆ …          ┆           ┆         ┆   ┆            ┆ …         ┆          ┆          │\n",
       "│            ┆            ┆           ┆         ┆   ┆            ┆ 0.02171…  ┆          ┆          │\n",
       "│ Lightning  ┆ 30077b49-b ┆ {1}{R}    ┆ Instant ┆ … ┆ [\"THS\",    ┆ [0.029171 ┆ 0.195282 ┆ 3.916504 │\n",
       "│ Strike     ┆ 825-4dbb-a ┆           ┆         ┆   ┆ \"M15\", …   ┆ , -0.0095 ┆          ┆          │\n",
       "│            ┆ 0c7-f3992f ┆           ┆         ┆   ┆ \"DFT\"]     ┆ 53, …     ┆          ┆          │\n",
       "│            ┆ …          ┆           ┆         ┆   ┆            ┆ 0.0258…   ┆          ┆          │\n",
       "└────────────┴────────────┴───────────┴─────────┴───┴────────────┴───────────┴──────────┴──────────┘"
      ]
     },
     "execution_count": 15,
     "metadata": {},
     "output_type": "execute_result"
    }
   ],
   "source": [
    "idx, _ = fast_dot_product(query_embed, embeddings, k=5)\n",
    "df[idx][1:]"
   ]
  },
  {
   "cell_type": "code",
   "execution_count": 16,
   "metadata": {},
   "outputs": [],
   "source": [
    "# Generated w/ Claude 3.5 Sonnet w/ slight tweaks\n",
    "\n",
    "\n",
    "def create_composite(left_img, right_imgs, final_size=(488 * 2, 680)):\n",
    "    \"\"\"\n",
    "    Create a composite image with 5 images:\n",
    "    - Left half: one large image\n",
    "    - Right half: 4 equally sized images in quadrants\n",
    "\n",
    "    Args:\n",
    "        left_image_path (str): PIL Image for the left half\n",
    "        right_images_paths (list): List of 4 PIL Images for the right quadrant images\n",
    "        final_size (tuple): Final dimensions of the composite image (width, height)\n",
    "    \"\"\"\n",
    "\n",
    "    # Create a new blank image with white background\n",
    "    composite = Image.new(\"RGB\", final_size, \"white\")\n",
    "\n",
    "    # Calculate dimensions\n",
    "    half_width = final_size[0] // 2\n",
    "    half_height = final_size[1] // 2\n",
    "\n",
    "    try:\n",
    "        # Resize maintaining aspect ratio\n",
    "        left_img.thumbnail((half_width, final_size[1]))\n",
    "        # Paste left image\n",
    "        composite.paste(left_img, (0, 0))\n",
    "\n",
    "        # Process right quadrant images\n",
    "        quadrant_positions = [\n",
    "            (half_width, 0),  # top-left\n",
    "            (half_width + half_width // 2, 0),  # top-right\n",
    "            (half_width, half_height),  # bottom-left\n",
    "            (half_width + half_width // 2, half_height),  # bottom-right\n",
    "        ]\n",
    "\n",
    "        for img, position in zip(right_imgs, quadrant_positions):\n",
    "            # Resize maintaining aspect ratio\n",
    "            img.thumbnail((half_width // 2, half_height))\n",
    "            # Paste into position\n",
    "            composite.paste(img, position)\n",
    "\n",
    "        return composite\n",
    "\n",
    "    except Exception as e:\n",
    "        print(f\"Error creating composite: {str(e)}\")\n",
    "        raise"
   ]
  },
  {
   "cell_type": "code",
   "execution_count": 17,
   "metadata": {},
   "outputs": [],
   "source": [
    "def composite_related_cards(card_name):\n",
    "    query_card = df.filter(pl.col(\"name\") == card_name)\n",
    "    query_card_id = query_card[\"scryfallId\"].item()\n",
    "    query_embed = query_card[\"embedding\"].to_numpy(allow_copy=False)[0]\n",
    "\n",
    "    idx, _ = fast_dot_product(query_embed, embeddings, k=5)\n",
    "\n",
    "    related_card_ids = df[idx[1:]][\"scryfallId\"].to_list()\n",
    "\n",
    "    # get base card images\n",
    "    base_img = get_card_image(query_card_id, \"normal\")\n",
    "    related_imgs = [get_card_image(card_id, \"normal\") for card_id in related_card_ids]\n",
    "\n",
    "    composite = create_composite(base_img, related_imgs)\n",
    "    save_webp(composite)"
   ]
  },
  {
   "cell_type": "code",
   "execution_count": 17,
   "metadata": {},
   "outputs": [
    {
     "name": "stdout",
     "output_type": "stream",
     "text": [
      "e7021d465411922b3f37766abda88428.webp\n"
     ]
    }
   ],
   "source": [
    "composite_related_cards(test_card_name)"
   ]
  },
  {
   "cell_type": "markdown",
   "metadata": {},
   "source": [
    "![](docs/e7021d465411922b3f37766abda88428.webp)\n"
   ]
  },
  {
   "cell_type": "markdown",
   "metadata": {},
   "source": [
    "## Test More Cards\n"
   ]
  },
  {
   "cell_type": "code",
   "execution_count": 18,
   "metadata": {},
   "outputs": [
    {
     "name": "stdout",
     "output_type": "stream",
     "text": [
      "3ab329bcc6d768373c843562745906bc.webp\n"
     ]
    }
   ],
   "source": [
    "composite_related_cards(\"Wrath of God\")"
   ]
  },
  {
   "cell_type": "markdown",
   "metadata": {},
   "source": [
    "![](docs/3ab329bcc6d768373c843562745906bc.webp)\n"
   ]
  },
  {
   "cell_type": "code",
   "execution_count": 19,
   "metadata": {},
   "outputs": [
    {
     "name": "stdout",
     "output_type": "stream",
     "text": [
      "9fd88bd9005ec020989a012e73baee20.webp\n"
     ]
    }
   ],
   "source": [
    "composite_related_cards(\"Vizzerdrix\")"
   ]
  },
  {
   "cell_type": "markdown",
   "metadata": {},
   "source": [
    "![](docs/9fd88bd9005ec020989a012e73baee20.webp)\n"
   ]
  },
  {
   "cell_type": "code",
   "execution_count": 20,
   "metadata": {},
   "outputs": [
    {
     "name": "stdout",
     "output_type": "stream",
     "text": [
      "4e830617f8aa5252ea366b127c5bc163.webp\n"
     ]
    }
   ],
   "source": [
    "composite_related_cards(\"Llanowar Elves\")"
   ]
  },
  {
   "cell_type": "markdown",
   "metadata": {},
   "source": [
    "![](docs/4e830617f8aa5252ea366b127c5bc163.webp)\n"
   ]
  },
  {
   "cell_type": "markdown",
   "metadata": {},
   "source": [
    "## Special Case w/ Filter\n"
   ]
  },
  {
   "cell_type": "code",
   "execution_count": 19,
   "metadata": {},
   "outputs": [],
   "source": [
    "def composite_related_cards_filters(card_name):\n",
    "    query_card = df.filter(pl.col(\"name\") == card_name)\n",
    "    query_card_id = query_card[\"scryfallId\"].item()\n",
    "    query_embed = query_card[\"embedding\"].to_numpy(allow_copy=False)[0]\n",
    "\n",
    "    df_filter = df.filter(\n",
    "        pl.col(\"type\").str.contains(\"Sorcery\"),\n",
    "        pl.col(\"manaCost\").str.contains(\"B\"),\n",
    "    )\n",
    "\n",
    "    assert len(df_filter) > 0, \"No non-filtered cards.\"\n",
    "\n",
    "    embeddings_filter = df_filter[\"embedding\"].to_numpy(allow_copy=False)\n",
    "\n",
    "    idx, _ = fast_dot_product(query_embed, embeddings_filter, k=4)\n",
    "\n",
    "    related_card_ids = df_filter[idx][\"scryfallId\"].to_list()\n",
    "\n",
    "    # get base card images\n",
    "    base_img = get_card_image(query_card_id, \"normal\")\n",
    "    related_imgs = [get_card_image(card_id, \"normal\") for card_id in related_card_ids]\n",
    "\n",
    "    composite = create_composite(base_img, related_imgs)\n",
    "    save_webp(composite)"
   ]
  },
  {
   "cell_type": "code",
   "execution_count": 20,
   "metadata": {},
   "outputs": [
    {
     "name": "stdout",
     "output_type": "stream",
     "text": [
      "44840f9e2eac546cf67e70a82fc0b952.webp\n"
     ]
    }
   ],
   "source": [
    "composite_related_cards_filters(\"Lightning Helix\")"
   ]
  },
  {
   "cell_type": "markdown",
   "metadata": {},
   "source": [
    "![](docs/44840f9e2eac546cf67e70a82fc0b952.webp)\n"
   ]
  },
  {
   "cell_type": "code",
   "execution_count": null,
   "metadata": {},
   "outputs": [],
   "source": []
  }
 ],
 "metadata": {
  "kernelspec": {
   "display_name": ".venv",
   "language": "python",
   "name": "python3"
  },
  "language_info": {
   "codemirror_mode": {
    "name": "ipython",
    "version": 3
   },
   "file_extension": ".py",
   "mimetype": "text/x-python",
   "name": "python",
   "nbconvert_exporter": "python",
   "pygments_lexer": "ipython3",
   "version": "3.13.1"
  }
 },
 "nbformat": 4,
 "nbformat_minor": 2
}
