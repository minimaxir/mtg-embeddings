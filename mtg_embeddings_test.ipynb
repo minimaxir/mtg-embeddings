{
 "cells": [
  {
   "cell_type": "code",
   "execution_count": 1,
   "metadata": {},
   "outputs": [],
   "source": [
    "import polars as pl\n",
    "import numpy as np"
   ]
  },
  {
   "cell_type": "code",
   "execution_count": 2,
   "metadata": {},
   "outputs": [
    {
     "data": {
      "text/html": [
       "<div><style>\n",
       ".dataframe > thead > tr,\n",
       ".dataframe > tbody > tr {\n",
       "  text-align: right;\n",
       "  white-space: pre-wrap;\n",
       "}\n",
       "</style>\n",
       "<small>shape: (32_254, 13)</small><table border=\"1\" class=\"dataframe\"><thead><tr><th>name</th><th>scryfallId</th><th>manaCost</th><th>type</th><th>text</th><th>power</th><th>toughness</th><th>loyalty</th><th>rarities</th><th>sets</th><th>embedding</th><th>x_2d</th><th>y_2d</th></tr><tr><td>str</td><td>str</td><td>str</td><td>str</td><td>str</td><td>str</td><td>str</td><td>str</td><td>list[enum]</td><td>list[enum]</td><td>array[f32, 768]</td><td>f32</td><td>f32</td></tr></thead><tbody><tr><td>&quot;&quot;Ach! Hans, Run!&quot;&quot;</td><td>&quot;84f2c8f5-8e11-4639-b7de-00e4a2…</td><td>&quot;{2}{R}{R}{G}{G}&quot;</td><td>&quot;Enchantment&quot;</td><td>&quot;At the beginning of your upkee…</td><td>null</td><td>null</td><td>null</td><td>[&quot;rare&quot;]</td><td>[&quot;UNH&quot;]</td><td>[0.021458, -0.036102, … -0.00607]</td><td>1.447037</td><td>-1.643727</td></tr><tr><td>&quot;&quot;Brims&quot; Barone, Midway Mobster&quot;</td><td>&quot;68832214-2943-4253-8884-ffa490…</td><td>&quot;{3}{W}{B}&quot;</td><td>&quot;Legendary Creature — Human Rog…</td><td>&quot;When ~ enters, put a +1/+1 cou…</td><td>&quot;5&quot;</td><td>&quot;4&quot;</td><td>null</td><td>[&quot;uncommon&quot;]</td><td>[&quot;UNF&quot;]</td><td>[0.000261, 0.025207, … 0.005641]</td><td>-0.803928</td><td>0.592486</td></tr><tr><td>&quot;&quot;Lifetime&quot; Pass Holder&quot;</td><td>&quot;42293306-aaea-4542-8df4-813823…</td><td>&quot;{B}&quot;</td><td>&quot;Creature — Zombie Guest&quot;</td><td>&quot;This creature enters tapped.\\n…</td><td>&quot;2&quot;</td><td>&quot;1&quot;</td><td>null</td><td>[&quot;rare&quot;]</td><td>[&quot;UNF&quot;]</td><td>[-0.004467, -0.016707, … 0.001401]</td><td>-0.243164</td><td>1.373221</td></tr><tr><td>&quot;&quot;Name Sticker&quot; Goblin&quot;</td><td>&quot;fd1442b4-da59-4042-835f-143c8d…</td><td>&quot;{2}{R}&quot;</td><td>&quot;Creature — Goblin Guest&quot;</td><td>&quot;When this creature enters from…</td><td>&quot;2&quot;</td><td>&quot;2&quot;</td><td>null</td><td>[&quot;common&quot;]</td><td>[&quot;UNF&quot;]</td><td>[-0.03243, -0.006905, … -0.026888]</td><td>-4.087791</td><td>1.768615</td></tr><tr><td>&quot;&quot;Rumors of My Death . . .&quot;&quot;</td><td>&quot;cb3587b9-e727-4f37-b4d6-1baa73…</td><td>&quot;{2}{B}&quot;</td><td>&quot;Enchantment&quot;</td><td>&quot;{3}{B}, Exile a permanent you …</td><td>null</td><td>null</td><td>null</td><td>[&quot;uncommon&quot;]</td><td>[&quot;UST&quot;]</td><td>[-0.008719, -0.009454, … 0.001481]</td><td>1.785812</td><td>-0.954907</td></tr><tr><td>&hellip;</td><td>&hellip;</td><td>&hellip;</td><td>&hellip;</td><td>&hellip;</td><td>&hellip;</td><td>&hellip;</td><td>&hellip;</td><td>&hellip;</td><td>&hellip;</td><td>&hellip;</td><td>&hellip;</td><td>&hellip;</td></tr><tr><td>&quot;Éomer, King of Rohan&quot;</td><td>&quot;f2c11695-f22b-44d5-937c-2578f2…</td><td>&quot;{3}{R}{W}&quot;</td><td>&quot;Legendary Creature — Human Nob…</td><td>&quot;Double strike\\n~ enters with a…</td><td>&quot;2&quot;</td><td>&quot;2&quot;</td><td>null</td><td>[&quot;rare&quot;]</td><td>[&quot;LTC&quot;]</td><td>[0.014415, 0.012861, … 0.019452]</td><td>-2.882111</td><td>-0.236066</td></tr><tr><td>&quot;Éomer, Marshal of Rohan&quot;</td><td>&quot;fba68512-f536-4961-9e24-563270…</td><td>&quot;{2}{R}{R}&quot;</td><td>&quot;Legendary Creature — Human Kni…</td><td>&quot;Haste\\nWhenever one or more ot…</td><td>&quot;4&quot;</td><td>&quot;4&quot;</td><td>null</td><td>[&quot;rare&quot;]</td><td>[&quot;PLTR&quot;, &quot;LTR&quot;]</td><td>[-0.022492, 0.017429, … 0.046833]</td><td>-2.916092</td><td>-0.185834</td></tr><tr><td>&quot;Éowyn, Fearless Knight&quot;</td><td>&quot;c1b37891-5ed9-47e4-8d2f-c2bfd8…</td><td>&quot;{2}{R}{W}&quot;</td><td>&quot;Legendary Creature — Human Kni…</td><td>&quot;Haste\\nWhen ~ enters, exile ta…</td><td>&quot;3&quot;</td><td>&quot;4&quot;</td><td>null</td><td>[&quot;rare&quot;]</td><td>[&quot;PLTR&quot;, &quot;LTR&quot;]</td><td>[-0.033708, 0.007089, … 0.02833]</td><td>-3.251595</td><td>-0.707707</td></tr><tr><td>&quot;Éowyn, Lady of Rohan&quot;</td><td>&quot;e59710c4-24de-419e-a8a0-e8392d…</td><td>&quot;{2}{W}&quot;</td><td>&quot;Legendary Creature — Human Nob…</td><td>&quot;At the beginning of combat on …</td><td>&quot;2&quot;</td><td>&quot;4&quot;</td><td>null</td><td>[&quot;uncommon&quot;]</td><td>[&quot;LTR&quot;]</td><td>[-0.001433, 0.00514, … 0.048259]</td><td>-2.891537</td><td>-0.215299</td></tr><tr><td>&quot;Éowyn, Shieldmaiden&quot;</td><td>&quot;dd4a00ff-2206-4e12-a0ab-61ed82…</td><td>&quot;{2}{U}{R}{W}&quot;</td><td>&quot;Legendary Creature — Human Kni…</td><td>&quot;First strike\\nAt the beginning…</td><td>&quot;5&quot;</td><td>&quot;4&quot;</td><td>null</td><td>[&quot;mythic&quot;]</td><td>[&quot;LTC&quot;]</td><td>[-0.004505, 0.002423, … 0.031238]</td><td>-3.292824</td><td>-0.566556</td></tr></tbody></table></div>"
      ],
      "text/plain": [
       "shape: (32_254, 13)\n",
       "┌───────────┬───────────┬───────────┬───────────┬───┬───────────┬───────────┬───────────┬──────────┐\n",
       "│ name      ┆ scryfallI ┆ manaCost  ┆ type      ┆ … ┆ sets      ┆ embedding ┆ x_2d      ┆ y_2d     │\n",
       "│ ---       ┆ d         ┆ ---       ┆ ---       ┆   ┆ ---       ┆ ---       ┆ ---       ┆ ---      │\n",
       "│ str       ┆ ---       ┆ str       ┆ str       ┆   ┆ list[enum ┆ array[f32 ┆ f32       ┆ f32      │\n",
       "│           ┆ str       ┆           ┆           ┆   ┆ ]         ┆ , 768]    ┆           ┆          │\n",
       "╞═══════════╪═══════════╪═══════════╪═══════════╪═══╪═══════════╪═══════════╪═══════════╪══════════╡\n",
       "│ \"Ach!     ┆ 84f2c8f5- ┆ {2}{R}{R} ┆ Enchantme ┆ … ┆ [\"UNH\"]   ┆ [0.021458 ┆ 1.447037  ┆ -1.64372 │\n",
       "│ Hans,     ┆ 8e11-4639 ┆ {G}{G}    ┆ nt        ┆   ┆           ┆ , -0.0361 ┆           ┆ 7        │\n",
       "│ Run!\"     ┆ -b7de-00e ┆           ┆           ┆   ┆           ┆ 02, …     ┆           ┆          │\n",
       "│           ┆ 4a2…      ┆           ┆           ┆   ┆           ┆ -0.006…   ┆           ┆          │\n",
       "│ \"Brims\"   ┆ 68832214- ┆ {3}{W}{B} ┆ Legendary ┆ … ┆ [\"UNF\"]   ┆ [0.000261 ┆ -0.803928 ┆ 0.592486 │\n",
       "│ Barone,   ┆ 2943-4253 ┆           ┆ Creature  ┆   ┆           ┆ ,         ┆           ┆          │\n",
       "│ Midway    ┆ -8884-ffa ┆           ┆ — Human   ┆   ┆           ┆ 0.025207, ┆           ┆          │\n",
       "│ Mobster   ┆ 490…      ┆           ┆ Rog…      ┆   ┆           ┆ …         ┆           ┆          │\n",
       "│           ┆           ┆           ┆           ┆   ┆           ┆ 0.00564…  ┆           ┆          │\n",
       "│ \"Lifetime ┆ 42293306- ┆ {B}       ┆ Creature  ┆ … ┆ [\"UNF\"]   ┆ [-0.00446 ┆ -0.243164 ┆ 1.373221 │\n",
       "│ \" Pass    ┆ aaea-4542 ┆           ┆ — Zombie  ┆   ┆           ┆ 7, -0.016 ┆           ┆          │\n",
       "│ Holder    ┆ -8df4-813 ┆           ┆ Guest     ┆   ┆           ┆ 707, …    ┆           ┆          │\n",
       "│           ┆ 823…      ┆           ┆           ┆   ┆           ┆ 0.001…    ┆           ┆          │\n",
       "│ \"Name     ┆ fd1442b4- ┆ {2}{R}    ┆ Creature  ┆ … ┆ [\"UNF\"]   ┆ [-0.03243 ┆ -4.087791 ┆ 1.768615 │\n",
       "│ Sticker\"  ┆ da59-4042 ┆           ┆ — Goblin  ┆   ┆           ┆ , -0.0069 ┆           ┆          │\n",
       "│ Goblin    ┆ -835f-143 ┆           ┆ Guest     ┆   ┆           ┆ 05, …     ┆           ┆          │\n",
       "│           ┆ c8d…      ┆           ┆           ┆   ┆           ┆ -0.026…   ┆           ┆          │\n",
       "│ \"Rumors   ┆ cb3587b9- ┆ {2}{B}    ┆ Enchantme ┆ … ┆ [\"UST\"]   ┆ [-0.00871 ┆ 1.785812  ┆ -0.95490 │\n",
       "│ of My     ┆ e727-4f37 ┆           ┆ nt        ┆   ┆           ┆ 9, -0.009 ┆           ┆ 7        │\n",
       "│ Death . . ┆ -b4d6-1ba ┆           ┆           ┆   ┆           ┆ 454, …    ┆           ┆          │\n",
       "│ .\"        ┆ a73…      ┆           ┆           ┆   ┆           ┆ 0.001…    ┆           ┆          │\n",
       "│ …         ┆ …         ┆ …         ┆ …         ┆ … ┆ …         ┆ …         ┆ …         ┆ …        │\n",
       "│ Éomer,    ┆ f2c11695- ┆ {3}{R}{W} ┆ Legendary ┆ … ┆ [\"LTC\"]   ┆ [0.014415 ┆ -2.882111 ┆ -0.23606 │\n",
       "│ King of   ┆ f22b-44d5 ┆           ┆ Creature  ┆   ┆           ┆ ,         ┆           ┆ 6        │\n",
       "│ Rohan     ┆ -937c-257 ┆           ┆ — Human   ┆   ┆           ┆ 0.012861, ┆           ┆          │\n",
       "│           ┆ 8f2…      ┆           ┆ Nob…      ┆   ┆           ┆ …         ┆           ┆          │\n",
       "│           ┆           ┆           ┆           ┆   ┆           ┆ 0.01945…  ┆           ┆          │\n",
       "│ Éomer,    ┆ fba68512- ┆ {2}{R}{R} ┆ Legendary ┆ … ┆ [\"PLTR\",  ┆ [-0.02249 ┆ -2.916092 ┆ -0.18583 │\n",
       "│ Marshal   ┆ f536-4961 ┆           ┆ Creature  ┆   ┆ \"LTR\"]    ┆ 2,        ┆           ┆ 4        │\n",
       "│ of Rohan  ┆ -9e24-563 ┆           ┆ — Human   ┆   ┆           ┆ 0.017429, ┆           ┆          │\n",
       "│           ┆ 270…      ┆           ┆ Kni…      ┆   ┆           ┆ … 0.0468… ┆           ┆          │\n",
       "│ Éowyn,    ┆ c1b37891- ┆ {2}{R}{W} ┆ Legendary ┆ … ┆ [\"PLTR\",  ┆ [-0.03370 ┆ -3.251595 ┆ -0.70770 │\n",
       "│ Fearless  ┆ 5ed9-47e4 ┆           ┆ Creature  ┆   ┆ \"LTR\"]    ┆ 8,        ┆           ┆ 7        │\n",
       "│ Knight    ┆ -8d2f-c2b ┆           ┆ — Human   ┆   ┆           ┆ 0.007089, ┆           ┆          │\n",
       "│           ┆ fd8…      ┆           ┆ Kni…      ┆   ┆           ┆ … 0.0283… ┆           ┆          │\n",
       "│ Éowyn,    ┆ e59710c4- ┆ {2}{W}    ┆ Legendary ┆ … ┆ [\"LTR\"]   ┆ [-0.00143 ┆ -2.891537 ┆ -0.21529 │\n",
       "│ Lady of   ┆ 24de-419e ┆           ┆ Creature  ┆   ┆           ┆ 3,        ┆           ┆ 9        │\n",
       "│ Rohan     ┆ -a8a0-e83 ┆           ┆ — Human   ┆   ┆           ┆ 0.00514,  ┆           ┆          │\n",
       "│           ┆ 92d…      ┆           ┆ Nob…      ┆   ┆           ┆ …         ┆           ┆          │\n",
       "│           ┆           ┆           ┆           ┆   ┆           ┆ 0.04825…  ┆           ┆          │\n",
       "│ Éowyn,    ┆ dd4a00ff- ┆ {2}{U}{R} ┆ Legendary ┆ … ┆ [\"LTC\"]   ┆ [-0.00450 ┆ -3.292824 ┆ -0.56655 │\n",
       "│ Shieldmai ┆ 2206-4e12 ┆ {W}       ┆ Creature  ┆   ┆           ┆ 5,        ┆           ┆ 6        │\n",
       "│ den       ┆ -a0ab-61e ┆           ┆ — Human   ┆   ┆           ┆ 0.002423, ┆           ┆          │\n",
       "│           ┆ d82…      ┆           ┆ Kni…      ┆   ┆           ┆ … 0.0312… ┆           ┆          │\n",
       "└───────────┴───────────┴───────────┴───────────┴───┴───────────┴───────────┴───────────┴──────────┘"
      ]
     },
     "execution_count": 2,
     "metadata": {},
     "output_type": "execute_result"
    }
   ],
   "source": [
    "df = pl.read_parquet(\"/Users/maxwoolf/Downloads/mtg_embeddings_2d-2.parquet\")\n",
    "\n",
    "df"
   ]
  },
  {
   "cell_type": "code",
   "execution_count": 3,
   "metadata": {},
   "outputs": [
    {
     "data": {
      "text/html": [
       "<div><style>\n",
       ".dataframe > thead > tr,\n",
       ".dataframe > tbody > tr {\n",
       "  text-align: right;\n",
       "  white-space: pre-wrap;\n",
       "}\n",
       "</style>\n",
       "<small>shape: (1, 13)</small><table border=\"1\" class=\"dataframe\"><thead><tr><th>name</th><th>scryfallId</th><th>manaCost</th><th>type</th><th>text</th><th>power</th><th>toughness</th><th>loyalty</th><th>rarities</th><th>sets</th><th>embedding</th><th>x_2d</th><th>y_2d</th></tr><tr><td>str</td><td>str</td><td>str</td><td>str</td><td>str</td><td>str</td><td>str</td><td>str</td><td>list[enum]</td><td>list[enum]</td><td>array[f32, 768]</td><td>f32</td><td>f32</td></tr></thead><tbody><tr><td>&quot;Jace, the Mind Sculptor&quot;</td><td>&quot;97c67e86-5aa5-4136-a15c-c0c570…</td><td>&quot;{2}{U}{U}&quot;</td><td>&quot;Legendary Planeswalker — Jace&quot;</td><td>&quot;[+2]: Look at the top card of …</td><td>null</td><td>null</td><td>&quot;3&quot;</td><td>[&quot;mythic&quot;]</td><td>[&quot;PRM&quot;, &quot;WWK&quot;, … &quot;BLC&quot;]</td><td>[0.015553, -0.019022, … -0.009828]</td><td>0.185112</td><td>-1.800546</td></tr></tbody></table></div>"
      ],
      "text/plain": [
       "shape: (1, 13)\n",
       "┌───────────┬───────────┬───────────┬───────────┬───┬───────────┬───────────┬──────────┬───────────┐\n",
       "│ name      ┆ scryfallI ┆ manaCost  ┆ type      ┆ … ┆ sets      ┆ embedding ┆ x_2d     ┆ y_2d      │\n",
       "│ ---       ┆ d         ┆ ---       ┆ ---       ┆   ┆ ---       ┆ ---       ┆ ---      ┆ ---       │\n",
       "│ str       ┆ ---       ┆ str       ┆ str       ┆   ┆ list[enum ┆ array[f32 ┆ f32      ┆ f32       │\n",
       "│           ┆ str       ┆           ┆           ┆   ┆ ]         ┆ , 768]    ┆          ┆           │\n",
       "╞═══════════╪═══════════╪═══════════╪═══════════╪═══╪═══════════╪═══════════╪══════════╪═══════════╡\n",
       "│ Jace, the ┆ 97c67e86- ┆ {2}{U}{U} ┆ Legendary ┆ … ┆ [\"PRM\",   ┆ [0.015553 ┆ 0.185112 ┆ -1.800546 │\n",
       "│ Mind      ┆ 5aa5-4136 ┆           ┆ Planeswal ┆   ┆ \"WWK\", …  ┆ , -0.0190 ┆          ┆           │\n",
       "│ Sculptor  ┆ -a15c-c0c ┆           ┆ ker —     ┆   ┆ \"BLC\"]    ┆ 22, …     ┆          ┆           │\n",
       "│           ┆ 570…      ┆           ┆ Jace      ┆   ┆           ┆ -0.009…   ┆          ┆           │\n",
       "└───────────┴───────────┴───────────┴───────────┴───┴───────────┴───────────┴──────────┴───────────┘"
      ]
     },
     "execution_count": 3,
     "metadata": {},
     "output_type": "execute_result"
    }
   ],
   "source": [
    "query_row = df.filter(pl.col(\"name\") == \"Jace, the Mind Sculptor\")\n",
    "query_row"
   ]
  },
  {
   "cell_type": "code",
   "execution_count": 4,
   "metadata": {},
   "outputs": [
    {
     "data": {
      "text/plain": [
       "(768,)"
      ]
     },
     "execution_count": 4,
     "metadata": {},
     "output_type": "execute_result"
    }
   ],
   "source": [
    "query_embed = query_row[\"embedding\"].to_numpy(allow_copy=False)[0]\n",
    "query_embed.shape"
   ]
  },
  {
   "cell_type": "code",
   "execution_count": 5,
   "metadata": {},
   "outputs": [
    {
     "data": {
      "text/plain": [
       "(32254, 768)"
      ]
     },
     "execution_count": 5,
     "metadata": {},
     "output_type": "execute_result"
    }
   ],
   "source": [
    "embeddings = df[\"embedding\"].to_numpy(allow_copy=False)\n",
    "embeddings.shape"
   ]
  },
  {
   "cell_type": "code",
   "execution_count": 6,
   "metadata": {},
   "outputs": [],
   "source": [
    "def fast_dot_product(query, matrix, k=3):\n",
    "    dot_products = query @ matrix.T\n",
    "\n",
    "    idx = np.argpartition(dot_products, -k)[-k:]\n",
    "    idx = idx[np.argsort(dot_products[idx])[::-1]]\n",
    "\n",
    "    score = dot_products[idx]\n",
    "\n",
    "    return idx, score"
   ]
  },
  {
   "cell_type": "code",
   "execution_count": 7,
   "metadata": {},
   "outputs": [
    {
     "name": "stdout",
     "output_type": "stream",
     "text": [
      "[1.0000001  0.954182   0.93538755 0.93297064 0.9278735  0.9225441\n",
      " 0.9207313  0.9205239  0.9193715  0.9166001 ]\n"
     ]
    },
    {
     "data": {
      "text/html": [
       "<div><style>\n",
       ".dataframe > thead > tr,\n",
       ".dataframe > tbody > tr {\n",
       "  text-align: right;\n",
       "  white-space: pre-wrap;\n",
       "}\n",
       "</style>\n",
       "<small>shape: (10, 13)</small><table border=\"1\" class=\"dataframe\"><thead><tr><th>name</th><th>scryfallId</th><th>manaCost</th><th>type</th><th>text</th><th>power</th><th>toughness</th><th>loyalty</th><th>rarities</th><th>sets</th><th>embedding</th><th>x_2d</th><th>y_2d</th></tr><tr><td>str</td><td>str</td><td>str</td><td>str</td><td>str</td><td>str</td><td>str</td><td>str</td><td>list[enum]</td><td>list[enum]</td><td>array[f32, 768]</td><td>f32</td><td>f32</td></tr></thead><tbody><tr><td>&quot;Jace, the Mind Sculptor&quot;</td><td>&quot;97c67e86-5aa5-4136-a15c-c0c570…</td><td>&quot;{2}{U}{U}&quot;</td><td>&quot;Legendary Planeswalker — Jace&quot;</td><td>&quot;[+2]: Look at the top card of …</td><td>null</td><td>null</td><td>&quot;3&quot;</td><td>[&quot;mythic&quot;]</td><td>[&quot;PRM&quot;, &quot;WWK&quot;, … &quot;BLC&quot;]</td><td>[0.015553, -0.019022, … -0.009828]</td><td>0.185112</td><td>-1.800546</td></tr><tr><td>&quot;Jace, Architect of Thought&quot;</td><td>&quot;74aa75d1-47bd-4298-a943-1c96e4…</td><td>&quot;{2}{U}{U}&quot;</td><td>&quot;Legendary Planeswalker — Jace&quot;</td><td>&quot;[+1]: Until your next turn, wh…</td><td>null</td><td>null</td><td>&quot;4&quot;</td><td>[&quot;mythic&quot;]</td><td>[&quot;RTR&quot;, &quot;DDM&quot;, … &quot;PIO&quot;]</td><td>[0.006341, 0.002391, … 0.00736]</td><td>0.229324</td><td>-1.757585</td></tr><tr><td>&quot;Jace, Ingenious Mind-Mage&quot;</td><td>&quot;e3b274f6-833f-430f-ac1a-d1d1d5…</td><td>&quot;{4}{U}{U}&quot;</td><td>&quot;Legendary Planeswalker — Jace&quot;</td><td>&quot;[+1]: Draw a card.\\n[+1]: Unta…</td><td>null</td><td>null</td><td>&quot;5&quot;</td><td>[&quot;mythic&quot;]</td><td>[&quot;XLN&quot;]</td><td>[0.007439, -0.019168, … 0.025935]</td><td>0.167038</td><td>-1.713124</td></tr><tr><td>&quot;Jace, the Living Guildpact&quot;</td><td>&quot;99713bb4-186f-42b6-aa66-e94ec8…</td><td>&quot;{2}{U}{U}&quot;</td><td>&quot;Legendary Planeswalker — Jace&quot;</td><td>&quot;[+1]: Look at the top two card…</td><td>null</td><td>null</td><td>&quot;5&quot;</td><td>[&quot;mythic&quot;]</td><td>[&quot;PS14&quot;, &quot;M15&quot;]</td><td>[0.000204, -0.006622, … 0.000948]</td><td>0.231834</td><td>-1.737897</td></tr><tr><td>&quot;Jace, Memory Adept&quot;</td><td>&quot;66e2813e-c674-49de-8777-788251…</td><td>&quot;{3}{U}{U}&quot;</td><td>&quot;Legendary Planeswalker — Jace&quot;</td><td>&quot;[+1]: Draw a card. Target play…</td><td>null</td><td>null</td><td>&quot;4&quot;</td><td>[&quot;mythic&quot;]</td><td>[&quot;PMEI&quot;, &quot;M12&quot;, … &quot;PIO&quot;]</td><td>[-0.015436, -0.032921, … 0.007195]</td><td>0.217503</td><td>-1.767369</td></tr><tr><td>&quot;Jace, the Perfected Mind&quot;</td><td>&quot;cf9f5a2e-1f1e-4ecf-8d5c-dbd952…</td><td>&quot;{2}{U}{U/P}&quot;</td><td>&quot;Legendary Planeswalker — Jace&quot;</td><td>&quot;Compleated ({U/P} can be paid …</td><td>null</td><td>null</td><td>&quot;5&quot;</td><td>[&quot;mythic&quot;]</td><td>[&quot;PONE&quot;, &quot;ONE&quot;]</td><td>[0.006776, -0.000606, … 0.007729]</td><td>0.21143</td><td>-1.731053</td></tr><tr><td>&quot;Jace, Wielder of Mysteries&quot;</td><td>&quot;6dece604-04f2-48ac-8e6c-ef850c…</td><td>&quot;{1}{U}{U}{U}&quot;</td><td>&quot;Legendary Planeswalker — Jace&quot;</td><td>&quot;If you would draw a card while…</td><td>null</td><td>null</td><td>&quot;4&quot;</td><td>[&quot;rare&quot;]</td><td>[&quot;PRM&quot;, &quot;PWAR&quot;, … &quot;PLST&quot;]</td><td>[-0.008284, -0.025282, … -0.004046]</td><td>0.234787</td><td>-1.798825</td></tr><tr><td>&quot;Jace, Arcane Strategist&quot;</td><td>&quot;5b870094-08bf-41fc-b9d6-e435e0…</td><td>&quot;{4}{U}{U}&quot;</td><td>&quot;Legendary Planeswalker — Jace&quot;</td><td>&quot;Whenever you draw your second …</td><td>null</td><td>null</td><td>&quot;4&quot;</td><td>[&quot;mythic&quot;]</td><td>[&quot;WAR&quot;, &quot;J22&quot;]</td><td>[0.00509, -0.018775, … 0.027693]</td><td>0.187725</td><td>-1.759213</td></tr><tr><td>&quot;Jace, Mirror Mage&quot;</td><td>&quot;86d34cbf-e424-461a-adf3-003d55…</td><td>&quot;{1}{U}{U}&quot;</td><td>&quot;Legendary Planeswalker — Jace&quot;</td><td>&quot;Kicker {2}\\nWhen ~ enters, if …</td><td>null</td><td>null</td><td>&quot;4&quot;</td><td>[&quot;mythic&quot;]</td><td>[&quot;PRM&quot;, &quot;PZNR&quot;, … &quot;CMM&quot;]</td><td>[-0.009835, 0.004344, … 0.00509]</td><td>0.19239</td><td>-1.793805</td></tr><tr><td>&quot;Jace, Unraveler of Secrets&quot;</td><td>&quot;3d9c8217-013d-4e75-bdd1-9c46c8…</td><td>&quot;{3}{U}{U}&quot;</td><td>&quot;Legendary Planeswalker — Jace&quot;</td><td>&quot;[+1]: Scry 1, then draw a card…</td><td>null</td><td>null</td><td>&quot;5&quot;</td><td>[&quot;mythic&quot;]</td><td>[&quot;PSOI&quot;, &quot;SOI&quot;, … &quot;INR&quot;]</td><td>[-0.003289, -0.026326, … 0.019018]</td><td>0.22567</td><td>-1.740872</td></tr></tbody></table></div>"
      ],
      "text/plain": [
       "shape: (10, 13)\n",
       "┌───────────┬───────────┬───────────┬───────────┬───┬───────────┬───────────┬──────────┬───────────┐\n",
       "│ name      ┆ scryfallI ┆ manaCost  ┆ type      ┆ … ┆ sets      ┆ embedding ┆ x_2d     ┆ y_2d      │\n",
       "│ ---       ┆ d         ┆ ---       ┆ ---       ┆   ┆ ---       ┆ ---       ┆ ---      ┆ ---       │\n",
       "│ str       ┆ ---       ┆ str       ┆ str       ┆   ┆ list[enum ┆ array[f32 ┆ f32      ┆ f32       │\n",
       "│           ┆ str       ┆           ┆           ┆   ┆ ]         ┆ , 768]    ┆          ┆           │\n",
       "╞═══════════╪═══════════╪═══════════╪═══════════╪═══╪═══════════╪═══════════╪══════════╪═══════════╡\n",
       "│ Jace, the ┆ 97c67e86- ┆ {2}{U}{U} ┆ Legendary ┆ … ┆ [\"PRM\",   ┆ [0.015553 ┆ 0.185112 ┆ -1.800546 │\n",
       "│ Mind      ┆ 5aa5-4136 ┆           ┆ Planeswal ┆   ┆ \"WWK\", …  ┆ , -0.0190 ┆          ┆           │\n",
       "│ Sculptor  ┆ -a15c-c0c ┆           ┆ ker —     ┆   ┆ \"BLC\"]    ┆ 22, …     ┆          ┆           │\n",
       "│           ┆ 570…      ┆           ┆ Jace      ┆   ┆           ┆ -0.009…   ┆          ┆           │\n",
       "│ Jace,     ┆ 74aa75d1- ┆ {2}{U}{U} ┆ Legendary ┆ … ┆ [\"RTR\",   ┆ [0.006341 ┆ 0.229324 ┆ -1.757585 │\n",
       "│ Architect ┆ 47bd-4298 ┆           ┆ Planeswal ┆   ┆ \"DDM\", …  ┆ ,         ┆          ┆           │\n",
       "│ of        ┆ -a943-1c9 ┆           ┆ ker —     ┆   ┆ \"PIO\"]    ┆ 0.002391, ┆          ┆           │\n",
       "│ Thought   ┆ 6e4…      ┆           ┆ Jace      ┆   ┆           ┆ …         ┆          ┆           │\n",
       "│           ┆           ┆           ┆           ┆   ┆           ┆ 0.00736…  ┆          ┆           │\n",
       "│ Jace,     ┆ e3b274f6- ┆ {4}{U}{U} ┆ Legendary ┆ … ┆ [\"XLN\"]   ┆ [0.007439 ┆ 0.167038 ┆ -1.713124 │\n",
       "│ Ingenious ┆ 833f-430f ┆           ┆ Planeswal ┆   ┆           ┆ , -0.0191 ┆          ┆           │\n",
       "│ Mind-Mage ┆ -ac1a-d1d ┆           ┆ ker —     ┆   ┆           ┆ 68, …     ┆          ┆           │\n",
       "│           ┆ 1d5…      ┆           ┆ Jace      ┆   ┆           ┆ 0.0259…   ┆          ┆           │\n",
       "│ Jace, the ┆ 99713bb4- ┆ {2}{U}{U} ┆ Legendary ┆ … ┆ [\"PS14\",  ┆ [0.000204 ┆ 0.231834 ┆ -1.737897 │\n",
       "│ Living    ┆ 186f-42b6 ┆           ┆ Planeswal ┆   ┆ \"M15\"]    ┆ , -0.0066 ┆          ┆           │\n",
       "│ Guildpact ┆ -aa66-e94 ┆           ┆ ker —     ┆   ┆           ┆ 22, …     ┆          ┆           │\n",
       "│           ┆ ec8…      ┆           ┆ Jace      ┆   ┆           ┆ 0.0009…   ┆          ┆           │\n",
       "│ Jace,     ┆ 66e2813e- ┆ {3}{U}{U} ┆ Legendary ┆ … ┆ [\"PMEI\",  ┆ [-0.01543 ┆ 0.217503 ┆ -1.767369 │\n",
       "│ Memory    ┆ c674-49de ┆           ┆ Planeswal ┆   ┆ \"M12\", …  ┆ 6, -0.032 ┆          ┆           │\n",
       "│ Adept     ┆ -8777-788 ┆           ┆ ker —     ┆   ┆ \"PIO\"]    ┆ 921, …    ┆          ┆           │\n",
       "│           ┆ 251…      ┆           ┆ Jace      ┆   ┆           ┆ 0.007…    ┆          ┆           │\n",
       "│ Jace, the ┆ cf9f5a2e- ┆ {2}{U}{U/ ┆ Legendary ┆ … ┆ [\"PONE\",  ┆ [0.006776 ┆ 0.21143  ┆ -1.731053 │\n",
       "│ Perfected ┆ 1f1e-4ecf ┆ P}        ┆ Planeswal ┆   ┆ \"ONE\"]    ┆ , -0.0006 ┆          ┆           │\n",
       "│ Mind      ┆ -8d5c-dbd ┆           ┆ ker —     ┆   ┆           ┆ 06, …     ┆          ┆           │\n",
       "│           ┆ 952…      ┆           ┆ Jace      ┆   ┆           ┆ 0.0077…   ┆          ┆           │\n",
       "│ Jace,     ┆ 6dece604- ┆ {1}{U}{U} ┆ Legendary ┆ … ┆ [\"PRM\",   ┆ [-0.00828 ┆ 0.234787 ┆ -1.798825 │\n",
       "│ Wielder   ┆ 04f2-48ac ┆ {U}       ┆ Planeswal ┆   ┆ \"PWAR\", … ┆ 4, -0.025 ┆          ┆           │\n",
       "│ of        ┆ -8e6c-ef8 ┆           ┆ ker —     ┆   ┆ \"PLST\"]   ┆ 282, …    ┆          ┆           │\n",
       "│ Mysteries ┆ 50c…      ┆           ┆ Jace      ┆   ┆           ┆ -0.00…    ┆          ┆           │\n",
       "│ Jace,     ┆ 5b870094- ┆ {4}{U}{U} ┆ Legendary ┆ … ┆ [\"WAR\",   ┆ [0.00509, ┆ 0.187725 ┆ -1.759213 │\n",
       "│ Arcane    ┆ 08bf-41fc ┆           ┆ Planeswal ┆   ┆ \"J22\"]    ┆ -0.018775 ┆          ┆           │\n",
       "│ Strategis ┆ -b9d6-e43 ┆           ┆ ker —     ┆   ┆           ┆ , …       ┆          ┆           │\n",
       "│ t         ┆ 5e0…      ┆           ┆ Jace      ┆   ┆           ┆ 0.02769…  ┆          ┆           │\n",
       "│ Jace,     ┆ 86d34cbf- ┆ {1}{U}{U} ┆ Legendary ┆ … ┆ [\"PRM\",   ┆ [-0.00983 ┆ 0.19239  ┆ -1.793805 │\n",
       "│ Mirror    ┆ e424-461a ┆           ┆ Planeswal ┆   ┆ \"PZNR\", … ┆ 5,        ┆          ┆           │\n",
       "│ Mage      ┆ -adf3-003 ┆           ┆ ker —     ┆   ┆ \"CMM\"]    ┆ 0.004344, ┆          ┆           │\n",
       "│           ┆ d55…      ┆           ┆ Jace      ┆   ┆           ┆ … 0.0050… ┆          ┆           │\n",
       "│ Jace,     ┆ 3d9c8217- ┆ {3}{U}{U} ┆ Legendary ┆ … ┆ [\"PSOI\",  ┆ [-0.00328 ┆ 0.22567  ┆ -1.740872 │\n",
       "│ Unraveler ┆ 013d-4e75 ┆           ┆ Planeswal ┆   ┆ \"SOI\", …  ┆ 9, -0.026 ┆          ┆           │\n",
       "│ of        ┆ -bdd1-9c4 ┆           ┆ ker —     ┆   ┆ \"INR\"]    ┆ 326, …    ┆          ┆           │\n",
       "│ Secrets   ┆ 6c8…      ┆           ┆ Jace      ┆   ┆           ┆ 0.019…    ┆          ┆           │\n",
       "└───────────┴───────────┴───────────┴───────────┴───┴───────────┴───────────┴──────────┴───────────┘"
      ]
     },
     "execution_count": 7,
     "metadata": {},
     "output_type": "execute_result"
    }
   ],
   "source": [
    "idx, score = fast_dot_product(query_embed, embeddings, k=10)\n",
    "print(score)\n",
    "df[idx]"
   ]
  },
  {
   "cell_type": "markdown",
   "metadata": {},
   "source": [
    "## Test More Cards\n"
   ]
  },
  {
   "cell_type": "code",
   "execution_count": 8,
   "metadata": {},
   "outputs": [],
   "source": [
    "def get_similar_cards(card_name):\n",
    "    query_embed = (\n",
    "        df.filter(pl.col(\"name\") == card_name)[\"embedding\"].to_numpy(allow_copy=False)\n",
    "    )[0]\n",
    "\n",
    "    idx, score = fast_dot_product(query_embed, embeddings, k=9 + 1)\n",
    "    print(score)\n",
    "    return df[idx]"
   ]
  },
  {
   "cell_type": "code",
   "execution_count": 9,
   "metadata": {},
   "outputs": [
    {
     "name": "stdout",
     "output_type": "stream",
     "text": [
      "[0.9999999  0.8453661  0.81820345 0.81452304 0.813368   0.8104486\n",
      " 0.80932695 0.80861205 0.80824715 0.807909  ]\n"
     ]
    },
    {
     "data": {
      "text/html": [
       "<div><style>\n",
       ".dataframe > thead > tr,\n",
       ".dataframe > tbody > tr {\n",
       "  text-align: right;\n",
       "  white-space: pre-wrap;\n",
       "}\n",
       "</style>\n",
       "<small>shape: (10, 13)</small><table border=\"1\" class=\"dataframe\"><thead><tr><th>name</th><th>scryfallId</th><th>manaCost</th><th>type</th><th>text</th><th>power</th><th>toughness</th><th>loyalty</th><th>rarities</th><th>sets</th><th>embedding</th><th>x_2d</th><th>y_2d</th></tr><tr><td>str</td><td>str</td><td>str</td><td>str</td><td>str</td><td>str</td><td>str</td><td>str</td><td>list[enum]</td><td>list[enum]</td><td>array[f32, 768]</td><td>f32</td><td>f32</td></tr></thead><tbody><tr><td>&quot;Phage the Untouchable&quot;</td><td>&quot;41e39cb1-0b57-4d70-afa6-67b307…</td><td>&quot;{3}{B}{B}{B}{B}&quot;</td><td>&quot;Legendary Creature — Avatar Mi…</td><td>&quot;When ~ enters, if you didn&#x27;t c…</td><td>&quot;4&quot;</td><td>&quot;4&quot;</td><td>null</td><td>[&quot;rare&quot;, &quot;mythic&quot;]</td><td>[&quot;LGN&quot;, &quot;10E&quot;, … &quot;SLD&quot;]</td><td>[-0.016366, -0.039536, … 0.001862]</td><td>-1.35051</td><td>1.408305</td></tr><tr><td>&quot;Phlage, Titan of Fire&#x27;s Fury&quot;</td><td>&quot;d08742bb-d980-4912-a2fd-b8edac…</td><td>&quot;{1}{R}{W}&quot;</td><td>&quot;Legendary Creature — Elder Gia…</td><td>&quot;When Phlage enters, sacrifice …</td><td>&quot;6&quot;</td><td>&quot;6&quot;</td><td>null</td><td>[&quot;mythic&quot;]</td><td>[&quot;PMH3&quot;, &quot;MH3&quot;]</td><td>[-0.018291, -0.026738, … 0.008118]</td><td>-1.279808</td><td>1.342875</td></tr><tr><td>&quot;It Came from Planet Glurg&quot;</td><td>&quot;b0ebcd89-7dc2-4a38-83f2-edccd3…</td><td>&quot;{X}{X}{G}{U}&quot;</td><td>&quot;Legendary Creature — Alien Ooz…</td><td>&quot;You may have ~ enter as a copy…</td><td>&quot;0&quot;</td><td>&quot;0&quot;</td><td>null</td><td>[&quot;mythic&quot;]</td><td>[&quot;UNF&quot;]</td><td>[0.018503, 0.009517, … 0.015839]</td><td>-1.294861</td><td>1.558589</td></tr><tr><td>&quot;Tsabo Tavoc&quot;</td><td>&quot;fae30ebf-1c73-4319-b4b1-27b71c…</td><td>&quot;{5}{B}{R}&quot;</td><td>&quot;Legendary Creature — Phyrexian…</td><td>&quot;First strike, protection from …</td><td>&quot;7&quot;</td><td>&quot;4&quot;</td><td>null</td><td>[&quot;rare&quot;]</td><td>[&quot;INV&quot;, &quot;PLST&quot;]</td><td>[-0.035112, -0.00905, … -0.016566]</td><td>-2.956779</td><td>-0.291921</td></tr><tr><td>&quot;Giant Adephage&quot;</td><td>&quot;893b22a7-b46c-4473-8d88-11ddf4…</td><td>&quot;{5}{G}{G}&quot;</td><td>&quot;Creature — Insect&quot;</td><td>&quot;Trample\\nWhenever this creatur…</td><td>&quot;7&quot;</td><td>&quot;7&quot;</td><td>null</td><td>[&quot;mythic&quot;]</td><td>[&quot;GTC&quot;, &quot;C19&quot;, … &quot;DSC&quot;]</td><td>[0.004856, 0.003408, … -0.006014]</td><td>-1.33313</td><td>2.287951</td></tr><tr><td>&quot;Gargos, Vicious Watcher&quot;</td><td>&quot;574057d5-d4a3-4d51-9f53-830d53…</td><td>&quot;{3}{G}{G}{G}&quot;</td><td>&quot;Legendary Creature — Hydra&quot;</td><td>&quot;Vigilance\\nHydra spells you ca…</td><td>&quot;8&quot;</td><td>&quot;7&quot;</td><td>null</td><td>[&quot;rare&quot;]</td><td>[&quot;PM20&quot;, &quot;M20&quot;, &quot;SLD&quot;]</td><td>[0.002092, 0.006253, … 0.012745]</td><td>-0.305946</td><td>4.738521</td></tr><tr><td>&quot;The Most Dangerous Gamer&quot;</td><td>&quot;774c25d1-7e31-4e67-8601-a3b4c9…</td><td>&quot;{2}{B}{G}&quot;</td><td>&quot;Legendary Creature — Human Gam…</td><td>&quot;Deathtouch\\nWhenever ~ enters …</td><td>&quot;2&quot;</td><td>&quot;2&quot;</td><td>null</td><td>[&quot;rare&quot;]</td><td>[&quot;UNF&quot;]</td><td>[-0.035464, 0.027061, … -0.006715]</td><td>-1.325737</td><td>1.481586</td></tr><tr><td>&quot;Cursed Minotaur&quot;</td><td>&quot;df48004d-004b-41b6-b975-80b350…</td><td>&quot;{2}{B}&quot;</td><td>&quot;Creature — Zombie Minotaur&quot;</td><td>&quot;Menace (This creature can&#x27;t be…</td><td>&quot;3&quot;</td><td>&quot;2&quot;</td><td>null</td><td>[&quot;common&quot;]</td><td>[&quot;AKH&quot;, &quot;PLST&quot;]</td><td>[-0.023184, -0.019858, … 0.015574]</td><td>-3.770935</td><td>1.067401</td></tr><tr><td>&quot;God-Eternal Rhonas&quot;</td><td>&quot;37bc0128-a8d0-477c-abcf-2bdc9e…</td><td>&quot;{3}{G}{G}&quot;</td><td>&quot;Legendary Creature — Zombie Go…</td><td>&quot;Deathtouch\\nWhen ~ enters, dou…</td><td>&quot;5&quot;</td><td>&quot;5&quot;</td><td>null</td><td>[&quot;mythic&quot;]</td><td>[&quot;PWAR&quot;, &quot;WAR&quot;, &quot;PS19&quot;]</td><td>[0.001229, 0.017334, … 0.025997]</td><td>-0.613647</td><td>0.988753</td></tr><tr><td>&quot;Chaos Maw&quot;</td><td>&quot;8094908b-1d3a-42df-bc27-8456fb…</td><td>&quot;{5}{R}{R}&quot;</td><td>&quot;Creature — Hellion&quot;</td><td>&quot;When this creature enters, it …</td><td>&quot;6&quot;</td><td>&quot;6&quot;</td><td>null</td><td>[&quot;rare&quot;]</td><td>[&quot;PHOU&quot;, &quot;HOU&quot;]</td><td>[-0.046758, -0.024023, … 0.040707]</td><td>-2.380554</td><td>2.261622</td></tr></tbody></table></div>"
      ],
      "text/plain": [
       "shape: (10, 13)\n",
       "┌───────────┬───────────┬───────────┬───────────┬───┬───────────┬───────────┬───────────┬──────────┐\n",
       "│ name      ┆ scryfallI ┆ manaCost  ┆ type      ┆ … ┆ sets      ┆ embedding ┆ x_2d      ┆ y_2d     │\n",
       "│ ---       ┆ d         ┆ ---       ┆ ---       ┆   ┆ ---       ┆ ---       ┆ ---       ┆ ---      │\n",
       "│ str       ┆ ---       ┆ str       ┆ str       ┆   ┆ list[enum ┆ array[f32 ┆ f32       ┆ f32      │\n",
       "│           ┆ str       ┆           ┆           ┆   ┆ ]         ┆ , 768]    ┆           ┆          │\n",
       "╞═══════════╪═══════════╪═══════════╪═══════════╪═══╪═══════════╪═══════════╪═══════════╪══════════╡\n",
       "│ Phage the ┆ 41e39cb1- ┆ {3}{B}{B} ┆ Legendary ┆ … ┆ [\"LGN\",   ┆ [-0.01636 ┆ -1.35051  ┆ 1.408305 │\n",
       "│ Untouchab ┆ 0b57-4d70 ┆ {B}{B}    ┆ Creature  ┆   ┆ \"10E\", …  ┆ 6, -0.039 ┆           ┆          │\n",
       "│ le        ┆ -afa6-67b ┆           ┆ — Avatar  ┆   ┆ \"SLD\"]    ┆ 536, …    ┆           ┆          │\n",
       "│           ┆ 307…      ┆           ┆ Mi…       ┆   ┆           ┆ 0.001…    ┆           ┆          │\n",
       "│ Phlage,   ┆ d08742bb- ┆ {1}{R}{W} ┆ Legendary ┆ … ┆ [\"PMH3\",  ┆ [-0.01829 ┆ -1.279808 ┆ 1.342875 │\n",
       "│ Titan of  ┆ d980-4912 ┆           ┆ Creature  ┆   ┆ \"MH3\"]    ┆ 1, -0.026 ┆           ┆          │\n",
       "│ Fire's    ┆ -a2fd-b8e ┆           ┆ — Elder   ┆   ┆           ┆ 738, …    ┆           ┆          │\n",
       "│ Fury      ┆ dac…      ┆           ┆ Gia…      ┆   ┆           ┆ 0.008…    ┆           ┆          │\n",
       "│ It Came   ┆ b0ebcd89- ┆ {X}{X}{G} ┆ Legendary ┆ … ┆ [\"UNF\"]   ┆ [0.018503 ┆ -1.294861 ┆ 1.558589 │\n",
       "│ from      ┆ 7dc2-4a38 ┆ {U}       ┆ Creature  ┆   ┆           ┆ ,         ┆           ┆          │\n",
       "│ Planet    ┆ -83f2-edc ┆           ┆ — Alien   ┆   ┆           ┆ 0.009517, ┆           ┆          │\n",
       "│ Glurg     ┆ cd3…      ┆           ┆ Ooz…      ┆   ┆           ┆ …         ┆           ┆          │\n",
       "│           ┆           ┆           ┆           ┆   ┆           ┆ 0.01583…  ┆           ┆          │\n",
       "│ Tsabo     ┆ fae30ebf- ┆ {5}{B}{R} ┆ Legendary ┆ … ┆ [\"INV\",   ┆ [-0.03511 ┆ -2.956779 ┆ -0.29192 │\n",
       "│ Tavoc     ┆ 1c73-4319 ┆           ┆ Creature  ┆   ┆ \"PLST\"]   ┆ 2,        ┆           ┆ 1        │\n",
       "│           ┆ -b4b1-27b ┆           ┆ — Phyrexi ┆   ┆           ┆ -0.00905, ┆           ┆          │\n",
       "│           ┆ 71c…      ┆           ┆ an…       ┆   ┆           ┆ … -0.016… ┆           ┆          │\n",
       "│ Giant     ┆ 893b22a7- ┆ {5}{G}{G} ┆ Creature  ┆ … ┆ [\"GTC\",   ┆ [0.004856 ┆ -1.33313  ┆ 2.287951 │\n",
       "│ Adephage  ┆ b46c-4473 ┆           ┆ — Insect  ┆   ┆ \"C19\", …  ┆ ,         ┆           ┆          │\n",
       "│           ┆ -8d88-11d ┆           ┆           ┆   ┆ \"DSC\"]    ┆ 0.003408, ┆           ┆          │\n",
       "│           ┆ df4…      ┆           ┆           ┆   ┆           ┆ …         ┆           ┆          │\n",
       "│           ┆           ┆           ┆           ┆   ┆           ┆ -0.0060…  ┆           ┆          │\n",
       "│ Gargos,   ┆ 574057d5- ┆ {3}{G}{G} ┆ Legendary ┆ … ┆ [\"PM20\",  ┆ [0.002092 ┆ -0.305946 ┆ 4.738521 │\n",
       "│ Vicious   ┆ d4a3-4d51 ┆ {G}       ┆ Creature  ┆   ┆ \"M20\",    ┆ ,         ┆           ┆          │\n",
       "│ Watcher   ┆ -9f53-830 ┆           ┆ — Hydra   ┆   ┆ \"SLD\"]    ┆ 0.006253, ┆           ┆          │\n",
       "│           ┆ d53…      ┆           ┆           ┆   ┆           ┆ …         ┆           ┆          │\n",
       "│           ┆           ┆           ┆           ┆   ┆           ┆ 0.01274…  ┆           ┆          │\n",
       "│ The Most  ┆ 774c25d1- ┆ {2}{B}{G} ┆ Legendary ┆ … ┆ [\"UNF\"]   ┆ [-0.03546 ┆ -1.325737 ┆ 1.481586 │\n",
       "│ Dangerous ┆ 7e31-4e67 ┆           ┆ Creature  ┆   ┆           ┆ 4,        ┆           ┆          │\n",
       "│ Gamer     ┆ -8601-a3b ┆           ┆ — Human   ┆   ┆           ┆ 0.027061, ┆           ┆          │\n",
       "│           ┆ 4c9…      ┆           ┆ Gam…      ┆   ┆           ┆ … -0.006… ┆           ┆          │\n",
       "│ Cursed    ┆ df48004d- ┆ {2}{B}    ┆ Creature  ┆ … ┆ [\"AKH\",   ┆ [-0.02318 ┆ -3.770935 ┆ 1.067401 │\n",
       "│ Minotaur  ┆ 004b-41b6 ┆           ┆ — Zombie  ┆   ┆ \"PLST\"]   ┆ 4, -0.019 ┆           ┆          │\n",
       "│           ┆ -b975-80b ┆           ┆ Minotaur  ┆   ┆           ┆ 858, …    ┆           ┆          │\n",
       "│           ┆ 350…      ┆           ┆           ┆   ┆           ┆ 0.015…    ┆           ┆          │\n",
       "│ God-Etern ┆ 37bc0128- ┆ {3}{G}{G} ┆ Legendary ┆ … ┆ [\"PWAR\",  ┆ [0.001229 ┆ -0.613647 ┆ 0.988753 │\n",
       "│ al Rhonas ┆ a8d0-477c ┆           ┆ Creature  ┆   ┆ \"WAR\",    ┆ ,         ┆           ┆          │\n",
       "│           ┆ -abcf-2bd ┆           ┆ — Zombie  ┆   ┆ \"PS19\"]   ┆ 0.017334, ┆           ┆          │\n",
       "│           ┆ c9e…      ┆           ┆ Go…       ┆   ┆           ┆ …         ┆           ┆          │\n",
       "│           ┆           ┆           ┆           ┆   ┆           ┆ 0.02599…  ┆           ┆          │\n",
       "│ Chaos Maw ┆ 8094908b- ┆ {5}{R}{R} ┆ Creature  ┆ … ┆ [\"PHOU\",  ┆ [-0.04675 ┆ -2.380554 ┆ 2.261622 │\n",
       "│           ┆ 1d3a-42df ┆           ┆ — Hellion ┆   ┆ \"HOU\"]    ┆ 8, -0.024 ┆           ┆          │\n",
       "│           ┆ -bc27-845 ┆           ┆           ┆   ┆           ┆ 023, …    ┆           ┆          │\n",
       "│           ┆ 6fb…      ┆           ┆           ┆   ┆           ┆ 0.040…    ┆           ┆          │\n",
       "└───────────┴───────────┴───────────┴───────────┴───┴───────────┴───────────┴───────────┴──────────┘"
      ]
     },
     "execution_count": 9,
     "metadata": {},
     "output_type": "execute_result"
    }
   ],
   "source": [
    "get_similar_cards(\"Phage the Untouchable\")"
   ]
  },
  {
   "cell_type": "code",
   "execution_count": 10,
   "metadata": {},
   "outputs": [
    {
     "name": "stdout",
     "output_type": "stream",
     "text": [
      "[1.0000001  0.8836309  0.85601187 0.8555929  0.8389733  0.83586186\n",
      " 0.8319211  0.8278018  0.82464945 0.82094663]\n"
     ]
    },
    {
     "data": {
      "text/html": [
       "<div><style>\n",
       ".dataframe > thead > tr,\n",
       ".dataframe > tbody > tr {\n",
       "  text-align: right;\n",
       "  white-space: pre-wrap;\n",
       "}\n",
       "</style>\n",
       "<small>shape: (10, 13)</small><table border=\"1\" class=\"dataframe\"><thead><tr><th>name</th><th>scryfallId</th><th>manaCost</th><th>type</th><th>text</th><th>power</th><th>toughness</th><th>loyalty</th><th>rarities</th><th>sets</th><th>embedding</th><th>x_2d</th><th>y_2d</th></tr><tr><td>str</td><td>str</td><td>str</td><td>str</td><td>str</td><td>str</td><td>str</td><td>str</td><td>list[enum]</td><td>list[enum]</td><td>array[f32, 768]</td><td>f32</td><td>f32</td></tr></thead><tbody><tr><td>&quot;Ancestral Recall&quot;</td><td>&quot;71283e4c-efd9-4a96-991c-6bbb16…</td><td>&quot;{U}&quot;</td><td>&quot;Instant&quot;</td><td>&quot;Target player draws three card…</td><td>null</td><td>null</td><td>null</td><td>[&quot;rare&quot;, &quot;mythic&quot;, … &quot;special&quot;]</td><td>[&quot;LEA&quot;, &quot;LEB&quot;, … &quot;30A&quot;]</td><td>[0.004657, -0.032263, … 0.015374]</td><td>2.511368</td><td>-0.072591</td></tr><tr><td>&quot;Ancestral Reminiscence&quot;</td><td>&quot;625690d3-7131-45de-adea-9c9272…</td><td>&quot;{3}{U}&quot;</td><td>&quot;Sorcery&quot;</td><td>&quot;Draw three cards, then discard…</td><td>null</td><td>null</td><td>null</td><td>[&quot;common&quot;]</td><td>[&quot;LCI&quot;]</td><td>[0.025741, -0.001504, … 0.014874]</td><td>2.510941</td><td>-0.005551</td></tr><tr><td>&quot;Recall&quot;</td><td>&quot;dd82d1f8-12bb-4b71-9a25-76a9dc…</td><td>&quot;{X}{X}{U}&quot;</td><td>&quot;Sorcery&quot;</td><td>&quot;Discard X cards, then return a…</td><td>null</td><td>null</td><td>null</td><td>[&quot;uncommon&quot;, &quot;rare&quot;]</td><td>[&quot;LEG&quot;, &quot;BCHR&quot;, … &quot;ME3&quot;]</td><td>[0.00087, -0.014176, … 0.002829]</td><td>2.373871</td><td>-0.157948</td></tr><tr><td>&quot;Ancestral Memories&quot;</td><td>&quot;8642adc6-bf7f-4de8-a592-705285…</td><td>&quot;{2}{U}{U}{U}&quot;</td><td>&quot;Sorcery&quot;</td><td>&quot;Look at the top seven cards of…</td><td>null</td><td>null</td><td>null</td><td>[&quot;rare&quot;]</td><td>[&quot;MIR&quot;, &quot;POR&quot;, … &quot;PLST&quot;]</td><td>[0.027947, -0.007178, … -0.007604]</td><td>2.562378</td><td>-0.007009</td></tr><tr><td>&quot;Ancient Craving&quot;</td><td>&quot;e3a46159-2a91-4c89-87d7-13b52b…</td><td>&quot;{3}{B}&quot;</td><td>&quot;Sorcery&quot;</td><td>&quot;You draw three cards and you l…</td><td>null</td><td>null</td><td>null</td><td>[&quot;uncommon&quot;, &quot;rare&quot;]</td><td>[&quot;P02&quot;, &quot;S99&quot;, … &quot;J22&quot;]</td><td>[0.011091, -0.021437, … 0.013337]</td><td>3.002449</td><td>-0.235524</td></tr><tr><td>&quot;Hurkyl&#x27;s Recall&quot;</td><td>&quot;0d6439c1-9969-4fd0-b6ad-1a88c1…</td><td>&quot;{1}{U}&quot;</td><td>&quot;Instant&quot;</td><td>&quot;Return all artifacts target pl…</td><td>null</td><td>null</td><td>null</td><td>[&quot;rare&quot;]</td><td>[&quot;ATQ&quot;, &quot;3ED&quot;, … &quot;PLST&quot;]</td><td>[0.008584, -0.016121, … 0.026116]</td><td>2.342964</td><td>0.027781</td></tr><tr><td>&quot;Can&#x27;t Quite Recall&quot;</td><td>&quot;e65a3a97-88ab-4949-9aa5-3dd432…</td><td>&quot;{U}&quot;</td><td>&quot;Instant&quot;</td><td>&quot;Forbidden (This card can&#x27;t be …</td><td>null</td><td>null</td><td>null</td><td>[&quot;rare&quot;]</td><td>[&quot;MB2&quot;]</td><td>[0.028659, -0.038009, … -0.02904]</td><td>2.648621</td><td>-0.132611</td></tr><tr><td>&quot;Ancestral Vision&quot;</td><td>&quot;9079c93e-3da8-442a-89d2-609a3e…</td><td>null</td><td>&quot;Sorcery&quot;</td><td>&quot;Suspend 4—{U} (Rather than cas…</td><td>null</td><td>null</td><td>null</td><td>[&quot;rare&quot;, &quot;mythic&quot;]</td><td>[&quot;TSP&quot;, &quot;DD2&quot;, … &quot;TSR&quot;]</td><td>[0.021205, -0.021539, … 0.000558]</td><td>1.889961</td><td>0.170573</td></tr><tr><td>&quot;Ancestral Tribute&quot;</td><td>&quot;3f28b2af-7891-49eb-a07f-5552b5…</td><td>&quot;{5}{W}{W}&quot;</td><td>&quot;Sorcery&quot;</td><td>&quot;You gain 2 life for each card …</td><td>null</td><td>null</td><td>null</td><td>[&quot;rare&quot;]</td><td>[&quot;ODY&quot;]</td><td>[0.007481, 0.005177, … -0.001027]</td><td>3.65834</td><td>-0.209447</td></tr><tr><td>&quot;Rally the Ancestors&quot;</td><td>&quot;dfad0c6f-0dbe-48e8-aa32-3c9a0d…</td><td>&quot;{X}{W}{W}&quot;</td><td>&quot;Instant&quot;</td><td>&quot;Return each creature card with…</td><td>null</td><td>null</td><td>null</td><td>[&quot;rare&quot;]</td><td>[&quot;PFRF&quot;, &quot;FRF&quot;, &quot;EA1&quot;]</td><td>[-0.00803, -0.004047, … 0.012105]</td><td>2.241409</td><td>-0.127309</td></tr></tbody></table></div>"
      ],
      "text/plain": [
       "shape: (10, 13)\n",
       "┌────────────┬────────────┬───────────┬─────────┬───┬───────────┬───────────┬──────────┬───────────┐\n",
       "│ name       ┆ scryfallId ┆ manaCost  ┆ type    ┆ … ┆ sets      ┆ embedding ┆ x_2d     ┆ y_2d      │\n",
       "│ ---        ┆ ---        ┆ ---       ┆ ---     ┆   ┆ ---       ┆ ---       ┆ ---      ┆ ---       │\n",
       "│ str        ┆ str        ┆ str       ┆ str     ┆   ┆ list[enum ┆ array[f32 ┆ f32      ┆ f32       │\n",
       "│            ┆            ┆           ┆         ┆   ┆ ]         ┆ , 768]    ┆          ┆           │\n",
       "╞════════════╪════════════╪═══════════╪═════════╪═══╪═══════════╪═══════════╪══════════╪═══════════╡\n",
       "│ Ancestral  ┆ 71283e4c-e ┆ {U}       ┆ Instant ┆ … ┆ [\"LEA\",   ┆ [0.004657 ┆ 2.511368 ┆ -0.072591 │\n",
       "│ Recall     ┆ fd9-4a96-9 ┆           ┆         ┆   ┆ \"LEB\", …  ┆ , -0.0322 ┆          ┆           │\n",
       "│            ┆ 91c-6bbb16 ┆           ┆         ┆   ┆ \"30A\"]    ┆ 63, …     ┆          ┆           │\n",
       "│            ┆ …          ┆           ┆         ┆   ┆           ┆ 0.0153…   ┆          ┆           │\n",
       "│ Ancestral  ┆ 625690d3-7 ┆ {3}{U}    ┆ Sorcery ┆ … ┆ [\"LCI\"]   ┆ [0.025741 ┆ 2.510941 ┆ -0.005551 │\n",
       "│ Reminiscen ┆ 131-45de-a ┆           ┆         ┆   ┆           ┆ , -0.0015 ┆          ┆           │\n",
       "│ ce         ┆ dea-9c9272 ┆           ┆         ┆   ┆           ┆ 04, …     ┆          ┆           │\n",
       "│            ┆ …          ┆           ┆         ┆   ┆           ┆ 0.0148…   ┆          ┆           │\n",
       "│ Recall     ┆ dd82d1f8-1 ┆ {X}{X}{U} ┆ Sorcery ┆ … ┆ [\"LEG\",   ┆ [0.00087, ┆ 2.373871 ┆ -0.157948 │\n",
       "│            ┆ 2bb-4b71-9 ┆           ┆         ┆   ┆ \"BCHR\", … ┆ -0.014176 ┆          ┆           │\n",
       "│            ┆ a25-76a9dc ┆           ┆         ┆   ┆ \"ME3\"]    ┆ , …       ┆          ┆           │\n",
       "│            ┆ …          ┆           ┆         ┆   ┆           ┆ 0.00282…  ┆          ┆           │\n",
       "│ Ancestral  ┆ 8642adc6-b ┆ {2}{U}{U} ┆ Sorcery ┆ … ┆ [\"MIR\",   ┆ [0.027947 ┆ 2.562378 ┆ -0.007009 │\n",
       "│ Memories   ┆ f7f-4de8-a ┆ {U}       ┆         ┆   ┆ \"POR\", …  ┆ , -0.0071 ┆          ┆           │\n",
       "│            ┆ 592-705285 ┆           ┆         ┆   ┆ \"PLST\"]   ┆ 78, …     ┆          ┆           │\n",
       "│            ┆ …          ┆           ┆         ┆   ┆           ┆ -0.007…   ┆          ┆           │\n",
       "│ Ancient    ┆ e3a46159-2 ┆ {3}{B}    ┆ Sorcery ┆ … ┆ [\"P02\",   ┆ [0.011091 ┆ 3.002449 ┆ -0.235524 │\n",
       "│ Craving    ┆ a91-4c89-8 ┆           ┆         ┆   ┆ \"S99\", …  ┆ , -0.0214 ┆          ┆           │\n",
       "│            ┆ 7d7-13b52b ┆           ┆         ┆   ┆ \"J22\"]    ┆ 37, …     ┆          ┆           │\n",
       "│            ┆ …          ┆           ┆         ┆   ┆           ┆ 0.0133…   ┆          ┆           │\n",
       "│ Hurkyl's   ┆ 0d6439c1-9 ┆ {1}{U}    ┆ Instant ┆ … ┆ [\"ATQ\",   ┆ [0.008584 ┆ 2.342964 ┆ 0.027781  │\n",
       "│ Recall     ┆ 969-4fd0-b ┆           ┆         ┆   ┆ \"3ED\", …  ┆ , -0.0161 ┆          ┆           │\n",
       "│            ┆ 6ad-1a88c1 ┆           ┆         ┆   ┆ \"PLST\"]   ┆ 21, …     ┆          ┆           │\n",
       "│            ┆ …          ┆           ┆         ┆   ┆           ┆ 0.0261…   ┆          ┆           │\n",
       "│ Can't      ┆ e65a3a97-8 ┆ {U}       ┆ Instant ┆ … ┆ [\"MB2\"]   ┆ [0.028659 ┆ 2.648621 ┆ -0.132611 │\n",
       "│ Quite      ┆ 8ab-4949-9 ┆           ┆         ┆   ┆           ┆ , -0.0380 ┆          ┆           │\n",
       "│ Recall     ┆ aa5-3dd432 ┆           ┆         ┆   ┆           ┆ 09, …     ┆          ┆           │\n",
       "│            ┆ …          ┆           ┆         ┆   ┆           ┆ -0.029…   ┆          ┆           │\n",
       "│ Ancestral  ┆ 9079c93e-3 ┆ null      ┆ Sorcery ┆ … ┆ [\"TSP\",   ┆ [0.021205 ┆ 1.889961 ┆ 0.170573  │\n",
       "│ Vision     ┆ da8-442a-8 ┆           ┆         ┆   ┆ \"DD2\", …  ┆ , -0.0215 ┆          ┆           │\n",
       "│            ┆ 9d2-609a3e ┆           ┆         ┆   ┆ \"TSR\"]    ┆ 39, …     ┆          ┆           │\n",
       "│            ┆ …          ┆           ┆         ┆   ┆           ┆ 0.0005…   ┆          ┆           │\n",
       "│ Ancestral  ┆ 3f28b2af-7 ┆ {5}{W}{W} ┆ Sorcery ┆ … ┆ [\"ODY\"]   ┆ [0.007481 ┆ 3.65834  ┆ -0.209447 │\n",
       "│ Tribute    ┆ 891-49eb-a ┆           ┆         ┆   ┆           ┆ ,         ┆          ┆           │\n",
       "│            ┆ 07f-5552b5 ┆           ┆         ┆   ┆           ┆ 0.005177, ┆          ┆           │\n",
       "│            ┆ …          ┆           ┆         ┆   ┆           ┆ …         ┆          ┆           │\n",
       "│            ┆            ┆           ┆         ┆   ┆           ┆ -0.0010…  ┆          ┆           │\n",
       "│ Rally the  ┆ dfad0c6f-0 ┆ {X}{W}{W} ┆ Instant ┆ … ┆ [\"PFRF\",  ┆ [-0.00803 ┆ 2.241409 ┆ -0.127309 │\n",
       "│ Ancestors  ┆ dbe-48e8-a ┆           ┆         ┆   ┆ \"FRF\",    ┆ , -0.0040 ┆          ┆           │\n",
       "│            ┆ a32-3c9a0d ┆           ┆         ┆   ┆ \"EA1\"]    ┆ 47, …     ┆          ┆           │\n",
       "│            ┆ …          ┆           ┆         ┆   ┆           ┆ 0.0121…   ┆          ┆           │\n",
       "└────────────┴────────────┴───────────┴─────────┴───┴───────────┴───────────┴──────────┴───────────┘"
      ]
     },
     "execution_count": 10,
     "metadata": {},
     "output_type": "execute_result"
    }
   ],
   "source": [
    "get_similar_cards(\"Ancestral Recall\")"
   ]
  },
  {
   "cell_type": "code",
   "execution_count": 11,
   "metadata": {},
   "outputs": [
    {
     "name": "stdout",
     "output_type": "stream",
     "text": [
      "[1.0000001  0.9363245  0.91327196 0.87206256 0.85459197 0.8513193\n",
      " 0.8499592  0.8402225  0.8388605  0.8358488 ]\n"
     ]
    },
    {
     "data": {
      "text/html": [
       "<div><style>\n",
       ".dataframe > thead > tr,\n",
       ".dataframe > tbody > tr {\n",
       "  text-align: right;\n",
       "  white-space: pre-wrap;\n",
       "}\n",
       "</style>\n",
       "<small>shape: (10, 13)</small><table border=\"1\" class=\"dataframe\"><thead><tr><th>name</th><th>scryfallId</th><th>manaCost</th><th>type</th><th>text</th><th>power</th><th>toughness</th><th>loyalty</th><th>rarities</th><th>sets</th><th>embedding</th><th>x_2d</th><th>y_2d</th></tr><tr><td>str</td><td>str</td><td>str</td><td>str</td><td>str</td><td>str</td><td>str</td><td>str</td><td>list[enum]</td><td>list[enum]</td><td>array[f32, 768]</td><td>f32</td><td>f32</td></tr></thead><tbody><tr><td>&quot;Emrakul, the Aeons Torn&quot;</td><td>&quot;d2c632e1-faa8-40f9-a5b7-877364…</td><td>&quot;{15}&quot;</td><td>&quot;Legendary Creature — Eldrazi&quot;</td><td>&quot;This spell can&#x27;t be countered.…</td><td>&quot;15&quot;</td><td>&quot;15&quot;</td><td>null</td><td>[&quot;mythic&quot;]</td><td>[&quot;PRM&quot;, &quot;PPRO&quot;, … &quot;2X2&quot;]</td><td>[0.020774, -0.00658, … 0.040038]</td><td>-0.597794</td><td>3.863326</td></tr><tr><td>&quot;Emrakul, the Promised End&quot;</td><td>&quot;55251b3d-b408-4612-b53d-c90ef2…</td><td>&quot;{13}&quot;</td><td>&quot;Legendary Creature — Eldrazi&quot;</td><td>&quot;This spell costs {1} less to c…</td><td>&quot;13&quot;</td><td>&quot;13&quot;</td><td>null</td><td>[&quot;mythic&quot;]</td><td>[&quot;PEMN&quot;, &quot;EMN&quot;, … &quot;INR&quot;]</td><td>[0.010243, -0.005727, … 0.026933]</td><td>-0.563416</td><td>3.811656</td></tr><tr><td>&quot;Emrakul, the World Anew&quot;</td><td>&quot;2aa5bc75-4d04-4a8e-9830-0f0c73…</td><td>&quot;{12}&quot;</td><td>&quot;Legendary Creature — Eldrazi&quot;</td><td>&quot;When you cast this spell, gain…</td><td>&quot;12&quot;</td><td>&quot;12&quot;</td><td>null</td><td>[&quot;mythic&quot;]</td><td>[&quot;PMH3&quot;, &quot;MH3&quot;]</td><td>[0.028457, -0.005549, … 0.050225]</td><td>-0.57077</td><td>3.811774</td></tr><tr><td>&quot;Hand of Emrakul&quot;</td><td>&quot;84d602f4-5876-416a-95e5-821a28…</td><td>&quot;{9}&quot;</td><td>&quot;Creature — Eldrazi&quot;</td><td>&quot;You may sacrifice four Eldrazi…</td><td>&quot;7&quot;</td><td>&quot;7&quot;</td><td>null</td><td>[&quot;common&quot;]</td><td>[&quot;ROE&quot;]</td><td>[0.002431, -0.002645, … 0.037027]</td><td>-0.633957</td><td>3.815917</td></tr><tr><td>&quot;Emrakul&#x27;s Hatcher&quot;</td><td>&quot;e442d1cf-3e17-4719-8d5b-512749…</td><td>&quot;{4}{R}&quot;</td><td>&quot;Creature — Eldrazi Drone&quot;</td><td>&quot;When this creature enters, cre…</td><td>&quot;3&quot;</td><td>&quot;3&quot;</td><td>null</td><td>[&quot;common&quot;]</td><td>[&quot;ROE&quot;, &quot;DDP&quot;, &quot;PLST&quot;]</td><td>[0.000653, -0.004834, … 0.041085]</td><td>-0.605194</td><td>3.990993</td></tr><tr><td>&quot;Emrakul&#x27;s Messenger&quot;</td><td>&quot;f0f818d7-320c-47b9-a083-40007f…</td><td>&quot;{1}{U}&quot;</td><td>&quot;Creature — Eldrazi Faerie Rogu…</td><td>&quot;Devoid (This card has no color…</td><td>&quot;2&quot;</td><td>&quot;1&quot;</td><td>null</td><td>[&quot;uncommon&quot;]</td><td>[&quot;MH3&quot;]</td><td>[0.025652, 0.003941, … 0.016]</td><td>-0.584412</td><td>3.930923</td></tr><tr><td>&quot;Vestige of Emrakul&quot;</td><td>&quot;a5d84986-64a1-4bd1-a4f6-3eb147…</td><td>&quot;{3}{R}&quot;</td><td>&quot;Creature — Eldrazi Drone&quot;</td><td>&quot;Devoid (This card has no color…</td><td>&quot;3&quot;</td><td>&quot;4&quot;</td><td>null</td><td>[&quot;common&quot;]</td><td>[&quot;BFZ&quot;]</td><td>[0.019743, -0.003092, … 0.017831]</td><td>-0.692352</td><td>3.991885</td></tr><tr><td>&quot;Boon of Emrakul&quot;</td><td>&quot;e4c84a8c-9fd3-4a63-b322-809a74…</td><td>&quot;{2}{B}&quot;</td><td>&quot;Enchantment — Aura&quot;</td><td>&quot;Enchant creature\\nEnchanted cr…</td><td>null</td><td>null</td><td>null</td><td>[&quot;common&quot;]</td><td>[&quot;EMN&quot;, &quot;PLST&quot;]</td><td>[0.024044, -0.020322, … 0.018742]</td><td>1.166595</td><td>-3.398778</td></tr><tr><td>&quot;Eternal Scourge&quot;</td><td>&quot;3c357295-4d5f-40f7-81e8-ae0a46…</td><td>&quot;{3}&quot;</td><td>&quot;Creature — Eldrazi Horror&quot;</td><td>&quot;You may cast this creature fro…</td><td>&quot;3&quot;</td><td>&quot;3&quot;</td><td>null</td><td>[&quot;rare&quot;]</td><td>[&quot;PEMN&quot;, &quot;EMN&quot;, &quot;SIR&quot;]</td><td>[-0.037133, -0.002809, … 0.033913]</td><td>-0.708908</td><td>3.583957</td></tr><tr><td>&quot;Breaker of Creation&quot;</td><td>&quot;72449552-aa2c-4ae3-846f-df523c…</td><td>&quot;{6}{C}{C}&quot;</td><td>&quot;Creature — Eldrazi&quot;</td><td>&quot;When you cast this spell, you …</td><td>&quot;8&quot;</td><td>&quot;4&quot;</td><td>null</td><td>[&quot;uncommon&quot;]</td><td>[&quot;MH3&quot;]</td><td>[0.009638, 0.007766, … 0.024875]</td><td>-0.695801</td><td>3.850627</td></tr></tbody></table></div>"
      ],
      "text/plain": [
       "shape: (10, 13)\n",
       "┌───────────┬───────────┬───────────┬───────────┬───┬───────────┬───────────┬───────────┬──────────┐\n",
       "│ name      ┆ scryfallI ┆ manaCost  ┆ type      ┆ … ┆ sets      ┆ embedding ┆ x_2d      ┆ y_2d     │\n",
       "│ ---       ┆ d         ┆ ---       ┆ ---       ┆   ┆ ---       ┆ ---       ┆ ---       ┆ ---      │\n",
       "│ str       ┆ ---       ┆ str       ┆ str       ┆   ┆ list[enum ┆ array[f32 ┆ f32       ┆ f32      │\n",
       "│           ┆ str       ┆           ┆           ┆   ┆ ]         ┆ , 768]    ┆           ┆          │\n",
       "╞═══════════╪═══════════╪═══════════╪═══════════╪═══╪═══════════╪═══════════╪═══════════╪══════════╡\n",
       "│ Emrakul,  ┆ d2c632e1- ┆ {15}      ┆ Legendary ┆ … ┆ [\"PRM\",   ┆ [0.020774 ┆ -0.597794 ┆ 3.863326 │\n",
       "│ the Aeons ┆ faa8-40f9 ┆           ┆ Creature  ┆   ┆ \"PPRO\", … ┆ ,         ┆           ┆          │\n",
       "│ Torn      ┆ -a5b7-877 ┆           ┆ — Eldrazi ┆   ┆ \"2X2\"]    ┆ -0.00658, ┆           ┆          │\n",
       "│           ┆ 364…      ┆           ┆           ┆   ┆           ┆ …         ┆           ┆          │\n",
       "│           ┆           ┆           ┆           ┆   ┆           ┆ 0.04003…  ┆           ┆          │\n",
       "│ Emrakul,  ┆ 55251b3d- ┆ {13}      ┆ Legendary ┆ … ┆ [\"PEMN\",  ┆ [0.010243 ┆ -0.563416 ┆ 3.811656 │\n",
       "│ the       ┆ b408-4612 ┆           ┆ Creature  ┆   ┆ \"EMN\", …  ┆ , -0.0057 ┆           ┆          │\n",
       "│ Promised  ┆ -b53d-c90 ┆           ┆ — Eldrazi ┆   ┆ \"INR\"]    ┆ 27, …     ┆           ┆          │\n",
       "│ End       ┆ ef2…      ┆           ┆           ┆   ┆           ┆ 0.0269…   ┆           ┆          │\n",
       "│ Emrakul,  ┆ 2aa5bc75- ┆ {12}      ┆ Legendary ┆ … ┆ [\"PMH3\",  ┆ [0.028457 ┆ -0.57077  ┆ 3.811774 │\n",
       "│ the World ┆ 4d04-4a8e ┆           ┆ Creature  ┆   ┆ \"MH3\"]    ┆ , -0.0055 ┆           ┆          │\n",
       "│ Anew      ┆ -9830-0f0 ┆           ┆ — Eldrazi ┆   ┆           ┆ 49, …     ┆           ┆          │\n",
       "│           ┆ c73…      ┆           ┆           ┆   ┆           ┆ 0.0502…   ┆           ┆          │\n",
       "│ Hand of   ┆ 84d602f4- ┆ {9}       ┆ Creature  ┆ … ┆ [\"ROE\"]   ┆ [0.002431 ┆ -0.633957 ┆ 3.815917 │\n",
       "│ Emrakul   ┆ 5876-416a ┆           ┆ — Eldrazi ┆   ┆           ┆ , -0.0026 ┆           ┆          │\n",
       "│           ┆ -95e5-821 ┆           ┆           ┆   ┆           ┆ 45, …     ┆           ┆          │\n",
       "│           ┆ a28…      ┆           ┆           ┆   ┆           ┆ 0.0370…   ┆           ┆          │\n",
       "│ Emrakul's ┆ e442d1cf- ┆ {4}{R}    ┆ Creature  ┆ … ┆ [\"ROE\",   ┆ [0.000653 ┆ -0.605194 ┆ 3.990993 │\n",
       "│ Hatcher   ┆ 3e17-4719 ┆           ┆ — Eldrazi ┆   ┆ \"DDP\",    ┆ , -0.0048 ┆           ┆          │\n",
       "│           ┆ -8d5b-512 ┆           ┆ Drone     ┆   ┆ \"PLST\"]   ┆ 34, …     ┆           ┆          │\n",
       "│           ┆ 749…      ┆           ┆           ┆   ┆           ┆ 0.0410…   ┆           ┆          │\n",
       "│ Emrakul's ┆ f0f818d7- ┆ {1}{U}    ┆ Creature  ┆ … ┆ [\"MH3\"]   ┆ [0.025652 ┆ -0.584412 ┆ 3.930923 │\n",
       "│ Messenger ┆ 320c-47b9 ┆           ┆ — Eldrazi ┆   ┆           ┆ ,         ┆           ┆          │\n",
       "│           ┆ -a083-400 ┆           ┆ Faerie    ┆   ┆           ┆ 0.003941, ┆           ┆          │\n",
       "│           ┆ 07f…      ┆           ┆ Rogu…     ┆   ┆           ┆ … 0.016]  ┆           ┆          │\n",
       "│ Vestige   ┆ a5d84986- ┆ {3}{R}    ┆ Creature  ┆ … ┆ [\"BFZ\"]   ┆ [0.019743 ┆ -0.692352 ┆ 3.991885 │\n",
       "│ of        ┆ 64a1-4bd1 ┆           ┆ — Eldrazi ┆   ┆           ┆ , -0.0030 ┆           ┆          │\n",
       "│ Emrakul   ┆ -a4f6-3eb ┆           ┆ Drone     ┆   ┆           ┆ 92, …     ┆           ┆          │\n",
       "│           ┆ 147…      ┆           ┆           ┆   ┆           ┆ 0.0178…   ┆           ┆          │\n",
       "│ Boon of   ┆ e4c84a8c- ┆ {2}{B}    ┆ Enchantme ┆ … ┆ [\"EMN\",   ┆ [0.024044 ┆ 1.166595  ┆ -3.39877 │\n",
       "│ Emrakul   ┆ 9fd3-4a63 ┆           ┆ nt — Aura ┆   ┆ \"PLST\"]   ┆ , -0.0203 ┆           ┆ 8        │\n",
       "│           ┆ -b322-809 ┆           ┆           ┆   ┆           ┆ 22, …     ┆           ┆          │\n",
       "│           ┆ a74…      ┆           ┆           ┆   ┆           ┆ 0.0187…   ┆           ┆          │\n",
       "│ Eternal   ┆ 3c357295- ┆ {3}       ┆ Creature  ┆ … ┆ [\"PEMN\",  ┆ [-0.03713 ┆ -0.708908 ┆ 3.583957 │\n",
       "│ Scourge   ┆ 4d5f-40f7 ┆           ┆ — Eldrazi ┆   ┆ \"EMN\",    ┆ 3, -0.002 ┆           ┆          │\n",
       "│           ┆ -81e8-ae0 ┆           ┆ Horror    ┆   ┆ \"SIR\"]    ┆ 809, …    ┆           ┆          │\n",
       "│           ┆ a46…      ┆           ┆           ┆   ┆           ┆ 0.033…    ┆           ┆          │\n",
       "│ Breaker   ┆ 72449552- ┆ {6}{C}{C} ┆ Creature  ┆ … ┆ [\"MH3\"]   ┆ [0.009638 ┆ -0.695801 ┆ 3.850627 │\n",
       "│ of        ┆ aa2c-4ae3 ┆           ┆ — Eldrazi ┆   ┆           ┆ ,         ┆           ┆          │\n",
       "│ Creation  ┆ -846f-df5 ┆           ┆           ┆   ┆           ┆ 0.007766, ┆           ┆          │\n",
       "│           ┆ 23c…      ┆           ┆           ┆   ┆           ┆ …         ┆           ┆          │\n",
       "│           ┆           ┆           ┆           ┆   ┆           ┆ 0.02487…  ┆           ┆          │\n",
       "└───────────┴───────────┴───────────┴───────────┴───┴───────────┴───────────┴───────────┴──────────┘"
      ]
     },
     "execution_count": 11,
     "metadata": {},
     "output_type": "execute_result"
    }
   ],
   "source": [
    "get_similar_cards(\"Emrakul, the Aeons Torn\")"
   ]
  },
  {
   "cell_type": "code",
   "execution_count": 12,
   "metadata": {},
   "outputs": [
    {
     "name": "stdout",
     "output_type": "stream",
     "text": [
      "[0.9999999  0.89633185 0.88576704 0.88041794 0.8735979  0.84665275\n",
      " 0.8397513  0.83841306 0.8325117  0.8297233 ]\n"
     ]
    },
    {
     "data": {
      "text/html": [
       "<div><style>\n",
       ".dataframe > thead > tr,\n",
       ".dataframe > tbody > tr {\n",
       "  text-align: right;\n",
       "  white-space: pre-wrap;\n",
       "}\n",
       "</style>\n",
       "<small>shape: (10, 13)</small><table border=\"1\" class=\"dataframe\"><thead><tr><th>name</th><th>scryfallId</th><th>manaCost</th><th>type</th><th>text</th><th>power</th><th>toughness</th><th>loyalty</th><th>rarities</th><th>sets</th><th>embedding</th><th>x_2d</th><th>y_2d</th></tr><tr><td>str</td><td>str</td><td>str</td><td>str</td><td>str</td><td>str</td><td>str</td><td>str</td><td>list[enum]</td><td>list[enum]</td><td>array[f32, 768]</td><td>f32</td><td>f32</td></tr></thead><tbody><tr><td>&quot;Lightning Helix&quot;</td><td>&quot;4101e3fe-b0e7-4f0f-b9ac-9b61a4…</td><td>&quot;{R}{W}&quot;</td><td>&quot;Instant&quot;</td><td>&quot;~ deals 3 damage to any target…</td><td>null</td><td>null</td><td>null</td><td>[&quot;uncommon&quot;, &quot;rare&quot;]</td><td>[&quot;PRM&quot;, &quot;RAV&quot;, … &quot;MKM&quot;]</td><td>[0.00352, -0.043314, … 0.013035]</td><td>3.356304</td><td>-2.39652</td></tr><tr><td>&quot;Warleader&#x27;s Helix&quot;</td><td>&quot;989f8049-c4d2-4729-b35f-7bd7d8…</td><td>&quot;{2}{R}{W}&quot;</td><td>&quot;Instant&quot;</td><td>&quot;~ deals 4 damage to any target…</td><td>null</td><td>null</td><td>null</td><td>[&quot;uncommon&quot;, &quot;rare&quot;]</td><td>[&quot;PRM&quot;, &quot;DGM&quot;, … &quot;UMA&quot;]</td><td>[-0.0187, -0.041273, … 0.025631]</td><td>3.303886</td><td>-2.263169</td></tr><tr><td>&quot;Lightning Bolt&quot;</td><td>&quot;77c6fa74-5543-42ac-9ead-0e890b…</td><td>&quot;{R}&quot;</td><td>&quot;Instant&quot;</td><td>&quot;~ deals 3 damage to any target…</td><td>null</td><td>null</td><td>null</td><td>[&quot;common&quot;, &quot;uncommon&quot;, … &quot;special&quot;]</td><td>[&quot;LEA&quot;, &quot;LEB&quot;, … &quot;CLU&quot;]</td><td>[0.006573, -0.00919, … 0.027299]</td><td>3.369637</td><td>-2.466973</td></tr><tr><td>&quot;Lightning Blast&quot;</td><td>&quot;2ca1ead8-44d8-406f-af36-276f41…</td><td>&quot;{3}{R}&quot;</td><td>&quot;Instant&quot;</td><td>&quot;~ deals 4 damage to any target…</td><td>null</td><td>null</td><td>null</td><td>[&quot;common&quot;, &quot;uncommon&quot;]</td><td>[&quot;TMP&quot;, &quot;6ED&quot;, … &quot;TPR&quot;]</td><td>[0.006088, -0.00564, … 0.021717]</td><td>3.380707</td><td>-2.454091</td></tr><tr><td>&quot;Lightning Strike&quot;</td><td>&quot;30077b49-b825-4dbb-a0c7-f3992f…</td><td>&quot;{1}{R}&quot;</td><td>&quot;Instant&quot;</td><td>&quot;~ deals 3 damage to any target…</td><td>null</td><td>null</td><td>null</td><td>[&quot;common&quot;, &quot;uncommon&quot;, &quot;rare&quot;]</td><td>[&quot;THS&quot;, &quot;M15&quot;, … &quot;DFT&quot;]</td><td>[0.029171, -0.009553, … 0.025874]</td><td>3.303467</td><td>-2.439748</td></tr><tr><td>&quot;Psionic Blast&quot;</td><td>&quot;5d164617-f8da-4033-b2a5-9659a0…</td><td>&quot;{2}{U}&quot;</td><td>&quot;Instant&quot;</td><td>&quot;~ deals 4 damage to any target…</td><td>null</td><td>null</td><td>null</td><td>[&quot;uncommon&quot;, &quot;rare&quot;, &quot;special&quot;]</td><td>[&quot;LEA&quot;, &quot;LEB&quot;, … &quot;30A&quot;]</td><td>[-0.000408, -0.019416, … 0.030333]</td><td>3.381729</td><td>-2.432805</td></tr><tr><td>&quot;Lightning Volley&quot;</td><td>&quot;b2af8746-033d-4a8a-b62d-ab5add…</td><td>&quot;{3}{R}&quot;</td><td>&quot;Instant&quot;</td><td>&quot;Until end of turn, creatures y…</td><td>null</td><td>null</td><td>null</td><td>[&quot;uncommon&quot;]</td><td>[&quot;BNG&quot;]</td><td>[-0.003339, -0.027224, … 0.009653]</td><td>3.266098</td><td>-2.45284</td></tr><tr><td>&quot;Homing Lightning&quot;</td><td>&quot;00bca3e9-43c9-4647-8259-00580c…</td><td>&quot;{2}{R}{R}&quot;</td><td>&quot;Instant&quot;</td><td>&quot;~ deals 4 damage to target cre…</td><td>null</td><td>null</td><td>null</td><td>[&quot;uncommon&quot;]</td><td>[&quot;GTC&quot;, &quot;JMP&quot;, &quot;RVR&quot;]</td><td>[-0.026515, -0.005376, … 0.028271]</td><td>3.272842</td><td>-2.469674</td></tr><tr><td>&quot;Foundry Helix&quot;</td><td>&quot;9c54b7c6-f94c-4349-8725-319c54…</td><td>&quot;{1}{R}{W}&quot;</td><td>&quot;Instant&quot;</td><td>&quot;As an additional cost to cast …</td><td>null</td><td>null</td><td>null</td><td>[&quot;common&quot;]</td><td>[&quot;MH2&quot;]</td><td>[0.002762, -0.062268, … 0.031763]</td><td>3.241142</td><td>-1.086259</td></tr><tr><td>&quot;Arc Lightning&quot;</td><td>&quot;c96acf23-66d9-465e-8534-8bdcd7…</td><td>&quot;{2}{R}&quot;</td><td>&quot;Sorcery&quot;</td><td>&quot;~ deals 3 damage divided as yo…</td><td>null</td><td>null</td><td>null</td><td>[&quot;common&quot;, &quot;uncommon&quot;, &quot;rare&quot;]</td><td>[&quot;USG&quot;, &quot;WC99&quot;, … &quot;PLST&quot;]</td><td>[0.023372, 0.041906, … 0.018309]</td><td>3.391602</td><td>-2.3485</td></tr></tbody></table></div>"
      ],
      "text/plain": [
       "shape: (10, 13)\n",
       "┌────────────┬────────────┬───────────┬─────────┬───┬───────────┬───────────┬──────────┬───────────┐\n",
       "│ name       ┆ scryfallId ┆ manaCost  ┆ type    ┆ … ┆ sets      ┆ embedding ┆ x_2d     ┆ y_2d      │\n",
       "│ ---        ┆ ---        ┆ ---       ┆ ---     ┆   ┆ ---       ┆ ---       ┆ ---      ┆ ---       │\n",
       "│ str        ┆ str        ┆ str       ┆ str     ┆   ┆ list[enum ┆ array[f32 ┆ f32      ┆ f32       │\n",
       "│            ┆            ┆           ┆         ┆   ┆ ]         ┆ , 768]    ┆          ┆           │\n",
       "╞════════════╪════════════╪═══════════╪═════════╪═══╪═══════════╪═══════════╪══════════╪═══════════╡\n",
       "│ Lightning  ┆ 4101e3fe-b ┆ {R}{W}    ┆ Instant ┆ … ┆ [\"PRM\",   ┆ [0.00352, ┆ 3.356304 ┆ -2.39652  │\n",
       "│ Helix      ┆ 0e7-4f0f-b ┆           ┆         ┆   ┆ \"RAV\", …  ┆ -0.043314 ┆          ┆           │\n",
       "│            ┆ 9ac-9b61a4 ┆           ┆         ┆   ┆ \"MKM\"]    ┆ , …       ┆          ┆           │\n",
       "│            ┆ …          ┆           ┆         ┆   ┆           ┆ 0.01303…  ┆          ┆           │\n",
       "│ Warleader' ┆ 989f8049-c ┆ {2}{R}{W} ┆ Instant ┆ … ┆ [\"PRM\",   ┆ [-0.0187, ┆ 3.303886 ┆ -2.263169 │\n",
       "│ s Helix    ┆ 4d2-4729-b ┆           ┆         ┆   ┆ \"DGM\", …  ┆ -0.041273 ┆          ┆           │\n",
       "│            ┆ 35f-7bd7d8 ┆           ┆         ┆   ┆ \"UMA\"]    ┆ , …       ┆          ┆           │\n",
       "│            ┆ …          ┆           ┆         ┆   ┆           ┆ 0.02563…  ┆          ┆           │\n",
       "│ Lightning  ┆ 77c6fa74-5 ┆ {R}       ┆ Instant ┆ … ┆ [\"LEA\",   ┆ [0.006573 ┆ 3.369637 ┆ -2.466973 │\n",
       "│ Bolt       ┆ 543-42ac-9 ┆           ┆         ┆   ┆ \"LEB\", …  ┆ ,         ┆          ┆           │\n",
       "│            ┆ ead-0e890b ┆           ┆         ┆   ┆ \"CLU\"]    ┆ -0.00919, ┆          ┆           │\n",
       "│            ┆ …          ┆           ┆         ┆   ┆           ┆ …         ┆          ┆           │\n",
       "│            ┆            ┆           ┆         ┆   ┆           ┆ 0.02729…  ┆          ┆           │\n",
       "│ Lightning  ┆ 2ca1ead8-4 ┆ {3}{R}    ┆ Instant ┆ … ┆ [\"TMP\",   ┆ [0.006088 ┆ 3.380707 ┆ -2.454091 │\n",
       "│ Blast      ┆ 4d8-406f-a ┆           ┆         ┆   ┆ \"6ED\", …  ┆ ,         ┆          ┆           │\n",
       "│            ┆ f36-276f41 ┆           ┆         ┆   ┆ \"TPR\"]    ┆ -0.00564, ┆          ┆           │\n",
       "│            ┆ …          ┆           ┆         ┆   ┆           ┆ …         ┆          ┆           │\n",
       "│            ┆            ┆           ┆         ┆   ┆           ┆ 0.02171…  ┆          ┆           │\n",
       "│ Lightning  ┆ 30077b49-b ┆ {1}{R}    ┆ Instant ┆ … ┆ [\"THS\",   ┆ [0.029171 ┆ 3.303467 ┆ -2.439748 │\n",
       "│ Strike     ┆ 825-4dbb-a ┆           ┆         ┆   ┆ \"M15\", …  ┆ , -0.0095 ┆          ┆           │\n",
       "│            ┆ 0c7-f3992f ┆           ┆         ┆   ┆ \"DFT\"]    ┆ 53, …     ┆          ┆           │\n",
       "│            ┆ …          ┆           ┆         ┆   ┆           ┆ 0.0258…   ┆          ┆           │\n",
       "│ Psionic    ┆ 5d164617-f ┆ {2}{U}    ┆ Instant ┆ … ┆ [\"LEA\",   ┆ [-0.00040 ┆ 3.381729 ┆ -2.432805 │\n",
       "│ Blast      ┆ 8da-4033-b ┆           ┆         ┆   ┆ \"LEB\", …  ┆ 8, -0.019 ┆          ┆           │\n",
       "│            ┆ 2a5-9659a0 ┆           ┆         ┆   ┆ \"30A\"]    ┆ 416, …    ┆          ┆           │\n",
       "│            ┆ …          ┆           ┆         ┆   ┆           ┆ 0.030…    ┆          ┆           │\n",
       "│ Lightning  ┆ b2af8746-0 ┆ {3}{R}    ┆ Instant ┆ … ┆ [\"BNG\"]   ┆ [-0.00333 ┆ 3.266098 ┆ -2.45284  │\n",
       "│ Volley     ┆ 33d-4a8a-b ┆           ┆         ┆   ┆           ┆ 9, -0.027 ┆          ┆           │\n",
       "│            ┆ 62d-ab5add ┆           ┆         ┆   ┆           ┆ 224, …    ┆          ┆           │\n",
       "│            ┆ …          ┆           ┆         ┆   ┆           ┆ 0.009…    ┆          ┆           │\n",
       "│ Homing     ┆ 00bca3e9-4 ┆ {2}{R}{R} ┆ Instant ┆ … ┆ [\"GTC\",   ┆ [-0.02651 ┆ 3.272842 ┆ -2.469674 │\n",
       "│ Lightning  ┆ 3c9-4647-8 ┆           ┆         ┆   ┆ \"JMP\",    ┆ 5, -0.005 ┆          ┆           │\n",
       "│            ┆ 259-00580c ┆           ┆         ┆   ┆ \"RVR\"]    ┆ 376, …    ┆          ┆           │\n",
       "│            ┆ …          ┆           ┆         ┆   ┆           ┆ 0.028…    ┆          ┆           │\n",
       "│ Foundry    ┆ 9c54b7c6-f ┆ {1}{R}{W} ┆ Instant ┆ … ┆ [\"MH2\"]   ┆ [0.002762 ┆ 3.241142 ┆ -1.086259 │\n",
       "│ Helix      ┆ 94c-4349-8 ┆           ┆         ┆   ┆           ┆ , -0.0622 ┆          ┆           │\n",
       "│            ┆ 725-319c54 ┆           ┆         ┆   ┆           ┆ 68, …     ┆          ┆           │\n",
       "│            ┆ …          ┆           ┆         ┆   ┆           ┆ 0.0317…   ┆          ┆           │\n",
       "│ Arc        ┆ c96acf23-6 ┆ {2}{R}    ┆ Sorcery ┆ … ┆ [\"USG\",   ┆ [0.023372 ┆ 3.391602 ┆ -2.3485   │\n",
       "│ Lightning  ┆ 6d9-465e-8 ┆           ┆         ┆   ┆ \"WC99\", … ┆ ,         ┆          ┆           │\n",
       "│            ┆ 534-8bdcd7 ┆           ┆         ┆   ┆ \"PLST\"]   ┆ 0.041906, ┆          ┆           │\n",
       "│            ┆ …          ┆           ┆         ┆   ┆           ┆ …         ┆          ┆           │\n",
       "│            ┆            ┆           ┆         ┆   ┆           ┆ 0.01830…  ┆          ┆           │\n",
       "└────────────┴────────────┴───────────┴─────────┴───┴───────────┴───────────┴──────────┴───────────┘"
      ]
     },
     "execution_count": 12,
     "metadata": {},
     "output_type": "execute_result"
    }
   ],
   "source": [
    "get_similar_cards(\"Lightning Helix\")"
   ]
  },
  {
   "cell_type": "markdown",
   "metadata": {},
   "source": [
    "## Parametric Filters\n"
   ]
  },
  {
   "cell_type": "code",
   "execution_count": 13,
   "metadata": {},
   "outputs": [],
   "source": [
    "def get_similar_cards_filtered(\n",
    "    card_name, mana=None, card_type=None, text_partial=None, set_card=None\n",
    "):\n",
    "    query_embed = (\n",
    "        df.filter(pl.col(\"name\") == card_name)[\"embedding\"].to_numpy(allow_copy=False)\n",
    "    )[0]\n",
    "\n",
    "    embed_f = df.lazy()\n",
    "\n",
    "    if mana:\n",
    "        embed_f = embed_f.filter(pl.col(\"manaCost\").str.contains(mana, literal=True))\n",
    "    if card_type:\n",
    "        embed_f = embed_f.filter(pl.col(\"type\").str.contains(card_type, literal=True))\n",
    "    if text_partial:\n",
    "        embed_f = embed_f.filter(\n",
    "            pl.col(\"text\").str.contains(text_partial, literal=True)\n",
    "        )\n",
    "    if set_card:\n",
    "        embed_f = embed_f.filter(pl.col(\"sets\").list.contains(set_card))\n",
    "\n",
    "    embed_f = embed_f.collect()\n",
    "    embeddings_f = embed_f[\"embedding\"].to_numpy(allow_copy=False)\n",
    "\n",
    "    idx, score = fast_dot_product(query_embed, embeddings_f, k=9 + 1)\n",
    "    print(score)\n",
    "    return embed_f[idx]"
   ]
  },
  {
   "cell_type": "code",
   "execution_count": 14,
   "metadata": {},
   "outputs": [
    {
     "name": "stdout",
     "output_type": "stream",
     "text": [
      "[0.8249219  0.8232901  0.8232512  0.80091614 0.79994565 0.7934875\n",
      " 0.7919846  0.7915268  0.7891999  0.7890878 ]\n"
     ]
    },
    {
     "data": {
      "text/html": [
       "<div><style>\n",
       ".dataframe > thead > tr,\n",
       ".dataframe > tbody > tr {\n",
       "  text-align: right;\n",
       "  white-space: pre-wrap;\n",
       "}\n",
       "</style>\n",
       "<small>shape: (10, 13)</small><table border=\"1\" class=\"dataframe\"><thead><tr><th>name</th><th>scryfallId</th><th>manaCost</th><th>type</th><th>text</th><th>power</th><th>toughness</th><th>loyalty</th><th>rarities</th><th>sets</th><th>embedding</th><th>x_2d</th><th>y_2d</th></tr><tr><td>str</td><td>str</td><td>str</td><td>str</td><td>str</td><td>str</td><td>str</td><td>str</td><td>list[enum]</td><td>list[enum]</td><td>array[f32, 768]</td><td>f32</td><td>f32</td></tr></thead><tbody><tr><td>&quot;Dark Nourishment&quot;</td><td>&quot;053c4cf0-992b-4f76-b8d1-cd67f8…</td><td>&quot;{4}{B}&quot;</td><td>&quot;Instant&quot;</td><td>&quot;~ deals 3 damage to any target…</td><td>null</td><td>null</td><td>null</td><td>[&quot;uncommon&quot;]</td><td>[&quot;XLN&quot;]</td><td>[-0.03936, -0.022814, … 0.028172]</td><td>2.76619</td><td>-1.868859</td></tr><tr><td>&quot;Smiting Helix&quot;</td><td>&quot;07c17401-6b4d-4280-8962-46e380…</td><td>&quot;{3}{B}&quot;</td><td>&quot;Sorcery&quot;</td><td>&quot;~ deals 3 damage to any target…</td><td>null</td><td>null</td><td>null</td><td>[&quot;uncommon&quot;]</td><td>[&quot;MH1&quot;, &quot;PLST&quot;]</td><td>[0.0128, -0.047327, … 0.002843]</td><td>3.766129</td><td>-0.332753</td></tr><tr><td>&quot;Essence Extraction&quot;</td><td>&quot;5f7d9c6a-ddd9-4391-b229-d9cf20…</td><td>&quot;{1}{B}{B}&quot;</td><td>&quot;Instant&quot;</td><td>&quot;~ deals 3 damage to target cre…</td><td>null</td><td>null</td><td>null</td><td>[&quot;uncommon&quot;]</td><td>[&quot;PRM&quot;, &quot;PKLD&quot;, … &quot;KLR&quot;]</td><td>[0.018076, -0.025318, … 0.007932]</td><td>2.684898</td><td>-1.84961</td></tr><tr><td>&quot;Agonizing Syphon&quot;</td><td>&quot;83053171-6ee4-43ca-98a7-042139…</td><td>&quot;{3}{B}&quot;</td><td>&quot;Sorcery&quot;</td><td>&quot;~ deals 3 damage to any target…</td><td>null</td><td>null</td><td>null</td><td>[&quot;common&quot;]</td><td>[&quot;M20&quot;, &quot;JMP&quot;, &quot;J25&quot;]</td><td>[-0.004142, 0.0115, … 0.034981]</td><td>3.2421875</td><td>-2.251561</td></tr><tr><td>&quot;Breath of Malfegor&quot;</td><td>&quot;0e855b4e-71c3-49b8-acd5-e509b1…</td><td>&quot;{3}{B}{R}&quot;</td><td>&quot;Instant&quot;</td><td>&quot;~ deals 5 damage to each oppon…</td><td>null</td><td>null</td><td>null</td><td>[&quot;common&quot;, &quot;rare&quot;]</td><td>[&quot;ARB&quot;, &quot;PIDW&quot;, &quot;SCD&quot;]</td><td>[-0.033817, -0.008568, … -0.006065]</td><td>3.186935</td><td>-2.356942</td></tr><tr><td>&quot;Infernal Grasp&quot;</td><td>&quot;f1168f11-759d-4125-800f-f18816…</td><td>&quot;{1}{B}&quot;</td><td>&quot;Instant&quot;</td><td>&quot;Destroy target creature. You l…</td><td>null</td><td>null</td><td>null</td><td>[&quot;uncommon&quot;, &quot;rare&quot;]</td><td>[&quot;MID&quot;, &quot;DBL&quot;, … &quot;INR&quot;]</td><td>[-0.028088, -0.015734, … 0.044354]</td><td>2.944725</td><td>-1.88598</td></tr><tr><td>&quot;Crackling Doom&quot;</td><td>&quot;a66e5673-e34b-46e8-a0e4-55f3ee…</td><td>&quot;{R}{W}{B}&quot;</td><td>&quot;Instant&quot;</td><td>&quot;~ deals 2 damage to each oppon…</td><td>null</td><td>null</td><td>null</td><td>[&quot;uncommon&quot;, &quot;rare&quot;]</td><td>[&quot;PKTK&quot;, &quot;KTK&quot;, … &quot;2X2&quot;]</td><td>[-0.014599, 0.012679, … 0.021234]</td><td>2.966904</td><td>-1.89264</td></tr><tr><td>&quot;Essence Vortex&quot;</td><td>&quot;fe07e496-5070-4116-a91a-a3bbe1…</td><td>&quot;{1}{U}{B}&quot;</td><td>&quot;Instant&quot;</td><td>&quot;Destroy target creature unless…</td><td>null</td><td>null</td><td>null</td><td>[&quot;uncommon&quot;]</td><td>[&quot;ICE&quot;]</td><td>[0.004628, -0.042412, … 0.037329]</td><td>2.595924</td><td>-1.967153</td></tr><tr><td>&quot;Sorin&#x27;s Thirst&quot;</td><td>&quot;c0dacbb2-21e1-4220-bf43-75a072…</td><td>&quot;{B}{B}&quot;</td><td>&quot;Instant&quot;</td><td>&quot;~ deals 2 damage to target cre…</td><td>null</td><td>null</td><td>null</td><td>[&quot;common&quot;]</td><td>[&quot;M12&quot;, &quot;DDK&quot;, … &quot;M20&quot;]</td><td>[-0.017803, -0.023256, … 0.013626]</td><td>2.866436</td><td>-2.030164</td></tr><tr><td>&quot;Lightning Reaver&quot;</td><td>&quot;24a0860d-d3b9-4a00-a8cb-617bc3…</td><td>&quot;{3}{B}{R}&quot;</td><td>&quot;Creature — Zombie Beast&quot;</td><td>&quot;Haste; fear (This creature can…</td><td>&quot;3&quot;</td><td>&quot;3&quot;</td><td>null</td><td>[&quot;rare&quot;]</td><td>[&quot;ARB&quot;]</td><td>[-0.025082, 0.003786, … 0.01397]</td><td>-0.530998</td><td>1.340365</td></tr></tbody></table></div>"
      ],
      "text/plain": [
       "shape: (10, 13)\n",
       "┌───────────┬───────────┬───────────┬───────────┬───┬───────────┬───────────┬───────────┬──────────┐\n",
       "│ name      ┆ scryfallI ┆ manaCost  ┆ type      ┆ … ┆ sets      ┆ embedding ┆ x_2d      ┆ y_2d     │\n",
       "│ ---       ┆ d         ┆ ---       ┆ ---       ┆   ┆ ---       ┆ ---       ┆ ---       ┆ ---      │\n",
       "│ str       ┆ ---       ┆ str       ┆ str       ┆   ┆ list[enum ┆ array[f32 ┆ f32       ┆ f32      │\n",
       "│           ┆ str       ┆           ┆           ┆   ┆ ]         ┆ , 768]    ┆           ┆          │\n",
       "╞═══════════╪═══════════╪═══════════╪═══════════╪═══╪═══════════╪═══════════╪═══════════╪══════════╡\n",
       "│ Dark Nour ┆ 053c4cf0- ┆ {4}{B}    ┆ Instant   ┆ … ┆ [\"XLN\"]   ┆ [-0.03936 ┆ 2.76619   ┆ -1.86885 │\n",
       "│ ishment   ┆ 992b-4f76 ┆           ┆           ┆   ┆           ┆ , -0.0228 ┆           ┆ 9        │\n",
       "│           ┆ -b8d1-cd6 ┆           ┆           ┆   ┆           ┆ 14, …     ┆           ┆          │\n",
       "│           ┆ 7f8…      ┆           ┆           ┆   ┆           ┆ 0.0281…   ┆           ┆          │\n",
       "│ Smiting   ┆ 07c17401- ┆ {3}{B}    ┆ Sorcery   ┆ … ┆ [\"MH1\",   ┆ [0.0128,  ┆ 3.766129  ┆ -0.33275 │\n",
       "│ Helix     ┆ 6b4d-4280 ┆           ┆           ┆   ┆ \"PLST\"]   ┆ -0.047327 ┆           ┆ 3        │\n",
       "│           ┆ -8962-46e ┆           ┆           ┆   ┆           ┆ , …       ┆           ┆          │\n",
       "│           ┆ 380…      ┆           ┆           ┆   ┆           ┆ 0.002843… ┆           ┆          │\n",
       "│ Essence   ┆ 5f7d9c6a- ┆ {1}{B}{B} ┆ Instant   ┆ … ┆ [\"PRM\",   ┆ [0.018076 ┆ 2.684898  ┆ -1.84961 │\n",
       "│ Extractio ┆ ddd9-4391 ┆           ┆           ┆   ┆ \"PKLD\", … ┆ , -0.0253 ┆           ┆          │\n",
       "│ n         ┆ -b229-d9c ┆           ┆           ┆   ┆ \"KLR\"]    ┆ 18, …     ┆           ┆          │\n",
       "│           ┆ f20…      ┆           ┆           ┆   ┆           ┆ 0.0079…   ┆           ┆          │\n",
       "│ Agonizing ┆ 83053171- ┆ {3}{B}    ┆ Sorcery   ┆ … ┆ [\"M20\",   ┆ [-0.00414 ┆ 3.2421875 ┆ -2.25156 │\n",
       "│ Syphon    ┆ 6ee4-43ca ┆           ┆           ┆   ┆ \"JMP\",    ┆ 2,        ┆           ┆ 1        │\n",
       "│           ┆ -98a7-042 ┆           ┆           ┆   ┆ \"J25\"]    ┆ 0.0115, … ┆           ┆          │\n",
       "│           ┆ 139…      ┆           ┆           ┆   ┆           ┆ 0.034981… ┆           ┆          │\n",
       "│ Breath of ┆ 0e855b4e- ┆ {3}{B}{R} ┆ Instant   ┆ … ┆ [\"ARB\",   ┆ [-0.03381 ┆ 3.186935  ┆ -2.35694 │\n",
       "│ Malfegor  ┆ 71c3-49b8 ┆           ┆           ┆   ┆ \"PIDW\",   ┆ 7, -0.008 ┆           ┆ 2        │\n",
       "│           ┆ -acd5-e50 ┆           ┆           ┆   ┆ \"SCD\"]    ┆ 568, …    ┆           ┆          │\n",
       "│           ┆ 9b1…      ┆           ┆           ┆   ┆           ┆ -0.00…    ┆           ┆          │\n",
       "│ Infernal  ┆ f1168f11- ┆ {1}{B}    ┆ Instant   ┆ … ┆ [\"MID\",   ┆ [-0.02808 ┆ 2.944725  ┆ -1.88598 │\n",
       "│ Grasp     ┆ 759d-4125 ┆           ┆           ┆   ┆ \"DBL\", …  ┆ 8, -0.015 ┆           ┆          │\n",
       "│           ┆ -800f-f18 ┆           ┆           ┆   ┆ \"INR\"]    ┆ 734, …    ┆           ┆          │\n",
       "│           ┆ 816…      ┆           ┆           ┆   ┆           ┆ 0.044…    ┆           ┆          │\n",
       "│ Crackling ┆ a66e5673- ┆ {R}{W}{B} ┆ Instant   ┆ … ┆ [\"PKTK\",  ┆ [-0.01459 ┆ 2.966904  ┆ -1.89264 │\n",
       "│ Doom      ┆ e34b-46e8 ┆           ┆           ┆   ┆ \"KTK\", …  ┆ 9,        ┆           ┆          │\n",
       "│           ┆ -a0e4-55f ┆           ┆           ┆   ┆ \"2X2\"]    ┆ 0.012679, ┆           ┆          │\n",
       "│           ┆ 3ee…      ┆           ┆           ┆   ┆           ┆ … 0.0212… ┆           ┆          │\n",
       "│ Essence   ┆ fe07e496- ┆ {1}{U}{B} ┆ Instant   ┆ … ┆ [\"ICE\"]   ┆ [0.004628 ┆ 2.595924  ┆ -1.96715 │\n",
       "│ Vortex    ┆ 5070-4116 ┆           ┆           ┆   ┆           ┆ , -0.0424 ┆           ┆ 3        │\n",
       "│           ┆ -a91a-a3b ┆           ┆           ┆   ┆           ┆ 12, …     ┆           ┆          │\n",
       "│           ┆ be1…      ┆           ┆           ┆   ┆           ┆ 0.0373…   ┆           ┆          │\n",
       "│ Sorin's   ┆ c0dacbb2- ┆ {B}{B}    ┆ Instant   ┆ … ┆ [\"M12\",   ┆ [-0.01780 ┆ 2.866436  ┆ -2.03016 │\n",
       "│ Thirst    ┆ 21e1-4220 ┆           ┆           ┆   ┆ \"DDK\", …  ┆ 3, -0.023 ┆           ┆ 4        │\n",
       "│           ┆ -bf43-75a ┆           ┆           ┆   ┆ \"M20\"]    ┆ 256, …    ┆           ┆          │\n",
       "│           ┆ 072…      ┆           ┆           ┆   ┆           ┆ 0.013…    ┆           ┆          │\n",
       "│ Lightning ┆ 24a0860d- ┆ {3}{B}{R} ┆ Creature  ┆ … ┆ [\"ARB\"]   ┆ [-0.02508 ┆ -0.530998 ┆ 1.340365 │\n",
       "│ Reaver    ┆ d3b9-4a00 ┆           ┆ — Zombie  ┆   ┆           ┆ 2,        ┆           ┆          │\n",
       "│           ┆ -a8cb-617 ┆           ┆ Beast     ┆   ┆           ┆ 0.003786, ┆           ┆          │\n",
       "│           ┆ bc3…      ┆           ┆           ┆   ┆           ┆ … 0.0139… ┆           ┆          │\n",
       "└───────────┴───────────┴───────────┴───────────┴───┴───────────┴───────────┴───────────┴──────────┘"
      ]
     },
     "execution_count": 14,
     "metadata": {},
     "output_type": "execute_result"
    }
   ],
   "source": [
    "get_similar_cards_filtered(\"Lightning Helix\", mana=\"B\")"
   ]
  },
  {
   "cell_type": "code",
   "execution_count": 15,
   "metadata": {},
   "outputs": [
    {
     "name": "stdout",
     "output_type": "stream",
     "text": [
      "[0.74979234 0.73887795 0.73363006 0.7316178  0.7309016  0.7300727\n",
      " 0.7255196  0.72481143 0.72421175 0.72419316]\n"
     ]
    },
    {
     "data": {
      "text/html": [
       "<div><style>\n",
       ".dataframe > thead > tr,\n",
       ".dataframe > tbody > tr {\n",
       "  text-align: right;\n",
       "  white-space: pre-wrap;\n",
       "}\n",
       "</style>\n",
       "<small>shape: (10, 13)</small><table border=\"1\" class=\"dataframe\"><thead><tr><th>name</th><th>scryfallId</th><th>manaCost</th><th>type</th><th>text</th><th>power</th><th>toughness</th><th>loyalty</th><th>rarities</th><th>sets</th><th>embedding</th><th>x_2d</th><th>y_2d</th></tr><tr><td>str</td><td>str</td><td>str</td><td>str</td><td>str</td><td>str</td><td>str</td><td>str</td><td>list[enum]</td><td>list[enum]</td><td>array[f32, 768]</td><td>f32</td><td>f32</td></tr></thead><tbody><tr><td>&quot;Shizo, Death&#x27;s Storehouse&quot;</td><td>&quot;099352e2-38c8-4fb4-a25f-6d928a…</td><td>null</td><td>&quot;Legendary Land&quot;</td><td>&quot;{T}: Add {B}.\\n{B}, {T}: Targe…</td><td>null</td><td>null</td><td>null</td><td>[&quot;rare&quot;]</td><td>[&quot;CHK&quot;, &quot;PLST&quot;, &quot;DMC&quot;]</td><td>[-0.031217, -0.00993, … 0.018092]</td><td>4.672432</td><td>1.063094</td></tr><tr><td>&quot;Shivan Gorge&quot;</td><td>&quot;c1752b65-dace-4c87-b102-23df27…</td><td>null</td><td>&quot;Legendary Land&quot;</td><td>&quot;{T}: Add {C}.\\n{2}{R}, {T}: ~ …</td><td>null</td><td>null</td><td>null</td><td>[&quot;rare&quot;, &quot;mythic&quot;]</td><td>[&quot;USG&quot;, &quot;V12&quot;, … &quot;DSC&quot;]</td><td>[-0.01078, 0.013516, … 0.006521]</td><td>4.975822</td><td>1.05302</td></tr><tr><td>&quot;Maze of Ith&quot;</td><td>&quot;7286bd95-0d8e-4b1a-b319-052fe2…</td><td>null</td><td>&quot;Land&quot;</td><td>&quot;{T}: Untap target attacking cr…</td><td>null</td><td>null</td><td>null</td><td>[&quot;uncommon&quot;, &quot;rare&quot;, &quot;mythic&quot;]</td><td>[&quot;DRK&quot;, &quot;PRM&quot;, … &quot;DMR&quot;]</td><td>[-0.003464, -0.016339, … 0.03483]</td><td>4.463585</td><td>0.447661</td></tr><tr><td>&quot;Tomb of the Spirit Dragon&quot;</td><td>&quot;c5c2da3e-5e82-4236-b866-93bec8…</td><td>null</td><td>&quot;Land&quot;</td><td>&quot;{T}: Add {C}.\\n{2}, {T}: You g…</td><td>null</td><td>null</td><td>null</td><td>[&quot;uncommon&quot;]</td><td>[&quot;KTK&quot;, &quot;CMM&quot;, &quot;M3C&quot;]</td><td>[0.001848, -0.022394, … -0.002454]</td><td>4.815559</td><td>1.12313</td></tr><tr><td>&quot;Shinka, the Bloodsoaked Keep&quot;</td><td>&quot;856c3adc-9fdf-4dd2-85a0-28da47…</td><td>null</td><td>&quot;Legendary Land&quot;</td><td>&quot;{T}: Add {R}.\\n{R}, {T}: Targe…</td><td>null</td><td>null</td><td>null</td><td>[&quot;rare&quot;, &quot;mythic&quot;]</td><td>[&quot;CHK&quot;, &quot;PLST&quot;, &quot;LTC&quot;]</td><td>[-0.012864, 0.011752, … 0.011191]</td><td>4.73938</td><td>1.078242</td></tr><tr><td>&quot;Phyrexia&#x27;s Core&quot;</td><td>&quot;8d8df09f-d22f-4f29-b920-358433…</td><td>null</td><td>&quot;Land&quot;</td><td>&quot;{T}: Add {C}.\\n{1}, {T}, Sacri…</td><td>null</td><td>null</td><td>null</td><td>[&quot;uncommon&quot;]</td><td>[&quot;NPH&quot;, &quot;C14&quot;, … &quot;C21&quot;]</td><td>[0.02227, -0.032976, … 0.007078]</td><td>1.982407</td><td>1.224933</td></tr><tr><td>&quot;Mines of Moria&quot;</td><td>&quot;20f9c167-8593-486f-8e68-bf5a45…</td><td>null</td><td>&quot;Legendary Land&quot;</td><td>&quot;~ enters tapped unless you con…</td><td>null</td><td>null</td><td>null</td><td>[&quot;rare&quot;]</td><td>[&quot;PLTR&quot;, &quot;LTR&quot;]</td><td>[0.014433, -0.018171, … -0.00471]</td><td>4.677994</td><td>1.000854</td></tr><tr><td>&quot;Karakas&quot;</td><td>&quot;d939ad90-b4b6-452d-a318-b8895d…</td><td>null</td><td>&quot;Legendary Land&quot;</td><td>&quot;{T}: Add {W}.\\n{T}: Return tar…</td><td>null</td><td>null</td><td>null</td><td>[&quot;uncommon&quot;, &quot;rare&quot;, &quot;mythic&quot;]</td><td>[&quot;LEG&quot;, &quot;PRM&quot;, … &quot;LTC&quot;]</td><td>[0.01352, 0.023064, … 0.024575]</td><td>4.7901</td><td>1.091319</td></tr><tr><td>&quot;Nivix, Aerie of the Firemind&quot;</td><td>&quot;06d829a9-7403-41e6-b676-cc0997…</td><td>null</td><td>&quot;Land&quot;</td><td>&quot;{T}: Add {C}.\\n{2}{U}{R}, {T}:…</td><td>null</td><td>null</td><td>null</td><td>[&quot;uncommon&quot;]</td><td>[&quot;GPT&quot;, &quot;DDJ&quot;, &quot;PLST&quot;]</td><td>[0.029191, -0.013558, … -0.010428]</td><td>2.320862</td><td>-0.332059</td></tr><tr><td>&quot;Evolving Wilds&quot;</td><td>&quot;860fef67-8a14-4c67-a86f-4dcd68…</td><td>null</td><td>&quot;Land&quot;</td><td>&quot;{T}, Sacrifice this land: Sear…</td><td>null</td><td>null</td><td>null</td><td>[&quot;common&quot;, &quot;rare&quot;]</td><td>[&quot;PRM&quot;, &quot;ROE&quot;, … &quot;DRC&quot;]</td><td>[0.039567, -0.016959, … 0.005998]</td><td>3.650803</td><td>0.351161</td></tr></tbody></table></div>"
      ],
      "text/plain": [
       "shape: (10, 13)\n",
       "┌────────────┬───────────┬──────────┬───────────┬───┬───────────┬───────────┬──────────┬───────────┐\n",
       "│ name       ┆ scryfallI ┆ manaCost ┆ type      ┆ … ┆ sets      ┆ embedding ┆ x_2d     ┆ y_2d      │\n",
       "│ ---        ┆ d         ┆ ---      ┆ ---       ┆   ┆ ---       ┆ ---       ┆ ---      ┆ ---       │\n",
       "│ str        ┆ ---       ┆ str      ┆ str       ┆   ┆ list[enum ┆ array[f32 ┆ f32      ┆ f32       │\n",
       "│            ┆ str       ┆          ┆           ┆   ┆ ]         ┆ , 768]    ┆          ┆           │\n",
       "╞════════════╪═══════════╪══════════╪═══════════╪═══╪═══════════╪═══════════╪══════════╪═══════════╡\n",
       "│ Shizo,     ┆ 099352e2- ┆ null     ┆ Legendary ┆ … ┆ [\"CHK\",   ┆ [-0.03121 ┆ 4.672432 ┆ 1.063094  │\n",
       "│ Death's    ┆ 38c8-4fb4 ┆          ┆ Land      ┆   ┆ \"PLST\",   ┆ 7,        ┆          ┆           │\n",
       "│ Storehouse ┆ -a25f-6d9 ┆          ┆           ┆   ┆ \"DMC\"]    ┆ -0.00993, ┆          ┆           │\n",
       "│            ┆ 28a…      ┆          ┆           ┆   ┆           ┆ … 0.0180… ┆          ┆           │\n",
       "│ Shivan     ┆ c1752b65- ┆ null     ┆ Legendary ┆ … ┆ [\"USG\",   ┆ [-0.01078 ┆ 4.975822 ┆ 1.05302   │\n",
       "│ Gorge      ┆ dace-4c87 ┆          ┆ Land      ┆   ┆ \"V12\", …  ┆ ,         ┆          ┆           │\n",
       "│            ┆ -b102-23d ┆          ┆           ┆   ┆ \"DSC\"]    ┆ 0.013516, ┆          ┆           │\n",
       "│            ┆ f27…      ┆          ┆           ┆   ┆           ┆ …         ┆          ┆           │\n",
       "│            ┆           ┆          ┆           ┆   ┆           ┆ 0.00652…  ┆          ┆           │\n",
       "│ Maze of    ┆ 7286bd95- ┆ null     ┆ Land      ┆ … ┆ [\"DRK\",   ┆ [-0.00346 ┆ 4.463585 ┆ 0.447661  │\n",
       "│ Ith        ┆ 0d8e-4b1a ┆          ┆           ┆   ┆ \"PRM\", …  ┆ 4, -0.016 ┆          ┆           │\n",
       "│            ┆ -b319-052 ┆          ┆           ┆   ┆ \"DMR\"]    ┆ 339, …    ┆          ┆           │\n",
       "│            ┆ fe2…      ┆          ┆           ┆   ┆           ┆ 0.034…    ┆          ┆           │\n",
       "│ Tomb of    ┆ c5c2da3e- ┆ null     ┆ Land      ┆ … ┆ [\"KTK\",   ┆ [0.001848 ┆ 4.815559 ┆ 1.12313   │\n",
       "│ the Spirit ┆ 5e82-4236 ┆          ┆           ┆   ┆ \"CMM\",    ┆ , -0.0223 ┆          ┆           │\n",
       "│ Dragon     ┆ -b866-93b ┆          ┆           ┆   ┆ \"M3C\"]    ┆ 94, …     ┆          ┆           │\n",
       "│            ┆ ec8…      ┆          ┆           ┆   ┆           ┆ -0.002…   ┆          ┆           │\n",
       "│ Shinka,    ┆ 856c3adc- ┆ null     ┆ Legendary ┆ … ┆ [\"CHK\",   ┆ [-0.01286 ┆ 4.73938  ┆ 1.078242  │\n",
       "│ the Bloods ┆ 9fdf-4dd2 ┆          ┆ Land      ┆   ┆ \"PLST\",   ┆ 4,        ┆          ┆           │\n",
       "│ oaked Keep ┆ -85a0-28d ┆          ┆           ┆   ┆ \"LTC\"]    ┆ 0.011752, ┆          ┆           │\n",
       "│            ┆ a47…      ┆          ┆           ┆   ┆           ┆ … 0.0111… ┆          ┆           │\n",
       "│ Phyrexia's ┆ 8d8df09f- ┆ null     ┆ Land      ┆ … ┆ [\"NPH\",   ┆ [0.02227, ┆ 1.982407 ┆ 1.224933  │\n",
       "│ Core       ┆ d22f-4f29 ┆          ┆           ┆   ┆ \"C14\", …  ┆ -0.032976 ┆          ┆           │\n",
       "│            ┆ -b920-358 ┆          ┆           ┆   ┆ \"C21\"]    ┆ , …       ┆          ┆           │\n",
       "│            ┆ 433…      ┆          ┆           ┆   ┆           ┆ 0.00707…  ┆          ┆           │\n",
       "│ Mines of   ┆ 20f9c167- ┆ null     ┆ Legendary ┆ … ┆ [\"PLTR\",  ┆ [0.014433 ┆ 4.677994 ┆ 1.000854  │\n",
       "│ Moria      ┆ 8593-486f ┆          ┆ Land      ┆   ┆ \"LTR\"]    ┆ , -0.0181 ┆          ┆           │\n",
       "│            ┆ -8e68-bf5 ┆          ┆           ┆   ┆           ┆ 71, …     ┆          ┆           │\n",
       "│            ┆ a45…      ┆          ┆           ┆   ┆           ┆ -0.004…   ┆          ┆           │\n",
       "│ Karakas    ┆ d939ad90- ┆ null     ┆ Legendary ┆ … ┆ [\"LEG\",   ┆ [0.01352, ┆ 4.7901   ┆ 1.091319  │\n",
       "│            ┆ b4b6-452d ┆          ┆ Land      ┆   ┆ \"PRM\", …  ┆ 0.023064, ┆          ┆           │\n",
       "│            ┆ -a318-b88 ┆          ┆           ┆   ┆ \"LTC\"]    ┆ …         ┆          ┆           │\n",
       "│            ┆ 95d…      ┆          ┆           ┆   ┆           ┆ 0.024575… ┆          ┆           │\n",
       "│ Nivix,     ┆ 06d829a9- ┆ null     ┆ Land      ┆ … ┆ [\"GPT\",   ┆ [0.029191 ┆ 2.320862 ┆ -0.332059 │\n",
       "│ Aerie of   ┆ 7403-41e6 ┆          ┆           ┆   ┆ \"DDJ\",    ┆ , -0.0135 ┆          ┆           │\n",
       "│ the        ┆ -b676-cc0 ┆          ┆           ┆   ┆ \"PLST\"]   ┆ 58, …     ┆          ┆           │\n",
       "│ Firemind   ┆ 997…      ┆          ┆           ┆   ┆           ┆ -0.010…   ┆          ┆           │\n",
       "│ Evolving   ┆ 860fef67- ┆ null     ┆ Land      ┆ … ┆ [\"PRM\",   ┆ [0.039567 ┆ 3.650803 ┆ 0.351161  │\n",
       "│ Wilds      ┆ 8a14-4c67 ┆          ┆           ┆   ┆ \"ROE\", …  ┆ , -0.0169 ┆          ┆           │\n",
       "│            ┆ -a86f-4dc ┆          ┆           ┆   ┆ \"DRC\"]    ┆ 59, …     ┆          ┆           │\n",
       "│            ┆ d68…      ┆          ┆           ┆   ┆           ┆ 0.0059…   ┆          ┆           │\n",
       "└────────────┴───────────┴──────────┴───────────┴───┴───────────┴───────────┴──────────┴───────────┘"
      ]
     },
     "execution_count": 15,
     "metadata": {},
     "output_type": "execute_result"
    }
   ],
   "source": [
    "get_similar_cards_filtered(\"Lightning Helix\", card_type=\"Land\")"
   ]
  },
  {
   "cell_type": "code",
   "execution_count": 16,
   "metadata": {},
   "outputs": [
    {
     "name": "stdout",
     "output_type": "stream",
     "text": [
      "[0.7735567  0.7605014  0.759132   0.7559642  0.7552623  0.7530186\n",
      " 0.75256574 0.74920845 0.74920356 0.74728835]\n"
     ]
    },
    {
     "data": {
      "text/html": [
       "<div><style>\n",
       ".dataframe > thead > tr,\n",
       ".dataframe > tbody > tr {\n",
       "  text-align: right;\n",
       "  white-space: pre-wrap;\n",
       "}\n",
       "</style>\n",
       "<small>shape: (10, 13)</small><table border=\"1\" class=\"dataframe\"><thead><tr><th>name</th><th>scryfallId</th><th>manaCost</th><th>type</th><th>text</th><th>power</th><th>toughness</th><th>loyalty</th><th>rarities</th><th>sets</th><th>embedding</th><th>x_2d</th><th>y_2d</th></tr><tr><td>str</td><td>str</td><td>str</td><td>str</td><td>str</td><td>str</td><td>str</td><td>str</td><td>list[enum]</td><td>list[enum]</td><td>array[f32, 768]</td><td>f32</td><td>f32</td></tr></thead><tbody><tr><td>&quot;Brute Force&quot;</td><td>&quot;89db7256-3bd0-4c1d-9c6f-de81f7…</td><td>&quot;{R}&quot;</td><td>&quot;Instant&quot;</td><td>&quot;Target creature gets +3/+3 unt…</td><td>null</td><td>null</td><td>null</td><td>[&quot;common&quot;]</td><td>[&quot;PLC&quot;, &quot;MMA&quot;, … &quot;TSR&quot;]</td><td>[-0.01014, -0.021104, … 0.016195]</td><td>2.08247</td><td>-1.806256</td></tr><tr><td>&quot;Impending Doom&quot;</td><td>&quot;b813e554-12ea-4675-bc90-f161f8…</td><td>&quot;{2}{R}&quot;</td><td>&quot;Enchantment — Aura&quot;</td><td>&quot;Enchant creature\\nEnchanted cr…</td><td>null</td><td>null</td><td>null</td><td>[&quot;uncommon&quot;]</td><td>[&quot;THB&quot;, &quot;J22&quot;]</td><td>[-0.005774, 0.005421, … 0.008741]</td><td>1.424835</td><td>-2.948777</td></tr><tr><td>&quot;Gift of Strength&quot;</td><td>&quot;bc69887e-0b7b-4ffe-8f56-0b8486…</td><td>&quot;{1}{G}&quot;</td><td>&quot;Instant&quot;</td><td>&quot;Target creature gets +3/+3 and…</td><td>null</td><td>null</td><td>null</td><td>[&quot;common&quot;]</td><td>[&quot;HOU&quot;, &quot;RNA&quot;, … &quot;CLU&quot;]</td><td>[0.030969, -0.01892, … 0.02959]</td><td>2.145508</td><td>-2.058766</td></tr><tr><td>&quot;Darigaaz&#x27;s Charm&quot;</td><td>&quot;928af23d-1558-4d20-8841-554a32…</td><td>&quot;{B}{R}{G}&quot;</td><td>&quot;Instant&quot;</td><td>&quot;Choose one —\\n• Return target …</td><td>null</td><td>null</td><td>null</td><td>[&quot;uncommon&quot;]</td><td>[&quot;PLS&quot;, &quot;PSAL&quot;, &quot;DDE&quot;]</td><td>[-0.007964, -0.02024, … -0.004281]</td><td>1.860611</td><td>-1.287389</td></tr><tr><td>&quot;Immolation Shaman&quot;</td><td>&quot;45e668e5-ef50-43eb-852e-b11137…</td><td>&quot;{1}{R}&quot;</td><td>&quot;Creature — Lizard Shaman&quot;</td><td>&quot;Whenever an opponent activates…</td><td>&quot;1&quot;</td><td>&quot;3&quot;</td><td>null</td><td>[&quot;rare&quot;]</td><td>[&quot;PRNA&quot;, &quot;RNA&quot;]</td><td>[-0.019602, 0.005311, … 0.035703]</td><td>-1.924088</td><td>0.362151</td></tr><tr><td>&quot;Vexing Beetle&quot;</td><td>&quot;d599d35f-1b73-498b-9a21-831c90…</td><td>&quot;{4}{G}&quot;</td><td>&quot;Creature — Insect&quot;</td><td>&quot;This spell can&#x27;t be countered.…</td><td>&quot;3&quot;</td><td>&quot;3&quot;</td><td>null</td><td>[&quot;rare&quot;]</td><td>[&quot;LGN&quot;]</td><td>[0.004601, -0.038531, … 0.014575]</td><td>-0.769348</td><td>2.450686</td></tr><tr><td>&quot;Simic Charm&quot;</td><td>&quot;0fc5df7c-6620-4a37-8869-e5d6bc…</td><td>&quot;{G}{U}&quot;</td><td>&quot;Instant&quot;</td><td>&quot;Choose one —\\n• Target creatur…</td><td>null</td><td>null</td><td>null</td><td>[&quot;uncommon&quot;]</td><td>[&quot;GTC&quot;, &quot;CMR&quot;, &quot;EA3&quot;]</td><td>[0.004474, -0.005419, … 0.023205]</td><td>1.795364</td><td>-1.48972</td></tr><tr><td>&quot;Cylian Sunsinger&quot;</td><td>&quot;90665426-118e-4f0b-8222-1b5166…</td><td>&quot;{1}{G}&quot;</td><td>&quot;Creature — Elf Shaman&quot;</td><td>&quot;{R}{G}{W}: this creature and e…</td><td>&quot;2&quot;</td><td>&quot;2&quot;</td><td>null</td><td>[&quot;rare&quot;]</td><td>[&quot;CON&quot;]</td><td>[-0.017679, -0.000308, … 0.041932]</td><td>-2.475906</td><td>0.312789</td></tr><tr><td>&quot;Bounty of Might&quot;</td><td>&quot;e9a950d8-e6e2-42d6-83d7-a60c15…</td><td>&quot;{4}{G}{G}&quot;</td><td>&quot;Instant&quot;</td><td>&quot;Target creature gets +3/+3 unt…</td><td>null</td><td>null</td><td>null</td><td>[&quot;rare&quot;]</td><td>[&quot;PGRN&quot;, &quot;GRN&quot;]</td><td>[-0.025604, 0.009558, … -0.0016]</td><td>2.337143</td><td>-2.076154</td></tr><tr><td>&quot;Leaden Fists&quot;</td><td>&quot;49427c35-7d24-4047-94f6-070d00…</td><td>&quot;{2}{U}&quot;</td><td>&quot;Enchantment — Aura&quot;</td><td>&quot;Flash (You may cast this spell…</td><td>null</td><td>null</td><td>null</td><td>[&quot;common&quot;]</td><td>[&quot;FUT&quot;, &quot;DMR&quot;]</td><td>[0.025329, 0.002877, … 0.021824]</td><td>1.293198</td><td>-3.59945</td></tr></tbody></table></div>"
      ],
      "text/plain": [
       "shape: (10, 13)\n",
       "┌───────────┬───────────┬───────────┬───────────┬───┬───────────┬───────────┬───────────┬──────────┐\n",
       "│ name      ┆ scryfallI ┆ manaCost  ┆ type      ┆ … ┆ sets      ┆ embedding ┆ x_2d      ┆ y_2d     │\n",
       "│ ---       ┆ d         ┆ ---       ┆ ---       ┆   ┆ ---       ┆ ---       ┆ ---       ┆ ---      │\n",
       "│ str       ┆ ---       ┆ str       ┆ str       ┆   ┆ list[enum ┆ array[f32 ┆ f32       ┆ f32      │\n",
       "│           ┆ str       ┆           ┆           ┆   ┆ ]         ┆ , 768]    ┆           ┆          │\n",
       "╞═══════════╪═══════════╪═══════════╪═══════════╪═══╪═══════════╪═══════════╪═══════════╪══════════╡\n",
       "│ Brute     ┆ 89db7256- ┆ {R}       ┆ Instant   ┆ … ┆ [\"PLC\",   ┆ [-0.01014 ┆ 2.08247   ┆ -1.80625 │\n",
       "│ Force     ┆ 3bd0-4c1d ┆           ┆           ┆   ┆ \"MMA\", …  ┆ , -0.0211 ┆           ┆ 6        │\n",
       "│           ┆ -9c6f-de8 ┆           ┆           ┆   ┆ \"TSR\"]    ┆ 04, …     ┆           ┆          │\n",
       "│           ┆ 1f7…      ┆           ┆           ┆   ┆           ┆ 0.0161…   ┆           ┆          │\n",
       "│ Impending ┆ b813e554- ┆ {2}{R}    ┆ Enchantme ┆ … ┆ [\"THB\",   ┆ [-0.00577 ┆ 1.424835  ┆ -2.94877 │\n",
       "│ Doom      ┆ 12ea-4675 ┆           ┆ nt — Aura ┆   ┆ \"J22\"]    ┆ 4,        ┆           ┆ 7        │\n",
       "│           ┆ -bc90-f16 ┆           ┆           ┆   ┆           ┆ 0.005421, ┆           ┆          │\n",
       "│           ┆ 1f8…      ┆           ┆           ┆   ┆           ┆ … 0.0087… ┆           ┆          │\n",
       "│ Gift of   ┆ bc69887e- ┆ {1}{G}    ┆ Instant   ┆ … ┆ [\"HOU\",   ┆ [0.030969 ┆ 2.145508  ┆ -2.05876 │\n",
       "│ Strength  ┆ 0b7b-4ffe ┆           ┆           ┆   ┆ \"RNA\", …  ┆ ,         ┆           ┆ 6        │\n",
       "│           ┆ -8f56-0b8 ┆           ┆           ┆   ┆ \"CLU\"]    ┆ -0.01892, ┆           ┆          │\n",
       "│           ┆ 486…      ┆           ┆           ┆   ┆           ┆ …         ┆           ┆          │\n",
       "│           ┆           ┆           ┆           ┆   ┆           ┆ 0.02959…  ┆           ┆          │\n",
       "│ Darigaaz' ┆ 928af23d- ┆ {B}{R}{G} ┆ Instant   ┆ … ┆ [\"PLS\",   ┆ [-0.00796 ┆ 1.860611  ┆ -1.28738 │\n",
       "│ s Charm   ┆ 1558-4d20 ┆           ┆           ┆   ┆ \"PSAL\",   ┆ 4,        ┆           ┆ 9        │\n",
       "│           ┆ -8841-554 ┆           ┆           ┆   ┆ \"DDE\"]    ┆ -0.02024, ┆           ┆          │\n",
       "│           ┆ a32…      ┆           ┆           ┆   ┆           ┆ … -0.004… ┆           ┆          │\n",
       "│ Immolatio ┆ 45e668e5- ┆ {1}{R}    ┆ Creature  ┆ … ┆ [\"PRNA\",  ┆ [-0.01960 ┆ -1.924088 ┆ 0.362151 │\n",
       "│ n Shaman  ┆ ef50-43eb ┆           ┆ — Lizard  ┆   ┆ \"RNA\"]    ┆ 2,        ┆           ┆          │\n",
       "│           ┆ -852e-b11 ┆           ┆ Shaman    ┆   ┆           ┆ 0.005311, ┆           ┆          │\n",
       "│           ┆ 137…      ┆           ┆           ┆   ┆           ┆ … 0.0357… ┆           ┆          │\n",
       "│ Vexing    ┆ d599d35f- ┆ {4}{G}    ┆ Creature  ┆ … ┆ [\"LGN\"]   ┆ [0.004601 ┆ -0.769348 ┆ 2.450686 │\n",
       "│ Beetle    ┆ 1b73-498b ┆           ┆ — Insect  ┆   ┆           ┆ , -0.0385 ┆           ┆          │\n",
       "│           ┆ -9a21-831 ┆           ┆           ┆   ┆           ┆ 31, …     ┆           ┆          │\n",
       "│           ┆ c90…      ┆           ┆           ┆   ┆           ┆ 0.0145…   ┆           ┆          │\n",
       "│ Simic     ┆ 0fc5df7c- ┆ {G}{U}    ┆ Instant   ┆ … ┆ [\"GTC\",   ┆ [0.004474 ┆ 1.795364  ┆ -1.48972 │\n",
       "│ Charm     ┆ 6620-4a37 ┆           ┆           ┆   ┆ \"CMR\",    ┆ , -0.0054 ┆           ┆          │\n",
       "│           ┆ -8869-e5d ┆           ┆           ┆   ┆ \"EA3\"]    ┆ 19, …     ┆           ┆          │\n",
       "│           ┆ 6bc…      ┆           ┆           ┆   ┆           ┆ 0.0232…   ┆           ┆          │\n",
       "│ Cylian    ┆ 90665426- ┆ {1}{G}    ┆ Creature  ┆ … ┆ [\"CON\"]   ┆ [-0.01767 ┆ -2.475906 ┆ 0.312789 │\n",
       "│ Sunsinger ┆ 118e-4f0b ┆           ┆ — Elf     ┆   ┆           ┆ 9, -0.000 ┆           ┆          │\n",
       "│           ┆ -8222-1b5 ┆           ┆ Shaman    ┆   ┆           ┆ 308, …    ┆           ┆          │\n",
       "│           ┆ 166…      ┆           ┆           ┆   ┆           ┆ 0.041…    ┆           ┆          │\n",
       "│ Bounty of ┆ e9a950d8- ┆ {4}{G}{G} ┆ Instant   ┆ … ┆ [\"PGRN\",  ┆ [-0.02560 ┆ 2.337143  ┆ -2.07615 │\n",
       "│ Might     ┆ e6e2-42d6 ┆           ┆           ┆   ┆ \"GRN\"]    ┆ 4,        ┆           ┆ 4        │\n",
       "│           ┆ -83d7-a60 ┆           ┆           ┆   ┆           ┆ 0.009558, ┆           ┆          │\n",
       "│           ┆ c15…      ┆           ┆           ┆   ┆           ┆ … -0.001… ┆           ┆          │\n",
       "│ Leaden    ┆ 49427c35- ┆ {2}{U}    ┆ Enchantme ┆ … ┆ [\"FUT\",   ┆ [0.025329 ┆ 1.293198  ┆ -3.59945 │\n",
       "│ Fists     ┆ 7d24-4047 ┆           ┆ nt — Aura ┆   ┆ \"DMR\"]    ┆ ,         ┆           ┆          │\n",
       "│           ┆ -94f6-070 ┆           ┆           ┆   ┆           ┆ 0.002877, ┆           ┆          │\n",
       "│           ┆ d00…      ┆           ┆           ┆   ┆           ┆ …         ┆           ┆          │\n",
       "│           ┆           ┆           ┆           ┆   ┆           ┆ 0.02182…  ┆           ┆          │\n",
       "└───────────┴───────────┴───────────┴───────────┴───┴───────────┴───────────┴───────────┴──────────┘"
      ]
     },
     "execution_count": 16,
     "metadata": {},
     "output_type": "execute_result"
    }
   ],
   "source": [
    "get_similar_cards_filtered(\"Lightning Helix\", text_partial=\"+3/+3\")"
   ]
  },
  {
   "cell_type": "code",
   "execution_count": 17,
   "metadata": {},
   "outputs": [
    {
     "name": "stdout",
     "output_type": "stream",
     "text": [
      "[0.78534925 0.7742315  0.76874685 0.7636391  0.75792456 0.7564788\n",
      " 0.7517221  0.75127804 0.7502606  0.7501647 ]\n"
     ]
    },
    {
     "data": {
      "text/html": [
       "<div><style>\n",
       ".dataframe > thead > tr,\n",
       ".dataframe > tbody > tr {\n",
       "  text-align: right;\n",
       "  white-space: pre-wrap;\n",
       "}\n",
       "</style>\n",
       "<small>shape: (10, 13)</small><table border=\"1\" class=\"dataframe\"><thead><tr><th>name</th><th>scryfallId</th><th>manaCost</th><th>type</th><th>text</th><th>power</th><th>toughness</th><th>loyalty</th><th>rarities</th><th>sets</th><th>embedding</th><th>x_2d</th><th>y_2d</th></tr><tr><td>str</td><td>str</td><td>str</td><td>str</td><td>str</td><td>str</td><td>str</td><td>str</td><td>list[enum]</td><td>list[enum]</td><td>array[f32, 768]</td><td>f32</td><td>f32</td></tr></thead><tbody><tr><td>&quot;Smite the Deathless&quot;</td><td>&quot;8b716fcc-c4cc-4987-be82-2897a9…</td><td>&quot;{1}{R}&quot;</td><td>&quot;Instant&quot;</td><td>&quot;~ deals 3 damage to target cre…</td><td>null</td><td>null</td><td>null</td><td>[&quot;common&quot;]</td><td>[&quot;LTR&quot;]</td><td>[-0.0523, -0.015744, … 0.024882]</td><td>3.118244</td><td>-1.960568</td></tr><tr><td>&quot;Dreadful as the Storm&quot;</td><td>&quot;a9f6b277-8980-4c8b-ba78-c8e974…</td><td>&quot;{2}{U}&quot;</td><td>&quot;Instant&quot;</td><td>&quot;Target creature has base power…</td><td>null</td><td>null</td><td>null</td><td>[&quot;common&quot;]</td><td>[&quot;LTR&quot;]</td><td>[-0.00993, 0.028569, … 0.02716]</td><td>1.123474</td><td>-0.970021</td></tr><tr><td>&quot;Shower of Arrows&quot;</td><td>&quot;92cd3884-18d1-4200-b28e-a52349…</td><td>&quot;{2}{G}&quot;</td><td>&quot;Instant&quot;</td><td>&quot;Destroy target artifact, encha…</td><td>null</td><td>null</td><td>null</td><td>[&quot;common&quot;]</td><td>[&quot;LTR&quot;]</td><td>[-0.021265, 0.03406, … 0.05391]</td><td>3.557625</td><td>-2.125501</td></tr><tr><td>&quot;Slip On the Ring&quot;</td><td>&quot;2e20c2b8-ffe3-4d14-8588-f89719…</td><td>&quot;{1}{W}&quot;</td><td>&quot;Instant&quot;</td><td>&quot;Exile target creature you own,…</td><td>null</td><td>null</td><td>null</td><td>[&quot;common&quot;, &quot;rare&quot;]</td><td>[&quot;SLD&quot;, &quot;LTR&quot;]</td><td>[-0.002004, -0.005893, … 0.015027]</td><td>1.165344</td><td>-0.903714</td></tr><tr><td>&quot;Hobbit&#x27;s Sting&quot;</td><td>&quot;d8876e00-80c9-4228-b5d2-032b61…</td><td>&quot;{1}{W}&quot;</td><td>&quot;Instant&quot;</td><td>&quot;~ deals X damage to target cre…</td><td>null</td><td>null</td><td>null</td><td>[&quot;common&quot;]</td><td>[&quot;LTR&quot;]</td><td>[-0.030971, -0.024776, … 0.02496]</td><td>0.820053</td><td>0.655604</td></tr><tr><td>&quot;Friendly Rivalry&quot;</td><td>&quot;a0979d68-eb28-409a-b893-87d987…</td><td>&quot;{R}{G}&quot;</td><td>&quot;Instant&quot;</td><td>&quot;Target creature you control an…</td><td>null</td><td>null</td><td>null</td><td>[&quot;uncommon&quot;]</td><td>[&quot;LTR&quot;]</td><td>[-0.036519, 0.03123, … 0.008464]</td><td>2.545959</td><td>-2.035501</td></tr><tr><td>&quot;Ranger&#x27;s Firebrand&quot;</td><td>&quot;06541200-fa4c-4b98-bdc4-44708f…</td><td>&quot;{R}&quot;</td><td>&quot;Sorcery&quot;</td><td>&quot;~ deals 2 damage to any target…</td><td>null</td><td>null</td><td>null</td><td>[&quot;uncommon&quot;]</td><td>[&quot;LTR&quot;]</td><td>[0.017506, 0.053088, … 0.02596]</td><td>1.205757</td><td>-1.25929</td></tr><tr><td>&quot;Witch-king of Angmar&quot;</td><td>&quot;9a40027c-0d19-4870-ade2-fb9045…</td><td>&quot;{3}{B}{B}&quot;</td><td>&quot;Legendary Creature — Wraith No…</td><td>&quot;Flying\\nWhenever one or more c…</td><td>&quot;5&quot;</td><td>&quot;3&quot;</td><td>null</td><td>[&quot;mythic&quot;]</td><td>[&quot;PLTR&quot;, &quot;LTR&quot;]</td><td>[-0.006195, 0.026074, … 0.042365]</td><td>-1.999897</td><td>-0.599561</td></tr><tr><td>&quot;Bitter Downfall&quot;</td><td>&quot;e4b83aa1-33ce-4b8d-ae5a-72f64e…</td><td>&quot;{3}{B}&quot;</td><td>&quot;Instant&quot;</td><td>&quot;This spell costs {3} less to c…</td><td>null</td><td>null</td><td>null</td><td>[&quot;uncommon&quot;]</td><td>[&quot;LTR&quot;]</td><td>[-0.025641, 0.011164, … 0.00895]</td><td>3.158936</td><td>-1.737996</td></tr><tr><td>&quot;Cast into the Fire&quot;</td><td>&quot;2ef878cb-27b6-47d8-ad11-bd2052…</td><td>&quot;{1}{R}&quot;</td><td>&quot;Instant&quot;</td><td>&quot;Choose one —\\n• ~ deals 1 dama…</td><td>null</td><td>null</td><td>null</td><td>[&quot;common&quot;]</td><td>[&quot;LTR&quot;]</td><td>[0.005417, 0.014827, … 0.049225]</td><td>2.691643</td><td>-1.32583</td></tr></tbody></table></div>"
      ],
      "text/plain": [
       "shape: (10, 13)\n",
       "┌───────────┬───────────┬───────────┬───────────┬───┬───────────┬───────────┬───────────┬──────────┐\n",
       "│ name      ┆ scryfallI ┆ manaCost  ┆ type      ┆ … ┆ sets      ┆ embedding ┆ x_2d      ┆ y_2d     │\n",
       "│ ---       ┆ d         ┆ ---       ┆ ---       ┆   ┆ ---       ┆ ---       ┆ ---       ┆ ---      │\n",
       "│ str       ┆ ---       ┆ str       ┆ str       ┆   ┆ list[enum ┆ array[f32 ┆ f32       ┆ f32      │\n",
       "│           ┆ str       ┆           ┆           ┆   ┆ ]         ┆ , 768]    ┆           ┆          │\n",
       "╞═══════════╪═══════════╪═══════════╪═══════════╪═══╪═══════════╪═══════════╪═══════════╪══════════╡\n",
       "│ Smite the ┆ 8b716fcc- ┆ {1}{R}    ┆ Instant   ┆ … ┆ [\"LTR\"]   ┆ [-0.0523, ┆ 3.118244  ┆ -1.96056 │\n",
       "│ Deathless ┆ c4cc-4987 ┆           ┆           ┆   ┆           ┆ -0.015744 ┆           ┆ 8        │\n",
       "│           ┆ -be82-289 ┆           ┆           ┆   ┆           ┆ , …       ┆           ┆          │\n",
       "│           ┆ 7a9…      ┆           ┆           ┆   ┆           ┆ 0.02488…  ┆           ┆          │\n",
       "│ Dreadful  ┆ a9f6b277- ┆ {2}{U}    ┆ Instant   ┆ … ┆ [\"LTR\"]   ┆ [-0.00993 ┆ 1.123474  ┆ -0.97002 │\n",
       "│ as the    ┆ 8980-4c8b ┆           ┆           ┆   ┆           ┆ ,         ┆           ┆ 1        │\n",
       "│ Storm     ┆ -ba78-c8e ┆           ┆           ┆   ┆           ┆ 0.028569, ┆           ┆          │\n",
       "│           ┆ 974…      ┆           ┆           ┆   ┆           ┆ …         ┆           ┆          │\n",
       "│           ┆           ┆           ┆           ┆   ┆           ┆ 0.02716…  ┆           ┆          │\n",
       "│ Shower of ┆ 92cd3884- ┆ {2}{G}    ┆ Instant   ┆ … ┆ [\"LTR\"]   ┆ [-0.02126 ┆ 3.557625  ┆ -2.12550 │\n",
       "│ Arrows    ┆ 18d1-4200 ┆           ┆           ┆   ┆           ┆ 5,        ┆           ┆ 1        │\n",
       "│           ┆ -b28e-a52 ┆           ┆           ┆   ┆           ┆ 0.03406,  ┆           ┆          │\n",
       "│           ┆ 349…      ┆           ┆           ┆   ┆           ┆ …         ┆           ┆          │\n",
       "│           ┆           ┆           ┆           ┆   ┆           ┆ 0.05391…  ┆           ┆          │\n",
       "│ Slip On   ┆ 2e20c2b8- ┆ {1}{W}    ┆ Instant   ┆ … ┆ [\"SLD\",   ┆ [-0.00200 ┆ 1.165344  ┆ -0.90371 │\n",
       "│ the Ring  ┆ ffe3-4d14 ┆           ┆           ┆   ┆ \"LTR\"]    ┆ 4, -0.005 ┆           ┆ 4        │\n",
       "│           ┆ -8588-f89 ┆           ┆           ┆   ┆           ┆ 893, …    ┆           ┆          │\n",
       "│           ┆ 719…      ┆           ┆           ┆   ┆           ┆ 0.015…    ┆           ┆          │\n",
       "│ Hobbit's  ┆ d8876e00- ┆ {1}{W}    ┆ Instant   ┆ … ┆ [\"LTR\"]   ┆ [-0.03097 ┆ 0.820053  ┆ 0.655604 │\n",
       "│ Sting     ┆ 80c9-4228 ┆           ┆           ┆   ┆           ┆ 1, -0.024 ┆           ┆          │\n",
       "│           ┆ -b5d2-032 ┆           ┆           ┆   ┆           ┆ 776, …    ┆           ┆          │\n",
       "│           ┆ b61…      ┆           ┆           ┆   ┆           ┆ 0.024…    ┆           ┆          │\n",
       "│ Friendly  ┆ a0979d68- ┆ {R}{G}    ┆ Instant   ┆ … ┆ [\"LTR\"]   ┆ [-0.03651 ┆ 2.545959  ┆ -2.03550 │\n",
       "│ Rivalry   ┆ eb28-409a ┆           ┆           ┆   ┆           ┆ 9,        ┆           ┆ 1        │\n",
       "│           ┆ -b893-87d ┆           ┆           ┆   ┆           ┆ 0.03123,  ┆           ┆          │\n",
       "│           ┆ 987…      ┆           ┆           ┆   ┆           ┆ …         ┆           ┆          │\n",
       "│           ┆           ┆           ┆           ┆   ┆           ┆ 0.00846…  ┆           ┆          │\n",
       "│ Ranger's  ┆ 06541200- ┆ {R}       ┆ Sorcery   ┆ … ┆ [\"LTR\"]   ┆ [0.017506 ┆ 1.205757  ┆ -1.25929 │\n",
       "│ Firebrand ┆ fa4c-4b98 ┆           ┆           ┆   ┆           ┆ ,         ┆           ┆          │\n",
       "│           ┆ -bdc4-447 ┆           ┆           ┆   ┆           ┆ 0.053088, ┆           ┆          │\n",
       "│           ┆ 08f…      ┆           ┆           ┆   ┆           ┆ …         ┆           ┆          │\n",
       "│           ┆           ┆           ┆           ┆   ┆           ┆ 0.02596…  ┆           ┆          │\n",
       "│ Witch-kin ┆ 9a40027c- ┆ {3}{B}{B} ┆ Legendary ┆ … ┆ [\"PLTR\",  ┆ [-0.00619 ┆ -1.999897 ┆ -0.59956 │\n",
       "│ g of      ┆ 0d19-4870 ┆           ┆ Creature  ┆   ┆ \"LTR\"]    ┆ 5,        ┆           ┆ 1        │\n",
       "│ Angmar    ┆ -ade2-fb9 ┆           ┆ — Wraith  ┆   ┆           ┆ 0.026074, ┆           ┆          │\n",
       "│           ┆ 045…      ┆           ┆ No…       ┆   ┆           ┆ … 0.0423… ┆           ┆          │\n",
       "│ Bitter    ┆ e4b83aa1- ┆ {3}{B}    ┆ Instant   ┆ … ┆ [\"LTR\"]   ┆ [-0.02564 ┆ 3.158936  ┆ -1.73799 │\n",
       "│ Downfall  ┆ 33ce-4b8d ┆           ┆           ┆   ┆           ┆ 1,        ┆           ┆ 6        │\n",
       "│           ┆ -ae5a-72f ┆           ┆           ┆   ┆           ┆ 0.011164, ┆           ┆          │\n",
       "│           ┆ 64e…      ┆           ┆           ┆   ┆           ┆ … 0.0089… ┆           ┆          │\n",
       "│ Cast into ┆ 2ef878cb- ┆ {1}{R}    ┆ Instant   ┆ … ┆ [\"LTR\"]   ┆ [0.005417 ┆ 2.691643  ┆ -1.32583 │\n",
       "│ the Fire  ┆ 27b6-47d8 ┆           ┆           ┆   ┆           ┆ ,         ┆           ┆          │\n",
       "│           ┆ -ad11-bd2 ┆           ┆           ┆   ┆           ┆ 0.014827, ┆           ┆          │\n",
       "│           ┆ 052…      ┆           ┆           ┆   ┆           ┆ …         ┆           ┆          │\n",
       "│           ┆           ┆           ┆           ┆   ┆           ┆ 0.04922…  ┆           ┆          │\n",
       "└───────────┴───────────┴───────────┴───────────┴───┴───────────┴───────────┴───────────┴──────────┘"
      ]
     },
     "execution_count": 17,
     "metadata": {},
     "output_type": "execute_result"
    }
   ],
   "source": [
    "get_similar_cards_filtered(\"Lightning Helix\", set_card=\"LTR\")"
   ]
  },
  {
   "cell_type": "markdown",
   "metadata": {},
   "source": [
    "## Test Similarity using 2D Euclidian Distance\n"
   ]
  },
  {
   "cell_type": "code",
   "execution_count": 22,
   "metadata": {},
   "outputs": [
    {
     "data": {
      "text/plain": [
       "(32254, 2)"
      ]
     },
     "execution_count": 22,
     "metadata": {},
     "output_type": "execute_result"
    }
   ],
   "source": [
    "embeddings_2d = df.select([\"x_2d\", \"y_2d\"]).to_numpy()\n",
    "\n",
    "embeddings_2d.shape"
   ]
  },
  {
   "cell_type": "code",
   "execution_count": 44,
   "metadata": {},
   "outputs": [],
   "source": [
    "def fast_euclidian(query, matrix, k=3):\n",
    "    distances = np.sqrt(np.einsum(\"ij,ij->i\", matrix - query, matrix - query))\n",
    "\n",
    "    idx = np.argpartition(distances, k)[:k]\n",
    "    idx = idx[np.argsort(distances[idx])]\n",
    "\n",
    "    score = distances[idx]\n",
    "\n",
    "    return idx, score"
   ]
  },
  {
   "cell_type": "code",
   "execution_count": 45,
   "metadata": {},
   "outputs": [
    {
     "data": {
      "text/plain": [
       "(2,)"
      ]
     },
     "execution_count": 45,
     "metadata": {},
     "output_type": "execute_result"
    }
   ],
   "source": [
    "query_embed_2d = query_row.select([\"x_2d\", \"y_2d\"]).to_numpy()[0]\n",
    "query_embed_2d.shape"
   ]
  },
  {
   "cell_type": "code",
   "execution_count": 46,
   "metadata": {},
   "outputs": [
    {
     "name": "stdout",
     "output_type": "stream",
     "text": [
      "[0.         0.00992023 0.01875981 0.02741352 0.03842095 0.04141476\n",
      " 0.04636621 0.04970477 0.05300083 0.06124173]\n"
     ]
    },
    {
     "data": {
      "text/html": [
       "<div><style>\n",
       ".dataframe > thead > tr,\n",
       ".dataframe > tbody > tr {\n",
       "  text-align: right;\n",
       "  white-space: pre-wrap;\n",
       "}\n",
       "</style>\n",
       "<small>shape: (10, 13)</small><table border=\"1\" class=\"dataframe\"><thead><tr><th>name</th><th>scryfallId</th><th>manaCost</th><th>type</th><th>text</th><th>power</th><th>toughness</th><th>loyalty</th><th>rarities</th><th>sets</th><th>embedding</th><th>x_2d</th><th>y_2d</th></tr><tr><td>str</td><td>str</td><td>str</td><td>str</td><td>str</td><td>str</td><td>str</td><td>str</td><td>list[enum]</td><td>list[enum]</td><td>array[f32, 768]</td><td>f32</td><td>f32</td></tr></thead><tbody><tr><td>&quot;Jace, the Mind Sculptor&quot;</td><td>&quot;97c67e86-5aa5-4136-a15c-c0c570…</td><td>&quot;{2}{U}{U}&quot;</td><td>&quot;Legendary Planeswalker — Jace&quot;</td><td>&quot;[+2]: Look at the top card of …</td><td>null</td><td>null</td><td>&quot;3&quot;</td><td>[&quot;mythic&quot;]</td><td>[&quot;PRM&quot;, &quot;WWK&quot;, … &quot;BLC&quot;]</td><td>[0.015553, -0.019022, … -0.009828]</td><td>0.185112</td><td>-1.800546</td></tr><tr><td>&quot;Jace, Mirror Mage&quot;</td><td>&quot;86d34cbf-e424-461a-adf3-003d55…</td><td>&quot;{1}{U}{U}&quot;</td><td>&quot;Legendary Planeswalker — Jace&quot;</td><td>&quot;Kicker {2}\\nWhen ~ enters, if …</td><td>null</td><td>null</td><td>&quot;4&quot;</td><td>[&quot;mythic&quot;]</td><td>[&quot;PRM&quot;, &quot;PZNR&quot;, … &quot;CMM&quot;]</td><td>[-0.009835, 0.004344, … 0.00509]</td><td>0.19239</td><td>-1.793805</td></tr><tr><td>&quot;Jace, Cunning Castaway&quot;</td><td>&quot;84e45881-e0cb-422e-8357-98f74e…</td><td>&quot;{1}{U}{U}&quot;</td><td>&quot;Legendary Planeswalker — Jace&quot;</td><td>&quot;[+1]: Whenever one or more cre…</td><td>null</td><td>null</td><td>&quot;3&quot;</td><td>[&quot;mythic&quot;]</td><td>[&quot;PRM&quot;, &quot;PXLN&quot;, … &quot;PS18&quot;]</td><td>[-0.00046, -0.011679, … 0.02816]</td><td>0.174793</td><td>-1.784879</td></tr><tr><td>&quot;Jace Reawakened&quot;</td><td>&quot;fd17e8d4-499e-4005-ae3c-bc9c44…</td><td>&quot;{U}{U}&quot;</td><td>&quot;Legendary Planeswalker — Jace&quot;</td><td>&quot;You can&#x27;t cast ~ during your f…</td><td>null</td><td>null</td><td>&quot;3&quot;</td><td>[&quot;mythic&quot;]</td><td>[&quot;PWCS&quot;, &quot;POTJ&quot;, &quot;OTJ&quot;]</td><td>[0.002422, -0.016244, … 0.000113]</td><td>0.212093</td><td>-1.795697</td></tr><tr><td>&quot;Jace, Vryn&#x27;s Prodigy // Jace, …</td><td>&quot;a9d36f53-582c-4d8b-aa8e-e62a1d…</td><td>&quot;{1}{U}&quot;</td><td>&quot;Legendary Creature — Human Wiz…</td><td>&quot;{T}: Draw a card, then discard…</td><td>&quot;0&quot;</td><td>&quot;2&quot;</td><td>null</td><td>[&quot;mythic&quot;]</td><td>[&quot;PS15&quot;, &quot;PORI&quot;, … &quot;PIO&quot;]</td><td>[-0.014875, -0.002678, … 0.034266]</td><td>0.150566</td><td>-1.783731</td></tr><tr><td>&quot;Jace, Arcane Strategist&quot;</td><td>&quot;5b870094-08bf-41fc-b9d6-e435e0…</td><td>&quot;{4}{U}{U}&quot;</td><td>&quot;Legendary Planeswalker — Jace&quot;</td><td>&quot;Whenever you draw your second …</td><td>null</td><td>null</td><td>&quot;4&quot;</td><td>[&quot;mythic&quot;]</td><td>[&quot;WAR&quot;, &quot;J22&quot;]</td><td>[0.00509, -0.018775, … 0.027693]</td><td>0.187725</td><td>-1.759213</td></tr><tr><td>&quot;Jace, Memory Adept&quot;</td><td>&quot;66e2813e-c674-49de-8777-788251…</td><td>&quot;{3}{U}{U}&quot;</td><td>&quot;Legendary Planeswalker — Jace&quot;</td><td>&quot;[+1]: Draw a card. Target play…</td><td>null</td><td>null</td><td>&quot;4&quot;</td><td>[&quot;mythic&quot;]</td><td>[&quot;PMEI&quot;, &quot;M12&quot;, … &quot;PIO&quot;]</td><td>[-0.015436, -0.032921, … 0.007195]</td><td>0.217503</td><td>-1.767369</td></tr><tr><td>&quot;Jace, Wielder of Mysteries&quot;</td><td>&quot;6dece604-04f2-48ac-8e6c-ef850c…</td><td>&quot;{1}{U}{U}{U}&quot;</td><td>&quot;Legendary Planeswalker — Jace&quot;</td><td>&quot;If you would draw a card while…</td><td>null</td><td>null</td><td>&quot;4&quot;</td><td>[&quot;rare&quot;]</td><td>[&quot;PRM&quot;, &quot;PWAR&quot;, … &quot;PLST&quot;]</td><td>[-0.008284, -0.025282, … -0.004046]</td><td>0.234787</td><td>-1.798825</td></tr><tr><td>&quot;Jace, Vryn&#x27;s Prodigy // Jace, …</td><td>&quot;a9d36f53-582c-4d8b-aa8e-e62a1d…</td><td>null</td><td>&quot;Legendary Planeswalker — Jace&quot;</td><td>&quot;[+1]: Up to one target creatur…</td><td>null</td><td>null</td><td>&quot;5&quot;</td><td>[&quot;mythic&quot;]</td><td>[&quot;PS15&quot;, &quot;PORI&quot;, … &quot;PIO&quot;]</td><td>[-0.020646, 0.002783, … -0.00442]</td><td>0.197372</td><td>-1.748982</td></tr><tr><td>&quot;Jace&#x27;s Projection&quot;</td><td>&quot;c4d35a34-01b7-41e1-8491-a65891…</td><td>&quot;{2}{U}{U}&quot;</td><td>&quot;Creature — Wizard Illusion&quot;</td><td>&quot;Whenever you draw a card, put …</td><td>&quot;2&quot;</td><td>&quot;2&quot;</td><td>null</td><td>[&quot;uncommon&quot;]</td><td>[&quot;WAR&quot;]</td><td>[-0.011693, -0.002076, … -0.001163]</td><td>0.234673</td><td>-1.764569</td></tr></tbody></table></div>"
      ],
      "text/plain": [
       "shape: (10, 13)\n",
       "┌───────────┬───────────┬───────────┬───────────┬───┬───────────┬───────────┬──────────┬───────────┐\n",
       "│ name      ┆ scryfallI ┆ manaCost  ┆ type      ┆ … ┆ sets      ┆ embedding ┆ x_2d     ┆ y_2d      │\n",
       "│ ---       ┆ d         ┆ ---       ┆ ---       ┆   ┆ ---       ┆ ---       ┆ ---      ┆ ---       │\n",
       "│ str       ┆ ---       ┆ str       ┆ str       ┆   ┆ list[enum ┆ array[f32 ┆ f32      ┆ f32       │\n",
       "│           ┆ str       ┆           ┆           ┆   ┆ ]         ┆ , 768]    ┆          ┆           │\n",
       "╞═══════════╪═══════════╪═══════════╪═══════════╪═══╪═══════════╪═══════════╪══════════╪═══════════╡\n",
       "│ Jace, the ┆ 97c67e86- ┆ {2}{U}{U} ┆ Legendary ┆ … ┆ [\"PRM\",   ┆ [0.015553 ┆ 0.185112 ┆ -1.800546 │\n",
       "│ Mind      ┆ 5aa5-4136 ┆           ┆ Planeswal ┆   ┆ \"WWK\", …  ┆ , -0.0190 ┆          ┆           │\n",
       "│ Sculptor  ┆ -a15c-c0c ┆           ┆ ker —     ┆   ┆ \"BLC\"]    ┆ 22, …     ┆          ┆           │\n",
       "│           ┆ 570…      ┆           ┆ Jace      ┆   ┆           ┆ -0.009…   ┆          ┆           │\n",
       "│ Jace,     ┆ 86d34cbf- ┆ {1}{U}{U} ┆ Legendary ┆ … ┆ [\"PRM\",   ┆ [-0.00983 ┆ 0.19239  ┆ -1.793805 │\n",
       "│ Mirror    ┆ e424-461a ┆           ┆ Planeswal ┆   ┆ \"PZNR\", … ┆ 5,        ┆          ┆           │\n",
       "│ Mage      ┆ -adf3-003 ┆           ┆ ker —     ┆   ┆ \"CMM\"]    ┆ 0.004344, ┆          ┆           │\n",
       "│           ┆ d55…      ┆           ┆ Jace      ┆   ┆           ┆ … 0.0050… ┆          ┆           │\n",
       "│ Jace,     ┆ 84e45881- ┆ {1}{U}{U} ┆ Legendary ┆ … ┆ [\"PRM\",   ┆ [-0.00046 ┆ 0.174793 ┆ -1.784879 │\n",
       "│ Cunning   ┆ e0cb-422e ┆           ┆ Planeswal ┆   ┆ \"PXLN\", … ┆ , -0.0116 ┆          ┆           │\n",
       "│ Castaway  ┆ -8357-98f ┆           ┆ ker —     ┆   ┆ \"PS18\"]   ┆ 79, …     ┆          ┆           │\n",
       "│           ┆ 74e…      ┆           ┆ Jace      ┆   ┆           ┆ 0.0281…   ┆          ┆           │\n",
       "│ Jace Reaw ┆ fd17e8d4- ┆ {U}{U}    ┆ Legendary ┆ … ┆ [\"PWCS\",  ┆ [0.002422 ┆ 0.212093 ┆ -1.795697 │\n",
       "│ akened    ┆ 499e-4005 ┆           ┆ Planeswal ┆   ┆ \"POTJ\",   ┆ , -0.0162 ┆          ┆           │\n",
       "│           ┆ -ae3c-bc9 ┆           ┆ ker —     ┆   ┆ \"OTJ\"]    ┆ 44, …     ┆          ┆           │\n",
       "│           ┆ c44…      ┆           ┆ Jace      ┆   ┆           ┆ 0.0001…   ┆          ┆           │\n",
       "│ Jace,     ┆ a9d36f53- ┆ {1}{U}    ┆ Legendary ┆ … ┆ [\"PS15\",  ┆ [-0.01487 ┆ 0.150566 ┆ -1.783731 │\n",
       "│ Vryn's    ┆ 582c-4d8b ┆           ┆ Creature  ┆   ┆ \"PORI\", … ┆ 5, -0.002 ┆          ┆           │\n",
       "│ Prodigy   ┆ -aa8e-e62 ┆           ┆ — Human   ┆   ┆ \"PIO\"]    ┆ 678, …    ┆          ┆           │\n",
       "│ // Jace,  ┆ a1d…      ┆           ┆ Wiz…      ┆   ┆           ┆ 0.034…    ┆          ┆           │\n",
       "│ …         ┆           ┆           ┆           ┆   ┆           ┆           ┆          ┆           │\n",
       "│ Jace,     ┆ 5b870094- ┆ {4}{U}{U} ┆ Legendary ┆ … ┆ [\"WAR\",   ┆ [0.00509, ┆ 0.187725 ┆ -1.759213 │\n",
       "│ Arcane    ┆ 08bf-41fc ┆           ┆ Planeswal ┆   ┆ \"J22\"]    ┆ -0.018775 ┆          ┆           │\n",
       "│ Strategis ┆ -b9d6-e43 ┆           ┆ ker —     ┆   ┆           ┆ , …       ┆          ┆           │\n",
       "│ t         ┆ 5e0…      ┆           ┆ Jace      ┆   ┆           ┆ 0.02769…  ┆          ┆           │\n",
       "│ Jace,     ┆ 66e2813e- ┆ {3}{U}{U} ┆ Legendary ┆ … ┆ [\"PMEI\",  ┆ [-0.01543 ┆ 0.217503 ┆ -1.767369 │\n",
       "│ Memory    ┆ c674-49de ┆           ┆ Planeswal ┆   ┆ \"M12\", …  ┆ 6, -0.032 ┆          ┆           │\n",
       "│ Adept     ┆ -8777-788 ┆           ┆ ker —     ┆   ┆ \"PIO\"]    ┆ 921, …    ┆          ┆           │\n",
       "│           ┆ 251…      ┆           ┆ Jace      ┆   ┆           ┆ 0.007…    ┆          ┆           │\n",
       "│ Jace,     ┆ 6dece604- ┆ {1}{U}{U} ┆ Legendary ┆ … ┆ [\"PRM\",   ┆ [-0.00828 ┆ 0.234787 ┆ -1.798825 │\n",
       "│ Wielder   ┆ 04f2-48ac ┆ {U}       ┆ Planeswal ┆   ┆ \"PWAR\", … ┆ 4, -0.025 ┆          ┆           │\n",
       "│ of        ┆ -8e6c-ef8 ┆           ┆ ker —     ┆   ┆ \"PLST\"]   ┆ 282, …    ┆          ┆           │\n",
       "│ Mysteries ┆ 50c…      ┆           ┆ Jace      ┆   ┆           ┆ -0.00…    ┆          ┆           │\n",
       "│ Jace,     ┆ a9d36f53- ┆ null      ┆ Legendary ┆ … ┆ [\"PS15\",  ┆ [-0.02064 ┆ 0.197372 ┆ -1.748982 │\n",
       "│ Vryn's    ┆ 582c-4d8b ┆           ┆ Planeswal ┆   ┆ \"PORI\", … ┆ 6,        ┆          ┆           │\n",
       "│ Prodigy   ┆ -aa8e-e62 ┆           ┆ ker —     ┆   ┆ \"PIO\"]    ┆ 0.002783, ┆          ┆           │\n",
       "│ // Jace,  ┆ a1d…      ┆           ┆ Jace      ┆   ┆           ┆ … -0.004… ┆          ┆           │\n",
       "│ …         ┆           ┆           ┆           ┆   ┆           ┆           ┆          ┆           │\n",
       "│ Jace's    ┆ c4d35a34- ┆ {2}{U}{U} ┆ Creature  ┆ … ┆ [\"WAR\"]   ┆ [-0.01169 ┆ 0.234673 ┆ -1.764569 │\n",
       "│ Projectio ┆ 01b7-41e1 ┆           ┆ — Wizard  ┆   ┆           ┆ 3, -0.002 ┆          ┆           │\n",
       "│ n         ┆ -8491-a65 ┆           ┆ Illusion  ┆   ┆           ┆ 076, …    ┆          ┆           │\n",
       "│           ┆ 891…      ┆           ┆           ┆   ┆           ┆ -0.00…    ┆          ┆           │\n",
       "└───────────┴───────────┴───────────┴───────────┴───┴───────────┴───────────┴──────────┴───────────┘"
      ]
     },
     "execution_count": 46,
     "metadata": {},
     "output_type": "execute_result"
    }
   ],
   "source": [
    "idx, score = fast_euclidian(query_embed_2d, embeddings_2d, k=10)\n",
    "print(score)\n",
    "df[idx]"
   ]
  },
  {
   "cell_type": "code",
   "execution_count": 52,
   "metadata": {},
   "outputs": [],
   "source": [
    "def get_similar_cards_euclidian(card_name):\n",
    "    query_embed = (\n",
    "        df.filter(pl.col(\"name\") == card_name).select([\"x_2d\", \"y_2d\"]).to_numpy()\n",
    "    )[0]\n",
    "\n",
    "    idx, score = fast_euclidian(query_embed, embeddings_2d, k=9 + 1)\n",
    "    print(score)\n",
    "    return df[idx]"
   ]
  },
  {
   "cell_type": "code",
   "execution_count": 53,
   "metadata": {},
   "outputs": [
    {
     "name": "stdout",
     "output_type": "stream",
     "text": [
      "[0.         0.00907985 0.00965589 0.01810995 0.02372841 0.02680189\n",
      " 0.02709072 0.02848001 0.02986331 0.04079707]\n"
     ]
    },
    {
     "data": {
      "text/html": [
       "<div><style>\n",
       ".dataframe > thead > tr,\n",
       ".dataframe > tbody > tr {\n",
       "  text-align: right;\n",
       "  white-space: pre-wrap;\n",
       "}\n",
       "</style>\n",
       "<small>shape: (10, 13)</small><table border=\"1\" class=\"dataframe\"><thead><tr><th>name</th><th>scryfallId</th><th>manaCost</th><th>type</th><th>text</th><th>power</th><th>toughness</th><th>loyalty</th><th>rarities</th><th>sets</th><th>embedding</th><th>x_2d</th><th>y_2d</th></tr><tr><td>str</td><td>str</td><td>str</td><td>str</td><td>str</td><td>str</td><td>str</td><td>str</td><td>list[enum]</td><td>list[enum]</td><td>array[f32, 768]</td><td>f32</td><td>f32</td></tr></thead><tbody><tr><td>&quot;Phage the Untouchable&quot;</td><td>&quot;41e39cb1-0b57-4d70-afa6-67b307…</td><td>&quot;{3}{B}{B}{B}{B}&quot;</td><td>&quot;Legendary Creature — Avatar Mi…</td><td>&quot;When ~ enters, if you didn&#x27;t c…</td><td>&quot;4&quot;</td><td>&quot;4&quot;</td><td>null</td><td>[&quot;rare&quot;, &quot;mythic&quot;]</td><td>[&quot;LGN&quot;, &quot;10E&quot;, … &quot;SLD&quot;]</td><td>[-0.016366, -0.039536, … 0.001862]</td><td>-1.35051</td><td>1.408305</td></tr><tr><td>&quot;Lorthos, the Tidemaker&quot;</td><td>&quot;5f7a64cf-3c7a-4dfc-ae44-8413de…</td><td>&quot;{5}{U}{U}{U}&quot;</td><td>&quot;Legendary Creature — Octopus&quot;</td><td>&quot;Whenever ~ attacks, you may pa…</td><td>&quot;8&quot;</td><td>&quot;8&quot;</td><td>null</td><td>[&quot;rare&quot;, &quot;mythic&quot;]</td><td>[&quot;C14&quot;, &quot;PLST&quot;, &quot;CMM&quot;]</td><td>[0.025892, 0.006763, … 0.018805]</td><td>-1.358299</td><td>1.412971</td></tr><tr><td>&quot;Cephalid Snitch&quot;</td><td>&quot;33d989b2-0198-4e5b-8aad-ee9391…</td><td>&quot;{1}{U}&quot;</td><td>&quot;Creature — Octopus Wizard&quot;</td><td>&quot;Sacrifice this creature: Targe…</td><td>&quot;1&quot;</td><td>&quot;1&quot;</td><td>null</td><td>[&quot;common&quot;]</td><td>[&quot;TOR&quot;]</td><td>[-0.023137, -0.04886, … 0.05368]</td><td>-1.357201</td><td>1.401343</td></tr><tr><td>&quot;Cephalid Sage&quot;</td><td>&quot;f4186eb4-5c79-4616-9a20-c48a6c…</td><td>&quot;{3}{U}&quot;</td><td>&quot;Creature — Octopus&quot;</td><td>&quot;Threshold — As long as seven o…</td><td>&quot;2&quot;</td><td>&quot;3&quot;</td><td>null</td><td>[&quot;common&quot;, &quot;uncommon&quot;]</td><td>[&quot;TOR&quot;, &quot;EMA&quot;]</td><td>[-0.016118, -0.06988, … 0.030089]</td><td>-1.333923</td><td>1.415576</td></tr><tr><td>&quot;Runo Stromkirk // Krothuss, Lo…</td><td>&quot;348f80f6-a5e2-4c01-a368-1ce935…</td><td>null</td><td>&quot;Legendary Creature — Kraken Ho…</td><td>&quot;Flying\\nWhenever Krothuss, Lor…</td><td>&quot;3&quot;</td><td>&quot;5&quot;</td><td>null</td><td>[&quot;rare&quot;]</td><td>[&quot;PVOW&quot;, &quot;VOW&quot;, &quot;DBL&quot;]</td><td>[0.019004, 0.013492, … 0.030525]</td><td>-1.340958</td><td>1.430026</td></tr><tr><td>&quot;Cephalid Broker&quot;</td><td>&quot;e55e26c4-96bf-4df9-b938-594952…</td><td>&quot;{3}{U}&quot;</td><td>&quot;Creature — Octopus&quot;</td><td>&quot;{T}: Target player draws two c…</td><td>&quot;2&quot;</td><td>&quot;2&quot;</td><td>null</td><td>[&quot;uncommon&quot;]</td><td>[&quot;ODY&quot;, &quot;IMA&quot;, &quot;PLST&quot;]</td><td>[-0.001141, -0.0362, … 0.015543]</td><td>-1.32753</td><td>1.394511</td></tr><tr><td>&quot;Verazol, the Split Current&quot;</td><td>&quot;0584fc6c-88c6-46b5-8cc5-42d4a6…</td><td>&quot;{X}{G}{U}&quot;</td><td>&quot;Legendary Creature — Serpent&quot;</td><td>&quot;~ enters with a +1/+1 counter …</td><td>&quot;0&quot;</td><td>&quot;0&quot;</td><td>null</td><td>[&quot;rare&quot;]</td><td>[&quot;PRM&quot;, &quot;PZNR&quot;, &quot;ZNR&quot;]</td><td>[-0.002659, -0.01725, … 0.037907]</td><td>-1.326019</td><td>1.396724</td></tr><tr><td>&quot;Lorthos, the Tidemaker&quot;</td><td>&quot;5f7a64cf-3c7a-4dfc-ae44-8413de…</td><td>&quot;{5}{U}{U}{U}&quot;</td><td>&quot;Legendary Creature — Octopus&quot;</td><td>&quot;Whenever Lorthos attacks, you …</td><td>&quot;8&quot;</td><td>&quot;8&quot;</td><td>null</td><td>[&quot;mythic&quot;]</td><td>[&quot;ZEN&quot;]</td><td>[0.019667, 0.00812, … 0.027012]</td><td>-1.361404</td><td>1.434619</td></tr><tr><td>&quot;Cephalid Aristocrat&quot;</td><td>&quot;bd9ca63d-7e77-48f3-abdc-2d2f9c…</td><td>&quot;{4}{U}&quot;</td><td>&quot;Creature — Octopus Noble&quot;</td><td>&quot;Whenever this creature becomes…</td><td>&quot;3&quot;</td><td>&quot;3&quot;</td><td>null</td><td>[&quot;common&quot;]</td><td>[&quot;TOR&quot;]</td><td>[0.00772, -0.063176, … 0.018446]</td><td>-1.336403</td><td>1.434627</td></tr><tr><td>&quot;Biblioplex Kraken&quot;</td><td>&quot;1f69f0bf-6626-4418-9335-b79d75…</td><td>&quot;{4}{U}&quot;</td><td>&quot;Creature — Kraken&quot;</td><td>&quot;When this creature enters, scr…</td><td>&quot;4&quot;</td><td>&quot;5&quot;</td><td>null</td><td>[&quot;uncommon&quot;]</td><td>[&quot;J22&quot;]</td><td>[0.026078, -0.024476, … 0.029562]</td><td>-1.335552</td><td>1.446261</td></tr></tbody></table></div>"
      ],
      "text/plain": [
       "shape: (10, 13)\n",
       "┌───────────┬───────────┬───────────┬───────────┬───┬───────────┬───────────┬───────────┬──────────┐\n",
       "│ name      ┆ scryfallI ┆ manaCost  ┆ type      ┆ … ┆ sets      ┆ embedding ┆ x_2d      ┆ y_2d     │\n",
       "│ ---       ┆ d         ┆ ---       ┆ ---       ┆   ┆ ---       ┆ ---       ┆ ---       ┆ ---      │\n",
       "│ str       ┆ ---       ┆ str       ┆ str       ┆   ┆ list[enum ┆ array[f32 ┆ f32       ┆ f32      │\n",
       "│           ┆ str       ┆           ┆           ┆   ┆ ]         ┆ , 768]    ┆           ┆          │\n",
       "╞═══════════╪═══════════╪═══════════╪═══════════╪═══╪═══════════╪═══════════╪═══════════╪══════════╡\n",
       "│ Phage the ┆ 41e39cb1- ┆ {3}{B}{B} ┆ Legendary ┆ … ┆ [\"LGN\",   ┆ [-0.01636 ┆ -1.35051  ┆ 1.408305 │\n",
       "│ Untouchab ┆ 0b57-4d70 ┆ {B}{B}    ┆ Creature  ┆   ┆ \"10E\", …  ┆ 6, -0.039 ┆           ┆          │\n",
       "│ le        ┆ -afa6-67b ┆           ┆ — Avatar  ┆   ┆ \"SLD\"]    ┆ 536, …    ┆           ┆          │\n",
       "│           ┆ 307…      ┆           ┆ Mi…       ┆   ┆           ┆ 0.001…    ┆           ┆          │\n",
       "│ Lorthos,  ┆ 5f7a64cf- ┆ {5}{U}{U} ┆ Legendary ┆ … ┆ [\"C14\",   ┆ [0.025892 ┆ -1.358299 ┆ 1.412971 │\n",
       "│ the       ┆ 3c7a-4dfc ┆ {U}       ┆ Creature  ┆   ┆ \"PLST\",   ┆ ,         ┆           ┆          │\n",
       "│ Tidemaker ┆ -ae44-841 ┆           ┆ — Octopus ┆   ┆ \"CMM\"]    ┆ 0.006763, ┆           ┆          │\n",
       "│           ┆ 3de…      ┆           ┆           ┆   ┆           ┆ …         ┆           ┆          │\n",
       "│           ┆           ┆           ┆           ┆   ┆           ┆ 0.01880…  ┆           ┆          │\n",
       "│ Cephalid  ┆ 33d989b2- ┆ {1}{U}    ┆ Creature  ┆ … ┆ [\"TOR\"]   ┆ [-0.02313 ┆ -1.357201 ┆ 1.401343 │\n",
       "│ Snitch    ┆ 0198-4e5b ┆           ┆ — Octopus ┆   ┆           ┆ 7,        ┆           ┆          │\n",
       "│           ┆ -8aad-ee9 ┆           ┆ Wizard    ┆   ┆           ┆ -0.04886, ┆           ┆          │\n",
       "│           ┆ 391…      ┆           ┆           ┆   ┆           ┆ … 0.0536… ┆           ┆          │\n",
       "│ Cephalid  ┆ f4186eb4- ┆ {3}{U}    ┆ Creature  ┆ … ┆ [\"TOR\",   ┆ [-0.01611 ┆ -1.333923 ┆ 1.415576 │\n",
       "│ Sage      ┆ 5c79-4616 ┆           ┆ — Octopus ┆   ┆ \"EMA\"]    ┆ 8,        ┆           ┆          │\n",
       "│           ┆ -9a20-c48 ┆           ┆           ┆   ┆           ┆ -0.06988, ┆           ┆          │\n",
       "│           ┆ a6c…      ┆           ┆           ┆   ┆           ┆ … 0.0300… ┆           ┆          │\n",
       "│ Runo      ┆ 348f80f6- ┆ null      ┆ Legendary ┆ … ┆ [\"PVOW\",  ┆ [0.019004 ┆ -1.340958 ┆ 1.430026 │\n",
       "│ Stromkirk ┆ a5e2-4c01 ┆           ┆ Creature  ┆   ┆ \"VOW\",    ┆ ,         ┆           ┆          │\n",
       "│ //        ┆ -a368-1ce ┆           ┆ — Kraken  ┆   ┆ \"DBL\"]    ┆ 0.013492, ┆           ┆          │\n",
       "│ Krothuss, ┆ 935…      ┆           ┆ Ho…       ┆   ┆           ┆ …         ┆           ┆          │\n",
       "│ Lo…       ┆           ┆           ┆           ┆   ┆           ┆ 0.03052…  ┆           ┆          │\n",
       "│ Cephalid  ┆ e55e26c4- ┆ {3}{U}    ┆ Creature  ┆ … ┆ [\"ODY\",   ┆ [-0.00114 ┆ -1.32753  ┆ 1.394511 │\n",
       "│ Broker    ┆ 96bf-4df9 ┆           ┆ — Octopus ┆   ┆ \"IMA\",    ┆ 1,        ┆           ┆          │\n",
       "│           ┆ -b938-594 ┆           ┆           ┆   ┆ \"PLST\"]   ┆ -0.0362,  ┆           ┆          │\n",
       "│           ┆ 952…      ┆           ┆           ┆   ┆           ┆ …         ┆           ┆          │\n",
       "│           ┆           ┆           ┆           ┆   ┆           ┆ 0.01554…  ┆           ┆          │\n",
       "│ Verazol,  ┆ 0584fc6c- ┆ {X}{G}{U} ┆ Legendary ┆ … ┆ [\"PRM\",   ┆ [-0.00265 ┆ -1.326019 ┆ 1.396724 │\n",
       "│ the Split ┆ 88c6-46b5 ┆           ┆ Creature  ┆   ┆ \"PZNR\",   ┆ 9,        ┆           ┆          │\n",
       "│ Current   ┆ -8cc5-42d ┆           ┆ — Serpent ┆   ┆ \"ZNR\"]    ┆ -0.01725, ┆           ┆          │\n",
       "│           ┆ 4a6…      ┆           ┆           ┆   ┆           ┆ … 0.0379… ┆           ┆          │\n",
       "│ Lorthos,  ┆ 5f7a64cf- ┆ {5}{U}{U} ┆ Legendary ┆ … ┆ [\"ZEN\"]   ┆ [0.019667 ┆ -1.361404 ┆ 1.434619 │\n",
       "│ the       ┆ 3c7a-4dfc ┆ {U}       ┆ Creature  ┆   ┆           ┆ ,         ┆           ┆          │\n",
       "│ Tidemaker ┆ -ae44-841 ┆           ┆ — Octopus ┆   ┆           ┆ 0.00812,  ┆           ┆          │\n",
       "│           ┆ 3de…      ┆           ┆           ┆   ┆           ┆ …         ┆           ┆          │\n",
       "│           ┆           ┆           ┆           ┆   ┆           ┆ 0.027012… ┆           ┆          │\n",
       "│ Cephalid  ┆ bd9ca63d- ┆ {4}{U}    ┆ Creature  ┆ … ┆ [\"TOR\"]   ┆ [0.00772, ┆ -1.336403 ┆ 1.434627 │\n",
       "│ Aristocra ┆ 7e77-48f3 ┆           ┆ — Octopus ┆   ┆           ┆ -0.063176 ┆           ┆          │\n",
       "│ t         ┆ -abdc-2d2 ┆           ┆ Noble     ┆   ┆           ┆ , …       ┆           ┆          │\n",
       "│           ┆ f9c…      ┆           ┆           ┆   ┆           ┆ 0.01844…  ┆           ┆          │\n",
       "│ Bibliople ┆ 1f69f0bf- ┆ {4}{U}    ┆ Creature  ┆ … ┆ [\"J22\"]   ┆ [0.026078 ┆ -1.335552 ┆ 1.446261 │\n",
       "│ x Kraken  ┆ 6626-4418 ┆           ┆ — Kraken  ┆   ┆           ┆ , -0.0244 ┆           ┆          │\n",
       "│           ┆ -9335-b79 ┆           ┆           ┆   ┆           ┆ 76, …     ┆           ┆          │\n",
       "│           ┆ d75…      ┆           ┆           ┆   ┆           ┆ 0.0295…   ┆           ┆          │\n",
       "└───────────┴───────────┴───────────┴───────────┴───┴───────────┴───────────┴───────────┴──────────┘"
      ]
     },
     "execution_count": 53,
     "metadata": {},
     "output_type": "execute_result"
    }
   ],
   "source": [
    "get_similar_cards_euclidian(\"Phage the Untouchable\")"
   ]
  },
  {
   "cell_type": "code",
   "execution_count": 54,
   "metadata": {},
   "outputs": [
    {
     "name": "stdout",
     "output_type": "stream",
     "text": [
      "[1.0000001  0.8836309  0.85601187 0.8555929  0.8389733  0.83586186\n",
      " 0.8319211  0.8278018  0.82464945 0.82094663]\n"
     ]
    },
    {
     "data": {
      "text/html": [
       "<div><style>\n",
       ".dataframe > thead > tr,\n",
       ".dataframe > tbody > tr {\n",
       "  text-align: right;\n",
       "  white-space: pre-wrap;\n",
       "}\n",
       "</style>\n",
       "<small>shape: (10, 13)</small><table border=\"1\" class=\"dataframe\"><thead><tr><th>name</th><th>scryfallId</th><th>manaCost</th><th>type</th><th>text</th><th>power</th><th>toughness</th><th>loyalty</th><th>rarities</th><th>sets</th><th>embedding</th><th>x_2d</th><th>y_2d</th></tr><tr><td>str</td><td>str</td><td>str</td><td>str</td><td>str</td><td>str</td><td>str</td><td>str</td><td>list[enum]</td><td>list[enum]</td><td>array[f32, 768]</td><td>f32</td><td>f32</td></tr></thead><tbody><tr><td>&quot;Ancestral Recall&quot;</td><td>&quot;71283e4c-efd9-4a96-991c-6bbb16…</td><td>&quot;{U}&quot;</td><td>&quot;Instant&quot;</td><td>&quot;Target player draws three card…</td><td>null</td><td>null</td><td>null</td><td>[&quot;rare&quot;, &quot;mythic&quot;, … &quot;special&quot;]</td><td>[&quot;LEA&quot;, &quot;LEB&quot;, … &quot;30A&quot;]</td><td>[0.004657, -0.032263, … 0.015374]</td><td>2.511368</td><td>-0.072591</td></tr><tr><td>&quot;Ancestral Reminiscence&quot;</td><td>&quot;625690d3-7131-45de-adea-9c9272…</td><td>&quot;{3}{U}&quot;</td><td>&quot;Sorcery&quot;</td><td>&quot;Draw three cards, then discard…</td><td>null</td><td>null</td><td>null</td><td>[&quot;common&quot;]</td><td>[&quot;LCI&quot;]</td><td>[0.025741, -0.001504, … 0.014874]</td><td>2.510941</td><td>-0.005551</td></tr><tr><td>&quot;Recall&quot;</td><td>&quot;dd82d1f8-12bb-4b71-9a25-76a9dc…</td><td>&quot;{X}{X}{U}&quot;</td><td>&quot;Sorcery&quot;</td><td>&quot;Discard X cards, then return a…</td><td>null</td><td>null</td><td>null</td><td>[&quot;uncommon&quot;, &quot;rare&quot;]</td><td>[&quot;LEG&quot;, &quot;BCHR&quot;, … &quot;ME3&quot;]</td><td>[0.00087, -0.014176, … 0.002829]</td><td>2.373871</td><td>-0.157948</td></tr><tr><td>&quot;Ancestral Memories&quot;</td><td>&quot;8642adc6-bf7f-4de8-a592-705285…</td><td>&quot;{2}{U}{U}{U}&quot;</td><td>&quot;Sorcery&quot;</td><td>&quot;Look at the top seven cards of…</td><td>null</td><td>null</td><td>null</td><td>[&quot;rare&quot;]</td><td>[&quot;MIR&quot;, &quot;POR&quot;, … &quot;PLST&quot;]</td><td>[0.027947, -0.007178, … -0.007604]</td><td>2.562378</td><td>-0.007009</td></tr><tr><td>&quot;Ancient Craving&quot;</td><td>&quot;e3a46159-2a91-4c89-87d7-13b52b…</td><td>&quot;{3}{B}&quot;</td><td>&quot;Sorcery&quot;</td><td>&quot;You draw three cards and you l…</td><td>null</td><td>null</td><td>null</td><td>[&quot;uncommon&quot;, &quot;rare&quot;]</td><td>[&quot;P02&quot;, &quot;S99&quot;, … &quot;J22&quot;]</td><td>[0.011091, -0.021437, … 0.013337]</td><td>3.002449</td><td>-0.235524</td></tr><tr><td>&quot;Hurkyl&#x27;s Recall&quot;</td><td>&quot;0d6439c1-9969-4fd0-b6ad-1a88c1…</td><td>&quot;{1}{U}&quot;</td><td>&quot;Instant&quot;</td><td>&quot;Return all artifacts target pl…</td><td>null</td><td>null</td><td>null</td><td>[&quot;rare&quot;]</td><td>[&quot;ATQ&quot;, &quot;3ED&quot;, … &quot;PLST&quot;]</td><td>[0.008584, -0.016121, … 0.026116]</td><td>2.342964</td><td>0.027781</td></tr><tr><td>&quot;Can&#x27;t Quite Recall&quot;</td><td>&quot;e65a3a97-88ab-4949-9aa5-3dd432…</td><td>&quot;{U}&quot;</td><td>&quot;Instant&quot;</td><td>&quot;Forbidden (This card can&#x27;t be …</td><td>null</td><td>null</td><td>null</td><td>[&quot;rare&quot;]</td><td>[&quot;MB2&quot;]</td><td>[0.028659, -0.038009, … -0.02904]</td><td>2.648621</td><td>-0.132611</td></tr><tr><td>&quot;Ancestral Vision&quot;</td><td>&quot;9079c93e-3da8-442a-89d2-609a3e…</td><td>null</td><td>&quot;Sorcery&quot;</td><td>&quot;Suspend 4—{U} (Rather than cas…</td><td>null</td><td>null</td><td>null</td><td>[&quot;rare&quot;, &quot;mythic&quot;]</td><td>[&quot;TSP&quot;, &quot;DD2&quot;, … &quot;TSR&quot;]</td><td>[0.021205, -0.021539, … 0.000558]</td><td>1.889961</td><td>0.170573</td></tr><tr><td>&quot;Ancestral Tribute&quot;</td><td>&quot;3f28b2af-7891-49eb-a07f-5552b5…</td><td>&quot;{5}{W}{W}&quot;</td><td>&quot;Sorcery&quot;</td><td>&quot;You gain 2 life for each card …</td><td>null</td><td>null</td><td>null</td><td>[&quot;rare&quot;]</td><td>[&quot;ODY&quot;]</td><td>[0.007481, 0.005177, … -0.001027]</td><td>3.65834</td><td>-0.209447</td></tr><tr><td>&quot;Rally the Ancestors&quot;</td><td>&quot;dfad0c6f-0dbe-48e8-aa32-3c9a0d…</td><td>&quot;{X}{W}{W}&quot;</td><td>&quot;Instant&quot;</td><td>&quot;Return each creature card with…</td><td>null</td><td>null</td><td>null</td><td>[&quot;rare&quot;]</td><td>[&quot;PFRF&quot;, &quot;FRF&quot;, &quot;EA1&quot;]</td><td>[-0.00803, -0.004047, … 0.012105]</td><td>2.241409</td><td>-0.127309</td></tr></tbody></table></div>"
      ],
      "text/plain": [
       "shape: (10, 13)\n",
       "┌────────────┬────────────┬───────────┬─────────┬───┬───────────┬───────────┬──────────┬───────────┐\n",
       "│ name       ┆ scryfallId ┆ manaCost  ┆ type    ┆ … ┆ sets      ┆ embedding ┆ x_2d     ┆ y_2d      │\n",
       "│ ---        ┆ ---        ┆ ---       ┆ ---     ┆   ┆ ---       ┆ ---       ┆ ---      ┆ ---       │\n",
       "│ str        ┆ str        ┆ str       ┆ str     ┆   ┆ list[enum ┆ array[f32 ┆ f32      ┆ f32       │\n",
       "│            ┆            ┆           ┆         ┆   ┆ ]         ┆ , 768]    ┆          ┆           │\n",
       "╞════════════╪════════════╪═══════════╪═════════╪═══╪═══════════╪═══════════╪══════════╪═══════════╡\n",
       "│ Ancestral  ┆ 71283e4c-e ┆ {U}       ┆ Instant ┆ … ┆ [\"LEA\",   ┆ [0.004657 ┆ 2.511368 ┆ -0.072591 │\n",
       "│ Recall     ┆ fd9-4a96-9 ┆           ┆         ┆   ┆ \"LEB\", …  ┆ , -0.0322 ┆          ┆           │\n",
       "│            ┆ 91c-6bbb16 ┆           ┆         ┆   ┆ \"30A\"]    ┆ 63, …     ┆          ┆           │\n",
       "│            ┆ …          ┆           ┆         ┆   ┆           ┆ 0.0153…   ┆          ┆           │\n",
       "│ Ancestral  ┆ 625690d3-7 ┆ {3}{U}    ┆ Sorcery ┆ … ┆ [\"LCI\"]   ┆ [0.025741 ┆ 2.510941 ┆ -0.005551 │\n",
       "│ Reminiscen ┆ 131-45de-a ┆           ┆         ┆   ┆           ┆ , -0.0015 ┆          ┆           │\n",
       "│ ce         ┆ dea-9c9272 ┆           ┆         ┆   ┆           ┆ 04, …     ┆          ┆           │\n",
       "│            ┆ …          ┆           ┆         ┆   ┆           ┆ 0.0148…   ┆          ┆           │\n",
       "│ Recall     ┆ dd82d1f8-1 ┆ {X}{X}{U} ┆ Sorcery ┆ … ┆ [\"LEG\",   ┆ [0.00087, ┆ 2.373871 ┆ -0.157948 │\n",
       "│            ┆ 2bb-4b71-9 ┆           ┆         ┆   ┆ \"BCHR\", … ┆ -0.014176 ┆          ┆           │\n",
       "│            ┆ a25-76a9dc ┆           ┆         ┆   ┆ \"ME3\"]    ┆ , …       ┆          ┆           │\n",
       "│            ┆ …          ┆           ┆         ┆   ┆           ┆ 0.00282…  ┆          ┆           │\n",
       "│ Ancestral  ┆ 8642adc6-b ┆ {2}{U}{U} ┆ Sorcery ┆ … ┆ [\"MIR\",   ┆ [0.027947 ┆ 2.562378 ┆ -0.007009 │\n",
       "│ Memories   ┆ f7f-4de8-a ┆ {U}       ┆         ┆   ┆ \"POR\", …  ┆ , -0.0071 ┆          ┆           │\n",
       "│            ┆ 592-705285 ┆           ┆         ┆   ┆ \"PLST\"]   ┆ 78, …     ┆          ┆           │\n",
       "│            ┆ …          ┆           ┆         ┆   ┆           ┆ -0.007…   ┆          ┆           │\n",
       "│ Ancient    ┆ e3a46159-2 ┆ {3}{B}    ┆ Sorcery ┆ … ┆ [\"P02\",   ┆ [0.011091 ┆ 3.002449 ┆ -0.235524 │\n",
       "│ Craving    ┆ a91-4c89-8 ┆           ┆         ┆   ┆ \"S99\", …  ┆ , -0.0214 ┆          ┆           │\n",
       "│            ┆ 7d7-13b52b ┆           ┆         ┆   ┆ \"J22\"]    ┆ 37, …     ┆          ┆           │\n",
       "│            ┆ …          ┆           ┆         ┆   ┆           ┆ 0.0133…   ┆          ┆           │\n",
       "│ Hurkyl's   ┆ 0d6439c1-9 ┆ {1}{U}    ┆ Instant ┆ … ┆ [\"ATQ\",   ┆ [0.008584 ┆ 2.342964 ┆ 0.027781  │\n",
       "│ Recall     ┆ 969-4fd0-b ┆           ┆         ┆   ┆ \"3ED\", …  ┆ , -0.0161 ┆          ┆           │\n",
       "│            ┆ 6ad-1a88c1 ┆           ┆         ┆   ┆ \"PLST\"]   ┆ 21, …     ┆          ┆           │\n",
       "│            ┆ …          ┆           ┆         ┆   ┆           ┆ 0.0261…   ┆          ┆           │\n",
       "│ Can't      ┆ e65a3a97-8 ┆ {U}       ┆ Instant ┆ … ┆ [\"MB2\"]   ┆ [0.028659 ┆ 2.648621 ┆ -0.132611 │\n",
       "│ Quite      ┆ 8ab-4949-9 ┆           ┆         ┆   ┆           ┆ , -0.0380 ┆          ┆           │\n",
       "│ Recall     ┆ aa5-3dd432 ┆           ┆         ┆   ┆           ┆ 09, …     ┆          ┆           │\n",
       "│            ┆ …          ┆           ┆         ┆   ┆           ┆ -0.029…   ┆          ┆           │\n",
       "│ Ancestral  ┆ 9079c93e-3 ┆ null      ┆ Sorcery ┆ … ┆ [\"TSP\",   ┆ [0.021205 ┆ 1.889961 ┆ 0.170573  │\n",
       "│ Vision     ┆ da8-442a-8 ┆           ┆         ┆   ┆ \"DD2\", …  ┆ , -0.0215 ┆          ┆           │\n",
       "│            ┆ 9d2-609a3e ┆           ┆         ┆   ┆ \"TSR\"]    ┆ 39, …     ┆          ┆           │\n",
       "│            ┆ …          ┆           ┆         ┆   ┆           ┆ 0.0005…   ┆          ┆           │\n",
       "│ Ancestral  ┆ 3f28b2af-7 ┆ {5}{W}{W} ┆ Sorcery ┆ … ┆ [\"ODY\"]   ┆ [0.007481 ┆ 3.65834  ┆ -0.209447 │\n",
       "│ Tribute    ┆ 891-49eb-a ┆           ┆         ┆   ┆           ┆ ,         ┆          ┆           │\n",
       "│            ┆ 07f-5552b5 ┆           ┆         ┆   ┆           ┆ 0.005177, ┆          ┆           │\n",
       "│            ┆ …          ┆           ┆         ┆   ┆           ┆ …         ┆          ┆           │\n",
       "│            ┆            ┆           ┆         ┆   ┆           ┆ -0.0010…  ┆          ┆           │\n",
       "│ Rally the  ┆ dfad0c6f-0 ┆ {X}{W}{W} ┆ Instant ┆ … ┆ [\"PFRF\",  ┆ [-0.00803 ┆ 2.241409 ┆ -0.127309 │\n",
       "│ Ancestors  ┆ dbe-48e8-a ┆           ┆         ┆   ┆ \"FRF\",    ┆ , -0.0040 ┆          ┆           │\n",
       "│            ┆ a32-3c9a0d ┆           ┆         ┆   ┆ \"EA1\"]    ┆ 47, …     ┆          ┆           │\n",
       "│            ┆ …          ┆           ┆         ┆   ┆           ┆ 0.0121…   ┆          ┆           │\n",
       "└────────────┴────────────┴───────────┴─────────┴───┴───────────┴───────────┴──────────┴───────────┘"
      ]
     },
     "execution_count": 54,
     "metadata": {},
     "output_type": "execute_result"
    }
   ],
   "source": [
    "get_similar_cards(\"Ancestral Recall\")"
   ]
  },
  {
   "cell_type": "code",
   "execution_count": 56,
   "metadata": {},
   "outputs": [
    {
     "name": "stdout",
     "output_type": "stream",
     "text": [
      "[0.         0.01082736 0.01657365 0.02393349 0.02517892 0.02520704\n",
      " 0.03370358 0.03665064 0.03704501 0.04246777]\n"
     ]
    },
    {
     "data": {
      "text/html": [
       "<div><style>\n",
       ".dataframe > thead > tr,\n",
       ".dataframe > tbody > tr {\n",
       "  text-align: right;\n",
       "  white-space: pre-wrap;\n",
       "}\n",
       "</style>\n",
       "<small>shape: (10, 13)</small><table border=\"1\" class=\"dataframe\"><thead><tr><th>name</th><th>scryfallId</th><th>manaCost</th><th>type</th><th>text</th><th>power</th><th>toughness</th><th>loyalty</th><th>rarities</th><th>sets</th><th>embedding</th><th>x_2d</th><th>y_2d</th></tr><tr><td>str</td><td>str</td><td>str</td><td>str</td><td>str</td><td>str</td><td>str</td><td>str</td><td>list[enum]</td><td>list[enum]</td><td>array[f32, 768]</td><td>f32</td><td>f32</td></tr></thead><tbody><tr><td>&quot;Emrakul, the Aeons Torn&quot;</td><td>&quot;d2c632e1-faa8-40f9-a5b7-877364…</td><td>&quot;{15}&quot;</td><td>&quot;Legendary Creature — Eldrazi&quot;</td><td>&quot;This spell can&#x27;t be countered.…</td><td>&quot;15&quot;</td><td>&quot;15&quot;</td><td>null</td><td>[&quot;mythic&quot;]</td><td>[&quot;PRM&quot;, &quot;PPRO&quot;, … &quot;2X2&quot;]</td><td>[0.020774, -0.00658, … 0.040038]</td><td>-0.597794</td><td>3.863326</td></tr><tr><td>&quot;Petrifying Meddler&quot;</td><td>&quot;f0f2bdfd-1cbc-456e-aba7-4e0b64…</td><td>&quot;{4}{U}&quot;</td><td>&quot;Creature — Eldrazi&quot;</td><td>&quot;Devoid (This card has no color…</td><td>&quot;4&quot;</td><td>&quot;5&quot;</td><td>null</td><td>[&quot;common&quot;]</td><td>[&quot;MH3&quot;]</td><td>[0.001498, -0.025573, … 0.018037]</td><td>-0.605446</td><td>3.870986</td></tr><tr><td>&quot;Thief of Existence&quot;</td><td>&quot;328b02ca-d8eb-401d-9c41-93f8eb…</td><td>&quot;{1}{C}{G}&quot;</td><td>&quot;Creature — Eldrazi&quot;</td><td>&quot;Devoid (This card has no color…</td><td>&quot;3&quot;</td><td>&quot;4&quot;</td><td>null</td><td>[&quot;rare&quot;]</td><td>[&quot;PMH3&quot;, &quot;MH3&quot;]</td><td>[0.015042, -0.024404, … 0.04202]</td><td>-0.61261</td><td>3.855899</td></tr><tr><td>&quot;Ulamog, the Ceaseless Hunger&quot;</td><td>&quot;c74ae706-b3b3-4097-a387-6f6c38…</td><td>&quot;{10}&quot;</td><td>&quot;Legendary Creature — Eldrazi&quot;</td><td>&quot;When you cast this spell, exil…</td><td>&quot;10&quot;</td><td>&quot;10&quot;</td><td>null</td><td>[&quot;mythic&quot;]</td><td>[&quot;PBFZ&quot;, &quot;BFZ&quot;, … &quot;CMM&quot;]</td><td>[-0.004715, 0.01317, … 0.02376]</td><td>-0.57708</td><td>3.851336</td></tr><tr><td>&quot;Bismuth Mindrender&quot;</td><td>&quot;d1ee8ead-df6a-4c02-83f7-2902d9…</td><td>&quot;{3}{B}&quot;</td><td>&quot;Creature — Eldrazi&quot;</td><td>&quot;Devoid (This card has no color…</td><td>&quot;4&quot;</td><td>&quot;3&quot;</td><td>null</td><td>[&quot;rare&quot;]</td><td>[&quot;M3C&quot;]</td><td>[-0.012132, -0.030481, … 0.020597]</td><td>-0.614975</td><td>3.881732</td></tr><tr><td>&quot;Zhulodok, Void Gorger&quot;</td><td>&quot;a015461d-4214-4feb-8b04-519c53…</td><td>&quot;{5}{C}&quot;</td><td>&quot;Legendary Creature — Eldrazi&quot;</td><td>&quot;Colorless spells you cast from…</td><td>&quot;7&quot;</td><td>&quot;4&quot;</td><td>null</td><td>[&quot;mythic&quot;]</td><td>[&quot;CMM&quot;]</td><td>[-0.000222, -0.017833, … -0.010909]</td><td>-0.580559</td><td>3.881721</td></tr><tr><td>&quot;Oblivion Sower&quot;</td><td>&quot;eb179ae3-28d9-4741-a055-e7e767…</td><td>&quot;{6}&quot;</td><td>&quot;Creature — Eldrazi&quot;</td><td>&quot;When you cast this spell, targ…</td><td>&quot;5&quot;</td><td>&quot;8&quot;</td><td>null</td><td>[&quot;mythic&quot;]</td><td>[&quot;PRM&quot;, &quot;DDP&quot;, … &quot;M3C&quot;]</td><td>[-0.011424, -0.011586, … 0.013398]</td><td>-0.58429</td><td>3.832446</td></tr><tr><td>&quot;Ulamog, the Defiler&quot;</td><td>&quot;d577b0a9-b680-4dd2-9df2-865bab…</td><td>&quot;{10}&quot;</td><td>&quot;Legendary Creature — Eldrazi&quot;</td><td>&quot;When you cast this spell, targ…</td><td>&quot;7&quot;</td><td>&quot;7&quot;</td><td>null</td><td>[&quot;mythic&quot;]</td><td>[&quot;PMH3&quot;, &quot;MH3&quot;]</td><td>[-0.005418, 0.034889, … 0.021218]</td><td>-0.577354</td><td>3.893748</td></tr><tr><td>&quot;Conduit of Ruin&quot;</td><td>&quot;4bc855d3-817c-4748-a7f5-1533d8…</td><td>&quot;{6}&quot;</td><td>&quot;Creature — Eldrazi&quot;</td><td>&quot;When you cast this spell, you …</td><td>&quot;5&quot;</td><td>&quot;5&quot;</td><td>null</td><td>[&quot;rare&quot;]</td><td>[&quot;PBFZ&quot;, &quot;BFZ&quot;]</td><td>[0.027887, 0.005262, … 0.013719]</td><td>-0.632179</td><td>3.877109</td></tr><tr><td>&quot;Emrakul&#x27;s Influence&quot;</td><td>&quot;112476e7-72ab-4ebc-9e6e-e96fbf…</td><td>&quot;{2}{G}{G}&quot;</td><td>&quot;Enchantment&quot;</td><td>&quot;Whenever you cast an Eldrazi c…</td><td>null</td><td>null</td><td>null</td><td>[&quot;uncommon&quot;]</td><td>[&quot;EMN&quot;]</td><td>[0.020875, -0.021922, … 0.001959]</td><td>-0.557701</td><td>3.87733</td></tr></tbody></table></div>"
      ],
      "text/plain": [
       "shape: (10, 13)\n",
       "┌───────────┬───────────┬───────────┬───────────┬───┬───────────┬───────────┬───────────┬──────────┐\n",
       "│ name      ┆ scryfallI ┆ manaCost  ┆ type      ┆ … ┆ sets      ┆ embedding ┆ x_2d      ┆ y_2d     │\n",
       "│ ---       ┆ d         ┆ ---       ┆ ---       ┆   ┆ ---       ┆ ---       ┆ ---       ┆ ---      │\n",
       "│ str       ┆ ---       ┆ str       ┆ str       ┆   ┆ list[enum ┆ array[f32 ┆ f32       ┆ f32      │\n",
       "│           ┆ str       ┆           ┆           ┆   ┆ ]         ┆ , 768]    ┆           ┆          │\n",
       "╞═══════════╪═══════════╪═══════════╪═══════════╪═══╪═══════════╪═══════════╪═══════════╪══════════╡\n",
       "│ Emrakul,  ┆ d2c632e1- ┆ {15}      ┆ Legendary ┆ … ┆ [\"PRM\",   ┆ [0.020774 ┆ -0.597794 ┆ 3.863326 │\n",
       "│ the Aeons ┆ faa8-40f9 ┆           ┆ Creature  ┆   ┆ \"PPRO\", … ┆ ,         ┆           ┆          │\n",
       "│ Torn      ┆ -a5b7-877 ┆           ┆ — Eldrazi ┆   ┆ \"2X2\"]    ┆ -0.00658, ┆           ┆          │\n",
       "│           ┆ 364…      ┆           ┆           ┆   ┆           ┆ …         ┆           ┆          │\n",
       "│           ┆           ┆           ┆           ┆   ┆           ┆ 0.04003…  ┆           ┆          │\n",
       "│ Petrifyin ┆ f0f2bdfd- ┆ {4}{U}    ┆ Creature  ┆ … ┆ [\"MH3\"]   ┆ [0.001498 ┆ -0.605446 ┆ 3.870986 │\n",
       "│ g Meddler ┆ 1cbc-456e ┆           ┆ — Eldrazi ┆   ┆           ┆ , -0.0255 ┆           ┆          │\n",
       "│           ┆ -aba7-4e0 ┆           ┆           ┆   ┆           ┆ 73, …     ┆           ┆          │\n",
       "│           ┆ b64…      ┆           ┆           ┆   ┆           ┆ 0.0180…   ┆           ┆          │\n",
       "│ Thief of  ┆ 328b02ca- ┆ {1}{C}{G} ┆ Creature  ┆ … ┆ [\"PMH3\",  ┆ [0.015042 ┆ -0.61261  ┆ 3.855899 │\n",
       "│ Existence ┆ d8eb-401d ┆           ┆ — Eldrazi ┆   ┆ \"MH3\"]    ┆ , -0.0244 ┆           ┆          │\n",
       "│           ┆ -9c41-93f ┆           ┆           ┆   ┆           ┆ 04, …     ┆           ┆          │\n",
       "│           ┆ 8eb…      ┆           ┆           ┆   ┆           ┆ 0.0420…   ┆           ┆          │\n",
       "│ Ulamog,   ┆ c74ae706- ┆ {10}      ┆ Legendary ┆ … ┆ [\"PBFZ\",  ┆ [-0.00471 ┆ -0.57708  ┆ 3.851336 │\n",
       "│ the       ┆ b3b3-4097 ┆           ┆ Creature  ┆   ┆ \"BFZ\", …  ┆ 5,        ┆           ┆          │\n",
       "│ Ceaseless ┆ -a387-6f6 ┆           ┆ — Eldrazi ┆   ┆ \"CMM\"]    ┆ 0.01317,  ┆           ┆          │\n",
       "│ Hunger    ┆ c38…      ┆           ┆           ┆   ┆           ┆ …         ┆           ┆          │\n",
       "│           ┆           ┆           ┆           ┆   ┆           ┆ 0.02376…  ┆           ┆          │\n",
       "│ Bismuth   ┆ d1ee8ead- ┆ {3}{B}    ┆ Creature  ┆ … ┆ [\"M3C\"]   ┆ [-0.01213 ┆ -0.614975 ┆ 3.881732 │\n",
       "│ Mindrende ┆ df6a-4c02 ┆           ┆ — Eldrazi ┆   ┆           ┆ 2, -0.030 ┆           ┆          │\n",
       "│ r         ┆ -83f7-290 ┆           ┆           ┆   ┆           ┆ 481, …    ┆           ┆          │\n",
       "│           ┆ 2d9…      ┆           ┆           ┆   ┆           ┆ 0.020…    ┆           ┆          │\n",
       "│ Zhulodok, ┆ a015461d- ┆ {5}{C}    ┆ Legendary ┆ … ┆ [\"CMM\"]   ┆ [-0.00022 ┆ -0.580559 ┆ 3.881721 │\n",
       "│ Void      ┆ 4214-4feb ┆           ┆ Creature  ┆   ┆           ┆ 2, -0.017 ┆           ┆          │\n",
       "│ Gorger    ┆ -8b04-519 ┆           ┆ — Eldrazi ┆   ┆           ┆ 833, …    ┆           ┆          │\n",
       "│           ┆ c53…      ┆           ┆           ┆   ┆           ┆ -0.01…    ┆           ┆          │\n",
       "│ Oblivion  ┆ eb179ae3- ┆ {6}       ┆ Creature  ┆ … ┆ [\"PRM\",   ┆ [-0.01142 ┆ -0.58429  ┆ 3.832446 │\n",
       "│ Sower     ┆ 28d9-4741 ┆           ┆ — Eldrazi ┆   ┆ \"DDP\", …  ┆ 4, -0.011 ┆           ┆          │\n",
       "│           ┆ -a055-e7e ┆           ┆           ┆   ┆ \"M3C\"]    ┆ 586, …    ┆           ┆          │\n",
       "│           ┆ 767…      ┆           ┆           ┆   ┆           ┆ 0.013…    ┆           ┆          │\n",
       "│ Ulamog,   ┆ d577b0a9- ┆ {10}      ┆ Legendary ┆ … ┆ [\"PMH3\",  ┆ [-0.00541 ┆ -0.577354 ┆ 3.893748 │\n",
       "│ the       ┆ b680-4dd2 ┆           ┆ Creature  ┆   ┆ \"MH3\"]    ┆ 8,        ┆           ┆          │\n",
       "│ Defiler   ┆ -9df2-865 ┆           ┆ — Eldrazi ┆   ┆           ┆ 0.034889, ┆           ┆          │\n",
       "│           ┆ bab…      ┆           ┆           ┆   ┆           ┆ … 0.0212… ┆           ┆          │\n",
       "│ Conduit   ┆ 4bc855d3- ┆ {6}       ┆ Creature  ┆ … ┆ [\"PBFZ\",  ┆ [0.027887 ┆ -0.632179 ┆ 3.877109 │\n",
       "│ of Ruin   ┆ 817c-4748 ┆           ┆ — Eldrazi ┆   ┆ \"BFZ\"]    ┆ ,         ┆           ┆          │\n",
       "│           ┆ -a7f5-153 ┆           ┆           ┆   ┆           ┆ 0.005262, ┆           ┆          │\n",
       "│           ┆ 3d8…      ┆           ┆           ┆   ┆           ┆ …         ┆           ┆          │\n",
       "│           ┆           ┆           ┆           ┆   ┆           ┆ 0.01371…  ┆           ┆          │\n",
       "│ Emrakul's ┆ 112476e7- ┆ {2}{G}{G} ┆ Enchantme ┆ … ┆ [\"EMN\"]   ┆ [0.020875 ┆ -0.557701 ┆ 3.87733  │\n",
       "│ Influence ┆ 72ab-4ebc ┆           ┆ nt        ┆   ┆           ┆ , -0.0219 ┆           ┆          │\n",
       "│           ┆ -9e6e-e96 ┆           ┆           ┆   ┆           ┆ 22, …     ┆           ┆          │\n",
       "│           ┆ fbf…      ┆           ┆           ┆   ┆           ┆ 0.0019…   ┆           ┆          │\n",
       "└───────────┴───────────┴───────────┴───────────┴───┴───────────┴───────────┴───────────┴──────────┘"
      ]
     },
     "execution_count": 56,
     "metadata": {},
     "output_type": "execute_result"
    }
   ],
   "source": [
    "get_similar_cards_euclidian(\"Emrakul, the Aeons Torn\")"
   ]
  },
  {
   "cell_type": "code",
   "execution_count": 57,
   "metadata": {},
   "outputs": [
    {
     "name": "stdout",
     "output_type": "stream",
     "text": [
      "[0.         0.00642571 0.00687333 0.014739   0.01630445 0.01838567\n",
      " 0.01917535 0.02046773 0.02206098 0.02609736]\n"
     ]
    },
    {
     "data": {
      "text/html": [
       "<div><style>\n",
       ".dataframe > thead > tr,\n",
       ".dataframe > tbody > tr {\n",
       "  text-align: right;\n",
       "  white-space: pre-wrap;\n",
       "}\n",
       "</style>\n",
       "<small>shape: (10, 13)</small><table border=\"1\" class=\"dataframe\"><thead><tr><th>name</th><th>scryfallId</th><th>manaCost</th><th>type</th><th>text</th><th>power</th><th>toughness</th><th>loyalty</th><th>rarities</th><th>sets</th><th>embedding</th><th>x_2d</th><th>y_2d</th></tr><tr><td>str</td><td>str</td><td>str</td><td>str</td><td>str</td><td>str</td><td>str</td><td>str</td><td>list[enum]</td><td>list[enum]</td><td>array[f32, 768]</td><td>f32</td><td>f32</td></tr></thead><tbody><tr><td>&quot;Lightning Helix&quot;</td><td>&quot;4101e3fe-b0e7-4f0f-b9ac-9b61a4…</td><td>&quot;{R}{W}&quot;</td><td>&quot;Instant&quot;</td><td>&quot;~ deals 3 damage to any target…</td><td>null</td><td>null</td><td>null</td><td>[&quot;uncommon&quot;, &quot;rare&quot;]</td><td>[&quot;PRM&quot;, &quot;RAV&quot;, … &quot;MKM&quot;]</td><td>[0.00352, -0.043314, … 0.013035]</td><td>3.356304</td><td>-2.39652</td></tr><tr><td>&quot;Unyaro Bee Sting&quot;</td><td>&quot;71bdd944-e86c-4e5e-b75c-9bbf4f…</td><td>&quot;{3}{G}&quot;</td><td>&quot;Sorcery&quot;</td><td>&quot;~ deals 2 damage to any target…</td><td>null</td><td>null</td><td>null</td><td>[&quot;uncommon&quot;]</td><td>[&quot;MIR&quot;]</td><td>[-0.006128, -0.02389, … 0.009669]</td><td>3.36182</td><td>-2.393224</td></tr><tr><td>&quot;Searing Spear&quot;</td><td>&quot;9154f49f-229f-4362-a8e1-616666…</td><td>&quot;{1}{R}&quot;</td><td>&quot;Instant&quot;</td><td>&quot;~ deals 3 damage to any target…</td><td>null</td><td>null</td><td>null</td><td>[&quot;common&quot;, &quot;rare&quot;]</td><td>[&quot;PRM&quot;, &quot;M13&quot;, … &quot;J22&quot;]</td><td>[0.005112, -0.005956, … 0.036744]</td><td>3.360569</td><td>-2.391129</td></tr><tr><td>&quot;Borrowing the East Wind&quot;</td><td>&quot;96ba9014-d750-4924-aa6f-8b9f42…</td><td>&quot;{X}{G}{G}&quot;</td><td>&quot;Sorcery&quot;</td><td>&quot;~ deals X damage to each creat…</td><td>null</td><td>null</td><td>null</td><td>[&quot;rare&quot;]</td><td>[&quot;PTK&quot;]</td><td>[0.024967, 0.035947, … -0.008502]</td><td>3.365517</td><td>-2.385015</td></tr><tr><td>&quot;Strafe&quot;</td><td>&quot;fe6a097b-ece7-4838-b47e-5951b4…</td><td>&quot;{R}&quot;</td><td>&quot;Sorcery&quot;</td><td>&quot;~ deals 3 damage to target non…</td><td>null</td><td>null</td><td>null</td><td>[&quot;uncommon&quot;]</td><td>[&quot;PLS&quot;, &quot;PLST&quot;]</td><td>[0.016403, 0.052236, … 0.012376]</td><td>3.372589</td><td>-2.395722</td></tr><tr><td>&quot;Unfriendly Fire&quot;</td><td>&quot;7a61b274-0499-4cb6-a2e4-f5e18a…</td><td>&quot;{4}{R}&quot;</td><td>&quot;Instant&quot;</td><td>&quot;~ deals 4 damage to any target…</td><td>null</td><td>null</td><td>null</td><td>[&quot;common&quot;]</td><td>[&quot;XLN&quot;]</td><td>[-0.033206, 0.03734, … 0.059507]</td><td>3.344536</td><td>-2.410645</td></tr><tr><td>&quot;Searing Wind&quot;</td><td>&quot;61afd3c5-7103-4247-8bb9-747532…</td><td>&quot;{8}{R}&quot;</td><td>&quot;Instant&quot;</td><td>&quot;~ deals 10 damage to any targe…</td><td>null</td><td>null</td><td>null</td><td>[&quot;rare&quot;]</td><td>[&quot;PCY&quot;, &quot;8ED&quot;]</td><td>[0.018687, 0.012586, … 0.023366]</td><td>3.33733</td><td>-2.39375</td></tr><tr><td>&quot;Tremor&quot;</td><td>&quot;0fef4049-8ec2-49c0-8a0a-1b057c…</td><td>&quot;{R}&quot;</td><td>&quot;Sorcery&quot;</td><td>&quot;~ deals 1 damage to each creat…</td><td>null</td><td>null</td><td>null</td><td>[&quot;common&quot;]</td><td>[&quot;VIS&quot;, &quot;P02&quot;, … &quot;8ED&quot;]</td><td>[0.009527, 0.024422, … 0.036129]</td><td>3.369507</td><td>-2.41216</td></tr><tr><td>&quot;Flame Slash&quot;</td><td>&quot;bcfe4a26-3ea8-404e-92bd-b453ee…</td><td>&quot;{R}&quot;</td><td>&quot;Sorcery&quot;</td><td>&quot;~ deals 4 damage to target cre…</td><td>null</td><td>null</td><td>null</td><td>[&quot;common&quot;, &quot;rare&quot;]</td><td>[&quot;ROE&quot;, &quot;DDK&quot;, … &quot;SCH&quot;]</td><td>[0.037582, -0.016474, … 0.034551]</td><td>3.341293</td><td>-2.380353</td></tr><tr><td>&quot;Jagged Lightning&quot;</td><td>&quot;80d1347a-57d0-402b-9a5a-4be92b…</td><td>&quot;{3}{R}{R}&quot;</td><td>&quot;Sorcery&quot;</td><td>&quot;~ deals 3 damage to each of tw…</td><td>null</td><td>null</td><td>null</td><td>[&quot;uncommon&quot;]</td><td>[&quot;P02&quot;, &quot;USG&quot;, … &quot;PS11&quot;]</td><td>[0.008499, 0.038819, … 0.048889]</td><td>3.33313</td><td>-2.408521</td></tr></tbody></table></div>"
      ],
      "text/plain": [
       "shape: (10, 13)\n",
       "┌────────────┬────────────┬───────────┬─────────┬───┬───────────┬───────────┬──────────┬───────────┐\n",
       "│ name       ┆ scryfallId ┆ manaCost  ┆ type    ┆ … ┆ sets      ┆ embedding ┆ x_2d     ┆ y_2d      │\n",
       "│ ---        ┆ ---        ┆ ---       ┆ ---     ┆   ┆ ---       ┆ ---       ┆ ---      ┆ ---       │\n",
       "│ str        ┆ str        ┆ str       ┆ str     ┆   ┆ list[enum ┆ array[f32 ┆ f32      ┆ f32       │\n",
       "│            ┆            ┆           ┆         ┆   ┆ ]         ┆ , 768]    ┆          ┆           │\n",
       "╞════════════╪════════════╪═══════════╪═════════╪═══╪═══════════╪═══════════╪══════════╪═══════════╡\n",
       "│ Lightning  ┆ 4101e3fe-b ┆ {R}{W}    ┆ Instant ┆ … ┆ [\"PRM\",   ┆ [0.00352, ┆ 3.356304 ┆ -2.39652  │\n",
       "│ Helix      ┆ 0e7-4f0f-b ┆           ┆         ┆   ┆ \"RAV\", …  ┆ -0.043314 ┆          ┆           │\n",
       "│            ┆ 9ac-9b61a4 ┆           ┆         ┆   ┆ \"MKM\"]    ┆ , …       ┆          ┆           │\n",
       "│            ┆ …          ┆           ┆         ┆   ┆           ┆ 0.01303…  ┆          ┆           │\n",
       "│ Unyaro Bee ┆ 71bdd944-e ┆ {3}{G}    ┆ Sorcery ┆ … ┆ [\"MIR\"]   ┆ [-0.00612 ┆ 3.36182  ┆ -2.393224 │\n",
       "│ Sting      ┆ 86c-4e5e-b ┆           ┆         ┆   ┆           ┆ 8,        ┆          ┆           │\n",
       "│            ┆ 75c-9bbf4f ┆           ┆         ┆   ┆           ┆ -0.02389, ┆          ┆           │\n",
       "│            ┆ …          ┆           ┆         ┆   ┆           ┆ … 0.0096… ┆          ┆           │\n",
       "│ Searing    ┆ 9154f49f-2 ┆ {1}{R}    ┆ Instant ┆ … ┆ [\"PRM\",   ┆ [0.005112 ┆ 3.360569 ┆ -2.391129 │\n",
       "│ Spear      ┆ 29f-4362-a ┆           ┆         ┆   ┆ \"M13\", …  ┆ , -0.0059 ┆          ┆           │\n",
       "│            ┆ 8e1-616666 ┆           ┆         ┆   ┆ \"J22\"]    ┆ 56, …     ┆          ┆           │\n",
       "│            ┆ …          ┆           ┆         ┆   ┆           ┆ 0.0367…   ┆          ┆           │\n",
       "│ Borrowing  ┆ 96ba9014-d ┆ {X}{G}{G} ┆ Sorcery ┆ … ┆ [\"PTK\"]   ┆ [0.024967 ┆ 3.365517 ┆ -2.385015 │\n",
       "│ the East   ┆ 750-4924-a ┆           ┆         ┆   ┆           ┆ ,         ┆          ┆           │\n",
       "│ Wind       ┆ a6f-8b9f42 ┆           ┆         ┆   ┆           ┆ 0.035947, ┆          ┆           │\n",
       "│            ┆ …          ┆           ┆         ┆   ┆           ┆ …         ┆          ┆           │\n",
       "│            ┆            ┆           ┆         ┆   ┆           ┆ -0.0085…  ┆          ┆           │\n",
       "│ Strafe     ┆ fe6a097b-e ┆ {R}       ┆ Sorcery ┆ … ┆ [\"PLS\",   ┆ [0.016403 ┆ 3.372589 ┆ -2.395722 │\n",
       "│            ┆ ce7-4838-b ┆           ┆         ┆   ┆ \"PLST\"]   ┆ ,         ┆          ┆           │\n",
       "│            ┆ 47e-5951b4 ┆           ┆         ┆   ┆           ┆ 0.052236, ┆          ┆           │\n",
       "│            ┆ …          ┆           ┆         ┆   ┆           ┆ …         ┆          ┆           │\n",
       "│            ┆            ┆           ┆         ┆   ┆           ┆ 0.01237…  ┆          ┆           │\n",
       "│ Unfriendly ┆ 7a61b274-0 ┆ {4}{R}    ┆ Instant ┆ … ┆ [\"XLN\"]   ┆ [-0.03320 ┆ 3.344536 ┆ -2.410645 │\n",
       "│ Fire       ┆ 499-4cb6-a ┆           ┆         ┆   ┆           ┆ 6,        ┆          ┆           │\n",
       "│            ┆ 2e4-f5e18a ┆           ┆         ┆   ┆           ┆ 0.03734,  ┆          ┆           │\n",
       "│            ┆ …          ┆           ┆         ┆   ┆           ┆ …         ┆          ┆           │\n",
       "│            ┆            ┆           ┆         ┆   ┆           ┆ 0.05950…  ┆          ┆           │\n",
       "│ Searing    ┆ 61afd3c5-7 ┆ {8}{R}    ┆ Instant ┆ … ┆ [\"PCY\",   ┆ [0.018687 ┆ 3.33733  ┆ -2.39375  │\n",
       "│ Wind       ┆ 103-4247-8 ┆           ┆         ┆   ┆ \"8ED\"]    ┆ ,         ┆          ┆           │\n",
       "│            ┆ bb9-747532 ┆           ┆         ┆   ┆           ┆ 0.012586, ┆          ┆           │\n",
       "│            ┆ …          ┆           ┆         ┆   ┆           ┆ …         ┆          ┆           │\n",
       "│            ┆            ┆           ┆         ┆   ┆           ┆ 0.02336…  ┆          ┆           │\n",
       "│ Tremor     ┆ 0fef4049-8 ┆ {R}       ┆ Sorcery ┆ … ┆ [\"VIS\",   ┆ [0.009527 ┆ 3.369507 ┆ -2.41216  │\n",
       "│            ┆ ec2-49c0-8 ┆           ┆         ┆   ┆ \"P02\", …  ┆ ,         ┆          ┆           │\n",
       "│            ┆ a0a-1b057c ┆           ┆         ┆   ┆ \"8ED\"]    ┆ 0.024422, ┆          ┆           │\n",
       "│            ┆ …          ┆           ┆         ┆   ┆           ┆ …         ┆          ┆           │\n",
       "│            ┆            ┆           ┆         ┆   ┆           ┆ 0.03612…  ┆          ┆           │\n",
       "│ Flame      ┆ bcfe4a26-3 ┆ {R}       ┆ Sorcery ┆ … ┆ [\"ROE\",   ┆ [0.037582 ┆ 3.341293 ┆ -2.380353 │\n",
       "│ Slash      ┆ ea8-404e-9 ┆           ┆         ┆   ┆ \"DDK\", …  ┆ , -0.0164 ┆          ┆           │\n",
       "│            ┆ 2bd-b453ee ┆           ┆         ┆   ┆ \"SCH\"]    ┆ 74, …     ┆          ┆           │\n",
       "│            ┆ …          ┆           ┆         ┆   ┆           ┆ 0.0345…   ┆          ┆           │\n",
       "│ Jagged     ┆ 80d1347a-5 ┆ {3}{R}{R} ┆ Sorcery ┆ … ┆ [\"P02\",   ┆ [0.008499 ┆ 3.33313  ┆ -2.408521 │\n",
       "│ Lightning  ┆ 7d0-402b-9 ┆           ┆         ┆   ┆ \"USG\", …  ┆ ,         ┆          ┆           │\n",
       "│            ┆ a5a-4be92b ┆           ┆         ┆   ┆ \"PS11\"]   ┆ 0.038819, ┆          ┆           │\n",
       "│            ┆ …          ┆           ┆         ┆   ┆           ┆ …         ┆          ┆           │\n",
       "│            ┆            ┆           ┆         ┆   ┆           ┆ 0.04888…  ┆          ┆           │\n",
       "└────────────┴────────────┴───────────┴─────────┴───┴───────────┴───────────┴──────────┴───────────┘"
      ]
     },
     "execution_count": 57,
     "metadata": {},
     "output_type": "execute_result"
    }
   ],
   "source": [
    "get_similar_cards_euclidian(\"Lightning Helix\")"
   ]
  },
  {
   "cell_type": "code",
   "execution_count": null,
   "metadata": {},
   "outputs": [],
   "source": []
  }
 ],
 "metadata": {
  "kernelspec": {
   "display_name": ".venv",
   "language": "python",
   "name": "python3"
  },
  "language_info": {
   "codemirror_mode": {
    "name": "ipython",
    "version": 3
   },
   "file_extension": ".py",
   "mimetype": "text/x-python",
   "name": "python",
   "nbconvert_exporter": "python",
   "pygments_lexer": "ipython3",
   "version": "3.13.1"
  }
 },
 "nbformat": 4,
 "nbformat_minor": 2
}
