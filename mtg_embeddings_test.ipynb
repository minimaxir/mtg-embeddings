{
 "cells": [
  {
   "cell_type": "code",
   "execution_count": 14,
   "metadata": {},
   "outputs": [],
   "source": [
    "import polars as pl\n",
    "import numpy as np"
   ]
  },
  {
   "cell_type": "code",
   "execution_count": 3,
   "metadata": {},
   "outputs": [
    {
     "data": {
      "text/html": [
       "<div><style>\n",
       ".dataframe > thead > tr,\n",
       ".dataframe > tbody > tr {\n",
       "  text-align: right;\n",
       "  white-space: pre-wrap;\n",
       "}\n",
       "</style>\n",
       "<small>shape: (31_650, 10)</small><table border=\"1\" class=\"dataframe\"><thead><tr><th>name</th><th>manaCost</th><th>type</th><th>text</th><th>power</th><th>toughness</th><th>loyalty</th><th>rarities</th><th>sets</th><th>embeds</th></tr><tr><td>str</td><td>str</td><td>str</td><td>str</td><td>str</td><td>str</td><td>str</td><td>list[enum]</td><td>list[enum]</td><td>array[f32, 768]</td></tr></thead><tbody><tr><td>&quot;&quot;Ach! Hans, Run!&quot;&quot;</td><td>&quot;{2}{R}{R}{G}{G}&quot;</td><td>&quot;Enchantment&quot;</td><td>&quot;At the beginning of your upkee…</td><td>null</td><td>null</td><td>null</td><td>[&quot;rare&quot;]</td><td>[&quot;UNH&quot;]</td><td>[0.021551, -0.036194, … -0.006151]</td></tr><tr><td>&quot;&quot;Brims&quot; Barone, Midway Mobster&quot;</td><td>&quot;{3}{W}{B}&quot;</td><td>&quot;Legendary Creature — Human Rog…</td><td>&quot;When ~ enters, put a +1/+1 cou…</td><td>&quot;5&quot;</td><td>&quot;4&quot;</td><td>null</td><td>[&quot;uncommon&quot;]</td><td>[&quot;UNF&quot;]</td><td>[0.000329, 0.025074, … 0.005499]</td></tr><tr><td>&quot;&quot;Intimidation Tactics&quot;&quot;</td><td>&quot;{B}&quot;</td><td>&quot;Sorcery&quot;</td><td>&quot;Target opponent reveals their …</td><td>null</td><td>null</td><td>null</td><td>[&quot;uncommon&quot;]</td><td>[&quot;DFT&quot;]</td><td>[-0.030729, -0.004603, … 0.007073]</td></tr><tr><td>&quot;&quot;Lifetime&quot; Pass Holder&quot;</td><td>&quot;{B}&quot;</td><td>&quot;Creature — Zombie Guest&quot;</td><td>&quot;~ enters tapped.\\nWhen ~ dies,…</td><td>&quot;2&quot;</td><td>&quot;1&quot;</td><td>null</td><td>[&quot;rare&quot;]</td><td>[&quot;UNF&quot;]</td><td>[0.001363, -0.003904, … 0.013427]</td></tr><tr><td>&quot;&quot;Name Sticker&quot; Goblin&quot;</td><td>&quot;{2}{R}&quot;</td><td>&quot;Creature — Goblin Guest&quot;</td><td>&quot;When this creature enters from…</td><td>&quot;2&quot;</td><td>&quot;2&quot;</td><td>null</td><td>[&quot;common&quot;]</td><td>[&quot;UNF&quot;]</td><td>[-0.032506, -0.006977, … -0.026924]</td></tr><tr><td>&hellip;</td><td>&hellip;</td><td>&hellip;</td><td>&hellip;</td><td>&hellip;</td><td>&hellip;</td><td>&hellip;</td><td>&hellip;</td><td>&hellip;</td><td>&hellip;</td></tr><tr><td>&quot;Éomer, King of Rohan&quot;</td><td>&quot;{3}{R}{W}&quot;</td><td>&quot;Legendary Creature — Human Nob…</td><td>&quot;Double strike\\n~ enters with a…</td><td>&quot;2&quot;</td><td>&quot;2&quot;</td><td>null</td><td>[&quot;rare&quot;]</td><td>[&quot;LTC&quot;]</td><td>[0.014294, 0.012956, … 0.019557]</td></tr><tr><td>&quot;Éomer, Marshal of Rohan&quot;</td><td>&quot;{2}{R}{R}&quot;</td><td>&quot;Legendary Creature — Human Kni…</td><td>&quot;Haste\\nWhenever one or more ot…</td><td>&quot;4&quot;</td><td>&quot;4&quot;</td><td>null</td><td>[&quot;rare&quot;]</td><td>[&quot;PLTR&quot;, &quot;LTR&quot;]</td><td>[-0.022398, 0.017195, … 0.046952]</td></tr><tr><td>&quot;Éowyn, Fearless Knight&quot;</td><td>&quot;{2}{R}{W}&quot;</td><td>&quot;Legendary Creature — Human Kni…</td><td>&quot;Haste\\nWhen ~ enters, exile ta…</td><td>&quot;3&quot;</td><td>&quot;4&quot;</td><td>null</td><td>[&quot;rare&quot;]</td><td>[&quot;PLTR&quot;, &quot;LTR&quot;]</td><td>[-0.033406, 0.007331, … 0.028238]</td></tr><tr><td>&quot;Éowyn, Lady of Rohan&quot;</td><td>&quot;{2}{W}&quot;</td><td>&quot;Legendary Creature — Human Nob…</td><td>&quot;At the beginning of combat on …</td><td>&quot;2&quot;</td><td>&quot;4&quot;</td><td>null</td><td>[&quot;uncommon&quot;]</td><td>[&quot;LTR&quot;]</td><td>[-0.001306, 0.005256, … 0.048215]</td></tr><tr><td>&quot;Éowyn, Shieldmaiden&quot;</td><td>&quot;{2}{U}{R}{W}&quot;</td><td>&quot;Legendary Creature — Human Kni…</td><td>&quot;First strike\\nAt the beginning…</td><td>&quot;5&quot;</td><td>&quot;4&quot;</td><td>null</td><td>[&quot;mythic&quot;]</td><td>[&quot;LTC&quot;]</td><td>[-0.004468, 0.002612, … 0.03123]</td></tr></tbody></table></div>"
      ],
      "text/plain": [
       "shape: (31_650, 10)\n",
       "┌────────────┬───────────┬───────────┬───────────┬───┬─────────┬───────────┬───────────┬───────────┐\n",
       "│ name       ┆ manaCost  ┆ type      ┆ text      ┆ … ┆ loyalty ┆ rarities  ┆ sets      ┆ embeds    │\n",
       "│ ---        ┆ ---       ┆ ---       ┆ ---       ┆   ┆ ---     ┆ ---       ┆ ---       ┆ ---       │\n",
       "│ str        ┆ str       ┆ str       ┆ str       ┆   ┆ str     ┆ list[enum ┆ list[enum ┆ array[f32 │\n",
       "│            ┆           ┆           ┆           ┆   ┆         ┆ ]         ┆ ]         ┆ , 768]    │\n",
       "╞════════════╪═══════════╪═══════════╪═══════════╪═══╪═════════╪═══════════╪═══════════╪═══════════╡\n",
       "│ \"Ach!      ┆ {2}{R}{R} ┆ Enchantme ┆ At the    ┆ … ┆ null    ┆ [\"rare\"]  ┆ [\"UNH\"]   ┆ [0.021551 │\n",
       "│ Hans,      ┆ {G}{G}    ┆ nt        ┆ beginning ┆   ┆         ┆           ┆           ┆ , -0.0361 │\n",
       "│ Run!\"      ┆           ┆           ┆ of your   ┆   ┆         ┆           ┆           ┆ 94, …     │\n",
       "│            ┆           ┆           ┆ upkee…    ┆   ┆         ┆           ┆           ┆ -0.006…   │\n",
       "│ \"Brims\"    ┆ {3}{W}{B} ┆ Legendary ┆ When ~    ┆ … ┆ null    ┆ [\"uncommo ┆ [\"UNF\"]   ┆ [0.000329 │\n",
       "│ Barone,    ┆           ┆ Creature  ┆ enters,   ┆   ┆         ┆ n\"]       ┆           ┆ ,         │\n",
       "│ Midway     ┆           ┆ — Human   ┆ put a     ┆   ┆         ┆           ┆           ┆ 0.025074, │\n",
       "│ Mobster    ┆           ┆ Rog…      ┆ +1/+1     ┆   ┆         ┆           ┆           ┆ …         │\n",
       "│            ┆           ┆           ┆ cou…      ┆   ┆         ┆           ┆           ┆ 0.00549…  │\n",
       "│ \"Intimidat ┆ {B}       ┆ Sorcery   ┆ Target    ┆ … ┆ null    ┆ [\"uncommo ┆ [\"DFT\"]   ┆ [-0.03072 │\n",
       "│ ion        ┆           ┆           ┆ opponent  ┆   ┆         ┆ n\"]       ┆           ┆ 9, -0.004 │\n",
       "│ Tactics\"   ┆           ┆           ┆ reveals   ┆   ┆         ┆           ┆           ┆ 603, …    │\n",
       "│            ┆           ┆           ┆ their …   ┆   ┆         ┆           ┆           ┆ 0.007…    │\n",
       "│ \"Lifetime\" ┆ {B}       ┆ Creature  ┆ ~ enters  ┆ … ┆ null    ┆ [\"rare\"]  ┆ [\"UNF\"]   ┆ [0.001363 │\n",
       "│ Pass       ┆           ┆ — Zombie  ┆ tapped.\\n ┆   ┆         ┆           ┆           ┆ , -0.0039 │\n",
       "│ Holder     ┆           ┆ Guest     ┆ When ~    ┆   ┆         ┆           ┆           ┆ 04, …     │\n",
       "│            ┆           ┆           ┆ dies,…    ┆   ┆         ┆           ┆           ┆ 0.0134…   │\n",
       "│ \"Name      ┆ {2}{R}    ┆ Creature  ┆ When this ┆ … ┆ null    ┆ [\"common\" ┆ [\"UNF\"]   ┆ [-0.03250 │\n",
       "│ Sticker\"   ┆           ┆ — Goblin  ┆ creature  ┆   ┆         ┆ ]         ┆           ┆ 6, -0.006 │\n",
       "│ Goblin     ┆           ┆ Guest     ┆ enters    ┆   ┆         ┆           ┆           ┆ 977, …    │\n",
       "│            ┆           ┆           ┆ from…     ┆   ┆         ┆           ┆           ┆ -0.02…    │\n",
       "│ …          ┆ …         ┆ …         ┆ …         ┆ … ┆ …       ┆ …         ┆ …         ┆ …         │\n",
       "│ Éomer,     ┆ {3}{R}{W} ┆ Legendary ┆ Double    ┆ … ┆ null    ┆ [\"rare\"]  ┆ [\"LTC\"]   ┆ [0.014294 │\n",
       "│ King of    ┆           ┆ Creature  ┆ strike\\n~ ┆   ┆         ┆           ┆           ┆ ,         │\n",
       "│ Rohan      ┆           ┆ — Human   ┆ enters    ┆   ┆         ┆           ┆           ┆ 0.012956, │\n",
       "│            ┆           ┆ Nob…      ┆ with a…   ┆   ┆         ┆           ┆           ┆ …         │\n",
       "│            ┆           ┆           ┆           ┆   ┆         ┆           ┆           ┆ 0.01955…  │\n",
       "│ Éomer,     ┆ {2}{R}{R} ┆ Legendary ┆ Haste\\nWh ┆ … ┆ null    ┆ [\"rare\"]  ┆ [\"PLTR\",  ┆ [-0.02239 │\n",
       "│ Marshal of ┆           ┆ Creature  ┆ enever    ┆   ┆         ┆           ┆ \"LTR\"]    ┆ 8,        │\n",
       "│ Rohan      ┆           ┆ — Human   ┆ one or    ┆   ┆         ┆           ┆           ┆ 0.017195, │\n",
       "│            ┆           ┆ Kni…      ┆ more ot…  ┆   ┆         ┆           ┆           ┆ … 0.0469… │\n",
       "│ Éowyn,     ┆ {2}{R}{W} ┆ Legendary ┆ Haste\\nWh ┆ … ┆ null    ┆ [\"rare\"]  ┆ [\"PLTR\",  ┆ [-0.03340 │\n",
       "│ Fearless   ┆           ┆ Creature  ┆ en ~      ┆   ┆         ┆           ┆ \"LTR\"]    ┆ 6,        │\n",
       "│ Knight     ┆           ┆ — Human   ┆ enters,   ┆   ┆         ┆           ┆           ┆ 0.007331, │\n",
       "│            ┆           ┆ Kni…      ┆ exile ta… ┆   ┆         ┆           ┆           ┆ … 0.0282… │\n",
       "│ Éowyn,     ┆ {2}{W}    ┆ Legendary ┆ At the    ┆ … ┆ null    ┆ [\"uncommo ┆ [\"LTR\"]   ┆ [-0.00130 │\n",
       "│ Lady of    ┆           ┆ Creature  ┆ beginning ┆   ┆         ┆ n\"]       ┆           ┆ 6,        │\n",
       "│ Rohan      ┆           ┆ — Human   ┆ of combat ┆   ┆         ┆           ┆           ┆ 0.005256, │\n",
       "│            ┆           ┆ Nob…      ┆ on …      ┆   ┆         ┆           ┆           ┆ … 0.0482… │\n",
       "│ Éowyn, Shi ┆ {2}{U}{R} ┆ Legendary ┆ First str ┆ … ┆ null    ┆ [\"mythic\" ┆ [\"LTC\"]   ┆ [-0.00446 │\n",
       "│ eldmaiden  ┆ {W}       ┆ Creature  ┆ ike\\nAt   ┆   ┆         ┆ ]         ┆           ┆ 8,        │\n",
       "│            ┆           ┆ — Human   ┆ the begin ┆   ┆         ┆           ┆           ┆ 0.002612, │\n",
       "│            ┆           ┆ Kni…      ┆ ning…     ┆   ┆         ┆           ┆           ┆ … 0.0312… │\n",
       "└────────────┴───────────┴───────────┴───────────┴───┴─────────┴───────────┴───────────┴───────────┘"
      ]
     },
     "execution_count": 3,
     "metadata": {},
     "output_type": "execute_result"
    }
   ],
   "source": [
    "df = pl.read_parquet(\"/Users/maxwoolf/Downloads/mtg_embeddings.parquet\")\n",
    "\n",
    "df"
   ]
  },
  {
   "cell_type": "code",
   "execution_count": 4,
   "metadata": {},
   "outputs": [
    {
     "data": {
      "text/html": [
       "<div><style>\n",
       ".dataframe > thead > tr,\n",
       ".dataframe > tbody > tr {\n",
       "  text-align: right;\n",
       "  white-space: pre-wrap;\n",
       "}\n",
       "</style>\n",
       "<small>shape: (1, 10)</small><table border=\"1\" class=\"dataframe\"><thead><tr><th>name</th><th>manaCost</th><th>type</th><th>text</th><th>power</th><th>toughness</th><th>loyalty</th><th>rarities</th><th>sets</th><th>embeds</th></tr><tr><td>str</td><td>str</td><td>str</td><td>str</td><td>str</td><td>str</td><td>str</td><td>list[enum]</td><td>list[enum]</td><td>array[f32, 768]</td></tr></thead><tbody><tr><td>&quot;Jace, the Mind Sculptor&quot;</td><td>&quot;{2}{U}{U}&quot;</td><td>&quot;Legendary Planeswalker — Jace&quot;</td><td>&quot;[+2]: Look at the top card of …</td><td>null</td><td>null</td><td>&quot;3&quot;</td><td>[&quot;mythic&quot;]</td><td>[&quot;PRM&quot;, &quot;WWK&quot;, … &quot;BLC&quot;]</td><td>[0.015467, -0.019021, … -0.009591]</td></tr></tbody></table></div>"
      ],
      "text/plain": [
       "shape: (1, 10)\n",
       "┌────────────┬───────────┬───────────┬───────────┬───┬─────────┬───────────┬───────────┬───────────┐\n",
       "│ name       ┆ manaCost  ┆ type      ┆ text      ┆ … ┆ loyalty ┆ rarities  ┆ sets      ┆ embeds    │\n",
       "│ ---        ┆ ---       ┆ ---       ┆ ---       ┆   ┆ ---     ┆ ---       ┆ ---       ┆ ---       │\n",
       "│ str        ┆ str       ┆ str       ┆ str       ┆   ┆ str     ┆ list[enum ┆ list[enum ┆ array[f32 │\n",
       "│            ┆           ┆           ┆           ┆   ┆         ┆ ]         ┆ ]         ┆ , 768]    │\n",
       "╞════════════╪═══════════╪═══════════╪═══════════╪═══╪═════════╪═══════════╪═══════════╪═══════════╡\n",
       "│ Jace, the  ┆ {2}{U}{U} ┆ Legendary ┆ [+2]:     ┆ … ┆ 3       ┆ [\"mythic\" ┆ [\"PRM\",   ┆ [0.015467 │\n",
       "│ Mind       ┆           ┆ Planeswal ┆ Look at   ┆   ┆         ┆ ]         ┆ \"WWK\", …  ┆ , -0.0190 │\n",
       "│ Sculptor   ┆           ┆ ker —     ┆ the top   ┆   ┆         ┆           ┆ \"BLC\"]    ┆ 21, …     │\n",
       "│            ┆           ┆ Jace      ┆ card of … ┆   ┆         ┆           ┆           ┆ -0.009…   │\n",
       "└────────────┴───────────┴───────────┴───────────┴───┴─────────┴───────────┴───────────┴───────────┘"
      ]
     },
     "execution_count": 4,
     "metadata": {},
     "output_type": "execute_result"
    }
   ],
   "source": [
    "query_row = df.filter(pl.col(\"name\") == \"Jace, the Mind Sculptor\")\n",
    "query_row"
   ]
  },
  {
   "cell_type": "code",
   "execution_count": 11,
   "metadata": {},
   "outputs": [
    {
     "data": {
      "text/plain": [
       "(768,)"
      ]
     },
     "execution_count": 11,
     "metadata": {},
     "output_type": "execute_result"
    }
   ],
   "source": [
    "query_embed = query_row[\"embeds\"].to_numpy(allow_copy=False)[0]\n",
    "query_embed.shape"
   ]
  },
  {
   "cell_type": "code",
   "execution_count": 13,
   "metadata": {},
   "outputs": [
    {
     "data": {
      "text/plain": [
       "(31650, 768)"
      ]
     },
     "execution_count": 13,
     "metadata": {},
     "output_type": "execute_result"
    }
   ],
   "source": [
    "embeddings = df[\"embeds\"].to_numpy(allow_copy=False)\n",
    "embeddings.shape"
   ]
  },
  {
   "cell_type": "code",
   "execution_count": 15,
   "metadata": {},
   "outputs": [],
   "source": [
    "def fast_dot_product(query, matrix, k=3):\n",
    "    dot_products = query @ matrix.T\n",
    "\n",
    "    idx = np.argpartition(dot_products, -k)[-k:]\n",
    "    idx = idx[np.argsort(dot_products[idx])[::-1]]\n",
    "\n",
    "    score = dot_products[idx]\n",
    "\n",
    "    return idx, score"
   ]
  },
  {
   "cell_type": "code",
   "execution_count": 17,
   "metadata": {},
   "outputs": [
    {
     "name": "stdout",
     "output_type": "stream",
     "text": [
      "[0.99999994 0.9544666  0.9355772  0.9331999  0.92817414 0.9226246\n",
      " 0.92075175 0.9205631  0.9195757  0.9165901 ]\n"
     ]
    },
    {
     "data": {
      "text/html": [
       "<div><style>\n",
       ".dataframe > thead > tr,\n",
       ".dataframe > tbody > tr {\n",
       "  text-align: right;\n",
       "  white-space: pre-wrap;\n",
       "}\n",
       "</style>\n",
       "<small>shape: (10, 10)</small><table border=\"1\" class=\"dataframe\"><thead><tr><th>name</th><th>manaCost</th><th>type</th><th>text</th><th>power</th><th>toughness</th><th>loyalty</th><th>rarities</th><th>sets</th><th>embeds</th></tr><tr><td>str</td><td>str</td><td>str</td><td>str</td><td>str</td><td>str</td><td>str</td><td>list[enum]</td><td>list[enum]</td><td>array[f32, 768]</td></tr></thead><tbody><tr><td>&quot;Jace, the Mind Sculptor&quot;</td><td>&quot;{2}{U}{U}&quot;</td><td>&quot;Legendary Planeswalker — Jace&quot;</td><td>&quot;[+2]: Look at the top card of …</td><td>null</td><td>null</td><td>&quot;3&quot;</td><td>[&quot;mythic&quot;]</td><td>[&quot;PRM&quot;, &quot;WWK&quot;, … &quot;BLC&quot;]</td><td>[0.015467, -0.019021, … -0.009591]</td></tr><tr><td>&quot;Jace, Architect of Thought&quot;</td><td>&quot;{2}{U}{U}&quot;</td><td>&quot;Legendary Planeswalker — Jace&quot;</td><td>&quot;[+1]: Until your next turn, wh…</td><td>null</td><td>null</td><td>&quot;4&quot;</td><td>[&quot;mythic&quot;]</td><td>[&quot;RTR&quot;, &quot;DDM&quot;, … &quot;PIO&quot;]</td><td>[0.006617, 0.002114, … 0.007388]</td></tr><tr><td>&quot;Jace, Ingenious Mind-Mage&quot;</td><td>&quot;{4}{U}{U}&quot;</td><td>&quot;Legendary Planeswalker — Jace&quot;</td><td>&quot;[+1]: Draw a card.\\n[+1]: Unta…</td><td>null</td><td>null</td><td>&quot;5&quot;</td><td>[&quot;mythic&quot;]</td><td>[&quot;XLN&quot;]</td><td>[0.007461, -0.019271, … 0.025807]</td></tr><tr><td>&quot;Jace, the Living Guildpact&quot;</td><td>&quot;{2}{U}{U}&quot;</td><td>&quot;Legendary Planeswalker — Jace&quot;</td><td>&quot;[+1]: Look at the top two card…</td><td>null</td><td>null</td><td>&quot;5&quot;</td><td>[&quot;mythic&quot;]</td><td>[&quot;PS14&quot;, &quot;M15&quot;]</td><td>[0.000313, -0.006531, … 0.001094]</td></tr><tr><td>&quot;Jace, Memory Adept&quot;</td><td>&quot;{3}{U}{U}&quot;</td><td>&quot;Legendary Planeswalker — Jace&quot;</td><td>&quot;[+1]: Draw a card. Target play…</td><td>null</td><td>null</td><td>&quot;4&quot;</td><td>[&quot;mythic&quot;]</td><td>[&quot;PMEI&quot;, &quot;M12&quot;, … &quot;PIO&quot;]</td><td>[-0.015488, -0.032709, … 0.006996]</td></tr><tr><td>&quot;Jace, the Perfected Mind&quot;</td><td>&quot;{2}{U}{U/P}&quot;</td><td>&quot;Legendary Planeswalker — Jace&quot;</td><td>&quot;Compleated ({U/P} can be paid …</td><td>null</td><td>null</td><td>&quot;5&quot;</td><td>[&quot;mythic&quot;]</td><td>[&quot;PONE&quot;, &quot;ONE&quot;]</td><td>[0.006679, -0.000718, … 0.007652]</td></tr><tr><td>&quot;Jace, Wielder of Mysteries&quot;</td><td>&quot;{1}{U}{U}{U}&quot;</td><td>&quot;Legendary Planeswalker — Jace&quot;</td><td>&quot;If you would draw a card while…</td><td>null</td><td>null</td><td>&quot;4&quot;</td><td>[&quot;rare&quot;]</td><td>[&quot;PRM&quot;, &quot;PWAR&quot;, … &quot;PLST&quot;]</td><td>[-0.00819, -0.025063, … -0.004219]</td></tr><tr><td>&quot;Jace, Arcane Strategist&quot;</td><td>&quot;{4}{U}{U}&quot;</td><td>&quot;Legendary Planeswalker — Jace&quot;</td><td>&quot;Whenever you draw your second …</td><td>null</td><td>null</td><td>&quot;4&quot;</td><td>[&quot;mythic&quot;]</td><td>[&quot;WAR&quot;, &quot;J22&quot;]</td><td>[0.004943, -0.018671, … 0.027613]</td></tr><tr><td>&quot;Jace, Mirror Mage&quot;</td><td>&quot;{1}{U}{U}&quot;</td><td>&quot;Legendary Planeswalker — Jace&quot;</td><td>&quot;Kicker {2}\\nWhen ~ enters, if …</td><td>null</td><td>null</td><td>&quot;4&quot;</td><td>[&quot;mythic&quot;]</td><td>[&quot;PRM&quot;, &quot;PZNR&quot;, … &quot;CMM&quot;]</td><td>[-0.009948, 0.00431, … 0.004963]</td></tr><tr><td>&quot;Jace, Unraveler of Secrets&quot;</td><td>&quot;{3}{U}{U}&quot;</td><td>&quot;Legendary Planeswalker — Jace&quot;</td><td>&quot;[+1]: Scry 1, then draw a card…</td><td>null</td><td>null</td><td>&quot;5&quot;</td><td>[&quot;mythic&quot;]</td><td>[&quot;PSOI&quot;, &quot;SOI&quot;, … &quot;INR&quot;]</td><td>[-0.003332, -0.026348, … 0.019022]</td></tr></tbody></table></div>"
      ],
      "text/plain": [
       "shape: (10, 10)\n",
       "┌────────────┬───────────┬───────────┬───────────┬───┬─────────┬───────────┬───────────┬───────────┐\n",
       "│ name       ┆ manaCost  ┆ type      ┆ text      ┆ … ┆ loyalty ┆ rarities  ┆ sets      ┆ embeds    │\n",
       "│ ---        ┆ ---       ┆ ---       ┆ ---       ┆   ┆ ---     ┆ ---       ┆ ---       ┆ ---       │\n",
       "│ str        ┆ str       ┆ str       ┆ str       ┆   ┆ str     ┆ list[enum ┆ list[enum ┆ array[f32 │\n",
       "│            ┆           ┆           ┆           ┆   ┆         ┆ ]         ┆ ]         ┆ , 768]    │\n",
       "╞════════════╪═══════════╪═══════════╪═══════════╪═══╪═════════╪═══════════╪═══════════╪═══════════╡\n",
       "│ Jace, the  ┆ {2}{U}{U} ┆ Legendary ┆ [+2]:     ┆ … ┆ 3       ┆ [\"mythic\" ┆ [\"PRM\",   ┆ [0.015467 │\n",
       "│ Mind       ┆           ┆ Planeswal ┆ Look at   ┆   ┆         ┆ ]         ┆ \"WWK\", …  ┆ , -0.0190 │\n",
       "│ Sculptor   ┆           ┆ ker —     ┆ the top   ┆   ┆         ┆           ┆ \"BLC\"]    ┆ 21, …     │\n",
       "│            ┆           ┆ Jace      ┆ card of … ┆   ┆         ┆           ┆           ┆ -0.009…   │\n",
       "│ Jace,      ┆ {2}{U}{U} ┆ Legendary ┆ [+1]:     ┆ … ┆ 4       ┆ [\"mythic\" ┆ [\"RTR\",   ┆ [0.006617 │\n",
       "│ Architect  ┆           ┆ Planeswal ┆ Until     ┆   ┆         ┆ ]         ┆ \"DDM\", …  ┆ ,         │\n",
       "│ of Thought ┆           ┆ ker —     ┆ your next ┆   ┆         ┆           ┆ \"PIO\"]    ┆ 0.002114, │\n",
       "│            ┆           ┆ Jace      ┆ turn, wh… ┆   ┆         ┆           ┆           ┆ …         │\n",
       "│            ┆           ┆           ┆           ┆   ┆         ┆           ┆           ┆ 0.00738…  │\n",
       "│ Jace,      ┆ {4}{U}{U} ┆ Legendary ┆ [+1]:     ┆ … ┆ 5       ┆ [\"mythic\" ┆ [\"XLN\"]   ┆ [0.007461 │\n",
       "│ Ingenious  ┆           ┆ Planeswal ┆ Draw a    ┆   ┆         ┆ ]         ┆           ┆ , -0.0192 │\n",
       "│ Mind-Mage  ┆           ┆ ker —     ┆ card.\\n[+ ┆   ┆         ┆           ┆           ┆ 71, …     │\n",
       "│            ┆           ┆ Jace      ┆ 1]: Unta… ┆   ┆         ┆           ┆           ┆ 0.0258…   │\n",
       "│ Jace, the  ┆ {2}{U}{U} ┆ Legendary ┆ [+1]:     ┆ … ┆ 5       ┆ [\"mythic\" ┆ [\"PS14\",  ┆ [0.000313 │\n",
       "│ Living     ┆           ┆ Planeswal ┆ Look at   ┆   ┆         ┆ ]         ┆ \"M15\"]    ┆ , -0.0065 │\n",
       "│ Guildpact  ┆           ┆ ker —     ┆ the top   ┆   ┆         ┆           ┆           ┆ 31, …     │\n",
       "│            ┆           ┆ Jace      ┆ two card… ┆   ┆         ┆           ┆           ┆ 0.0010…   │\n",
       "│ Jace,      ┆ {3}{U}{U} ┆ Legendary ┆ [+1]:     ┆ … ┆ 4       ┆ [\"mythic\" ┆ [\"PMEI\",  ┆ [-0.01548 │\n",
       "│ Memory     ┆           ┆ Planeswal ┆ Draw a    ┆   ┆         ┆ ]         ┆ \"M12\", …  ┆ 8, -0.032 │\n",
       "│ Adept      ┆           ┆ ker —     ┆ card.     ┆   ┆         ┆           ┆ \"PIO\"]    ┆ 709, …    │\n",
       "│            ┆           ┆ Jace      ┆ Target    ┆   ┆         ┆           ┆           ┆ 0.006…    │\n",
       "│            ┆           ┆           ┆ play…     ┆   ┆         ┆           ┆           ┆           │\n",
       "│ Jace, the  ┆ {2}{U}{U/ ┆ Legendary ┆ Compleate ┆ … ┆ 5       ┆ [\"mythic\" ┆ [\"PONE\",  ┆ [0.006679 │\n",
       "│ Perfected  ┆ P}        ┆ Planeswal ┆ d ({U/P}  ┆   ┆         ┆ ]         ┆ \"ONE\"]    ┆ , -0.0007 │\n",
       "│ Mind       ┆           ┆ ker —     ┆ can be    ┆   ┆         ┆           ┆           ┆ 18, …     │\n",
       "│            ┆           ┆ Jace      ┆ paid …    ┆   ┆         ┆           ┆           ┆ 0.0076…   │\n",
       "│ Jace,      ┆ {1}{U}{U} ┆ Legendary ┆ If you    ┆ … ┆ 4       ┆ [\"rare\"]  ┆ [\"PRM\",   ┆ [-0.00819 │\n",
       "│ Wielder of ┆ {U}       ┆ Planeswal ┆ would     ┆   ┆         ┆           ┆ \"PWAR\", … ┆ , -0.0250 │\n",
       "│ Mysteries  ┆           ┆ ker —     ┆ draw a    ┆   ┆         ┆           ┆ \"PLST\"]   ┆ 63, …     │\n",
       "│            ┆           ┆ Jace      ┆ card      ┆   ┆         ┆           ┆           ┆ -0.004…   │\n",
       "│            ┆           ┆           ┆ while…    ┆   ┆         ┆           ┆           ┆           │\n",
       "│ Jace,      ┆ {4}{U}{U} ┆ Legendary ┆ Whenever  ┆ … ┆ 4       ┆ [\"mythic\" ┆ [\"WAR\",   ┆ [0.004943 │\n",
       "│ Arcane     ┆           ┆ Planeswal ┆ you draw  ┆   ┆         ┆ ]         ┆ \"J22\"]    ┆ , -0.0186 │\n",
       "│ Strategist ┆           ┆ ker —     ┆ your      ┆   ┆         ┆           ┆           ┆ 71, …     │\n",
       "│            ┆           ┆ Jace      ┆ second …  ┆   ┆         ┆           ┆           ┆ 0.0276…   │\n",
       "│ Jace,      ┆ {1}{U}{U} ┆ Legendary ┆ Kicker    ┆ … ┆ 4       ┆ [\"mythic\" ┆ [\"PRM\",   ┆ [-0.00994 │\n",
       "│ Mirror     ┆           ┆ Planeswal ┆ {2}\\nWhen ┆   ┆         ┆ ]         ┆ \"PZNR\", … ┆ 8,        │\n",
       "│ Mage       ┆           ┆ ker —     ┆ ~ enters, ┆   ┆         ┆           ┆ \"CMM\"]    ┆ 0.00431,  │\n",
       "│            ┆           ┆ Jace      ┆ if …      ┆   ┆         ┆           ┆           ┆ …         │\n",
       "│            ┆           ┆           ┆           ┆   ┆         ┆           ┆           ┆ 0.00496…  │\n",
       "│ Jace,      ┆ {3}{U}{U} ┆ Legendary ┆ [+1]:     ┆ … ┆ 5       ┆ [\"mythic\" ┆ [\"PSOI\",  ┆ [-0.00333 │\n",
       "│ Unraveler  ┆           ┆ Planeswal ┆ Scry 1,   ┆   ┆         ┆ ]         ┆ \"SOI\", …  ┆ 2, -0.026 │\n",
       "│ of Secrets ┆           ┆ ker —     ┆ then draw ┆   ┆         ┆           ┆ \"INR\"]    ┆ 348, …    │\n",
       "│            ┆           ┆ Jace      ┆ a card…   ┆   ┆         ┆           ┆           ┆ 0.019…    │\n",
       "└────────────┴───────────┴───────────┴───────────┴───┴─────────┴───────────┴───────────┴───────────┘"
      ]
     },
     "execution_count": 17,
     "metadata": {},
     "output_type": "execute_result"
    }
   ],
   "source": [
    "idx, score = fast_dot_product(query_embed, embeddings, k=10)\n",
    "print(score)\n",
    "df[idx]"
   ]
  },
  {
   "cell_type": "markdown",
   "metadata": {},
   "source": [
    "## Test More Cards\n"
   ]
  },
  {
   "cell_type": "code",
   "execution_count": 21,
   "metadata": {},
   "outputs": [],
   "source": [
    "def get_similar_cards(card_name):\n",
    "    query_embed = (\n",
    "        df.filter(pl.col(\"name\") == card_name)[\"embeds\"].to_numpy(allow_copy=False)\n",
    "    )[0]\n",
    "\n",
    "    idx, score = fast_dot_product(query_embed, embeddings, k=10 + 1)\n",
    "    print(score)\n",
    "    return df[idx]"
   ]
  },
  {
   "cell_type": "code",
   "execution_count": 24,
   "metadata": {},
   "outputs": [
    {
     "name": "stdout",
     "output_type": "stream",
     "text": [
      "[1.0000001  0.8449551  0.8276622  0.81849706 0.81414413 0.81102407\n",
      " 0.8107967  0.8106593  0.8094686  0.8087301  0.8083644 ]\n"
     ]
    },
    {
     "data": {
      "text/html": [
       "<div><style>\n",
       ".dataframe > thead > tr,\n",
       ".dataframe > tbody > tr {\n",
       "  text-align: right;\n",
       "  white-space: pre-wrap;\n",
       "}\n",
       "</style>\n",
       "<small>shape: (11, 10)</small><table border=\"1\" class=\"dataframe\"><thead><tr><th>name</th><th>manaCost</th><th>type</th><th>text</th><th>power</th><th>toughness</th><th>loyalty</th><th>rarities</th><th>sets</th><th>embeds</th></tr><tr><td>str</td><td>str</td><td>str</td><td>str</td><td>str</td><td>str</td><td>str</td><td>list[enum]</td><td>list[enum]</td><td>array[f32, 768]</td></tr></thead><tbody><tr><td>&quot;Phage the Untouchable&quot;</td><td>&quot;{3}{B}{B}{B}{B}&quot;</td><td>&quot;Legendary Creature — Avatar Mi…</td><td>&quot;When ~ enters, if you didn&#x27;t c…</td><td>&quot;4&quot;</td><td>&quot;4&quot;</td><td>null</td><td>[&quot;rare&quot;, &quot;mythic&quot;]</td><td>[&quot;LGN&quot;, &quot;10E&quot;, … &quot;SLD&quot;]</td><td>[-0.016285, -0.039296, … 0.00174]</td></tr><tr><td>&quot;Phlage, Titan of Fire&#x27;s Fury&quot;</td><td>&quot;{1}{R}{W}&quot;</td><td>&quot;Legendary Creature — Elder Gia…</td><td>&quot;When Phlage enters, sacrifice …</td><td>&quot;6&quot;</td><td>&quot;6&quot;</td><td>null</td><td>[&quot;mythic&quot;]</td><td>[&quot;PMH3&quot;, &quot;MH3&quot;]</td><td>[-0.018092, -0.026926, … 0.008093]</td></tr><tr><td>&quot;Giant Adephage&quot;</td><td>&quot;{5}{G}{G}&quot;</td><td>&quot;Creature — Insect&quot;</td><td>&quot;Trample\\nWhenever ~ deals comb…</td><td>&quot;7&quot;</td><td>&quot;7&quot;</td><td>null</td><td>[&quot;mythic&quot;]</td><td>[&quot;GTC&quot;, &quot;C19&quot;, … &quot;DSC&quot;]</td><td>[0.001798, 0.001826, … -0.002972]</td></tr><tr><td>&quot;It Came from Planet Glurg&quot;</td><td>&quot;{X}{X}{G}{U}&quot;</td><td>&quot;Legendary Creature — Alien Ooz…</td><td>&quot;You may have ~ enter as a copy…</td><td>&quot;0&quot;</td><td>&quot;0&quot;</td><td>null</td><td>[&quot;mythic&quot;]</td><td>[&quot;UNF&quot;]</td><td>[0.018293, 0.009471, … 0.015707]</td></tr><tr><td>&quot;Tsabo Tavoc&quot;</td><td>&quot;{5}{B}{R}&quot;</td><td>&quot;Legendary Creature — Phyrexian…</td><td>&quot;First strike, protection from …</td><td>&quot;7&quot;</td><td>&quot;4&quot;</td><td>null</td><td>[&quot;rare&quot;]</td><td>[&quot;INV&quot;, &quot;PLST&quot;]</td><td>[-0.035122, -0.008894, … -0.016798]</td></tr><tr><td>&hellip;</td><td>&hellip;</td><td>&hellip;</td><td>&hellip;</td><td>&hellip;</td><td>&hellip;</td><td>&hellip;</td><td>&hellip;</td><td>&hellip;</td><td>&hellip;</td></tr><tr><td>&quot;Gargos, Vicious Watcher&quot;</td><td>&quot;{3}{G}{G}{G}&quot;</td><td>&quot;Legendary Creature — Hydra&quot;</td><td>&quot;Vigilance\\nHydra spells you ca…</td><td>&quot;8&quot;</td><td>&quot;7&quot;</td><td>null</td><td>[&quot;rare&quot;]</td><td>[&quot;PM20&quot;, &quot;M20&quot;, &quot;SLD&quot;]</td><td>[0.002297, 0.006169, … 0.012746]</td></tr><tr><td>&quot;Chaos Maw&quot;</td><td>&quot;{5}{R}{R}&quot;</td><td>&quot;Creature — Hellion&quot;</td><td>&quot;When ~ enters, it deals 3 dama…</td><td>&quot;6&quot;</td><td>&quot;6&quot;</td><td>null</td><td>[&quot;rare&quot;]</td><td>[&quot;PHOU&quot;, &quot;HOU&quot;]</td><td>[-0.043042, -0.024485, … 0.041741]</td></tr><tr><td>&quot;The Most Dangerous Gamer&quot;</td><td>&quot;{2}{B}{G}&quot;</td><td>&quot;Legendary Creature — Human Gam…</td><td>&quot;Deathtouch\\nWhenever ~ enters …</td><td>&quot;2&quot;</td><td>&quot;2&quot;</td><td>null</td><td>[&quot;rare&quot;]</td><td>[&quot;UNF&quot;]</td><td>[-0.035497, 0.027166, … -0.006328]</td></tr><tr><td>&quot;Cursed Minotaur&quot;</td><td>&quot;{2}{B}&quot;</td><td>&quot;Creature — Zombie Minotaur&quot;</td><td>&quot;Menace (This creature can&#x27;t be…</td><td>&quot;3&quot;</td><td>&quot;2&quot;</td><td>null</td><td>[&quot;common&quot;]</td><td>[&quot;AKH&quot;, &quot;PLST&quot;]</td><td>[-0.022885, -0.01994, … 0.015501]</td></tr><tr><td>&quot;Urborg Phantom&quot;</td><td>&quot;{2}{B}&quot;</td><td>&quot;Creature — Spirit Minion&quot;</td><td>&quot;~ can&#x27;t block.\\n{U}: Prevent a…</td><td>&quot;3&quot;</td><td>&quot;1&quot;</td><td>null</td><td>[&quot;common&quot;]</td><td>[&quot;INV&quot;]</td><td>[-0.039182, -0.008972, … -0.009511]</td></tr></tbody></table></div>"
      ],
      "text/plain": [
       "shape: (11, 10)\n",
       "┌────────────┬───────────┬───────────┬───────────┬───┬─────────┬───────────┬───────────┬───────────┐\n",
       "│ name       ┆ manaCost  ┆ type      ┆ text      ┆ … ┆ loyalty ┆ rarities  ┆ sets      ┆ embeds    │\n",
       "│ ---        ┆ ---       ┆ ---       ┆ ---       ┆   ┆ ---     ┆ ---       ┆ ---       ┆ ---       │\n",
       "│ str        ┆ str       ┆ str       ┆ str       ┆   ┆ str     ┆ list[enum ┆ list[enum ┆ array[f32 │\n",
       "│            ┆           ┆           ┆           ┆   ┆         ┆ ]         ┆ ]         ┆ , 768]    │\n",
       "╞════════════╪═══════════╪═══════════╪═══════════╪═══╪═════════╪═══════════╪═══════════╪═══════════╡\n",
       "│ Phage the  ┆ {3}{B}{B} ┆ Legendary ┆ When ~    ┆ … ┆ null    ┆ [\"rare\",  ┆ [\"LGN\",   ┆ [-0.01628 │\n",
       "│ Untouchabl ┆ {B}{B}    ┆ Creature  ┆ enters,   ┆   ┆         ┆ \"mythic\"] ┆ \"10E\", …  ┆ 5, -0.039 │\n",
       "│ e          ┆           ┆ — Avatar  ┆ if you    ┆   ┆         ┆           ┆ \"SLD\"]    ┆ 296, …    │\n",
       "│            ┆           ┆ Mi…       ┆ didn't c… ┆   ┆         ┆           ┆           ┆ 0.001…    │\n",
       "│ Phlage,    ┆ {1}{R}{W} ┆ Legendary ┆ When      ┆ … ┆ null    ┆ [\"mythic\" ┆ [\"PMH3\",  ┆ [-0.01809 │\n",
       "│ Titan of   ┆           ┆ Creature  ┆ Phlage    ┆   ┆         ┆ ]         ┆ \"MH3\"]    ┆ 2, -0.026 │\n",
       "│ Fire's     ┆           ┆ — Elder   ┆ enters,   ┆   ┆         ┆           ┆           ┆ 926, …    │\n",
       "│ Fury       ┆           ┆ Gia…      ┆ sacrifice ┆   ┆         ┆           ┆           ┆ 0.008…    │\n",
       "│            ┆           ┆           ┆ …         ┆   ┆         ┆           ┆           ┆           │\n",
       "│ Giant      ┆ {5}{G}{G} ┆ Creature  ┆ Trample\\n ┆ … ┆ null    ┆ [\"mythic\" ┆ [\"GTC\",   ┆ [0.001798 │\n",
       "│ Adephage   ┆           ┆ — Insect  ┆ Whenever  ┆   ┆         ┆ ]         ┆ \"C19\", …  ┆ ,         │\n",
       "│            ┆           ┆           ┆ ~ deals   ┆   ┆         ┆           ┆ \"DSC\"]    ┆ 0.001826, │\n",
       "│            ┆           ┆           ┆ comb…     ┆   ┆         ┆           ┆           ┆ …         │\n",
       "│            ┆           ┆           ┆           ┆   ┆         ┆           ┆           ┆ -0.0029…  │\n",
       "│ It Came    ┆ {X}{X}{G} ┆ Legendary ┆ You may   ┆ … ┆ null    ┆ [\"mythic\" ┆ [\"UNF\"]   ┆ [0.018293 │\n",
       "│ from       ┆ {U}       ┆ Creature  ┆ have ~    ┆   ┆         ┆ ]         ┆           ┆ ,         │\n",
       "│ Planet     ┆           ┆ — Alien   ┆ enter as  ┆   ┆         ┆           ┆           ┆ 0.009471, │\n",
       "│ Glurg      ┆           ┆ Ooz…      ┆ a copy…   ┆   ┆         ┆           ┆           ┆ …         │\n",
       "│            ┆           ┆           ┆           ┆   ┆         ┆           ┆           ┆ 0.01570…  │\n",
       "│ Tsabo      ┆ {5}{B}{R} ┆ Legendary ┆ First     ┆ … ┆ null    ┆ [\"rare\"]  ┆ [\"INV\",   ┆ [-0.03512 │\n",
       "│ Tavoc      ┆           ┆ Creature  ┆ strike,   ┆   ┆         ┆           ┆ \"PLST\"]   ┆ 2, -0.008 │\n",
       "│            ┆           ┆ — Phyrexi ┆ protectio ┆   ┆         ┆           ┆           ┆ 894, …    │\n",
       "│            ┆           ┆ an…       ┆ n from …  ┆   ┆         ┆           ┆           ┆ -0.01…    │\n",
       "│ …          ┆ …         ┆ …         ┆ …         ┆ … ┆ …       ┆ …         ┆ …         ┆ …         │\n",
       "│ Gargos,    ┆ {3}{G}{G} ┆ Legendary ┆ Vigilance ┆ … ┆ null    ┆ [\"rare\"]  ┆ [\"PM20\",  ┆ [0.002297 │\n",
       "│ Vicious    ┆ {G}       ┆ Creature  ┆ \\nHydra   ┆   ┆         ┆           ┆ \"M20\",    ┆ ,         │\n",
       "│ Watcher    ┆           ┆ — Hydra   ┆ spells    ┆   ┆         ┆           ┆ \"SLD\"]    ┆ 0.006169, │\n",
       "│            ┆           ┆           ┆ you ca…   ┆   ┆         ┆           ┆           ┆ …         │\n",
       "│            ┆           ┆           ┆           ┆   ┆         ┆           ┆           ┆ 0.01274…  │\n",
       "│ Chaos Maw  ┆ {5}{R}{R} ┆ Creature  ┆ When ~    ┆ … ┆ null    ┆ [\"rare\"]  ┆ [\"PHOU\",  ┆ [-0.04304 │\n",
       "│            ┆           ┆ — Hellion ┆ enters,   ┆   ┆         ┆           ┆ \"HOU\"]    ┆ 2, -0.024 │\n",
       "│            ┆           ┆           ┆ it deals  ┆   ┆         ┆           ┆           ┆ 485, …    │\n",
       "│            ┆           ┆           ┆ 3 dama…   ┆   ┆         ┆           ┆           ┆ 0.041…    │\n",
       "│ The Most   ┆ {2}{B}{G} ┆ Legendary ┆ Deathtouc ┆ … ┆ null    ┆ [\"rare\"]  ┆ [\"UNF\"]   ┆ [-0.03549 │\n",
       "│ Dangerous  ┆           ┆ Creature  ┆ h\\nWhenev ┆   ┆         ┆           ┆           ┆ 7,        │\n",
       "│ Gamer      ┆           ┆ — Human   ┆ er ~      ┆   ┆         ┆           ┆           ┆ 0.027166, │\n",
       "│            ┆           ┆ Gam…      ┆ enters …  ┆   ┆         ┆           ┆           ┆ … -0.006… │\n",
       "│ Cursed     ┆ {2}{B}    ┆ Creature  ┆ Menace    ┆ … ┆ null    ┆ [\"common\" ┆ [\"AKH\",   ┆ [-0.02288 │\n",
       "│ Minotaur   ┆           ┆ — Zombie  ┆ (This     ┆   ┆         ┆ ]         ┆ \"PLST\"]   ┆ 5,        │\n",
       "│            ┆           ┆ Minotaur  ┆ creature  ┆   ┆         ┆           ┆           ┆ -0.01994, │\n",
       "│            ┆           ┆           ┆ can't be… ┆   ┆         ┆           ┆           ┆ … 0.0155… │\n",
       "│ Urborg     ┆ {2}{B}    ┆ Creature  ┆ ~ can't   ┆ … ┆ null    ┆ [\"common\" ┆ [\"INV\"]   ┆ [-0.03918 │\n",
       "│ Phantom    ┆           ┆ — Spirit  ┆ block.\\n{ ┆   ┆         ┆ ]         ┆           ┆ 2, -0.008 │\n",
       "│            ┆           ┆ Minion    ┆ U}:       ┆   ┆         ┆           ┆           ┆ 972, …    │\n",
       "│            ┆           ┆           ┆ Prevent   ┆   ┆         ┆           ┆           ┆ -0.00…    │\n",
       "│            ┆           ┆           ┆ a…        ┆   ┆         ┆           ┆           ┆           │\n",
       "└────────────┴───────────┴───────────┴───────────┴───┴─────────┴───────────┴───────────┴───────────┘"
      ]
     },
     "execution_count": 24,
     "metadata": {},
     "output_type": "execute_result"
    }
   ],
   "source": [
    "get_similar_cards(\"Phage the Untouchable\")"
   ]
  },
  {
   "cell_type": "code",
   "execution_count": 26,
   "metadata": {},
   "outputs": [
    {
     "name": "stdout",
     "output_type": "stream",
     "text": [
      "[0.9999998 0.8835136 0.8559968 0.8552623 0.8387737 0.8356919 0.8319116\n",
      " 0.8274675 0.8245701 0.8224121 0.8210875]\n"
     ]
    },
    {
     "data": {
      "text/html": [
       "<div><style>\n",
       ".dataframe > thead > tr,\n",
       ".dataframe > tbody > tr {\n",
       "  text-align: right;\n",
       "  white-space: pre-wrap;\n",
       "}\n",
       "</style>\n",
       "<small>shape: (11, 10)</small><table border=\"1\" class=\"dataframe\"><thead><tr><th>name</th><th>manaCost</th><th>type</th><th>text</th><th>power</th><th>toughness</th><th>loyalty</th><th>rarities</th><th>sets</th><th>embeds</th></tr><tr><td>str</td><td>str</td><td>str</td><td>str</td><td>str</td><td>str</td><td>str</td><td>list[enum]</td><td>list[enum]</td><td>array[f32, 768]</td></tr></thead><tbody><tr><td>&quot;Ancestral Recall&quot;</td><td>&quot;{U}&quot;</td><td>&quot;Instant&quot;</td><td>&quot;Target player draws three card…</td><td>null</td><td>null</td><td>null</td><td>[&quot;rare&quot;, &quot;mythic&quot;, … &quot;special&quot;]</td><td>[&quot;LEA&quot;, &quot;LEB&quot;, … &quot;30A&quot;]</td><td>[0.004586, -0.032401, … 0.01511]</td></tr><tr><td>&quot;Ancestral Reminiscence&quot;</td><td>&quot;{3}{U}&quot;</td><td>&quot;Sorcery&quot;</td><td>&quot;Draw three cards, then discard…</td><td>null</td><td>null</td><td>null</td><td>[&quot;common&quot;]</td><td>[&quot;LCI&quot;]</td><td>[0.025656, -0.001587, … 0.014957]</td></tr><tr><td>&quot;Recall&quot;</td><td>&quot;{X}{X}{U}&quot;</td><td>&quot;Sorcery&quot;</td><td>&quot;Discard X cards, then return a…</td><td>null</td><td>null</td><td>null</td><td>[&quot;uncommon&quot;, &quot;rare&quot;]</td><td>[&quot;LEG&quot;, &quot;BCHR&quot;, … &quot;ME3&quot;]</td><td>[0.001042, -0.014233, … 0.003006]</td></tr><tr><td>&quot;Ancestral Memories&quot;</td><td>&quot;{2}{U}{U}{U}&quot;</td><td>&quot;Sorcery&quot;</td><td>&quot;Look at the top seven cards of…</td><td>null</td><td>null</td><td>null</td><td>[&quot;rare&quot;]</td><td>[&quot;MIR&quot;, &quot;POR&quot;, … &quot;PLST&quot;]</td><td>[0.027728, -0.007128, … -0.007718]</td></tr><tr><td>&quot;Ancient Craving&quot;</td><td>&quot;{3}{B}&quot;</td><td>&quot;Sorcery&quot;</td><td>&quot;You draw three cards and you l…</td><td>null</td><td>null</td><td>null</td><td>[&quot;uncommon&quot;, &quot;rare&quot;]</td><td>[&quot;P02&quot;, &quot;S99&quot;, … &quot;J22&quot;]</td><td>[0.011018, -0.021466, … 0.013647]</td></tr><tr><td>&hellip;</td><td>&hellip;</td><td>&hellip;</td><td>&hellip;</td><td>&hellip;</td><td>&hellip;</td><td>&hellip;</td><td>&hellip;</td><td>&hellip;</td><td>&hellip;</td></tr><tr><td>&quot;Can&#x27;t Quite Recall&quot;</td><td>&quot;{U}&quot;</td><td>&quot;Instant&quot;</td><td>&quot;Forbidden (This card can&#x27;t be …</td><td>null</td><td>null</td><td>null</td><td>[&quot;rare&quot;]</td><td>[&quot;MB2&quot;]</td><td>[0.028699, -0.037893, … -0.028869]</td></tr><tr><td>&quot;Ancestral Vision&quot;</td><td>null</td><td>&quot;Sorcery&quot;</td><td>&quot;Suspend 4—{U} (Rather than cas…</td><td>null</td><td>null</td><td>null</td><td>[&quot;rare&quot;, &quot;mythic&quot;]</td><td>[&quot;TSP&quot;, &quot;DD2&quot;, … &quot;TSR&quot;]</td><td>[0.021448, -0.021472, … 0.000439]</td></tr><tr><td>&quot;Ancestral Tribute&quot;</td><td>&quot;{5}{W}{W}&quot;</td><td>&quot;Sorcery&quot;</td><td>&quot;You gain 2 life for each card …</td><td>null</td><td>null</td><td>null</td><td>[&quot;rare&quot;]</td><td>[&quot;ODY&quot;]</td><td>[0.007578, 0.005117, … -0.000875]</td></tr><tr><td>&quot;Ancestral Knowledge&quot;</td><td>&quot;{1}{U}&quot;</td><td>&quot;Enchantment&quot;</td><td>&quot;Cumulative upkeep {1} (At the …</td><td>null</td><td>null</td><td>null</td><td>[&quot;rare&quot;]</td><td>[&quot;WTH&quot;]</td><td>[0.029977, -0.035057, … 0.023326]</td></tr><tr><td>&quot;Rally the Ancestors&quot;</td><td>&quot;{X}{W}{W}&quot;</td><td>&quot;Instant&quot;</td><td>&quot;Return each creature card with…</td><td>null</td><td>null</td><td>null</td><td>[&quot;rare&quot;]</td><td>[&quot;PFRF&quot;, &quot;FRF&quot;, &quot;EA1&quot;]</td><td>[-0.008081, -0.004238, … 0.012021]</td></tr></tbody></table></div>"
      ],
      "text/plain": [
       "shape: (11, 10)\n",
       "┌────────────┬───────────┬───────────┬───────────┬───┬─────────┬───────────┬───────────┬───────────┐\n",
       "│ name       ┆ manaCost  ┆ type      ┆ text      ┆ … ┆ loyalty ┆ rarities  ┆ sets      ┆ embeds    │\n",
       "│ ---        ┆ ---       ┆ ---       ┆ ---       ┆   ┆ ---     ┆ ---       ┆ ---       ┆ ---       │\n",
       "│ str        ┆ str       ┆ str       ┆ str       ┆   ┆ str     ┆ list[enum ┆ list[enum ┆ array[f32 │\n",
       "│            ┆           ┆           ┆           ┆   ┆         ┆ ]         ┆ ]         ┆ , 768]    │\n",
       "╞════════════╪═══════════╪═══════════╪═══════════╪═══╪═════════╪═══════════╪═══════════╪═══════════╡\n",
       "│ Ancestral  ┆ {U}       ┆ Instant   ┆ Target    ┆ … ┆ null    ┆ [\"rare\",  ┆ [\"LEA\",   ┆ [0.004586 │\n",
       "│ Recall     ┆           ┆           ┆ player    ┆   ┆         ┆ \"mythic\", ┆ \"LEB\", …  ┆ , -0.0324 │\n",
       "│            ┆           ┆           ┆ draws     ┆   ┆         ┆ … \"specia ┆ \"30A\"]    ┆ 01, …     │\n",
       "│            ┆           ┆           ┆ three     ┆   ┆         ┆ l\"…       ┆           ┆ 0.0151…   │\n",
       "│            ┆           ┆           ┆ card…     ┆   ┆         ┆           ┆           ┆           │\n",
       "│ Ancestral  ┆ {3}{U}    ┆ Sorcery   ┆ Draw      ┆ … ┆ null    ┆ [\"common\" ┆ [\"LCI\"]   ┆ [0.025656 │\n",
       "│ Reminiscen ┆           ┆           ┆ three     ┆   ┆         ┆ ]         ┆           ┆ , -0.0015 │\n",
       "│ ce         ┆           ┆           ┆ cards,    ┆   ┆         ┆           ┆           ┆ 87, …     │\n",
       "│            ┆           ┆           ┆ then      ┆   ┆         ┆           ┆           ┆ 0.0149…   │\n",
       "│            ┆           ┆           ┆ discard…  ┆   ┆         ┆           ┆           ┆           │\n",
       "│ Recall     ┆ {X}{X}{U} ┆ Sorcery   ┆ Discard X ┆ … ┆ null    ┆ [\"uncommo ┆ [\"LEG\",   ┆ [0.001042 │\n",
       "│            ┆           ┆           ┆ cards,    ┆   ┆         ┆ n\",       ┆ \"BCHR\", … ┆ , -0.0142 │\n",
       "│            ┆           ┆           ┆ then      ┆   ┆         ┆ \"rare\"]   ┆ \"ME3\"]    ┆ 33, …     │\n",
       "│            ┆           ┆           ┆ return a… ┆   ┆         ┆           ┆           ┆ 0.0030…   │\n",
       "│ Ancestral  ┆ {2}{U}{U} ┆ Sorcery   ┆ Look at   ┆ … ┆ null    ┆ [\"rare\"]  ┆ [\"MIR\",   ┆ [0.027728 │\n",
       "│ Memories   ┆ {U}       ┆           ┆ the top   ┆   ┆         ┆           ┆ \"POR\", …  ┆ , -0.0071 │\n",
       "│            ┆           ┆           ┆ seven     ┆   ┆         ┆           ┆ \"PLST\"]   ┆ 28, …     │\n",
       "│            ┆           ┆           ┆ cards of… ┆   ┆         ┆           ┆           ┆ -0.007…   │\n",
       "│ Ancient    ┆ {3}{B}    ┆ Sorcery   ┆ You draw  ┆ … ┆ null    ┆ [\"uncommo ┆ [\"P02\",   ┆ [0.011018 │\n",
       "│ Craving    ┆           ┆           ┆ three     ┆   ┆         ┆ n\",       ┆ \"S99\", …  ┆ , -0.0214 │\n",
       "│            ┆           ┆           ┆ cards and ┆   ┆         ┆ \"rare\"]   ┆ \"J22\"]    ┆ 66, …     │\n",
       "│            ┆           ┆           ┆ you l…    ┆   ┆         ┆           ┆           ┆ 0.0136…   │\n",
       "│ …          ┆ …         ┆ …         ┆ …         ┆ … ┆ …       ┆ …         ┆ …         ┆ …         │\n",
       "│ Can't      ┆ {U}       ┆ Instant   ┆ Forbidden ┆ … ┆ null    ┆ [\"rare\"]  ┆ [\"MB2\"]   ┆ [0.028699 │\n",
       "│ Quite      ┆           ┆           ┆ (This     ┆   ┆         ┆           ┆           ┆ , -0.0378 │\n",
       "│ Recall     ┆           ┆           ┆ card      ┆   ┆         ┆           ┆           ┆ 93, …     │\n",
       "│            ┆           ┆           ┆ can't be  ┆   ┆         ┆           ┆           ┆ -0.028…   │\n",
       "│            ┆           ┆           ┆ …         ┆   ┆         ┆           ┆           ┆           │\n",
       "│ Ancestral  ┆ null      ┆ Sorcery   ┆ Suspend   ┆ … ┆ null    ┆ [\"rare\",  ┆ [\"TSP\",   ┆ [0.021448 │\n",
       "│ Vision     ┆           ┆           ┆ 4—{U}     ┆   ┆         ┆ \"mythic\"] ┆ \"DD2\", …  ┆ , -0.0214 │\n",
       "│            ┆           ┆           ┆ (Rather   ┆   ┆         ┆           ┆ \"TSR\"]    ┆ 72, …     │\n",
       "│            ┆           ┆           ┆ than cas… ┆   ┆         ┆           ┆           ┆ 0.0004…   │\n",
       "│ Ancestral  ┆ {5}{W}{W} ┆ Sorcery   ┆ You gain  ┆ … ┆ null    ┆ [\"rare\"]  ┆ [\"ODY\"]   ┆ [0.007578 │\n",
       "│ Tribute    ┆           ┆           ┆ 2 life    ┆   ┆         ┆           ┆           ┆ ,         │\n",
       "│            ┆           ┆           ┆ for each  ┆   ┆         ┆           ┆           ┆ 0.005117, │\n",
       "│            ┆           ┆           ┆ card …    ┆   ┆         ┆           ┆           ┆ …         │\n",
       "│            ┆           ┆           ┆           ┆   ┆         ┆           ┆           ┆ -0.0008…  │\n",
       "│ Ancestral  ┆ {1}{U}    ┆ Enchantme ┆ Cumulativ ┆ … ┆ null    ┆ [\"rare\"]  ┆ [\"WTH\"]   ┆ [0.029977 │\n",
       "│ Knowledge  ┆           ┆ nt        ┆ e upkeep  ┆   ┆         ┆           ┆           ┆ , -0.0350 │\n",
       "│            ┆           ┆           ┆ {1} (At   ┆   ┆         ┆           ┆           ┆ 57, …     │\n",
       "│            ┆           ┆           ┆ the …     ┆   ┆         ┆           ┆           ┆ 0.0233…   │\n",
       "│ Rally the  ┆ {X}{W}{W} ┆ Instant   ┆ Return    ┆ … ┆ null    ┆ [\"rare\"]  ┆ [\"PFRF\",  ┆ [-0.00808 │\n",
       "│ Ancestors  ┆           ┆           ┆ each      ┆   ┆         ┆           ┆ \"FRF\",    ┆ 1, -0.004 │\n",
       "│            ┆           ┆           ┆ creature  ┆   ┆         ┆           ┆ \"EA1\"]    ┆ 238, …    │\n",
       "│            ┆           ┆           ┆ card      ┆   ┆         ┆           ┆           ┆ 0.012…    │\n",
       "│            ┆           ┆           ┆ with…     ┆   ┆         ┆           ┆           ┆           │\n",
       "└────────────┴───────────┴───────────┴───────────┴───┴─────────┴───────────┴───────────┴───────────┘"
      ]
     },
     "execution_count": 26,
     "metadata": {},
     "output_type": "execute_result"
    }
   ],
   "source": [
    "get_similar_cards(\"Ancestral Recall\")"
   ]
  },
  {
   "cell_type": "code",
   "execution_count": 27,
   "metadata": {},
   "outputs": [
    {
     "name": "stdout",
     "output_type": "stream",
     "text": [
      "[1.         0.93609756 0.91325575 0.8724118  0.85801816 0.8514776\n",
      " 0.85034215 0.840147   0.8356309  0.835047   0.83205366]\n"
     ]
    },
    {
     "data": {
      "text/html": [
       "<div><style>\n",
       ".dataframe > thead > tr,\n",
       ".dataframe > tbody > tr {\n",
       "  text-align: right;\n",
       "  white-space: pre-wrap;\n",
       "}\n",
       "</style>\n",
       "<small>shape: (11, 10)</small><table border=\"1\" class=\"dataframe\"><thead><tr><th>name</th><th>manaCost</th><th>type</th><th>text</th><th>power</th><th>toughness</th><th>loyalty</th><th>rarities</th><th>sets</th><th>embeds</th></tr><tr><td>str</td><td>str</td><td>str</td><td>str</td><td>str</td><td>str</td><td>str</td><td>list[enum]</td><td>list[enum]</td><td>array[f32, 768]</td></tr></thead><tbody><tr><td>&quot;Emrakul, the Aeons Torn&quot;</td><td>&quot;{15}&quot;</td><td>&quot;Legendary Creature — Eldrazi&quot;</td><td>&quot;This spell can&#x27;t be countered.…</td><td>&quot;15&quot;</td><td>&quot;15&quot;</td><td>null</td><td>[&quot;mythic&quot;]</td><td>[&quot;PRM&quot;, &quot;PPRO&quot;, … &quot;2X2&quot;]</td><td>[0.02084, -0.006343, … 0.040324]</td></tr><tr><td>&quot;Emrakul, the Promised End&quot;</td><td>&quot;{13}&quot;</td><td>&quot;Legendary Creature — Eldrazi&quot;</td><td>&quot;This spell costs {1} less to c…</td><td>&quot;13&quot;</td><td>&quot;13&quot;</td><td>null</td><td>[&quot;mythic&quot;]</td><td>[&quot;PEMN&quot;, &quot;EMN&quot;, … &quot;INR&quot;]</td><td>[0.010148, -0.005721, … 0.026989]</td></tr><tr><td>&quot;Emrakul, the World Anew&quot;</td><td>&quot;{12}&quot;</td><td>&quot;Legendary Creature — Eldrazi&quot;</td><td>&quot;When you cast this spell, gain…</td><td>&quot;12&quot;</td><td>&quot;12&quot;</td><td>null</td><td>[&quot;mythic&quot;]</td><td>[&quot;PMH3&quot;, &quot;MH3&quot;]</td><td>[0.028247, -0.005238, … 0.049959]</td></tr><tr><td>&quot;Hand of Emrakul&quot;</td><td>&quot;{9}&quot;</td><td>&quot;Creature — Eldrazi&quot;</td><td>&quot;You may sacrifice four Eldrazi…</td><td>&quot;7&quot;</td><td>&quot;7&quot;</td><td>null</td><td>[&quot;common&quot;]</td><td>[&quot;ROE&quot;]</td><td>[0.002368, -0.002853, … 0.036966]</td></tr><tr><td>&quot;Emrakul&#x27;s Hatcher&quot;</td><td>&quot;{4}{R}&quot;</td><td>&quot;Creature — Eldrazi Drone&quot;</td><td>&quot;When ~ enters, create three 0/…</td><td>&quot;3&quot;</td><td>&quot;3&quot;</td><td>null</td><td>[&quot;common&quot;]</td><td>[&quot;ROE&quot;, &quot;DDP&quot;, &quot;PLST&quot;]</td><td>[0.003429, -0.002003, … 0.044771]</td></tr><tr><td>&hellip;</td><td>&hellip;</td><td>&hellip;</td><td>&hellip;</td><td>&hellip;</td><td>&hellip;</td><td>&hellip;</td><td>&hellip;</td><td>&hellip;</td><td>&hellip;</td></tr><tr><td>&quot;Vestige of Emrakul&quot;</td><td>&quot;{3}{R}&quot;</td><td>&quot;Creature — Eldrazi Drone&quot;</td><td>&quot;Devoid (This card has no color…</td><td>&quot;3&quot;</td><td>&quot;4&quot;</td><td>null</td><td>[&quot;common&quot;]</td><td>[&quot;BFZ&quot;]</td><td>[0.019801, -0.002915, … 0.017911]</td></tr><tr><td>&quot;Boon of Emrakul&quot;</td><td>&quot;{2}{B}&quot;</td><td>&quot;Enchantment — Aura&quot;</td><td>&quot;Enchant creature\\nEnchanted cr…</td><td>null</td><td>null</td><td>null</td><td>[&quot;common&quot;]</td><td>[&quot;EMN&quot;, &quot;PLST&quot;]</td><td>[0.02423, -0.020273, … 0.018566]</td></tr><tr><td>&quot;Breaker of Creation&quot;</td><td>&quot;{6}{C}{C}&quot;</td><td>&quot;Creature — Eldrazi&quot;</td><td>&quot;When you cast this spell, you …</td><td>&quot;8&quot;</td><td>&quot;4&quot;</td><td>null</td><td>[&quot;uncommon&quot;]</td><td>[&quot;MH3&quot;]</td><td>[0.009795, 0.007539, … 0.024797]</td></tr><tr><td>&quot;Emrakul and Chatterfang&quot;</td><td>&quot;{8}{G}{G}{G}&quot;</td><td>&quot;Legendary Creature — Eldrazi S…</td><td>&quot;Devoid (This card has no color…</td><td>&quot;15&quot;</td><td>&quot;15&quot;</td><td>null</td><td>[&quot;rare&quot;]</td><td>[&quot;DA1&quot;]</td><td>[0.003994, 0.005475, … 0.017274]</td></tr><tr><td>&quot;Inverter of Truth&quot;</td><td>&quot;{2}{B}{B}&quot;</td><td>&quot;Creature — Eldrazi&quot;</td><td>&quot;Devoid (This card has no color…</td><td>&quot;6&quot;</td><td>&quot;6&quot;</td><td>null</td><td>[&quot;mythic&quot;]</td><td>[&quot;POGW&quot;, &quot;OGW&quot;]</td><td>[0.011636, 0.0084, … 0.021384]</td></tr></tbody></table></div>"
      ],
      "text/plain": [
       "shape: (11, 10)\n",
       "┌────────────┬───────────┬───────────┬───────────┬───┬─────────┬───────────┬───────────┬───────────┐\n",
       "│ name       ┆ manaCost  ┆ type      ┆ text      ┆ … ┆ loyalty ┆ rarities  ┆ sets      ┆ embeds    │\n",
       "│ ---        ┆ ---       ┆ ---       ┆ ---       ┆   ┆ ---     ┆ ---       ┆ ---       ┆ ---       │\n",
       "│ str        ┆ str       ┆ str       ┆ str       ┆   ┆ str     ┆ list[enum ┆ list[enum ┆ array[f32 │\n",
       "│            ┆           ┆           ┆           ┆   ┆         ┆ ]         ┆ ]         ┆ , 768]    │\n",
       "╞════════════╪═══════════╪═══════════╪═══════════╪═══╪═════════╪═══════════╪═══════════╪═══════════╡\n",
       "│ Emrakul,   ┆ {15}      ┆ Legendary ┆ This      ┆ … ┆ null    ┆ [\"mythic\" ┆ [\"PRM\",   ┆ [0.02084, │\n",
       "│ the Aeons  ┆           ┆ Creature  ┆ spell     ┆   ┆         ┆ ]         ┆ \"PPRO\", … ┆ -0.006343 │\n",
       "│ Torn       ┆           ┆ — Eldrazi ┆ can't be  ┆   ┆         ┆           ┆ \"2X2\"]    ┆ , …       │\n",
       "│            ┆           ┆           ┆ countered ┆   ┆         ┆           ┆           ┆ 0.04032…  │\n",
       "│            ┆           ┆           ┆ .…        ┆   ┆         ┆           ┆           ┆           │\n",
       "│ Emrakul,   ┆ {13}      ┆ Legendary ┆ This      ┆ … ┆ null    ┆ [\"mythic\" ┆ [\"PEMN\",  ┆ [0.010148 │\n",
       "│ the        ┆           ┆ Creature  ┆ spell     ┆   ┆         ┆ ]         ┆ \"EMN\", …  ┆ , -0.0057 │\n",
       "│ Promised   ┆           ┆ — Eldrazi ┆ costs {1} ┆   ┆         ┆           ┆ \"INR\"]    ┆ 21, …     │\n",
       "│ End        ┆           ┆           ┆ less to   ┆   ┆         ┆           ┆           ┆ 0.0269…   │\n",
       "│            ┆           ┆           ┆ c…        ┆   ┆         ┆           ┆           ┆           │\n",
       "│ Emrakul,   ┆ {12}      ┆ Legendary ┆ When you  ┆ … ┆ null    ┆ [\"mythic\" ┆ [\"PMH3\",  ┆ [0.028247 │\n",
       "│ the World  ┆           ┆ Creature  ┆ cast this ┆   ┆         ┆ ]         ┆ \"MH3\"]    ┆ , -0.0052 │\n",
       "│ Anew       ┆           ┆ — Eldrazi ┆ spell,    ┆   ┆         ┆           ┆           ┆ 38, …     │\n",
       "│            ┆           ┆           ┆ gain…     ┆   ┆         ┆           ┆           ┆ 0.0499…   │\n",
       "│ Hand of    ┆ {9}       ┆ Creature  ┆ You may   ┆ … ┆ null    ┆ [\"common\" ┆ [\"ROE\"]   ┆ [0.002368 │\n",
       "│ Emrakul    ┆           ┆ — Eldrazi ┆ sacrifice ┆   ┆         ┆ ]         ┆           ┆ , -0.0028 │\n",
       "│            ┆           ┆           ┆ four      ┆   ┆         ┆           ┆           ┆ 53, …     │\n",
       "│            ┆           ┆           ┆ Eldrazi…  ┆   ┆         ┆           ┆           ┆ 0.0369…   │\n",
       "│ Emrakul's  ┆ {4}{R}    ┆ Creature  ┆ When ~    ┆ … ┆ null    ┆ [\"common\" ┆ [\"ROE\",   ┆ [0.003429 │\n",
       "│ Hatcher    ┆           ┆ — Eldrazi ┆ enters,   ┆   ┆         ┆ ]         ┆ \"DDP\",    ┆ , -0.0020 │\n",
       "│            ┆           ┆ Drone     ┆ create    ┆   ┆         ┆           ┆ \"PLST\"]   ┆ 03, …     │\n",
       "│            ┆           ┆           ┆ three 0/… ┆   ┆         ┆           ┆           ┆ 0.0447…   │\n",
       "│ …          ┆ …         ┆ …         ┆ …         ┆ … ┆ …       ┆ …         ┆ …         ┆ …         │\n",
       "│ Vestige of ┆ {3}{R}    ┆ Creature  ┆ Devoid    ┆ … ┆ null    ┆ [\"common\" ┆ [\"BFZ\"]   ┆ [0.019801 │\n",
       "│ Emrakul    ┆           ┆ — Eldrazi ┆ (This     ┆   ┆         ┆ ]         ┆           ┆ , -0.0029 │\n",
       "│            ┆           ┆ Drone     ┆ card has  ┆   ┆         ┆           ┆           ┆ 15, …     │\n",
       "│            ┆           ┆           ┆ no color… ┆   ┆         ┆           ┆           ┆ 0.0179…   │\n",
       "│ Boon of    ┆ {2}{B}    ┆ Enchantme ┆ Enchant   ┆ … ┆ null    ┆ [\"common\" ┆ [\"EMN\",   ┆ [0.02423, │\n",
       "│ Emrakul    ┆           ┆ nt — Aura ┆ creature\\ ┆   ┆         ┆ ]         ┆ \"PLST\"]   ┆ -0.020273 │\n",
       "│            ┆           ┆           ┆ nEnchante ┆   ┆         ┆           ┆           ┆ , …       │\n",
       "│            ┆           ┆           ┆ d cr…     ┆   ┆         ┆           ┆           ┆ 0.01856…  │\n",
       "│ Breaker of ┆ {6}{C}{C} ┆ Creature  ┆ When you  ┆ … ┆ null    ┆ [\"uncommo ┆ [\"MH3\"]   ┆ [0.009795 │\n",
       "│ Creation   ┆           ┆ — Eldrazi ┆ cast this ┆   ┆         ┆ n\"]       ┆           ┆ ,         │\n",
       "│            ┆           ┆           ┆ spell,    ┆   ┆         ┆           ┆           ┆ 0.007539, │\n",
       "│            ┆           ┆           ┆ you …     ┆   ┆         ┆           ┆           ┆ …         │\n",
       "│            ┆           ┆           ┆           ┆   ┆         ┆           ┆           ┆ 0.02479…  │\n",
       "│ Emrakul    ┆ {8}{G}{G} ┆ Legendary ┆ Devoid    ┆ … ┆ null    ┆ [\"rare\"]  ┆ [\"DA1\"]   ┆ [0.003994 │\n",
       "│ and Chatte ┆ {G}       ┆ Creature  ┆ (This     ┆   ┆         ┆           ┆           ┆ ,         │\n",
       "│ rfang      ┆           ┆ — Eldrazi ┆ card has  ┆   ┆         ┆           ┆           ┆ 0.005475, │\n",
       "│            ┆           ┆ S…        ┆ no color… ┆   ┆         ┆           ┆           ┆ …         │\n",
       "│            ┆           ┆           ┆           ┆   ┆         ┆           ┆           ┆ 0.01727…  │\n",
       "│ Inverter   ┆ {2}{B}{B} ┆ Creature  ┆ Devoid    ┆ … ┆ null    ┆ [\"mythic\" ┆ [\"POGW\",  ┆ [0.011636 │\n",
       "│ of Truth   ┆           ┆ — Eldrazi ┆ (This     ┆   ┆         ┆ ]         ┆ \"OGW\"]    ┆ , 0.0084, │\n",
       "│            ┆           ┆           ┆ card has  ┆   ┆         ┆           ┆           ┆ …         │\n",
       "│            ┆           ┆           ┆ no color… ┆   ┆         ┆           ┆           ┆ 0.021384] │\n",
       "└────────────┴───────────┴───────────┴───────────┴───┴─────────┴───────────┴───────────┴───────────┘"
      ]
     },
     "execution_count": 27,
     "metadata": {},
     "output_type": "execute_result"
    }
   ],
   "source": [
    "get_similar_cards(\"Emrakul, the Aeons Torn\")"
   ]
  },
  {
   "cell_type": "code",
   "execution_count": 28,
   "metadata": {},
   "outputs": [
    {
     "name": "stdout",
     "output_type": "stream",
     "text": [
      "[1.0000001  0.89639765 0.88548464 0.8805276  0.870883   0.8465492\n",
      " 0.8401215  0.8385218  0.8321432  0.8298277  0.8291932 ]\n"
     ]
    },
    {
     "data": {
      "text/html": [
       "<div><style>\n",
       ".dataframe > thead > tr,\n",
       ".dataframe > tbody > tr {\n",
       "  text-align: right;\n",
       "  white-space: pre-wrap;\n",
       "}\n",
       "</style>\n",
       "<small>shape: (11, 10)</small><table border=\"1\" class=\"dataframe\"><thead><tr><th>name</th><th>manaCost</th><th>type</th><th>text</th><th>power</th><th>toughness</th><th>loyalty</th><th>rarities</th><th>sets</th><th>embeds</th></tr><tr><td>str</td><td>str</td><td>str</td><td>str</td><td>str</td><td>str</td><td>str</td><td>list[enum]</td><td>list[enum]</td><td>array[f32, 768]</td></tr></thead><tbody><tr><td>&quot;Lightning Helix&quot;</td><td>&quot;{R}{W}&quot;</td><td>&quot;Instant&quot;</td><td>&quot;~ deals 3 damage to any target…</td><td>null</td><td>null</td><td>null</td><td>[&quot;uncommon&quot;, &quot;rare&quot;]</td><td>[&quot;PRM&quot;, &quot;RAV&quot;, … &quot;MKM&quot;]</td><td>[0.003679, -0.043555, … 0.012915]</td></tr><tr><td>&quot;Warleader&#x27;s Helix&quot;</td><td>&quot;{2}{R}{W}&quot;</td><td>&quot;Instant&quot;</td><td>&quot;~ deals 4 damage to any target…</td><td>null</td><td>null</td><td>null</td><td>[&quot;uncommon&quot;, &quot;rare&quot;]</td><td>[&quot;PRM&quot;, &quot;DGM&quot;, … &quot;UMA&quot;]</td><td>[-0.018738, -0.041211, … 0.02561]</td></tr><tr><td>&quot;Lightning Bolt&quot;</td><td>&quot;{R}&quot;</td><td>&quot;Instant&quot;</td><td>&quot;~ deals 3 damage to any target…</td><td>null</td><td>null</td><td>null</td><td>[&quot;common&quot;, &quot;uncommon&quot;, … &quot;special&quot;]</td><td>[&quot;LEA&quot;, &quot;LEB&quot;, … &quot;CLU&quot;]</td><td>[0.00657, -0.009445, … 0.027204]</td></tr><tr><td>&quot;Lightning Blast&quot;</td><td>&quot;{3}{R}&quot;</td><td>&quot;Instant&quot;</td><td>&quot;~ deals 4 damage to any target…</td><td>null</td><td>null</td><td>null</td><td>[&quot;common&quot;, &quot;uncommon&quot;]</td><td>[&quot;TMP&quot;, &quot;6ED&quot;, … &quot;TPR&quot;]</td><td>[0.00608, -0.005626, … 0.021651]</td></tr><tr><td>&quot;Lightning Strike&quot;</td><td>&quot;{1}{R}&quot;</td><td>&quot;Instant&quot;</td><td>&quot;~ deals 3 damage to any target…</td><td>null</td><td>null</td><td>null</td><td>[&quot;common&quot;, &quot;uncommon&quot;, &quot;rare&quot;]</td><td>[&quot;THS&quot;, &quot;M15&quot;, … &quot;PCBB&quot;]</td><td>[0.029015, -0.009396, … 0.025029]</td></tr><tr><td>&hellip;</td><td>&hellip;</td><td>&hellip;</td><td>&hellip;</td><td>&hellip;</td><td>&hellip;</td><td>&hellip;</td><td>&hellip;</td><td>&hellip;</td><td>&hellip;</td></tr><tr><td>&quot;Lightning Volley&quot;</td><td>&quot;{3}{R}&quot;</td><td>&quot;Instant&quot;</td><td>&quot;Until end of turn, creatures y…</td><td>null</td><td>null</td><td>null</td><td>[&quot;uncommon&quot;]</td><td>[&quot;BNG&quot;]</td><td>[-0.003036, -0.027307, … 0.009499]</td></tr><tr><td>&quot;Homing Lightning&quot;</td><td>&quot;{2}{R}{R}&quot;</td><td>&quot;Instant&quot;</td><td>&quot;~ deals 4 damage to target cre…</td><td>null</td><td>null</td><td>null</td><td>[&quot;uncommon&quot;]</td><td>[&quot;GTC&quot;, &quot;JMP&quot;, &quot;RVR&quot;]</td><td>[-0.026547, -0.005318, … 0.028186]</td></tr><tr><td>&quot;Foundry Helix&quot;</td><td>&quot;{1}{R}{W}&quot;</td><td>&quot;Instant&quot;</td><td>&quot;As an additional cost to cast …</td><td>null</td><td>null</td><td>null</td><td>[&quot;common&quot;]</td><td>[&quot;MH2&quot;]</td><td>[0.002449, -0.062502, … 0.032006]</td></tr><tr><td>&quot;Arc Lightning&quot;</td><td>&quot;{2}{R}&quot;</td><td>&quot;Sorcery&quot;</td><td>&quot;~ deals 3 damage divided as yo…</td><td>null</td><td>null</td><td>null</td><td>[&quot;common&quot;, &quot;uncommon&quot;, &quot;rare&quot;]</td><td>[&quot;USG&quot;, &quot;WC99&quot;, … &quot;PLST&quot;]</td><td>[0.023523, 0.04182, … 0.018414]</td></tr><tr><td>&quot;Hail of Arrows&quot;</td><td>&quot;{X}{W}&quot;</td><td>&quot;Instant&quot;</td><td>&quot;~ deals X damage divided as yo…</td><td>null</td><td>null</td><td>null</td><td>[&quot;uncommon&quot;]</td><td>[&quot;SOK&quot;, &quot;10E&quot;, &quot;CN2&quot;]</td><td>[-0.029324, 0.013765, … 0.045013]</td></tr></tbody></table></div>"
      ],
      "text/plain": [
       "shape: (11, 10)\n",
       "┌────────────┬───────────┬─────────┬────────────┬───┬─────────┬────────────┬───────────┬───────────┐\n",
       "│ name       ┆ manaCost  ┆ type    ┆ text       ┆ … ┆ loyalty ┆ rarities   ┆ sets      ┆ embeds    │\n",
       "│ ---        ┆ ---       ┆ ---     ┆ ---        ┆   ┆ ---     ┆ ---        ┆ ---       ┆ ---       │\n",
       "│ str        ┆ str       ┆ str     ┆ str        ┆   ┆ str     ┆ list[enum] ┆ list[enum ┆ array[f32 │\n",
       "│            ┆           ┆         ┆            ┆   ┆         ┆            ┆ ]         ┆ , 768]    │\n",
       "╞════════════╪═══════════╪═════════╪════════════╪═══╪═════════╪════════════╪═══════════╪═══════════╡\n",
       "│ Lightning  ┆ {R}{W}    ┆ Instant ┆ ~ deals 3  ┆ … ┆ null    ┆ [\"uncommon ┆ [\"PRM\",   ┆ [0.003679 │\n",
       "│ Helix      ┆           ┆         ┆ damage to  ┆   ┆         ┆ \", \"rare\"] ┆ \"RAV\", …  ┆ , -0.0435 │\n",
       "│            ┆           ┆         ┆ any        ┆   ┆         ┆            ┆ \"MKM\"]    ┆ 55, …     │\n",
       "│            ┆           ┆         ┆ target…    ┆   ┆         ┆            ┆           ┆ 0.0129…   │\n",
       "│ Warleader' ┆ {2}{R}{W} ┆ Instant ┆ ~ deals 4  ┆ … ┆ null    ┆ [\"uncommon ┆ [\"PRM\",   ┆ [-0.01873 │\n",
       "│ s Helix    ┆           ┆         ┆ damage to  ┆   ┆         ┆ \", \"rare\"] ┆ \"DGM\", …  ┆ 8, -0.041 │\n",
       "│            ┆           ┆         ┆ any        ┆   ┆         ┆            ┆ \"UMA\"]    ┆ 211, …    │\n",
       "│            ┆           ┆         ┆ target…    ┆   ┆         ┆            ┆           ┆ 0.025…    │\n",
       "│ Lightning  ┆ {R}       ┆ Instant ┆ ~ deals 3  ┆ … ┆ null    ┆ [\"common\", ┆ [\"LEA\",   ┆ [0.00657, │\n",
       "│ Bolt       ┆           ┆         ┆ damage to  ┆   ┆         ┆ \"uncommon\" ┆ \"LEB\", …  ┆ -0.009445 │\n",
       "│            ┆           ┆         ┆ any        ┆   ┆         ┆ , … \"spec… ┆ \"CLU\"]    ┆ , …       │\n",
       "│            ┆           ┆         ┆ target…    ┆   ┆         ┆            ┆           ┆ 0.02720…  │\n",
       "│ Lightning  ┆ {3}{R}    ┆ Instant ┆ ~ deals 4  ┆ … ┆ null    ┆ [\"common\", ┆ [\"TMP\",   ┆ [0.00608, │\n",
       "│ Blast      ┆           ┆         ┆ damage to  ┆   ┆         ┆ \"uncommon\" ┆ \"6ED\", …  ┆ -0.005626 │\n",
       "│            ┆           ┆         ┆ any        ┆   ┆         ┆ ]          ┆ \"TPR\"]    ┆ , …       │\n",
       "│            ┆           ┆         ┆ target…    ┆   ┆         ┆            ┆           ┆ 0.02165…  │\n",
       "│ Lightning  ┆ {1}{R}    ┆ Instant ┆ ~ deals 3  ┆ … ┆ null    ┆ [\"common\", ┆ [\"THS\",   ┆ [0.029015 │\n",
       "│ Strike     ┆           ┆         ┆ damage to  ┆   ┆         ┆ \"uncommon\" ┆ \"M15\", …  ┆ , -0.0093 │\n",
       "│            ┆           ┆         ┆ any        ┆   ┆         ┆ , \"rare\"]  ┆ \"PCBB\"]   ┆ 96, …     │\n",
       "│            ┆           ┆         ┆ target…    ┆   ┆         ┆            ┆           ┆ 0.0250…   │\n",
       "│ …          ┆ …         ┆ …       ┆ …          ┆ … ┆ …       ┆ …          ┆ …         ┆ …         │\n",
       "│ Lightning  ┆ {3}{R}    ┆ Instant ┆ Until end  ┆ … ┆ null    ┆ [\"uncommon ┆ [\"BNG\"]   ┆ [-0.00303 │\n",
       "│ Volley     ┆           ┆         ┆ of turn,   ┆   ┆         ┆ \"]         ┆           ┆ 6, -0.027 │\n",
       "│            ┆           ┆         ┆ creatures  ┆   ┆         ┆            ┆           ┆ 307, …    │\n",
       "│            ┆           ┆         ┆ y…         ┆   ┆         ┆            ┆           ┆ 0.009…    │\n",
       "│ Homing     ┆ {2}{R}{R} ┆ Instant ┆ ~ deals 4  ┆ … ┆ null    ┆ [\"uncommon ┆ [\"GTC\",   ┆ [-0.02654 │\n",
       "│ Lightning  ┆           ┆         ┆ damage to  ┆   ┆         ┆ \"]         ┆ \"JMP\",    ┆ 7, -0.005 │\n",
       "│            ┆           ┆         ┆ target     ┆   ┆         ┆            ┆ \"RVR\"]    ┆ 318, …    │\n",
       "│            ┆           ┆         ┆ cre…       ┆   ┆         ┆            ┆           ┆ 0.028…    │\n",
       "│ Foundry    ┆ {1}{R}{W} ┆ Instant ┆ As an      ┆ … ┆ null    ┆ [\"common\"] ┆ [\"MH2\"]   ┆ [0.002449 │\n",
       "│ Helix      ┆           ┆         ┆ additional ┆   ┆         ┆            ┆           ┆ , -0.0625 │\n",
       "│            ┆           ┆         ┆ cost to    ┆   ┆         ┆            ┆           ┆ 02, …     │\n",
       "│            ┆           ┆         ┆ cast …     ┆   ┆         ┆            ┆           ┆ 0.0320…   │\n",
       "│ Arc        ┆ {2}{R}    ┆ Sorcery ┆ ~ deals 3  ┆ … ┆ null    ┆ [\"common\", ┆ [\"USG\",   ┆ [0.023523 │\n",
       "│ Lightning  ┆           ┆         ┆ damage     ┆   ┆         ┆ \"uncommon\" ┆ \"WC99\", … ┆ ,         │\n",
       "│            ┆           ┆         ┆ divided as ┆   ┆         ┆ , \"rare\"]  ┆ \"PLST\"]   ┆ 0.04182,  │\n",
       "│            ┆           ┆         ┆ yo…        ┆   ┆         ┆            ┆           ┆ …         │\n",
       "│            ┆           ┆         ┆            ┆   ┆         ┆            ┆           ┆ 0.018414… │\n",
       "│ Hail of    ┆ {X}{W}    ┆ Instant ┆ ~ deals X  ┆ … ┆ null    ┆ [\"uncommon ┆ [\"SOK\",   ┆ [-0.02932 │\n",
       "│ Arrows     ┆           ┆         ┆ damage     ┆   ┆         ┆ \"]         ┆ \"10E\",    ┆ 4,        │\n",
       "│            ┆           ┆         ┆ divided as ┆   ┆         ┆            ┆ \"CN2\"]    ┆ 0.013765, │\n",
       "│            ┆           ┆         ┆ yo…        ┆   ┆         ┆            ┆           ┆ … 0.0450… │\n",
       "└────────────┴───────────┴─────────┴────────────┴───┴─────────┴────────────┴───────────┴───────────┘"
      ]
     },
     "execution_count": 28,
     "metadata": {},
     "output_type": "execute_result"
    }
   ],
   "source": [
    "get_similar_cards(\"Lightning Helix\")"
   ]
  },
  {
   "cell_type": "markdown",
   "metadata": {},
   "source": [
    "## Parametric Filters\n"
   ]
  },
  {
   "cell_type": "code",
   "execution_count": 63,
   "metadata": {},
   "outputs": [],
   "source": [
    "def get_similar_cards_filtered(\n",
    "    card_name, mana=None, card_type=None, text_partial=None, set_card=None\n",
    "):\n",
    "    query_embed = (\n",
    "        df.filter(pl.col(\"name\") == card_name)[\"embeds\"].to_numpy(allow_copy=False)\n",
    "    )[0]\n",
    "\n",
    "    embed_f = df.lazy()\n",
    "\n",
    "    if mana:\n",
    "        embed_f = embed_f.filter(pl.col(\"manaCost\").str.contains(mana, literal=True))\n",
    "    if card_type:\n",
    "        embed_f = embed_f.filter(pl.col(\"type\").str.contains(card_type, literal=True))\n",
    "    if text_partial:\n",
    "        embed_f = embed_f.filter(\n",
    "            pl.col(\"text\").str.contains(text_partial, literal=True)\n",
    "        )\n",
    "    if set_card:\n",
    "        embed_f = embed_f.filter(pl.col(\"sets\").list.contains(set_card))\n",
    "\n",
    "    embed_f = embed_f.collect()\n",
    "    embeddings_f = embed_f[\"embeds\"].to_numpy(allow_copy=False)\n",
    "\n",
    "    idx, score = fast_dot_product(query_embed, embeddings_f, k=10 + 1)\n",
    "    print(score)\n",
    "    return embed_f[idx]"
   ]
  },
  {
   "cell_type": "code",
   "execution_count": 64,
   "metadata": {},
   "outputs": [
    {
     "name": "stdout",
     "output_type": "stream",
     "text": [
      "[0.82451946 0.82339114 0.82317334 0.8011716  0.7998211  0.79381216\n",
      " 0.79321027 0.791517   0.79127645 0.79074866 0.78894895]\n"
     ]
    },
    {
     "data": {
      "text/html": [
       "<div><style>\n",
       ".dataframe > thead > tr,\n",
       ".dataframe > tbody > tr {\n",
       "  text-align: right;\n",
       "  white-space: pre-wrap;\n",
       "}\n",
       "</style>\n",
       "<small>shape: (11, 10)</small><table border=\"1\" class=\"dataframe\"><thead><tr><th>name</th><th>manaCost</th><th>type</th><th>text</th><th>power</th><th>toughness</th><th>loyalty</th><th>rarities</th><th>sets</th><th>embeds</th></tr><tr><td>str</td><td>str</td><td>str</td><td>str</td><td>str</td><td>str</td><td>str</td><td>list[enum]</td><td>list[enum]</td><td>array[f32, 768]</td></tr></thead><tbody><tr><td>&quot;Dark Nourishment&quot;</td><td>&quot;{4}{B}&quot;</td><td>&quot;Instant&quot;</td><td>&quot;~ deals 3 damage to any target…</td><td>null</td><td>null</td><td>null</td><td>[&quot;uncommon&quot;]</td><td>[&quot;XLN&quot;]</td><td>[-0.039333, -0.022904, … 0.02819]</td></tr><tr><td>&quot;Smiting Helix&quot;</td><td>&quot;{3}{B}&quot;</td><td>&quot;Sorcery&quot;</td><td>&quot;~ deals 3 damage to any target…</td><td>null</td><td>null</td><td>null</td><td>[&quot;uncommon&quot;]</td><td>[&quot;MH1&quot;, &quot;PLST&quot;]</td><td>[0.012835, -0.047013, … 0.002875]</td></tr><tr><td>&quot;Essence Extraction&quot;</td><td>&quot;{1}{B}{B}&quot;</td><td>&quot;Instant&quot;</td><td>&quot;~ deals 3 damage to target cre…</td><td>null</td><td>null</td><td>null</td><td>[&quot;uncommon&quot;]</td><td>[&quot;PRM&quot;, &quot;PKLD&quot;, … &quot;KLR&quot;]</td><td>[0.018107, -0.025216, … 0.008154]</td></tr><tr><td>&quot;Agonizing Syphon&quot;</td><td>&quot;{3}{B}&quot;</td><td>&quot;Sorcery&quot;</td><td>&quot;~ deals 3 damage to any target…</td><td>null</td><td>null</td><td>null</td><td>[&quot;common&quot;]</td><td>[&quot;M20&quot;, &quot;JMP&quot;, &quot;J25&quot;]</td><td>[-0.004245, 0.011405, … 0.034822]</td></tr><tr><td>&quot;Breath of Malfegor&quot;</td><td>&quot;{3}{B}{R}&quot;</td><td>&quot;Instant&quot;</td><td>&quot;~ deals 5 damage to each oppon…</td><td>null</td><td>null</td><td>null</td><td>[&quot;common&quot;, &quot;rare&quot;]</td><td>[&quot;ARB&quot;, &quot;PIDW&quot;, &quot;SCD&quot;]</td><td>[-0.033756, -0.008756, … -0.006077]</td></tr><tr><td>&hellip;</td><td>&hellip;</td><td>&hellip;</td><td>&hellip;</td><td>&hellip;</td><td>&hellip;</td><td>&hellip;</td><td>&hellip;</td><td>&hellip;</td><td>&hellip;</td></tr><tr><td>&quot;Lightning Reaver&quot;</td><td>&quot;{3}{B}{R}&quot;</td><td>&quot;Creature — Zombie Beast&quot;</td><td>&quot;Haste; fear (This creature can…</td><td>&quot;3&quot;</td><td>&quot;3&quot;</td><td>null</td><td>[&quot;rare&quot;]</td><td>[&quot;ARB&quot;]</td><td>[-0.02307, 0.002059, … 0.013735]</td></tr><tr><td>&quot;Crackling Doom&quot;</td><td>&quot;{R}{W}{B}&quot;</td><td>&quot;Instant&quot;</td><td>&quot;~ deals 2 damage to each oppon…</td><td>null</td><td>null</td><td>null</td><td>[&quot;uncommon&quot;, &quot;rare&quot;]</td><td>[&quot;PKTK&quot;, &quot;KTK&quot;, … &quot;2X2&quot;]</td><td>[-0.014599, 0.012536, … 0.02133]</td></tr><tr><td>&quot;Essence Vortex&quot;</td><td>&quot;{1}{U}{B}&quot;</td><td>&quot;Instant&quot;</td><td>&quot;Destroy target creature unless…</td><td>null</td><td>null</td><td>null</td><td>[&quot;uncommon&quot;]</td><td>[&quot;ICE&quot;]</td><td>[0.004594, -0.042689, … 0.037581]</td></tr><tr><td>&quot;Lightning Skelemental&quot;</td><td>&quot;{B}{R}{R}&quot;</td><td>&quot;Creature — Elemental Skeleton&quot;</td><td>&quot;Trample, haste\\nWhenever ~ dea…</td><td>&quot;6&quot;</td><td>&quot;1&quot;</td><td>null</td><td>[&quot;rare&quot;]</td><td>[&quot;MH1&quot;, &quot;PLST&quot;]</td><td>[-0.000449, -0.015212, … 0.022588]</td></tr><tr><td>&quot;Death Wind&quot;</td><td>&quot;{X}{B}&quot;</td><td>&quot;Instant&quot;</td><td>&quot;Target creature gets -X/-X unt…</td><td>null</td><td>null</td><td>null</td><td>[&quot;common&quot;, &quot;uncommon&quot;]</td><td>[&quot;AVR&quot;, &quot;DTK&quot;, … &quot;J22&quot;]</td><td>[-0.000169, 0.007789, … 0.018132]</td></tr></tbody></table></div>"
      ],
      "text/plain": [
       "shape: (11, 10)\n",
       "┌────────────┬───────────┬───────────┬───────────┬───┬─────────┬───────────┬───────────┬───────────┐\n",
       "│ name       ┆ manaCost  ┆ type      ┆ text      ┆ … ┆ loyalty ┆ rarities  ┆ sets      ┆ embeds    │\n",
       "│ ---        ┆ ---       ┆ ---       ┆ ---       ┆   ┆ ---     ┆ ---       ┆ ---       ┆ ---       │\n",
       "│ str        ┆ str       ┆ str       ┆ str       ┆   ┆ str     ┆ list[enum ┆ list[enum ┆ array[f32 │\n",
       "│            ┆           ┆           ┆           ┆   ┆         ┆ ]         ┆ ]         ┆ , 768]    │\n",
       "╞════════════╪═══════════╪═══════════╪═══════════╪═══╪═════════╪═══════════╪═══════════╪═══════════╡\n",
       "│ Dark Nouri ┆ {4}{B}    ┆ Instant   ┆ ~ deals 3 ┆ … ┆ null    ┆ [\"uncommo ┆ [\"XLN\"]   ┆ [-0.03933 │\n",
       "│ shment     ┆           ┆           ┆ damage to ┆   ┆         ┆ n\"]       ┆           ┆ 3, -0.022 │\n",
       "│            ┆           ┆           ┆ any       ┆   ┆         ┆           ┆           ┆ 904, …    │\n",
       "│            ┆           ┆           ┆ target…   ┆   ┆         ┆           ┆           ┆ 0.028…    │\n",
       "│ Smiting    ┆ {3}{B}    ┆ Sorcery   ┆ ~ deals 3 ┆ … ┆ null    ┆ [\"uncommo ┆ [\"MH1\",   ┆ [0.012835 │\n",
       "│ Helix      ┆           ┆           ┆ damage to ┆   ┆         ┆ n\"]       ┆ \"PLST\"]   ┆ , -0.0470 │\n",
       "│            ┆           ┆           ┆ any       ┆   ┆         ┆           ┆           ┆ 13, …     │\n",
       "│            ┆           ┆           ┆ target…   ┆   ┆         ┆           ┆           ┆ 0.0028…   │\n",
       "│ Essence    ┆ {1}{B}{B} ┆ Instant   ┆ ~ deals 3 ┆ … ┆ null    ┆ [\"uncommo ┆ [\"PRM\",   ┆ [0.018107 │\n",
       "│ Extraction ┆           ┆           ┆ damage to ┆   ┆         ┆ n\"]       ┆ \"PKLD\", … ┆ , -0.0252 │\n",
       "│            ┆           ┆           ┆ target    ┆   ┆         ┆           ┆ \"KLR\"]    ┆ 16, …     │\n",
       "│            ┆           ┆           ┆ cre…      ┆   ┆         ┆           ┆           ┆ 0.0081…   │\n",
       "│ Agonizing  ┆ {3}{B}    ┆ Sorcery   ┆ ~ deals 3 ┆ … ┆ null    ┆ [\"common\" ┆ [\"M20\",   ┆ [-0.00424 │\n",
       "│ Syphon     ┆           ┆           ┆ damage to ┆   ┆         ┆ ]         ┆ \"JMP\",    ┆ 5,        │\n",
       "│            ┆           ┆           ┆ any       ┆   ┆         ┆           ┆ \"J25\"]    ┆ 0.011405, │\n",
       "│            ┆           ┆           ┆ target…   ┆   ┆         ┆           ┆           ┆ … 0.0348… │\n",
       "│ Breath of  ┆ {3}{B}{R} ┆ Instant   ┆ ~ deals 5 ┆ … ┆ null    ┆ [\"common\" ┆ [\"ARB\",   ┆ [-0.03375 │\n",
       "│ Malfegor   ┆           ┆           ┆ damage to ┆   ┆         ┆ , \"rare\"] ┆ \"PIDW\",   ┆ 6, -0.008 │\n",
       "│            ┆           ┆           ┆ each      ┆   ┆         ┆           ┆ \"SCD\"]    ┆ 756, …    │\n",
       "│            ┆           ┆           ┆ oppon…    ┆   ┆         ┆           ┆           ┆ -0.00…    │\n",
       "│ …          ┆ …         ┆ …         ┆ …         ┆ … ┆ …       ┆ …         ┆ …         ┆ …         │\n",
       "│ Lightning  ┆ {3}{B}{R} ┆ Creature  ┆ Haste;    ┆ … ┆ null    ┆ [\"rare\"]  ┆ [\"ARB\"]   ┆ [-0.02307 │\n",
       "│ Reaver     ┆           ┆ — Zombie  ┆ fear      ┆   ┆         ┆           ┆           ┆ ,         │\n",
       "│            ┆           ┆ Beast     ┆ (This     ┆   ┆         ┆           ┆           ┆ 0.002059, │\n",
       "│            ┆           ┆           ┆ creature  ┆   ┆         ┆           ┆           ┆ …         │\n",
       "│            ┆           ┆           ┆ can…      ┆   ┆         ┆           ┆           ┆ 0.01373…  │\n",
       "│ Crackling  ┆ {R}{W}{B} ┆ Instant   ┆ ~ deals 2 ┆ … ┆ null    ┆ [\"uncommo ┆ [\"PKTK\",  ┆ [-0.01459 │\n",
       "│ Doom       ┆           ┆           ┆ damage to ┆   ┆         ┆ n\",       ┆ \"KTK\", …  ┆ 9,        │\n",
       "│            ┆           ┆           ┆ each      ┆   ┆         ┆ \"rare\"]   ┆ \"2X2\"]    ┆ 0.012536, │\n",
       "│            ┆           ┆           ┆ oppon…    ┆   ┆         ┆           ┆           ┆ … 0.0213… │\n",
       "│ Essence    ┆ {1}{U}{B} ┆ Instant   ┆ Destroy   ┆ … ┆ null    ┆ [\"uncommo ┆ [\"ICE\"]   ┆ [0.004594 │\n",
       "│ Vortex     ┆           ┆           ┆ target    ┆   ┆         ┆ n\"]       ┆           ┆ , -0.0426 │\n",
       "│            ┆           ┆           ┆ creature  ┆   ┆         ┆           ┆           ┆ 89, …     │\n",
       "│            ┆           ┆           ┆ unless…   ┆   ┆         ┆           ┆           ┆ 0.0375…   │\n",
       "│ Lightning  ┆ {B}{R}{R} ┆ Creature  ┆ Trample,  ┆ … ┆ null    ┆ [\"rare\"]  ┆ [\"MH1\",   ┆ [-0.00044 │\n",
       "│ Skelementa ┆           ┆ —         ┆ haste\\nWh ┆   ┆         ┆           ┆ \"PLST\"]   ┆ 9, -0.015 │\n",
       "│ l          ┆           ┆ Elemental ┆ enever ~  ┆   ┆         ┆           ┆           ┆ 212, …    │\n",
       "│            ┆           ┆ Skeleton  ┆ dea…      ┆   ┆         ┆           ┆           ┆ 0.022…    │\n",
       "│ Death Wind ┆ {X}{B}    ┆ Instant   ┆ Target    ┆ … ┆ null    ┆ [\"common\" ┆ [\"AVR\",   ┆ [-0.00016 │\n",
       "│            ┆           ┆           ┆ creature  ┆   ┆         ┆ , \"uncomm ┆ \"DTK\", …  ┆ 9,        │\n",
       "│            ┆           ┆           ┆ gets      ┆   ┆         ┆ on\"]      ┆ \"J22\"]    ┆ 0.007789, │\n",
       "│            ┆           ┆           ┆ -X/-X     ┆   ┆         ┆           ┆           ┆ … 0.0181… │\n",
       "│            ┆           ┆           ┆ unt…      ┆   ┆         ┆           ┆           ┆           │\n",
       "└────────────┴───────────┴───────────┴───────────┴───┴─────────┴───────────┴───────────┴───────────┘"
      ]
     },
     "execution_count": 64,
     "metadata": {},
     "output_type": "execute_result"
    }
   ],
   "source": [
    "get_similar_cards_filtered(\"Lightning Helix\", mana=\"B\")"
   ]
  },
  {
   "cell_type": "code",
   "execution_count": 65,
   "metadata": {},
   "outputs": [
    {
     "name": "stdout",
     "output_type": "stream",
     "text": [
      "[0.749371   0.7492501  0.7466406  0.7445707  0.74126273 0.7390696\n",
      " 0.73856413 0.732928   0.73199743 0.7316571  0.73123586]\n"
     ]
    },
    {
     "data": {
      "text/html": [
       "<div><style>\n",
       ".dataframe > thead > tr,\n",
       ".dataframe > tbody > tr {\n",
       "  text-align: right;\n",
       "  white-space: pre-wrap;\n",
       "}\n",
       "</style>\n",
       "<small>shape: (11, 10)</small><table border=\"1\" class=\"dataframe\"><thead><tr><th>name</th><th>manaCost</th><th>type</th><th>text</th><th>power</th><th>toughness</th><th>loyalty</th><th>rarities</th><th>sets</th><th>embeds</th></tr><tr><td>str</td><td>str</td><td>str</td><td>str</td><td>str</td><td>str</td><td>str</td><td>list[enum]</td><td>list[enum]</td><td>array[f32, 768]</td></tr></thead><tbody><tr><td>&quot;Shizo, Death&#x27;s Storehouse&quot;</td><td>null</td><td>&quot;Legendary Land&quot;</td><td>&quot;{T}: Add {B}.\\n{B}, {T}: Targe…</td><td>null</td><td>null</td><td>null</td><td>[&quot;rare&quot;]</td><td>[&quot;CHK&quot;, &quot;PLST&quot;, &quot;DMC&quot;]</td><td>[-0.031308, -0.009883, … 0.017973]</td></tr><tr><td>&quot;Shivan Reef&quot;</td><td>null</td><td>&quot;Land&quot;</td><td>&quot;{T}: Add {C}.\\n{T}: Add {U} or…</td><td>null</td><td>null</td><td>null</td><td>[&quot;rare&quot;]</td><td>[&quot;APC&quot;, &quot;WC01&quot;, … &quot;DRC&quot;]</td><td>[-0.00364, -0.020402, … -0.012417]</td></tr><tr><td>&quot;Caves of Koilos&quot;</td><td>null</td><td>&quot;Land&quot;</td><td>&quot;{T}: Add {C}.\\n{T}: Add {W} or…</td><td>null</td><td>null</td><td>null</td><td>[&quot;rare&quot;]</td><td>[&quot;APC&quot;, &quot;PRM&quot;, … &quot;DRC&quot;]</td><td>[-0.022214, -0.016559, … 0.013854]</td></tr><tr><td>&quot;Fiery Islet&quot;</td><td>null</td><td>&quot;Land&quot;</td><td>&quot;{T}, Pay 1 life: Add {U} or {R…</td><td>null</td><td>null</td><td>null</td><td>[&quot;rare&quot;]</td><td>[&quot;MH1&quot;, &quot;HA7&quot;, … &quot;ACR&quot;]</td><td>[0.006971, -0.008117, … 0.000323]</td></tr><tr><td>&quot;Barbarian Ring&quot;</td><td>null</td><td>&quot;Land&quot;</td><td>&quot;{T}: Add {R}. ~ deals 1 damage…</td><td>null</td><td>null</td><td>null</td><td>[&quot;uncommon&quot;]</td><td>[&quot;ODY&quot;, &quot;PD2&quot;, … &quot;MH3&quot;]</td><td>[-0.014677, 0.010883, … -0.013449]</td></tr><tr><td>&hellip;</td><td>&hellip;</td><td>&hellip;</td><td>&hellip;</td><td>&hellip;</td><td>&hellip;</td><td>&hellip;</td><td>&hellip;</td><td>&hellip;</td><td>&hellip;</td></tr><tr><td>&quot;Watery Grave&quot;</td><td>null</td><td>&quot;Land — Island Swamp&quot;</td><td>&quot;({T}: Add {U} or {B}.)\\nAs ~ e…</td><td>null</td><td>null</td><td>null</td><td>[&quot;rare&quot;, &quot;mythic&quot;]</td><td>[&quot;PRM&quot;, &quot;RAV&quot;, … &quot;CLU&quot;]</td><td>[-0.004426, 0.008291, … -0.009146]</td></tr><tr><td>&quot;Maze of Ith&quot;</td><td>null</td><td>&quot;Land&quot;</td><td>&quot;{T}: Untap target attacking cr…</td><td>null</td><td>null</td><td>null</td><td>[&quot;uncommon&quot;, &quot;rare&quot;, &quot;mythic&quot;]</td><td>[&quot;DRK&quot;, &quot;PRM&quot;, … &quot;DMR&quot;]</td><td>[-0.003143, -0.016673, … 0.034564]</td></tr><tr><td>&quot;Blood Crypt&quot;</td><td>null</td><td>&quot;Land — Swamp Mountain&quot;</td><td>&quot;({T}: Add {B} or {R}.)\\nAs ~ e…</td><td>null</td><td>null</td><td>null</td><td>[&quot;rare&quot;, &quot;mythic&quot;]</td><td>[&quot;PRM&quot;, &quot;DIS&quot;, … &quot;CLU&quot;]</td><td>[-0.024402, -0.001678, … -0.021981]</td></tr><tr><td>&quot;Tomb of the Spirit Dragon&quot;</td><td>null</td><td>&quot;Land&quot;</td><td>&quot;{T}: Add {C}.\\n{2}, {T}: You g…</td><td>null</td><td>null</td><td>null</td><td>[&quot;uncommon&quot;]</td><td>[&quot;KTK&quot;, &quot;CMM&quot;, &quot;M3C&quot;]</td><td>[0.001703, -0.022239, … -0.002338]</td></tr><tr><td>&quot;Forgotten Cave&quot;</td><td>null</td><td>&quot;Land&quot;</td><td>&quot;~ enters tapped.\\n{T}: Add {R}…</td><td>null</td><td>null</td><td>null</td><td>[&quot;common&quot;, &quot;uncommon&quot;]</td><td>[&quot;ONS&quot;, &quot;DD1&quot;, … &quot;J25&quot;]</td><td>[0.015449, -0.013401, … -0.010502]</td></tr></tbody></table></div>"
      ],
      "text/plain": [
       "shape: (11, 10)\n",
       "┌────────────┬──────────┬────────────┬───────────┬───┬─────────┬───────────┬───────────┬───────────┐\n",
       "│ name       ┆ manaCost ┆ type       ┆ text      ┆ … ┆ loyalty ┆ rarities  ┆ sets      ┆ embeds    │\n",
       "│ ---        ┆ ---      ┆ ---        ┆ ---       ┆   ┆ ---     ┆ ---       ┆ ---       ┆ ---       │\n",
       "│ str        ┆ str      ┆ str        ┆ str       ┆   ┆ str     ┆ list[enum ┆ list[enum ┆ array[f32 │\n",
       "│            ┆          ┆            ┆           ┆   ┆         ┆ ]         ┆ ]         ┆ , 768]    │\n",
       "╞════════════╪══════════╪════════════╪═══════════╪═══╪═════════╪═══════════╪═══════════╪═══════════╡\n",
       "│ Shizo,     ┆ null     ┆ Legendary  ┆ {T}: Add  ┆ … ┆ null    ┆ [\"rare\"]  ┆ [\"CHK\",   ┆ [-0.03130 │\n",
       "│ Death's    ┆          ┆ Land       ┆ {B}.\\n{B} ┆   ┆         ┆           ┆ \"PLST\",   ┆ 8, -0.009 │\n",
       "│ Storehouse ┆          ┆            ┆ , {T}:    ┆   ┆         ┆           ┆ \"DMC\"]    ┆ 883, …    │\n",
       "│            ┆          ┆            ┆ Targe…    ┆   ┆         ┆           ┆           ┆ 0.017…    │\n",
       "│ Shivan     ┆ null     ┆ Land       ┆ {T}: Add  ┆ … ┆ null    ┆ [\"rare\"]  ┆ [\"APC\",   ┆ [-0.00364 │\n",
       "│ Reef       ┆          ┆            ┆ {C}.\\n{T} ┆   ┆         ┆           ┆ \"WC01\", … ┆ , -0.0204 │\n",
       "│            ┆          ┆            ┆ : Add {U} ┆   ┆         ┆           ┆ \"DRC\"]    ┆ 02, …     │\n",
       "│            ┆          ┆            ┆ or…       ┆   ┆         ┆           ┆           ┆ -0.012…   │\n",
       "│ Caves of   ┆ null     ┆ Land       ┆ {T}: Add  ┆ … ┆ null    ┆ [\"rare\"]  ┆ [\"APC\",   ┆ [-0.02221 │\n",
       "│ Koilos     ┆          ┆            ┆ {C}.\\n{T} ┆   ┆         ┆           ┆ \"PRM\", …  ┆ 4, -0.016 │\n",
       "│            ┆          ┆            ┆ : Add {W} ┆   ┆         ┆           ┆ \"DRC\"]    ┆ 559, …    │\n",
       "│            ┆          ┆            ┆ or…       ┆   ┆         ┆           ┆           ┆ 0.013…    │\n",
       "│ Fiery      ┆ null     ┆ Land       ┆ {T}, Pay  ┆ … ┆ null    ┆ [\"rare\"]  ┆ [\"MH1\",   ┆ [0.006971 │\n",
       "│ Islet      ┆          ┆            ┆ 1 life:   ┆   ┆         ┆           ┆ \"HA7\", …  ┆ , -0.0081 │\n",
       "│            ┆          ┆            ┆ Add {U}   ┆   ┆         ┆           ┆ \"ACR\"]    ┆ 17, …     │\n",
       "│            ┆          ┆            ┆ or {R…    ┆   ┆         ┆           ┆           ┆ 0.0003…   │\n",
       "│ Barbarian  ┆ null     ┆ Land       ┆ {T}: Add  ┆ … ┆ null    ┆ [\"uncommo ┆ [\"ODY\",   ┆ [-0.01467 │\n",
       "│ Ring       ┆          ┆            ┆ {R}. ~    ┆   ┆         ┆ n\"]       ┆ \"PD2\", …  ┆ 7,        │\n",
       "│            ┆          ┆            ┆ deals 1   ┆   ┆         ┆           ┆ \"MH3\"]    ┆ 0.010883, │\n",
       "│            ┆          ┆            ┆ damage…   ┆   ┆         ┆           ┆           ┆ … -0.013… │\n",
       "│ …          ┆ …        ┆ …          ┆ …         ┆ … ┆ …       ┆ …         ┆ …         ┆ …         │\n",
       "│ Watery     ┆ null     ┆ Land —     ┆ ({T}: Add ┆ … ┆ null    ┆ [\"rare\",  ┆ [\"PRM\",   ┆ [-0.00442 │\n",
       "│ Grave      ┆          ┆ Island     ┆ {U} or    ┆   ┆         ┆ \"mythic\"] ┆ \"RAV\", …  ┆ 6,        │\n",
       "│            ┆          ┆ Swamp      ┆ {B}.)\\nAs ┆   ┆         ┆           ┆ \"CLU\"]    ┆ 0.008291, │\n",
       "│            ┆          ┆            ┆ ~ e…      ┆   ┆         ┆           ┆           ┆ … -0.009… │\n",
       "│ Maze of    ┆ null     ┆ Land       ┆ {T}:      ┆ … ┆ null    ┆ [\"uncommo ┆ [\"DRK\",   ┆ [-0.00314 │\n",
       "│ Ith        ┆          ┆            ┆ Untap     ┆   ┆         ┆ n\",       ┆ \"PRM\", …  ┆ 3, -0.016 │\n",
       "│            ┆          ┆            ┆ target    ┆   ┆         ┆ \"rare\",   ┆ \"DMR\"]    ┆ 673, …    │\n",
       "│            ┆          ┆            ┆ attacking ┆   ┆         ┆ \"mythic\"] ┆           ┆ 0.034…    │\n",
       "│            ┆          ┆            ┆ cr…       ┆   ┆         ┆           ┆           ┆           │\n",
       "│ Blood      ┆ null     ┆ Land —     ┆ ({T}: Add ┆ … ┆ null    ┆ [\"rare\",  ┆ [\"PRM\",   ┆ [-0.02440 │\n",
       "│ Crypt      ┆          ┆ Swamp      ┆ {B} or    ┆   ┆         ┆ \"mythic\"] ┆ \"DIS\", …  ┆ 2, -0.001 │\n",
       "│            ┆          ┆ Mountain   ┆ {R}.)\\nAs ┆   ┆         ┆           ┆ \"CLU\"]    ┆ 678, …    │\n",
       "│            ┆          ┆            ┆ ~ e…      ┆   ┆         ┆           ┆           ┆ -0.02…    │\n",
       "│ Tomb of    ┆ null     ┆ Land       ┆ {T}: Add  ┆ … ┆ null    ┆ [\"uncommo ┆ [\"KTK\",   ┆ [0.001703 │\n",
       "│ the Spirit ┆          ┆            ┆ {C}.\\n{2} ┆   ┆         ┆ n\"]       ┆ \"CMM\",    ┆ , -0.0222 │\n",
       "│ Dragon     ┆          ┆            ┆ , {T}:    ┆   ┆         ┆           ┆ \"M3C\"]    ┆ 39, …     │\n",
       "│            ┆          ┆            ┆ You g…    ┆   ┆         ┆           ┆           ┆ -0.002…   │\n",
       "│ Forgotten  ┆ null     ┆ Land       ┆ ~ enters  ┆ … ┆ null    ┆ [\"common\" ┆ [\"ONS\",   ┆ [0.015449 │\n",
       "│ Cave       ┆          ┆            ┆ tapped.\\n ┆   ┆         ┆ , \"uncomm ┆ \"DD1\", …  ┆ , -0.0134 │\n",
       "│            ┆          ┆            ┆ {T}: Add  ┆   ┆         ┆ on\"]      ┆ \"J25\"]    ┆ 01, …     │\n",
       "│            ┆          ┆            ┆ {R}…      ┆   ┆         ┆           ┆           ┆ -0.010…   │\n",
       "└────────────┴──────────┴────────────┴───────────┴───┴─────────┴───────────┴───────────┴───────────┘"
      ]
     },
     "execution_count": 65,
     "metadata": {},
     "output_type": "execute_result"
    }
   ],
   "source": [
    "get_similar_cards_filtered(\"Lightning Helix\", card_type=\"Land\")"
   ]
  },
  {
   "cell_type": "code",
   "execution_count": 66,
   "metadata": {},
   "outputs": [
    {
     "name": "stdout",
     "output_type": "stream",
     "text": [
      "[0.77319425 0.76424366 0.7594855  0.7561756  0.7558307  0.75517964\n",
      " 0.75463617 0.75288755 0.75095165 0.7487003  0.7473638 ]\n"
     ]
    },
    {
     "data": {
      "text/html": [
       "<div><style>\n",
       ".dataframe > thead > tr,\n",
       ".dataframe > tbody > tr {\n",
       "  text-align: right;\n",
       "  white-space: pre-wrap;\n",
       "}\n",
       "</style>\n",
       "<small>shape: (11, 10)</small><table border=\"1\" class=\"dataframe\"><thead><tr><th>name</th><th>manaCost</th><th>type</th><th>text</th><th>power</th><th>toughness</th><th>loyalty</th><th>rarities</th><th>sets</th><th>embeds</th></tr><tr><td>str</td><td>str</td><td>str</td><td>str</td><td>str</td><td>str</td><td>str</td><td>list[enum]</td><td>list[enum]</td><td>array[f32, 768]</td></tr></thead><tbody><tr><td>&quot;Brute Force&quot;</td><td>&quot;{R}&quot;</td><td>&quot;Instant&quot;</td><td>&quot;Target creature gets +3/+3 unt…</td><td>null</td><td>null</td><td>null</td><td>[&quot;common&quot;]</td><td>[&quot;PLC&quot;, &quot;MMA&quot;, … &quot;TSR&quot;]</td><td>[-0.010186, -0.020914, … 0.01633]</td></tr><tr><td>&quot;Impending Doom&quot;</td><td>&quot;{2}{R}&quot;</td><td>&quot;Enchantment — Aura&quot;</td><td>&quot;Enchant creature\\nEnchanted cr…</td><td>null</td><td>null</td><td>null</td><td>[&quot;uncommon&quot;]</td><td>[&quot;THB&quot;, &quot;J22&quot;]</td><td>[-0.005422, 0.009509, … 0.012314]</td></tr><tr><td>&quot;Gift of Strength&quot;</td><td>&quot;{1}{G}&quot;</td><td>&quot;Instant&quot;</td><td>&quot;Target creature gets +3/+3 and…</td><td>null</td><td>null</td><td>null</td><td>[&quot;common&quot;]</td><td>[&quot;HOU&quot;, &quot;RNA&quot;, … &quot;CLU&quot;]</td><td>[0.030787, -0.018986, … 0.029667]</td></tr><tr><td>&quot;Gift of Strands&quot;</td><td>&quot;{3}{G}&quot;</td><td>&quot;Enchantment — Aura&quot;</td><td>&quot;Flash\\nEnchant creature\\nWhen …</td><td>null</td><td>null</td><td>null</td><td>[&quot;uncommon&quot;]</td><td>[&quot;LTR&quot;]</td><td>[0.060029, -0.016382, … 0.026604]</td></tr><tr><td>&quot;Darigaaz&#x27;s Charm&quot;</td><td>&quot;{B}{R}{G}&quot;</td><td>&quot;Instant&quot;</td><td>&quot;Choose one —\\n• Return target …</td><td>null</td><td>null</td><td>null</td><td>[&quot;uncommon&quot;]</td><td>[&quot;PLS&quot;, &quot;PSAL&quot;, &quot;DDE&quot;]</td><td>[-0.00783, -0.020194, … -0.004287]</td></tr><tr><td>&hellip;</td><td>&hellip;</td><td>&hellip;</td><td>&hellip;</td><td>&hellip;</td><td>&hellip;</td><td>&hellip;</td><td>&hellip;</td><td>&hellip;</td><td>&hellip;</td></tr><tr><td>&quot;Immolation Shaman&quot;</td><td>&quot;{1}{R}&quot;</td><td>&quot;Creature — Lizard Shaman&quot;</td><td>&quot;Whenever an opponent activates…</td><td>&quot;1&quot;</td><td>&quot;3&quot;</td><td>null</td><td>[&quot;rare&quot;]</td><td>[&quot;PRNA&quot;, &quot;RNA&quot;]</td><td>[-0.01722, 0.010353, … 0.035466]</td></tr><tr><td>&quot;Simic Charm&quot;</td><td>&quot;{G}{U}&quot;</td><td>&quot;Instant&quot;</td><td>&quot;Choose one —\\n• Target creatur…</td><td>null</td><td>null</td><td>null</td><td>[&quot;uncommon&quot;]</td><td>[&quot;GTC&quot;, &quot;CMR&quot;, &quot;EA3&quot;]</td><td>[0.004205, -0.005333, … 0.023342]</td></tr><tr><td>&quot;Cylian Sunsinger&quot;</td><td>&quot;{1}{G}&quot;</td><td>&quot;Creature — Elf Shaman&quot;</td><td>&quot;{R}{G}{W}: ~ and each other cr…</td><td>&quot;2&quot;</td><td>&quot;2&quot;</td><td>null</td><td>[&quot;rare&quot;]</td><td>[&quot;CON&quot;]</td><td>[-0.019531, 0.000746, … 0.045001]</td></tr><tr><td>&quot;Bounty of Might&quot;</td><td>&quot;{4}{G}{G}&quot;</td><td>&quot;Instant&quot;</td><td>&quot;Target creature gets +3/+3 unt…</td><td>null</td><td>null</td><td>null</td><td>[&quot;rare&quot;]</td><td>[&quot;PGRN&quot;, &quot;GRN&quot;]</td><td>[-0.025394, 0.00943, … -0.001606]</td></tr><tr><td>&quot;Leaden Fists&quot;</td><td>&quot;{2}{U}&quot;</td><td>&quot;Enchantment — Aura&quot;</td><td>&quot;Flash (You may cast this spell…</td><td>null</td><td>null</td><td>null</td><td>[&quot;common&quot;]</td><td>[&quot;FUT&quot;, &quot;DMR&quot;]</td><td>[0.025463, 0.003038, … 0.021896]</td></tr></tbody></table></div>"
      ],
      "text/plain": [
       "shape: (11, 10)\n",
       "┌────────────┬───────────┬───────────┬───────────┬───┬─────────┬───────────┬───────────┬───────────┐\n",
       "│ name       ┆ manaCost  ┆ type      ┆ text      ┆ … ┆ loyalty ┆ rarities  ┆ sets      ┆ embeds    │\n",
       "│ ---        ┆ ---       ┆ ---       ┆ ---       ┆   ┆ ---     ┆ ---       ┆ ---       ┆ ---       │\n",
       "│ str        ┆ str       ┆ str       ┆ str       ┆   ┆ str     ┆ list[enum ┆ list[enum ┆ array[f32 │\n",
       "│            ┆           ┆           ┆           ┆   ┆         ┆ ]         ┆ ]         ┆ , 768]    │\n",
       "╞════════════╪═══════════╪═══════════╪═══════════╪═══╪═════════╪═══════════╪═══════════╪═══════════╡\n",
       "│ Brute      ┆ {R}       ┆ Instant   ┆ Target    ┆ … ┆ null    ┆ [\"common\" ┆ [\"PLC\",   ┆ [-0.01018 │\n",
       "│ Force      ┆           ┆           ┆ creature  ┆   ┆         ┆ ]         ┆ \"MMA\", …  ┆ 6, -0.020 │\n",
       "│            ┆           ┆           ┆ gets      ┆   ┆         ┆           ┆ \"TSR\"]    ┆ 914, …    │\n",
       "│            ┆           ┆           ┆ +3/+3     ┆   ┆         ┆           ┆           ┆ 0.016…    │\n",
       "│            ┆           ┆           ┆ unt…      ┆   ┆         ┆           ┆           ┆           │\n",
       "│ Impending  ┆ {2}{R}    ┆ Enchantme ┆ Enchant   ┆ … ┆ null    ┆ [\"uncommo ┆ [\"THB\",   ┆ [-0.00542 │\n",
       "│ Doom       ┆           ┆ nt — Aura ┆ creature\\ ┆   ┆         ┆ n\"]       ┆ \"J22\"]    ┆ 2,        │\n",
       "│            ┆           ┆           ┆ nEnchante ┆   ┆         ┆           ┆           ┆ 0.009509, │\n",
       "│            ┆           ┆           ┆ d cr…     ┆   ┆         ┆           ┆           ┆ … 0.0123… │\n",
       "│ Gift of    ┆ {1}{G}    ┆ Instant   ┆ Target    ┆ … ┆ null    ┆ [\"common\" ┆ [\"HOU\",   ┆ [0.030787 │\n",
       "│ Strength   ┆           ┆           ┆ creature  ┆   ┆         ┆ ]         ┆ \"RNA\", …  ┆ , -0.0189 │\n",
       "│            ┆           ┆           ┆ gets      ┆   ┆         ┆           ┆ \"CLU\"]    ┆ 86, …     │\n",
       "│            ┆           ┆           ┆ +3/+3     ┆   ┆         ┆           ┆           ┆ 0.0296…   │\n",
       "│            ┆           ┆           ┆ and…      ┆   ┆         ┆           ┆           ┆           │\n",
       "│ Gift of    ┆ {3}{G}    ┆ Enchantme ┆ Flash\\nEn ┆ … ┆ null    ┆ [\"uncommo ┆ [\"LTR\"]   ┆ [0.060029 │\n",
       "│ Strands    ┆           ┆ nt — Aura ┆ chant cre ┆   ┆         ┆ n\"]       ┆           ┆ , -0.0163 │\n",
       "│            ┆           ┆           ┆ ature\\nWh ┆   ┆         ┆           ┆           ┆ 82, …     │\n",
       "│            ┆           ┆           ┆ en …      ┆   ┆         ┆           ┆           ┆ 0.0266…   │\n",
       "│ Darigaaz's ┆ {B}{R}{G} ┆ Instant   ┆ Choose    ┆ … ┆ null    ┆ [\"uncommo ┆ [\"PLS\",   ┆ [-0.00783 │\n",
       "│ Charm      ┆           ┆           ┆ one —\\n•  ┆   ┆         ┆ n\"]       ┆ \"PSAL\",   ┆ , -0.0201 │\n",
       "│            ┆           ┆           ┆ Return    ┆   ┆         ┆           ┆ \"DDE\"]    ┆ 94, …     │\n",
       "│            ┆           ┆           ┆ target …  ┆   ┆         ┆           ┆           ┆ -0.004…   │\n",
       "│ …          ┆ …         ┆ …         ┆ …         ┆ … ┆ …       ┆ …         ┆ …         ┆ …         │\n",
       "│ Immolation ┆ {1}{R}    ┆ Creature  ┆ Whenever  ┆ … ┆ null    ┆ [\"rare\"]  ┆ [\"PRNA\",  ┆ [-0.01722 │\n",
       "│ Shaman     ┆           ┆ — Lizard  ┆ an        ┆   ┆         ┆           ┆ \"RNA\"]    ┆ ,         │\n",
       "│            ┆           ┆ Shaman    ┆ opponent  ┆   ┆         ┆           ┆           ┆ 0.010353, │\n",
       "│            ┆           ┆           ┆ activates ┆   ┆         ┆           ┆           ┆ …         │\n",
       "│            ┆           ┆           ┆ …         ┆   ┆         ┆           ┆           ┆ 0.03546…  │\n",
       "│ Simic      ┆ {G}{U}    ┆ Instant   ┆ Choose    ┆ … ┆ null    ┆ [\"uncommo ┆ [\"GTC\",   ┆ [0.004205 │\n",
       "│ Charm      ┆           ┆           ┆ one —\\n•  ┆   ┆         ┆ n\"]       ┆ \"CMR\",    ┆ , -0.0053 │\n",
       "│            ┆           ┆           ┆ Target    ┆   ┆         ┆           ┆ \"EA3\"]    ┆ 33, …     │\n",
       "│            ┆           ┆           ┆ creatur…  ┆   ┆         ┆           ┆           ┆ 0.0233…   │\n",
       "│ Cylian     ┆ {1}{G}    ┆ Creature  ┆ {R}{G}{W} ┆ … ┆ null    ┆ [\"rare\"]  ┆ [\"CON\"]   ┆ [-0.01953 │\n",
       "│ Sunsinger  ┆           ┆ — Elf     ┆ : ~ and   ┆   ┆         ┆           ┆           ┆ 1,        │\n",
       "│            ┆           ┆ Shaman    ┆ each      ┆   ┆         ┆           ┆           ┆ 0.000746, │\n",
       "│            ┆           ┆           ┆ other cr… ┆   ┆         ┆           ┆           ┆ … 0.0450… │\n",
       "│ Bounty of  ┆ {4}{G}{G} ┆ Instant   ┆ Target    ┆ … ┆ null    ┆ [\"rare\"]  ┆ [\"PGRN\",  ┆ [-0.02539 │\n",
       "│ Might      ┆           ┆           ┆ creature  ┆   ┆         ┆           ┆ \"GRN\"]    ┆ 4,        │\n",
       "│            ┆           ┆           ┆ gets      ┆   ┆         ┆           ┆           ┆ 0.00943,  │\n",
       "│            ┆           ┆           ┆ +3/+3     ┆   ┆         ┆           ┆           ┆ …         │\n",
       "│            ┆           ┆           ┆ unt…      ┆   ┆         ┆           ┆           ┆ -0.0016…  │\n",
       "│ Leaden     ┆ {2}{U}    ┆ Enchantme ┆ Flash     ┆ … ┆ null    ┆ [\"common\" ┆ [\"FUT\",   ┆ [0.025463 │\n",
       "│ Fists      ┆           ┆ nt — Aura ┆ (You may  ┆   ┆         ┆ ]         ┆ \"DMR\"]    ┆ ,         │\n",
       "│            ┆           ┆           ┆ cast this ┆   ┆         ┆           ┆           ┆ 0.003038, │\n",
       "│            ┆           ┆           ┆ spell…    ┆   ┆         ┆           ┆           ┆ …         │\n",
       "│            ┆           ┆           ┆           ┆   ┆         ┆           ┆           ┆ 0.02189…  │\n",
       "└────────────┴───────────┴───────────┴───────────┴───┴─────────┴───────────┴───────────┴───────────┘"
      ]
     },
     "execution_count": 66,
     "metadata": {},
     "output_type": "execute_result"
    }
   ],
   "source": [
    "get_similar_cards_filtered(\"Lightning Helix\", text_partial=\"+3/+3\")"
   ]
  },
  {
   "cell_type": "code",
   "execution_count": 69,
   "metadata": {},
   "outputs": [
    {
     "name": "stdout",
     "output_type": "stream",
     "text": [
      "[0.785081   0.77387047 0.7685689  0.7637581  0.7580379  0.7561756\n",
      " 0.75611585 0.75182295 0.75121355 0.7511221  0.7502168 ]\n"
     ]
    },
    {
     "data": {
      "text/html": [
       "<div><style>\n",
       ".dataframe > thead > tr,\n",
       ".dataframe > tbody > tr {\n",
       "  text-align: right;\n",
       "  white-space: pre-wrap;\n",
       "}\n",
       "</style>\n",
       "<small>shape: (11, 10)</small><table border=\"1\" class=\"dataframe\"><thead><tr><th>name</th><th>manaCost</th><th>type</th><th>text</th><th>power</th><th>toughness</th><th>loyalty</th><th>rarities</th><th>sets</th><th>embeds</th></tr><tr><td>str</td><td>str</td><td>str</td><td>str</td><td>str</td><td>str</td><td>str</td><td>list[enum]</td><td>list[enum]</td><td>array[f32, 768]</td></tr></thead><tbody><tr><td>&quot;Smite the Deathless&quot;</td><td>&quot;{1}{R}&quot;</td><td>&quot;Instant&quot;</td><td>&quot;~ deals 3 damage to target cre…</td><td>null</td><td>null</td><td>null</td><td>[&quot;common&quot;]</td><td>[&quot;LTR&quot;]</td><td>[-0.052479, -0.015551, … 0.024924]</td></tr><tr><td>&quot;Dreadful as the Storm&quot;</td><td>&quot;{2}{U}&quot;</td><td>&quot;Instant&quot;</td><td>&quot;Target creature has base power…</td><td>null</td><td>null</td><td>null</td><td>[&quot;common&quot;]</td><td>[&quot;LTR&quot;]</td><td>[-0.010108, 0.02839, … 0.027234]</td></tr><tr><td>&quot;Shower of Arrows&quot;</td><td>&quot;{2}{G}&quot;</td><td>&quot;Instant&quot;</td><td>&quot;Destroy target artifact, encha…</td><td>null</td><td>null</td><td>null</td><td>[&quot;common&quot;]</td><td>[&quot;LTR&quot;]</td><td>[-0.021097, 0.034291, … 0.053874]</td></tr><tr><td>&quot;Slip On the Ring&quot;</td><td>&quot;{1}{W}&quot;</td><td>&quot;Instant&quot;</td><td>&quot;Exile target creature you own,…</td><td>null</td><td>null</td><td>null</td><td>[&quot;common&quot;, &quot;rare&quot;]</td><td>[&quot;SLD&quot;, &quot;LTR&quot;]</td><td>[-0.00211, -0.005932, … 0.014977]</td></tr><tr><td>&quot;Hobbit&#x27;s Sting&quot;</td><td>&quot;{1}{W}&quot;</td><td>&quot;Instant&quot;</td><td>&quot;~ deals X damage to target cre…</td><td>null</td><td>null</td><td>null</td><td>[&quot;common&quot;]</td><td>[&quot;LTR&quot;]</td><td>[-0.030572, -0.024745, … 0.025064]</td></tr><tr><td>&hellip;</td><td>&hellip;</td><td>&hellip;</td><td>&hellip;</td><td>&hellip;</td><td>&hellip;</td><td>&hellip;</td><td>&hellip;</td><td>&hellip;</td><td>&hellip;</td></tr><tr><td>&quot;Friendly Rivalry&quot;</td><td>&quot;{R}{G}&quot;</td><td>&quot;Instant&quot;</td><td>&quot;Target creature you control an…</td><td>null</td><td>null</td><td>null</td><td>[&quot;uncommon&quot;]</td><td>[&quot;LTR&quot;]</td><td>[-0.036317, 0.031148, … 0.008425]</td></tr><tr><td>&quot;Gollum&#x27;s Bite&quot;</td><td>&quot;{B}&quot;</td><td>&quot;Instant&quot;</td><td>&quot;Target creature gets -2/-2 unt…</td><td>null</td><td>null</td><td>null</td><td>[&quot;uncommon&quot;]</td><td>[&quot;LTR&quot;]</td><td>[-0.006323, -0.015826, … 0.006622]</td></tr><tr><td>&quot;Ranger&#x27;s Firebrand&quot;</td><td>&quot;{R}&quot;</td><td>&quot;Sorcery&quot;</td><td>&quot;~ deals 2 damage to any target…</td><td>null</td><td>null</td><td>null</td><td>[&quot;uncommon&quot;]</td><td>[&quot;LTR&quot;]</td><td>[0.017652, 0.053055, … 0.025989]</td></tr><tr><td>&quot;Witch-king of Angmar&quot;</td><td>&quot;{3}{B}{B}&quot;</td><td>&quot;Legendary Creature — Wraith No…</td><td>&quot;Flying\\nWhenever one or more c…</td><td>&quot;5&quot;</td><td>&quot;3&quot;</td><td>null</td><td>[&quot;mythic&quot;]</td><td>[&quot;PLTR&quot;, &quot;LTR&quot;]</td><td>[-0.006318, 0.02633, … 0.04249]</td></tr><tr><td>&quot;Bitter Downfall&quot;</td><td>&quot;{3}{B}&quot;</td><td>&quot;Instant&quot;</td><td>&quot;This spell costs {3} less to c…</td><td>null</td><td>null</td><td>null</td><td>[&quot;uncommon&quot;]</td><td>[&quot;LTR&quot;]</td><td>[-0.025752, 0.01101, … 0.009001]</td></tr></tbody></table></div>"
      ],
      "text/plain": [
       "shape: (11, 10)\n",
       "┌────────────┬───────────┬───────────┬───────────┬───┬─────────┬───────────┬───────────┬───────────┐\n",
       "│ name       ┆ manaCost  ┆ type      ┆ text      ┆ … ┆ loyalty ┆ rarities  ┆ sets      ┆ embeds    │\n",
       "│ ---        ┆ ---       ┆ ---       ┆ ---       ┆   ┆ ---     ┆ ---       ┆ ---       ┆ ---       │\n",
       "│ str        ┆ str       ┆ str       ┆ str       ┆   ┆ str     ┆ list[enum ┆ list[enum ┆ array[f32 │\n",
       "│            ┆           ┆           ┆           ┆   ┆         ┆ ]         ┆ ]         ┆ , 768]    │\n",
       "╞════════════╪═══════════╪═══════════╪═══════════╪═══╪═════════╪═══════════╪═══════════╪═══════════╡\n",
       "│ Smite the  ┆ {1}{R}    ┆ Instant   ┆ ~ deals 3 ┆ … ┆ null    ┆ [\"common\" ┆ [\"LTR\"]   ┆ [-0.05247 │\n",
       "│ Deathless  ┆           ┆           ┆ damage to ┆   ┆         ┆ ]         ┆           ┆ 9, -0.015 │\n",
       "│            ┆           ┆           ┆ target    ┆   ┆         ┆           ┆           ┆ 551, …    │\n",
       "│            ┆           ┆           ┆ cre…      ┆   ┆         ┆           ┆           ┆ 0.024…    │\n",
       "│ Dreadful   ┆ {2}{U}    ┆ Instant   ┆ Target    ┆ … ┆ null    ┆ [\"common\" ┆ [\"LTR\"]   ┆ [-0.01010 │\n",
       "│ as the     ┆           ┆           ┆ creature  ┆   ┆         ┆ ]         ┆           ┆ 8,        │\n",
       "│ Storm      ┆           ┆           ┆ has base  ┆   ┆         ┆           ┆           ┆ 0.02839,  │\n",
       "│            ┆           ┆           ┆ power…    ┆   ┆         ┆           ┆           ┆ …         │\n",
       "│            ┆           ┆           ┆           ┆   ┆         ┆           ┆           ┆ 0.02723…  │\n",
       "│ Shower of  ┆ {2}{G}    ┆ Instant   ┆ Destroy   ┆ … ┆ null    ┆ [\"common\" ┆ [\"LTR\"]   ┆ [-0.02109 │\n",
       "│ Arrows     ┆           ┆           ┆ target    ┆   ┆         ┆ ]         ┆           ┆ 7,        │\n",
       "│            ┆           ┆           ┆ artifact, ┆   ┆         ┆           ┆           ┆ 0.034291, │\n",
       "│            ┆           ┆           ┆ encha…    ┆   ┆         ┆           ┆           ┆ … 0.0538… │\n",
       "│ Slip On    ┆ {1}{W}    ┆ Instant   ┆ Exile     ┆ … ┆ null    ┆ [\"common\" ┆ [\"SLD\",   ┆ [-0.00211 │\n",
       "│ the Ring   ┆           ┆           ┆ target    ┆   ┆         ┆ , \"rare\"] ┆ \"LTR\"]    ┆ , -0.0059 │\n",
       "│            ┆           ┆           ┆ creature  ┆   ┆         ┆           ┆           ┆ 32, …     │\n",
       "│            ┆           ┆           ┆ you own,… ┆   ┆         ┆           ┆           ┆ 0.0149…   │\n",
       "│ Hobbit's   ┆ {1}{W}    ┆ Instant   ┆ ~ deals X ┆ … ┆ null    ┆ [\"common\" ┆ [\"LTR\"]   ┆ [-0.03057 │\n",
       "│ Sting      ┆           ┆           ┆ damage to ┆   ┆         ┆ ]         ┆           ┆ 2, -0.024 │\n",
       "│            ┆           ┆           ┆ target    ┆   ┆         ┆           ┆           ┆ 745, …    │\n",
       "│            ┆           ┆           ┆ cre…      ┆   ┆         ┆           ┆           ┆ 0.025…    │\n",
       "│ …          ┆ …         ┆ …         ┆ …         ┆ … ┆ …       ┆ …         ┆ …         ┆ …         │\n",
       "│ Friendly   ┆ {R}{G}    ┆ Instant   ┆ Target    ┆ … ┆ null    ┆ [\"uncommo ┆ [\"LTR\"]   ┆ [-0.03631 │\n",
       "│ Rivalry    ┆           ┆           ┆ creature  ┆   ┆         ┆ n\"]       ┆           ┆ 7,        │\n",
       "│            ┆           ┆           ┆ you       ┆   ┆         ┆           ┆           ┆ 0.031148, │\n",
       "│            ┆           ┆           ┆ control   ┆   ┆         ┆           ┆           ┆ … 0.0084… │\n",
       "│            ┆           ┆           ┆ an…       ┆   ┆         ┆           ┆           ┆           │\n",
       "│ Gollum's   ┆ {B}       ┆ Instant   ┆ Target    ┆ … ┆ null    ┆ [\"uncommo ┆ [\"LTR\"]   ┆ [-0.00632 │\n",
       "│ Bite       ┆           ┆           ┆ creature  ┆   ┆         ┆ n\"]       ┆           ┆ 3, -0.015 │\n",
       "│            ┆           ┆           ┆ gets      ┆   ┆         ┆           ┆           ┆ 826, …    │\n",
       "│            ┆           ┆           ┆ -2/-2     ┆   ┆         ┆           ┆           ┆ 0.006…    │\n",
       "│            ┆           ┆           ┆ unt…      ┆   ┆         ┆           ┆           ┆           │\n",
       "│ Ranger's   ┆ {R}       ┆ Sorcery   ┆ ~ deals 2 ┆ … ┆ null    ┆ [\"uncommo ┆ [\"LTR\"]   ┆ [0.017652 │\n",
       "│ Firebrand  ┆           ┆           ┆ damage to ┆   ┆         ┆ n\"]       ┆           ┆ ,         │\n",
       "│            ┆           ┆           ┆ any       ┆   ┆         ┆           ┆           ┆ 0.053055, │\n",
       "│            ┆           ┆           ┆ target…   ┆   ┆         ┆           ┆           ┆ …         │\n",
       "│            ┆           ┆           ┆           ┆   ┆         ┆           ┆           ┆ 0.02598…  │\n",
       "│ Witch-king ┆ {3}{B}{B} ┆ Legendary ┆ Flying\\nW ┆ … ┆ null    ┆ [\"mythic\" ┆ [\"PLTR\",  ┆ [-0.00631 │\n",
       "│ of Angmar  ┆           ┆ Creature  ┆ henever   ┆   ┆         ┆ ]         ┆ \"LTR\"]    ┆ 8,        │\n",
       "│            ┆           ┆ — Wraith  ┆ one or    ┆   ┆         ┆           ┆           ┆ 0.02633,  │\n",
       "│            ┆           ┆ No…       ┆ more c…   ┆   ┆         ┆           ┆           ┆ …         │\n",
       "│            ┆           ┆           ┆           ┆   ┆         ┆           ┆           ┆ 0.04249…  │\n",
       "│ Bitter     ┆ {3}{B}    ┆ Instant   ┆ This      ┆ … ┆ null    ┆ [\"uncommo ┆ [\"LTR\"]   ┆ [-0.02575 │\n",
       "│ Downfall   ┆           ┆           ┆ spell     ┆   ┆         ┆ n\"]       ┆           ┆ 2,        │\n",
       "│            ┆           ┆           ┆ costs {3} ┆   ┆         ┆           ┆           ┆ 0.01101,  │\n",
       "│            ┆           ┆           ┆ less to   ┆   ┆         ┆           ┆           ┆ …         │\n",
       "│            ┆           ┆           ┆ c…        ┆   ┆         ┆           ┆           ┆ 0.00900…  │\n",
       "└────────────┴───────────┴───────────┴───────────┴───┴─────────┴───────────┴───────────┴───────────┘"
      ]
     },
     "execution_count": 69,
     "metadata": {},
     "output_type": "execute_result"
    }
   ],
   "source": [
    "get_similar_cards_filtered(\"Lightning Helix\", set_card=\"LTR\")"
   ]
  },
  {
   "cell_type": "code",
   "execution_count": null,
   "metadata": {},
   "outputs": [],
   "source": []
  }
 ],
 "metadata": {
  "kernelspec": {
   "display_name": ".venv",
   "language": "python",
   "name": "python3"
  },
  "language_info": {
   "codemirror_mode": {
    "name": "ipython",
    "version": 3
   },
   "file_extension": ".py",
   "mimetype": "text/x-python",
   "name": "python",
   "nbconvert_exporter": "python",
   "pygments_lexer": "ipython3",
   "version": "3.13.1"
  }
 },
 "nbformat": 4,
 "nbformat_minor": 2
}
