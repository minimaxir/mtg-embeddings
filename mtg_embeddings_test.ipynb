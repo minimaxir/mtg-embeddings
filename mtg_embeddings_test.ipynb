{
 "cells": [
  {
   "cell_type": "code",
   "execution_count": 1,
   "metadata": {},
   "outputs": [],
   "source": [
    "import polars as pl\n",
    "import numpy as np"
   ]
  },
  {
   "cell_type": "code",
   "execution_count": 2,
   "metadata": {},
   "outputs": [
    {
     "data": {
      "text/html": [
       "<div><style>\n",
       ".dataframe > thead > tr,\n",
       ".dataframe > tbody > tr {\n",
       "  text-align: right;\n",
       "  white-space: pre-wrap;\n",
       "}\n",
       "</style>\n",
       "<small>shape: (31_650, 11)</small><table border=\"1\" class=\"dataframe\"><thead><tr><th>name</th><th>scryfallId</th><th>manaCost</th><th>type</th><th>text</th><th>power</th><th>toughness</th><th>loyalty</th><th>rarities</th><th>sets</th><th>embeds</th></tr><tr><td>str</td><td>str</td><td>str</td><td>str</td><td>str</td><td>str</td><td>str</td><td>str</td><td>list[enum]</td><td>list[enum]</td><td>array[f32, 768]</td></tr></thead><tbody><tr><td>&quot;&quot;Ach! Hans, Run!&quot;&quot;</td><td>&quot;84f2c8f5-8e11-4639-b7de-00e4a2…</td><td>&quot;{2}{R}{R}{G}{G}&quot;</td><td>&quot;Enchantment&quot;</td><td>&quot;At the beginning of your upkee…</td><td>null</td><td>null</td><td>null</td><td>[&quot;rare&quot;]</td><td>[&quot;UNH&quot;]</td><td>[0.021551, -0.036194, … -0.006151]</td></tr><tr><td>&quot;&quot;Brims&quot; Barone, Midway Mobster&quot;</td><td>&quot;68832214-2943-4253-8884-ffa490…</td><td>&quot;{3}{W}{B}&quot;</td><td>&quot;Legendary Creature — Human Rog…</td><td>&quot;When ~ enters, put a +1/+1 cou…</td><td>&quot;5&quot;</td><td>&quot;4&quot;</td><td>null</td><td>[&quot;uncommon&quot;]</td><td>[&quot;UNF&quot;]</td><td>[0.000329, 0.025074, … 0.005499]</td></tr><tr><td>&quot;&quot;Intimidation Tactics&quot;&quot;</td><td>&quot;9b4e6022-44d2-4dfe-8f7a-51581e…</td><td>&quot;{B}&quot;</td><td>&quot;Sorcery&quot;</td><td>&quot;Target opponent reveals their …</td><td>null</td><td>null</td><td>null</td><td>[&quot;uncommon&quot;]</td><td>[&quot;DFT&quot;]</td><td>[-0.030729, -0.004603, … 0.007073]</td></tr><tr><td>&quot;&quot;Lifetime&quot; Pass Holder&quot;</td><td>&quot;42293306-aaea-4542-8df4-813823…</td><td>&quot;{B}&quot;</td><td>&quot;Creature — Zombie Guest&quot;</td><td>&quot;~ enters tapped.\\nWhen ~ dies,…</td><td>&quot;2&quot;</td><td>&quot;1&quot;</td><td>null</td><td>[&quot;rare&quot;]</td><td>[&quot;UNF&quot;]</td><td>[0.001363, -0.003904, … 0.013427]</td></tr><tr><td>&quot;&quot;Name Sticker&quot; Goblin&quot;</td><td>&quot;fd1442b4-da59-4042-835f-143c8d…</td><td>&quot;{2}{R}&quot;</td><td>&quot;Creature — Goblin Guest&quot;</td><td>&quot;When this creature enters from…</td><td>&quot;2&quot;</td><td>&quot;2&quot;</td><td>null</td><td>[&quot;common&quot;]</td><td>[&quot;UNF&quot;]</td><td>[-0.032506, -0.006977, … -0.026924]</td></tr><tr><td>&hellip;</td><td>&hellip;</td><td>&hellip;</td><td>&hellip;</td><td>&hellip;</td><td>&hellip;</td><td>&hellip;</td><td>&hellip;</td><td>&hellip;</td><td>&hellip;</td><td>&hellip;</td></tr><tr><td>&quot;Éomer, King of Rohan&quot;</td><td>&quot;f2c11695-f22b-44d5-937c-2578f2…</td><td>&quot;{3}{R}{W}&quot;</td><td>&quot;Legendary Creature — Human Nob…</td><td>&quot;Double strike\\n~ enters with a…</td><td>&quot;2&quot;</td><td>&quot;2&quot;</td><td>null</td><td>[&quot;rare&quot;]</td><td>[&quot;LTC&quot;]</td><td>[0.014294, 0.012956, … 0.019557]</td></tr><tr><td>&quot;Éomer, Marshal of Rohan&quot;</td><td>&quot;0bd31ce9-9551-4efe-8bd2-b97d8e…</td><td>&quot;{2}{R}{R}&quot;</td><td>&quot;Legendary Creature — Human Kni…</td><td>&quot;Haste\\nWhenever one or more ot…</td><td>&quot;4&quot;</td><td>&quot;4&quot;</td><td>null</td><td>[&quot;rare&quot;]</td><td>[&quot;PLTR&quot;, &quot;LTR&quot;]</td><td>[-0.022398, 0.017195, … 0.046952]</td></tr><tr><td>&quot;Éowyn, Fearless Knight&quot;</td><td>&quot;c1b37891-5ed9-47e4-8d2f-c2bfd8…</td><td>&quot;{2}{R}{W}&quot;</td><td>&quot;Legendary Creature — Human Kni…</td><td>&quot;Haste\\nWhen ~ enters, exile ta…</td><td>&quot;3&quot;</td><td>&quot;4&quot;</td><td>null</td><td>[&quot;rare&quot;]</td><td>[&quot;PLTR&quot;, &quot;LTR&quot;]</td><td>[-0.033406, 0.007331, … 0.028238]</td></tr><tr><td>&quot;Éowyn, Lady of Rohan&quot;</td><td>&quot;e59710c4-24de-419e-a8a0-e8392d…</td><td>&quot;{2}{W}&quot;</td><td>&quot;Legendary Creature — Human Nob…</td><td>&quot;At the beginning of combat on …</td><td>&quot;2&quot;</td><td>&quot;4&quot;</td><td>null</td><td>[&quot;uncommon&quot;]</td><td>[&quot;LTR&quot;]</td><td>[-0.001306, 0.005256, … 0.048215]</td></tr><tr><td>&quot;Éowyn, Shieldmaiden&quot;</td><td>&quot;dd4a00ff-2206-4e12-a0ab-61ed82…</td><td>&quot;{2}{U}{R}{W}&quot;</td><td>&quot;Legendary Creature — Human Kni…</td><td>&quot;First strike\\nAt the beginning…</td><td>&quot;5&quot;</td><td>&quot;4&quot;</td><td>null</td><td>[&quot;mythic&quot;]</td><td>[&quot;LTC&quot;]</td><td>[-0.004468, 0.002612, … 0.03123]</td></tr></tbody></table></div>"
      ],
      "text/plain": [
       "shape: (31_650, 11)\n",
       "┌────────────┬───────────┬───────────┬───────────┬───┬─────────┬───────────┬───────────┬───────────┐\n",
       "│ name       ┆ scryfallI ┆ manaCost  ┆ type      ┆ … ┆ loyalty ┆ rarities  ┆ sets      ┆ embeds    │\n",
       "│ ---        ┆ d         ┆ ---       ┆ ---       ┆   ┆ ---     ┆ ---       ┆ ---       ┆ ---       │\n",
       "│ str        ┆ ---       ┆ str       ┆ str       ┆   ┆ str     ┆ list[enum ┆ list[enum ┆ array[f32 │\n",
       "│            ┆ str       ┆           ┆           ┆   ┆         ┆ ]         ┆ ]         ┆ , 768]    │\n",
       "╞════════════╪═══════════╪═══════════╪═══════════╪═══╪═════════╪═══════════╪═══════════╪═══════════╡\n",
       "│ \"Ach!      ┆ 84f2c8f5- ┆ {2}{R}{R} ┆ Enchantme ┆ … ┆ null    ┆ [\"rare\"]  ┆ [\"UNH\"]   ┆ [0.021551 │\n",
       "│ Hans,      ┆ 8e11-4639 ┆ {G}{G}    ┆ nt        ┆   ┆         ┆           ┆           ┆ , -0.0361 │\n",
       "│ Run!\"      ┆ -b7de-00e ┆           ┆           ┆   ┆         ┆           ┆           ┆ 94, …     │\n",
       "│            ┆ 4a2…      ┆           ┆           ┆   ┆         ┆           ┆           ┆ -0.006…   │\n",
       "│ \"Brims\"    ┆ 68832214- ┆ {3}{W}{B} ┆ Legendary ┆ … ┆ null    ┆ [\"uncommo ┆ [\"UNF\"]   ┆ [0.000329 │\n",
       "│ Barone,    ┆ 2943-4253 ┆           ┆ Creature  ┆   ┆         ┆ n\"]       ┆           ┆ ,         │\n",
       "│ Midway     ┆ -8884-ffa ┆           ┆ — Human   ┆   ┆         ┆           ┆           ┆ 0.025074, │\n",
       "│ Mobster    ┆ 490…      ┆           ┆ Rog…      ┆   ┆         ┆           ┆           ┆ …         │\n",
       "│            ┆           ┆           ┆           ┆   ┆         ┆           ┆           ┆ 0.00549…  │\n",
       "│ \"Intimidat ┆ 9b4e6022- ┆ {B}       ┆ Sorcery   ┆ … ┆ null    ┆ [\"uncommo ┆ [\"DFT\"]   ┆ [-0.03072 │\n",
       "│ ion        ┆ 44d2-4dfe ┆           ┆           ┆   ┆         ┆ n\"]       ┆           ┆ 9, -0.004 │\n",
       "│ Tactics\"   ┆ -8f7a-515 ┆           ┆           ┆   ┆         ┆           ┆           ┆ 603, …    │\n",
       "│            ┆ 81e…      ┆           ┆           ┆   ┆         ┆           ┆           ┆ 0.007…    │\n",
       "│ \"Lifetime\" ┆ 42293306- ┆ {B}       ┆ Creature  ┆ … ┆ null    ┆ [\"rare\"]  ┆ [\"UNF\"]   ┆ [0.001363 │\n",
       "│ Pass       ┆ aaea-4542 ┆           ┆ — Zombie  ┆   ┆         ┆           ┆           ┆ , -0.0039 │\n",
       "│ Holder     ┆ -8df4-813 ┆           ┆ Guest     ┆   ┆         ┆           ┆           ┆ 04, …     │\n",
       "│            ┆ 823…      ┆           ┆           ┆   ┆         ┆           ┆           ┆ 0.0134…   │\n",
       "│ \"Name      ┆ fd1442b4- ┆ {2}{R}    ┆ Creature  ┆ … ┆ null    ┆ [\"common\" ┆ [\"UNF\"]   ┆ [-0.03250 │\n",
       "│ Sticker\"   ┆ da59-4042 ┆           ┆ — Goblin  ┆   ┆         ┆ ]         ┆           ┆ 6, -0.006 │\n",
       "│ Goblin     ┆ -835f-143 ┆           ┆ Guest     ┆   ┆         ┆           ┆           ┆ 977, …    │\n",
       "│            ┆ c8d…      ┆           ┆           ┆   ┆         ┆           ┆           ┆ -0.02…    │\n",
       "│ …          ┆ …         ┆ …         ┆ …         ┆ … ┆ …       ┆ …         ┆ …         ┆ …         │\n",
       "│ Éomer,     ┆ f2c11695- ┆ {3}{R}{W} ┆ Legendary ┆ … ┆ null    ┆ [\"rare\"]  ┆ [\"LTC\"]   ┆ [0.014294 │\n",
       "│ King of    ┆ f22b-44d5 ┆           ┆ Creature  ┆   ┆         ┆           ┆           ┆ ,         │\n",
       "│ Rohan      ┆ -937c-257 ┆           ┆ — Human   ┆   ┆         ┆           ┆           ┆ 0.012956, │\n",
       "│            ┆ 8f2…      ┆           ┆ Nob…      ┆   ┆         ┆           ┆           ┆ …         │\n",
       "│            ┆           ┆           ┆           ┆   ┆         ┆           ┆           ┆ 0.01955…  │\n",
       "│ Éomer,     ┆ 0bd31ce9- ┆ {2}{R}{R} ┆ Legendary ┆ … ┆ null    ┆ [\"rare\"]  ┆ [\"PLTR\",  ┆ [-0.02239 │\n",
       "│ Marshal of ┆ 9551-4efe ┆           ┆ Creature  ┆   ┆         ┆           ┆ \"LTR\"]    ┆ 8,        │\n",
       "│ Rohan      ┆ -8bd2-b97 ┆           ┆ — Human   ┆   ┆         ┆           ┆           ┆ 0.017195, │\n",
       "│            ┆ d8e…      ┆           ┆ Kni…      ┆   ┆         ┆           ┆           ┆ … 0.0469… │\n",
       "│ Éowyn,     ┆ c1b37891- ┆ {2}{R}{W} ┆ Legendary ┆ … ┆ null    ┆ [\"rare\"]  ┆ [\"PLTR\",  ┆ [-0.03340 │\n",
       "│ Fearless   ┆ 5ed9-47e4 ┆           ┆ Creature  ┆   ┆         ┆           ┆ \"LTR\"]    ┆ 6,        │\n",
       "│ Knight     ┆ -8d2f-c2b ┆           ┆ — Human   ┆   ┆         ┆           ┆           ┆ 0.007331, │\n",
       "│            ┆ fd8…      ┆           ┆ Kni…      ┆   ┆         ┆           ┆           ┆ … 0.0282… │\n",
       "│ Éowyn,     ┆ e59710c4- ┆ {2}{W}    ┆ Legendary ┆ … ┆ null    ┆ [\"uncommo ┆ [\"LTR\"]   ┆ [-0.00130 │\n",
       "│ Lady of    ┆ 24de-419e ┆           ┆ Creature  ┆   ┆         ┆ n\"]       ┆           ┆ 6,        │\n",
       "│ Rohan      ┆ -a8a0-e83 ┆           ┆ — Human   ┆   ┆         ┆           ┆           ┆ 0.005256, │\n",
       "│            ┆ 92d…      ┆           ┆ Nob…      ┆   ┆         ┆           ┆           ┆ … 0.0482… │\n",
       "│ Éowyn, Shi ┆ dd4a00ff- ┆ {2}{U}{R} ┆ Legendary ┆ … ┆ null    ┆ [\"mythic\" ┆ [\"LTC\"]   ┆ [-0.00446 │\n",
       "│ eldmaiden  ┆ 2206-4e12 ┆ {W}       ┆ Creature  ┆   ┆         ┆ ]         ┆           ┆ 8,        │\n",
       "│            ┆ -a0ab-61e ┆           ┆ — Human   ┆   ┆         ┆           ┆           ┆ 0.002612, │\n",
       "│            ┆ d82…      ┆           ┆ Kni…      ┆   ┆         ┆           ┆           ┆ … 0.0312… │\n",
       "└────────────┴───────────┴───────────┴───────────┴───┴─────────┴───────────┴───────────┴───────────┘"
      ]
     },
     "execution_count": 2,
     "metadata": {},
     "output_type": "execute_result"
    }
   ],
   "source": [
    "df = pl.read_parquet(\"/Users/maxwoolf/Downloads/mtg_embeddings.parquet\")\n",
    "\n",
    "df"
   ]
  },
  {
   "cell_type": "code",
   "execution_count": 3,
   "metadata": {},
   "outputs": [
    {
     "data": {
      "text/html": [
       "<div><style>\n",
       ".dataframe > thead > tr,\n",
       ".dataframe > tbody > tr {\n",
       "  text-align: right;\n",
       "  white-space: pre-wrap;\n",
       "}\n",
       "</style>\n",
       "<small>shape: (1, 11)</small><table border=\"1\" class=\"dataframe\"><thead><tr><th>name</th><th>scryfallId</th><th>manaCost</th><th>type</th><th>text</th><th>power</th><th>toughness</th><th>loyalty</th><th>rarities</th><th>sets</th><th>embeds</th></tr><tr><td>str</td><td>str</td><td>str</td><td>str</td><td>str</td><td>str</td><td>str</td><td>str</td><td>list[enum]</td><td>list[enum]</td><td>array[f32, 768]</td></tr></thead><tbody><tr><td>&quot;Jace, the Mind Sculptor&quot;</td><td>&quot;cbe639bb-5797-4bec-b55b-aed296…</td><td>&quot;{2}{U}{U}&quot;</td><td>&quot;Legendary Planeswalker — Jace&quot;</td><td>&quot;[+2]: Look at the top card of …</td><td>null</td><td>null</td><td>&quot;3&quot;</td><td>[&quot;mythic&quot;]</td><td>[&quot;PRM&quot;, &quot;WWK&quot;, … &quot;BLC&quot;]</td><td>[0.015467, -0.019021, … -0.009591]</td></tr></tbody></table></div>"
      ],
      "text/plain": [
       "shape: (1, 11)\n",
       "┌────────────┬───────────┬───────────┬───────────┬───┬─────────┬───────────┬───────────┬───────────┐\n",
       "│ name       ┆ scryfallI ┆ manaCost  ┆ type      ┆ … ┆ loyalty ┆ rarities  ┆ sets      ┆ embeds    │\n",
       "│ ---        ┆ d         ┆ ---       ┆ ---       ┆   ┆ ---     ┆ ---       ┆ ---       ┆ ---       │\n",
       "│ str        ┆ ---       ┆ str       ┆ str       ┆   ┆ str     ┆ list[enum ┆ list[enum ┆ array[f32 │\n",
       "│            ┆ str       ┆           ┆           ┆   ┆         ┆ ]         ┆ ]         ┆ , 768]    │\n",
       "╞════════════╪═══════════╪═══════════╪═══════════╪═══╪═════════╪═══════════╪═══════════╪═══════════╡\n",
       "│ Jace, the  ┆ cbe639bb- ┆ {2}{U}{U} ┆ Legendary ┆ … ┆ 3       ┆ [\"mythic\" ┆ [\"PRM\",   ┆ [0.015467 │\n",
       "│ Mind       ┆ 5797-4bec ┆           ┆ Planeswal ┆   ┆         ┆ ]         ┆ \"WWK\", …  ┆ , -0.0190 │\n",
       "│ Sculptor   ┆ -b55b-aed ┆           ┆ ker —     ┆   ┆         ┆           ┆ \"BLC\"]    ┆ 21, …     │\n",
       "│            ┆ 296…      ┆           ┆ Jace      ┆   ┆         ┆           ┆           ┆ -0.009…   │\n",
       "└────────────┴───────────┴───────────┴───────────┴───┴─────────┴───────────┴───────────┴───────────┘"
      ]
     },
     "execution_count": 3,
     "metadata": {},
     "output_type": "execute_result"
    }
   ],
   "source": [
    "query_row = df.filter(pl.col(\"name\") == \"Jace, the Mind Sculptor\")\n",
    "query_row"
   ]
  },
  {
   "cell_type": "code",
   "execution_count": 4,
   "metadata": {},
   "outputs": [
    {
     "data": {
      "text/plain": [
       "(768,)"
      ]
     },
     "execution_count": 4,
     "metadata": {},
     "output_type": "execute_result"
    }
   ],
   "source": [
    "query_embed = query_row[\"embeds\"].to_numpy(allow_copy=False)[0]\n",
    "query_embed.shape"
   ]
  },
  {
   "cell_type": "code",
   "execution_count": 5,
   "metadata": {},
   "outputs": [
    {
     "data": {
      "text/plain": [
       "(31650, 768)"
      ]
     },
     "execution_count": 5,
     "metadata": {},
     "output_type": "execute_result"
    }
   ],
   "source": [
    "embeddings = df[\"embeds\"].to_numpy(allow_copy=False)\n",
    "embeddings.shape"
   ]
  },
  {
   "cell_type": "code",
   "execution_count": 6,
   "metadata": {},
   "outputs": [],
   "source": [
    "def fast_dot_product(query, matrix, k=3):\n",
    "    dot_products = query @ matrix.T\n",
    "\n",
    "    idx = np.argpartition(dot_products, -k)[-k:]\n",
    "    idx = idx[np.argsort(dot_products[idx])[::-1]]\n",
    "\n",
    "    score = dot_products[idx]\n",
    "\n",
    "    return idx, score"
   ]
  },
  {
   "cell_type": "code",
   "execution_count": 7,
   "metadata": {},
   "outputs": [
    {
     "name": "stdout",
     "output_type": "stream",
     "text": [
      "[0.99999994 0.9544666  0.93557715 0.9331999  0.9281742  0.9226246\n",
      " 0.92075175 0.9205631  0.91957563 0.91659015]\n"
     ]
    },
    {
     "data": {
      "text/html": [
       "<div><style>\n",
       ".dataframe > thead > tr,\n",
       ".dataframe > tbody > tr {\n",
       "  text-align: right;\n",
       "  white-space: pre-wrap;\n",
       "}\n",
       "</style>\n",
       "<small>shape: (10, 11)</small><table border=\"1\" class=\"dataframe\"><thead><tr><th>name</th><th>scryfallId</th><th>manaCost</th><th>type</th><th>text</th><th>power</th><th>toughness</th><th>loyalty</th><th>rarities</th><th>sets</th><th>embeds</th></tr><tr><td>str</td><td>str</td><td>str</td><td>str</td><td>str</td><td>str</td><td>str</td><td>str</td><td>list[enum]</td><td>list[enum]</td><td>array[f32, 768]</td></tr></thead><tbody><tr><td>&quot;Jace, the Mind Sculptor&quot;</td><td>&quot;cbe639bb-5797-4bec-b55b-aed296…</td><td>&quot;{2}{U}{U}&quot;</td><td>&quot;Legendary Planeswalker — Jace&quot;</td><td>&quot;[+2]: Look at the top card of …</td><td>null</td><td>null</td><td>&quot;3&quot;</td><td>[&quot;mythic&quot;]</td><td>[&quot;PRM&quot;, &quot;WWK&quot;, … &quot;BLC&quot;]</td><td>[0.015467, -0.019021, … -0.009591]</td></tr><tr><td>&quot;Jace, Architect of Thought&quot;</td><td>&quot;74aa75d1-47bd-4298-a943-1c96e4…</td><td>&quot;{2}{U}{U}&quot;</td><td>&quot;Legendary Planeswalker — Jace&quot;</td><td>&quot;[+1]: Until your next turn, wh…</td><td>null</td><td>null</td><td>&quot;4&quot;</td><td>[&quot;mythic&quot;]</td><td>[&quot;RTR&quot;, &quot;DDM&quot;, … &quot;PIO&quot;]</td><td>[0.006617, 0.002114, … 0.007388]</td></tr><tr><td>&quot;Jace, Ingenious Mind-Mage&quot;</td><td>&quot;e3b274f6-833f-430f-ac1a-d1d1d5…</td><td>&quot;{4}{U}{U}&quot;</td><td>&quot;Legendary Planeswalker — Jace&quot;</td><td>&quot;[+1]: Draw a card.\\n[+1]: Unta…</td><td>null</td><td>null</td><td>&quot;5&quot;</td><td>[&quot;mythic&quot;]</td><td>[&quot;XLN&quot;]</td><td>[0.007461, -0.019271, … 0.025807]</td></tr><tr><td>&quot;Jace, the Living Guildpact&quot;</td><td>&quot;99713bb4-186f-42b6-aa66-e94ec8…</td><td>&quot;{2}{U}{U}&quot;</td><td>&quot;Legendary Planeswalker — Jace&quot;</td><td>&quot;[+1]: Look at the top two card…</td><td>null</td><td>null</td><td>&quot;5&quot;</td><td>[&quot;mythic&quot;]</td><td>[&quot;PS14&quot;, &quot;M15&quot;]</td><td>[0.000313, -0.006531, … 0.001094]</td></tr><tr><td>&quot;Jace, Memory Adept&quot;</td><td>&quot;66e2813e-c674-49de-8777-788251…</td><td>&quot;{3}{U}{U}&quot;</td><td>&quot;Legendary Planeswalker — Jace&quot;</td><td>&quot;[+1]: Draw a card. Target play…</td><td>null</td><td>null</td><td>&quot;4&quot;</td><td>[&quot;mythic&quot;]</td><td>[&quot;PMEI&quot;, &quot;M12&quot;, … &quot;PIO&quot;]</td><td>[-0.015488, -0.032709, … 0.006996]</td></tr><tr><td>&quot;Jace, the Perfected Mind&quot;</td><td>&quot;cf9f5a2e-1f1e-4ecf-8d5c-dbd952…</td><td>&quot;{2}{U}{U/P}&quot;</td><td>&quot;Legendary Planeswalker — Jace&quot;</td><td>&quot;Compleated ({U/P} can be paid …</td><td>null</td><td>null</td><td>&quot;5&quot;</td><td>[&quot;mythic&quot;]</td><td>[&quot;PONE&quot;, &quot;ONE&quot;]</td><td>[0.006679, -0.000718, … 0.007652]</td></tr><tr><td>&quot;Jace, Wielder of Mysteries&quot;</td><td>&quot;6dece604-04f2-48ac-8e6c-ef850c…</td><td>&quot;{1}{U}{U}{U}&quot;</td><td>&quot;Legendary Planeswalker — Jace&quot;</td><td>&quot;If you would draw a card while…</td><td>null</td><td>null</td><td>&quot;4&quot;</td><td>[&quot;rare&quot;]</td><td>[&quot;PRM&quot;, &quot;PWAR&quot;, … &quot;PLST&quot;]</td><td>[-0.00819, -0.025063, … -0.004219]</td></tr><tr><td>&quot;Jace, Arcane Strategist&quot;</td><td>&quot;5b870094-08bf-41fc-b9d6-e435e0…</td><td>&quot;{4}{U}{U}&quot;</td><td>&quot;Legendary Planeswalker — Jace&quot;</td><td>&quot;Whenever you draw your second …</td><td>null</td><td>null</td><td>&quot;4&quot;</td><td>[&quot;mythic&quot;]</td><td>[&quot;WAR&quot;, &quot;J22&quot;]</td><td>[0.004943, -0.018671, … 0.027613]</td></tr><tr><td>&quot;Jace, Mirror Mage&quot;</td><td>&quot;86d34cbf-e424-461a-adf3-003d55…</td><td>&quot;{1}{U}{U}&quot;</td><td>&quot;Legendary Planeswalker — Jace&quot;</td><td>&quot;Kicker {2}\\nWhen ~ enters, if …</td><td>null</td><td>null</td><td>&quot;4&quot;</td><td>[&quot;mythic&quot;]</td><td>[&quot;PRM&quot;, &quot;PZNR&quot;, … &quot;CMM&quot;]</td><td>[-0.009948, 0.00431, … 0.004963]</td></tr><tr><td>&quot;Jace, Unraveler of Secrets&quot;</td><td>&quot;3d9c8217-013d-4e75-bdd1-9c46c8…</td><td>&quot;{3}{U}{U}&quot;</td><td>&quot;Legendary Planeswalker — Jace&quot;</td><td>&quot;[+1]: Scry 1, then draw a card…</td><td>null</td><td>null</td><td>&quot;5&quot;</td><td>[&quot;mythic&quot;]</td><td>[&quot;PSOI&quot;, &quot;SOI&quot;, … &quot;INR&quot;]</td><td>[-0.003332, -0.026348, … 0.019022]</td></tr></tbody></table></div>"
      ],
      "text/plain": [
       "shape: (10, 11)\n",
       "┌────────────┬───────────┬───────────┬───────────┬───┬─────────┬───────────┬───────────┬───────────┐\n",
       "│ name       ┆ scryfallI ┆ manaCost  ┆ type      ┆ … ┆ loyalty ┆ rarities  ┆ sets      ┆ embeds    │\n",
       "│ ---        ┆ d         ┆ ---       ┆ ---       ┆   ┆ ---     ┆ ---       ┆ ---       ┆ ---       │\n",
       "│ str        ┆ ---       ┆ str       ┆ str       ┆   ┆ str     ┆ list[enum ┆ list[enum ┆ array[f32 │\n",
       "│            ┆ str       ┆           ┆           ┆   ┆         ┆ ]         ┆ ]         ┆ , 768]    │\n",
       "╞════════════╪═══════════╪═══════════╪═══════════╪═══╪═════════╪═══════════╪═══════════╪═══════════╡\n",
       "│ Jace, the  ┆ cbe639bb- ┆ {2}{U}{U} ┆ Legendary ┆ … ┆ 3       ┆ [\"mythic\" ┆ [\"PRM\",   ┆ [0.015467 │\n",
       "│ Mind       ┆ 5797-4bec ┆           ┆ Planeswal ┆   ┆         ┆ ]         ┆ \"WWK\", …  ┆ , -0.0190 │\n",
       "│ Sculptor   ┆ -b55b-aed ┆           ┆ ker —     ┆   ┆         ┆           ┆ \"BLC\"]    ┆ 21, …     │\n",
       "│            ┆ 296…      ┆           ┆ Jace      ┆   ┆         ┆           ┆           ┆ -0.009…   │\n",
       "│ Jace,      ┆ 74aa75d1- ┆ {2}{U}{U} ┆ Legendary ┆ … ┆ 4       ┆ [\"mythic\" ┆ [\"RTR\",   ┆ [0.006617 │\n",
       "│ Architect  ┆ 47bd-4298 ┆           ┆ Planeswal ┆   ┆         ┆ ]         ┆ \"DDM\", …  ┆ ,         │\n",
       "│ of Thought ┆ -a943-1c9 ┆           ┆ ker —     ┆   ┆         ┆           ┆ \"PIO\"]    ┆ 0.002114, │\n",
       "│            ┆ 6e4…      ┆           ┆ Jace      ┆   ┆         ┆           ┆           ┆ …         │\n",
       "│            ┆           ┆           ┆           ┆   ┆         ┆           ┆           ┆ 0.00738…  │\n",
       "│ Jace,      ┆ e3b274f6- ┆ {4}{U}{U} ┆ Legendary ┆ … ┆ 5       ┆ [\"mythic\" ┆ [\"XLN\"]   ┆ [0.007461 │\n",
       "│ Ingenious  ┆ 833f-430f ┆           ┆ Planeswal ┆   ┆         ┆ ]         ┆           ┆ , -0.0192 │\n",
       "│ Mind-Mage  ┆ -ac1a-d1d ┆           ┆ ker —     ┆   ┆         ┆           ┆           ┆ 71, …     │\n",
       "│            ┆ 1d5…      ┆           ┆ Jace      ┆   ┆         ┆           ┆           ┆ 0.0258…   │\n",
       "│ Jace, the  ┆ 99713bb4- ┆ {2}{U}{U} ┆ Legendary ┆ … ┆ 5       ┆ [\"mythic\" ┆ [\"PS14\",  ┆ [0.000313 │\n",
       "│ Living     ┆ 186f-42b6 ┆           ┆ Planeswal ┆   ┆         ┆ ]         ┆ \"M15\"]    ┆ , -0.0065 │\n",
       "│ Guildpact  ┆ -aa66-e94 ┆           ┆ ker —     ┆   ┆         ┆           ┆           ┆ 31, …     │\n",
       "│            ┆ ec8…      ┆           ┆ Jace      ┆   ┆         ┆           ┆           ┆ 0.0010…   │\n",
       "│ Jace,      ┆ 66e2813e- ┆ {3}{U}{U} ┆ Legendary ┆ … ┆ 4       ┆ [\"mythic\" ┆ [\"PMEI\",  ┆ [-0.01548 │\n",
       "│ Memory     ┆ c674-49de ┆           ┆ Planeswal ┆   ┆         ┆ ]         ┆ \"M12\", …  ┆ 8, -0.032 │\n",
       "│ Adept      ┆ -8777-788 ┆           ┆ ker —     ┆   ┆         ┆           ┆ \"PIO\"]    ┆ 709, …    │\n",
       "│            ┆ 251…      ┆           ┆ Jace      ┆   ┆         ┆           ┆           ┆ 0.006…    │\n",
       "│ Jace, the  ┆ cf9f5a2e- ┆ {2}{U}{U/ ┆ Legendary ┆ … ┆ 5       ┆ [\"mythic\" ┆ [\"PONE\",  ┆ [0.006679 │\n",
       "│ Perfected  ┆ 1f1e-4ecf ┆ P}        ┆ Planeswal ┆   ┆         ┆ ]         ┆ \"ONE\"]    ┆ , -0.0007 │\n",
       "│ Mind       ┆ -8d5c-dbd ┆           ┆ ker —     ┆   ┆         ┆           ┆           ┆ 18, …     │\n",
       "│            ┆ 952…      ┆           ┆ Jace      ┆   ┆         ┆           ┆           ┆ 0.0076…   │\n",
       "│ Jace,      ┆ 6dece604- ┆ {1}{U}{U} ┆ Legendary ┆ … ┆ 4       ┆ [\"rare\"]  ┆ [\"PRM\",   ┆ [-0.00819 │\n",
       "│ Wielder of ┆ 04f2-48ac ┆ {U}       ┆ Planeswal ┆   ┆         ┆           ┆ \"PWAR\", … ┆ , -0.0250 │\n",
       "│ Mysteries  ┆ -8e6c-ef8 ┆           ┆ ker —     ┆   ┆         ┆           ┆ \"PLST\"]   ┆ 63, …     │\n",
       "│            ┆ 50c…      ┆           ┆ Jace      ┆   ┆         ┆           ┆           ┆ -0.004…   │\n",
       "│ Jace,      ┆ 5b870094- ┆ {4}{U}{U} ┆ Legendary ┆ … ┆ 4       ┆ [\"mythic\" ┆ [\"WAR\",   ┆ [0.004943 │\n",
       "│ Arcane     ┆ 08bf-41fc ┆           ┆ Planeswal ┆   ┆         ┆ ]         ┆ \"J22\"]    ┆ , -0.0186 │\n",
       "│ Strategist ┆ -b9d6-e43 ┆           ┆ ker —     ┆   ┆         ┆           ┆           ┆ 71, …     │\n",
       "│            ┆ 5e0…      ┆           ┆ Jace      ┆   ┆         ┆           ┆           ┆ 0.0276…   │\n",
       "│ Jace,      ┆ 86d34cbf- ┆ {1}{U}{U} ┆ Legendary ┆ … ┆ 4       ┆ [\"mythic\" ┆ [\"PRM\",   ┆ [-0.00994 │\n",
       "│ Mirror     ┆ e424-461a ┆           ┆ Planeswal ┆   ┆         ┆ ]         ┆ \"PZNR\", … ┆ 8,        │\n",
       "│ Mage       ┆ -adf3-003 ┆           ┆ ker —     ┆   ┆         ┆           ┆ \"CMM\"]    ┆ 0.00431,  │\n",
       "│            ┆ d55…      ┆           ┆ Jace      ┆   ┆         ┆           ┆           ┆ …         │\n",
       "│            ┆           ┆           ┆           ┆   ┆         ┆           ┆           ┆ 0.00496…  │\n",
       "│ Jace,      ┆ 3d9c8217- ┆ {3}{U}{U} ┆ Legendary ┆ … ┆ 5       ┆ [\"mythic\" ┆ [\"PSOI\",  ┆ [-0.00333 │\n",
       "│ Unraveler  ┆ 013d-4e75 ┆           ┆ Planeswal ┆   ┆         ┆ ]         ┆ \"SOI\", …  ┆ 2, -0.026 │\n",
       "│ of Secrets ┆ -bdd1-9c4 ┆           ┆ ker —     ┆   ┆         ┆           ┆ \"INR\"]    ┆ 348, …    │\n",
       "│            ┆ 6c8…      ┆           ┆ Jace      ┆   ┆         ┆           ┆           ┆ 0.019…    │\n",
       "└────────────┴───────────┴───────────┴───────────┴───┴─────────┴───────────┴───────────┴───────────┘"
      ]
     },
     "execution_count": 7,
     "metadata": {},
     "output_type": "execute_result"
    }
   ],
   "source": [
    "idx, score = fast_dot_product(query_embed, embeddings, k=10)\n",
    "print(score)\n",
    "df[idx]"
   ]
  },
  {
   "cell_type": "markdown",
   "metadata": {},
   "source": [
    "## Test More Cards\n"
   ]
  },
  {
   "cell_type": "code",
   "execution_count": 8,
   "metadata": {},
   "outputs": [],
   "source": [
    "def get_similar_cards(card_name):\n",
    "    query_embed = (\n",
    "        df.filter(pl.col(\"name\") == card_name)[\"embeds\"].to_numpy(allow_copy=False)\n",
    "    )[0]\n",
    "\n",
    "    idx, score = fast_dot_product(query_embed, embeddings, k=9 + 1)\n",
    "    print(score)\n",
    "    return df[idx]"
   ]
  },
  {
   "cell_type": "code",
   "execution_count": 9,
   "metadata": {},
   "outputs": [
    {
     "name": "stdout",
     "output_type": "stream",
     "text": [
      "[1.0000001  0.8449551  0.8276623  0.81849706 0.81414413 0.81102407\n",
      " 0.81090826 0.8106593  0.8094686  0.8087301 ]\n"
     ]
    },
    {
     "data": {
      "text/html": [
       "<div><style>\n",
       ".dataframe > thead > tr,\n",
       ".dataframe > tbody > tr {\n",
       "  text-align: right;\n",
       "  white-space: pre-wrap;\n",
       "}\n",
       "</style>\n",
       "<small>shape: (10, 11)</small><table border=\"1\" class=\"dataframe\"><thead><tr><th>name</th><th>scryfallId</th><th>manaCost</th><th>type</th><th>text</th><th>power</th><th>toughness</th><th>loyalty</th><th>rarities</th><th>sets</th><th>embeds</th></tr><tr><td>str</td><td>str</td><td>str</td><td>str</td><td>str</td><td>str</td><td>str</td><td>str</td><td>list[enum]</td><td>list[enum]</td><td>array[f32, 768]</td></tr></thead><tbody><tr><td>&quot;Phage the Untouchable&quot;</td><td>&quot;41e39cb1-0b57-4d70-afa6-67b307…</td><td>&quot;{3}{B}{B}{B}{B}&quot;</td><td>&quot;Legendary Creature — Avatar Mi…</td><td>&quot;When ~ enters, if you didn&#x27;t c…</td><td>&quot;4&quot;</td><td>&quot;4&quot;</td><td>null</td><td>[&quot;rare&quot;, &quot;mythic&quot;]</td><td>[&quot;LGN&quot;, &quot;10E&quot;, … &quot;SLD&quot;]</td><td>[-0.016285, -0.039296, … 0.00174]</td></tr><tr><td>&quot;Phlage, Titan of Fire&#x27;s Fury&quot;</td><td>&quot;d08742bb-d980-4912-a2fd-b8edac…</td><td>&quot;{1}{R}{W}&quot;</td><td>&quot;Legendary Creature — Elder Gia…</td><td>&quot;When Phlage enters, sacrifice …</td><td>&quot;6&quot;</td><td>&quot;6&quot;</td><td>null</td><td>[&quot;mythic&quot;]</td><td>[&quot;PMH3&quot;, &quot;MH3&quot;]</td><td>[-0.018092, -0.026926, … 0.008093]</td></tr><tr><td>&quot;Giant Adephage&quot;</td><td>&quot;893b22a7-b46c-4473-8d88-11ddf4…</td><td>&quot;{5}{G}{G}&quot;</td><td>&quot;Creature — Insect&quot;</td><td>&quot;Trample\\nWhenever ~ deals comb…</td><td>&quot;7&quot;</td><td>&quot;7&quot;</td><td>null</td><td>[&quot;mythic&quot;]</td><td>[&quot;GTC&quot;, &quot;C19&quot;, … &quot;DSC&quot;]</td><td>[0.001798, 0.001826, … -0.002972]</td></tr><tr><td>&quot;It Came from Planet Glurg&quot;</td><td>&quot;b0ebcd89-7dc2-4a38-83f2-edccd3…</td><td>&quot;{X}{X}{G}{U}&quot;</td><td>&quot;Legendary Creature — Alien Ooz…</td><td>&quot;You may have ~ enter as a copy…</td><td>&quot;0&quot;</td><td>&quot;0&quot;</td><td>null</td><td>[&quot;mythic&quot;]</td><td>[&quot;UNF&quot;]</td><td>[0.018293, 0.009471, … 0.015707]</td></tr><tr><td>&quot;Tsabo Tavoc&quot;</td><td>&quot;fae30ebf-1c73-4319-b4b1-27b71c…</td><td>&quot;{5}{B}{R}&quot;</td><td>&quot;Legendary Creature — Phyrexian…</td><td>&quot;First strike, protection from …</td><td>&quot;7&quot;</td><td>&quot;4&quot;</td><td>null</td><td>[&quot;rare&quot;]</td><td>[&quot;INV&quot;, &quot;PLST&quot;]</td><td>[-0.035122, -0.008894, … -0.016798]</td></tr><tr><td>&quot;Phyrexian Slayer&quot;</td><td>&quot;5fa8c604-343f-4c94-ac25-439ab1…</td><td>&quot;{3}{B}&quot;</td><td>&quot;Creature — Phyrexian Minion&quot;</td><td>&quot;Flying\\nWhenever ~ becomes blo…</td><td>&quot;2&quot;</td><td>&quot;2&quot;</td><td>null</td><td>[&quot;common&quot;]</td><td>[&quot;INV&quot;]</td><td>[-0.007808, -0.033223, … 0.018728]</td></tr><tr><td>&quot;Gargos, Vicious Watcher&quot;</td><td>&quot;574057d5-d4a3-4d51-9f53-830d53…</td><td>&quot;{3}{G}{G}{G}&quot;</td><td>&quot;Legendary Creature — Hydra&quot;</td><td>&quot;Vigilance\\nHydra spells you ca…</td><td>&quot;8&quot;</td><td>&quot;7&quot;</td><td>null</td><td>[&quot;rare&quot;]</td><td>[&quot;PM20&quot;, &quot;M20&quot;, &quot;SLD&quot;]</td><td>[0.002251, 0.006134, … 0.01289]</td></tr><tr><td>&quot;Chaos Maw&quot;</td><td>&quot;8094908b-1d3a-42df-bc27-8456fb…</td><td>&quot;{5}{R}{R}&quot;</td><td>&quot;Creature — Hellion&quot;</td><td>&quot;When ~ enters, it deals 3 dama…</td><td>&quot;6&quot;</td><td>&quot;6&quot;</td><td>null</td><td>[&quot;rare&quot;]</td><td>[&quot;PHOU&quot;, &quot;HOU&quot;]</td><td>[-0.043042, -0.024485, … 0.041741]</td></tr><tr><td>&quot;The Most Dangerous Gamer&quot;</td><td>&quot;02f43d58-b64c-4726-a1a9-8d71d2…</td><td>&quot;{2}{B}{G}&quot;</td><td>&quot;Legendary Creature — Human Gam…</td><td>&quot;Deathtouch\\nWhenever ~ enters …</td><td>&quot;2&quot;</td><td>&quot;2&quot;</td><td>null</td><td>[&quot;rare&quot;]</td><td>[&quot;UNF&quot;]</td><td>[-0.035497, 0.027166, … -0.006328]</td></tr><tr><td>&quot;Cursed Minotaur&quot;</td><td>&quot;df48004d-004b-41b6-b975-80b350…</td><td>&quot;{2}{B}&quot;</td><td>&quot;Creature — Zombie Minotaur&quot;</td><td>&quot;Menace (This creature can&#x27;t be…</td><td>&quot;3&quot;</td><td>&quot;2&quot;</td><td>null</td><td>[&quot;common&quot;]</td><td>[&quot;AKH&quot;, &quot;PLST&quot;]</td><td>[-0.022885, -0.01994, … 0.015501]</td></tr></tbody></table></div>"
      ],
      "text/plain": [
       "shape: (10, 11)\n",
       "┌────────────┬───────────┬───────────┬───────────┬───┬─────────┬───────────┬───────────┬───────────┐\n",
       "│ name       ┆ scryfallI ┆ manaCost  ┆ type      ┆ … ┆ loyalty ┆ rarities  ┆ sets      ┆ embeds    │\n",
       "│ ---        ┆ d         ┆ ---       ┆ ---       ┆   ┆ ---     ┆ ---       ┆ ---       ┆ ---       │\n",
       "│ str        ┆ ---       ┆ str       ┆ str       ┆   ┆ str     ┆ list[enum ┆ list[enum ┆ array[f32 │\n",
       "│            ┆ str       ┆           ┆           ┆   ┆         ┆ ]         ┆ ]         ┆ , 768]    │\n",
       "╞════════════╪═══════════╪═══════════╪═══════════╪═══╪═════════╪═══════════╪═══════════╪═══════════╡\n",
       "│ Phage the  ┆ 41e39cb1- ┆ {3}{B}{B} ┆ Legendary ┆ … ┆ null    ┆ [\"rare\",  ┆ [\"LGN\",   ┆ [-0.01628 │\n",
       "│ Untouchabl ┆ 0b57-4d70 ┆ {B}{B}    ┆ Creature  ┆   ┆         ┆ \"mythic\"] ┆ \"10E\", …  ┆ 5, -0.039 │\n",
       "│ e          ┆ -afa6-67b ┆           ┆ — Avatar  ┆   ┆         ┆           ┆ \"SLD\"]    ┆ 296, …    │\n",
       "│            ┆ 307…      ┆           ┆ Mi…       ┆   ┆         ┆           ┆           ┆ 0.001…    │\n",
       "│ Phlage,    ┆ d08742bb- ┆ {1}{R}{W} ┆ Legendary ┆ … ┆ null    ┆ [\"mythic\" ┆ [\"PMH3\",  ┆ [-0.01809 │\n",
       "│ Titan of   ┆ d980-4912 ┆           ┆ Creature  ┆   ┆         ┆ ]         ┆ \"MH3\"]    ┆ 2, -0.026 │\n",
       "│ Fire's     ┆ -a2fd-b8e ┆           ┆ — Elder   ┆   ┆         ┆           ┆           ┆ 926, …    │\n",
       "│ Fury       ┆ dac…      ┆           ┆ Gia…      ┆   ┆         ┆           ┆           ┆ 0.008…    │\n",
       "│ Giant      ┆ 893b22a7- ┆ {5}{G}{G} ┆ Creature  ┆ … ┆ null    ┆ [\"mythic\" ┆ [\"GTC\",   ┆ [0.001798 │\n",
       "│ Adephage   ┆ b46c-4473 ┆           ┆ — Insect  ┆   ┆         ┆ ]         ┆ \"C19\", …  ┆ ,         │\n",
       "│            ┆ -8d88-11d ┆           ┆           ┆   ┆         ┆           ┆ \"DSC\"]    ┆ 0.001826, │\n",
       "│            ┆ df4…      ┆           ┆           ┆   ┆         ┆           ┆           ┆ …         │\n",
       "│            ┆           ┆           ┆           ┆   ┆         ┆           ┆           ┆ -0.0029…  │\n",
       "│ It Came    ┆ b0ebcd89- ┆ {X}{X}{G} ┆ Legendary ┆ … ┆ null    ┆ [\"mythic\" ┆ [\"UNF\"]   ┆ [0.018293 │\n",
       "│ from       ┆ 7dc2-4a38 ┆ {U}       ┆ Creature  ┆   ┆         ┆ ]         ┆           ┆ ,         │\n",
       "│ Planet     ┆ -83f2-edc ┆           ┆ — Alien   ┆   ┆         ┆           ┆           ┆ 0.009471, │\n",
       "│ Glurg      ┆ cd3…      ┆           ┆ Ooz…      ┆   ┆         ┆           ┆           ┆ …         │\n",
       "│            ┆           ┆           ┆           ┆   ┆         ┆           ┆           ┆ 0.01570…  │\n",
       "│ Tsabo      ┆ fae30ebf- ┆ {5}{B}{R} ┆ Legendary ┆ … ┆ null    ┆ [\"rare\"]  ┆ [\"INV\",   ┆ [-0.03512 │\n",
       "│ Tavoc      ┆ 1c73-4319 ┆           ┆ Creature  ┆   ┆         ┆           ┆ \"PLST\"]   ┆ 2, -0.008 │\n",
       "│            ┆ -b4b1-27b ┆           ┆ — Phyrexi ┆   ┆         ┆           ┆           ┆ 894, …    │\n",
       "│            ┆ 71c…      ┆           ┆ an…       ┆   ┆         ┆           ┆           ┆ -0.01…    │\n",
       "│ Phyrexian  ┆ 5fa8c604- ┆ {3}{B}    ┆ Creature  ┆ … ┆ null    ┆ [\"common\" ┆ [\"INV\"]   ┆ [-0.00780 │\n",
       "│ Slayer     ┆ 343f-4c94 ┆           ┆ —         ┆   ┆         ┆ ]         ┆           ┆ 8, -0.033 │\n",
       "│            ┆ -ac25-439 ┆           ┆ Phyrexian ┆   ┆         ┆           ┆           ┆ 223, …    │\n",
       "│            ┆ ab1…      ┆           ┆ Minion    ┆   ┆         ┆           ┆           ┆ 0.018…    │\n",
       "│ Gargos,    ┆ 574057d5- ┆ {3}{G}{G} ┆ Legendary ┆ … ┆ null    ┆ [\"rare\"]  ┆ [\"PM20\",  ┆ [0.002251 │\n",
       "│ Vicious    ┆ d4a3-4d51 ┆ {G}       ┆ Creature  ┆   ┆         ┆           ┆ \"M20\",    ┆ ,         │\n",
       "│ Watcher    ┆ -9f53-830 ┆           ┆ — Hydra   ┆   ┆         ┆           ┆ \"SLD\"]    ┆ 0.006134, │\n",
       "│            ┆ d53…      ┆           ┆           ┆   ┆         ┆           ┆           ┆ …         │\n",
       "│            ┆           ┆           ┆           ┆   ┆         ┆           ┆           ┆ 0.01289…  │\n",
       "│ Chaos Maw  ┆ 8094908b- ┆ {5}{R}{R} ┆ Creature  ┆ … ┆ null    ┆ [\"rare\"]  ┆ [\"PHOU\",  ┆ [-0.04304 │\n",
       "│            ┆ 1d3a-42df ┆           ┆ — Hellion ┆   ┆         ┆           ┆ \"HOU\"]    ┆ 2, -0.024 │\n",
       "│            ┆ -bc27-845 ┆           ┆           ┆   ┆         ┆           ┆           ┆ 485, …    │\n",
       "│            ┆ 6fb…      ┆           ┆           ┆   ┆         ┆           ┆           ┆ 0.041…    │\n",
       "│ The Most   ┆ 02f43d58- ┆ {2}{B}{G} ┆ Legendary ┆ … ┆ null    ┆ [\"rare\"]  ┆ [\"UNF\"]   ┆ [-0.03549 │\n",
       "│ Dangerous  ┆ b64c-4726 ┆           ┆ Creature  ┆   ┆         ┆           ┆           ┆ 7,        │\n",
       "│ Gamer      ┆ -a1a9-8d7 ┆           ┆ — Human   ┆   ┆         ┆           ┆           ┆ 0.027166, │\n",
       "│            ┆ 1d2…      ┆           ┆ Gam…      ┆   ┆         ┆           ┆           ┆ … -0.006… │\n",
       "│ Cursed     ┆ df48004d- ┆ {2}{B}    ┆ Creature  ┆ … ┆ null    ┆ [\"common\" ┆ [\"AKH\",   ┆ [-0.02288 │\n",
       "│ Minotaur   ┆ 004b-41b6 ┆           ┆ — Zombie  ┆   ┆         ┆ ]         ┆ \"PLST\"]   ┆ 5,        │\n",
       "│            ┆ -b975-80b ┆           ┆ Minotaur  ┆   ┆         ┆           ┆           ┆ -0.01994, │\n",
       "│            ┆ 350…      ┆           ┆           ┆   ┆         ┆           ┆           ┆ … 0.0155… │\n",
       "└────────────┴───────────┴───────────┴───────────┴───┴─────────┴───────────┴───────────┴───────────┘"
      ]
     },
     "execution_count": 9,
     "metadata": {},
     "output_type": "execute_result"
    }
   ],
   "source": [
    "get_similar_cards(\"Phage the Untouchable\")"
   ]
  },
  {
   "cell_type": "code",
   "execution_count": 10,
   "metadata": {},
   "outputs": [
    {
     "name": "stdout",
     "output_type": "stream",
     "text": [
      "[0.9999998  0.8835136  0.8559968  0.8552623  0.8387737  0.8356919\n",
      " 0.8319116  0.8274675  0.82457006 0.8224121 ]\n"
     ]
    },
    {
     "data": {
      "text/html": [
       "<div><style>\n",
       ".dataframe > thead > tr,\n",
       ".dataframe > tbody > tr {\n",
       "  text-align: right;\n",
       "  white-space: pre-wrap;\n",
       "}\n",
       "</style>\n",
       "<small>shape: (10, 11)</small><table border=\"1\" class=\"dataframe\"><thead><tr><th>name</th><th>scryfallId</th><th>manaCost</th><th>type</th><th>text</th><th>power</th><th>toughness</th><th>loyalty</th><th>rarities</th><th>sets</th><th>embeds</th></tr><tr><td>str</td><td>str</td><td>str</td><td>str</td><td>str</td><td>str</td><td>str</td><td>str</td><td>list[enum]</td><td>list[enum]</td><td>array[f32, 768]</td></tr></thead><tbody><tr><td>&quot;Ancestral Recall&quot;</td><td>&quot;71283e4c-efd9-4a96-991c-6bbb16…</td><td>&quot;{U}&quot;</td><td>&quot;Instant&quot;</td><td>&quot;Target player draws three card…</td><td>null</td><td>null</td><td>null</td><td>[&quot;rare&quot;, &quot;mythic&quot;, … &quot;special&quot;]</td><td>[&quot;LEA&quot;, &quot;LEB&quot;, … &quot;30A&quot;]</td><td>[0.004586, -0.032401, … 0.01511]</td></tr><tr><td>&quot;Ancestral Reminiscence&quot;</td><td>&quot;625690d3-7131-45de-adea-9c9272…</td><td>&quot;{3}{U}&quot;</td><td>&quot;Sorcery&quot;</td><td>&quot;Draw three cards, then discard…</td><td>null</td><td>null</td><td>null</td><td>[&quot;common&quot;]</td><td>[&quot;LCI&quot;]</td><td>[0.025656, -0.001587, … 0.014957]</td></tr><tr><td>&quot;Recall&quot;</td><td>&quot;dd82d1f8-12bb-4b71-9a25-76a9dc…</td><td>&quot;{X}{X}{U}&quot;</td><td>&quot;Sorcery&quot;</td><td>&quot;Discard X cards, then return a…</td><td>null</td><td>null</td><td>null</td><td>[&quot;uncommon&quot;, &quot;rare&quot;]</td><td>[&quot;LEG&quot;, &quot;BCHR&quot;, … &quot;ME3&quot;]</td><td>[0.001042, -0.014233, … 0.003006]</td></tr><tr><td>&quot;Ancestral Memories&quot;</td><td>&quot;8642adc6-bf7f-4de8-a592-705285…</td><td>&quot;{2}{U}{U}{U}&quot;</td><td>&quot;Sorcery&quot;</td><td>&quot;Look at the top seven cards of…</td><td>null</td><td>null</td><td>null</td><td>[&quot;rare&quot;]</td><td>[&quot;MIR&quot;, &quot;POR&quot;, … &quot;PLST&quot;]</td><td>[0.027728, -0.007128, … -0.007718]</td></tr><tr><td>&quot;Ancient Craving&quot;</td><td>&quot;e3a46159-2a91-4c89-87d7-13b52b…</td><td>&quot;{3}{B}&quot;</td><td>&quot;Sorcery&quot;</td><td>&quot;You draw three cards and you l…</td><td>null</td><td>null</td><td>null</td><td>[&quot;uncommon&quot;, &quot;rare&quot;]</td><td>[&quot;P02&quot;, &quot;S99&quot;, … &quot;J22&quot;]</td><td>[0.011018, -0.021466, … 0.013647]</td></tr><tr><td>&quot;Hurkyl&#x27;s Recall&quot;</td><td>&quot;0d6439c1-9969-4fd0-b6ad-1a88c1…</td><td>&quot;{1}{U}&quot;</td><td>&quot;Instant&quot;</td><td>&quot;Return all artifacts target pl…</td><td>null</td><td>null</td><td>null</td><td>[&quot;rare&quot;]</td><td>[&quot;ATQ&quot;, &quot;3ED&quot;, … &quot;PLST&quot;]</td><td>[0.008612, -0.016034, … 0.026113]</td></tr><tr><td>&quot;Can&#x27;t Quite Recall&quot;</td><td>&quot;e65a3a97-88ab-4949-9aa5-3dd432…</td><td>&quot;{U}&quot;</td><td>&quot;Instant&quot;</td><td>&quot;Forbidden (This card can&#x27;t be …</td><td>null</td><td>null</td><td>null</td><td>[&quot;rare&quot;]</td><td>[&quot;MB2&quot;]</td><td>[0.028699, -0.037893, … -0.028869]</td></tr><tr><td>&quot;Ancestral Vision&quot;</td><td>&quot;9079c93e-3da8-442a-89d2-609a3e…</td><td>null</td><td>&quot;Sorcery&quot;</td><td>&quot;Suspend 4—{U} (Rather than cas…</td><td>null</td><td>null</td><td>null</td><td>[&quot;rare&quot;, &quot;mythic&quot;]</td><td>[&quot;TSP&quot;, &quot;DD2&quot;, … &quot;TSR&quot;]</td><td>[0.021448, -0.021472, … 0.000439]</td></tr><tr><td>&quot;Ancestral Tribute&quot;</td><td>&quot;3f28b2af-7891-49eb-a07f-5552b5…</td><td>&quot;{5}{W}{W}&quot;</td><td>&quot;Sorcery&quot;</td><td>&quot;You gain 2 life for each card …</td><td>null</td><td>null</td><td>null</td><td>[&quot;rare&quot;]</td><td>[&quot;ODY&quot;]</td><td>[0.007578, 0.005117, … -0.000875]</td></tr><tr><td>&quot;Ancestral Knowledge&quot;</td><td>&quot;05b90d72-00ac-4423-8cdf-e1471c…</td><td>&quot;{1}{U}&quot;</td><td>&quot;Enchantment&quot;</td><td>&quot;Cumulative upkeep {1} (At the …</td><td>null</td><td>null</td><td>null</td><td>[&quot;rare&quot;]</td><td>[&quot;WTH&quot;]</td><td>[0.029977, -0.035057, … 0.023326]</td></tr></tbody></table></div>"
      ],
      "text/plain": [
       "shape: (10, 11)\n",
       "┌────────────┬───────────┬───────────┬───────────┬───┬─────────┬───────────┬───────────┬───────────┐\n",
       "│ name       ┆ scryfallI ┆ manaCost  ┆ type      ┆ … ┆ loyalty ┆ rarities  ┆ sets      ┆ embeds    │\n",
       "│ ---        ┆ d         ┆ ---       ┆ ---       ┆   ┆ ---     ┆ ---       ┆ ---       ┆ ---       │\n",
       "│ str        ┆ ---       ┆ str       ┆ str       ┆   ┆ str     ┆ list[enum ┆ list[enum ┆ array[f32 │\n",
       "│            ┆ str       ┆           ┆           ┆   ┆         ┆ ]         ┆ ]         ┆ , 768]    │\n",
       "╞════════════╪═══════════╪═══════════╪═══════════╪═══╪═════════╪═══════════╪═══════════╪═══════════╡\n",
       "│ Ancestral  ┆ 71283e4c- ┆ {U}       ┆ Instant   ┆ … ┆ null    ┆ [\"rare\",  ┆ [\"LEA\",   ┆ [0.004586 │\n",
       "│ Recall     ┆ efd9-4a96 ┆           ┆           ┆   ┆         ┆ \"mythic\", ┆ \"LEB\", …  ┆ , -0.0324 │\n",
       "│            ┆ -991c-6bb ┆           ┆           ┆   ┆         ┆ … \"specia ┆ \"30A\"]    ┆ 01, …     │\n",
       "│            ┆ b16…      ┆           ┆           ┆   ┆         ┆ l\"…       ┆           ┆ 0.0151…   │\n",
       "│ Ancestral  ┆ 625690d3- ┆ {3}{U}    ┆ Sorcery   ┆ … ┆ null    ┆ [\"common\" ┆ [\"LCI\"]   ┆ [0.025656 │\n",
       "│ Reminiscen ┆ 7131-45de ┆           ┆           ┆   ┆         ┆ ]         ┆           ┆ , -0.0015 │\n",
       "│ ce         ┆ -adea-9c9 ┆           ┆           ┆   ┆         ┆           ┆           ┆ 87, …     │\n",
       "│            ┆ 272…      ┆           ┆           ┆   ┆         ┆           ┆           ┆ 0.0149…   │\n",
       "│ Recall     ┆ dd82d1f8- ┆ {X}{X}{U} ┆ Sorcery   ┆ … ┆ null    ┆ [\"uncommo ┆ [\"LEG\",   ┆ [0.001042 │\n",
       "│            ┆ 12bb-4b71 ┆           ┆           ┆   ┆         ┆ n\",       ┆ \"BCHR\", … ┆ , -0.0142 │\n",
       "│            ┆ -9a25-76a ┆           ┆           ┆   ┆         ┆ \"rare\"]   ┆ \"ME3\"]    ┆ 33, …     │\n",
       "│            ┆ 9dc…      ┆           ┆           ┆   ┆         ┆           ┆           ┆ 0.0030…   │\n",
       "│ Ancestral  ┆ 8642adc6- ┆ {2}{U}{U} ┆ Sorcery   ┆ … ┆ null    ┆ [\"rare\"]  ┆ [\"MIR\",   ┆ [0.027728 │\n",
       "│ Memories   ┆ bf7f-4de8 ┆ {U}       ┆           ┆   ┆         ┆           ┆ \"POR\", …  ┆ , -0.0071 │\n",
       "│            ┆ -a592-705 ┆           ┆           ┆   ┆         ┆           ┆ \"PLST\"]   ┆ 28, …     │\n",
       "│            ┆ 285…      ┆           ┆           ┆   ┆         ┆           ┆           ┆ -0.007…   │\n",
       "│ Ancient    ┆ e3a46159- ┆ {3}{B}    ┆ Sorcery   ┆ … ┆ null    ┆ [\"uncommo ┆ [\"P02\",   ┆ [0.011018 │\n",
       "│ Craving    ┆ 2a91-4c89 ┆           ┆           ┆   ┆         ┆ n\",       ┆ \"S99\", …  ┆ , -0.0214 │\n",
       "│            ┆ -87d7-13b ┆           ┆           ┆   ┆         ┆ \"rare\"]   ┆ \"J22\"]    ┆ 66, …     │\n",
       "│            ┆ 52b…      ┆           ┆           ┆   ┆         ┆           ┆           ┆ 0.0136…   │\n",
       "│ Hurkyl's   ┆ 0d6439c1- ┆ {1}{U}    ┆ Instant   ┆ … ┆ null    ┆ [\"rare\"]  ┆ [\"ATQ\",   ┆ [0.008612 │\n",
       "│ Recall     ┆ 9969-4fd0 ┆           ┆           ┆   ┆         ┆           ┆ \"3ED\", …  ┆ , -0.0160 │\n",
       "│            ┆ -b6ad-1a8 ┆           ┆           ┆   ┆         ┆           ┆ \"PLST\"]   ┆ 34, …     │\n",
       "│            ┆ 8c1…      ┆           ┆           ┆   ┆         ┆           ┆           ┆ 0.0261…   │\n",
       "│ Can't      ┆ e65a3a97- ┆ {U}       ┆ Instant   ┆ … ┆ null    ┆ [\"rare\"]  ┆ [\"MB2\"]   ┆ [0.028699 │\n",
       "│ Quite      ┆ 88ab-4949 ┆           ┆           ┆   ┆         ┆           ┆           ┆ , -0.0378 │\n",
       "│ Recall     ┆ -9aa5-3dd ┆           ┆           ┆   ┆         ┆           ┆           ┆ 93, …     │\n",
       "│            ┆ 432…      ┆           ┆           ┆   ┆         ┆           ┆           ┆ -0.028…   │\n",
       "│ Ancestral  ┆ 9079c93e- ┆ null      ┆ Sorcery   ┆ … ┆ null    ┆ [\"rare\",  ┆ [\"TSP\",   ┆ [0.021448 │\n",
       "│ Vision     ┆ 3da8-442a ┆           ┆           ┆   ┆         ┆ \"mythic\"] ┆ \"DD2\", …  ┆ , -0.0214 │\n",
       "│            ┆ -89d2-609 ┆           ┆           ┆   ┆         ┆           ┆ \"TSR\"]    ┆ 72, …     │\n",
       "│            ┆ a3e…      ┆           ┆           ┆   ┆         ┆           ┆           ┆ 0.0004…   │\n",
       "│ Ancestral  ┆ 3f28b2af- ┆ {5}{W}{W} ┆ Sorcery   ┆ … ┆ null    ┆ [\"rare\"]  ┆ [\"ODY\"]   ┆ [0.007578 │\n",
       "│ Tribute    ┆ 7891-49eb ┆           ┆           ┆   ┆         ┆           ┆           ┆ ,         │\n",
       "│            ┆ -a07f-555 ┆           ┆           ┆   ┆         ┆           ┆           ┆ 0.005117, │\n",
       "│            ┆ 2b5…      ┆           ┆           ┆   ┆         ┆           ┆           ┆ …         │\n",
       "│            ┆           ┆           ┆           ┆   ┆         ┆           ┆           ┆ -0.0008…  │\n",
       "│ Ancestral  ┆ 05b90d72- ┆ {1}{U}    ┆ Enchantme ┆ … ┆ null    ┆ [\"rare\"]  ┆ [\"WTH\"]   ┆ [0.029977 │\n",
       "│ Knowledge  ┆ 00ac-4423 ┆           ┆ nt        ┆   ┆         ┆           ┆           ┆ , -0.0350 │\n",
       "│            ┆ -8cdf-e14 ┆           ┆           ┆   ┆         ┆           ┆           ┆ 57, …     │\n",
       "│            ┆ 71c…      ┆           ┆           ┆   ┆         ┆           ┆           ┆ 0.0233…   │\n",
       "└────────────┴───────────┴───────────┴───────────┴───┴─────────┴───────────┴───────────┴───────────┘"
      ]
     },
     "execution_count": 10,
     "metadata": {},
     "output_type": "execute_result"
    }
   ],
   "source": [
    "get_similar_cards(\"Ancestral Recall\")"
   ]
  },
  {
   "cell_type": "code",
   "execution_count": 11,
   "metadata": {},
   "outputs": [
    {
     "name": "stdout",
     "output_type": "stream",
     "text": [
      "[1.         0.93609756 0.91325575 0.8724118  0.8580181  0.8514776\n",
      " 0.85034215 0.840147   0.8356309  0.83504695]\n"
     ]
    },
    {
     "data": {
      "text/html": [
       "<div><style>\n",
       ".dataframe > thead > tr,\n",
       ".dataframe > tbody > tr {\n",
       "  text-align: right;\n",
       "  white-space: pre-wrap;\n",
       "}\n",
       "</style>\n",
       "<small>shape: (10, 11)</small><table border=\"1\" class=\"dataframe\"><thead><tr><th>name</th><th>scryfallId</th><th>manaCost</th><th>type</th><th>text</th><th>power</th><th>toughness</th><th>loyalty</th><th>rarities</th><th>sets</th><th>embeds</th></tr><tr><td>str</td><td>str</td><td>str</td><td>str</td><td>str</td><td>str</td><td>str</td><td>str</td><td>list[enum]</td><td>list[enum]</td><td>array[f32, 768]</td></tr></thead><tbody><tr><td>&quot;Emrakul, the Aeons Torn&quot;</td><td>&quot;249db4d4-2542-47ee-a216-e13ffb…</td><td>&quot;{15}&quot;</td><td>&quot;Legendary Creature — Eldrazi&quot;</td><td>&quot;This spell can&#x27;t be countered.…</td><td>&quot;15&quot;</td><td>&quot;15&quot;</td><td>null</td><td>[&quot;mythic&quot;]</td><td>[&quot;PRM&quot;, &quot;PPRO&quot;, … &quot;2X2&quot;]</td><td>[0.02084, -0.006343, … 0.040324]</td></tr><tr><td>&quot;Emrakul, the Promised End&quot;</td><td>&quot;71911392-42b0-4b6d-baf7-918a4b…</td><td>&quot;{13}&quot;</td><td>&quot;Legendary Creature — Eldrazi&quot;</td><td>&quot;This spell costs {1} less to c…</td><td>&quot;13&quot;</td><td>&quot;13&quot;</td><td>null</td><td>[&quot;mythic&quot;]</td><td>[&quot;PEMN&quot;, &quot;EMN&quot;, … &quot;INR&quot;]</td><td>[0.010148, -0.005721, … 0.026989]</td></tr><tr><td>&quot;Emrakul, the World Anew&quot;</td><td>&quot;de77f5c3-b027-416b-8d9c-1b96c7…</td><td>&quot;{12}&quot;</td><td>&quot;Legendary Creature — Eldrazi&quot;</td><td>&quot;When you cast this spell, gain…</td><td>&quot;12&quot;</td><td>&quot;12&quot;</td><td>null</td><td>[&quot;mythic&quot;]</td><td>[&quot;PMH3&quot;, &quot;MH3&quot;]</td><td>[0.028247, -0.005238, … 0.049959]</td></tr><tr><td>&quot;Hand of Emrakul&quot;</td><td>&quot;84d602f4-5876-416a-95e5-821a28…</td><td>&quot;{9}&quot;</td><td>&quot;Creature — Eldrazi&quot;</td><td>&quot;You may sacrifice four Eldrazi…</td><td>&quot;7&quot;</td><td>&quot;7&quot;</td><td>null</td><td>[&quot;common&quot;]</td><td>[&quot;ROE&quot;]</td><td>[0.002368, -0.002853, … 0.036966]</td></tr><tr><td>&quot;Emrakul&#x27;s Hatcher&quot;</td><td>&quot;e442d1cf-3e17-4719-8d5b-512749…</td><td>&quot;{4}{R}&quot;</td><td>&quot;Creature — Eldrazi Drone&quot;</td><td>&quot;When ~ enters, create three 0/…</td><td>&quot;3&quot;</td><td>&quot;3&quot;</td><td>null</td><td>[&quot;common&quot;]</td><td>[&quot;ROE&quot;, &quot;DDP&quot;, &quot;PLST&quot;]</td><td>[0.003429, -0.002003, … 0.044771]</td></tr><tr><td>&quot;Emrakul&#x27;s Messenger&quot;</td><td>&quot;f0f818d7-320c-47b9-a083-40007f…</td><td>&quot;{1}{U}&quot;</td><td>&quot;Creature — Eldrazi Faerie Rogu…</td><td>&quot;Devoid (This card has no color…</td><td>&quot;2&quot;</td><td>&quot;1&quot;</td><td>null</td><td>[&quot;uncommon&quot;]</td><td>[&quot;MH3&quot;]</td><td>[0.025778, 0.004087, … 0.016038]</td></tr><tr><td>&quot;Vestige of Emrakul&quot;</td><td>&quot;a5d84986-64a1-4bd1-a4f6-3eb147…</td><td>&quot;{3}{R}&quot;</td><td>&quot;Creature — Eldrazi Drone&quot;</td><td>&quot;Devoid (This card has no color…</td><td>&quot;3&quot;</td><td>&quot;4&quot;</td><td>null</td><td>[&quot;common&quot;]</td><td>[&quot;BFZ&quot;]</td><td>[0.019801, -0.002915, … 0.017911]</td></tr><tr><td>&quot;Boon of Emrakul&quot;</td><td>&quot;e4c84a8c-9fd3-4a63-b322-809a74…</td><td>&quot;{2}{B}&quot;</td><td>&quot;Enchantment — Aura&quot;</td><td>&quot;Enchant creature\\nEnchanted cr…</td><td>null</td><td>null</td><td>null</td><td>[&quot;common&quot;]</td><td>[&quot;EMN&quot;, &quot;PLST&quot;]</td><td>[0.02423, -0.020273, … 0.018566]</td></tr><tr><td>&quot;Breaker of Creation&quot;</td><td>&quot;72449552-aa2c-4ae3-846f-df523c…</td><td>&quot;{6}{C}{C}&quot;</td><td>&quot;Creature — Eldrazi&quot;</td><td>&quot;When you cast this spell, you …</td><td>&quot;8&quot;</td><td>&quot;4&quot;</td><td>null</td><td>[&quot;uncommon&quot;]</td><td>[&quot;MH3&quot;]</td><td>[0.009795, 0.007539, … 0.024797]</td></tr><tr><td>&quot;Emrakul and Chatterfang&quot;</td><td>&quot;a05d2a64-fc37-4bb8-ad98-0cbf08…</td><td>&quot;{8}{G}{G}{G}&quot;</td><td>&quot;Legendary Creature — Eldrazi S…</td><td>&quot;Devoid (This card has no color…</td><td>&quot;15&quot;</td><td>&quot;15&quot;</td><td>null</td><td>[&quot;rare&quot;]</td><td>[&quot;DA1&quot;]</td><td>[0.003994, 0.005475, … 0.017274]</td></tr></tbody></table></div>"
      ],
      "text/plain": [
       "shape: (10, 11)\n",
       "┌────────────┬───────────┬───────────┬───────────┬───┬─────────┬───────────┬───────────┬───────────┐\n",
       "│ name       ┆ scryfallI ┆ manaCost  ┆ type      ┆ … ┆ loyalty ┆ rarities  ┆ sets      ┆ embeds    │\n",
       "│ ---        ┆ d         ┆ ---       ┆ ---       ┆   ┆ ---     ┆ ---       ┆ ---       ┆ ---       │\n",
       "│ str        ┆ ---       ┆ str       ┆ str       ┆   ┆ str     ┆ list[enum ┆ list[enum ┆ array[f32 │\n",
       "│            ┆ str       ┆           ┆           ┆   ┆         ┆ ]         ┆ ]         ┆ , 768]    │\n",
       "╞════════════╪═══════════╪═══════════╪═══════════╪═══╪═════════╪═══════════╪═══════════╪═══════════╡\n",
       "│ Emrakul,   ┆ 249db4d4- ┆ {15}      ┆ Legendary ┆ … ┆ null    ┆ [\"mythic\" ┆ [\"PRM\",   ┆ [0.02084, │\n",
       "│ the Aeons  ┆ 2542-47ee ┆           ┆ Creature  ┆   ┆         ┆ ]         ┆ \"PPRO\", … ┆ -0.006343 │\n",
       "│ Torn       ┆ -a216-e13 ┆           ┆ — Eldrazi ┆   ┆         ┆           ┆ \"2X2\"]    ┆ , …       │\n",
       "│            ┆ ffb…      ┆           ┆           ┆   ┆         ┆           ┆           ┆ 0.04032…  │\n",
       "│ Emrakul,   ┆ 71911392- ┆ {13}      ┆ Legendary ┆ … ┆ null    ┆ [\"mythic\" ┆ [\"PEMN\",  ┆ [0.010148 │\n",
       "│ the        ┆ 42b0-4b6d ┆           ┆ Creature  ┆   ┆         ┆ ]         ┆ \"EMN\", …  ┆ , -0.0057 │\n",
       "│ Promised   ┆ -baf7-918 ┆           ┆ — Eldrazi ┆   ┆         ┆           ┆ \"INR\"]    ┆ 21, …     │\n",
       "│ End        ┆ a4b…      ┆           ┆           ┆   ┆         ┆           ┆           ┆ 0.0269…   │\n",
       "│ Emrakul,   ┆ de77f5c3- ┆ {12}      ┆ Legendary ┆ … ┆ null    ┆ [\"mythic\" ┆ [\"PMH3\",  ┆ [0.028247 │\n",
       "│ the World  ┆ b027-416b ┆           ┆ Creature  ┆   ┆         ┆ ]         ┆ \"MH3\"]    ┆ , -0.0052 │\n",
       "│ Anew       ┆ -8d9c-1b9 ┆           ┆ — Eldrazi ┆   ┆         ┆           ┆           ┆ 38, …     │\n",
       "│            ┆ 6c7…      ┆           ┆           ┆   ┆         ┆           ┆           ┆ 0.0499…   │\n",
       "│ Hand of    ┆ 84d602f4- ┆ {9}       ┆ Creature  ┆ … ┆ null    ┆ [\"common\" ┆ [\"ROE\"]   ┆ [0.002368 │\n",
       "│ Emrakul    ┆ 5876-416a ┆           ┆ — Eldrazi ┆   ┆         ┆ ]         ┆           ┆ , -0.0028 │\n",
       "│            ┆ -95e5-821 ┆           ┆           ┆   ┆         ┆           ┆           ┆ 53, …     │\n",
       "│            ┆ a28…      ┆           ┆           ┆   ┆         ┆           ┆           ┆ 0.0369…   │\n",
       "│ Emrakul's  ┆ e442d1cf- ┆ {4}{R}    ┆ Creature  ┆ … ┆ null    ┆ [\"common\" ┆ [\"ROE\",   ┆ [0.003429 │\n",
       "│ Hatcher    ┆ 3e17-4719 ┆           ┆ — Eldrazi ┆   ┆         ┆ ]         ┆ \"DDP\",    ┆ , -0.0020 │\n",
       "│            ┆ -8d5b-512 ┆           ┆ Drone     ┆   ┆         ┆           ┆ \"PLST\"]   ┆ 03, …     │\n",
       "│            ┆ 749…      ┆           ┆           ┆   ┆         ┆           ┆           ┆ 0.0447…   │\n",
       "│ Emrakul's  ┆ f0f818d7- ┆ {1}{U}    ┆ Creature  ┆ … ┆ null    ┆ [\"uncommo ┆ [\"MH3\"]   ┆ [0.025778 │\n",
       "│ Messenger  ┆ 320c-47b9 ┆           ┆ — Eldrazi ┆   ┆         ┆ n\"]       ┆           ┆ ,         │\n",
       "│            ┆ -a083-400 ┆           ┆ Faerie    ┆   ┆         ┆           ┆           ┆ 0.004087, │\n",
       "│            ┆ 07f…      ┆           ┆ Rogu…     ┆   ┆         ┆           ┆           ┆ …         │\n",
       "│            ┆           ┆           ┆           ┆   ┆         ┆           ┆           ┆ 0.01603…  │\n",
       "│ Vestige of ┆ a5d84986- ┆ {3}{R}    ┆ Creature  ┆ … ┆ null    ┆ [\"common\" ┆ [\"BFZ\"]   ┆ [0.019801 │\n",
       "│ Emrakul    ┆ 64a1-4bd1 ┆           ┆ — Eldrazi ┆   ┆         ┆ ]         ┆           ┆ , -0.0029 │\n",
       "│            ┆ -a4f6-3eb ┆           ┆ Drone     ┆   ┆         ┆           ┆           ┆ 15, …     │\n",
       "│            ┆ 147…      ┆           ┆           ┆   ┆         ┆           ┆           ┆ 0.0179…   │\n",
       "│ Boon of    ┆ e4c84a8c- ┆ {2}{B}    ┆ Enchantme ┆ … ┆ null    ┆ [\"common\" ┆ [\"EMN\",   ┆ [0.02423, │\n",
       "│ Emrakul    ┆ 9fd3-4a63 ┆           ┆ nt — Aura ┆   ┆         ┆ ]         ┆ \"PLST\"]   ┆ -0.020273 │\n",
       "│            ┆ -b322-809 ┆           ┆           ┆   ┆         ┆           ┆           ┆ , …       │\n",
       "│            ┆ a74…      ┆           ┆           ┆   ┆         ┆           ┆           ┆ 0.01856…  │\n",
       "│ Breaker of ┆ 72449552- ┆ {6}{C}{C} ┆ Creature  ┆ … ┆ null    ┆ [\"uncommo ┆ [\"MH3\"]   ┆ [0.009795 │\n",
       "│ Creation   ┆ aa2c-4ae3 ┆           ┆ — Eldrazi ┆   ┆         ┆ n\"]       ┆           ┆ ,         │\n",
       "│            ┆ -846f-df5 ┆           ┆           ┆   ┆         ┆           ┆           ┆ 0.007539, │\n",
       "│            ┆ 23c…      ┆           ┆           ┆   ┆         ┆           ┆           ┆ …         │\n",
       "│            ┆           ┆           ┆           ┆   ┆         ┆           ┆           ┆ 0.02479…  │\n",
       "│ Emrakul    ┆ a05d2a64- ┆ {8}{G}{G} ┆ Legendary ┆ … ┆ null    ┆ [\"rare\"]  ┆ [\"DA1\"]   ┆ [0.003994 │\n",
       "│ and Chatte ┆ fc37-4bb8 ┆ {G}       ┆ Creature  ┆   ┆         ┆           ┆           ┆ ,         │\n",
       "│ rfang      ┆ -ad98-0cb ┆           ┆ — Eldrazi ┆   ┆         ┆           ┆           ┆ 0.005475, │\n",
       "│            ┆ f08…      ┆           ┆ S…        ┆   ┆         ┆           ┆           ┆ …         │\n",
       "│            ┆           ┆           ┆           ┆   ┆         ┆           ┆           ┆ 0.01727…  │\n",
       "└────────────┴───────────┴───────────┴───────────┴───┴─────────┴───────────┴───────────┴───────────┘"
      ]
     },
     "execution_count": 11,
     "metadata": {},
     "output_type": "execute_result"
    }
   ],
   "source": [
    "get_similar_cards(\"Emrakul, the Aeons Torn\")"
   ]
  },
  {
   "cell_type": "code",
   "execution_count": 12,
   "metadata": {},
   "outputs": [
    {
     "name": "stdout",
     "output_type": "stream",
     "text": [
      "[1.0000001  0.89639765 0.88548464 0.8805276  0.87088287 0.8465492\n",
      " 0.84012145 0.8385218  0.8321432  0.8298278 ]\n"
     ]
    },
    {
     "data": {
      "text/html": [
       "<div><style>\n",
       ".dataframe > thead > tr,\n",
       ".dataframe > tbody > tr {\n",
       "  text-align: right;\n",
       "  white-space: pre-wrap;\n",
       "}\n",
       "</style>\n",
       "<small>shape: (10, 11)</small><table border=\"1\" class=\"dataframe\"><thead><tr><th>name</th><th>scryfallId</th><th>manaCost</th><th>type</th><th>text</th><th>power</th><th>toughness</th><th>loyalty</th><th>rarities</th><th>sets</th><th>embeds</th></tr><tr><td>str</td><td>str</td><td>str</td><td>str</td><td>str</td><td>str</td><td>str</td><td>str</td><td>list[enum]</td><td>list[enum]</td><td>array[f32, 768]</td></tr></thead><tbody><tr><td>&quot;Lightning Helix&quot;</td><td>&quot;7e478972-27a6-4a89-a8d7-cb1abd…</td><td>&quot;{R}{W}&quot;</td><td>&quot;Instant&quot;</td><td>&quot;~ deals 3 damage to any target…</td><td>null</td><td>null</td><td>null</td><td>[&quot;uncommon&quot;, &quot;rare&quot;]</td><td>[&quot;PRM&quot;, &quot;RAV&quot;, … &quot;MKM&quot;]</td><td>[0.003679, -0.043555, … 0.012915]</td></tr><tr><td>&quot;Warleader&#x27;s Helix&quot;</td><td>&quot;989f8049-c4d2-4729-b35f-7bd7d8…</td><td>&quot;{2}{R}{W}&quot;</td><td>&quot;Instant&quot;</td><td>&quot;~ deals 4 damage to any target…</td><td>null</td><td>null</td><td>null</td><td>[&quot;uncommon&quot;, &quot;rare&quot;]</td><td>[&quot;PRM&quot;, &quot;DGM&quot;, … &quot;UMA&quot;]</td><td>[-0.018738, -0.041211, … 0.02561]</td></tr><tr><td>&quot;Lightning Bolt&quot;</td><td>&quot;77c6fa74-5543-42ac-9ead-0e890b…</td><td>&quot;{R}&quot;</td><td>&quot;Instant&quot;</td><td>&quot;~ deals 3 damage to any target…</td><td>null</td><td>null</td><td>null</td><td>[&quot;common&quot;, &quot;uncommon&quot;, … &quot;special&quot;]</td><td>[&quot;LEA&quot;, &quot;LEB&quot;, … &quot;CLU&quot;]</td><td>[0.00657, -0.009445, … 0.027204]</td></tr><tr><td>&quot;Lightning Blast&quot;</td><td>&quot;2ca1ead8-44d8-406f-af36-276f41…</td><td>&quot;{3}{R}&quot;</td><td>&quot;Instant&quot;</td><td>&quot;~ deals 4 damage to any target…</td><td>null</td><td>null</td><td>null</td><td>[&quot;common&quot;, &quot;uncommon&quot;]</td><td>[&quot;TMP&quot;, &quot;6ED&quot;, … &quot;TPR&quot;]</td><td>[0.00608, -0.005626, … 0.021651]</td></tr><tr><td>&quot;Lightning Strike&quot;</td><td>&quot;983f30b6-a65b-4a14-a9a0-e66870…</td><td>&quot;{1}{R}&quot;</td><td>&quot;Instant&quot;</td><td>&quot;~ deals 3 damage to any target…</td><td>null</td><td>null</td><td>null</td><td>[&quot;common&quot;, &quot;uncommon&quot;, &quot;rare&quot;]</td><td>[&quot;THS&quot;, &quot;M15&quot;, … &quot;PCBB&quot;]</td><td>[0.029015, -0.009396, … 0.025029]</td></tr><tr><td>&quot;Psionic Blast&quot;</td><td>&quot;2b04482b-0f53-41d6-851b-917a92…</td><td>&quot;{2}{U}&quot;</td><td>&quot;Instant&quot;</td><td>&quot;~ deals 4 damage to any target…</td><td>null</td><td>null</td><td>null</td><td>[&quot;uncommon&quot;, &quot;rare&quot;, &quot;special&quot;]</td><td>[&quot;LEA&quot;, &quot;LEB&quot;, … &quot;30A&quot;]</td><td>[-0.000368, -0.019462, … 0.030352]</td></tr><tr><td>&quot;Lightning Volley&quot;</td><td>&quot;b2af8746-033d-4a8a-b62d-ab5add…</td><td>&quot;{3}{R}&quot;</td><td>&quot;Instant&quot;</td><td>&quot;Until end of turn, creatures y…</td><td>null</td><td>null</td><td>null</td><td>[&quot;uncommon&quot;]</td><td>[&quot;BNG&quot;]</td><td>[-0.003036, -0.027307, … 0.009499]</td></tr><tr><td>&quot;Homing Lightning&quot;</td><td>&quot;00bca3e9-43c9-4647-8259-00580c…</td><td>&quot;{2}{R}{R}&quot;</td><td>&quot;Instant&quot;</td><td>&quot;~ deals 4 damage to target cre…</td><td>null</td><td>null</td><td>null</td><td>[&quot;uncommon&quot;]</td><td>[&quot;GTC&quot;, &quot;JMP&quot;, &quot;RVR&quot;]</td><td>[-0.026547, -0.005318, … 0.028186]</td></tr><tr><td>&quot;Foundry Helix&quot;</td><td>&quot;9c54b7c6-f94c-4349-8725-319c54…</td><td>&quot;{1}{R}{W}&quot;</td><td>&quot;Instant&quot;</td><td>&quot;As an additional cost to cast …</td><td>null</td><td>null</td><td>null</td><td>[&quot;common&quot;]</td><td>[&quot;MH2&quot;]</td><td>[0.002449, -0.062502, … 0.032006]</td></tr><tr><td>&quot;Arc Lightning&quot;</td><td>&quot;c96acf23-66d9-465e-8534-8bdcd7…</td><td>&quot;{2}{R}&quot;</td><td>&quot;Sorcery&quot;</td><td>&quot;~ deals 3 damage divided as yo…</td><td>null</td><td>null</td><td>null</td><td>[&quot;common&quot;, &quot;uncommon&quot;, &quot;rare&quot;]</td><td>[&quot;USG&quot;, &quot;WC99&quot;, … &quot;PLST&quot;]</td><td>[0.023523, 0.04182, … 0.018414]</td></tr></tbody></table></div>"
      ],
      "text/plain": [
       "shape: (10, 11)\n",
       "┌────────────┬────────────┬───────────┬─────────┬───┬─────────┬────────────┬───────────┬───────────┐\n",
       "│ name       ┆ scryfallId ┆ manaCost  ┆ type    ┆ … ┆ loyalty ┆ rarities   ┆ sets      ┆ embeds    │\n",
       "│ ---        ┆ ---        ┆ ---       ┆ ---     ┆   ┆ ---     ┆ ---        ┆ ---       ┆ ---       │\n",
       "│ str        ┆ str        ┆ str       ┆ str     ┆   ┆ str     ┆ list[enum] ┆ list[enum ┆ array[f32 │\n",
       "│            ┆            ┆           ┆         ┆   ┆         ┆            ┆ ]         ┆ , 768]    │\n",
       "╞════════════╪════════════╪═══════════╪═════════╪═══╪═════════╪════════════╪═══════════╪═══════════╡\n",
       "│ Lightning  ┆ 7e478972-2 ┆ {R}{W}    ┆ Instant ┆ … ┆ null    ┆ [\"uncommon ┆ [\"PRM\",   ┆ [0.003679 │\n",
       "│ Helix      ┆ 7a6-4a89-a ┆           ┆         ┆   ┆         ┆ \", \"rare\"] ┆ \"RAV\", …  ┆ , -0.0435 │\n",
       "│            ┆ 8d7-cb1abd ┆           ┆         ┆   ┆         ┆            ┆ \"MKM\"]    ┆ 55, …     │\n",
       "│            ┆ …          ┆           ┆         ┆   ┆         ┆            ┆           ┆ 0.0129…   │\n",
       "│ Warleader' ┆ 989f8049-c ┆ {2}{R}{W} ┆ Instant ┆ … ┆ null    ┆ [\"uncommon ┆ [\"PRM\",   ┆ [-0.01873 │\n",
       "│ s Helix    ┆ 4d2-4729-b ┆           ┆         ┆   ┆         ┆ \", \"rare\"] ┆ \"DGM\", …  ┆ 8, -0.041 │\n",
       "│            ┆ 35f-7bd7d8 ┆           ┆         ┆   ┆         ┆            ┆ \"UMA\"]    ┆ 211, …    │\n",
       "│            ┆ …          ┆           ┆         ┆   ┆         ┆            ┆           ┆ 0.025…    │\n",
       "│ Lightning  ┆ 77c6fa74-5 ┆ {R}       ┆ Instant ┆ … ┆ null    ┆ [\"common\", ┆ [\"LEA\",   ┆ [0.00657, │\n",
       "│ Bolt       ┆ 543-42ac-9 ┆           ┆         ┆   ┆         ┆ \"uncommon\" ┆ \"LEB\", …  ┆ -0.009445 │\n",
       "│            ┆ ead-0e890b ┆           ┆         ┆   ┆         ┆ , … \"spec… ┆ \"CLU\"]    ┆ , …       │\n",
       "│            ┆ …          ┆           ┆         ┆   ┆         ┆            ┆           ┆ 0.02720…  │\n",
       "│ Lightning  ┆ 2ca1ead8-4 ┆ {3}{R}    ┆ Instant ┆ … ┆ null    ┆ [\"common\", ┆ [\"TMP\",   ┆ [0.00608, │\n",
       "│ Blast      ┆ 4d8-406f-a ┆           ┆         ┆   ┆         ┆ \"uncommon\" ┆ \"6ED\", …  ┆ -0.005626 │\n",
       "│            ┆ f36-276f41 ┆           ┆         ┆   ┆         ┆ ]          ┆ \"TPR\"]    ┆ , …       │\n",
       "│            ┆ …          ┆           ┆         ┆   ┆         ┆            ┆           ┆ 0.02165…  │\n",
       "│ Lightning  ┆ 983f30b6-a ┆ {1}{R}    ┆ Instant ┆ … ┆ null    ┆ [\"common\", ┆ [\"THS\",   ┆ [0.029015 │\n",
       "│ Strike     ┆ 65b-4a14-a ┆           ┆         ┆   ┆         ┆ \"uncommon\" ┆ \"M15\", …  ┆ , -0.0093 │\n",
       "│            ┆ 9a0-e66870 ┆           ┆         ┆   ┆         ┆ , \"rare\"]  ┆ \"PCBB\"]   ┆ 96, …     │\n",
       "│            ┆ …          ┆           ┆         ┆   ┆         ┆            ┆           ┆ 0.0250…   │\n",
       "│ Psionic    ┆ 2b04482b-0 ┆ {2}{U}    ┆ Instant ┆ … ┆ null    ┆ [\"uncommon ┆ [\"LEA\",   ┆ [-0.00036 │\n",
       "│ Blast      ┆ f53-41d6-8 ┆           ┆         ┆   ┆         ┆ \", \"rare\", ┆ \"LEB\", …  ┆ 8, -0.019 │\n",
       "│            ┆ 51b-917a92 ┆           ┆         ┆   ┆         ┆ \"special\"… ┆ \"30A\"]    ┆ 462, …    │\n",
       "│            ┆ …          ┆           ┆         ┆   ┆         ┆            ┆           ┆ 0.030…    │\n",
       "│ Lightning  ┆ b2af8746-0 ┆ {3}{R}    ┆ Instant ┆ … ┆ null    ┆ [\"uncommon ┆ [\"BNG\"]   ┆ [-0.00303 │\n",
       "│ Volley     ┆ 33d-4a8a-b ┆           ┆         ┆   ┆         ┆ \"]         ┆           ┆ 6, -0.027 │\n",
       "│            ┆ 62d-ab5add ┆           ┆         ┆   ┆         ┆            ┆           ┆ 307, …    │\n",
       "│            ┆ …          ┆           ┆         ┆   ┆         ┆            ┆           ┆ 0.009…    │\n",
       "│ Homing     ┆ 00bca3e9-4 ┆ {2}{R}{R} ┆ Instant ┆ … ┆ null    ┆ [\"uncommon ┆ [\"GTC\",   ┆ [-0.02654 │\n",
       "│ Lightning  ┆ 3c9-4647-8 ┆           ┆         ┆   ┆         ┆ \"]         ┆ \"JMP\",    ┆ 7, -0.005 │\n",
       "│            ┆ 259-00580c ┆           ┆         ┆   ┆         ┆            ┆ \"RVR\"]    ┆ 318, …    │\n",
       "│            ┆ …          ┆           ┆         ┆   ┆         ┆            ┆           ┆ 0.028…    │\n",
       "│ Foundry    ┆ 9c54b7c6-f ┆ {1}{R}{W} ┆ Instant ┆ … ┆ null    ┆ [\"common\"] ┆ [\"MH2\"]   ┆ [0.002449 │\n",
       "│ Helix      ┆ 94c-4349-8 ┆           ┆         ┆   ┆         ┆            ┆           ┆ , -0.0625 │\n",
       "│            ┆ 725-319c54 ┆           ┆         ┆   ┆         ┆            ┆           ┆ 02, …     │\n",
       "│            ┆ …          ┆           ┆         ┆   ┆         ┆            ┆           ┆ 0.0320…   │\n",
       "│ Arc        ┆ c96acf23-6 ┆ {2}{R}    ┆ Sorcery ┆ … ┆ null    ┆ [\"common\", ┆ [\"USG\",   ┆ [0.023523 │\n",
       "│ Lightning  ┆ 6d9-465e-8 ┆           ┆         ┆   ┆         ┆ \"uncommon\" ┆ \"WC99\", … ┆ ,         │\n",
       "│            ┆ 534-8bdcd7 ┆           ┆         ┆   ┆         ┆ , \"rare\"]  ┆ \"PLST\"]   ┆ 0.04182,  │\n",
       "│            ┆ …          ┆           ┆         ┆   ┆         ┆            ┆           ┆ …         │\n",
       "│            ┆            ┆           ┆         ┆   ┆         ┆            ┆           ┆ 0.018414… │\n",
       "└────────────┴────────────┴───────────┴─────────┴───┴─────────┴────────────┴───────────┴───────────┘"
      ]
     },
     "execution_count": 12,
     "metadata": {},
     "output_type": "execute_result"
    }
   ],
   "source": [
    "get_similar_cards(\"Lightning Helix\")"
   ]
  },
  {
   "cell_type": "markdown",
   "metadata": {},
   "source": [
    "## Parametric Filters\n"
   ]
  },
  {
   "cell_type": "code",
   "execution_count": 18,
   "metadata": {},
   "outputs": [],
   "source": [
    "def get_similar_cards_filtered(\n",
    "    card_name, mana=None, card_type=None, text_partial=None, set_card=None\n",
    "):\n",
    "    query_embed = (\n",
    "        df.filter(pl.col(\"name\") == card_name)[\"embeds\"].to_numpy(allow_copy=False)\n",
    "    )[0]\n",
    "\n",
    "    embed_f = df.lazy()\n",
    "\n",
    "    if mana:\n",
    "        embed_f = embed_f.filter(pl.col(\"manaCost\").str.contains(mana, literal=True))\n",
    "    if card_type:\n",
    "        embed_f = embed_f.filter(pl.col(\"type\").str.contains(card_type, literal=True))\n",
    "    if text_partial:\n",
    "        embed_f = embed_f.filter(\n",
    "            pl.col(\"text\").str.contains(text_partial, literal=True)\n",
    "        )\n",
    "    if set_card:\n",
    "        embed_f = embed_f.filter(pl.col(\"sets\").list.contains(set_card))\n",
    "\n",
    "    embed_f = embed_f.collect()\n",
    "    embeddings_f = embed_f[\"embeds\"].to_numpy(allow_copy=False)\n",
    "\n",
    "    idx, score = fast_dot_product(query_embed, embeddings_f, k=9 + 1)\n",
    "    print(score)\n",
    "    return embed_f[idx]"
   ]
  },
  {
   "cell_type": "code",
   "execution_count": 19,
   "metadata": {},
   "outputs": [
    {
     "name": "stdout",
     "output_type": "stream",
     "text": [
      "[0.82451946 0.82339114 0.8232881  0.80117166 0.7998211  0.79381216\n",
      " 0.7932102  0.791517   0.7912765  0.7907486 ]\n"
     ]
    },
    {
     "data": {
      "text/html": [
       "<div><style>\n",
       ".dataframe > thead > tr,\n",
       ".dataframe > tbody > tr {\n",
       "  text-align: right;\n",
       "  white-space: pre-wrap;\n",
       "}\n",
       "</style>\n",
       "<small>shape: (10, 11)</small><table border=\"1\" class=\"dataframe\"><thead><tr><th>name</th><th>scryfallId</th><th>manaCost</th><th>type</th><th>text</th><th>power</th><th>toughness</th><th>loyalty</th><th>rarities</th><th>sets</th><th>embeds</th></tr><tr><td>str</td><td>str</td><td>str</td><td>str</td><td>str</td><td>str</td><td>str</td><td>str</td><td>list[enum]</td><td>list[enum]</td><td>array[f32, 768]</td></tr></thead><tbody><tr><td>&quot;Dark Nourishment&quot;</td><td>&quot;053c4cf0-992b-4f76-b8d1-cd67f8…</td><td>&quot;{4}{B}&quot;</td><td>&quot;Instant&quot;</td><td>&quot;~ deals 3 damage to any target…</td><td>null</td><td>null</td><td>null</td><td>[&quot;uncommon&quot;]</td><td>[&quot;XLN&quot;]</td><td>[-0.039333, -0.022904, … 0.02819]</td></tr><tr><td>&quot;Smiting Helix&quot;</td><td>&quot;07c17401-6b4d-4280-8962-46e380…</td><td>&quot;{3}{B}&quot;</td><td>&quot;Sorcery&quot;</td><td>&quot;~ deals 3 damage to any target…</td><td>null</td><td>null</td><td>null</td><td>[&quot;uncommon&quot;]</td><td>[&quot;MH1&quot;, &quot;PLST&quot;]</td><td>[0.012835, -0.047013, … 0.002875]</td></tr><tr><td>&quot;Essence Extraction&quot;</td><td>&quot;5f7d9c6a-ddd9-4391-b229-d9cf20…</td><td>&quot;{1}{B}{B}&quot;</td><td>&quot;Instant&quot;</td><td>&quot;~ deals 3 damage to target cre…</td><td>null</td><td>null</td><td>null</td><td>[&quot;uncommon&quot;]</td><td>[&quot;PRM&quot;, &quot;PKLD&quot;, … &quot;KLR&quot;]</td><td>[0.018243, -0.025328, … 0.00808]</td></tr><tr><td>&quot;Agonizing Syphon&quot;</td><td>&quot;83053171-6ee4-43ca-98a7-042139…</td><td>&quot;{3}{B}&quot;</td><td>&quot;Sorcery&quot;</td><td>&quot;~ deals 3 damage to any target…</td><td>null</td><td>null</td><td>null</td><td>[&quot;common&quot;]</td><td>[&quot;M20&quot;, &quot;JMP&quot;, &quot;J25&quot;]</td><td>[-0.004245, 0.011405, … 0.034822]</td></tr><tr><td>&quot;Breath of Malfegor&quot;</td><td>&quot;0e855b4e-71c3-49b8-acd5-e509b1…</td><td>&quot;{3}{B}{R}&quot;</td><td>&quot;Instant&quot;</td><td>&quot;~ deals 5 damage to each oppon…</td><td>null</td><td>null</td><td>null</td><td>[&quot;common&quot;, &quot;rare&quot;]</td><td>[&quot;ARB&quot;, &quot;PIDW&quot;, &quot;SCD&quot;]</td><td>[-0.033756, -0.008756, … -0.006077]</td></tr><tr><td>&quot;Infernal Grasp&quot;</td><td>&quot;f1168f11-759d-4125-800f-f18816…</td><td>&quot;{1}{B}&quot;</td><td>&quot;Instant&quot;</td><td>&quot;Destroy target creature. You l…</td><td>null</td><td>null</td><td>null</td><td>[&quot;uncommon&quot;, &quot;rare&quot;]</td><td>[&quot;MID&quot;, &quot;DBL&quot;, … &quot;INR&quot;]</td><td>[-0.028017, -0.015341, … 0.044418]</td></tr><tr><td>&quot;Lightning Reaver&quot;</td><td>&quot;24a0860d-d3b9-4a00-a8cb-617bc3…</td><td>&quot;{3}{B}{R}&quot;</td><td>&quot;Creature — Zombie Beast&quot;</td><td>&quot;Haste; fear (This creature can…</td><td>&quot;3&quot;</td><td>&quot;3&quot;</td><td>null</td><td>[&quot;rare&quot;]</td><td>[&quot;ARB&quot;]</td><td>[-0.02307, 0.002059, … 0.013735]</td></tr><tr><td>&quot;Crackling Doom&quot;</td><td>&quot;a66e5673-e34b-46e8-a0e4-55f3ee…</td><td>&quot;{R}{W}{B}&quot;</td><td>&quot;Instant&quot;</td><td>&quot;~ deals 2 damage to each oppon…</td><td>null</td><td>null</td><td>null</td><td>[&quot;uncommon&quot;, &quot;rare&quot;]</td><td>[&quot;PKTK&quot;, &quot;KTK&quot;, … &quot;2X2&quot;]</td><td>[-0.014599, 0.012536, … 0.02133]</td></tr><tr><td>&quot;Essence Vortex&quot;</td><td>&quot;fe07e496-5070-4116-a91a-a3bbe1…</td><td>&quot;{1}{U}{B}&quot;</td><td>&quot;Instant&quot;</td><td>&quot;Destroy target creature unless…</td><td>null</td><td>null</td><td>null</td><td>[&quot;uncommon&quot;]</td><td>[&quot;ICE&quot;]</td><td>[0.004594, -0.042689, … 0.037581]</td></tr><tr><td>&quot;Lightning Skelemental&quot;</td><td>&quot;a801a5ce-0afe-4c4f-a22c-7eabc4…</td><td>&quot;{B}{R}{R}&quot;</td><td>&quot;Creature — Elemental Skeleton&quot;</td><td>&quot;Trample, haste\\nWhenever ~ dea…</td><td>&quot;6&quot;</td><td>&quot;1&quot;</td><td>null</td><td>[&quot;rare&quot;]</td><td>[&quot;MH1&quot;, &quot;PLST&quot;]</td><td>[-0.000449, -0.015212, … 0.022588]</td></tr></tbody></table></div>"
      ],
      "text/plain": [
       "shape: (10, 11)\n",
       "┌────────────┬───────────┬───────────┬───────────┬───┬─────────┬───────────┬───────────┬───────────┐\n",
       "│ name       ┆ scryfallI ┆ manaCost  ┆ type      ┆ … ┆ loyalty ┆ rarities  ┆ sets      ┆ embeds    │\n",
       "│ ---        ┆ d         ┆ ---       ┆ ---       ┆   ┆ ---     ┆ ---       ┆ ---       ┆ ---       │\n",
       "│ str        ┆ ---       ┆ str       ┆ str       ┆   ┆ str     ┆ list[enum ┆ list[enum ┆ array[f32 │\n",
       "│            ┆ str       ┆           ┆           ┆   ┆         ┆ ]         ┆ ]         ┆ , 768]    │\n",
       "╞════════════╪═══════════╪═══════════╪═══════════╪═══╪═════════╪═══════════╪═══════════╪═══════════╡\n",
       "│ Dark Nouri ┆ 053c4cf0- ┆ {4}{B}    ┆ Instant   ┆ … ┆ null    ┆ [\"uncommo ┆ [\"XLN\"]   ┆ [-0.03933 │\n",
       "│ shment     ┆ 992b-4f76 ┆           ┆           ┆   ┆         ┆ n\"]       ┆           ┆ 3, -0.022 │\n",
       "│            ┆ -b8d1-cd6 ┆           ┆           ┆   ┆         ┆           ┆           ┆ 904, …    │\n",
       "│            ┆ 7f8…      ┆           ┆           ┆   ┆         ┆           ┆           ┆ 0.028…    │\n",
       "│ Smiting    ┆ 07c17401- ┆ {3}{B}    ┆ Sorcery   ┆ … ┆ null    ┆ [\"uncommo ┆ [\"MH1\",   ┆ [0.012835 │\n",
       "│ Helix      ┆ 6b4d-4280 ┆           ┆           ┆   ┆         ┆ n\"]       ┆ \"PLST\"]   ┆ , -0.0470 │\n",
       "│            ┆ -8962-46e ┆           ┆           ┆   ┆         ┆           ┆           ┆ 13, …     │\n",
       "│            ┆ 380…      ┆           ┆           ┆   ┆         ┆           ┆           ┆ 0.0028…   │\n",
       "│ Essence    ┆ 5f7d9c6a- ┆ {1}{B}{B} ┆ Instant   ┆ … ┆ null    ┆ [\"uncommo ┆ [\"PRM\",   ┆ [0.018243 │\n",
       "│ Extraction ┆ ddd9-4391 ┆           ┆           ┆   ┆         ┆ n\"]       ┆ \"PKLD\", … ┆ , -0.0253 │\n",
       "│            ┆ -b229-d9c ┆           ┆           ┆   ┆         ┆           ┆ \"KLR\"]    ┆ 28, …     │\n",
       "│            ┆ f20…      ┆           ┆           ┆   ┆         ┆           ┆           ┆ 0.0080…   │\n",
       "│ Agonizing  ┆ 83053171- ┆ {3}{B}    ┆ Sorcery   ┆ … ┆ null    ┆ [\"common\" ┆ [\"M20\",   ┆ [-0.00424 │\n",
       "│ Syphon     ┆ 6ee4-43ca ┆           ┆           ┆   ┆         ┆ ]         ┆ \"JMP\",    ┆ 5,        │\n",
       "│            ┆ -98a7-042 ┆           ┆           ┆   ┆         ┆           ┆ \"J25\"]    ┆ 0.011405, │\n",
       "│            ┆ 139…      ┆           ┆           ┆   ┆         ┆           ┆           ┆ … 0.0348… │\n",
       "│ Breath of  ┆ 0e855b4e- ┆ {3}{B}{R} ┆ Instant   ┆ … ┆ null    ┆ [\"common\" ┆ [\"ARB\",   ┆ [-0.03375 │\n",
       "│ Malfegor   ┆ 71c3-49b8 ┆           ┆           ┆   ┆         ┆ , \"rare\"] ┆ \"PIDW\",   ┆ 6, -0.008 │\n",
       "│            ┆ -acd5-e50 ┆           ┆           ┆   ┆         ┆           ┆ \"SCD\"]    ┆ 756, …    │\n",
       "│            ┆ 9b1…      ┆           ┆           ┆   ┆         ┆           ┆           ┆ -0.00…    │\n",
       "│ Infernal   ┆ f1168f11- ┆ {1}{B}    ┆ Instant   ┆ … ┆ null    ┆ [\"uncommo ┆ [\"MID\",   ┆ [-0.02801 │\n",
       "│ Grasp      ┆ 759d-4125 ┆           ┆           ┆   ┆         ┆ n\",       ┆ \"DBL\", …  ┆ 7, -0.015 │\n",
       "│            ┆ -800f-f18 ┆           ┆           ┆   ┆         ┆ \"rare\"]   ┆ \"INR\"]    ┆ 341, …    │\n",
       "│            ┆ 816…      ┆           ┆           ┆   ┆         ┆           ┆           ┆ 0.044…    │\n",
       "│ Lightning  ┆ 24a0860d- ┆ {3}{B}{R} ┆ Creature  ┆ … ┆ null    ┆ [\"rare\"]  ┆ [\"ARB\"]   ┆ [-0.02307 │\n",
       "│ Reaver     ┆ d3b9-4a00 ┆           ┆ — Zombie  ┆   ┆         ┆           ┆           ┆ ,         │\n",
       "│            ┆ -a8cb-617 ┆           ┆ Beast     ┆   ┆         ┆           ┆           ┆ 0.002059, │\n",
       "│            ┆ bc3…      ┆           ┆           ┆   ┆         ┆           ┆           ┆ …         │\n",
       "│            ┆           ┆           ┆           ┆   ┆         ┆           ┆           ┆ 0.01373…  │\n",
       "│ Crackling  ┆ a66e5673- ┆ {R}{W}{B} ┆ Instant   ┆ … ┆ null    ┆ [\"uncommo ┆ [\"PKTK\",  ┆ [-0.01459 │\n",
       "│ Doom       ┆ e34b-46e8 ┆           ┆           ┆   ┆         ┆ n\",       ┆ \"KTK\", …  ┆ 9,        │\n",
       "│            ┆ -a0e4-55f ┆           ┆           ┆   ┆         ┆ \"rare\"]   ┆ \"2X2\"]    ┆ 0.012536, │\n",
       "│            ┆ 3ee…      ┆           ┆           ┆   ┆         ┆           ┆           ┆ … 0.0213… │\n",
       "│ Essence    ┆ fe07e496- ┆ {1}{U}{B} ┆ Instant   ┆ … ┆ null    ┆ [\"uncommo ┆ [\"ICE\"]   ┆ [0.004594 │\n",
       "│ Vortex     ┆ 5070-4116 ┆           ┆           ┆   ┆         ┆ n\"]       ┆           ┆ , -0.0426 │\n",
       "│            ┆ -a91a-a3b ┆           ┆           ┆   ┆         ┆           ┆           ┆ 89, …     │\n",
       "│            ┆ be1…      ┆           ┆           ┆   ┆         ┆           ┆           ┆ 0.0375…   │\n",
       "│ Lightning  ┆ a801a5ce- ┆ {B}{R}{R} ┆ Creature  ┆ … ┆ null    ┆ [\"rare\"]  ┆ [\"MH1\",   ┆ [-0.00044 │\n",
       "│ Skelementa ┆ 0afe-4c4f ┆           ┆ —         ┆   ┆         ┆           ┆ \"PLST\"]   ┆ 9, -0.015 │\n",
       "│ l          ┆ -a22c-7ea ┆           ┆ Elemental ┆   ┆         ┆           ┆           ┆ 212, …    │\n",
       "│            ┆ bc4…      ┆           ┆ Skeleton  ┆   ┆         ┆           ┆           ┆ 0.022…    │\n",
       "└────────────┴───────────┴───────────┴───────────┴───┴─────────┴───────────┴───────────┴───────────┘"
      ]
     },
     "execution_count": 19,
     "metadata": {},
     "output_type": "execute_result"
    }
   ],
   "source": [
    "get_similar_cards_filtered(\"Lightning Helix\", mana=\"B\")"
   ]
  },
  {
   "cell_type": "code",
   "execution_count": 20,
   "metadata": {},
   "outputs": [
    {
     "name": "stdout",
     "output_type": "stream",
     "text": [
      "[0.749371   0.7492501  0.7466406  0.7445707  0.74126273 0.7390696\n",
      " 0.73856413 0.732928   0.73199743 0.73163146]\n"
     ]
    },
    {
     "data": {
      "text/html": [
       "<div><style>\n",
       ".dataframe > thead > tr,\n",
       ".dataframe > tbody > tr {\n",
       "  text-align: right;\n",
       "  white-space: pre-wrap;\n",
       "}\n",
       "</style>\n",
       "<small>shape: (10, 11)</small><table border=\"1\" class=\"dataframe\"><thead><tr><th>name</th><th>scryfallId</th><th>manaCost</th><th>type</th><th>text</th><th>power</th><th>toughness</th><th>loyalty</th><th>rarities</th><th>sets</th><th>embeds</th></tr><tr><td>str</td><td>str</td><td>str</td><td>str</td><td>str</td><td>str</td><td>str</td><td>str</td><td>list[enum]</td><td>list[enum]</td><td>array[f32, 768]</td></tr></thead><tbody><tr><td>&quot;Shizo, Death&#x27;s Storehouse&quot;</td><td>&quot;099352e2-38c8-4fb4-a25f-6d928a…</td><td>null</td><td>&quot;Legendary Land&quot;</td><td>&quot;{T}: Add {B}.\\n{B}, {T}: Targe…</td><td>null</td><td>null</td><td>null</td><td>[&quot;rare&quot;]</td><td>[&quot;CHK&quot;, &quot;PLST&quot;, &quot;DMC&quot;]</td><td>[-0.031308, -0.009883, … 0.017973]</td></tr><tr><td>&quot;Shivan Reef&quot;</td><td>&quot;2c6275ea-0565-436b-ab9a-ac17c4…</td><td>null</td><td>&quot;Land&quot;</td><td>&quot;{T}: Add {C}.\\n{T}: Add {U} or…</td><td>null</td><td>null</td><td>null</td><td>[&quot;rare&quot;]</td><td>[&quot;APC&quot;, &quot;WC01&quot;, … &quot;DRC&quot;]</td><td>[-0.00364, -0.020402, … -0.012417]</td></tr><tr><td>&quot;Caves of Koilos&quot;</td><td>&quot;18e5a0d3-d132-40e2-85ae-a1b743…</td><td>null</td><td>&quot;Land&quot;</td><td>&quot;{T}: Add {C}.\\n{T}: Add {W} or…</td><td>null</td><td>null</td><td>null</td><td>[&quot;rare&quot;]</td><td>[&quot;APC&quot;, &quot;PRM&quot;, … &quot;DRC&quot;]</td><td>[-0.022214, -0.016559, … 0.013854]</td></tr><tr><td>&quot;Fiery Islet&quot;</td><td>&quot;3e73be68-aec6-4033-9cdd-bc473d…</td><td>null</td><td>&quot;Land&quot;</td><td>&quot;{T}, Pay 1 life: Add {U} or {R…</td><td>null</td><td>null</td><td>null</td><td>[&quot;rare&quot;]</td><td>[&quot;MH1&quot;, &quot;HA7&quot;, … &quot;ACR&quot;]</td><td>[0.006971, -0.008117, … 0.000323]</td></tr><tr><td>&quot;Barbarian Ring&quot;</td><td>&quot;c184406c-b22c-4b9b-9d3a-3e7b17…</td><td>null</td><td>&quot;Land&quot;</td><td>&quot;{T}: Add {R}. ~ deals 1 damage…</td><td>null</td><td>null</td><td>null</td><td>[&quot;uncommon&quot;]</td><td>[&quot;ODY&quot;, &quot;PD2&quot;, … &quot;MH3&quot;]</td><td>[-0.014677, 0.010883, … -0.013449]</td></tr><tr><td>&quot;Shivan Gorge&quot;</td><td>&quot;c1752b65-dace-4c87-b102-23df27…</td><td>null</td><td>&quot;Legendary Land&quot;</td><td>&quot;{T}: Add {C}.\\n{2}{R}, {T}: ~ …</td><td>null</td><td>null</td><td>null</td><td>[&quot;rare&quot;, &quot;mythic&quot;]</td><td>[&quot;USG&quot;, &quot;V12&quot;, … &quot;DSC&quot;]</td><td>[-0.010656, 0.013589, … 0.00661]</td></tr><tr><td>&quot;Watery Grave&quot;</td><td>&quot;057dd01a-65f5-4cb1-995c-27d70b…</td><td>null</td><td>&quot;Land — Island Swamp&quot;</td><td>&quot;({T}: Add {U} or {B}.)\\nAs ~ e…</td><td>null</td><td>null</td><td>null</td><td>[&quot;rare&quot;, &quot;mythic&quot;]</td><td>[&quot;PRM&quot;, &quot;RAV&quot;, … &quot;CLU&quot;]</td><td>[-0.004426, 0.008291, … -0.009146]</td></tr><tr><td>&quot;Maze of Ith&quot;</td><td>&quot;7286bd95-0d8e-4b1a-b319-052fe2…</td><td>null</td><td>&quot;Land&quot;</td><td>&quot;{T}: Untap target attacking cr…</td><td>null</td><td>null</td><td>null</td><td>[&quot;uncommon&quot;, &quot;rare&quot;, &quot;mythic&quot;]</td><td>[&quot;DRK&quot;, &quot;PRM&quot;, … &quot;DMR&quot;]</td><td>[-0.003143, -0.016673, … 0.034564]</td></tr><tr><td>&quot;Blood Crypt&quot;</td><td>&quot;a01e1e92-feb3-4880-bcf3-9e1ac9…</td><td>null</td><td>&quot;Land — Swamp Mountain&quot;</td><td>&quot;({T}: Add {B} or {R}.)\\nAs ~ e…</td><td>null</td><td>null</td><td>null</td><td>[&quot;rare&quot;, &quot;mythic&quot;]</td><td>[&quot;PRM&quot;, &quot;DIS&quot;, … &quot;CLU&quot;]</td><td>[-0.024402, -0.001678, … -0.021981]</td></tr><tr><td>&quot;Tomb of the Spirit Dragon&quot;</td><td>&quot;c5c2da3e-5e82-4236-b866-93bec8…</td><td>null</td><td>&quot;Land&quot;</td><td>&quot;{T}: Add {C}.\\n{2}, {T}: You g…</td><td>null</td><td>null</td><td>null</td><td>[&quot;uncommon&quot;]</td><td>[&quot;KTK&quot;, &quot;CMM&quot;, &quot;M3C&quot;]</td><td>[0.001707, -0.022333, … -0.002092]</td></tr></tbody></table></div>"
      ],
      "text/plain": [
       "shape: (10, 11)\n",
       "┌────────────┬────────────┬──────────┬───────────┬───┬─────────┬───────────┬───────────┬───────────┐\n",
       "│ name       ┆ scryfallId ┆ manaCost ┆ type      ┆ … ┆ loyalty ┆ rarities  ┆ sets      ┆ embeds    │\n",
       "│ ---        ┆ ---        ┆ ---      ┆ ---       ┆   ┆ ---     ┆ ---       ┆ ---       ┆ ---       │\n",
       "│ str        ┆ str        ┆ str      ┆ str       ┆   ┆ str     ┆ list[enum ┆ list[enum ┆ array[f32 │\n",
       "│            ┆            ┆          ┆           ┆   ┆         ┆ ]         ┆ ]         ┆ , 768]    │\n",
       "╞════════════╪════════════╪══════════╪═══════════╪═══╪═════════╪═══════════╪═══════════╪═══════════╡\n",
       "│ Shizo,     ┆ 099352e2-3 ┆ null     ┆ Legendary ┆ … ┆ null    ┆ [\"rare\"]  ┆ [\"CHK\",   ┆ [-0.03130 │\n",
       "│ Death's    ┆ 8c8-4fb4-a ┆          ┆ Land      ┆   ┆         ┆           ┆ \"PLST\",   ┆ 8, -0.009 │\n",
       "│ Storehouse ┆ 25f-6d928a ┆          ┆           ┆   ┆         ┆           ┆ \"DMC\"]    ┆ 883, …    │\n",
       "│            ┆ …          ┆          ┆           ┆   ┆         ┆           ┆           ┆ 0.017…    │\n",
       "│ Shivan     ┆ 2c6275ea-0 ┆ null     ┆ Land      ┆ … ┆ null    ┆ [\"rare\"]  ┆ [\"APC\",   ┆ [-0.00364 │\n",
       "│ Reef       ┆ 565-436b-a ┆          ┆           ┆   ┆         ┆           ┆ \"WC01\", … ┆ , -0.0204 │\n",
       "│            ┆ b9a-ac17c4 ┆          ┆           ┆   ┆         ┆           ┆ \"DRC\"]    ┆ 02, …     │\n",
       "│            ┆ …          ┆          ┆           ┆   ┆         ┆           ┆           ┆ -0.012…   │\n",
       "│ Caves of   ┆ 18e5a0d3-d ┆ null     ┆ Land      ┆ … ┆ null    ┆ [\"rare\"]  ┆ [\"APC\",   ┆ [-0.02221 │\n",
       "│ Koilos     ┆ 132-40e2-8 ┆          ┆           ┆   ┆         ┆           ┆ \"PRM\", …  ┆ 4, -0.016 │\n",
       "│            ┆ 5ae-a1b743 ┆          ┆           ┆   ┆         ┆           ┆ \"DRC\"]    ┆ 559, …    │\n",
       "│            ┆ …          ┆          ┆           ┆   ┆         ┆           ┆           ┆ 0.013…    │\n",
       "│ Fiery      ┆ 3e73be68-a ┆ null     ┆ Land      ┆ … ┆ null    ┆ [\"rare\"]  ┆ [\"MH1\",   ┆ [0.006971 │\n",
       "│ Islet      ┆ ec6-4033-9 ┆          ┆           ┆   ┆         ┆           ┆ \"HA7\", …  ┆ , -0.0081 │\n",
       "│            ┆ cdd-bc473d ┆          ┆           ┆   ┆         ┆           ┆ \"ACR\"]    ┆ 17, …     │\n",
       "│            ┆ …          ┆          ┆           ┆   ┆         ┆           ┆           ┆ 0.0003…   │\n",
       "│ Barbarian  ┆ c184406c-b ┆ null     ┆ Land      ┆ … ┆ null    ┆ [\"uncommo ┆ [\"ODY\",   ┆ [-0.01467 │\n",
       "│ Ring       ┆ 22c-4b9b-9 ┆          ┆           ┆   ┆         ┆ n\"]       ┆ \"PD2\", …  ┆ 7,        │\n",
       "│            ┆ d3a-3e7b17 ┆          ┆           ┆   ┆         ┆           ┆ \"MH3\"]    ┆ 0.010883, │\n",
       "│            ┆ …          ┆          ┆           ┆   ┆         ┆           ┆           ┆ … -0.013… │\n",
       "│ Shivan     ┆ c1752b65-d ┆ null     ┆ Legendary ┆ … ┆ null    ┆ [\"rare\",  ┆ [\"USG\",   ┆ [-0.01065 │\n",
       "│ Gorge      ┆ ace-4c87-b ┆          ┆ Land      ┆   ┆         ┆ \"mythic\"] ┆ \"V12\", …  ┆ 6,        │\n",
       "│            ┆ 102-23df27 ┆          ┆           ┆   ┆         ┆           ┆ \"DSC\"]    ┆ 0.013589, │\n",
       "│            ┆ …          ┆          ┆           ┆   ┆         ┆           ┆           ┆ … 0.0066… │\n",
       "│ Watery     ┆ 057dd01a-6 ┆ null     ┆ Land —    ┆ … ┆ null    ┆ [\"rare\",  ┆ [\"PRM\",   ┆ [-0.00442 │\n",
       "│ Grave      ┆ 5f5-4cb1-9 ┆          ┆ Island    ┆   ┆         ┆ \"mythic\"] ┆ \"RAV\", …  ┆ 6,        │\n",
       "│            ┆ 95c-27d70b ┆          ┆ Swamp     ┆   ┆         ┆           ┆ \"CLU\"]    ┆ 0.008291, │\n",
       "│            ┆ …          ┆          ┆           ┆   ┆         ┆           ┆           ┆ … -0.009… │\n",
       "│ Maze of    ┆ 7286bd95-0 ┆ null     ┆ Land      ┆ … ┆ null    ┆ [\"uncommo ┆ [\"DRK\",   ┆ [-0.00314 │\n",
       "│ Ith        ┆ d8e-4b1a-b ┆          ┆           ┆   ┆         ┆ n\",       ┆ \"PRM\", …  ┆ 3, -0.016 │\n",
       "│            ┆ 319-052fe2 ┆          ┆           ┆   ┆         ┆ \"rare\",   ┆ \"DMR\"]    ┆ 673, …    │\n",
       "│            ┆ …          ┆          ┆           ┆   ┆         ┆ \"mythic\"] ┆           ┆ 0.034…    │\n",
       "│ Blood      ┆ a01e1e92-f ┆ null     ┆ Land —    ┆ … ┆ null    ┆ [\"rare\",  ┆ [\"PRM\",   ┆ [-0.02440 │\n",
       "│ Crypt      ┆ eb3-4880-b ┆          ┆ Swamp     ┆   ┆         ┆ \"mythic\"] ┆ \"DIS\", …  ┆ 2, -0.001 │\n",
       "│            ┆ cf3-9e1ac9 ┆          ┆ Mountain  ┆   ┆         ┆           ┆ \"CLU\"]    ┆ 678, …    │\n",
       "│            ┆ …          ┆          ┆           ┆   ┆         ┆           ┆           ┆ -0.02…    │\n",
       "│ Tomb of    ┆ c5c2da3e-5 ┆ null     ┆ Land      ┆ … ┆ null    ┆ [\"uncommo ┆ [\"KTK\",   ┆ [0.001707 │\n",
       "│ the Spirit ┆ e82-4236-b ┆          ┆           ┆   ┆         ┆ n\"]       ┆ \"CMM\",    ┆ , -0.0223 │\n",
       "│ Dragon     ┆ 866-93bec8 ┆          ┆           ┆   ┆         ┆           ┆ \"M3C\"]    ┆ 33, …     │\n",
       "│            ┆ …          ┆          ┆           ┆   ┆         ┆           ┆           ┆ -0.002…   │\n",
       "└────────────┴────────────┴──────────┴───────────┴───┴─────────┴───────────┴───────────┴───────────┘"
      ]
     },
     "execution_count": 20,
     "metadata": {},
     "output_type": "execute_result"
    }
   ],
   "source": [
    "get_similar_cards_filtered(\"Lightning Helix\", card_type=\"Land\")"
   ]
  },
  {
   "cell_type": "code",
   "execution_count": 21,
   "metadata": {},
   "outputs": [
    {
     "name": "stdout",
     "output_type": "stream",
     "text": [
      "[0.7731942  0.76424366 0.7594855  0.7561756  0.7558307  0.75517964\n",
      " 0.75463617 0.7528874  0.7509517  0.7487003 ]\n"
     ]
    },
    {
     "data": {
      "text/html": [
       "<div><style>\n",
       ".dataframe > thead > tr,\n",
       ".dataframe > tbody > tr {\n",
       "  text-align: right;\n",
       "  white-space: pre-wrap;\n",
       "}\n",
       "</style>\n",
       "<small>shape: (10, 11)</small><table border=\"1\" class=\"dataframe\"><thead><tr><th>name</th><th>scryfallId</th><th>manaCost</th><th>type</th><th>text</th><th>power</th><th>toughness</th><th>loyalty</th><th>rarities</th><th>sets</th><th>embeds</th></tr><tr><td>str</td><td>str</td><td>str</td><td>str</td><td>str</td><td>str</td><td>str</td><td>str</td><td>list[enum]</td><td>list[enum]</td><td>array[f32, 768]</td></tr></thead><tbody><tr><td>&quot;Brute Force&quot;</td><td>&quot;89db7256-3bd0-4c1d-9c6f-de81f7…</td><td>&quot;{R}&quot;</td><td>&quot;Instant&quot;</td><td>&quot;Target creature gets +3/+3 unt…</td><td>null</td><td>null</td><td>null</td><td>[&quot;common&quot;]</td><td>[&quot;PLC&quot;, &quot;MMA&quot;, … &quot;TSR&quot;]</td><td>[-0.010186, -0.020914, … 0.01633]</td></tr><tr><td>&quot;Impending Doom&quot;</td><td>&quot;b813e554-12ea-4675-bc90-f161f8…</td><td>&quot;{2}{R}&quot;</td><td>&quot;Enchantment — Aura&quot;</td><td>&quot;Enchant creature\\nEnchanted cr…</td><td>null</td><td>null</td><td>null</td><td>[&quot;uncommon&quot;]</td><td>[&quot;THB&quot;, &quot;J22&quot;]</td><td>[-0.005422, 0.009509, … 0.012314]</td></tr><tr><td>&quot;Gift of Strength&quot;</td><td>&quot;bc69887e-0b7b-4ffe-8f56-0b8486…</td><td>&quot;{1}{G}&quot;</td><td>&quot;Instant&quot;</td><td>&quot;Target creature gets +3/+3 and…</td><td>null</td><td>null</td><td>null</td><td>[&quot;common&quot;]</td><td>[&quot;HOU&quot;, &quot;RNA&quot;, … &quot;CLU&quot;]</td><td>[0.030787, -0.018986, … 0.029667]</td></tr><tr><td>&quot;Gift of Strands&quot;</td><td>&quot;8c54ee0c-1432-4f20-9a92-2cdfcb…</td><td>&quot;{3}{G}&quot;</td><td>&quot;Enchantment — Aura&quot;</td><td>&quot;Flash\\nEnchant creature\\nWhen …</td><td>null</td><td>null</td><td>null</td><td>[&quot;uncommon&quot;]</td><td>[&quot;LTR&quot;]</td><td>[0.060029, -0.016382, … 0.026604]</td></tr><tr><td>&quot;Darigaaz&#x27;s Charm&quot;</td><td>&quot;928af23d-1558-4d20-8841-554a32…</td><td>&quot;{B}{R}{G}&quot;</td><td>&quot;Instant&quot;</td><td>&quot;Choose one —\\n• Return target …</td><td>null</td><td>null</td><td>null</td><td>[&quot;uncommon&quot;]</td><td>[&quot;PLS&quot;, &quot;PSAL&quot;, &quot;DDE&quot;]</td><td>[-0.00783, -0.020194, … -0.004287]</td></tr><tr><td>&quot;Vexing Beetle&quot;</td><td>&quot;d599d35f-1b73-498b-9a21-831c90…</td><td>&quot;{4}{G}&quot;</td><td>&quot;Creature — Insect&quot;</td><td>&quot;This spell can&#x27;t be countered.…</td><td>&quot;3&quot;</td><td>&quot;3&quot;</td><td>null</td><td>[&quot;rare&quot;]</td><td>[&quot;LGN&quot;]</td><td>[0.004166, -0.038348, … 0.015377]</td></tr><tr><td>&quot;Immolation Shaman&quot;</td><td>&quot;45e668e5-ef50-43eb-852e-b11137…</td><td>&quot;{1}{R}&quot;</td><td>&quot;Creature — Lizard Shaman&quot;</td><td>&quot;Whenever an opponent activates…</td><td>&quot;1&quot;</td><td>&quot;3&quot;</td><td>null</td><td>[&quot;rare&quot;]</td><td>[&quot;PRNA&quot;, &quot;RNA&quot;]</td><td>[-0.01722, 0.010353, … 0.035466]</td></tr><tr><td>&quot;Simic Charm&quot;</td><td>&quot;0fc5df7c-6620-4a37-8869-e5d6bc…</td><td>&quot;{G}{U}&quot;</td><td>&quot;Instant&quot;</td><td>&quot;Choose one —\\n• Target creatur…</td><td>null</td><td>null</td><td>null</td><td>[&quot;uncommon&quot;]</td><td>[&quot;GTC&quot;, &quot;CMR&quot;, &quot;EA3&quot;]</td><td>[0.004205, -0.005333, … 0.023342]</td></tr><tr><td>&quot;Cylian Sunsinger&quot;</td><td>&quot;90665426-118e-4f0b-8222-1b5166…</td><td>&quot;{1}{G}&quot;</td><td>&quot;Creature — Elf Shaman&quot;</td><td>&quot;{R}{G}{W}: ~ and each other cr…</td><td>&quot;2&quot;</td><td>&quot;2&quot;</td><td>null</td><td>[&quot;rare&quot;]</td><td>[&quot;CON&quot;]</td><td>[-0.019531, 0.000746, … 0.045001]</td></tr><tr><td>&quot;Bounty of Might&quot;</td><td>&quot;e9a950d8-e6e2-42d6-83d7-a60c15…</td><td>&quot;{4}{G}{G}&quot;</td><td>&quot;Instant&quot;</td><td>&quot;Target creature gets +3/+3 unt…</td><td>null</td><td>null</td><td>null</td><td>[&quot;rare&quot;]</td><td>[&quot;PGRN&quot;, &quot;GRN&quot;]</td><td>[-0.025394, 0.00943, … -0.001606]</td></tr></tbody></table></div>"
      ],
      "text/plain": [
       "shape: (10, 11)\n",
       "┌────────────┬───────────┬───────────┬───────────┬───┬─────────┬───────────┬───────────┬───────────┐\n",
       "│ name       ┆ scryfallI ┆ manaCost  ┆ type      ┆ … ┆ loyalty ┆ rarities  ┆ sets      ┆ embeds    │\n",
       "│ ---        ┆ d         ┆ ---       ┆ ---       ┆   ┆ ---     ┆ ---       ┆ ---       ┆ ---       │\n",
       "│ str        ┆ ---       ┆ str       ┆ str       ┆   ┆ str     ┆ list[enum ┆ list[enum ┆ array[f32 │\n",
       "│            ┆ str       ┆           ┆           ┆   ┆         ┆ ]         ┆ ]         ┆ , 768]    │\n",
       "╞════════════╪═══════════╪═══════════╪═══════════╪═══╪═════════╪═══════════╪═══════════╪═══════════╡\n",
       "│ Brute      ┆ 89db7256- ┆ {R}       ┆ Instant   ┆ … ┆ null    ┆ [\"common\" ┆ [\"PLC\",   ┆ [-0.01018 │\n",
       "│ Force      ┆ 3bd0-4c1d ┆           ┆           ┆   ┆         ┆ ]         ┆ \"MMA\", …  ┆ 6, -0.020 │\n",
       "│            ┆ -9c6f-de8 ┆           ┆           ┆   ┆         ┆           ┆ \"TSR\"]    ┆ 914, …    │\n",
       "│            ┆ 1f7…      ┆           ┆           ┆   ┆         ┆           ┆           ┆ 0.016…    │\n",
       "│ Impending  ┆ b813e554- ┆ {2}{R}    ┆ Enchantme ┆ … ┆ null    ┆ [\"uncommo ┆ [\"THB\",   ┆ [-0.00542 │\n",
       "│ Doom       ┆ 12ea-4675 ┆           ┆ nt — Aura ┆   ┆         ┆ n\"]       ┆ \"J22\"]    ┆ 2,        │\n",
       "│            ┆ -bc90-f16 ┆           ┆           ┆   ┆         ┆           ┆           ┆ 0.009509, │\n",
       "│            ┆ 1f8…      ┆           ┆           ┆   ┆         ┆           ┆           ┆ … 0.0123… │\n",
       "│ Gift of    ┆ bc69887e- ┆ {1}{G}    ┆ Instant   ┆ … ┆ null    ┆ [\"common\" ┆ [\"HOU\",   ┆ [0.030787 │\n",
       "│ Strength   ┆ 0b7b-4ffe ┆           ┆           ┆   ┆         ┆ ]         ┆ \"RNA\", …  ┆ , -0.0189 │\n",
       "│            ┆ -8f56-0b8 ┆           ┆           ┆   ┆         ┆           ┆ \"CLU\"]    ┆ 86, …     │\n",
       "│            ┆ 486…      ┆           ┆           ┆   ┆         ┆           ┆           ┆ 0.0296…   │\n",
       "│ Gift of    ┆ 8c54ee0c- ┆ {3}{G}    ┆ Enchantme ┆ … ┆ null    ┆ [\"uncommo ┆ [\"LTR\"]   ┆ [0.060029 │\n",
       "│ Strands    ┆ 1432-4f20 ┆           ┆ nt — Aura ┆   ┆         ┆ n\"]       ┆           ┆ , -0.0163 │\n",
       "│            ┆ -9a92-2cd ┆           ┆           ┆   ┆         ┆           ┆           ┆ 82, …     │\n",
       "│            ┆ fcb…      ┆           ┆           ┆   ┆         ┆           ┆           ┆ 0.0266…   │\n",
       "│ Darigaaz's ┆ 928af23d- ┆ {B}{R}{G} ┆ Instant   ┆ … ┆ null    ┆ [\"uncommo ┆ [\"PLS\",   ┆ [-0.00783 │\n",
       "│ Charm      ┆ 1558-4d20 ┆           ┆           ┆   ┆         ┆ n\"]       ┆ \"PSAL\",   ┆ , -0.0201 │\n",
       "│            ┆ -8841-554 ┆           ┆           ┆   ┆         ┆           ┆ \"DDE\"]    ┆ 94, …     │\n",
       "│            ┆ a32…      ┆           ┆           ┆   ┆         ┆           ┆           ┆ -0.004…   │\n",
       "│ Vexing     ┆ d599d35f- ┆ {4}{G}    ┆ Creature  ┆ … ┆ null    ┆ [\"rare\"]  ┆ [\"LGN\"]   ┆ [0.004166 │\n",
       "│ Beetle     ┆ 1b73-498b ┆           ┆ — Insect  ┆   ┆         ┆           ┆           ┆ , -0.0383 │\n",
       "│            ┆ -9a21-831 ┆           ┆           ┆   ┆         ┆           ┆           ┆ 48, …     │\n",
       "│            ┆ c90…      ┆           ┆           ┆   ┆         ┆           ┆           ┆ 0.0153…   │\n",
       "│ Immolation ┆ 45e668e5- ┆ {1}{R}    ┆ Creature  ┆ … ┆ null    ┆ [\"rare\"]  ┆ [\"PRNA\",  ┆ [-0.01722 │\n",
       "│ Shaman     ┆ ef50-43eb ┆           ┆ — Lizard  ┆   ┆         ┆           ┆ \"RNA\"]    ┆ ,         │\n",
       "│            ┆ -852e-b11 ┆           ┆ Shaman    ┆   ┆         ┆           ┆           ┆ 0.010353, │\n",
       "│            ┆ 137…      ┆           ┆           ┆   ┆         ┆           ┆           ┆ …         │\n",
       "│            ┆           ┆           ┆           ┆   ┆         ┆           ┆           ┆ 0.03546…  │\n",
       "│ Simic      ┆ 0fc5df7c- ┆ {G}{U}    ┆ Instant   ┆ … ┆ null    ┆ [\"uncommo ┆ [\"GTC\",   ┆ [0.004205 │\n",
       "│ Charm      ┆ 6620-4a37 ┆           ┆           ┆   ┆         ┆ n\"]       ┆ \"CMR\",    ┆ , -0.0053 │\n",
       "│            ┆ -8869-e5d ┆           ┆           ┆   ┆         ┆           ┆ \"EA3\"]    ┆ 33, …     │\n",
       "│            ┆ 6bc…      ┆           ┆           ┆   ┆         ┆           ┆           ┆ 0.0233…   │\n",
       "│ Cylian     ┆ 90665426- ┆ {1}{G}    ┆ Creature  ┆ … ┆ null    ┆ [\"rare\"]  ┆ [\"CON\"]   ┆ [-0.01953 │\n",
       "│ Sunsinger  ┆ 118e-4f0b ┆           ┆ — Elf     ┆   ┆         ┆           ┆           ┆ 1,        │\n",
       "│            ┆ -8222-1b5 ┆           ┆ Shaman    ┆   ┆         ┆           ┆           ┆ 0.000746, │\n",
       "│            ┆ 166…      ┆           ┆           ┆   ┆         ┆           ┆           ┆ … 0.0450… │\n",
       "│ Bounty of  ┆ e9a950d8- ┆ {4}{G}{G} ┆ Instant   ┆ … ┆ null    ┆ [\"rare\"]  ┆ [\"PGRN\",  ┆ [-0.02539 │\n",
       "│ Might      ┆ e6e2-42d6 ┆           ┆           ┆   ┆         ┆           ┆ \"GRN\"]    ┆ 4,        │\n",
       "│            ┆ -83d7-a60 ┆           ┆           ┆   ┆         ┆           ┆           ┆ 0.00943,  │\n",
       "│            ┆ c15…      ┆           ┆           ┆   ┆         ┆           ┆           ┆ …         │\n",
       "│            ┆           ┆           ┆           ┆   ┆         ┆           ┆           ┆ -0.0016…  │\n",
       "└────────────┴───────────┴───────────┴───────────┴───┴─────────┴───────────┴───────────┴───────────┘"
      ]
     },
     "execution_count": 21,
     "metadata": {},
     "output_type": "execute_result"
    }
   ],
   "source": [
    "get_similar_cards_filtered(\"Lightning Helix\", text_partial=\"+3/+3\")"
   ]
  },
  {
   "cell_type": "code",
   "execution_count": 22,
   "metadata": {},
   "outputs": [
    {
     "name": "stdout",
     "output_type": "stream",
     "text": [
      "[0.7850811  0.7738705  0.7685689  0.7637581  0.7580379  0.7561756\n",
      " 0.75611585 0.7518228  0.75121355 0.75112206]\n"
     ]
    },
    {
     "data": {
      "text/html": [
       "<div><style>\n",
       ".dataframe > thead > tr,\n",
       ".dataframe > tbody > tr {\n",
       "  text-align: right;\n",
       "  white-space: pre-wrap;\n",
       "}\n",
       "</style>\n",
       "<small>shape: (10, 11)</small><table border=\"1\" class=\"dataframe\"><thead><tr><th>name</th><th>scryfallId</th><th>manaCost</th><th>type</th><th>text</th><th>power</th><th>toughness</th><th>loyalty</th><th>rarities</th><th>sets</th><th>embeds</th></tr><tr><td>str</td><td>str</td><td>str</td><td>str</td><td>str</td><td>str</td><td>str</td><td>str</td><td>list[enum]</td><td>list[enum]</td><td>array[f32, 768]</td></tr></thead><tbody><tr><td>&quot;Smite the Deathless&quot;</td><td>&quot;8b716fcc-c4cc-4987-be82-2897a9…</td><td>&quot;{1}{R}&quot;</td><td>&quot;Instant&quot;</td><td>&quot;~ deals 3 damage to target cre…</td><td>null</td><td>null</td><td>null</td><td>[&quot;common&quot;]</td><td>[&quot;LTR&quot;]</td><td>[-0.052479, -0.015551, … 0.024924]</td></tr><tr><td>&quot;Dreadful as the Storm&quot;</td><td>&quot;b6e0b4ff-85b5-485f-a78f-1a58bb…</td><td>&quot;{2}{U}&quot;</td><td>&quot;Instant&quot;</td><td>&quot;Target creature has base power…</td><td>null</td><td>null</td><td>null</td><td>[&quot;common&quot;]</td><td>[&quot;LTR&quot;]</td><td>[-0.010108, 0.02839, … 0.027234]</td></tr><tr><td>&quot;Shower of Arrows&quot;</td><td>&quot;92cd3884-18d1-4200-b28e-a52349…</td><td>&quot;{2}{G}&quot;</td><td>&quot;Instant&quot;</td><td>&quot;Destroy target artifact, encha…</td><td>null</td><td>null</td><td>null</td><td>[&quot;common&quot;]</td><td>[&quot;LTR&quot;]</td><td>[-0.021097, 0.034291, … 0.053874]</td></tr><tr><td>&quot;Slip On the Ring&quot;</td><td>&quot;2e20c2b8-ffe3-4d14-8588-f89719…</td><td>&quot;{1}{W}&quot;</td><td>&quot;Instant&quot;</td><td>&quot;Exile target creature you own,…</td><td>null</td><td>null</td><td>null</td><td>[&quot;common&quot;, &quot;rare&quot;]</td><td>[&quot;SLD&quot;, &quot;LTR&quot;]</td><td>[-0.00211, -0.005932, … 0.014977]</td></tr><tr><td>&quot;Hobbit&#x27;s Sting&quot;</td><td>&quot;d8876e00-80c9-4228-b5d2-032b61…</td><td>&quot;{1}{W}&quot;</td><td>&quot;Instant&quot;</td><td>&quot;~ deals X damage to target cre…</td><td>null</td><td>null</td><td>null</td><td>[&quot;common&quot;]</td><td>[&quot;LTR&quot;]</td><td>[-0.030572, -0.024745, … 0.025064]</td></tr><tr><td>&quot;Gift of Strands&quot;</td><td>&quot;8c54ee0c-1432-4f20-9a92-2cdfcb…</td><td>&quot;{3}{G}&quot;</td><td>&quot;Enchantment — Aura&quot;</td><td>&quot;Flash\\nEnchant creature\\nWhen …</td><td>null</td><td>null</td><td>null</td><td>[&quot;uncommon&quot;]</td><td>[&quot;LTR&quot;]</td><td>[0.060029, -0.016382, … 0.026604]</td></tr><tr><td>&quot;Friendly Rivalry&quot;</td><td>&quot;a0979d68-eb28-409a-b893-87d987…</td><td>&quot;{R}{G}&quot;</td><td>&quot;Instant&quot;</td><td>&quot;Target creature you control an…</td><td>null</td><td>null</td><td>null</td><td>[&quot;uncommon&quot;]</td><td>[&quot;LTR&quot;]</td><td>[-0.036317, 0.031148, … 0.008425]</td></tr><tr><td>&quot;Gollum&#x27;s Bite&quot;</td><td>&quot;65131fa4-b7cd-4ac3-8b43-d3428a…</td><td>&quot;{B}&quot;</td><td>&quot;Instant&quot;</td><td>&quot;Target creature gets -2/-2 unt…</td><td>null</td><td>null</td><td>null</td><td>[&quot;uncommon&quot;]</td><td>[&quot;LTR&quot;]</td><td>[-0.006323, -0.015826, … 0.006622]</td></tr><tr><td>&quot;Ranger&#x27;s Firebrand&quot;</td><td>&quot;e1a4e3e5-5d26-470b-94d2-885b57…</td><td>&quot;{R}&quot;</td><td>&quot;Sorcery&quot;</td><td>&quot;~ deals 2 damage to any target…</td><td>null</td><td>null</td><td>null</td><td>[&quot;uncommon&quot;]</td><td>[&quot;LTR&quot;]</td><td>[0.017652, 0.053055, … 0.025989]</td></tr><tr><td>&quot;Witch-king of Angmar&quot;</td><td>&quot;944f01f2-b736-42ff-a871-6b6e72…</td><td>&quot;{3}{B}{B}&quot;</td><td>&quot;Legendary Creature — Wraith No…</td><td>&quot;Flying\\nWhenever one or more c…</td><td>&quot;5&quot;</td><td>&quot;3&quot;</td><td>null</td><td>[&quot;mythic&quot;]</td><td>[&quot;PLTR&quot;, &quot;LTR&quot;]</td><td>[-0.006318, 0.02633, … 0.04249]</td></tr></tbody></table></div>"
      ],
      "text/plain": [
       "shape: (10, 11)\n",
       "┌────────────┬───────────┬───────────┬───────────┬───┬─────────┬───────────┬───────────┬───────────┐\n",
       "│ name       ┆ scryfallI ┆ manaCost  ┆ type      ┆ … ┆ loyalty ┆ rarities  ┆ sets      ┆ embeds    │\n",
       "│ ---        ┆ d         ┆ ---       ┆ ---       ┆   ┆ ---     ┆ ---       ┆ ---       ┆ ---       │\n",
       "│ str        ┆ ---       ┆ str       ┆ str       ┆   ┆ str     ┆ list[enum ┆ list[enum ┆ array[f32 │\n",
       "│            ┆ str       ┆           ┆           ┆   ┆         ┆ ]         ┆ ]         ┆ , 768]    │\n",
       "╞════════════╪═══════════╪═══════════╪═══════════╪═══╪═════════╪═══════════╪═══════════╪═══════════╡\n",
       "│ Smite the  ┆ 8b716fcc- ┆ {1}{R}    ┆ Instant   ┆ … ┆ null    ┆ [\"common\" ┆ [\"LTR\"]   ┆ [-0.05247 │\n",
       "│ Deathless  ┆ c4cc-4987 ┆           ┆           ┆   ┆         ┆ ]         ┆           ┆ 9, -0.015 │\n",
       "│            ┆ -be82-289 ┆           ┆           ┆   ┆         ┆           ┆           ┆ 551, …    │\n",
       "│            ┆ 7a9…      ┆           ┆           ┆   ┆         ┆           ┆           ┆ 0.024…    │\n",
       "│ Dreadful   ┆ b6e0b4ff- ┆ {2}{U}    ┆ Instant   ┆ … ┆ null    ┆ [\"common\" ┆ [\"LTR\"]   ┆ [-0.01010 │\n",
       "│ as the     ┆ 85b5-485f ┆           ┆           ┆   ┆         ┆ ]         ┆           ┆ 8,        │\n",
       "│ Storm      ┆ -a78f-1a5 ┆           ┆           ┆   ┆         ┆           ┆           ┆ 0.02839,  │\n",
       "│            ┆ 8bb…      ┆           ┆           ┆   ┆         ┆           ┆           ┆ …         │\n",
       "│            ┆           ┆           ┆           ┆   ┆         ┆           ┆           ┆ 0.02723…  │\n",
       "│ Shower of  ┆ 92cd3884- ┆ {2}{G}    ┆ Instant   ┆ … ┆ null    ┆ [\"common\" ┆ [\"LTR\"]   ┆ [-0.02109 │\n",
       "│ Arrows     ┆ 18d1-4200 ┆           ┆           ┆   ┆         ┆ ]         ┆           ┆ 7,        │\n",
       "│            ┆ -b28e-a52 ┆           ┆           ┆   ┆         ┆           ┆           ┆ 0.034291, │\n",
       "│            ┆ 349…      ┆           ┆           ┆   ┆         ┆           ┆           ┆ … 0.0538… │\n",
       "│ Slip On    ┆ 2e20c2b8- ┆ {1}{W}    ┆ Instant   ┆ … ┆ null    ┆ [\"common\" ┆ [\"SLD\",   ┆ [-0.00211 │\n",
       "│ the Ring   ┆ ffe3-4d14 ┆           ┆           ┆   ┆         ┆ , \"rare\"] ┆ \"LTR\"]    ┆ , -0.0059 │\n",
       "│            ┆ -8588-f89 ┆           ┆           ┆   ┆         ┆           ┆           ┆ 32, …     │\n",
       "│            ┆ 719…      ┆           ┆           ┆   ┆         ┆           ┆           ┆ 0.0149…   │\n",
       "│ Hobbit's   ┆ d8876e00- ┆ {1}{W}    ┆ Instant   ┆ … ┆ null    ┆ [\"common\" ┆ [\"LTR\"]   ┆ [-0.03057 │\n",
       "│ Sting      ┆ 80c9-4228 ┆           ┆           ┆   ┆         ┆ ]         ┆           ┆ 2, -0.024 │\n",
       "│            ┆ -b5d2-032 ┆           ┆           ┆   ┆         ┆           ┆           ┆ 745, …    │\n",
       "│            ┆ b61…      ┆           ┆           ┆   ┆         ┆           ┆           ┆ 0.025…    │\n",
       "│ Gift of    ┆ 8c54ee0c- ┆ {3}{G}    ┆ Enchantme ┆ … ┆ null    ┆ [\"uncommo ┆ [\"LTR\"]   ┆ [0.060029 │\n",
       "│ Strands    ┆ 1432-4f20 ┆           ┆ nt — Aura ┆   ┆         ┆ n\"]       ┆           ┆ , -0.0163 │\n",
       "│            ┆ -9a92-2cd ┆           ┆           ┆   ┆         ┆           ┆           ┆ 82, …     │\n",
       "│            ┆ fcb…      ┆           ┆           ┆   ┆         ┆           ┆           ┆ 0.0266…   │\n",
       "│ Friendly   ┆ a0979d68- ┆ {R}{G}    ┆ Instant   ┆ … ┆ null    ┆ [\"uncommo ┆ [\"LTR\"]   ┆ [-0.03631 │\n",
       "│ Rivalry    ┆ eb28-409a ┆           ┆           ┆   ┆         ┆ n\"]       ┆           ┆ 7,        │\n",
       "│            ┆ -b893-87d ┆           ┆           ┆   ┆         ┆           ┆           ┆ 0.031148, │\n",
       "│            ┆ 987…      ┆           ┆           ┆   ┆         ┆           ┆           ┆ … 0.0084… │\n",
       "│ Gollum's   ┆ 65131fa4- ┆ {B}       ┆ Instant   ┆ … ┆ null    ┆ [\"uncommo ┆ [\"LTR\"]   ┆ [-0.00632 │\n",
       "│ Bite       ┆ b7cd-4ac3 ┆           ┆           ┆   ┆         ┆ n\"]       ┆           ┆ 3, -0.015 │\n",
       "│            ┆ -8b43-d34 ┆           ┆           ┆   ┆         ┆           ┆           ┆ 826, …    │\n",
       "│            ┆ 28a…      ┆           ┆           ┆   ┆         ┆           ┆           ┆ 0.006…    │\n",
       "│ Ranger's   ┆ e1a4e3e5- ┆ {R}       ┆ Sorcery   ┆ … ┆ null    ┆ [\"uncommo ┆ [\"LTR\"]   ┆ [0.017652 │\n",
       "│ Firebrand  ┆ 5d26-470b ┆           ┆           ┆   ┆         ┆ n\"]       ┆           ┆ ,         │\n",
       "│            ┆ -94d2-885 ┆           ┆           ┆   ┆         ┆           ┆           ┆ 0.053055, │\n",
       "│            ┆ b57…      ┆           ┆           ┆   ┆         ┆           ┆           ┆ …         │\n",
       "│            ┆           ┆           ┆           ┆   ┆         ┆           ┆           ┆ 0.02598…  │\n",
       "│ Witch-king ┆ 944f01f2- ┆ {3}{B}{B} ┆ Legendary ┆ … ┆ null    ┆ [\"mythic\" ┆ [\"PLTR\",  ┆ [-0.00631 │\n",
       "│ of Angmar  ┆ b736-42ff ┆           ┆ Creature  ┆   ┆         ┆ ]         ┆ \"LTR\"]    ┆ 8,        │\n",
       "│            ┆ -a871-6b6 ┆           ┆ — Wraith  ┆   ┆         ┆           ┆           ┆ 0.02633,  │\n",
       "│            ┆ e72…      ┆           ┆ No…       ┆   ┆         ┆           ┆           ┆ …         │\n",
       "│            ┆           ┆           ┆           ┆   ┆         ┆           ┆           ┆ 0.04249…  │\n",
       "└────────────┴───────────┴───────────┴───────────┴───┴─────────┴───────────┴───────────┴───────────┘"
      ]
     },
     "execution_count": 22,
     "metadata": {},
     "output_type": "execute_result"
    }
   ],
   "source": [
    "get_similar_cards_filtered(\"Lightning Helix\", set_card=\"LTR\")"
   ]
  }
 ],
 "metadata": {
  "kernelspec": {
   "display_name": ".venv",
   "language": "python",
   "name": "python3"
  },
  "language_info": {
   "codemirror_mode": {
    "name": "ipython",
    "version": 3
   },
   "file_extension": ".py",
   "mimetype": "text/x-python",
   "name": "python",
   "nbconvert_exporter": "python",
   "pygments_lexer": "ipython3",
   "version": "3.13.1"
  }
 },
 "nbformat": 4,
 "nbformat_minor": 2
}
